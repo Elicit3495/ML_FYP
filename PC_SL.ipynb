{
 "cells": [
  {
   "cell_type": "code",
   "execution_count": 1,
   "id": "3772102d",
   "metadata": {},
   "outputs": [],
   "source": [
    "import numpy as np\n",
    "import pandas as pd\n",
    "import matplotlib.pyplot as plt \n",
    "from PC_SL import *"
   ]
  },
  {
   "cell_type": "code",
   "execution_count": null,
   "id": "c96bc37a",
   "metadata": {},
   "outputs": [],
   "source": [
    "df_asia = csv_format_discrete(r\"C:\\Users\\User\\Documents\\GitHub\\ML_FYP\\dataset\\asia_10000.dat\")\n",
    "df_child = csv_format_discrete(r\"C:\\Users\\User\\Documents\\GitHub\\ML_FYP\\dataset\\child.dat\")\n",
    "df_insurance = csv_format_discrete(r\"C:\\Users\\User\\Documents\\GitHub\\ML_FYP\\dataset\\insurance.dat\")\n",
    "df_water = csv_format_discrete(r\"C:\\Users\\User\\Documents\\GitHub\\ML_FYP\\dataset\\Water_1000.dat\")\n",
    "df_alarm = csv_format_discrete(r\"C:\\Users\\User\\Documents\\GitHub\\ML_FYP\\dataset\\alarm_10000.dat\")\n",
    "df_barley = csv_format_discrete(r\"C:\\Users\\User\\Documents\\GitHub\\ML_FYP\\dataset\\barley.dat\")\n",
    "df_hailfinder = csv_format_discrete(r\"C:\\Users\\User\\Documents\\GitHub\\ML_FYP\\dataset\\hailfinder.dat\")\n",
    "df_hepar2 = csv_format_discrete(r\"C:\\Users\\User\\Documents\\GitHub\\ML_FYP\\dataset\\hepar2.dat\")\n",
    "df_andes = csv_format_discrete(r\"C:\\Users\\User\\Documents\\GitHub\\ML_FYP\\dataset\\andes.dat\")\n",
    "df_link = csv_format_discrete(r\"C:\\Users\\User\\Documents\\GitHub\\ML_FYP\\dataset\\link.dat\")\n",
    "df_pathfinder = csv_format_discrete(r\"C:\\Users\\User\\Documents\\GitHub\\ML_FYP\\dataset\\pathfinder.dat\")\n",
    "df_munin2 = csv_format_discrete(r\"C:\\Users\\User\\Documents\\GitHub\\ML_FYP\\dataset\\munin2.dat\")"
   ]
  },
  {
   "cell_type": "code",
   "execution_count": 2,
   "id": "4f1388ae",
   "metadata": {},
   "outputs": [],
   "source": [
    "df_test = csv_format_discrete(r'barley_testing.dat')"
   ]
  },
  {
   "cell_type": "code",
   "execution_count": 13,
   "id": "466a41e5",
   "metadata": {},
   "outputs": [
    {
     "name": "stdout",
     "output_type": "stream",
     "text": [
      "the number of restricted edges is : 946\n",
      "the time taken to restrict edges is 145.5769522190094 seconds\n",
      "CPU times: total: 2min 24s\n",
      "Wall time: 2min 25s\n"
     ]
    }
   ],
   "source": [
    "%%time\n",
    "'''\n",
    "restrict phase\n",
    "'''\n",
    "toc = time.time()\n",
    "k = PC_SL(df_test, 1, 0.05)\n",
    "tic = time.time()\n",
    "print('the time taken to restrict edges is', tic - toc, 'seconds')"
   ]
  },
  {
   "cell_type": "code",
   "execution_count": null,
   "id": "6f265402",
   "metadata": {},
   "outputs": [
    {
     "name": "stdout",
     "output_type": "stream",
     "text": [
      "Set parameter PreCrush to value 1\n",
      "Set parameter CutPasses to value 100000\n",
      "Set parameter GomoryPasses to value 100000\n",
      "Set parameter MIPFocus to value 2\n",
      "Set parameter ZeroHalfCuts to value 2\n",
      "Set parameter MIPGap to value 0\n",
      "Set parameter MIPGapAbs to value 0\n"
     ]
    }
   ],
   "source": [
    "%%time\n",
    "tic = time.time()\n",
    "'''\n",
    "score phase\n",
    "'''\n",
    "m = Gobnilp()\n",
    "for i in k:\n",
    "    m.add_forbidden_adjacency((i[0], i[1]))\n",
    "                              \n",
    "m.learn(r\"C:\\Users\\User\\Documents\\GitHub\\ML_FYP\\barley_testing.dat\", palim=4)\n",
    "\n",
    "# m.learn(r\"C:\\Users\\User\\Documents\\GitHub\\ML_FYP\\dataset\\link_testing.csv\")\n",
    "toc = time.time()\n",
    "print('the time taken to learn the graph', toc - tic, 'seconds')\n",
    "print('The F-score is ', F_score(m))"
   ]
  },
  {
   "cell_type": "code",
   "execution_count": 11,
   "id": "7380a662",
   "metadata": {},
   "outputs": [
    {
     "name": "stdout",
     "output_type": "stream",
     "text": [
      "Set parameter PreCrush to value 1\n",
      "Set parameter CutPasses to value 100000\n",
      "Set parameter GomoryPasses to value 100000\n",
      "Set parameter MIPFocus to value 2\n",
      "Set parameter ZeroHalfCuts to value 2\n",
      "Set parameter MIPGap to value 0\n",
      "Set parameter MIPGapAbs to value 0\n"
     ]
    },
    {
     "ename": "TypeError",
     "evalue": "cannot unpack non-iterable NoneType object",
     "output_type": "error",
     "traceback": [
      "\u001b[1;31m---------------------------------------------------------------------------\u001b[0m",
      "\u001b[1;31mKeyError\u001b[0m                                  Traceback (most recent call last)",
      "File \u001b[1;32m~\\anaconda3\\lib\\site-packages\\pygobnilp\\scoring.py:1104\u001b[0m, in \u001b[0;36mBDeu.bdeu_score\u001b[1;34m(self, child, parents)\u001b[0m\n\u001b[0;32m   1103\u001b[0m \u001b[38;5;28;01mtry\u001b[39;00m:\n\u001b[1;32m-> 1104\u001b[0m     family_score, non_zero_count \u001b[38;5;241m=\u001b[39m \u001b[38;5;28;43mself\u001b[39;49m\u001b[38;5;241;43m.\u001b[39;49m\u001b[43m_cache\u001b[49m\u001b[43m[\u001b[49m\u001b[43mfamily_set\u001b[49m\u001b[43m]\u001b[49m\n\u001b[0;32m   1105\u001b[0m \u001b[38;5;28;01mexcept\u001b[39;00m \u001b[38;5;167;01mKeyError\u001b[39;00m:\n",
      "\u001b[1;31mKeyError\u001b[0m: frozenset({'Fortytwo', 'Fortyseven', 'Eight', 'Five', 'Twenty'})",
      "\nDuring handling of the above exception, another exception occurred:\n",
      "\u001b[1;31mTypeError\u001b[0m                                 Traceback (most recent call last)",
      "File \u001b[1;32m<timed exec>:8\u001b[0m\n",
      "File \u001b[1;32m~\\anaconda3\\lib\\site-packages\\pygobnilp\\gobnilp.py:3473\u001b[0m, in \u001b[0;36mGobnilp.learn\u001b[1;34m(self, data_source, varnames, header, comments, delimiter, start, end, data_type, score, local_score_fun, k, ls, standardise, arities, palim, alpha, nu, alpha_mu, alpha_omega, starts, local_scores_source, nsols, kbest, mec, consfile, settingsfile, pruning, edge_penalty, plot, abbrev, output_scores, output_stem, output_dag, output_cpdag, output_ext, verbose, gurobi_output, **params)\u001b[0m\n\u001b[0;32m   3470\u001b[0m         local_score_fun \u001b[38;5;241m=\u001b[39m local_score_edge\n\u001b[0;32m   3472\u001b[0m     \u001b[38;5;28mself\u001b[39m\u001b[38;5;241m.\u001b[39mset_starts(starts) \u001b[38;5;66;03m#store any initial feasible solutions now so that relevant scores are computed\u001b[39;00m\n\u001b[1;32m-> 3473\u001b[0m     local_scores \u001b[38;5;241m=\u001b[39m \u001b[38;5;28;43mself\u001b[39;49m\u001b[38;5;241;43m.\u001b[39;49m\u001b[43mreturn_local_scores\u001b[49m\u001b[43m(\u001b[49m\u001b[43mlocal_score_fun\u001b[49m\u001b[43m,\u001b[49m\u001b[43mpalim\u001b[49m\u001b[38;5;241;43m=\u001b[39;49m\u001b[43mpalim\u001b[49m\u001b[43m,\u001b[49m\u001b[43mpruning\u001b[49m\u001b[38;5;241;43m=\u001b[39;49m\u001b[43mpruning\u001b[49m\u001b[43m)\u001b[49m\n\u001b[0;32m   3475\u001b[0m \u001b[38;5;66;03m# ... or read them in\u001b[39;00m\n\u001b[0;32m   3476\u001b[0m \u001b[38;5;28;01melse\u001b[39;00m:\n\u001b[0;32m   3477\u001b[0m     \u001b[38;5;28;01mif\u001b[39;00m \u001b[38;5;28mtype\u001b[39m(local_scores_source) \u001b[38;5;241m==\u001b[39m \u001b[38;5;28mdict\u001b[39m:\n",
      "File \u001b[1;32m~\\anaconda3\\lib\\site-packages\\pygobnilp\\gobnilp.py:1562\u001b[0m, in \u001b[0;36mGobnilp.return_local_scores\u001b[1;34m(self, local_score_fun, palim, pruning)\u001b[0m\n\u001b[0;32m   1559\u001b[0m     palim \u001b[38;5;241m=\u001b[39m \u001b[38;5;28mmin\u001b[39m(palim,p\u001b[38;5;241m-\u001b[39m\u001b[38;5;241m1\u001b[39m)\n\u001b[0;32m   1561\u001b[0m \u001b[38;5;28;01mif\u001b[39;00m pruning:\n\u001b[1;32m-> 1562\u001b[0m     skores \u001b[38;5;241m=\u001b[39m  \u001b[38;5;28;43mself\u001b[39;49m\u001b[38;5;241;43m.\u001b[39;49m\u001b[43m_return_pruned_local_scores\u001b[49m\u001b[43m(\u001b[49m\u001b[43mlocal_score_fun\u001b[49m\u001b[43m,\u001b[49m\u001b[43mpalim\u001b[49m\u001b[43m)\u001b[49m\n\u001b[0;32m   1563\u001b[0m \u001b[38;5;28;01melse\u001b[39;00m:\n\u001b[0;32m   1564\u001b[0m     skores \u001b[38;5;241m=\u001b[39m  \u001b[38;5;28mself\u001b[39m\u001b[38;5;241m.\u001b[39m_return_unpruned_local_scores(local_score_fun,palim)\n",
      "File \u001b[1;32m~\\anaconda3\\lib\\site-packages\\pygobnilp\\gobnilp.py:1464\u001b[0m, in \u001b[0;36mGobnilp._return_pruned_local_scores\u001b[1;34m(self, local_score, palim)\u001b[0m\n\u001b[0;32m   1460\u001b[0m     \u001b[38;5;28;01mcontinue\u001b[39;00m\n\u001b[0;32m   1462\u001b[0m \u001b[38;5;66;03m# get local score and upper bound on any superset formed by adding\u001b[39;00m\n\u001b[0;32m   1463\u001b[0m \u001b[38;5;66;03m# BN variables coming after parents in bn_variables\u001b[39;00m\n\u001b[1;32m-> 1464\u001b[0m score, ub \u001b[38;5;241m=\u001b[39m \u001b[43mthis_local_score\u001b[49m\u001b[43m(\u001b[49m\u001b[43mchild\u001b[49m\u001b[43m,\u001b[49m\u001b[43mparents\u001b[49m\u001b[43m)\u001b[49m\n\u001b[0;32m   1465\u001b[0m scores_computed \u001b[38;5;241m+\u001b[39m\u001b[38;5;241m=\u001b[39m \u001b[38;5;241m1\u001b[39m\n\u001b[0;32m   1467\u001b[0m \u001b[38;5;66;03m# if this parent set has a score exceeding that of any subsets then (and only then)\u001b[39;00m\n\u001b[0;32m   1468\u001b[0m \u001b[38;5;66;03m# is the score worth keeping\u001b[39;00m\n",
      "File \u001b[1;32m~\\anaconda3\\lib\\site-packages\\pygobnilp\\scoring.py:1106\u001b[0m, in \u001b[0;36mBDeu.bdeu_score\u001b[1;34m(self, child, parents)\u001b[0m\n\u001b[0;32m   1104\u001b[0m     family_score, non_zero_count \u001b[38;5;241m=\u001b[39m \u001b[38;5;28mself\u001b[39m\u001b[38;5;241m.\u001b[39m_cache[family_set]\n\u001b[0;32m   1105\u001b[0m \u001b[38;5;28;01mexcept\u001b[39;00m \u001b[38;5;167;01mKeyError\u001b[39;00m:\n\u001b[1;32m-> 1106\u001b[0m     family_score, non_zero_count \u001b[38;5;241m=\u001b[39m \u001b[38;5;28mself\u001b[39m\u001b[38;5;241m.\u001b[39mbdeu_score_component((child,)\u001b[38;5;241m+\u001b[39mparents)\n\u001b[0;32m   1107\u001b[0m     \u001b[38;5;28mself\u001b[39m\u001b[38;5;241m.\u001b[39m_cache[family_set] \u001b[38;5;241m=\u001b[39m family_score, non_zero_count\n\u001b[0;32m   1109\u001b[0m simple_ub \u001b[38;5;241m=\u001b[39m \u001b[38;5;241m-\u001b[39mlog(\u001b[38;5;28mself\u001b[39m\u001b[38;5;241m.\u001b[39marity(child)) \u001b[38;5;241m*\u001b[39m non_zero_count\n",
      "\u001b[1;31mTypeError\u001b[0m: cannot unpack non-iterable NoneType object"
     ]
    }
   ],
   "source": [
    "%%time\n",
    "toc = time.time()\n",
    "\n",
    "'''\n",
    "score-based algorithm\n",
    "'''\n",
    "T = Gobnilp()\n",
    "#score phase##\n",
    "T.learn(r'barley_testing.dat', palim=4)\n",
    "tic = time.time()\n",
    "print('the time taken to learn the network is:', tic - toc, 'seconds')\n",
    "#started at 3:45"
   ]
  },
  {
   "cell_type": "code",
   "execution_count": 6,
   "id": "3af9c158",
   "metadata": {},
   "outputs": [],
   "source": [
    "def F_score(u):\n",
    "    #j_0#\n",
    "    '''\n",
    "    u = hybrid graph\n",
    "    v = real graph\n",
    "    '''\n",
    "    u_frozenset = []\n",
    "    for i in u.adjacency.items():\n",
    "        if i[1].X >= 1:\n",
    "            u_frozenset.append(i[0])\n",
    "    hybrid = [list(x) for x in u_frozenset]\n",
    "    ##\n",
    "    \n",
    "    T_frozenset = []\n",
    "    for i in T.adjacency.items():\n",
    "        if i[1].X >= 1:\n",
    "            T_frozenset.append(i[0])\n",
    "    real = [list(x) for x in T_frozenset]\n",
    "    \n",
    "    #Finding TP, FP, FN#\n",
    "    TP = [x for x in hybrid if x in (y for y in real)]\n",
    "    FP = [x for x in hybrid if x not in (y for y in real)]\n",
    "    FN = [x for x in real if x not in (y for y in hybrid)]\n",
    "    \n",
    "    # F_score#\n",
    "    F_score = (2 * len(TP)) / (2 * len(TP) + len(FP) + len(FN))\n",
    "    print('False Positive = ' ,FP)\n",
    "    print('False Negative = ' ,FN)\n",
    "    return F_score"
   ]
  },
  {
   "cell_type": "code",
   "execution_count": 9,
   "id": "09d97be6",
   "metadata": {},
   "outputs": [
    {
     "name": "stdout",
     "output_type": "stream",
     "text": [
      "False Positive =  [['Fourteen', 'Eight'], ['Twentyfive', 'Eight'], ['Sixteen', 'Fifteen'], ['Twentyfour', 'Fifteen'], ['Thirtysix', 'Forty'], ['Thirtynine', 'Fortyfive'], ['Thirtyfive', 'Fortyfour'], ['Sixteen', 'Fortyone'], ['Fortysix', 'Fortyseven'], ['Thirtyeight', 'Fortyseven'], ['Thirtyeight', 'Fortysix'], ['Thirtysix', 'Fortysix'], ['Twentyfive', 'Fortytwo'], ['Thirteen', 'Nine'], ['Thirtyfive', 'Nineteen'], ['Thirtysix', 'Nineteen'], ['Ten', 'Six'], ['Twelve', 'Six'], ['Thirtyeight', 'Thirtyfive'], ['Twentyfive', 'Twentythree']]\n",
      "False Negative =  [['Fortythree', 'Nine'], ['Fortythree', 'Thirtytwo'], ['Thirtyfive', 'Seventeen']]\n"
     ]
    },
    {
     "data": {
      "text/plain": [
       "0.7889908256880734"
      ]
     },
     "execution_count": 9,
     "metadata": {},
     "output_type": "execute_result"
    }
   ],
   "source": [
    "F_score(m)"
   ]
  },
  {
   "cell_type": "code",
   "execution_count": null,
   "id": "2ea88f2e",
   "metadata": {},
   "outputs": [],
   "source": []
  }
 ],
 "metadata": {
  "kernelspec": {
   "display_name": "Python 3 (ipykernel)",
   "language": "python",
   "name": "python3"
  },
  "language_info": {
   "codemirror_mode": {
    "name": "ipython",
    "version": 3
   },
   "file_extension": ".py",
   "mimetype": "text/x-python",
   "name": "python",
   "nbconvert_exporter": "python",
   "pygments_lexer": "ipython3",
   "version": "3.8.8"
  }
 },
 "nbformat": 4,
 "nbformat_minor": 5
}
