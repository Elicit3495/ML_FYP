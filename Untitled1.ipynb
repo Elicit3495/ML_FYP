{
 "cells": [
  {
   "cell_type": "code",
   "execution_count": 27,
   "id": "6de7f666",
   "metadata": {},
   "outputs": [],
   "source": [
    "from conditional import chi_square_CI\n",
    "from conditional import csv_format_discrete"
   ]
  },
  {
   "cell_type": "code",
   "execution_count": 31,
   "id": "020a4666",
   "metadata": {},
   "outputs": [],
   "source": [
    "df = csv_format_discrete(r'C:\\Users\\User\\Documents\\GitHub\\ML_FYP\\dataset\\discrete.dat')"
   ]
  },
  {
   "cell_type": "code",
   "execution_count": 32,
   "id": "6d8dabd9",
   "metadata": {},
   "outputs": [
    {
     "data": {
      "text/plain": [
       "[[0, [('A', 'B'), (2208.197054358983, 0.0, 4)]],\n",
       " [1, [('A', 'C'), (1.310622172744716, 0.8595707625814706, 4)]],\n",
       " [2, [('A', 'D'), (2346.899219222241, 0.0, 4)]],\n",
       " [3, [('A', 'E'), (452.5023204514049, 1.2499012401015006e-96, 4)]],\n",
       " [4, [('A', 'F'), (1.3007747794162707, 0.5218435807667757, 2)]],\n",
       " [5, [('B', 'C'), (6.791865342742407, 0.14730456706043082, 4)]],\n",
       " [6, [('B', 'D'), (497.86489263384703, 1.9401478995692028e-106, 4)]],\n",
       " [7, [('B', 'E'), (1173.198799923187, 1.0284871087858734e-252, 4)]],\n",
       " [8, [('B', 'F'), (3.6702683192119543, 0.15959208951997367, 2)]],\n",
       " [9, [('C', 'D'), (58.74386254047826, 5.3260438156612714e-12, 4)]],\n",
       " [10, [('C', 'E'), (3.510638287409232, 0.47626261429954286, 4)]],\n",
       " [11, [('C', 'F'), (1.98312025893184, 0.37099743525202333, 2)]],\n",
       " [12, [('D', 'E'), (87.69885357931987, 4.0568860316351676e-18, 4)]],\n",
       " [13, [('D', 'F'), (0.2334788415377772, 0.8898170307937778, 2)]],\n",
       " [14, [('E', 'F'), (856.5782039960885, 9.917594399537517e-187, 2)]]]"
      ]
     },
     "execution_count": 32,
     "metadata": {},
     "output_type": "execute_result"
    }
   ],
   "source": [
    "chi_square_CI(df)"
   ]
  },
  {
   "cell_type": "code",
   "execution_count": 26,
   "id": "92ab0ca1",
   "metadata": {},
   "outputs": [],
   "source": [
    "#constraint based algorithms - PC , GS, Inter-IAMB"
   ]
  },
  {
   "cell_type": "code",
   "execution_count": null,
   "id": "c2b2f302",
   "metadata": {},
   "outputs": [],
   "source": []
  }
 ],
 "metadata": {
  "kernelspec": {
   "display_name": "Python 3 (ipykernel)",
   "language": "python",
   "name": "python3"
  },
  "language_info": {
   "codemirror_mode": {
    "name": "ipython",
    "version": 3
   },
   "file_extension": ".py",
   "mimetype": "text/x-python",
   "name": "python",
   "nbconvert_exporter": "python",
   "pygments_lexer": "ipython3",
   "version": "3.8.8"
  }
 },
 "nbformat": 4,
 "nbformat_minor": 5
}
