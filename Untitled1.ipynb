{
 "cells": [
  {
   "cell_type": "code",
<<<<<<< HEAD
<<<<<<< HEAD
   "execution_count": null,
   "id": "0c6898d2",
=======
=======
>>>>>>> parent of 9e59f29 (a)
   "execution_count": 28,
   "id": "6de7f666",
   "metadata": {},
   "outputs": [],
   "source": [
    "from conditional import chi_square_CI\n",
    "from conditional import csv_format_discrete\n",
    "import pandas as pd"
   ]
  },
  {
   "cell_type": "code",
   "execution_count": 29,
   "id": "020a4666",
   "metadata": {},
   "outputs": [],
   "source": [
    "df = csv_format_discrete(r'C:\\Users\\User\\Documents\\GitHub\\ML_FYP\\dataset\\test_2.dat')"
   ]
  },
  {
   "cell_type": "code",
   "execution_count": 30,
   "id": "9167f452",
   "metadata": {},
   "outputs": [
    {
     "data": {
      "text/html": [
       "<div>\n",
       "<style scoped>\n",
       "    .dataframe tbody tr th:only-of-type {\n",
       "        vertical-align: middle;\n",
       "    }\n",
       "\n",
       "    .dataframe tbody tr th {\n",
       "        vertical-align: top;\n",
       "    }\n",
       "\n",
       "    .dataframe thead th {\n",
       "        text-align: right;\n",
       "    }\n",
       "</style>\n",
       "<table border=\"1\" class=\"dataframe\">\n",
       "  <thead>\n",
       "    <tr style=\"text-align: right;\">\n",
       "      <th></th>\n",
       "      <th>0</th>\n",
       "      <th>1</th>\n",
       "      <th>2</th>\n",
       "    </tr>\n",
       "  </thead>\n",
       "  <tbody>\n",
       "    <tr>\n",
       "      <th>1</th>\n",
       "      <td>MALE</td>\n",
       "      <td>180</td>\n",
       "      <td>1.80</td>\n",
       "    </tr>\n",
       "    <tr>\n",
       "      <th>2</th>\n",
       "      <td>MALE</td>\n",
       "      <td>192</td>\n",
       "      <td>1.92</td>\n",
       "    </tr>\n",
       "    <tr>\n",
       "      <th>3</th>\n",
       "      <td>MALE</td>\n",
       "      <td>150</td>\n",
       "      <td>1.50</td>\n",
       "    </tr>\n",
       "    <tr>\n",
       "      <th>4</th>\n",
       "      <td>MALE</td>\n",
       "      <td>176</td>\n",
       "      <td>1.76</td>\n",
       "    </tr>\n",
       "    <tr>\n",
       "      <th>5</th>\n",
       "      <td>MALE</td>\n",
       "      <td>169</td>\n",
       "      <td>1.69</td>\n",
       "    </tr>\n",
       "    <tr>\n",
       "      <th>6</th>\n",
       "      <td>MALE</td>\n",
       "      <td>168</td>\n",
       "      <td>1.68</td>\n",
       "    </tr>\n",
       "    <tr>\n",
       "      <th>7</th>\n",
       "      <td>MALE</td>\n",
       "      <td>170</td>\n",
       "      <td>1.70</td>\n",
       "    </tr>\n",
       "  </tbody>\n",
       "</table>\n",
       "</div>"
      ],
      "text/plain": [
       "      0    1     2\n",
       "1  MALE  180  1.80\n",
       "2  MALE  192  1.92\n",
       "3  MALE  150  1.50\n",
       "4  MALE  176  1.76\n",
       "5  MALE  169  1.69\n",
       "6  MALE  168  1.68\n",
       "7  MALE  170  1.70"
      ]
     },
     "execution_count": 30,
     "metadata": {},
     "output_type": "execute_result"
    }
   ],
   "source": [
    "df"
   ]
  },
  {
   "cell_type": "code",
   "execution_count": 31,
   "id": "6d8dabd9",
   "metadata": {},
   "outputs": [
    {
     "data": {
      "text/plain": [
       "[[0, [('0', '1'), (0.0, 1.0, 0)]],\n",
       " [1, [('0', '2'), (0.0, 1.0, 0)]],\n",
       " [2, [('1', '2'), (42.000000000000014, 0.226962832847802, 36)]]]"
      ]
     },
     "execution_count": 31,
     "metadata": {},
     "output_type": "execute_result"
    }
   ],
   "source": [
    "chi_square_CI(df)\n"
   ]
  },
  {
   "cell_type": "code",
   "execution_count": 32,
   "id": "92ab0ca1",
   "metadata": {},
   "outputs": [],
   "source": [
    "#constraint based algorithms - PC , GS, Inter-IAMB"
   ]
  },
  {
   "cell_type": "code",
   "execution_count": null,
   "id": "c2b2f302",
   "metadata": {},
   "outputs": [],
   "source": []
  },
  {
   "cell_type": "code",
   "execution_count": 33,
   "id": "8a85c6c9",
   "metadata": {},
   "outputs": [
    {
     "data": {
      "text/plain": [
       "[[0, [('0', '1'), (0.0, 1.0, 0)]],\n",
       " [1, [('0', '2'), (0.0, 1.0, 0)]],\n",
       " [2, [('1', '2'), (42.000000000000014, 0.226962832847802, 36)]]]"
      ]
     },
     "execution_count": 33,
     "metadata": {},
     "output_type": "execute_result"
    }
   ],
   "source": [
    "chi_square_CI(df)"
   ]
  },
  {
   "cell_type": "code",
   "execution_count": null,
   "id": "86daf33c",
   "metadata": {},
   "outputs": [],
   "source": []
  },
  {
   "cell_type": "code",
   "execution_count": null,
   "id": "44883fbe",
>>>>>>> parent of 9e59f29 (a)
   "metadata": {},
   "outputs": [],
   "source": []
  }
 ],
 "metadata": {
  "kernelspec": {
   "display_name": "Python 3 (ipykernel)",
   "language": "python",
   "name": "python3"
  },
  "language_info": {
   "codemirror_mode": {
    "name": "ipython",
    "version": 3
   },
   "file_extension": ".py",
   "mimetype": "text/x-python",
   "name": "python",
   "nbconvert_exporter": "python",
   "pygments_lexer": "ipython3",
   "version": "3.8.8"
  }
 },
 "nbformat": 4,
 "nbformat_minor": 5
}
