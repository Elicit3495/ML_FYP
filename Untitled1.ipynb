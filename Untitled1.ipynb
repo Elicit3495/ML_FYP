{
 "cells": [
  {
   "cell_type": "code",
   "execution_count": 12,
   "id": "6de7f666",
   "metadata": {},
   "outputs": [],
   "source": [
    "from conditional import chi_square_CI\n",
    "from conditional import csv_format_discrete\n",
    "import pandas as pd\n",
    "from conditional import chi_square_CI_test"
   ]
  },
  {
   "cell_type": "code",
   "execution_count": 6,
   "id": "020a4666",
   "metadata": {},
   "outputs": [],
   "source": [
    "df = csv_format_discrete(r'C:\\Users\\User\\Documents\\GitHub\\ML_FYP\\dataset\\test_2.dat')"
   ]
  },
  {
   "cell_type": "code",
   "execution_count": 7,
   "id": "9167f452",
   "metadata": {},
   "outputs": [
    {
     "data": {
      "text/html": [
       "<div>\n",
       "<style scoped>\n",
       "    .dataframe tbody tr th:only-of-type {\n",
       "        vertical-align: middle;\n",
       "    }\n",
       "\n",
       "    .dataframe tbody tr th {\n",
       "        vertical-align: top;\n",
       "    }\n",
       "\n",
       "    .dataframe thead th {\n",
       "        text-align: right;\n",
       "    }\n",
       "</style>\n",
       "<table border=\"1\" class=\"dataframe\">\n",
       "  <thead>\n",
       "    <tr style=\"text-align: right;\">\n",
       "      <th></th>\n",
       "      <th>0</th>\n",
       "      <th>1</th>\n",
       "      <th>2</th>\n",
       "    </tr>\n",
       "  </thead>\n",
       "  <tbody>\n",
       "    <tr>\n",
       "      <th>1</th>\n",
       "      <td>MALE</td>\n",
       "      <td>180</td>\n",
       "      <td>18</td>\n",
       "    </tr>\n",
       "    <tr>\n",
       "      <th>2</th>\n",
       "      <td>MALE</td>\n",
       "      <td>192</td>\n",
       "      <td>19</td>\n",
       "    </tr>\n",
       "    <tr>\n",
       "      <th>3</th>\n",
       "      <td>MALE</td>\n",
       "      <td>150</td>\n",
       "      <td>15</td>\n",
       "    </tr>\n",
       "    <tr>\n",
       "      <th>4</th>\n",
       "      <td>MALE</td>\n",
       "      <td>176</td>\n",
       "      <td>18</td>\n",
       "    </tr>\n",
       "    <tr>\n",
       "      <th>5</th>\n",
       "      <td>MALE</td>\n",
       "      <td>169</td>\n",
       "      <td>17</td>\n",
       "    </tr>\n",
       "    <tr>\n",
       "      <th>6</th>\n",
       "      <td>MALE</td>\n",
       "      <td>168</td>\n",
       "      <td>17</td>\n",
       "    </tr>\n",
       "    <tr>\n",
       "      <th>7</th>\n",
       "      <td>MALE</td>\n",
       "      <td>170</td>\n",
       "      <td>17</td>\n",
       "    </tr>\n",
       "  </tbody>\n",
       "</table>\n",
       "</div>"
      ],
      "text/plain": [
       "      0    1   2\n",
       "1  MALE  180  18\n",
       "2  MALE  192  19\n",
       "3  MALE  150  15\n",
       "4  MALE  176  18\n",
       "5  MALE  169  17\n",
       "6  MALE  168  17\n",
       "7  MALE  170  17"
      ]
     },
     "execution_count": 7,
     "metadata": {},
     "output_type": "execute_result"
    }
   ],
   "source": [
    "df"
   ]
  },
  {
   "cell_type": "code",
   "execution_count": 8,
   "id": "6d8dabd9",
   "metadata": {},
   "outputs": [
    {
     "data": {
      "text/plain": [
       "[[0, [('0', '1'), True]], [1, [('0', '2'), True]], [2, [('1', '2'), False]]]"
      ]
     },
     "execution_count": 8,
     "metadata": {},
     "output_type": "execute_result"
    }
   ],
   "source": [
    "chi_square_CI(df)\n"
   ]
  },
  {
   "cell_type": "code",
   "execution_count": 9,
   "id": "92ab0ca1",
   "metadata": {},
   "outputs": [],
   "source": [
    "#constraint based algorithms - PC , GS, Inter-IAMB"
   ]
  },
  {
   "cell_type": "code",
   "execution_count": null,
   "id": "c2b2f302",
   "metadata": {},
   "outputs": [],
   "source": []
  },
  {
   "cell_type": "code",
   "execution_count": 13,
   "id": "8a85c6c9",
   "metadata": {},
   "outputs": [
    {
     "data": {
      "text/plain": [
       "[[0, [('0', '1'), (0.0, 1.0, 0)]],\n",
       " [1, [('0', '2'), (0.0, 1.0, 0)]],\n",
       " [2, [('1', '2'), (21.000000000000004, 0.27941304786236815, 18)]]]"
      ]
     },
     "execution_count": 13,
     "metadata": {},
     "output_type": "execute_result"
    }
   ],
   "source": [
    "chi_square_CI_test(df)"
   ]
  },
  {
   "cell_type": "code",
   "execution_count": null,
   "id": "86daf33c",
   "metadata": {},
   "outputs": [],
   "source": []
  },
  {
   "cell_type": "code",
   "execution_count": null,
   "id": "44883fbe",
   "metadata": {},
   "outputs": [],
   "source": []
  }
 ],
 "metadata": {
  "kernelspec": {
   "display_name": "Python 3 (ipykernel)",
   "language": "python",
   "name": "python3"
  },
  "language_info": {
   "codemirror_mode": {
    "name": "ipython",
    "version": 3
   },
   "file_extension": ".py",
   "mimetype": "text/x-python",
   "name": "python",
   "nbconvert_exporter": "python",
   "pygments_lexer": "ipython3",
   "version": "3.8.8"
  }
 },
 "nbformat": 4,
 "nbformat_minor": 5
}
