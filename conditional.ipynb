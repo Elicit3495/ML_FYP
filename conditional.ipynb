{
 "cells": [
  {
   "cell_type": "code",
   "execution_count": 1,
   "id": "bbbb924b",
   "metadata": {},
   "outputs": [],
   "source": [
    "import pandas as pd\n",
    "# from tabulate import tabulate\n",
    "import numpy as np\n",
    "from pygobnilp.gobnilp import Gobnilp\n",
    "# import bnlearn as bn\n",
    "import pgmpy\n",
    "import itertools\n",
    "from scipy.stats import chi2_contingency #check for independence between 2 variables\n",
    "from scipy.stats import power_divergence\n",
    "from pgmpy.estimators.CITests import log_likelihood\n",
    "from pgmpy.estimators.CITests import chi_square\n",
    "# from pgmpy.factors.continuous.discretize import BaseDiscretizer"
   ]
  },
  {
   "cell_type": "code",
   "execution_count": 2,
   "id": "7f25afa9",
   "metadata": {},
   "outputs": [],
   "source": [
    "def csv_format_discrete(csv_file):\n",
    "    df = pd.read_csv(csv_file, sep=\"\\s+\")\n",
    "    return df.drop([0])\n",
    "\n",
    "#returns the csv_file in a pandas dataframe, formatted properly, discrete dataset only"
   ]
  },
  {
   "cell_type": "code",
   "execution_count": 3,
   "id": "0d13a4c9",
   "metadata": {},
   "outputs": [],
   "source": [
    "df = csv_format_discrete(r\"C:\\Users\\User\\Documents\\GitHub\\ML_FYP\\dataset\\discrete.dat\")\n",
    "df\n",
    "df_test = csv_format_discrete(r\"C:\\Users\\User\\Documents\\GitHub\\ML_FYP\\dataset\\alarm_100.dat\")"
   ]
  },
  {
   "cell_type": "markdown",
   "id": "68a3df7c",
   "metadata": {},
   "source": [
    "### chi-squared test"
   ]
  },
  {
   "cell_type": "code",
   "execution_count": 4,
   "id": "8c08e4eb",
   "metadata": {},
   "outputs": [],
   "source": [
    "#0th order chi2 test\n",
    "def chi2bool(df):\n",
    "#returns a tuple(chi2, p_value, dof) if boolean = false\n",
    "#the null hypothesis is that they are independent of each other\n",
    "#if true, the p_value is higher than the significance test, we do not reject the null hypothesis\n",
    "#if false, the p_value is lower than the significance test, we reject the null hypothesis\n",
    "    v = list(df)\n",
    "    empty = []\n",
    "    empty_1 = []\n",
    "    empty_2 = []\n",
    "    empty_3 = []\n",
    "    empty_4 = []\n",
    "    itertools_combinations = list(itertools.combinations(v, 2)) #finds every possible combination of list(df)\n",
    "    for i in itertools_combinations:\n",
    "        empty_1.append(i[0])\n",
    "        empty_2.append(i[1])\n",
    "        \n",
    "    total_number_of_combinations = len(empty_1)\n",
    "    \n",
    "    for t in range(len(itertools_combinations)):\n",
    "        empty.append(itertools_combinations[t])\n",
    "        \n",
    "    for value in range(len(empty_1)):\n",
    "        empty_3.append(value)\n",
    "        \n",
    "    for x,y,i,j in zip(empty_1, empty_2, empty, empty_3):\n",
    "        chisquare = chi_square(X=x, Y=y, Z=[], data=df, significance_level=0.10, boolean=True) #returns chi, p_value, dof\n",
    "        empty_4.append([j, i , chisquare])\n",
    "        \n",
    "    return empty_4"
   ]
  },
  {
   "cell_type": "code",
   "execution_count": 5,
   "id": "341d0353",
   "metadata": {},
   "outputs": [],
   "source": [
    "def chi2val(df):\n",
    "#returns a tuple(chi2, p_value, dof) if boolean = false\n",
    "#the null hypothesis is that they are independent of each other\n",
    "#if true, the p_value is higher than the significance test, we do not reject the null hypothesis\n",
    "#if false, the p_value is lower than the significance test, we reject the null hypothesis\n",
    "    v = list(df)\n",
    "    empty = []\n",
    "    empty_1 = []\n",
    "    empty_2 = []\n",
    "    empty_3 = []\n",
    "    empty_4 = []\n",
    "    itertools_combinations = list(itertools.combinations(v, 2)) #finds every possible combination of list(df)\n",
    "    for i in itertools_combinations:\n",
    "        empty_1.append(i[0])\n",
    "        empty_2.append(i[1])\n",
    "        \n",
    "    total_number_of_combinations = len(empty_1)\n",
    "    \n",
    "    for t in range(len(itertools_combinations)):\n",
    "        empty.append(itertools_combinations[t])\n",
    "        \n",
    "    for value in range(len(empty_1)):\n",
    "        empty_3.append(value)\n",
    "        \n",
    "    for x,y,i,j in zip(empty_1, empty_2, empty, empty_3):\n",
    "        chisquare = chi_square(X=x, Y=y, Z=[], data=df, significance_level=0.05, boolean=False) #returns chi, p_value, dof\n",
    "        empty_4.append([j, i , chisquare])\n",
    "        \n",
    "    return empty_4\n"
   ]
  },
  {
   "cell_type": "code",
   "execution_count": 6,
   "id": "a4098207",
   "metadata": {},
   "outputs": [],
   "source": [
    "#tests whether x is independent of y given a single variable z \n",
    "def chi2condbool(df):\n",
    "    test_list_0 = []\n",
    "    test_list_1 = []\n",
    "    test_list_2 = []\n",
    "    chi2 = []\n",
    "    v = list(df)\n",
    "    combine = list(itertools.combinations(v, 3)) #nC3 \n",
    "    for i in combine:\n",
    "        test_list_0.append(i[0])\n",
    "        test_list_1.append(i[1])\n",
    "        test_list_2.append(i[2])\n",
    "    for a,b,c in zip(test_list_0, test_list_1, test_list_2):\n",
    "        chisquare = chi_square(X=a, Y=b, Z=[c], data=df, significance_level=0.05, boolean=True)\n",
    "        chi2.append([a,b,c,chisquare])\n",
    "    return sortReturn(chi2)"
   ]
  },
  {
   "cell_type": "code",
   "execution_count": 7,
   "id": "7db6413c",
   "metadata": {},
   "outputs": [],
   "source": [
    "#tests whether x is independent of y given a single variable z \n",
    "def chi2condval(df):\n",
    "    test_list_0 = []\n",
    "    test_list_1 = []\n",
    "    test_list_2 = []\n",
    "    chi2 = []\n",
    "    v = list(df)\n",
    "    combine = list(itertools.combinations(v, 3)) #nC3 \n",
    "    for i in combine:\n",
    "        test_list_0.append(i[0])\n",
    "        test_list_1.append(i[1])\n",
    "        test_list_2.append(i[2])\n",
    "    for a,b,c in zip(test_list_0, test_list_1, test_list_2):\n",
    "        chisquare = chi_square(X=a, Y=b, Z=[c], data=df, significance_level=0.05, boolean=False)\n",
    "        chi2.append([a,b,c,chisquare])\n",
    "    return chi2"
   ]
  },
  {
   "cell_type": "markdown",
   "id": "6f8c06d0",
   "metadata": {},
   "source": [
    "### log-likelihood tests"
   ]
  },
  {
   "cell_type": "code",
   "execution_count": 8,
   "id": "84bb6fb8",
   "metadata": {},
   "outputs": [],
   "source": [
    "def g2val(df):\n",
    "#returns a tuple(chi2, p_value, dof) if boolean = false\n",
    "#the null hypothesis is that they are independent of each other\n",
    "#if true, the p_value is higher than the significance test, we do not reject the null hypothesis\n",
    "#if false, the p_value is lower than the significance test, we reject the null hypothesis\n",
    "    v = list(df)\n",
    "    empty = []\n",
    "    empty_1 = []\n",
    "    empty_2 = []\n",
    "    empty_3 = []\n",
    "    empty_4 = []\n",
    "    itertools_combinations = list(itertools.combinations(v, 2)) #finds every possible combination of list(df)\n",
    "    for i in itertools_combinations:\n",
    "        empty_1.append(i[0])\n",
    "        empty_2.append(i[1])\n",
    "        \n",
    "    total_number_of_combinations = len(empty_1)\n",
    "    \n",
    "    for t in range(len(itertools_combinations)):\n",
    "        empty.append(itertools_combinations[t])\n",
    "        \n",
    "    for value in range(len(empty_1)):\n",
    "        empty_3.append(value)\n",
    "        \n",
    "    for x,y,i,j in zip(empty_1, empty_2, empty, empty_3):\n",
    "        g2 = log_likelihood(X=x, Y=y, Z=[], significance_level=0.05, boolean=True, data=df) \n",
    "        empty_4.append([j, i , g2])\n",
    "        \n",
    "    return empty_4"
   ]
  },
  {
   "cell_type": "markdown",
   "id": "b35f91ef",
   "metadata": {},
   "source": [
    "### Sorting Functions"
   ]
  },
  {
   "cell_type": "code",
   "execution_count": 9,
   "id": "6a876f12",
   "metadata": {},
   "outputs": [],
   "source": [
    "def sortReturn(data):\n",
    "    #just a sorting function\n",
    "    true_list = []\n",
    "    false_list = []\n",
    "    for i in data:\n",
    "        if True in i:\n",
    "            true_list.append(i)\n",
    "        if False in i:\n",
    "            false_list.append(i)\n",
    "    return true_list, false_list"
   ]
  },
  {
   "cell_type": "code",
   "execution_count": 10,
   "id": "8983b37c",
   "metadata": {},
   "outputs": [],
   "source": [
    "#returns a list with a tuple of combinations of false\n",
    "def false2tuple(data):\n",
    "    empty = []\n",
    "    false_list_of_tuples = []\n",
    "    new_df = pd.DataFrame(data)\n",
    "    newer_df = new_df[1]\n",
    "    return newer_df"
   ]
  },
  {
   "cell_type": "markdown",
   "id": "c1029a7f",
   "metadata": {},
   "source": [
    "### CONDITIONAL MAIN CODE"
   ]
  },
  {
   "cell_type": "code",
   "execution_count": 11,
   "id": "f6790e6f",
   "metadata": {},
   "outputs": [],
   "source": [
    "#returns the FALSE values of chi2condbool UNFORMATTED\n",
    "def conditional_sort_1(df):\n",
    "    first_letter = []\n",
    "    second_letter = []\n",
    "    chi = chi2condbool(df) #returns unsorted list of true and false\n",
    "    new_chi = chi[1]\n",
    "    for i in new_chi:\n",
    "        first_letter.append(i[0])\n",
    "        second_letter.append(i[1])\n",
    "    return first_letter, second_letter"
   ]
  },
  {
   "cell_type": "code",
   "execution_count": 12,
   "id": "df2488a4",
   "metadata": {},
   "outputs": [],
   "source": [
    "#returns FALSE Xs and Ys in a tuple of (X,Y)\n",
    "def conditional_sort_2(df):\n",
    "    the_empty = []\n",
    "    the_list = list(conditional_sort_1(df))\n",
    "    a = the_list[0]\n",
    "    b = the_list[1]\n",
    "    c = len(a)\n",
    "    for i in range(c):\n",
    "        the_empty.append((a[i], b[i]))\n",
    "    return the_empty"
   ]
  },
  {
   "cell_type": "code",
   "execution_count": 13,
   "id": "2b4a6b87",
   "metadata": {},
   "outputs": [],
   "source": [
    "#returns combinations of Zs\n",
    "def conditional_combine_1(df):\n",
    "    first_empty = []\n",
    "    second_empty = []\n",
    "    my_list = conditional_sort_2(df)\n",
    "    for i in my_list:\n",
    "        first_empty.append(i[0])\n",
    "        second_empty.append(i[1])\n",
    "    list_df = list(df)\n",
    "    v = list(itertools.combinations(list_df, 2))\n",
    "    for i,j,k in zip(first_empty, second_empty, v):\n",
    "        chi_square(X=i, Y=j, Z=k, data=df)\n",
    "    return chi_square"
   ]
  },
  {
   "cell_type": "code",
   "execution_count": 38,
   "id": "136edb49",
   "metadata": {},
   "outputs": [
    {
     "data": {
      "text/plain": [
       "37"
      ]
     },
     "execution_count": 38,
     "metadata": {},
     "output_type": "execute_result"
    }
   ],
   "source": [
    "len(list(df_test))"
   ]
  },
  {
   "cell_type": "code",
   "execution_count": 41,
   "id": "0ab7c243",
   "metadata": {},
   "outputs": [
    {
     "ename": "SyntaxError",
     "evalue": "invalid syntax (3750141197.py, line 1)",
     "output_type": "error",
     "traceback": [
      "\u001b[1;36m  Cell \u001b[1;32mIn [41], line 1\u001b[1;36m\u001b[0m\n\u001b[1;33m    jupyter notebook --NotebookApp.iopub_data_rate_limit=1.0e10\u001b[0m\n\u001b[1;37m            ^\u001b[0m\n\u001b[1;31mSyntaxError\u001b[0m\u001b[1;31m:\u001b[0m invalid syntax\n"
     ]
    }
   ],
   "source": [
    "jupyter notebook --NotebookApp.iopub_data_rate_limit=1.0e10"
   ]
  },
  {
   "cell_type": "code",
   "execution_count": 51,
   "id": "40b7db3a",
   "metadata": {},
   "outputs": [],
   "source": [
    "for i in range(2,5):\n",
    "    a = list(itertools.combinations(df_test, i))"
   ]
  },
  {
   "cell_type": "code",
   "execution_count": 70,
   "id": "412a0c04",
   "metadata": {},
   "outputs": [
    {
     "name": "stdout",
     "output_type": "stream",
     "text": [
      "A B\n",
      "A B\n",
      "A B\n",
      "A B\n",
      "A C\n",
      "A C\n",
      "A C\n",
      "A D\n",
      "A D\n",
      "A E\n",
      "B C\n",
      "B C\n",
      "B C\n",
      "B D\n",
      "B D\n",
      "B E\n",
      "C D\n",
      "C D\n",
      "C E\n",
      "D E\n"
     ]
    }
   ],
   "source": []
  },
  {
   "cell_type": "code",
   "execution_count": 85,
   "id": "29893040",
   "metadata": {},
   "outputs": [
    {
     "data": {
      "text/plain": [
       "[[1, ('A', 'C'), True],\n",
       " [4, ('A', 'F'), True],\n",
       " [5, ('B', 'C'), True],\n",
       " [8, ('B', 'F'), True],\n",
       " [10, ('C', 'E'), True],\n",
       " [11, ('C', 'F'), True],\n",
       " [13, ('D', 'F'), True]]"
      ]
     },
     "execution_count": 85,
     "metadata": {},
     "output_type": "execute_result"
    }
   ],
   "source": [
    "true_vals = sortReturn(chi2bool(df))[0]\n",
    "true_vals"
   ]
  },
  {
   "cell_type": "code",
   "execution_count": 86,
   "id": "e8254243",
   "metadata": {},
   "outputs": [
    {
     "data": {
      "text/plain": [
       "[('A', 'C'),\n",
       " ('A', 'F'),\n",
       " ('B', 'C'),\n",
       " ('B', 'F'),\n",
       " ('C', 'E'),\n",
       " ('C', 'F'),\n",
       " ('D', 'F')]"
      ]
     },
     "execution_count": 86,
     "metadata": {},
     "output_type": "execute_result"
    }
   ],
   "source": [
    "independent_vals = []\n",
    "for i in true_vals:\n",
    "    independent_vals.append(i[1])\n",
    "independent_vals"
   ]
  },
  {
   "cell_type": "code",
   "execution_count": 128,
   "id": "a22b099d",
   "metadata": {},
   "outputs": [
    {
     "data": {
      "text/plain": [
       "[('A', 'B', 'C'),\n",
       " ('A', 'B', 'D'),\n",
       " ('A', 'B', 'E'),\n",
       " ('A', 'B', 'F'),\n",
       " ('A', 'C', 'B'),\n",
       " ('A', 'C', 'D'),\n",
       " ('A', 'C', 'E'),\n",
       " ('A', 'C', 'F'),\n",
       " ('A', 'D', 'B'),\n",
       " ('A', 'D', 'C'),\n",
       " ('A', 'D', 'E'),\n",
       " ('A', 'D', 'F'),\n",
       " ('A', 'E', 'B'),\n",
       " ('A', 'E', 'C'),\n",
       " ('A', 'E', 'D'),\n",
       " ('A', 'E', 'F'),\n",
       " ('A', 'F', 'B'),\n",
       " ('A', 'F', 'C'),\n",
       " ('A', 'F', 'D'),\n",
       " ('A', 'F', 'E'),\n",
       " ('B', 'A', 'C'),\n",
       " ('B', 'A', 'D'),\n",
       " ('B', 'A', 'E'),\n",
       " ('B', 'A', 'F'),\n",
       " ('B', 'C', 'A'),\n",
       " ('B', 'C', 'D'),\n",
       " ('B', 'C', 'E'),\n",
       " ('B', 'C', 'F'),\n",
       " ('B', 'D', 'A'),\n",
       " ('B', 'D', 'C'),\n",
       " ('B', 'D', 'E'),\n",
       " ('B', 'D', 'F'),\n",
       " ('B', 'E', 'A'),\n",
       " ('B', 'E', 'C'),\n",
       " ('B', 'E', 'D'),\n",
       " ('B', 'E', 'F'),\n",
       " ('B', 'F', 'A'),\n",
       " ('B', 'F', 'C'),\n",
       " ('B', 'F', 'D'),\n",
       " ('B', 'F', 'E'),\n",
       " ('C', 'A', 'B'),\n",
       " ('C', 'A', 'D'),\n",
       " ('C', 'A', 'E'),\n",
       " ('C', 'A', 'F'),\n",
       " ('C', 'B', 'A'),\n",
       " ('C', 'B', 'D'),\n",
       " ('C', 'B', 'E'),\n",
       " ('C', 'B', 'F'),\n",
       " ('C', 'D', 'A'),\n",
       " ('C', 'D', 'B'),\n",
       " ('C', 'D', 'E'),\n",
       " ('C', 'D', 'F'),\n",
       " ('C', 'E', 'A'),\n",
       " ('C', 'E', 'B'),\n",
       " ('C', 'E', 'D'),\n",
       " ('C', 'E', 'F'),\n",
       " ('C', 'F', 'A'),\n",
       " ('C', 'F', 'B'),\n",
       " ('C', 'F', 'D'),\n",
       " ('C', 'F', 'E'),\n",
       " ('D', 'A', 'B'),\n",
       " ('D', 'A', 'C'),\n",
       " ('D', 'A', 'E'),\n",
       " ('D', 'A', 'F'),\n",
       " ('D', 'B', 'A'),\n",
       " ('D', 'B', 'C'),\n",
       " ('D', 'B', 'E'),\n",
       " ('D', 'B', 'F'),\n",
       " ('D', 'C', 'A'),\n",
       " ('D', 'C', 'B'),\n",
       " ('D', 'C', 'E'),\n",
       " ('D', 'C', 'F'),\n",
       " ('D', 'E', 'A'),\n",
       " ('D', 'E', 'B'),\n",
       " ('D', 'E', 'C'),\n",
       " ('D', 'E', 'F'),\n",
       " ('D', 'F', 'A'),\n",
       " ('D', 'F', 'B'),\n",
       " ('D', 'F', 'C'),\n",
       " ('D', 'F', 'E'),\n",
       " ('E', 'A', 'B'),\n",
       " ('E', 'A', 'C'),\n",
       " ('E', 'A', 'D'),\n",
       " ('E', 'A', 'F'),\n",
       " ('E', 'B', 'A'),\n",
       " ('E', 'B', 'C'),\n",
       " ('E', 'B', 'D'),\n",
       " ('E', 'B', 'F'),\n",
       " ('E', 'C', 'A'),\n",
       " ('E', 'C', 'B'),\n",
       " ('E', 'C', 'D'),\n",
       " ('E', 'C', 'F'),\n",
       " ('E', 'D', 'A'),\n",
       " ('E', 'D', 'B'),\n",
       " ('E', 'D', 'C'),\n",
       " ('E', 'D', 'F'),\n",
       " ('E', 'F', 'A'),\n",
       " ('E', 'F', 'B'),\n",
       " ('E', 'F', 'C'),\n",
       " ('E', 'F', 'D'),\n",
       " ('F', 'A', 'B'),\n",
       " ('F', 'A', 'C'),\n",
       " ('F', 'A', 'D'),\n",
       " ('F', 'A', 'E'),\n",
       " ('F', 'B', 'A'),\n",
       " ('F', 'B', 'C'),\n",
       " ('F', 'B', 'D'),\n",
       " ('F', 'B', 'E'),\n",
       " ('F', 'C', 'A'),\n",
       " ('F', 'C', 'B'),\n",
       " ('F', 'C', 'D'),\n",
       " ('F', 'C', 'E'),\n",
       " ('F', 'D', 'A'),\n",
       " ('F', 'D', 'B'),\n",
       " ('F', 'D', 'C'),\n",
       " ('F', 'D', 'E'),\n",
       " ('F', 'E', 'A'),\n",
       " ('F', 'E', 'B'),\n",
       " ('F', 'E', 'C'),\n",
       " ('F', 'E', 'D')]"
      ]
     },
     "execution_count": 128,
     "metadata": {},
     "output_type": "execute_result"
    }
   ],
   "source": [
    "combination_list = []\n",
    "visited = set()\n",
    "k = list(itertools.permutations(df, 3))\n",
    "k"
   ]
  },
  {
   "cell_type": "code",
   "execution_count": null,
   "id": "62694863",
   "metadata": {},
   "outputs": [],
   "source": []
  },
  {
   "cell_type": "code",
   "execution_count": null,
   "id": "0616f0f3",
   "metadata": {},
   "outputs": [],
   "source": []
  },
  {
   "cell_type": "code",
   "execution_count": 74,
   "id": "30ce4cf1",
   "metadata": {},
   "outputs": [
    {
     "ename": "TypeError",
     "evalue": "'numpy.bool_' object is not iterable",
     "output_type": "error",
     "traceback": [
      "\u001b[1;31m---------------------------------------------------------------------------\u001b[0m",
      "\u001b[1;31mTypeError\u001b[0m                                 Traceback (most recent call last)",
      "Cell \u001b[1;32mIn [74], line 2\u001b[0m\n\u001b[0;32m      1\u001b[0m \u001b[38;5;28;01mfor\u001b[39;00m i,j,k \u001b[38;5;129;01min\u001b[39;00m false_vals:\n\u001b[1;32m----> 2\u001b[0m     \u001b[38;5;28;01mfor\u001b[39;00m x,y,z \u001b[38;5;129;01min\u001b[39;00m k:\n\u001b[0;32m      3\u001b[0m         \u001b[38;5;28;01mif\u001b[39;00m j[\u001b[38;5;241m0\u001b[39m] \u001b[38;5;241m!=\u001b[39m x[\u001b[38;5;241m0\u001b[39m]:\n\u001b[0;32m      4\u001b[0m             \u001b[38;5;28mprint\u001b[39m(y)\n",
      "\u001b[1;31mTypeError\u001b[0m: 'numpy.bool_' object is not iterable"
     ]
    }
   ],
   "source": [
    "for i,j,k in false_vals:\n",
    "    for x,y,z in k:\n",
    "        if j[0] != x[0]:\n",
    "            print(y)"
   ]
  },
  {
   "cell_type": "code",
   "execution_count": 15,
   "id": "b37d1f90",
   "metadata": {},
   "outputs": [
    {
     "data": {
      "text/plain": [
       "([('A', 'B'),\n",
       "  ('A', 'C'),\n",
       "  ('A', 'D'),\n",
       "  ('A', 'E'),\n",
       "  ('A', 'F'),\n",
       "  ('B', 'C'),\n",
       "  ('B', 'D'),\n",
       "  ('B', 'E'),\n",
       "  ('B', 'F'),\n",
       "  ('C', 'D'),\n",
       "  ('C', 'E'),\n",
       "  ('C', 'F'),\n",
       "  ('D', 'E'),\n",
       "  ('D', 'F'),\n",
       "  ('E', 'F')],\n",
       " ['A', 'A', 'A', 'A', 'A', 'A', 'A', 'A', 'B', 'B', 'B', 'B', 'C', 'C', 'D'],\n",
       " ['B', 'B', 'B', 'B', 'C', 'D', 'D', 'E', 'C', 'D', 'D', 'E', 'D', 'D', 'E'])"
      ]
     },
     "execution_count": 15,
     "metadata": {},
     "output_type": "execute_result"
    }
   ],
   "source": [
    "first_empty = []\n",
    "second_empty = []\n",
    "my_list = conditional_sort_2(df)\n",
    "for i in my_list:\n",
    "    first_empty.append(i[0])\n",
    "    second_empty.append(i[1])\n",
    "list_df = list(df)\n",
    "v = list(itertools.combinations(list_df, 2))\n",
    "v, first_empty, second_empty\n",
    "# for i,j,k in zip(first_empty, second_empty, v):\n",
    "#     chi_square(X=i, Y=j, Z=k, data=df)\n",
    "# return chi_square"
   ]
  },
  {
   "cell_type": "code",
   "execution_count": 29,
   "id": "98132635",
   "metadata": {},
   "outputs": [
    {
     "data": {
      "text/plain": [
       "[[('A', 'B'),\n",
       "  ('A', 'C'),\n",
       "  ('A', 'D'),\n",
       "  ('A', 'E'),\n",
       "  ('A', 'F'),\n",
       "  ('B', 'C'),\n",
       "  ('B', 'D'),\n",
       "  ('B', 'E'),\n",
       "  ('B', 'F'),\n",
       "  ('C', 'D'),\n",
       "  ('C', 'E'),\n",
       "  ('C', 'F'),\n",
       "  ('D', 'E'),\n",
       "  ('D', 'F'),\n",
       "  ('E', 'F')],\n",
       " [('A', 'B', 'C'),\n",
       "  ('A', 'B', 'D'),\n",
       "  ('A', 'B', 'E'),\n",
       "  ('A', 'B', 'F'),\n",
       "  ('A', 'C', 'D'),\n",
       "  ('A', 'C', 'E'),\n",
       "  ('A', 'C', 'F'),\n",
       "  ('A', 'D', 'E'),\n",
       "  ('A', 'D', 'F'),\n",
       "  ('A', 'E', 'F'),\n",
       "  ('B', 'C', 'D'),\n",
       "  ('B', 'C', 'E'),\n",
       "  ('B', 'C', 'F'),\n",
       "  ('B', 'D', 'E'),\n",
       "  ('B', 'D', 'F'),\n",
       "  ('B', 'E', 'F'),\n",
       "  ('C', 'D', 'E'),\n",
       "  ('C', 'D', 'F'),\n",
       "  ('C', 'E', 'F'),\n",
       "  ('D', 'E', 'F')],\n",
       " [('A', 'B', 'C', 'D'),\n",
       "  ('A', 'B', 'C', 'E'),\n",
       "  ('A', 'B', 'C', 'F'),\n",
       "  ('A', 'B', 'D', 'E'),\n",
       "  ('A', 'B', 'D', 'F'),\n",
       "  ('A', 'B', 'E', 'F'),\n",
       "  ('A', 'C', 'D', 'E'),\n",
       "  ('A', 'C', 'D', 'F'),\n",
       "  ('A', 'C', 'E', 'F'),\n",
       "  ('A', 'D', 'E', 'F'),\n",
       "  ('B', 'C', 'D', 'E'),\n",
       "  ('B', 'C', 'D', 'F'),\n",
       "  ('B', 'C', 'E', 'F'),\n",
       "  ('B', 'D', 'E', 'F'),\n",
       "  ('C', 'D', 'E', 'F')],\n",
       " [('A', 'B', 'C', 'D', 'E'),\n",
       "  ('A', 'B', 'C', 'D', 'F'),\n",
       "  ('A', 'B', 'C', 'E', 'F'),\n",
       "  ('A', 'B', 'D', 'E', 'F'),\n",
       "  ('A', 'C', 'D', 'E', 'F'),\n",
       "  ('B', 'C', 'D', 'E', 'F')]]"
      ]
     },
     "execution_count": 29,
     "metadata": {},
     "output_type": "execute_result"
    }
   ],
   "source": [
    "new_list = []\n",
    "for i in range(2, 6):\n",
    "    a = list(itertools.combinations(df, i))\n",
    "    new_list.append(a)\n",
    "new_list"
   ]
  },
  {
   "cell_type": "code",
   "execution_count": 38,
   "id": "b11ccd48",
   "metadata": {},
   "outputs": [
    {
     "name": "stdout",
     "output_type": "stream",
     "text": [
      "421 ms ± 43 ms per loop (mean ± std. dev. of 7 runs, 1 loop each)\n"
     ]
    }
   ],
   "source": []
  },
  {
   "cell_type": "code",
   "execution_count": null,
   "id": "a5bfbeef",
   "metadata": {},
   "outputs": [],
   "source": [
    "chi2condbool(df)[1], conditional_sort_2(df)"
   ]
  },
  {
   "cell_type": "code",
   "execution_count": null,
   "id": "5317f485",
   "metadata": {},
   "outputs": [],
   "source": [
    "first_empty = []\n",
    "second_empty = []\n",
    "my_list = conditional_sort_2(df)\n",
    "for i in my_list:\n",
    "    first_empty.append(i[0])\n",
    "    second_empty.append(i[1])\n",
    "list_df = list(df)\n",
    "v = list(itertools.combinations(list_df, 2))\n",
    "v, first_empty, second_empty"
   ]
  },
  {
   "cell_type": "code",
   "execution_count": null,
   "id": "e5450bbf",
   "metadata": {},
   "outputs": [],
   "source": [
    "alpha_test = v[0]\n",
    "alpha_test\n",
    "for i,j in zip(first_empty, second_empty):\n",
    "    if alpha_test[0] != i and alpha_test[0] != j and alpha_test[1] != i and alpha_test[1] != j:\n",
    "        print(i,j)"
   ]
  },
  {
   "cell_type": "code",
   "execution_count": null,
   "id": "f6806d76",
   "metadata": {},
   "outputs": [],
   "source": [
    "for i,j in zip(v, first_empty):\n",
    "    print(i[0][0])"
   ]
  },
  {
   "cell_type": "code",
   "execution_count": null,
   "id": "ac918158",
   "metadata": {},
   "outputs": [],
   "source": [
    "conditional_1P5(df)"
   ]
  },
  {
   "cell_type": "code",
   "execution_count": null,
   "id": "6a21c6fb",
   "metadata": {},
   "outputs": [],
   "source": [
    "v = list(itertools.combinations(list_df, 2))\n",
    "v"
   ]
  },
  {
   "cell_type": "code",
   "execution_count": null,
   "id": "c0052be4",
   "metadata": {},
   "outputs": [],
   "source": []
  },
  {
   "cell_type": "code",
   "execution_count": null,
   "id": "29e91b2b",
   "metadata": {},
   "outputs": [],
   "source": [
    "m = Gobnilp()"
   ]
  },
  {
   "cell_type": "code",
   "execution_count": null,
   "id": "836e2b5e",
   "metadata": {},
   "outputs": [],
   "source": [
    "m.learn(r\"C:\\Users\\User\\Documents\\GitHub\\ML_FYP\\dataset\\discrete.dat\")"
   ]
  },
  {
   "cell_type": "code",
   "execution_count": null,
   "id": "56d34acc",
   "metadata": {},
   "outputs": [],
   "source": []
  }
 ],
 "metadata": {
  "kernelspec": {
   "display_name": "Python 3 (ipykernel)",
   "language": "python",
   "name": "python3"
  },
  "language_info": {
   "codemirror_mode": {
    "name": "ipython",
    "version": 3
   },
   "file_extension": ".py",
   "mimetype": "text/x-python",
   "name": "python",
   "nbconvert_exporter": "python",
   "pygments_lexer": "ipython3",
   "version": "3.8.8"
  }
 },
 "nbformat": 4,
 "nbformat_minor": 5
}
