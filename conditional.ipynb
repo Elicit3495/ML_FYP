{
 "cells": [
  {
   "cell_type": "code",
   "execution_count": 8,
   "id": "bbbb924b",
   "metadata": {},
   "outputs": [],
   "source": [
    "import pandas as pd\n",
    "# from tabulate import tabulate\n",
    "import numpy as np\n",
    "# import bnlearn as bn\n",
    "import pgmpy\n",
    "import itertools\n",
    "from scipy.stats import chi2_contingency #check for independence between 2 variables\n",
    "from scipy.stats import power_divergence\n",
    "# from pgmpy.estimators.CITests import chi_square\n",
    "# from pgmpy.factors.continuous.discretize import BaseDiscretizer"
   ]
  },
  {
   "cell_type": "code",
   "execution_count": 14,
   "id": "0a84cccf",
   "metadata": {},
   "outputs": [],
   "source": [
    "df = csv_format_discrete(r\"C:\\Users\\User\\Documents\\GitHub\\ML_FYP\\dataset\\test_2.dat\")\n"
   ]
  },
  {
   "cell_type": "code",
   "execution_count": 9,
   "id": "7f25afa9",
   "metadata": {},
   "outputs": [],
   "source": [
    "def csv_format_discrete(csv_file):\n",
    "    df = pd.read_csv(csv_file, sep=\"\\s+\")\n",
    "    return df.drop([0])\n",
    "\n",
    "#returns the csv_file in a pandas dataframe, formatted properly, discrete dataset only"
   ]
  },
  {
   "cell_type": "code",
   "execution_count": 10,
   "id": "571bb323",
   "metadata": {},
   "outputs": [],
   "source": [
    "def csv_format_discrete(csv_file):\n",
    "    df = pd.read_csv(csv_file, sep=\"\\s+\")\n",
    "    return df.drop([0])\n"
   ]
  },
  {
   "cell_type": "code",
   "execution_count": 11,
   "id": "a6f215f5",
   "metadata": {},
   "outputs": [],
   "source": [
    "def gaussian_reader(csv_file):\n",
    "    df = pd.read_csv(csv_file, sep=\"\\s+\")\n",
    "    return df"
   ]
  },
  {
   "cell_type": "code",
   "execution_count": 12,
   "id": "8c08e4eb",
   "metadata": {},
   "outputs": [],
   "source": [
    "def chi_square_CI(df):\n",
    "#the null hypothesis is that they are independent of each other\n",
    "#if true, the p_value is higher than the significance test, we do not reject the null hypothesis\n",
    "#if false, the p_value is lower than the significance test, we reject the null hypothesis\n",
    "    v = list(df)\n",
    "    empty = []\n",
    "    empty_1 = []\n",
    "    empty_2 = []\n",
    "    empty_3 = []\n",
    "    empty_4 = []\n",
    "    empty_5 = []\n",
    "    itertools_combinations = list(itertools.combinations(v, 2)) #finds every possible combination of list(df)\n",
    "    for i in itertools_combinations:\n",
    "        empty_1.append(i[0])\n",
    "        empty_2.append(i[1])\n",
    "    for t in range(len(itertools_combinations)):\n",
    "        empty.append(itertools_combinations[t])\n",
    "    for x,y,i in zip(empty_1, empty_2, empty):\n",
    "        chisquare = chi_square(X=x, Y=y, Z=[], data=df, significance_level=0.95, boolean=False) #returns chi, p_value, dof\n",
    "        empty_3.append([i , chisquare])\n",
    "    for value in range(len(empty_3)):\n",
    "        empty_4.append(value)\n",
    "    for x,y in zip(empty_4, empty_3):\n",
    "        empty_5.append([x,y])\n",
    "    return empty_5\n"
   ]
  },
  {
   "cell_type": "code",
   "execution_count": 13,
   "id": "20486fda",
   "metadata": {},
   "outputs": [],
   "source": [
    "def chi2(df):\n",
    "#the null hypothesis is that they are independent of each other\n",
    "#if true, the p_value is higher than the significance test, we do not reject the null hypothesis\n",
    "#if false, the p_value is lower than the significance test, we reject the null hypothesis\n",
    "    v = list(df)\n",
    "    empty_0 = []\n",
    "    empty = []\n",
    "    empty_1 = []\n",
    "    empty_2 = []\n",
    "    empty_3 = []\n",
    "    empty_4 = []\n",
    "    empty_5 = []\n",
    "    itertools_combinations = list(itertools.combinations(v, 2)) #finds every possible combination of list(df)\n",
    "    for i in list(df):\n",
    "        column_of_array = df[i].to_numpy()\n",
    "        empty_0.append(array) #gives the array of the columns of the thing\n",
    "    for i in itertools_combinations:\n",
    "        empty_1.append(i[0])\n",
    "        empty_2.append(i[1]) #appends combinations into each list\n",
    "    for t in range(len(itertools_combinations)):\n",
    "        empty.append(itertools_combinations[t]) #appends the length of the combinations into a list\n",
    "    for x,y,i in zip(empty_1, empty_2, empty):\n",
    "        new_array = np.array([empty_1,empty_2])\n",
    "        chisquare = chi2_contingency(new_array) #returns chi, p_value, dof\n",
    "        empty_3.append([i , chisquare])\n",
    "    for value in range(len(empty_3)):\n",
    "        empty_4.append(value)\n",
    "    for x,y in zip(empty_4, empty_3):\n",
    "        empty_5.append([x,y])\n",
    "    return empty_5"
   ]
  },
  {
   "cell_type": "code",
   "execution_count": 15,
   "id": "09c488ca",
   "metadata": {},
   "outputs": [
    {
     "ename": "NameError",
     "evalue": "name 'array' is not defined",
     "output_type": "error",
     "traceback": [
      "\u001b[1;31m---------------------------------------------------------------------------\u001b[0m",
      "\u001b[1;31mNameError\u001b[0m                                 Traceback (most recent call last)",
      "Cell \u001b[1;32mIn [15], line 1\u001b[0m\n\u001b[1;32m----> 1\u001b[0m \u001b[43mchi2\u001b[49m\u001b[43m(\u001b[49m\u001b[43mdf\u001b[49m\u001b[43m)\u001b[49m\n",
      "Cell \u001b[1;32mIn [13], line 16\u001b[0m, in \u001b[0;36mchi2\u001b[1;34m(df)\u001b[0m\n\u001b[0;32m     14\u001b[0m \u001b[38;5;28;01mfor\u001b[39;00m i \u001b[38;5;129;01min\u001b[39;00m \u001b[38;5;28mlist\u001b[39m(df):\n\u001b[0;32m     15\u001b[0m     column_of_array \u001b[38;5;241m=\u001b[39m df[i]\u001b[38;5;241m.\u001b[39mto_numpy()\n\u001b[1;32m---> 16\u001b[0m     empty_0\u001b[38;5;241m.\u001b[39mappend(\u001b[43marray\u001b[49m) \u001b[38;5;66;03m#gives the array of the columns of the thing\u001b[39;00m\n\u001b[0;32m     17\u001b[0m \u001b[38;5;28;01mfor\u001b[39;00m i \u001b[38;5;129;01min\u001b[39;00m itertools_combinations:\n\u001b[0;32m     18\u001b[0m     empty_1\u001b[38;5;241m.\u001b[39mappend(i[\u001b[38;5;241m0\u001b[39m])\n",
      "\u001b[1;31mNameError\u001b[0m: name 'array' is not defined"
     ]
    }
   ],
   "source": [
    "chi2(df)"
   ]
  },
  {
   "cell_type": "code",
   "execution_count": 16,
   "id": "97a04f1a",
   "metadata": {},
   "outputs": [],
   "source": [
    "def new_chi(df):\n",
    "    test = []\n",
    "    for i in list(df):\n",
    "        array = df[i].to_numpy()\n",
    "        test.append(array)\n",
    "    return test"
   ]
  },
  {
   "cell_type": "code",
   "execution_count": 17,
   "id": "91a3826e",
   "metadata": {},
   "outputs": [
    {
     "data": {
      "text/plain": [
       "array([[3, 0, 0, 1, 3, 1, 2, 2],\n",
       "       [1, 2, 2, 2, 2, 1, 1, 0]])"
      ]
     },
     "execution_count": 17,
     "metadata": {},
     "output_type": "execute_result"
    }
   ],
   "source": [
    "test = new_chi(df)\n",
    "a = test[0].tolist()\n",
    "b = test[1].tolist()\n",
    "test_2 = np.array([a, b])\n",
    "test_2"
   ]
  },
  {
   "cell_type": "code",
   "execution_count": 18,
   "id": "f13677de",
   "metadata": {},
   "outputs": [
    {
     "data": {
      "text/plain": [
       "array([[2.08695652, 1.04347826, 1.04347826, 1.56521739, 2.60869565,\n",
       "        1.04347826, 1.56521739, 1.04347826],\n",
       "       [1.91304348, 0.95652174, 0.95652174, 1.43478261, 2.39130435,\n",
       "        0.95652174, 1.43478261, 0.95652174]])"
      ]
     },
     "execution_count": 18,
     "metadata": {},
     "output_type": "execute_result"
    }
   ],
   "source": [
    "chi2_contingency(test_2)[3]"
   ]
  },
  {
   "cell_type": "code",
   "execution_count": 19,
   "id": "55e86ea6",
   "metadata": {},
   "outputs": [],
   "source": [
    "chi2empty = []"
   ]
  },
  {
   "cell_type": "code",
   "execution_count": 20,
   "id": "0adf5161",
   "metadata": {},
   "outputs": [
    {
     "ename": "NameError",
     "evalue": "name 'new_array' is not defined",
     "output_type": "error",
     "traceback": [
      "\u001b[1;31m---------------------------------------------------------------------------\u001b[0m",
      "\u001b[1;31mNameError\u001b[0m                                 Traceback (most recent call last)",
      "Cell \u001b[1;32mIn [20], line 1\u001b[0m\n\u001b[1;32m----> 1\u001b[0m \u001b[43mnew_array\u001b[49m\n",
      "\u001b[1;31mNameError\u001b[0m: name 'new_array' is not defined"
     ]
    }
   ],
   "source": [
    "new_array"
   ]
  },
  {
   "cell_type": "code",
   "execution_count": 21,
   "id": "d469f0cd",
   "metadata": {},
   "outputs": [
    {
     "ename": "NameError",
     "evalue": "name 'empty_1' is not defined",
     "output_type": "error",
     "traceback": [
      "\u001b[1;31m---------------------------------------------------------------------------\u001b[0m",
      "\u001b[1;31mNameError\u001b[0m                                 Traceback (most recent call last)",
      "Cell \u001b[1;32mIn [21], line 1\u001b[0m\n\u001b[1;32m----> 1\u001b[0m \u001b[38;5;28;01mfor\u001b[39;00m x,y,i \u001b[38;5;129;01min\u001b[39;00m \u001b[38;5;28mzip\u001b[39m(\u001b[43mempty_1\u001b[49m, empty_2, empty):\n\u001b[0;32m      2\u001b[0m     new_array \u001b[38;5;241m=\u001b[39m np\u001b[38;5;241m.\u001b[39marray([empty_1,empty_2])\n\u001b[0;32m      3\u001b[0m     chisquare \u001b[38;5;241m=\u001b[39m chi2_contingency(new_array)\n",
      "\u001b[1;31mNameError\u001b[0m: name 'empty_1' is not defined"
     ]
    }
   ],
   "source": [
    "for x,y,i in zip(empty_1, empty_2, empty):\n",
    "    new_array = np.array([empty_1,empty_2])\n",
    "    chisquare = chi2_contingency(new_array) #returns chi, p_value, dof\n",
    "#     chi2empty.append(chisquare)"
   ]
  },
  {
   "cell_type": "code",
   "execution_count": 22,
   "id": "e59d2b83",
   "metadata": {},
   "outputs": [],
   "source": [
    "test = []\n",
    "for i in list(df):\n",
    "    array = df[i].to_numpy()\n",
    "    test.append([i,array])"
   ]
  },
  {
   "cell_type": "code",
   "execution_count": 23,
   "id": "f7f51056",
   "metadata": {},
   "outputs": [
    {
     "data": {
      "text/plain": [
       "[['A', array([3, 0, 0, 1, 3, 1, 2, 2], dtype=int64)],\n",
       " ['B', array([1, 2, 2, 2, 2, 1, 1, 0], dtype=int64)],\n",
       " ['C', array([2, 3, 3, 2, 3, 3, 1, 2], dtype=int64)],\n",
       " ['D', array([3, 2, 4, 3, 4, 4, 3, 0], dtype=int64)],\n",
       " ['E', array([1, 2, 3, 0, 0, 4, 4, 2], dtype=int64)]]"
      ]
     },
     "execution_count": 23,
     "metadata": {},
     "output_type": "execute_result"
    }
   ],
   "source": [
    "test"
   ]
  },
  {
   "cell_type": "code",
   "execution_count": 24,
   "id": "01bc781a",
   "metadata": {},
   "outputs": [
    {
     "data": {
      "text/html": [
       "<div>\n",
       "<style scoped>\n",
       "    .dataframe tbody tr th:only-of-type {\n",
       "        vertical-align: middle;\n",
       "    }\n",
       "\n",
       "    .dataframe tbody tr th {\n",
       "        vertical-align: top;\n",
       "    }\n",
       "\n",
       "    .dataframe thead th {\n",
       "        text-align: right;\n",
       "    }\n",
       "</style>\n",
       "<table border=\"1\" class=\"dataframe\">\n",
       "  <thead>\n",
       "    <tr style=\"text-align: right;\">\n",
       "      <th></th>\n",
       "      <th>A</th>\n",
       "      <th>B</th>\n",
       "      <th>C</th>\n",
       "      <th>D</th>\n",
       "      <th>E</th>\n",
       "    </tr>\n",
       "  </thead>\n",
       "  <tbody>\n",
       "    <tr>\n",
       "      <th>1</th>\n",
       "      <td>3</td>\n",
       "      <td>1</td>\n",
       "      <td>2</td>\n",
       "      <td>3</td>\n",
       "      <td>1</td>\n",
       "    </tr>\n",
       "    <tr>\n",
       "      <th>2</th>\n",
       "      <td>0</td>\n",
       "      <td>2</td>\n",
       "      <td>3</td>\n",
       "      <td>2</td>\n",
       "      <td>2</td>\n",
       "    </tr>\n",
       "    <tr>\n",
       "      <th>3</th>\n",
       "      <td>0</td>\n",
       "      <td>2</td>\n",
       "      <td>3</td>\n",
       "      <td>4</td>\n",
       "      <td>3</td>\n",
       "    </tr>\n",
       "    <tr>\n",
       "      <th>4</th>\n",
       "      <td>1</td>\n",
       "      <td>2</td>\n",
       "      <td>2</td>\n",
       "      <td>3</td>\n",
       "      <td>0</td>\n",
       "    </tr>\n",
       "    <tr>\n",
       "      <th>5</th>\n",
       "      <td>3</td>\n",
       "      <td>2</td>\n",
       "      <td>3</td>\n",
       "      <td>4</td>\n",
       "      <td>0</td>\n",
       "    </tr>\n",
       "    <tr>\n",
       "      <th>6</th>\n",
       "      <td>1</td>\n",
       "      <td>1</td>\n",
       "      <td>3</td>\n",
       "      <td>4</td>\n",
       "      <td>4</td>\n",
       "    </tr>\n",
       "    <tr>\n",
       "      <th>7</th>\n",
       "      <td>2</td>\n",
       "      <td>1</td>\n",
       "      <td>1</td>\n",
       "      <td>3</td>\n",
       "      <td>4</td>\n",
       "    </tr>\n",
       "    <tr>\n",
       "      <th>8</th>\n",
       "      <td>2</td>\n",
       "      <td>0</td>\n",
       "      <td>2</td>\n",
       "      <td>0</td>\n",
       "      <td>2</td>\n",
       "    </tr>\n",
       "  </tbody>\n",
       "</table>\n",
       "</div>"
      ],
      "text/plain": [
       "   A  B  C  D  E\n",
       "1  3  1  2  3  1\n",
       "2  0  2  3  2  2\n",
       "3  0  2  3  4  3\n",
       "4  1  2  2  3  0\n",
       "5  3  2  3  4  0\n",
       "6  1  1  3  4  4\n",
       "7  2  1  1  3  4\n",
       "8  2  0  2  0  2"
      ]
     },
     "execution_count": 24,
     "metadata": {},
     "output_type": "execute_result"
    }
   ],
   "source": [
    "df"
   ]
  },
  {
   "cell_type": "code",
   "execution_count": 25,
   "id": "38735fa6",
   "metadata": {},
   "outputs": [],
   "source": [
    "v = list(df)"
   ]
  },
  {
   "cell_type": "code",
   "execution_count": 26,
   "id": "1d6ada1a",
   "metadata": {},
   "outputs": [],
   "source": [
    "v = list(df)\n",
    "empty_0 = []\n",
    "empty = []\n",
    "empty_1 = []\n",
    "empty_2 = []\n",
    "empty_3 = []\n",
    "empty_4 = []\n",
    "empty_5 = []\n",
    "itertools_combinations = list(itertools.combinations(v, 2))\n",
    "#finds every possible combination of list(df)\n",
    "for i in list(df):\n",
    "    column_of_array = df[i].to_numpy()\n",
    "    empty_0.append(column_of_array) #gives the array of the columns of the thing\n",
    "itertools_combinations_lists = list(itertools.combinations(empty_0,2))\n",
    "for lists in itertools_combinations_lists:\n",
    "    empty_1.append(list)\n",
    "for t in range(len(itertools_combinations)):\n",
    "    empty.append(itertools_combinations[t]) #appends the length of the combinations into a list\n",
    "for x,y,i in zip(empty_1, empty_2, empty):\n",
    "    new_array = np.array([empty_1,empty_2])\n",
    "    chisquare = chi2_contingency(new_array) #returns chi, p_value, dof\n",
    "    empty_3.append([i , chisquare])\n",
    "for value in range(len(empty_3)):\n",
    "    empty_4.append(value)\n",
    "for x,y in zip(empty_4, empty_3):\n",
    "    empty_5.append([x,y])"
   ]
  },
  {
   "cell_type": "code",
   "execution_count": 27,
   "id": "7867b185",
   "metadata": {},
   "outputs": [
    {
     "data": {
      "text/plain": [
       "[array([3, 0, 0, 1, 3, 1, 2, 2], dtype=int64),\n",
       " array([1, 2, 2, 2, 2, 1, 1, 0], dtype=int64),\n",
       " array([2, 3, 3, 2, 3, 3, 1, 2], dtype=int64),\n",
       " array([3, 2, 4, 3, 4, 4, 3, 0], dtype=int64),\n",
       " array([1, 2, 3, 0, 0, 4, 4, 2], dtype=int64)]"
      ]
     },
     "execution_count": 27,
     "metadata": {},
     "output_type": "execute_result"
    }
   ],
   "source": [
    "empty_0\n"
   ]
  },
  {
   "cell_type": "code",
   "execution_count": 28,
   "id": "36e128ac",
   "metadata": {},
   "outputs": [
    {
     "data": {
      "text/plain": [
       "[(array([3, 0, 0, 1, 3, 1, 2, 2], dtype=int64),\n",
       "  array([1, 2, 2, 2, 2, 1, 1, 0], dtype=int64)),\n",
       " (array([3, 0, 0, 1, 3, 1, 2, 2], dtype=int64),\n",
       "  array([2, 3, 3, 2, 3, 3, 1, 2], dtype=int64)),\n",
       " (array([3, 0, 0, 1, 3, 1, 2, 2], dtype=int64),\n",
       "  array([3, 2, 4, 3, 4, 4, 3, 0], dtype=int64)),\n",
       " (array([3, 0, 0, 1, 3, 1, 2, 2], dtype=int64),\n",
       "  array([1, 2, 3, 0, 0, 4, 4, 2], dtype=int64)),\n",
       " (array([1, 2, 2, 2, 2, 1, 1, 0], dtype=int64),\n",
       "  array([2, 3, 3, 2, 3, 3, 1, 2], dtype=int64)),\n",
       " (array([1, 2, 2, 2, 2, 1, 1, 0], dtype=int64),\n",
       "  array([3, 2, 4, 3, 4, 4, 3, 0], dtype=int64)),\n",
       " (array([1, 2, 2, 2, 2, 1, 1, 0], dtype=int64),\n",
       "  array([1, 2, 3, 0, 0, 4, 4, 2], dtype=int64)),\n",
       " (array([2, 3, 3, 2, 3, 3, 1, 2], dtype=int64),\n",
       "  array([3, 2, 4, 3, 4, 4, 3, 0], dtype=int64)),\n",
       " (array([2, 3, 3, 2, 3, 3, 1, 2], dtype=int64),\n",
       "  array([1, 2, 3, 0, 0, 4, 4, 2], dtype=int64)),\n",
       " (array([3, 2, 4, 3, 4, 4, 3, 0], dtype=int64),\n",
       "  array([1, 2, 3, 0, 0, 4, 4, 2], dtype=int64))]"
      ]
     },
     "execution_count": 28,
     "metadata": {},
     "output_type": "execute_result"
    }
   ],
   "source": [
    "test = []\n",
    "itertools_combinations_lists = list(itertools.combinations(empty_0,2))\n",
    "for i in itertools_combinations_lists:\n",
    "    test.append(i)\n",
    "test"
   ]
  },
  {
   "cell_type": "code",
   "execution_count": 29,
   "id": "66c370bb",
   "metadata": {},
   "outputs": [
    {
     "data": {
      "text/plain": [
       "[[3, 0, 0, 1, 3, 1, 2, 2],\n",
       " [1, 2, 2, 2, 2, 1, 1, 0],\n",
       " [2, 3, 3, 2, 3, 3, 1, 2],\n",
       " [3, 2, 4, 3, 4, 4, 3, 0],\n",
       " [1, 2, 3, 0, 0, 4, 4, 2]]"
      ]
     },
     "execution_count": 29,
     "metadata": {},
     "output_type": "execute_result"
    }
   ],
   "source": [
    "test = []\n",
    "for i in empty_0:\n",
    "    k = i.tolist()\n",
    "    test.append(k)\n",
    "test\n",
    "#for 1,2,...,n in empty_0, append to n number of lists\n",
    "# for j in range(len(empty_0)):\n",
    "#     for i in empty_0:\n",
    "#         print(j)\n",
    "    \n",
    "#         empty_1.append(i[0])\n",
    "#         empty_2.append(i[1])"
   ]
  },
  {
   "cell_type": "code",
   "execution_count": 30,
   "id": "a8faf28a",
   "metadata": {},
   "outputs": [
    {
     "data": {
      "text/plain": [
       "([array([3, 0, 0, 1, 3, 1, 2, 2], dtype=int64),\n",
       "  array([1, 2, 2, 2, 2, 1, 1, 0], dtype=int64),\n",
       "  array([2, 3, 3, 2, 3, 3, 1, 2], dtype=int64),\n",
       "  array([3, 2, 4, 3, 4, 4, 3, 0], dtype=int64),\n",
       "  array([1, 2, 3, 0, 0, 4, 4, 2], dtype=int64)],\n",
       " [list, list, list, list, list, list, list, list, list, list],\n",
       " [])"
      ]
     },
     "execution_count": 30,
     "metadata": {},
     "output_type": "execute_result"
    }
   ],
   "source": [
    "empty_0, empty_1, empty_2"
   ]
  },
  {
   "cell_type": "code",
   "execution_count": 31,
   "id": "4b3c36b7",
   "metadata": {},
   "outputs": [
    {
     "data": {
      "text/plain": [
       "[array([3, 0, 0, 1, 3, 1, 2, 2], dtype=int64),\n",
       " array([1, 2, 2, 2, 2, 1, 1, 0], dtype=int64),\n",
       " array([2, 3, 3, 2, 3, 3, 1, 2], dtype=int64),\n",
       " array([3, 2, 4, 3, 4, 4, 3, 0], dtype=int64),\n",
       " array([1, 2, 3, 0, 0, 4, 4, 2], dtype=int64)]"
      ]
     },
     "execution_count": 31,
     "metadata": {},
     "output_type": "execute_result"
    }
   ],
   "source": [
    "test = []\n",
    "for i in list(df):\n",
    "    column_of_array = df[i].to_numpy()\n",
    "    test.append(column_of_array)\n",
    "#     empty_0.append(array)\n",
    "test"
   ]
  },
  {
   "cell_type": "code",
   "execution_count": 32,
   "id": "219f2f35",
   "metadata": {},
   "outputs": [],
   "source": [
    "for x,y,i in zip(empty_1, empty_2, empty):\n",
    "    new_array = np.array([empty_1,empty_2])\n",
    "    chisquare = chi2_contingency(new_array) #returns chi, p_value, dof\n",
    "    empty_3.append([i , chisquare])"
   ]
  },
  {
   "cell_type": "code",
   "execution_count": 33,
   "id": "29afa899",
   "metadata": {},
   "outputs": [
    {
     "data": {
      "text/plain": [
       "[]"
      ]
     },
     "execution_count": 33,
     "metadata": {},
     "output_type": "execute_result"
    }
   ],
   "source": [
    "empty_3"
   ]
  },
  {
   "cell_type": "code",
   "execution_count": 34,
   "id": "bb0fbb84",
   "metadata": {},
   "outputs": [
    {
     "name": "stderr",
     "output_type": "stream",
     "text": [
      "C:\\Users\\User\\AppData\\Local\\Temp\\ipykernel_14176\\254271885.py:1: VisibleDeprecationWarning: Creating an ndarray from ragged nested sequences (which is a list-or-tuple of lists-or-tuples-or ndarrays with different lengths or shapes) is deprecated. If you meant to do this, you must specify 'dtype=object' when creating the ndarray.\n",
      "  np.array([empty_1, empty_2])\n"
     ]
    },
    {
     "data": {
      "text/plain": [
       "array([list([<class 'list'>, <class 'list'>, <class 'list'>, <class 'list'>, <class 'list'>, <class 'list'>, <class 'list'>, <class 'list'>, <class 'list'>, <class 'list'>]),\n",
       "       list([])], dtype=object)"
      ]
     },
     "execution_count": 34,
     "metadata": {},
     "output_type": "execute_result"
    }
   ],
   "source": [
    "np.array([empty_1, empty_2])"
   ]
  },
  {
   "cell_type": "code",
   "execution_count": 35,
   "id": "88be5c26",
   "metadata": {},
   "outputs": [],
   "source": [
    "test = []\n",
    "for i in list(df):\n",
    "    array = df[i].to_numpy()\n",
    "#     print(array)\n",
    "    test.append([array])"
   ]
  },
  {
   "cell_type": "code",
   "execution_count": 36,
   "id": "11db2a80",
   "metadata": {},
   "outputs": [],
   "source": [
    "weird = []\n",
    "for i in test:\n",
    "    for k in i:\n",
    "        weird.append(k)"
   ]
  },
  {
   "cell_type": "code",
   "execution_count": 37,
   "id": "0bd25337",
   "metadata": {},
   "outputs": [
    {
     "data": {
      "text/plain": [
       "[3, 0, 0, 1, 3, 1, 2, 2]"
      ]
     },
     "execution_count": 37,
     "metadata": {},
     "output_type": "execute_result"
    }
   ],
   "source": [
    "weird[0].tolist()"
   ]
  },
  {
   "cell_type": "code",
   "execution_count": 38,
   "id": "859c516e",
   "metadata": {},
   "outputs": [],
   "source": [
    "for x,y,i in zip(empty_1, empty_2, empty):\n",
    "    empty_array = np.array([empty_1, empty_2])\n",
    "    chisquare = chisquare(empty_array)"
   ]
  },
  {
   "cell_type": "code",
   "execution_count": null,
   "id": "b82d470d",
   "metadata": {},
   "outputs": [],
   "source": []
  },
  {
   "cell_type": "code",
   "execution_count": null,
   "id": "455747b3",
   "metadata": {},
   "outputs": [],
   "source": []
  },
  {
   "cell_type": "code",
   "execution_count": null,
   "id": "19fa93c5",
   "metadata": {},
   "outputs": [],
   "source": []
  }
 ],
 "metadata": {
  "kernelspec": {
   "display_name": "Python 3 (ipykernel)",
   "language": "python",
   "name": "python3"
  },
  "language_info": {
   "codemirror_mode": {
    "name": "ipython",
    "version": 3
   },
   "file_extension": ".py",
   "mimetype": "text/x-python",
   "name": "python",
   "nbconvert_exporter": "python",
   "pygments_lexer": "ipython3",
   "version": "3.8.8"
  }
 },
 "nbformat": 4,
 "nbformat_minor": 5
}
