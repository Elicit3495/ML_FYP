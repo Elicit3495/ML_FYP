{
 "cells": [
  {
   "cell_type": "code",
   "execution_count": 115,
   "id": "bbbb924b",
   "metadata": {},
   "outputs": [],
   "source": [
    "import pandas as pd\n",
    "# from tabulate import tabulate\n",
    "import numpy as np\n",
    "# import bnlearn as bn\n",
    "import pgmpy\n",
    "import itertools\n",
    "from scipy.stats import chi2_contingency #check for independence between 2 variables\n",
    "from scipy.stats import power_divergence\n",
    "# from pgmpy.estimators.CITests import chi_square\n",
    "# from pgmpy.factors.continuous.discretize import BaseDiscretizer"
   ]
  },
  {
   "cell_type": "code",
   "execution_count": 2,
   "id": "7f25afa9",
   "metadata": {},
   "outputs": [],
   "source": [
    "def csv_format_discrete(csv_file):\n",
    "    df = pd.read_csv(csv_file, sep=\"\\s+\")\n",
    "    return df.drop([0])\n",
    "\n",
    "#returns the csv_file in a pandas dataframe, formatted properly, discrete dataset only"
   ]
  },
  {
   "cell_type": "code",
   "execution_count": 3,
   "id": "571bb323",
   "metadata": {},
   "outputs": [],
   "source": [
    "def csv_format_discrete(csv_file):\n",
    "    df = pd.read_csv(csv_file, sep=\"\\s+\")\n",
    "    return df.drop([0])\n"
   ]
  },
  {
   "cell_type": "code",
   "execution_count": 4,
   "id": "a6f215f5",
   "metadata": {},
   "outputs": [],
   "source": [
    "def gaussian_reader(csv_file):\n",
    "    df = pd.read_csv(csv_file, sep=\"\\s+\")\n",
    "    return df"
   ]
  },
  {
   "cell_type": "code",
   "execution_count": 5,
   "id": "8c08e4eb",
   "metadata": {},
   "outputs": [],
   "source": [
    "def chi_square_CI(df):\n",
    "#the null hypothesis is that they are independent of each other\n",
    "#if true, the p_value is higher than the significance test, we do not reject the null hypothesis\n",
    "#if false, the p_value is lower than the significance test, we reject the null hypothesis\n",
    "    v = list(df)\n",
    "    empty = []\n",
    "    empty_1 = []\n",
    "    empty_2 = []\n",
    "    empty_3 = []\n",
    "    empty_4 = []\n",
    "    empty_5 = []\n",
    "    itertools_combinations = list(itertools.combinations(v, 2)) #finds every possible combination of list(df)\n",
    "    for i in itertools_combinations:\n",
    "        empty_1.append(i[0])\n",
    "        empty_2.append(i[1])\n",
    "    for t in range(len(itertools_combinations)):\n",
    "        empty.append(itertools_combinations[t])\n",
    "    for x,y,i in zip(empty_1, empty_2, empty):\n",
    "        chisquare = chi_square(X=x, Y=y, Z=[], data=df, significance_level=0.95, boolean=False) #returns chi, p_value, dof\n",
    "        empty_3.append([i , chisquare])\n",
    "    for value in range(len(empty_3)):\n",
    "        empty_4.append(value)\n",
    "    for x,y in zip(empty_4, empty_3):\n",
    "        empty_5.append([x,y])\n",
    "    return empty_5\n"
   ]
  },
  {
   "cell_type": "code",
   "execution_count": 118,
   "id": "7b04d4c6",
   "metadata": {},
   "outputs": [],
   "source": [
    "def chi2(df):\n",
    "#the null hypothesis is that they are independent of each other\n",
    "#if true, the p_value is higher than the significance test, we do not reject the null hypothesis\n",
    "#if false, the p_value is lower than the significance test, we reject the null hypothesis\n",
    "    v = list(df)\n",
    "    empty_0 = []\n",
    "    empty = []\n",
    "    empty_1 = []\n",
    "    empty_2 = []\n",
    "    empty_3 = []\n",
    "    empty_4 = []\n",
    "    empty_5 = []\n",
    "    itertools_combinations = list(itertools.combinations(v, 2)) #finds every possible combination of list(df)\n",
    "    for i in list(df):\n",
    "        column_of_array = df[i].to_numpy()\n",
    "        empty_0.append(array) #gives the array of the columns of the thing\n",
    "    for i in itertools_combinations:\n",
    "        empty_1.append(i[0])\n",
    "        empty_2.append(i[1]) #appends combinations into each list\n",
    "    for t in range(len(itertools_combinations)):\n",
    "        empty.append(itertools_combinations[t]) #appends the length of the combinations into a list\n",
    "    for x,y,i in zip(empty_1, empty_2, empty):\n",
    "        new_array = np.array([empty_1,empty_2])\n",
    "        chisquare = chi2_contingency(new_array) #returns chi, p_value, dof\n",
    "        empty_3.append([i , chisquare])\n",
    "    for value in range(len(empty_3)):\n",
    "        empty_4.append(value)\n",
    "    for x,y in zip(empty_4, empty_3):\n",
    "        empty_5.append([x,y])\n",
    "    return empty_5"
   ]
  },
  {
   "cell_type": "code",
   "execution_count": 119,
   "id": "8603d435",
   "metadata": {},
   "outputs": [
    {
     "ename": "TypeError",
     "evalue": "'<' not supported between instances of 'numpy.ndarray' and 'int'",
     "output_type": "error",
     "traceback": [
      "\u001b[1;31m---------------------------------------------------------------------------\u001b[0m",
      "\u001b[1;31mTypeError\u001b[0m                                 Traceback (most recent call last)",
      "Cell \u001b[1;32mIn [119], line 1\u001b[0m\n\u001b[1;32m----> 1\u001b[0m \u001b[43mchi2\u001b[49m\u001b[43m(\u001b[49m\u001b[43mdf\u001b[49m\u001b[43m)\u001b[49m\n",
      "Cell \u001b[1;32mIn [118], line 24\u001b[0m, in \u001b[0;36mchi2\u001b[1;34m(df)\u001b[0m\n\u001b[0;32m     22\u001b[0m \u001b[38;5;28;01mfor\u001b[39;00m x,y,i \u001b[38;5;129;01min\u001b[39;00m \u001b[38;5;28mzip\u001b[39m(empty_1, empty_2, empty):\n\u001b[0;32m     23\u001b[0m     new_array \u001b[38;5;241m=\u001b[39m np\u001b[38;5;241m.\u001b[39marray([empty_1,empty_2])\n\u001b[1;32m---> 24\u001b[0m     chisquare \u001b[38;5;241m=\u001b[39m \u001b[43mchi2_contingency\u001b[49m\u001b[43m(\u001b[49m\u001b[43mnew_array\u001b[49m\u001b[43m)\u001b[49m \u001b[38;5;66;03m#returns chi, p_value, dof\u001b[39;00m\n\u001b[0;32m     25\u001b[0m     empty_3\u001b[38;5;241m.\u001b[39mappend([i , chisquare])\n\u001b[0;32m     26\u001b[0m \u001b[38;5;28;01mfor\u001b[39;00m value \u001b[38;5;129;01min\u001b[39;00m \u001b[38;5;28mrange\u001b[39m(\u001b[38;5;28mlen\u001b[39m(empty_3)):\n",
      "File \u001b[1;32m~\\anaconda3\\lib\\site-packages\\scipy\\stats\\contingency.py:266\u001b[0m, in \u001b[0;36mchi2_contingency\u001b[1;34m(observed, correction, lambda_)\u001b[0m\n\u001b[0;32m    133\u001b[0m \u001b[38;5;124;03m\"\"\"Chi-square test of independence of variables in a contingency table.\u001b[39;00m\n\u001b[0;32m    134\u001b[0m \n\u001b[0;32m    135\u001b[0m \u001b[38;5;124;03mThis function computes the chi-square statistic and p-value for the\u001b[39;00m\n\u001b[1;32m   (...)\u001b[0m\n\u001b[0;32m    263\u001b[0m \u001b[38;5;124;03m          [ 18.10873492,  18.10873492]]]]))\u001b[39;00m\n\u001b[0;32m    264\u001b[0m \u001b[38;5;124;03m\"\"\"\u001b[39;00m\n\u001b[0;32m    265\u001b[0m observed \u001b[38;5;241m=\u001b[39m np\u001b[38;5;241m.\u001b[39masarray(observed)\n\u001b[1;32m--> 266\u001b[0m \u001b[38;5;28;01mif\u001b[39;00m np\u001b[38;5;241m.\u001b[39many(\u001b[43mobserved\u001b[49m\u001b[43m \u001b[49m\u001b[38;5;241;43m<\u001b[39;49m\u001b[43m \u001b[49m\u001b[38;5;241;43m0\u001b[39;49m):\n\u001b[0;32m    267\u001b[0m     \u001b[38;5;28;01mraise\u001b[39;00m \u001b[38;5;167;01mValueError\u001b[39;00m(\u001b[38;5;124m\"\u001b[39m\u001b[38;5;124mAll values in `observed` must be nonnegative.\u001b[39m\u001b[38;5;124m\"\u001b[39m)\n\u001b[0;32m    268\u001b[0m \u001b[38;5;28;01mif\u001b[39;00m observed\u001b[38;5;241m.\u001b[39msize \u001b[38;5;241m==\u001b[39m \u001b[38;5;241m0\u001b[39m:\n",
      "\u001b[1;31mTypeError\u001b[0m: '<' not supported between instances of 'numpy.ndarray' and 'int'"
     ]
    }
   ],
   "source": [
    "chi2(df)"
   ]
  },
  {
   "cell_type": "code",
   "execution_count": 91,
   "id": "020e0556",
   "metadata": {},
   "outputs": [],
   "source": [
    "def new_chi(df):\n",
    "    test = []\n",
    "    for i in list(df):\n",
    "        array = df[i].to_numpy()\n",
    "        test.append(array)\n",
    "    return test"
   ]
  },
  {
   "cell_type": "code",
   "execution_count": 108,
   "id": "4ee4c2b8",
   "metadata": {},
   "outputs": [
    {
     "data": {
      "text/plain": [
       "array([[3, 0, 0, 1, 3, 1, 2, 2],\n",
       "       [1, 2, 2, 2, 2, 1, 1, 0]])"
      ]
     },
     "execution_count": 108,
     "metadata": {},
     "output_type": "execute_result"
    }
   ],
   "source": [
    "test = new_chi(df)\n",
    "a = test[0].tolist()\n",
    "b = test[1].tolist()\n",
    "test_2 = np.array([a, b])\n",
    "test_2"
   ]
  },
  {
   "cell_type": "code",
   "execution_count": 114,
   "id": "60357a1c",
   "metadata": {},
   "outputs": [
    {
     "data": {
      "text/plain": [
       "array([[2.08695652, 1.04347826, 1.04347826, 1.56521739, 2.60869565,\n",
       "        1.04347826, 1.56521739, 1.04347826],\n",
       "       [1.91304348, 0.95652174, 0.95652174, 1.43478261, 2.39130435,\n",
       "        0.95652174, 1.43478261, 0.95652174]])"
      ]
     },
     "execution_count": 114,
     "metadata": {},
     "output_type": "execute_result"
    }
   ],
   "source": [
    "chi2_contingency(test_2)[3]"
   ]
  },
  {
   "cell_type": "code",
   "execution_count": 146,
   "id": "695074e2",
   "metadata": {},
   "outputs": [],
   "source": [
    "chi2empty = []"
   ]
  },
  {
   "cell_type": "code",
   "execution_count": 151,
   "id": "d4f12bb9",
   "metadata": {},
   "outputs": [
    {
     "data": {
      "text/plain": [
       "array([['A', 'A', 'A', 'A', 'B', 'B', 'B', 'C', 'C', 'D'],\n",
       "       ['B', 'C', 'D', 'E', 'C', 'D', 'E', 'D', 'E', 'E']], dtype='<U1')"
      ]
     },
     "execution_count": 151,
     "metadata": {},
     "output_type": "execute_result"
    }
   ],
   "source": [
    "new_array"
   ]
  },
  {
   "cell_type": "code",
   "execution_count": 150,
   "id": "a9676a2a",
   "metadata": {},
   "outputs": [
    {
     "ename": "TypeError",
     "evalue": "'<' not supported between instances of 'numpy.ndarray' and 'int'",
     "output_type": "error",
     "traceback": [
      "\u001b[1;31m---------------------------------------------------------------------------\u001b[0m",
      "\u001b[1;31mTypeError\u001b[0m                                 Traceback (most recent call last)",
      "Cell \u001b[1;32mIn [150], line 3\u001b[0m\n\u001b[0;32m      1\u001b[0m \u001b[38;5;28;01mfor\u001b[39;00m x,y,i \u001b[38;5;129;01min\u001b[39;00m \u001b[38;5;28mzip\u001b[39m(empty_1, empty_2, empty):\n\u001b[0;32m      2\u001b[0m     new_array \u001b[38;5;241m=\u001b[39m np\u001b[38;5;241m.\u001b[39marray([empty_1,empty_2])\n\u001b[1;32m----> 3\u001b[0m     chisquare \u001b[38;5;241m=\u001b[39m \u001b[43mchi2_contingency\u001b[49m\u001b[43m(\u001b[49m\u001b[43mnew_array\u001b[49m\u001b[43m)\u001b[49m\n",
      "File \u001b[1;32m~\\anaconda3\\lib\\site-packages\\scipy\\stats\\contingency.py:266\u001b[0m, in \u001b[0;36mchi2_contingency\u001b[1;34m(observed, correction, lambda_)\u001b[0m\n\u001b[0;32m    133\u001b[0m \u001b[38;5;124;03m\"\"\"Chi-square test of independence of variables in a contingency table.\u001b[39;00m\n\u001b[0;32m    134\u001b[0m \n\u001b[0;32m    135\u001b[0m \u001b[38;5;124;03mThis function computes the chi-square statistic and p-value for the\u001b[39;00m\n\u001b[1;32m   (...)\u001b[0m\n\u001b[0;32m    263\u001b[0m \u001b[38;5;124;03m          [ 18.10873492,  18.10873492]]]]))\u001b[39;00m\n\u001b[0;32m    264\u001b[0m \u001b[38;5;124;03m\"\"\"\u001b[39;00m\n\u001b[0;32m    265\u001b[0m observed \u001b[38;5;241m=\u001b[39m np\u001b[38;5;241m.\u001b[39masarray(observed)\n\u001b[1;32m--> 266\u001b[0m \u001b[38;5;28;01mif\u001b[39;00m np\u001b[38;5;241m.\u001b[39many(\u001b[43mobserved\u001b[49m\u001b[43m \u001b[49m\u001b[38;5;241;43m<\u001b[39;49m\u001b[43m \u001b[49m\u001b[38;5;241;43m0\u001b[39;49m):\n\u001b[0;32m    267\u001b[0m     \u001b[38;5;28;01mraise\u001b[39;00m \u001b[38;5;167;01mValueError\u001b[39;00m(\u001b[38;5;124m\"\u001b[39m\u001b[38;5;124mAll values in `observed` must be nonnegative.\u001b[39m\u001b[38;5;124m\"\u001b[39m)\n\u001b[0;32m    268\u001b[0m \u001b[38;5;28;01mif\u001b[39;00m observed\u001b[38;5;241m.\u001b[39msize \u001b[38;5;241m==\u001b[39m \u001b[38;5;241m0\u001b[39m:\n",
      "\u001b[1;31mTypeError\u001b[0m: '<' not supported between instances of 'numpy.ndarray' and 'int'"
     ]
    }
   ],
   "source": [
    "for x,y,i in zip(empty_1, empty_2, empty):\n",
    "    new_array = np.array([empty_1,empty_2])\n",
    "    chisquare = chi2_contingency(new_array) #returns chi, p_value, dof\n",
    "#     chi2empty.append(chisquare)"
   ]
  },
  {
   "cell_type": "code",
   "execution_count": 78,
   "id": "18a1e82f",
   "metadata": {},
   "outputs": [],
   "source": [
    "test = []\n",
    "for i in list(df):\n",
    "    array = df[i].to_numpy()\n",
    "    test.append([i,array])"
   ]
  },
  {
   "cell_type": "code",
   "execution_count": 90,
   "id": "00e9fe38",
   "metadata": {},
   "outputs": [],
   "source": [
    "test"
   ]
  },
  {
   "cell_type": "code",
   "execution_count": 72,
   "id": "d659aa4e",
   "metadata": {},
   "outputs": [
    {
     "data": {
      "text/html": [
       "<div>\n",
       "<style scoped>\n",
       "    .dataframe tbody tr th:only-of-type {\n",
       "        vertical-align: middle;\n",
       "    }\n",
       "\n",
       "    .dataframe tbody tr th {\n",
       "        vertical-align: top;\n",
       "    }\n",
       "\n",
       "    .dataframe thead th {\n",
       "        text-align: right;\n",
       "    }\n",
       "</style>\n",
       "<table border=\"1\" class=\"dataframe\">\n",
       "  <thead>\n",
       "    <tr style=\"text-align: right;\">\n",
       "      <th></th>\n",
       "      <th>A</th>\n",
       "      <th>B</th>\n",
       "      <th>C</th>\n",
       "      <th>D</th>\n",
       "      <th>E</th>\n",
       "    </tr>\n",
       "  </thead>\n",
       "  <tbody>\n",
       "    <tr>\n",
       "      <th>1</th>\n",
       "      <td>3</td>\n",
       "      <td>1</td>\n",
       "      <td>2</td>\n",
       "      <td>3</td>\n",
       "      <td>1</td>\n",
       "    </tr>\n",
       "    <tr>\n",
       "      <th>2</th>\n",
       "      <td>0</td>\n",
       "      <td>2</td>\n",
       "      <td>3</td>\n",
       "      <td>2</td>\n",
       "      <td>2</td>\n",
       "    </tr>\n",
       "    <tr>\n",
       "      <th>3</th>\n",
       "      <td>0</td>\n",
       "      <td>2</td>\n",
       "      <td>3</td>\n",
       "      <td>4</td>\n",
       "      <td>3</td>\n",
       "    </tr>\n",
       "    <tr>\n",
       "      <th>4</th>\n",
       "      <td>1</td>\n",
       "      <td>2</td>\n",
       "      <td>2</td>\n",
       "      <td>3</td>\n",
       "      <td>0</td>\n",
       "    </tr>\n",
       "    <tr>\n",
       "      <th>5</th>\n",
       "      <td>3</td>\n",
       "      <td>2</td>\n",
       "      <td>3</td>\n",
       "      <td>4</td>\n",
       "      <td>0</td>\n",
       "    </tr>\n",
       "    <tr>\n",
       "      <th>6</th>\n",
       "      <td>1</td>\n",
       "      <td>1</td>\n",
       "      <td>3</td>\n",
       "      <td>4</td>\n",
       "      <td>4</td>\n",
       "    </tr>\n",
       "    <tr>\n",
       "      <th>7</th>\n",
       "      <td>2</td>\n",
       "      <td>1</td>\n",
       "      <td>1</td>\n",
       "      <td>3</td>\n",
       "      <td>4</td>\n",
       "    </tr>\n",
       "    <tr>\n",
       "      <th>8</th>\n",
       "      <td>2</td>\n",
       "      <td>0</td>\n",
       "      <td>2</td>\n",
       "      <td>0</td>\n",
       "      <td>2</td>\n",
       "    </tr>\n",
       "  </tbody>\n",
       "</table>\n",
       "</div>"
      ],
      "text/plain": [
       "   A  B  C  D  E\n",
       "1  3  1  2  3  1\n",
       "2  0  2  3  2  2\n",
       "3  0  2  3  4  3\n",
       "4  1  2  2  3  0\n",
       "5  3  2  3  4  0\n",
       "6  1  1  3  4  4\n",
       "7  2  1  1  3  4\n",
       "8  2  0  2  0  2"
      ]
     },
     "execution_count": 72,
     "metadata": {},
     "output_type": "execute_result"
    }
   ],
   "source": [
    "df"
   ]
  },
  {
   "cell_type": "code",
   "execution_count": 59,
   "id": "b4886866",
   "metadata": {},
   "outputs": [],
   "source": [
    "df = csv_format_discrete(r\"C:\\Users\\User\\Documents\\GitHub\\ML_FYP\\dataset\\test_2.dat\")\n",
    "v = list(df)"
   ]
  },
  {
   "cell_type": "code",
   "execution_count": 176,
   "id": "1d6ada1a",
   "metadata": {},
   "outputs": [],
   "source": [
    "v = list(df)\n",
    "empty_0 = []\n",
    "empty = []\n",
    "empty_1 = []\n",
    "empty_2 = []\n",
    "empty_3 = []\n",
    "empty_4 = []\n",
    "empty_5 = []\n",
    "itertools_combinations = list(itertools.combinations(v, 2)) #finds every possible combination of list(df)\n",
    "for i in list(df):\n",
    "    column_of_array = df[i].to_numpy()\n",
    "    empty_0.append(column_of_array) #gives the array of the columns of the thing\n",
    "for i in empty_0:\n",
    "    empty_1.append(i[0])\n",
    "    empty_2.append(i[1]) #appends combinations into each list\n",
    "for t in range(len(itertools_combinations)):\n",
    "    empty.append(itertools_combinations[t]) #appends the length of the combinations into a list\n",
    "for x,y,i in zip(empty_1, empty_2, empty):\n",
    "    new_array = np.array([empty_1,empty_2])\n",
    "    chisquare = chi2_contingency(new_array) #returns chi, p_value, dof\n",
    "    empty_3.append([i , chisquare])\n",
    "for value in range(len(empty_3)):\n",
    "    empty_4.append(value)\n",
    "for x,y in zip(empty_4, empty_3):\n",
    "    empty_5.append([x,y])"
   ]
  },
  {
   "cell_type": "code",
   "execution_count": 191,
   "id": "f3605efb",
   "metadata": {},
   "outputs": [
    {
     "data": {
      "text/plain": [
       "[array([3, 0, 0, 1, 3, 1, 2, 2], dtype=int64),\n",
       " array([1, 2, 2, 2, 2, 1, 1, 0], dtype=int64),\n",
       " array([2, 3, 3, 2, 3, 3, 1, 2], dtype=int64),\n",
       " array([3, 2, 4, 3, 4, 4, 3, 0], dtype=int64),\n",
       " array([1, 2, 3, 0, 0, 4, 4, 2], dtype=int64)]"
      ]
     },
     "execution_count": 191,
     "metadata": {},
     "output_type": "execute_result"
    }
   ],
   "source": [
    "empty_0"
   ]
  },
  {
   "cell_type": "code",
   "execution_count": 190,
   "id": "5e69bf23",
   "metadata": {},
   "outputs": [
    {
     "data": {
      "text/plain": [
       "[[3, 0, 0, 1, 3, 1, 2, 2],\n",
       " [1, 2, 2, 2, 2, 1, 1, 0],\n",
       " [2, 3, 3, 2, 3, 3, 1, 2],\n",
       " [3, 2, 4, 3, 4, 4, 3, 0],\n",
       " [1, 2, 3, 0, 0, 4, 4, 2]]"
      ]
     },
     "execution_count": 190,
     "metadata": {},
     "output_type": "execute_result"
    }
   ],
   "source": [
    "test = []\n",
    "for i in empty_0:\n",
    "    k = i.tolist()\n",
    "    test.append(k)\n",
    "test\n",
    "#for 1,2,...,n in empty_0, append to n number of lists\n",
    "# for j in range(len(empty_0)):\n",
    "#     for i in empty_0:\n",
    "#         print(j)\n",
    "    \n",
    "#         empty_1.append(i[0])\n",
    "#         empty_2.append(i[1])"
   ]
  },
  {
   "cell_type": "code",
   "execution_count": 182,
   "id": "66d9d2e9",
   "metadata": {},
   "outputs": [
    {
     "data": {
      "text/plain": [
       "([array([3, 0, 0, 1, 3, 1, 2, 2], dtype=int64),\n",
       "  array([1, 2, 2, 2, 2, 1, 1, 0], dtype=int64),\n",
       "  array([2, 3, 3, 2, 3, 3, 1, 2], dtype=int64),\n",
       "  array([3, 2, 4, 3, 4, 4, 3, 0], dtype=int64),\n",
       "  array([1, 2, 3, 0, 0, 4, 4, 2], dtype=int64)],\n",
       " [3, 1, 2, 3, 1],\n",
       " [0, 2, 3, 2, 2])"
      ]
     },
     "execution_count": 182,
     "metadata": {},
     "output_type": "execute_result"
    }
   ],
   "source": [
    "empty_0, empty_1, empty_2"
   ]
  },
  {
   "cell_type": "code",
   "execution_count": 175,
   "id": "5126bad7",
   "metadata": {},
   "outputs": [
    {
     "data": {
      "text/plain": [
       "[array([3, 0, 0, 1, 3, 1, 2, 2], dtype=int64),\n",
       " array([1, 2, 2, 2, 2, 1, 1, 0], dtype=int64),\n",
       " array([2, 3, 3, 2, 3, 3, 1, 2], dtype=int64),\n",
       " array([3, 2, 4, 3, 4, 4, 3, 0], dtype=int64),\n",
       " array([1, 2, 3, 0, 0, 4, 4, 2], dtype=int64)]"
      ]
     },
     "execution_count": 175,
     "metadata": {},
     "output_type": "execute_result"
    }
   ],
   "source": [
    "test = []\n",
    "for i in list(df):\n",
    "    column_of_array = df[i].to_numpy()\n",
    "    test.append(column_of_array)\n",
    "#     empty_0.append(array)\n",
    "test"
   ]
  },
  {
   "cell_type": "code",
   "execution_count": 159,
   "id": "ac5c3efe",
   "metadata": {},
   "outputs": [],
   "source": [
    "for x,y,i in zip(empty_1, empty_2, empty):\n",
    "    new_array = np.array([empty_1,empty_2])\n",
    "    chisquare = chi2_contingency(new_array) #returns chi, p_value, dof\n",
    "    empty_3.append([i , chisquare])"
   ]
  },
  {
   "cell_type": "code",
   "execution_count": 160,
   "id": "bc55a106",
   "metadata": {},
   "outputs": [
    {
     "data": {
      "text/plain": [
       "[[('A', 'B'),\n",
       "  (0.0, 1.0, 4, array([[1., 1., 1., 1., 1.],\n",
       "          [2., 2., 2., 2., 2.]]))],\n",
       " [('A', 'C'),\n",
       "  (0.0, 1.0, 4, array([[1., 1., 1., 1., 1.],\n",
       "          [2., 2., 2., 2., 2.]]))],\n",
       " [('A', 'D'),\n",
       "  (0.0, 1.0, 4, array([[1., 1., 1., 1., 1.],\n",
       "          [2., 2., 2., 2., 2.]]))],\n",
       " [('A', 'E'),\n",
       "  (0.0, 1.0, 4, array([[1., 1., 1., 1., 1.],\n",
       "          [2., 2., 2., 2., 2.]]))],\n",
       " [('B', 'C'),\n",
       "  (0.0, 1.0, 4, array([[1., 1., 1., 1., 1.],\n",
       "          [2., 2., 2., 2., 2.]]))]]"
      ]
     },
     "execution_count": 160,
     "metadata": {},
     "output_type": "execute_result"
    }
   ],
   "source": [
    "empty_3"
   ]
  },
  {
   "cell_type": "code",
   "execution_count": 70,
   "id": "cc2f59ae",
   "metadata": {},
   "outputs": [
    {
     "data": {
      "text/plain": [
       "array([['A', 'A', 'A', 'A', 'B', 'B', 'B', 'C', 'C', 'D'],\n",
       "       ['B', 'C', 'D', 'E', 'C', 'D', 'E', 'D', 'E', 'E']], dtype='<U1')"
      ]
     },
     "execution_count": 70,
     "metadata": {},
     "output_type": "execute_result"
    }
   ],
   "source": [
    "np.array([empty_1, empty_2])"
   ]
  },
  {
   "cell_type": "code",
   "execution_count": 135,
   "id": "20eba0de",
   "metadata": {},
   "outputs": [],
   "source": [
    "test = []\n",
    "for i in list(df):\n",
    "    array = df[i].to_numpy()\n",
    "#     print(array)\n",
    "    test.append([array])"
   ]
  },
  {
   "cell_type": "code",
   "execution_count": 142,
   "id": "9560825e",
   "metadata": {},
   "outputs": [],
   "source": [
    "weird = []\n",
    "for i in test:\n",
    "    for k in i:\n",
    "        weird.append(k)"
   ]
  },
  {
   "cell_type": "code",
   "execution_count": 145,
   "id": "057bf2f3",
   "metadata": {},
   "outputs": [
    {
     "data": {
      "text/plain": [
       "[3, 0, 0, 1, 3, 1, 2, 2]"
      ]
     },
     "execution_count": 145,
     "metadata": {},
     "output_type": "execute_result"
    }
   ],
   "source": [
    "weird[0].tolist()"
   ]
  },
  {
   "cell_type": "code",
   "execution_count": 120,
   "id": "665c4055",
   "metadata": {},
   "outputs": [
    {
     "ename": "ValueError",
     "evalue": "could not convert string to float: 'A'",
     "output_type": "error",
     "traceback": [
      "\u001b[1;31m---------------------------------------------------------------------------\u001b[0m",
      "\u001b[1;31mValueError\u001b[0m                                Traceback (most recent call last)",
      "Cell \u001b[1;32mIn [120], line 3\u001b[0m\n\u001b[0;32m      1\u001b[0m \u001b[38;5;28;01mfor\u001b[39;00m x,y,i \u001b[38;5;129;01min\u001b[39;00m \u001b[38;5;28mzip\u001b[39m(empty_1, empty_2, empty):\n\u001b[0;32m      2\u001b[0m     empty_array \u001b[38;5;241m=\u001b[39m np\u001b[38;5;241m.\u001b[39marray([empty_1, empty_2])\n\u001b[1;32m----> 3\u001b[0m     chisquare \u001b[38;5;241m=\u001b[39m \u001b[43mchisquare\u001b[49m\u001b[43m(\u001b[49m\u001b[43mempty_array\u001b[49m\u001b[43m)\u001b[49m\n",
      "File \u001b[1;32m~\\anaconda3\\lib\\site-packages\\scipy\\stats\\_stats_py.py:7311\u001b[0m, in \u001b[0;36mchisquare\u001b[1;34m(f_obs, f_exp, ddof, axis)\u001b[0m\n\u001b[0;32m   7187\u001b[0m \u001b[38;5;28;01mdef\u001b[39;00m \u001b[38;5;21mchisquare\u001b[39m(f_obs, f_exp\u001b[38;5;241m=\u001b[39m\u001b[38;5;28;01mNone\u001b[39;00m, ddof\u001b[38;5;241m=\u001b[39m\u001b[38;5;241m0\u001b[39m, axis\u001b[38;5;241m=\u001b[39m\u001b[38;5;241m0\u001b[39m):\n\u001b[0;32m   7188\u001b[0m     \u001b[38;5;124;03m\"\"\"Calculate a one-way chi-square test.\u001b[39;00m\n\u001b[0;32m   7189\u001b[0m \n\u001b[0;32m   7190\u001b[0m \u001b[38;5;124;03m    The chi-square test tests the null hypothesis that the categorical data\u001b[39;00m\n\u001b[1;32m   (...)\u001b[0m\n\u001b[0;32m   7309\u001b[0m \n\u001b[0;32m   7310\u001b[0m \u001b[38;5;124;03m    \"\"\"\u001b[39;00m\n\u001b[1;32m-> 7311\u001b[0m     \u001b[38;5;28;01mreturn\u001b[39;00m \u001b[43mpower_divergence\u001b[49m\u001b[43m(\u001b[49m\u001b[43mf_obs\u001b[49m\u001b[43m,\u001b[49m\u001b[43m \u001b[49m\u001b[43mf_exp\u001b[49m\u001b[38;5;241;43m=\u001b[39;49m\u001b[43mf_exp\u001b[49m\u001b[43m,\u001b[49m\u001b[43m \u001b[49m\u001b[43mddof\u001b[49m\u001b[38;5;241;43m=\u001b[39;49m\u001b[43mddof\u001b[49m\u001b[43m,\u001b[49m\u001b[43m \u001b[49m\u001b[43maxis\u001b[49m\u001b[38;5;241;43m=\u001b[39;49m\u001b[43maxis\u001b[49m\u001b[43m,\u001b[49m\n\u001b[0;32m   7312\u001b[0m \u001b[43m                            \u001b[49m\u001b[43mlambda_\u001b[49m\u001b[38;5;241;43m=\u001b[39;49m\u001b[38;5;124;43m\"\u001b[39;49m\u001b[38;5;124;43mpearson\u001b[39;49m\u001b[38;5;124;43m\"\u001b[39;49m\u001b[43m)\u001b[49m\n",
      "File \u001b[1;32m~\\anaconda3\\lib\\site-packages\\scipy\\stats\\_stats_py.py:7133\u001b[0m, in \u001b[0;36mpower_divergence\u001b[1;34m(f_obs, f_exp, ddof, axis, lambda_)\u001b[0m\n\u001b[0;32m   7130\u001b[0m     lambda_ \u001b[38;5;241m=\u001b[39m \u001b[38;5;241m1\u001b[39m\n\u001b[0;32m   7132\u001b[0m f_obs \u001b[38;5;241m=\u001b[39m np\u001b[38;5;241m.\u001b[39masanyarray(f_obs)\n\u001b[1;32m-> 7133\u001b[0m f_obs_float \u001b[38;5;241m=\u001b[39m \u001b[43mf_obs\u001b[49m\u001b[38;5;241;43m.\u001b[39;49m\u001b[43mastype\u001b[49m\u001b[43m(\u001b[49m\u001b[43mnp\u001b[49m\u001b[38;5;241;43m.\u001b[39;49m\u001b[43mfloat64\u001b[49m\u001b[43m)\u001b[49m\n\u001b[0;32m   7135\u001b[0m \u001b[38;5;28;01mif\u001b[39;00m f_exp \u001b[38;5;129;01mis\u001b[39;00m \u001b[38;5;129;01mnot\u001b[39;00m \u001b[38;5;28;01mNone\u001b[39;00m:\n\u001b[0;32m   7136\u001b[0m     f_exp \u001b[38;5;241m=\u001b[39m np\u001b[38;5;241m.\u001b[39masanyarray(f_exp)\n",
      "\u001b[1;31mValueError\u001b[0m: could not convert string to float: 'A'"
     ]
    }
   ],
   "source": [
    "for x,y,i in zip(empty_1, empty_2, empty):\n",
    "    empty_array = np.array([empty_1, empty_2])\n",
    "    chisquare = chisquare(empty_array)"
   ]
  },
  {
   "cell_type": "code",
   "execution_count": null,
   "id": "7941e98f",
   "metadata": {},
   "outputs": [],
   "source": []
  }
 ],
 "metadata": {
  "kernelspec": {
   "display_name": "Python 3 (ipykernel)",
   "language": "python",
   "name": "python3"
  },
  "language_info": {
   "codemirror_mode": {
    "name": "ipython",
    "version": 3
   },
   "file_extension": ".py",
   "mimetype": "text/x-python",
   "name": "python",
   "nbconvert_exporter": "python",
   "pygments_lexer": "ipython3",
   "version": "3.8.8"
  }
 },
 "nbformat": 4,
 "nbformat_minor": 5
}
