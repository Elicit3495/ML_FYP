{
 "cells": [
  {
   "cell_type": "code",
   "execution_count": 2,
   "id": "bbbb924b",
   "metadata": {},
   "outputs": [],
   "source": [
    "import pandas as pd\n",
    "import numpy as np\n",
    "from pygobnilp.gobnilp import Gobnilp\n",
    "import pgmpy\n",
    "import itertools\n",
    "from pgmpy.estimators.CITests import pearsonr\n",
    "from pgmpy.estimators.CITests import chi_square\n",
    "import networkx as nx\n",
    "import time\n",
    "import collections"
   ]
  },
  {
   "cell_type": "code",
   "execution_count": 3,
   "id": "7f25afa9",
   "metadata": {},
   "outputs": [],
   "source": [
    "def csv_format_discrete(csv_file):\n",
    "    df = pd.read_csv(csv_file, sep=\"\\s+\")\n",
    "    return df.drop([0])\n",
    "\n",
    "#returns the csv_file in a pandas dataframe, formatted properly, discrete dataset only"
   ]
  },
  {
   "cell_type": "code",
   "execution_count": 4,
   "id": "0d13a4c9",
   "metadata": {},
   "outputs": [],
   "source": [
    "#small network : n <= 20 nodes, medium network: 20 <= n <= 50 , large: 50 <= n <= 100, ... \n",
    "df_asia = csv_format_discrete(r\"C:\\Users\\User\\Documents\\GitHub\\ML_FYP\\dataset\\asia_10000.dat\")\n",
    "df_child = csv_format_discrete(r\"C:\\Users\\User\\Documents\\GitHub\\ML_FYP\\dataset\\child.dat\")\n",
    "df_insurance = csv_format_discrete(r\"C:\\Users\\User\\Documents\\GitHub\\ML_FYP\\dataset\\insurance.dat\")\n",
    "df_water = csv_format_discrete(r\"C:\\Users\\User\\Documents\\GitHub\\ML_FYP\\dataset\\Water_1000.dat\")\n",
    "df_alarm = csv_format_discrete(r\"C:\\Users\\User\\Documents\\GitHub\\ML_FYP\\dataset\\alarm_10000.dat\")\n",
    "df_barley = csv_format_discrete(r\"C:\\Users\\User\\Documents\\GitHub\\ML_FYP\\dataset\\barley.dat\")\n",
    "df_hailfinder = csv_format_discrete(r\"C:\\Users\\User\\Documents\\GitHub\\ML_FYP\\dataset\\hailfinder.dat\")\n",
    "df_hepar2 = csv_format_discrete(r\"C:\\Users\\User\\Documents\\GitHub\\ML_FYP\\dataset\\hepar2.dat\")\n",
    "df_andes = csv_format_discrete(r\"C:\\Users\\User\\Documents\\GitHub\\ML_FYP\\dataset\\andes.dat\")\n",
    "df_link = csv_format_discrete(r\"C:\\Users\\User\\Documents\\GitHub\\ML_FYP\\dataset\\link.dat\")\n",
    "df_pathfinder = csv_format_discrete(r\"C:\\Users\\User\\Documents\\GitHub\\ML_FYP\\dataset\\pathfinder.dat\")\n",
    "df_munin2 = csv_format_discrete(r\"C:\\Users\\User\\Documents\\GitHub\\ML_FYP\\dataset\\munin2.dat\")"
   ]
  },
  {
   "cell_type": "markdown",
   "id": "68a3df7c",
   "metadata": {},
   "source": [
    "### chi-squared test"
   ]
  },
  {
   "cell_type": "code",
   "execution_count": 5,
   "id": "8c08e4eb",
   "metadata": {},
   "outputs": [],
   "source": [
    "#0th order chi2 test\n",
    "def chi2bool(df, rho):\n",
    "    '''\n",
    "    0th order CI test\n",
    "    \n",
    "    Parameters:\n",
    "    df -> pandas dataframe\n",
    "    rho -> significance level, only accept 0 <= rho <= 1.0\n",
    "    '''\n",
    "    chi2 = []\n",
    "    v = list(df)\n",
    "    my_list = list(itertools.combinations(v,2))\n",
    "    y_0, y_1 = [x[0] for x in my_list], [x[1] for x in my_list]\n",
    "    for i,j in zip(y_0, y_1):\n",
    "        chi = chi_square(X=i, Y=j, Z=[], data=df, significance_level=rho)\n",
    "        chi2.append((i,j,chi))\n",
    "    true_0 = [x for x in chi2 if True in x]\n",
    "    false_0 = [x for x in chi2 if False in x]\n",
    "    return true_0, false_0"
   ]
  },
  {
   "cell_type": "markdown",
   "id": "1732778c",
   "metadata": {},
   "source": [
    "### graph"
   ]
  },
  {
   "cell_type": "code",
   "execution_count": 6,
   "id": "06af1c19",
   "metadata": {},
   "outputs": [],
   "source": [
    "def Graph(df):\n",
    "    G = nx.Graph()\n",
    "    v = list(df)\n",
    "    for i in v:\n",
    "        G.add_node(i)\n",
    "    k = list(itertools.combinations(v,2))\n",
    "    for i,j in k:\n",
    "        G.add_edge(i,j)\n",
    "#     print(G)\n",
    "    return(G)"
   ]
  },
  {
   "cell_type": "code",
   "execution_count": 7,
   "id": "9da84487",
   "metadata": {},
   "outputs": [],
   "source": [
    "def PC_0(df, rho, G):\n",
    "    '''\n",
    "    finds 0th order conditional independencies (CI) between each node, if True then remove an edge \n",
    "    '''\n",
    "    ind_0 = [x[:2] for x in chi2bool(df, rho)[0]]\n",
    "    for i,j in ind_0:\n",
    "        G.remove_edge(i,j)\n",
    "#     print('the number of edges removed is:' , len(ind_0))\n",
    "#     print(G)\n",
    "    return G, ind_0"
   ]
  },
  {
   "cell_type": "markdown",
   "id": "24e3de73",
   "metadata": {},
   "source": [
    "### adjacency finder"
   ]
  },
  {
   "cell_type": "code",
   "execution_count": 8,
   "id": "43185d49",
   "metadata": {},
   "outputs": [],
   "source": [
    "def find_adjacency_XY(graph):    \n",
    "    '''\n",
    "    finds adjacencies of XY in the graph\n",
    "    '''\n",
    "    test_list = []\n",
    "    graph_list = list(graph.edges)\n",
    "    for i,j in graph_list:\n",
    "        test_list.append((i, j, list(graph.edges(i)), list(graph.edges(j))))\n",
    "    n = 0\n",
    "    N = len(test_list)\n",
    "    edge_XY = []\n",
    "    while n < N:\n",
    "        ##\n",
    "        adjacent_X = []\n",
    "        adjacent_Y = []\n",
    "        X, Y = test_list[n][0], test_list[n][1]\n",
    "        k_X, k_Y = test_list[n][2], test_list[n][3]\n",
    "        edge_X = [x for x in k_X if x[1] != Y]\n",
    "        edge_Y = [x for x in k_Y if x[1] not in (y[1] for y in k_X) and x[1] != X]\n",
    "        for x in edge_X:\n",
    "            adjacent_X.append(x[1])\n",
    "        for y in edge_Y:\n",
    "            adjacent_Y.append(y[1])\n",
    "        adjacent_XY = adjacent_X + adjacent_Y\n",
    "        len_XY = len(adjacent_XY)\n",
    "        edge_XY.append((X, Y, adjacent_XY, len_XY))\n",
    "#         print(edge_XY)\n",
    "        n += 1\n",
    "    return edge_XY"
   ]
  },
  {
   "cell_type": "markdown",
   "id": "057ddd86",
   "metadata": {},
   "source": [
    "### obtaining combinations and data preprocessing"
   ]
  },
  {
   "cell_type": "code",
   "execution_count": 9,
   "id": "a15835f7",
   "metadata": {},
   "outputs": [],
   "source": [
    "def get_combinations(this_list, df, N_0, rho):\n",
    "    '''\n",
    "    probably the main function of everything\n",
    "    given a list in the form adj[0] finds its CIs\n",
    "    '''\n",
    "    adjacency = this_list[2]\n",
    "    len_adjacency = len(adjacency)\n",
    "    n = 1\n",
    "    combinations = []\n",
    "    while n <= N_0:\n",
    "        k = list(itertools.combinations(adjacency, n))\n",
    "        t = list(list(x) for x in k)\n",
    "        for i in t:\n",
    "            chi2 = chi_square(X=this_list[0], Y=this_list[1], Z=i, data=df, significance_level=rho)\n",
    "            if chi2 == True:\n",
    "                combinations.append((this_list[0], this_list[1], i, chi2))\n",
    "                return combinations\n",
    "        n += 1"
   ]
  },
  {
   "cell_type": "code",
   "execution_count": 10,
   "id": "773a44e2",
   "metadata": {},
   "outputs": [],
   "source": [
    "def combinations_adjacents(adj, df, N, rho):\n",
    "    '''\n",
    "    one of the main functions\n",
    "    adj = output from find_adjacency_XY\n",
    "    N = stopping point for how many combinations you want\n",
    "    output: obtains the combinations of n=1,2,...N of the whole list in an unordered manner (see open_list)\n",
    "    '''\n",
    "    len_adjacents = len(adj)\n",
    "    combinations = []\n",
    "    for i in range(len_adjacents):\n",
    "        t = get_combinations(adj[i], df, N, rho)\n",
    "        combinations.append(t)\n",
    "    return combinations"
   ]
  },
  {
   "cell_type": "markdown",
   "id": "8f7a3364",
   "metadata": {},
   "source": [
    "### chi2 test "
   ]
  },
  {
   "cell_type": "code",
   "execution_count": 11,
   "id": "eb47cd62",
   "metadata": {},
   "outputs": [],
   "source": [
    "def PC_final(graph, adj, N, df, rho):\n",
    "    '''\n",
    "    graph = nx.graph\n",
    "    adj = output from find_adjacency_XY\n",
    "    N = order of conditional independence\n",
    "    df = dataframe\n",
    "    rho = significance_level\n",
    "    '''\n",
    "    X_Y = []\n",
    "    combinations_chi2 = combinations_adjacents(adj, df, N, rho)\n",
    "    for i in combinations_chi2:\n",
    "        if i != None:\n",
    "            for j in i:\n",
    "                X_Y.append((j[0], j[1]))\n",
    "    for i in X_Y:\n",
    "        graph.remove_edge(i[0], i[1])\n",
    "    return graph, X_Y"
   ]
  },
  {
   "cell_type": "code",
   "execution_count": 12,
   "id": "bc849c67",
   "metadata": {},
   "outputs": [],
   "source": [
    "def PC_SL(df, N, rho):\n",
    "    '''\n",
    "    Input: df - a pandas dataframe, N = CI order, rho = significance threshold (alpha) but i denote it by rho\n",
    "    returns 2 components, the graph G as index 0 and the \n",
    "    '''\n",
    "    ### initialize the graph ###\n",
    "    g = Graph(df)\n",
    "    \n",
    "    ### finds 0th order CI ###\n",
    "    g_0 = PC_0(df, rho, g)\n",
    "    # worth noting that g_0 is a tuple, g_0[0] = graph, g_0[1] = list of 0th order CI values\n",
    "    \n",
    "    ### finds adjacents ###\n",
    "    adj = find_adjacency_XY(g_0[0])\n",
    "#     return adj\n",
    "    #combinations_adjacnents#\n",
    "    k = combinations_adjacents(adj, df, N, rho)\n",
    "    \n",
    "    ### final part ###\n",
    "    ind = []\n",
    "    for i in k:\n",
    "        if i != None:\n",
    "#             print(i)\n",
    "            for j in i:\n",
    "                ind.append((j[0], j[1]))\n",
    "    print('the number of restricted edges is :', len(g_0[1] + ind))\n",
    "    return g_0[1] + ind"
   ]
  },
  {
   "cell_type": "code",
   "execution_count": 13,
   "id": "e3332e01",
   "metadata": {},
   "outputs": [
    {
     "name": "stdout",
     "output_type": "stream",
     "text": [
      "Set parameter Username\n",
      "Academic license - for non-commercial use only - expires 2024-01-21\n",
      "Set parameter PreCrush to value 1\n",
      "Set parameter CutPasses to value 100000\n",
      "Set parameter GomoryPasses to value 100000\n",
      "Set parameter MIPFocus to value 2\n",
      "Set parameter ZeroHalfCuts to value 2\n",
      "Set parameter MIPGap to value 0\n",
      "Set parameter MIPGapAbs to value 0\n",
      "the number of restricted edges is : 154\n",
      "**********\n",
      "BN has score -122598.28798551095\n",
      "**********\n",
      "Age<-Disease,Sick -7558.556876325645\n",
      "Disease<- -15045.973990886967\n",
      "Sick<-Disease -5855.822096054624\n",
      "BirthAsphyxia<-Disease -3154.0124476783676\n",
      "CO2<-LungParench -6937.123116063318\n",
      "LungParench<-Disease -6426.278654803085\n",
      "CO2Report<-CO2 -3237.7114459228615\n",
      "CardiacMixing<-Disease -6090.973628622938\n",
      "ChestXray<-LungFlow,LungParench -8025.395670361249\n",
      "LungFlow<-Disease -6421.6554322478405\n",
      "DuctFlow<-Disease -4944.544142775136\n",
      "Grunting<-LungParench,Sick -3794.558234765471\n",
      "GruntingReport<-Grunting -3652.1960002436826\n",
      "HypDistrib<-CardiacMixing,DuctFlow -2227.304330680963\n",
      "HypoxiaInO2<-CardiacMixing,LungParench -7252.288945864151\n",
      "LVH<-Disease -3187.5318292489537\n",
      "LVHreport<-LVH -2261.839690135719\n",
      "LowerBodyO2<-HypDistrib,HypoxiaInO2 -9140.21595885657\n",
      "RUQO2<-HypoxiaInO2 -9129.486863331076\n",
      "XrayReport<-ChestXray -8254.818630642323\n",
      "**********\n",
      "bnlearn modelstring = \n",
      "[Age|Disease:Sick][Disease][Sick|Disease][BirthAsphyxia|Disease][CO2|LungParench][LungParench|Disease][CO2Report|CO2][CardiacMixing|Disease][ChestXray|LungFlow:LungParench][LungFlow|Disease][DuctFlow|Disease][Grunting|Sick:LungParench][GruntingReport|Grunting][HypDistrib|DuctFlow:CardiacMixing][HypoxiaInO2|CardiacMixing:LungParench][LVH|Disease][LVHreport|LVH][LowerBodyO2|HypDistrib:HypoxiaInO2][RUQO2|HypoxiaInO2][XrayReport|ChestXray]\n",
      "**********\n",
      "CPDAG:\n",
      "Vertices: Age,Disease,Sick,BirthAsphyxia,CO2,LungParench,CO2Report,CardiacMixing,ChestXray,LungFlow,DuctFlow,Grunting,GruntingReport,HypDistrib,HypoxiaInO2,LVH,LVHreport,LowerBodyO2,RUQO2,XrayReport\n",
      "Disease-Age\n",
      "Disease-BirthAsphyxia\n",
      "Disease-CardiacMixing\n",
      "Disease-DuctFlow\n",
      "Disease-LVH\n",
      "Disease-LungFlow\n",
      "Disease-LungParench\n",
      "Disease-Sick\n",
      "Sick-Age\n",
      "Sick->Grunting\n",
      "CO2-CO2Report\n",
      "LungParench-CO2\n",
      "LungParench->ChestXray\n",
      "LungParench->Grunting\n",
      "LungParench->HypoxiaInO2\n",
      "CardiacMixing->HypDistrib\n",
      "CardiacMixing->HypoxiaInO2\n",
      "ChestXray->XrayReport\n",
      "LungFlow->ChestXray\n",
      "DuctFlow->HypDistrib\n",
      "Grunting->GruntingReport\n",
      "HypDistrib->LowerBodyO2\n",
      "HypoxiaInO2->LowerBodyO2\n",
      "HypoxiaInO2->RUQO2\n",
      "LVH-LVHreport\n",
      "\n"
     ]
    },
    {
     "data": {
      "image/png": "[encoded data removed]",
      "text/plain": [
       "<Figure size 640x480 with 1 Axes>"
      ]
     },
     "metadata": {},
     "output_type": "display_data"
    },
    {
     "name": "stdout",
     "output_type": "stream",
     "text": [
      "the time taken to learn the network is: 15.805177927017212 seconds\n",
      "CPU times: total: 15.4 s\n",
      "Wall time: 15.8 s\n"
     ]
    }
   ],
   "source": [
    "%%time\n",
    "toc = time.time()\n",
    "'''\n",
    "restrict phase\n",
    "'''\n",
    "m = Gobnilp()\n",
    "for i in PC_SL(df_child, 1, 0.05):\n",
    "    m.add_forbidden_adjacency((i[0], i[1]))\n",
    "'''\n",
    "score phase\n",
    "'''\n",
    "#score phase##\n",
    "m.learn(r'C:\\Users\\User\\Documents\\GitHub\\ML_FYP\\dataset\\child.dat')\n",
    "tic = time.time()\n",
    "print('the time taken to learn the network is:', tic - toc, 'seconds')"
   ]
  },
  {
   "cell_type": "code",
   "execution_count": 20,
   "id": "f9b0d592",
   "metadata": {},
   "outputs": [
    {
     "name": "stdout",
     "output_type": "stream",
     "text": [
      "Set parameter PreCrush to value 1\n",
      "Set parameter CutPasses to value 100000\n",
      "Set parameter GomoryPasses to value 100000\n",
      "Set parameter MIPFocus to value 2\n",
      "Set parameter ZeroHalfCuts to value 2\n",
      "Set parameter MIPGap to value 0\n",
      "Set parameter MIPGapAbs to value 0\n",
      "the number of restricted edges is : 248\n",
      "**********\n",
      "BN has score -13291.659454345683\n",
      "**********\n",
      "Eight<-Two -891.7431694583584\n",
      "Two<-Nineteen -1092.539260540545\n",
      "Eighteen<- -6.468932741743629\n",
      "Eleven<-Nine -180.335658314375\n",
      "Nine<-Five -233.54265242443216\n",
      "Fifteen<-Sixteen -1097.7751120706598\n",
      "Sixteen<-Seventeen -1121.8286581739908\n",
      "Five<-Two -216.97402392108506\n",
      "Four<- -5.59070195019558\n",
      "Fourteen<-Six,TwentyFive -63.56690854419503\n",
      "TwentyFive<- -279.284552099899\n",
      "Six<-Seven -297.54655595657914\n",
      "Nineteen<-Fifteen -280.4137128440034\n",
      "One<- -6.468932741743629\n",
      "Seven<- -683.4305719706072\n",
      "Seventeen<-Thirty -1121.2542703853715\n",
      "Thirty<- -1336.57747117289\n",
      "Ten<-Eight -919.2688246630869\n",
      "Thirteen<- -6.468932741743629\n",
      "ThirtyOne<-Seven,TwentyFive -122.55198446199847\n",
      "ThirtyTwo<-TwentyOne -275.00956419521935\n",
      "TwentyOne<- -681.6234660435921\n",
      "Three<- -5.59070195019558\n",
      "Twelve<- -6.468932741743629\n",
      "Twenty<-TwentyOne -411.6952453712029\n",
      "TwentyEight<-Nine,Seven -302.02125778956633\n",
      "TwentyFour<-TwentySix -50.530866661840264\n",
      "TwentySix<-TwentyThree -162.02057783766486\n",
      "TwentyNine<-Ten -913.5934630772795\n",
      "TwentySeven<-TwentyThree -259.035519911934\n",
      "TwentyThree<-Eight,Nineteen -229.523130601724\n",
      "TwentyTwo<-TwentyFour -30.915840986218427\n",
      "**********\n",
      "bnlearn modelstring = \n",
      "[Eight|Two][Two|Nineteen][Eighteen][Eleven|Nine][Nine|Five][Fifteen|Sixteen][Sixteen|Seventeen][Five|Two][Four][Fourteen|TwentyFive:Six][TwentyFive][Six|Seven][Nineteen|Fifteen][One][Seven][Seventeen|Thirty][Thirty][Ten|Eight][Thirteen][ThirtyOne|TwentyFive:Seven][ThirtyTwo|TwentyOne][TwentyOne][Three][Twelve][Twenty|TwentyOne][TwentyEight|Seven:Nine][TwentyFour|TwentySix][TwentySix|TwentyThree][TwentyNine|Ten][TwentySeven|TwentyThree][TwentyThree|Nineteen:Eight][TwentyTwo|TwentyFour]\n",
      "**********\n",
      "CPDAG:\n",
      "Vertices: Eight,Two,Eighteen,Eleven,Nine,Fifteen,Sixteen,Five,Four,Fourteen,TwentyFive,Six,Nineteen,One,Seven,Seventeen,Thirty,Ten,Thirteen,ThirtyOne,ThirtyTwo,TwentyOne,Three,Twelve,Twenty,TwentyEight,TwentyFour,TwentySix,TwentyNine,TwentySeven,TwentyThree,TwentyTwo\n",
      "Eight-Ten\n",
      "Eight->TwentyThree\n",
      "Two-Eight\n",
      "Two-Five\n",
      "Nine-Eleven\n",
      "Nine->TwentyEight\n",
      "Fifteen-Nineteen\n",
      "Sixteen-Fifteen\n",
      "Five-Nine\n",
      "TwentyFive->Fourteen\n",
      "TwentyFive->ThirtyOne\n",
      "Six->Fourteen\n",
      "Nineteen->TwentyThree\n",
      "Nineteen-Two\n",
      "Seven-Six\n",
      "Seven->ThirtyOne\n",
      "Seven->TwentyEight\n",
      "Seventeen-Sixteen\n",
      "Thirty-Seventeen\n",
      "Ten-TwentyNine\n",
      "TwentyOne-ThirtyTwo\n",
      "TwentyOne-Twenty\n",
      "TwentyFour->TwentyTwo\n",
      "TwentySix->TwentyFour\n",
      "TwentyThree->TwentySeven\n",
      "TwentyThree->TwentySix\n",
      "\n"
     ]
    },
    {
     "data": {
      "image/png": "[encoded data removed]",
      "text/plain": [
       "<Figure size 640x480 with 1 Axes>"
      ]
     },
     "metadata": {},
     "output_type": "display_data"
    },
    {
     "name": "stdout",
     "output_type": "stream",
     "text": [
      "the time taken to learn the network is: 97.5889024734497 seconds\n",
      "CPU times: total: 1min 39s\n",
      "Wall time: 1min 37s\n"
     ]
    }
   ],
   "source": [
    "%%time\n",
    "toc = time.time()\n",
    "'''\n",
    "restrict phase\n",
    "'''\n",
    "j = Gobnilp()\n",
    "for i in PC_SL(df_water, 1, 0.99):\n",
    "    j.add_forbidden_adjacency((i[0], i[1]))\n",
    "'''\n",
    "score phase\n",
    "'''\n",
    "#score phase##\n",
    "j.learn(r'C:\\Users\\User\\Documents\\GitHub\\ML_FYP\\dataset\\water_1000.dat')\n",
    "tic = time.time()\n",
    "print('the time taken to learn the network is:', tic - toc, 'seconds')"
   ]
  },
  {
   "cell_type": "markdown",
   "id": "41027e1f",
   "metadata": {},
   "source": [
    "### show the effeect of trading the significance threshold and the effect of the execution and the model evaluation"
   ]
  },
  {
   "cell_type": "code",
   "execution_count": 18,
   "id": "44af0f7a",
   "metadata": {},
   "outputs": [
    {
     "name": "stdout",
     "output_type": "stream",
     "text": [
      "Set parameter PreCrush to value 1\n",
      "Set parameter CutPasses to value 100000\n",
      "Set parameter GomoryPasses to value 100000\n",
      "Set parameter MIPFocus to value 2\n",
      "Set parameter ZeroHalfCuts to value 2\n",
      "Set parameter MIPGap to value 0\n",
      "Set parameter MIPGapAbs to value 0\n",
      "**********\n",
      "BN has score -13262.341786661247\n",
      "**********\n",
      "Eight<- -1024.310149041744\n",
      "Eighteen<-One,Thirteen,Twelve -1.473816359486591\n",
      "Thirteen<-Four,One,Twelve -1.5029082756882417\n",
      "One<-Twelve -2.7467487553958563\n",
      "Twelve<-TwentyTwo -4.578639950768775\n",
      "Eleven<-Nine,Nineteen -179.94229214327152\n",
      "Nine<-Five,Three -233.31248350567694\n",
      "Nineteen<-Two -277.3029979208832\n",
      "Fifteen<-Nineteen -1387.6611481149512\n",
      "Five<-Two -216.97402392108506\n",
      "Two<-Eight -972.9626029855071\n",
      "Four<-One,Twelve -1.4077014999802486\n",
      "Fourteen<-Six,TwentyFive -63.56690854419503\n",
      "TwentyFive<-Twelve -277.81257407169596\n",
      "Six<-TwentyTwo -547.0399075601426\n",
      "Three<-Eighteen,One,Thirteen -1.1763986047344588\n",
      "Seven<-Six -432.7743266189482\n",
      "Seventeen<-Sixteen -1114.7357361296677\n",
      "Sixteen<-Fifteen -1054.2020324160194\n",
      "TwentyTwo<-Five,TwentyFour -30.599967946143806\n",
      "Ten<-Eight -919.2688246630869\n",
      "Thirty<-Seventeen -1110.9569880370464\n",
      "ThirtyOne<-Seven,TwentyFive -122.55198446199847\n",
      "ThirtyTwo<-Thirteen -586.1143374247449\n",
      "Twenty<-Four,TwentyOne -411.404697733029\n",
      "TwentyOne<-ThirtyTwo -369.23677409534685\n",
      "TwentyEight<-Nine,Seven -302.02125778956633\n",
      "TwentyFour<-TwentySix -50.530866661840264\n",
      "TwentySix<-TwentyThree -162.02057783766486\n",
      "TwentyNine<-Ten -913.5934630772795\n",
      "TwentySeven<-TwentyThree -259.035519911934\n",
      "TwentyThree<-Eight,Nineteen -229.523130601724\n",
      "**********\n",
      "bnlearn modelstring = \n",
      "[Eight][Eighteen|Thirteen:One:Twelve][Thirteen|Four:One:Twelve][One|Twelve][Twelve|TwentyTwo][Eleven|Nine:Nineteen][Nine|Five:Three][Nineteen|Two][Fifteen|Nineteen][Five|Two][Two|Eight][Four|One:Twelve][Fourteen|TwentyFive:Six][TwentyFive|Twelve][Six|TwentyTwo][Three|Eighteen:Thirteen:One][Seven|Six][Seventeen|Sixteen][Sixteen|Fifteen][TwentyTwo|Five:TwentyFour][Ten|Eight][Thirty|Seventeen][ThirtyOne|TwentyFive:Seven][ThirtyTwo|Thirteen][Twenty|Four:TwentyOne][TwentyOne|ThirtyTwo][TwentyEight|Seven:Nine][TwentyFour|TwentySix][TwentySix|TwentyThree][TwentyNine|Ten][TwentySeven|TwentyThree][TwentyThree|Nineteen:Eight]\n",
      "**********\n",
      "CPDAG:\n",
      "Vertices: Eight,Eighteen,Thirteen,One,Twelve,Eleven,Nine,Nineteen,Fifteen,Five,Two,Four,Fourteen,TwentyFive,Six,Three,Seven,Seventeen,Sixteen,TwentyTwo,Ten,Thirty,ThirtyOne,ThirtyTwo,Twenty,TwentyOne,TwentyEight,TwentyFour,TwentySix,TwentyNine,TwentySeven,TwentyThree\n",
      "Eight-Ten\n",
      "Eight->TwentyThree\n",
      "Eight-Two\n",
      "Eighteen->Three\n",
      "Thirteen-Eighteen\n",
      "Thirteen->ThirtyTwo\n",
      "Thirteen->Three\n",
      "One-Eighteen\n",
      "One-Four\n",
      "One-Thirteen\n",
      "One->Three\n",
      "Twelve->Eighteen\n",
      "Twelve->Four\n",
      "Twelve->One\n",
      "Twelve->Thirteen\n",
      "Twelve->TwentyFive\n",
      "Nine->Eleven\n",
      "Nine->TwentyEight\n",
      "Nineteen->Eleven\n",
      "Nineteen-Fifteen\n",
      "Nineteen->TwentyThree\n",
      "Fifteen-Sixteen\n",
      "Five->Nine\n",
      "Five->TwentyTwo\n",
      "Two-Five\n",
      "Two-Nineteen\n",
      "Four-Thirteen\n",
      "Four->Twenty\n",
      "TwentyFive->Fourteen\n",
      "TwentyFive->ThirtyOne\n",
      "Six->Fourteen\n",
      "Six->Seven\n",
      "Three->Nine\n",
      "Seven->ThirtyOne\n",
      "Seven->TwentyEight\n",
      "Seventeen-Thirty\n",
      "Sixteen-Seventeen\n",
      "TwentyTwo->Six\n",
      "TwentyTwo->Twelve\n",
      "Ten-TwentyNine\n",
      "ThirtyTwo->TwentyOne\n",
      "TwentyOne->Twenty\n",
      "TwentyFour->TwentyTwo\n",
      "TwentySix->TwentyFour\n",
      "TwentyThree->TwentySeven\n",
      "TwentyThree->TwentySix\n",
      "\n"
     ]
    },
    {
     "data": {
      "image/png": "[encoded data removed]",
      "text/plain": [
       "<Figure size 640x480 with 1 Axes>"
      ]
     },
     "metadata": {},
     "output_type": "display_data"
    }
   ],
   "source": [
    "k = Gobnilp()\n",
    "k.learn(r'C:\\Users\\User\\Documents\\GitHub\\ML_FYP\\dataset\\water_1000.dat')\n"
   ]
  },
  {
   "cell_type": "code",
   "execution_count": null,
   "id": "923ae841",
   "metadata": {},
   "outputs": [],
   "source": [
    "j_0.learn(r'C:\\Users\\User\\Documents\\GitHub\\ML_FYP\\dataset\\andes.dat')"
   ]
  },
  {
   "cell_type": "code",
   "execution_count": null,
   "id": "76767352",
   "metadata": {},
   "outputs": [],
   "source": [
    "%%time\n",
    "toc = time.time()\n",
    "'''\n",
    "restrict phase\n",
    "'''\n",
    "j_0 = Gobnilp()\n",
    "for i in PC_SL(df_andes, 1, 0.05):\n",
    "    j_0.add_forbidden_adjacency((i[0], i[1]))\n",
    "'''\n",
    "score phase\n",
    "'''\n",
    "#score phase##\n",
    "j_0.learn(r'C:\\Users\\User\\Documents\\GitHub\\ML_FYP\\dataset\\andes.dat')\n",
    "tic = time.time()\n",
    "print('the time taken to learn the network is:', tic - toc, 'seconds')"
   ]
  },
  {
   "cell_type": "code",
   "execution_count": null,
   "id": "ebe3d54b",
   "metadata": {},
   "outputs": [],
   "source": [
    "'''\n",
    "number of edges removed -> significance threshold, order of CI (n), number of variables, parent limit set\n",
    "\n",
    "runtime -> order of CI (n), number of variables, number of data points per variable, parent limit,  \n",
    "'''\n",
    "None"
   ]
  },
  {
   "cell_type": "markdown",
   "id": "5252cd37",
   "metadata": {},
   "source": [
    "### conclusion: what is the story behind your work, what lessons can be learned?"
   ]
  },
  {
   "cell_type": "code",
   "execution_count": null,
   "id": "a6d71bc0",
   "metadata": {},
   "outputs": [],
   "source": [
    "%%time\n",
    "toc0 = time.time()\n",
    "h = Gobnilp()\n",
    "h.learn(r'C:\\Users\\User\\Documents\\GitHub\\ML_FYP\\dataset\\Water_1000.dat')\n",
    "tic0 = time.time()\n",
    "print(tic0-toc0)"
   ]
  }
 ],
 "metadata": {
  "kernelspec": {
   "display_name": "Python 3 (ipykernel)",
   "language": "python",
   "name": "python3"
  },
  "language_info": {
   "codemirror_mode": {
    "name": "ipython",
    "version": 3
   },
   "file_extension": ".py",
   "mimetype": "text/x-python",
   "name": "python",
   "nbconvert_exporter": "python",
   "pygments_lexer": "ipython3",
   "version": "3.8.8"
  }
 },
 "nbformat": 4,
 "nbformat_minor": 5
}
