{
 "cells": [
  {
   "cell_type": "code",
   "execution_count": 1,
   "id": "bbbb924b",
   "metadata": {},
   "outputs": [],
   "source": [
    "import pandas as pd\n",
    "import numpy as np\n",
    "from pygobnilp.gobnilp import Gobnilp\n",
    "import pgmpy\n",
    "import itertools\n",
    "from pgmpy.estimators.CITests import log_likelihood\n",
    "from pgmpy.estimators.CITests import chi_square"
   ]
  },
  {
   "cell_type": "code",
   "execution_count": 2,
   "id": "7f25afa9",
   "metadata": {},
   "outputs": [],
   "source": [
    "def csv_format_discrete(csv_file):\n",
    "    df = pd.read_csv(csv_file, sep=\"\\s+\")\n",
    "    return df.drop([0])\n",
    "\n",
    "#returns the csv_file in a pandas dataframe, formatted properly, discrete dataset only"
   ]
  },
  {
   "cell_type": "code",
   "execution_count": 55,
   "id": "0d13a4c9",
   "metadata": {},
   "outputs": [
    {
     "data": {
      "text/html": [
       "<div>\n",
       "<style scoped>\n",
       "    .dataframe tbody tr th:only-of-type {\n",
       "        vertical-align: middle;\n",
       "    }\n",
       "\n",
       "    .dataframe tbody tr th {\n",
       "        vertical-align: top;\n",
       "    }\n",
       "\n",
       "    .dataframe thead th {\n",
       "        text-align: right;\n",
       "    }\n",
       "</style>\n",
       "<table border=\"1\" class=\"dataframe\">\n",
       "  <thead>\n",
       "    <tr style=\"text-align: right;\">\n",
       "      <th></th>\n",
       "      <th>A</th>\n",
       "      <th>B</th>\n",
       "      <th>C</th>\n",
       "      <th>D</th>\n",
       "      <th>E</th>\n",
       "      <th>F</th>\n",
       "    </tr>\n",
       "  </thead>\n",
       "  <tbody>\n",
       "    <tr>\n",
       "      <th>1</th>\n",
       "      <td>b</td>\n",
       "      <td>c</td>\n",
       "      <td>b</td>\n",
       "      <td>a</td>\n",
       "      <td>b</td>\n",
       "      <td>b</td>\n",
       "    </tr>\n",
       "    <tr>\n",
       "      <th>2</th>\n",
       "      <td>b</td>\n",
       "      <td>a</td>\n",
       "      <td>c</td>\n",
       "      <td>a</td>\n",
       "      <td>b</td>\n",
       "      <td>b</td>\n",
       "    </tr>\n",
       "    <tr>\n",
       "      <th>3</th>\n",
       "      <td>a</td>\n",
       "      <td>a</td>\n",
       "      <td>a</td>\n",
       "      <td>a</td>\n",
       "      <td>a</td>\n",
       "      <td>a</td>\n",
       "    </tr>\n",
       "    <tr>\n",
       "      <th>4</th>\n",
       "      <td>a</td>\n",
       "      <td>a</td>\n",
       "      <td>a</td>\n",
       "      <td>a</td>\n",
       "      <td>b</td>\n",
       "      <td>b</td>\n",
       "    </tr>\n",
       "    <tr>\n",
       "      <th>5</th>\n",
       "      <td>a</td>\n",
       "      <td>a</td>\n",
       "      <td>b</td>\n",
       "      <td>c</td>\n",
       "      <td>a</td>\n",
       "      <td>a</td>\n",
       "    </tr>\n",
       "    <tr>\n",
       "      <th>...</th>\n",
       "      <td>...</td>\n",
       "      <td>...</td>\n",
       "      <td>...</td>\n",
       "      <td>...</td>\n",
       "      <td>...</td>\n",
       "      <td>...</td>\n",
       "    </tr>\n",
       "    <tr>\n",
       "      <th>4996</th>\n",
       "      <td>a</td>\n",
       "      <td>a</td>\n",
       "      <td>a</td>\n",
       "      <td>a</td>\n",
       "      <td>a</td>\n",
       "      <td>a</td>\n",
       "    </tr>\n",
       "    <tr>\n",
       "      <th>4997</th>\n",
       "      <td>c</td>\n",
       "      <td>c</td>\n",
       "      <td>b</td>\n",
       "      <td>b</td>\n",
       "      <td>c</td>\n",
       "      <td>a</td>\n",
       "    </tr>\n",
       "    <tr>\n",
       "      <th>4998</th>\n",
       "      <td>b</td>\n",
       "      <td>b</td>\n",
       "      <td>a</td>\n",
       "      <td>b</td>\n",
       "      <td>c</td>\n",
       "      <td>b</td>\n",
       "    </tr>\n",
       "    <tr>\n",
       "      <th>4999</th>\n",
       "      <td>a</td>\n",
       "      <td>c</td>\n",
       "      <td>b</td>\n",
       "      <td>c</td>\n",
       "      <td>c</td>\n",
       "      <td>a</td>\n",
       "    </tr>\n",
       "    <tr>\n",
       "      <th>5000</th>\n",
       "      <td>a</td>\n",
       "      <td>a</td>\n",
       "      <td>a</td>\n",
       "      <td>a</td>\n",
       "      <td>b</td>\n",
       "      <td>b</td>\n",
       "    </tr>\n",
       "  </tbody>\n",
       "</table>\n",
       "<p>5000 rows × 6 columns</p>\n",
       "</div>"
      ],
      "text/plain": [
       "      A  B  C  D  E  F\n",
       "1     b  c  b  a  b  b\n",
       "2     b  a  c  a  b  b\n",
       "3     a  a  a  a  a  a\n",
       "4     a  a  a  a  b  b\n",
       "5     a  a  b  c  a  a\n",
       "...  .. .. .. .. .. ..\n",
       "4996  a  a  a  a  a  a\n",
       "4997  c  c  b  b  c  a\n",
       "4998  b  b  a  b  c  b\n",
       "4999  a  c  b  c  c  a\n",
       "5000  a  a  a  a  b  b\n",
       "\n",
       "[5000 rows x 6 columns]"
      ]
     },
     "execution_count": 55,
     "metadata": {},
     "output_type": "execute_result"
    }
   ],
   "source": [
    "df = csv_format_discrete(r\"C:\\Users\\User\\Documents\\GitHub\\ML_FYP\\dataset\\discrete.dat\")\n",
    "df"
   ]
  },
  {
   "cell_type": "markdown",
   "id": "68a3df7c",
   "metadata": {},
   "source": [
    "### chi-squared test"
   ]
  },
  {
   "cell_type": "code",
   "execution_count": 4,
   "id": "8c08e4eb",
   "metadata": {},
   "outputs": [],
   "source": [
    "#0th order chi2 test\n",
    "def chi2bool(df):\n",
    "    '''\n",
    "    0th order CI test\n",
    "    '''\n",
    "    chi2 = []\n",
    "    v = list(df)\n",
    "    my_list = list(itertools.combinations(v,2))\n",
    "    y_0, y_1 = [x[0] for x in my_list], [x[1] for x in my_list]\n",
    "    for i,j in zip(y_0, y_1):\n",
    "        chi = chi_square(X=i, Y=j, Z=[], data=df, significance_level=0.05)\n",
    "        chi2.append((i,j,chi))\n",
    "    true_0 = [x for x in chi2 if True in x]\n",
    "    false_0 = [x for x in chi2 if False in x]\n",
    "    return true_0, false_0"
   ]
  },
  {
   "cell_type": "markdown",
   "id": "b35f91ef",
   "metadata": {},
   "source": [
    "### Sorting Functions"
   ]
  },
  {
   "cell_type": "code",
   "execution_count": 5,
   "id": "a30070a5",
   "metadata": {},
   "outputs": [],
   "source": [
    "def create_permutations(my_list):\n",
    "    '''\n",
    "    takes in a list, remove extra permutations from the list and only creates a pair of permutations\n",
    "    '''\n",
    "    p_permutations = []\n",
    "    new_list = list(set(tuple(sorted(l[:2])) for l in my_list))\n",
    "    for items in new_list:\n",
    "        new_list_0 = list(itertools.permutations(items[:2],2))[1]\n",
    "        p_permutations.append(new_list_0)\n",
    "    return new_list + p_permutations"
   ]
  },
  {
   "cell_type": "code",
   "execution_count": 36,
   "id": "9b6bc093",
   "metadata": {},
   "outputs": [],
   "source": [
    "#given 2 lists, append them together and remove duplicates\n",
    "def remove_permutation(list_):\n",
    "    '''\n",
    "    returns a sorted list without permutation\n",
    "    '''\n",
    "    return sorted(list(set(tuple(sorted(l[:2])) for l in list_)))"
   ]
  },
  {
   "cell_type": "markdown",
   "id": "c1029a7f",
   "metadata": {},
   "source": [
    "### CONDITIONAL MAIN CODE"
   ]
  },
  {
   "cell_type": "code",
   "execution_count": 7,
   "id": "1c23a629",
   "metadata": {},
   "outputs": [],
   "source": [
    "#1st order CI\n",
    "def cond_1_generate(df):\n",
    "    v = list(df)\n",
    "    p_permutations = list(itertools.permutations(v,3))\n",
    "    order_0 = create_permutations(chi2bool(df)[0])\n",
    "    generated = [x for x in p_permutations if x[:2] not in order_0]\n",
    "    generated_0 = set(tuple(sorted(items[:2])) for items in generated)\n",
    "    generate_return = [x for x in generated if x[:2] in generated_0]\n",
    "    return generate_return"
   ]
  },
  {
   "cell_type": "code",
   "execution_count": 8,
   "id": "82aa2021",
   "metadata": {},
   "outputs": [],
   "source": [
    "def cond_1_test(df):\n",
    "    chi2_data = []\n",
    "    phi = cond_1_generate(df)\n",
    "    for i,j,k in phi:\n",
    "        chi2 = chi_square(X=i, Y=j, Z=[k], data=df, significance_level=0.05)\n",
    "        chi2_data.append((i,j,k,chi2))\n",
    "    true_list = [x for x in chi2_data if True in x]\n",
    "    false_list = [x for x in chi2_data if False in x]\n",
    "    return true_list, false_list"
   ]
  },
  {
   "cell_type": "code",
   "execution_count": 56,
   "id": "fa6baaa9",
   "metadata": {},
   "outputs": [
    {
     "name": "stdout",
     "output_type": "stream",
     "text": [
      "CPU times: total: 46.9 ms\n",
      "Wall time: 52.4 ms\n"
     ]
    },
    {
     "data": {
      "text/plain": [
       "(14, 7)"
      ]
     },
     "execution_count": 56,
     "metadata": {},
     "output_type": "execute_result"
    }
   ],
   "source": [
    "%%time\n",
    "G = create_permutations(chi2bool(df)[0])\n",
    "len(G), len(chi2bool(df)[0])"
   ]
  },
  {
   "cell_type": "code",
   "execution_count": 57,
   "id": "8e0426b1",
   "metadata": {},
   "outputs": [
    {
     "data": {
      "text/plain": [
       "(7, 4, 11)"
      ]
     },
     "execution_count": 57,
     "metadata": {},
     "output_type": "execute_result"
    }
   ],
   "source": [
    "chi_0, chi_1  = [x[:2] for x in chi2bool(df)[0]],  [x[:2] for x in cond_1_test(df)[0]]\n",
    "chi_2 = chi_0 + chi_1\n",
    "len(chi_0), len(chi_1), len(chi_2)"
   ]
  },
  {
   "cell_type": "code",
   "execution_count": 58,
   "id": "0ad5bd73",
   "metadata": {},
   "outputs": [
    {
     "data": {
      "text/plain": [
       "6"
      ]
     },
     "execution_count": 58,
     "metadata": {},
     "output_type": "execute_result"
    }
   ],
   "source": [
    "len(create_permutations(chi_1))"
   ]
  },
  {
   "cell_type": "code",
   "execution_count": 59,
   "id": "50461905",
   "metadata": {},
   "outputs": [],
   "source": [
    "p_permute = create_permutations(chi_2)"
   ]
  },
  {
   "cell_type": "code",
   "execution_count": 60,
   "id": "7ef6fe7c",
   "metadata": {},
   "outputs": [
    {
     "data": {
      "text/plain": [
       "20"
      ]
     },
     "execution_count": 60,
     "metadata": {},
     "output_type": "execute_result"
    }
   ],
   "source": [
    "len(p_permute)"
   ]
  },
  {
   "cell_type": "code",
   "execution_count": 61,
   "id": "80051f38",
   "metadata": {},
   "outputs": [
    {
     "data": {
      "text/plain": [
       "14"
      ]
     },
     "execution_count": 61,
     "metadata": {},
     "output_type": "execute_result"
    }
   ],
   "source": [
    "x0 = create_permutations([x[:2] for x in chi2bool(df)[0]])\n",
    "len(x0)"
   ]
  },
  {
   "cell_type": "code",
   "execution_count": 62,
   "id": "cbfee25e",
   "metadata": {},
   "outputs": [
    {
     "name": "stdout",
     "output_type": "stream",
     "text": [
      "CPU times: total: 22.9 s\n",
      "Wall time: 23.1 s\n"
     ]
    }
   ],
   "source": [
    "%%time\n",
    "N = 3\n",
    "n = len(v)\n",
    "v = list(df)\n",
    "# remove_list = [x for x in p_permute]\n",
    "remove_list = create_permutations([x[:2] for x in chi2bool(df)[0]])\n",
    "empty_list = []\n",
    "while N <= n:\n",
    "    list_permutations = [x for x in itertools.permutations(v, N) if x[:2] not in remove_list]\n",
    "    p_1 = [x[:1] for x in list_permutations]\n",
    "    p_2 = [x[1:2] for x in list_permutations]\n",
    "    p = [x[2:] for x in list_permutations]\n",
    "    for i,j,k in zip(p_1, p_2, p):\n",
    "        chi2 = chi_square(X=i[0], Y=j[0], Z=k, data=df, significance_level=0.05)\n",
    "        empty_list.append((i[0],j[0],k,chi2))\n",
    "    true_list = create_permutations([x[:2] for x in empty_list if True in x])\n",
    "    remove_list = remove_list + create_permutations(true_list)\n",
    "    remove_list = create_permutations(remove_list)\n",
    "    N += 1\n",
    "#nP3 takes 2minutes to run\n",
    "#nP4 takes 9-15minutes to run\n",
    "#nP5 takes ??? minutes to run\n",
    "#nP6 not doable"
   ]
  },
  {
   "cell_type": "code",
   "execution_count": 63,
   "id": "0aa15b1e",
   "metadata": {},
   "outputs": [
    {
     "data": {
      "text/plain": [
       "[('B', 'D'),\n",
       " ('C', 'E'),\n",
       " ('C', 'F'),\n",
       " ('A', 'F'),\n",
       " ('B', 'F'),\n",
       " ('B', 'C'),\n",
       " ('A', 'E'),\n",
       " ('D', 'F'),\n",
       " ('A', 'C'),\n",
       " ('D', 'E'),\n",
       " ('D', 'B'),\n",
       " ('E', 'C'),\n",
       " ('F', 'C'),\n",
       " ('F', 'A'),\n",
       " ('F', 'B'),\n",
       " ('C', 'B'),\n",
       " ('E', 'A'),\n",
       " ('F', 'D'),\n",
       " ('C', 'A'),\n",
       " ('E', 'D')]"
      ]
     },
     "execution_count": 63,
     "metadata": {},
     "output_type": "execute_result"
    }
   ],
   "source": [
    "remove_list"
   ]
  },
  {
   "cell_type": "code",
   "execution_count": 64,
   "id": "f108c163",
   "metadata": {},
   "outputs": [
    {
     "data": {
      "text/plain": [
       "[('A', 'C'),\n",
       " ('A', 'E'),\n",
       " ('A', 'F'),\n",
       " ('B', 'C'),\n",
       " ('B', 'D'),\n",
       " ('B', 'F'),\n",
       " ('C', 'E'),\n",
       " ('C', 'F'),\n",
       " ('D', 'E'),\n",
       " ('D', 'F')]"
      ]
     },
     "execution_count": 64,
     "metadata": {},
     "output_type": "execute_result"
    }
   ],
   "source": [
    "remove_permutation(remove_list)\n",
    "#22"
   ]
  },
  {
   "cell_type": "code",
   "execution_count": 65,
   "id": "a5188f19",
   "metadata": {},
   "outputs": [
    {
     "data": {
      "text/plain": [
       "20"
      ]
     },
     "execution_count": 65,
     "metadata": {},
     "output_type": "execute_result"
    }
   ],
   "source": [
    "len(remove_list)"
   ]
  },
  {
   "cell_type": "code",
   "execution_count": 66,
   "id": "fd9e1181",
   "metadata": {},
   "outputs": [
    {
     "name": "stdout",
     "output_type": "stream",
     "text": [
      "Set parameter PreCrush to value 1\n",
      "Set parameter CutPasses to value 100000\n",
      "Set parameter GomoryPasses to value 100000\n",
      "Set parameter MIPFocus to value 2\n",
      "Set parameter ZeroHalfCuts to value 2\n",
      "Set parameter MIPGap to value 0\n",
      "Set parameter MIPGapAbs to value 0\n"
     ]
    }
   ],
   "source": [
    "m = Gobnilp()"
   ]
  },
  {
   "cell_type": "code",
   "execution_count": 68,
   "id": "49c53682",
   "metadata": {},
   "outputs": [
    {
     "name": "stdout",
     "output_type": "stream",
     "text": [
      "**********\n",
      "BN has score -24028.094778353498\n",
      "**********\n",
      "A<- -5502.137377150637\n",
      "B<-A -3688.9395212202216\n",
      "C<- -3501.5105385969146\n",
      "D<-A,C -3555.014444236549\n",
      "E<-B,F -4310.304956470645\n",
      "F<- -3470.18794067853\n",
      "**********\n",
      "bnlearn modelstring = \n",
      "[A][B|A][C][D|A:C][E|B:F][F]\n",
      "**********\n",
      "CPDAG:\n",
      "Vertices: A,B,C,D,E,F\n",
      "A-B\n",
      "A->D\n",
      "B->E\n",
      "C->D\n",
      "F->E\n",
      "\n"
     ]
    },
    {
     "data": {
      "image/png": "[encoded data removed]",
      "text/plain": [
       "<Figure size 640x480 with 1 Axes>"
      ]
     },
     "metadata": {},
     "output_type": "display_data"
    },
    {
     "name": "stdout",
     "output_type": "stream",
     "text": [
      "CPU times: total: 219 ms\n",
      "Wall time: 213 ms\n"
     ]
    }
   ],
   "source": [
    "%%time\n",
    "m.learn(r'C:\\Users\\User\\Documents\\GitHub\\ML_FYP\\dataset\\discrete.dat')"
   ]
  },
  {
   "cell_type": "code",
   "execution_count": 69,
   "id": "bc5371ac",
   "metadata": {},
   "outputs": [],
   "source": [
    "for i,j in remove_list:\n",
    "    m.add_forbidden_arrow(i,j)"
   ]
  },
  {
   "cell_type": "code",
   "execution_count": 70,
   "id": "bc410650",
   "metadata": {},
   "outputs": [
    {
     "name": "stdout",
     "output_type": "stream",
     "text": [
      "**********\n",
      "BN has score -24028.094778353498\n",
      "**********\n",
      "A<- -5502.137377150637\n",
      "B<-A -3688.9395212202216\n",
      "C<- -3501.5105385969146\n",
      "D<-A,C -3555.014444236549\n",
      "E<-B,F -4310.304956470645\n",
      "F<- -3470.18794067853\n",
      "**********\n",
      "bnlearn modelstring = \n",
      "[A][B|A][C][D|A:C][E|B:F][F]\n",
      "**********\n",
      "CPDAG:\n",
      "Vertices: A,B,C,D,E,F\n",
      "A-B\n",
      "A->D\n",
      "B->E\n",
      "C->D\n",
      "F->E\n",
      "\n"
     ]
    },
    {
     "data": {
      "image/png": "[encoded data removed]",
      "text/plain": [
       "<Figure size 640x480 with 1 Axes>"
      ]
     },
     "metadata": {},
     "output_type": "display_data"
    },
    {
     "name": "stdout",
     "output_type": "stream",
     "text": [
      "CPU times: total: 62.5 ms\n",
      "Wall time: 117 ms\n"
     ]
    }
   ],
   "source": [
    "%%time\n",
    "m.learn(start='MIP solution')"
   ]
  },
  {
   "cell_type": "code",
   "execution_count": null,
   "id": "d8b0eb5c",
   "metadata": {},
   "outputs": [],
   "source": []
  }
 ],
 "metadata": {
  "kernelspec": {
   "display_name": "Python 3 (ipykernel)",
   "language": "python",
   "name": "python3"
  },
  "language_info": {
   "codemirror_mode": {
    "name": "ipython",
    "version": 3
   },
   "file_extension": ".py",
   "mimetype": "text/x-python",
   "name": "python",
   "nbconvert_exporter": "python",
   "pygments_lexer": "ipython3",
   "version": "3.8.8"
  }
 },
 "nbformat": 4,
 "nbformat_minor": 5
}
