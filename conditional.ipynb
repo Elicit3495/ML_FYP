{
 "cells": [
  {
   "cell_type": "code",
   "execution_count": 1,
   "id": "bbbb924b",
   "metadata": {},
   "outputs": [],
   "source": [
    "import pandas as pd\n",
    "# from tabulate import tabulate\n",
    "import numpy as np\n",
    "# import bnlearn as bn\n",
    "import pgmpy\n",
    "import itertools\n",
    "from scipy.stats import chisquare\n",
    "from scipy.stats import power_divergence\n",
    "from pgmpy.estimators.CITests import chi_square\n",
    "# from pgmpy.factors.continuous.discretize import BaseDiscretizer"
   ]
  },
  {
   "cell_type": "code",
   "execution_count": 2,
   "id": "7f25afa9",
   "metadata": {},
   "outputs": [],
   "source": [
    "def csv_format_discrete(csv_file):\n",
    "    df = pd.read_csv(csv_file, sep=\"\\s+\")\n",
    "    return df.drop([0])\n",
    "\n",
    "#returns the csv_file in a pandas dataframe, formatted properly, discrete dataset only"
   ]
  },
  {
   "cell_type": "code",
   "execution_count": 3,
   "id": "571bb323",
   "metadata": {},
   "outputs": [],
   "source": [
    "def csv_format_discrete(csv_file):\n",
    "    df = pd.read_csv(csv_file, sep=\"\\s+\")\n",
    "    return df.drop([0])\n"
   ]
  },
  {
   "cell_type": "code",
   "execution_count": 4,
   "id": "a6f215f5",
   "metadata": {},
   "outputs": [],
   "source": [
    "def gaussian_reader(csv_file):\n",
    "    df = pd.read_csv(csv_file, sep=\"\\s+\")\n",
    "    return df"
   ]
  },
  {
   "cell_type": "code",
   "execution_count": 5,
   "id": "8c08e4eb",
   "metadata": {},
   "outputs": [],
   "source": [
    "def chi_square_CI(df):\n",
    "#the null hypothesis is that they are independent of each other\n",
    "#if true, the p_value is higher than the significance test, we do not reject the null hypothesis\n",
    "#if false, the p_value is lower than the significance test, we reject the null hypothesis\n",
    "    v = list(df)\n",
    "    empty = []\n",
    "    empty_1 = []\n",
    "    empty_2 = []\n",
    "    empty_3 = []\n",
    "    empty_4 = []\n",
    "    empty_5 = []\n",
    "    itertools_combinations = list(itertools.combinations(v, 2)) #finds every possible combination of list(df)\n",
    "    for i in itertools_combinations:\n",
    "        empty_1.append(i[0])\n",
    "        empty_2.append(i[1])\n",
    "    for t in range(len(itertools_combinations)):\n",
    "        empty.append(itertools_combinations[t])\n",
    "    for x,y,i in zip(empty_1, empty_2, empty):\n",
    "        chisquare = chi_square(X=x, Y=y, Z=[], data=df, significance_level=0.95, boolean=True) #returns chi, p_value, dof\n",
    "        empty_3.append([i , chisquare])\n",
    "    for value in range(len(empty_3)):\n",
    "        empty_4.append(value)\n",
    "    for x,y in zip(empty_4, empty_3):\n",
    "        empty_5.append([x,y])\n",
    "    return empty_5\n"
   ]
  },
  {
   "cell_type": "code",
   "execution_count": 6,
   "id": "a12e1f32",
   "metadata": {},
   "outputs": [],
   "source": [
    "def chi_square_CI_2(df):\n",
    "#the null hypothesis is that they are independent of each other\n",
    "#if true, the p_value is higher than the significance test, we do not reject the null hypothesis\n",
    "#if false, the p_value is lower than the significance test, we reject the null hypothesis\n",
    "    v = list(df)\n",
    "    empty = []\n",
    "    empty_1 = []\n",
    "    empty_2 = []\n",
    "    empty_3 = []\n",
    "    empty_4 = []\n",
    "    empty_5 = []\n",
    "    itertools_combinations = list(itertools.combinations(v, 2)) #finds every possible combination of list(df)\n",
    "    for i in itertools_combinations:\n",
    "        empty_1.append(i[0])\n",
    "        empty_2.append(i[1])\n",
    "    for t in range(len(itertools_combinations)):\n",
    "        empty.append(itertools_combinations[t])\n",
    "    for x,y,i in zip(empty_1, empty_2, empty):\n",
    "        chisquare = chi_square(X=x, Y=y, Z=[], data=df, significance_level=0.95, boolean=False) #returns chi, p_value, dof\n",
    "        empty_3.append([i , chisquare])\n",
    "    for value in range(len(empty_3)):\n",
    "        empty_4.append(value)\n",
    "    for x,y in zip(empty_4, empty_3):\n",
    "        empty_5.append([x,y])\n",
    "    return empty_5\n"
   ]
  },
  {
   "cell_type": "code",
   "execution_count": 22,
   "id": "1d6ada1a",
   "metadata": {},
   "outputs": [],
   "source": [
    "# df = csv_format_discrete(r'C:\\Users\\User\\Documents\\GitHub\\ML_FYP\\dataset\\asia_10000.dat')"
   ]
  },
  {
   "cell_type": "code",
   "execution_count": null,
   "id": "f1bd6811",
   "metadata": {},
   "outputs": [],
   "source": []
  },
  {
   "cell_type": "code",
   "execution_count": 24,
   "id": "717fb3ea",
   "metadata": {
    "scrolled": true
   },
   "outputs": [],
   "source": [
    "v = list(df.loc[:,\"Seven\"])"
   ]
  },
  {
   "cell_type": "code",
   "execution_count": 27,
   "id": "1a3236c2",
   "metadata": {},
   "outputs": [],
   "source": [
    "k = power_divergence(v, lambda_=\"log-likelihood\")\n",
    "#returns statistics, p-value"
   ]
  },
  {
   "cell_type": "code",
   "execution_count": 30,
   "id": "ed2e9f2d",
   "metadata": {},
   "outputs": [
    {
     "data": {
      "text/plain": [
       "[2097.253052117013, 1.0]"
      ]
     },
     "execution_count": 30,
     "metadata": {},
     "output_type": "execute_result"
    }
   ],
   "source": [
    "k_ = list(k)\n",
    "k_"
   ]
  },
  {
   "cell_type": "code",
   "execution_count": 31,
   "id": "7b78f189",
   "metadata": {},
   "outputs": [
    {
     "data": {
      "text/plain": [
       "0.45454545454545453"
      ]
     },
     "execution_count": 31,
     "metadata": {},
     "output_type": "execute_result"
    }
   ],
   "source": [
    "30/66"
   ]
  },
  {
   "cell_type": "code",
   "execution_count": null,
   "id": "edf45de2",
   "metadata": {},
   "outputs": [],
   "source": []
  }
 ],
 "metadata": {
  "kernelspec": {
   "display_name": "Python 3 (ipykernel)",
   "language": "python",
   "name": "python3"
  },
  "language_info": {
   "codemirror_mode": {
    "name": "ipython",
    "version": 3
   },
   "file_extension": ".py",
   "mimetype": "text/x-python",
   "name": "python",
   "nbconvert_exporter": "python",
   "pygments_lexer": "ipython3",
   "version": "3.8.8"
  }
 },
 "nbformat": 4,
 "nbformat_minor": 5
}
