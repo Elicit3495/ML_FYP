{
 "cells": [
  {
   "cell_type": "code",
   "execution_count": 66,
   "id": "bbbb924b",
   "metadata": {},
   "outputs": [],
   "source": [
    "import pandas as pd\n",
    "# from tabulate import tabulate\n",
    "import numpy as np\n",
    "# import bnlearn as bn\n",
    "import pgmpy\n",
    "import itertools\n",
    "from scipy.stats import chi2_contingency\n",
    "from scipy.stats import power_divergence\n",
    "from scipy.stats import chisquare\n",
    "# from pgmpy.estimators.CITests import chi_square\n",
    "# from pgmpy.factors.continuous.discretize import BaseDiscretizer"
   ]
  },
  {
   "cell_type": "code",
   "execution_count": 2,
   "id": "7f25afa9",
   "metadata": {},
   "outputs": [],
   "source": [
    "def csv_format_discrete(csv_file):\n",
    "    df = pd.read_csv(csv_file, sep=\"\\s+\")\n",
    "    return df.drop([0])\n",
    "\n",
    "#returns the csv_file in a pandas dataframe, formatted properly, discrete dataset only"
   ]
  },
  {
   "cell_type": "code",
   "execution_count": 3,
   "id": "571bb323",
   "metadata": {},
   "outputs": [],
   "source": [
    "def csv_format_discrete(csv_file):\n",
    "    df = pd.read_csv(csv_file, sep=\"\\s+\")\n",
    "    return df.drop([0])\n"
   ]
  },
  {
   "cell_type": "code",
   "execution_count": 4,
   "id": "a6f215f5",
   "metadata": {},
   "outputs": [],
   "source": [
    "def gaussian_reader(csv_file):\n",
    "    df = pd.read_csv(csv_file, sep=\"\\s+\")\n",
    "    return df"
   ]
  },
  {
   "cell_type": "code",
   "execution_count": 5,
   "id": "8c08e4eb",
   "metadata": {},
   "outputs": [],
   "source": [
    "def chi_square_CI(df):\n",
    "#the null hypothesis is that they are independent of each other\n",
    "#if true, the p_value is higher than the significance test, we do not reject the null hypothesis\n",
    "#if false, the p_value is lower than the significance test, we reject the null hypothesis\n",
    "    v = list(df)\n",
    "    empty = []\n",
    "    empty_1 = []\n",
    "    empty_2 = []\n",
    "    empty_3 = []\n",
    "    empty_4 = []\n",
    "    empty_5 = []\n",
    "    itertools_combinations = list(itertools.combinations(v, 2)) #finds every possible combination of list(df)\n",
    "    for i in itertools_combinations:\n",
    "        empty_1.append(i[0])\n",
    "        empty_2.append(i[1])\n",
    "    for t in range(len(itertools_combinations)):\n",
    "        empty.append(itertools_combinations[t])\n",
    "    for x,y,i in zip(empty_1, empty_2, empty):\n",
    "        chisquare = chi_square(X=x, Y=y, Z=[], data=df, significance_level=0.95, boolean=False) #returns chi, p_value, dof\n",
    "        empty_3.append([i , chisquare])\n",
    "    for value in range(len(empty_3)):\n",
    "        empty_4.append(value)\n",
    "    for x,y in zip(empty_4, empty_3):\n",
    "        empty_5.append([x,y])\n",
    "    return empty_5\n"
   ]
  },
  {
   "cell_type": "code",
   "execution_count": 77,
   "id": "452cb8d6",
   "metadata": {},
   "outputs": [],
   "source": [
    "def chi_square_CI(df):\n",
    "#the null hypothesis is that they are independent of each other\n",
    "#if true, the p_value is higher than the significance test, we do not reject the null hypothesis\n",
    "#if false, the p_value is lower than the significance test, we reject the null hypothesis\n",
    "    v = list(df)\n",
    "    empty_0 = []\n",
    "    empty = []\n",
    "    empty_1 = []\n",
    "    empty_2 = []\n",
    "    empty_3 = []\n",
    "    empty_4 = []\n",
    "    empty_5 = []\n",
    "    itertools_combinations = list(itertools.combinations(v, 2)) #finds every possible combination of list(df)\n",
    "    for i in list(df):\n",
    "        array = df[i].to_numpy()\n",
    "        empty_0.append([i,array]) #gives the array of the columns of the thing\n",
    "    for i in itertools_combinations:\n",
    "        empty_1.append(i[0])\n",
    "        empty_2.append(i[1])\n",
    "    for t in range(len(itertools_combinations)):\n",
    "        empty.append(itertools_combinations[t])\n",
    "    for x,y,i in zip(empty_1, empty_2, empty):\n",
    "        chisquare = chi_square(X=x, Y=y, Z=[], data=df, significance_level=0.95, boolean=False) #returns chi, p_value, dof\n",
    "        empty_3.append([i , chisquare])\n",
    "    for value in range(len(empty_3)):\n",
    "        empty_4.append(value)\n",
    "    for x,y in zip(empty_4, empty_3):\n",
    "        empty_5.append([x,y])\n",
    "    return empty_5"
   ]
  },
  {
   "cell_type": "code",
   "execution_count": 91,
   "id": "c0f7f35c",
   "metadata": {},
   "outputs": [],
   "source": [
    "def new_chi(df):\n",
    "    test = []\n",
    "    for i in list(df):\n",
    "        array = df[i].to_numpy()\n",
    "        test.append(array)\n",
    "    return test"
   ]
  },
  {
   "cell_type": "code",
   "execution_count": 102,
   "id": "e888dbdd",
   "metadata": {},
   "outputs": [
    {
     "data": {
      "text/plain": [
       "array([[3, 0, 0, 1, 3, 1, 2, 2],\n",
       "       [1, 2, 2, 2, 2, 1, 1, 0]], dtype=int64)"
      ]
     },
     "execution_count": 102,
     "metadata": {},
     "output_type": "execute_result"
    }
   ],
   "source": [
    "test = new_chi(df)\n",
    "test_2 = np.array([test[0], test[1]])\n",
    "test_2"
   ]
  },
  {
   "cell_type": "code",
   "execution_count": 100,
   "id": "39129966",
   "metadata": {},
   "outputs": [
    {
     "data": {
      "text/plain": [
       "Power_divergenceResult(statistic=array([1.        , 2.        , 2.        , 0.33333333, 0.2       ,\n",
       "       0.        , 0.33333333, 2.        ]), pvalue=array([0.31731051, 0.15729921, 0.15729921, 0.56370286, 0.65472085,\n",
       "       1.        , 0.56370286, 0.15729921]))"
      ]
     },
     "execution_count": 100,
     "metadata": {},
     "output_type": "execute_result"
    }
   ],
   "source": [
    "chisquare(test_2)"
   ]
  },
  {
   "cell_type": "code",
   "execution_count": 78,
   "id": "eed228cc",
   "metadata": {},
   "outputs": [],
   "source": [
    "test = []\n",
    "for i in list(df):\n",
    "    array = df[i].to_numpy()\n",
    "    test.append([i,array])"
   ]
  },
  {
   "cell_type": "code",
   "execution_count": 90,
   "id": "c81768dd",
   "metadata": {},
   "outputs": [],
   "source": [
    "test"
   ]
  },
  {
   "cell_type": "code",
   "execution_count": 72,
   "id": "77041da0",
   "metadata": {},
   "outputs": [
    {
     "data": {
      "text/html": [
       "<div>\n",
       "<style scoped>\n",
       "    .dataframe tbody tr th:only-of-type {\n",
       "        vertical-align: middle;\n",
       "    }\n",
       "\n",
       "    .dataframe tbody tr th {\n",
       "        vertical-align: top;\n",
       "    }\n",
       "\n",
       "    .dataframe thead th {\n",
       "        text-align: right;\n",
       "    }\n",
       "</style>\n",
       "<table border=\"1\" class=\"dataframe\">\n",
       "  <thead>\n",
       "    <tr style=\"text-align: right;\">\n",
       "      <th></th>\n",
       "      <th>A</th>\n",
       "      <th>B</th>\n",
       "      <th>C</th>\n",
       "      <th>D</th>\n",
       "      <th>E</th>\n",
       "    </tr>\n",
       "  </thead>\n",
       "  <tbody>\n",
       "    <tr>\n",
       "      <th>1</th>\n",
       "      <td>3</td>\n",
       "      <td>1</td>\n",
       "      <td>2</td>\n",
       "      <td>3</td>\n",
       "      <td>1</td>\n",
       "    </tr>\n",
       "    <tr>\n",
       "      <th>2</th>\n",
       "      <td>0</td>\n",
       "      <td>2</td>\n",
       "      <td>3</td>\n",
       "      <td>2</td>\n",
       "      <td>2</td>\n",
       "    </tr>\n",
       "    <tr>\n",
       "      <th>3</th>\n",
       "      <td>0</td>\n",
       "      <td>2</td>\n",
       "      <td>3</td>\n",
       "      <td>4</td>\n",
       "      <td>3</td>\n",
       "    </tr>\n",
       "    <tr>\n",
       "      <th>4</th>\n",
       "      <td>1</td>\n",
       "      <td>2</td>\n",
       "      <td>2</td>\n",
       "      <td>3</td>\n",
       "      <td>0</td>\n",
       "    </tr>\n",
       "    <tr>\n",
       "      <th>5</th>\n",
       "      <td>3</td>\n",
       "      <td>2</td>\n",
       "      <td>3</td>\n",
       "      <td>4</td>\n",
       "      <td>0</td>\n",
       "    </tr>\n",
       "    <tr>\n",
       "      <th>6</th>\n",
       "      <td>1</td>\n",
       "      <td>1</td>\n",
       "      <td>3</td>\n",
       "      <td>4</td>\n",
       "      <td>4</td>\n",
       "    </tr>\n",
       "    <tr>\n",
       "      <th>7</th>\n",
       "      <td>2</td>\n",
       "      <td>1</td>\n",
       "      <td>1</td>\n",
       "      <td>3</td>\n",
       "      <td>4</td>\n",
       "    </tr>\n",
       "    <tr>\n",
       "      <th>8</th>\n",
       "      <td>2</td>\n",
       "      <td>0</td>\n",
       "      <td>2</td>\n",
       "      <td>0</td>\n",
       "      <td>2</td>\n",
       "    </tr>\n",
       "  </tbody>\n",
       "</table>\n",
       "</div>"
      ],
      "text/plain": [
       "   A  B  C  D  E\n",
       "1  3  1  2  3  1\n",
       "2  0  2  3  2  2\n",
       "3  0  2  3  4  3\n",
       "4  1  2  2  3  0\n",
       "5  3  2  3  4  0\n",
       "6  1  1  3  4  4\n",
       "7  2  1  1  3  4\n",
       "8  2  0  2  0  2"
      ]
     },
     "execution_count": 72,
     "metadata": {},
     "output_type": "execute_result"
    }
   ],
   "source": [
    "df"
   ]
  },
  {
   "cell_type": "code",
   "execution_count": 59,
   "id": "adcfe532",
   "metadata": {},
   "outputs": [],
   "source": [
    "df = csv_format_discrete(r\"C:\\Users\\User\\Documents\\GitHub\\ML_FYP\\dataset\\test_2.dat\")\n",
    "v = list(df)"
   ]
  },
  {
   "cell_type": "code",
   "execution_count": 60,
   "id": "1d6ada1a",
   "metadata": {},
   "outputs": [
    {
     "name": "stdout",
     "output_type": "stream",
     "text": [
      "[[0, [('A', 'B'), (6.0, 0.42319008112684364, 6)]], [1, [('A', 'C'), (6.0, 0.42319008112684364, 6)]], [2, [('A', 'D'), (8.0, 0.5341462169096916, 9)]], [3, [('A', 'E'), (12.0, 0.44567964136461097, 12)]], [4, [('B', 'C'), (4.055555555555555, 0.3985394322295418, 4)]], [5, [('B', 'D'), (9.777777777777777, 0.13432763270881842, 6)]], [6, [('B', 'E'), (11.0, 0.20169919870252867, 8)]], [7, [('C', 'D'), (8.88888888888889, 0.1799239866069569, 6)]], [8, [('C', 'E'), (6.333333333333334, 0.6099475869625752, 8)]], [9, [('D', 'E'), (10.666666666666668, 0.5576805436358871, 12)]]]\n"
     ]
    }
   ],
   "source": [
    "empty = []\n",
    "empty_1 = []\n",
    "empty_2 = []\n",
    "empty_3 = []\n",
    "empty_4 = []\n",
    "empty_5 = []\n",
    "itertools_combinations = list(itertools.combinations(v, 2)) #finds every possible combination of list(df)\n",
    "for i in itertools_combinations:\n",
    "    empty_1.append(i[0])\n",
    "    empty_2.append(i[1])\n",
    "# for t in range(len(itertools_combinations)):\n",
    "#     empty.append(itertools_combinations[t])\n",
    "# for x,y,i in zip(empty_1, empty_2, empty):\n",
    "#     chisquare = chi_square(X=x, Y=y, Z=[], data=df, significance_level=0.95, boolean=False) #returns chi, p_value, dof\n",
    "#     empty_3.append([i , chisquare])\n",
    "# for value in range(len(empty_3)):\n",
    "#     empty_4.append(value)\n",
    "# for x,y in zip(empty_4, empty_3):\n",
    "#     empty_5.append([x,y])\n",
    "# print(empty_5)"
   ]
  },
  {
   "cell_type": "code",
   "execution_count": 61,
   "id": "0f94067c",
   "metadata": {},
   "outputs": [],
   "source": [
    "for t in range(len(itertools_combinations)):\n",
    "    empty.append(itertools_combinations[t])"
   ]
  },
  {
   "cell_type": "code",
   "execution_count": 70,
   "id": "478ca656",
   "metadata": {},
   "outputs": [
    {
     "data": {
      "text/plain": [
       "array([['A', 'A', 'A', 'A', 'B', 'B', 'B', 'C', 'C', 'D'],\n",
       "       ['B', 'C', 'D', 'E', 'C', 'D', 'E', 'D', 'E', 'E']], dtype='<U1')"
      ]
     },
     "execution_count": 70,
     "metadata": {},
     "output_type": "execute_result"
    }
   ],
   "source": [
    "np.array([empty_1, empty_2])"
   ]
  },
  {
   "cell_type": "code",
   "execution_count": 71,
   "id": "1decaaaa",
   "metadata": {},
   "outputs": [
    {
     "ename": "ValueError",
     "evalue": "could not convert string to float: 'A'",
     "output_type": "error",
     "traceback": [
      "\u001b[1;31m---------------------------------------------------------------------------\u001b[0m",
      "\u001b[1;31mValueError\u001b[0m                                Traceback (most recent call last)",
      "Cell \u001b[1;32mIn [71], line 3\u001b[0m\n\u001b[0;32m      1\u001b[0m \u001b[38;5;28;01mfor\u001b[39;00m x,y,i \u001b[38;5;129;01min\u001b[39;00m \u001b[38;5;28mzip\u001b[39m(empty_1, empty_2, empty):\n\u001b[0;32m      2\u001b[0m     empty_array \u001b[38;5;241m=\u001b[39m np\u001b[38;5;241m.\u001b[39marray([empty_1, empty_2])\n\u001b[1;32m----> 3\u001b[0m     chisquare \u001b[38;5;241m=\u001b[39m \u001b[43mchisquare\u001b[49m\u001b[43m(\u001b[49m\u001b[43mempty_array\u001b[49m\u001b[43m)\u001b[49m\n",
      "File \u001b[1;32m~\\anaconda3\\lib\\site-packages\\scipy\\stats\\_stats_py.py:7311\u001b[0m, in \u001b[0;36mchisquare\u001b[1;34m(f_obs, f_exp, ddof, axis)\u001b[0m\n\u001b[0;32m   7187\u001b[0m \u001b[38;5;28;01mdef\u001b[39;00m \u001b[38;5;21mchisquare\u001b[39m(f_obs, f_exp\u001b[38;5;241m=\u001b[39m\u001b[38;5;28;01mNone\u001b[39;00m, ddof\u001b[38;5;241m=\u001b[39m\u001b[38;5;241m0\u001b[39m, axis\u001b[38;5;241m=\u001b[39m\u001b[38;5;241m0\u001b[39m):\n\u001b[0;32m   7188\u001b[0m     \u001b[38;5;124;03m\"\"\"Calculate a one-way chi-square test.\u001b[39;00m\n\u001b[0;32m   7189\u001b[0m \n\u001b[0;32m   7190\u001b[0m \u001b[38;5;124;03m    The chi-square test tests the null hypothesis that the categorical data\u001b[39;00m\n\u001b[1;32m   (...)\u001b[0m\n\u001b[0;32m   7309\u001b[0m \n\u001b[0;32m   7310\u001b[0m \u001b[38;5;124;03m    \"\"\"\u001b[39;00m\n\u001b[1;32m-> 7311\u001b[0m     \u001b[38;5;28;01mreturn\u001b[39;00m \u001b[43mpower_divergence\u001b[49m\u001b[43m(\u001b[49m\u001b[43mf_obs\u001b[49m\u001b[43m,\u001b[49m\u001b[43m \u001b[49m\u001b[43mf_exp\u001b[49m\u001b[38;5;241;43m=\u001b[39;49m\u001b[43mf_exp\u001b[49m\u001b[43m,\u001b[49m\u001b[43m \u001b[49m\u001b[43mddof\u001b[49m\u001b[38;5;241;43m=\u001b[39;49m\u001b[43mddof\u001b[49m\u001b[43m,\u001b[49m\u001b[43m \u001b[49m\u001b[43maxis\u001b[49m\u001b[38;5;241;43m=\u001b[39;49m\u001b[43maxis\u001b[49m\u001b[43m,\u001b[49m\n\u001b[0;32m   7312\u001b[0m \u001b[43m                            \u001b[49m\u001b[43mlambda_\u001b[49m\u001b[38;5;241;43m=\u001b[39;49m\u001b[38;5;124;43m\"\u001b[39;49m\u001b[38;5;124;43mpearson\u001b[39;49m\u001b[38;5;124;43m\"\u001b[39;49m\u001b[43m)\u001b[49m\n",
      "File \u001b[1;32m~\\anaconda3\\lib\\site-packages\\scipy\\stats\\_stats_py.py:7133\u001b[0m, in \u001b[0;36mpower_divergence\u001b[1;34m(f_obs, f_exp, ddof, axis, lambda_)\u001b[0m\n\u001b[0;32m   7130\u001b[0m     lambda_ \u001b[38;5;241m=\u001b[39m \u001b[38;5;241m1\u001b[39m\n\u001b[0;32m   7132\u001b[0m f_obs \u001b[38;5;241m=\u001b[39m np\u001b[38;5;241m.\u001b[39masanyarray(f_obs)\n\u001b[1;32m-> 7133\u001b[0m f_obs_float \u001b[38;5;241m=\u001b[39m \u001b[43mf_obs\u001b[49m\u001b[38;5;241;43m.\u001b[39;49m\u001b[43mastype\u001b[49m\u001b[43m(\u001b[49m\u001b[43mnp\u001b[49m\u001b[38;5;241;43m.\u001b[39;49m\u001b[43mfloat64\u001b[49m\u001b[43m)\u001b[49m\n\u001b[0;32m   7135\u001b[0m \u001b[38;5;28;01mif\u001b[39;00m f_exp \u001b[38;5;129;01mis\u001b[39;00m \u001b[38;5;129;01mnot\u001b[39;00m \u001b[38;5;28;01mNone\u001b[39;00m:\n\u001b[0;32m   7136\u001b[0m     f_exp \u001b[38;5;241m=\u001b[39m np\u001b[38;5;241m.\u001b[39masanyarray(f_exp)\n",
      "\u001b[1;31mValueError\u001b[0m: could not convert string to float: 'A'"
     ]
    }
   ],
   "source": [
    "for x,y,i in zip(empty_1, empty_2, empty):\n",
    "    empty_array = np.array([empty_1, empty_2])\n",
    "    chisquare = chisquare(empty_array)"
   ]
  },
  {
   "cell_type": "code",
   "execution_count": 65,
   "id": "23026afd",
   "metadata": {},
   "outputs": [
    {
     "data": {
      "text/plain": [
       "(10.666666666666668, 0.5576805436358871, 12)"
      ]
     },
     "execution_count": 65,
     "metadata": {},
     "output_type": "execute_result"
    }
   ],
   "source": [
    "chisquare"
   ]
  },
  {
   "cell_type": "code",
   "execution_count": null,
   "id": "c0e6af55",
   "metadata": {},
   "outputs": [],
   "source": [
    "obs = "
   ]
  },
  {
   "cell_type": "code",
   "execution_count": 32,
   "id": "67a5f16d",
   "metadata": {},
   "outputs": [
    {
     "data": {
      "text/plain": [
       "array([[3, 0, 0, 1, 3, 1, 2, 2],\n",
       "       [1, 2, 2, 2, 2, 1, 1, 0]])"
      ]
     },
     "execution_count": 32,
     "metadata": {},
     "output_type": "execute_result"
    }
   ],
   "source": [
    "obs = np.array([\n",
    "               [3,0,0,1,3,1,2,2], \n",
    "               [1,2,2,2,2,1,1,0]])\n",
    "obs"
   ]
  },
  {
   "cell_type": "code",
   "execution_count": 33,
   "id": "f1bd6811",
   "metadata": {},
   "outputs": [],
   "source": [
    "res = chi2_contingency(obs)   \n"
   ]
  },
  {
   "cell_type": "code",
   "execution_count": 34,
   "id": "5a761958",
   "metadata": {},
   "outputs": [
    {
     "data": {
      "text/plain": [
       "(7.838005050505051,\n",
       " 0.3470951089625462,\n",
       " 7,\n",
       " array([[2.08695652, 1.04347826, 1.04347826, 1.56521739, 2.60869565,\n",
       "         1.04347826, 1.56521739, 1.04347826],\n",
       "        [1.91304348, 0.95652174, 0.95652174, 1.43478261, 2.39130435,\n",
       "         0.95652174, 1.43478261, 0.95652174]]))"
      ]
     },
     "execution_count": 34,
     "metadata": {},
     "output_type": "execute_result"
    }
   ],
   "source": [
    "res"
   ]
  },
  {
   "cell_type": "code",
   "execution_count": 43,
   "id": "e88a1ad0",
   "metadata": {},
   "outputs": [],
   "source": [
    "test = chisquare(obs)\n",
    "k = test.statistic"
   ]
  },
  {
   "cell_type": "code",
   "execution_count": null,
   "id": "717fb3ea",
   "metadata": {
    "scrolled": true
   },
   "outputs": [],
   "source": [
    "v = list(df.loc[:,\"Seven\"])"
   ]
  },
  {
   "cell_type": "code",
   "execution_count": null,
   "id": "53b3906e",
   "metadata": {},
   "outputs": [],
   "source": []
  },
  {
   "cell_type": "code",
   "execution_count": null,
   "id": "1a3236c2",
   "metadata": {},
   "outputs": [],
   "source": [
    "k = power_divergence(v, lambda_=\"log-likelihood\")\n",
    "#returns statistics, p-value"
   ]
  },
  {
   "cell_type": "code",
   "execution_count": 30,
   "id": "ed2e9f2d",
   "metadata": {},
   "outputs": [
    {
     "data": {
      "text/plain": [
       "[2097.253052117013, 1.0]"
      ]
     },
     "execution_count": 30,
     "metadata": {},
     "output_type": "execute_result"
    }
   ],
   "source": [
    "k_ = list(k)\n",
    "k_"
   ]
  },
  {
   "cell_type": "code",
   "execution_count": 31,
   "id": "7b78f189",
   "metadata": {},
   "outputs": [
    {
     "data": {
      "text/plain": [
       "0.45454545454545453"
      ]
     },
     "execution_count": 31,
     "metadata": {},
     "output_type": "execute_result"
    }
   ],
   "source": [
    "30/66"
   ]
  },
  {
   "cell_type": "code",
   "execution_count": null,
   "id": "edf45de2",
   "metadata": {},
   "outputs": [],
   "source": []
  }
 ],
 "metadata": {
  "kernelspec": {
   "display_name": "Python 3 (ipykernel)",
   "language": "python",
   "name": "python3"
  },
  "language_info": {
   "codemirror_mode": {
    "name": "ipython",
    "version": 3
   },
   "file_extension": ".py",
   "mimetype": "text/x-python",
   "name": "python",
   "nbconvert_exporter": "python",
   "pygments_lexer": "ipython3",
   "version": "3.8.8"
  }
 },
 "nbformat": 4,
 "nbformat_minor": 5
}
