{
 "cells": [
  {
   "cell_type": "code",
   "execution_count": 1,
   "id": "bbbb924b",
   "metadata": {},
   "outputs": [],
   "source": [
    "import pandas as pd\n",
    "import numpy as np\n",
    "from pygobnilp.gobnilp import Gobnilp\n",
    "import pgmpy\n",
    "import itertools\n",
    "from pgmpy.estimators.CITests import pearsonr\n",
    "from pgmpy.estimators.CITests import chi_square\n",
    "import networkx as nx\n",
    "import time\n",
    "import collections"
   ]
  },
  {
   "cell_type": "code",
   "execution_count": 2,
   "id": "7f25afa9",
   "metadata": {},
   "outputs": [],
   "source": [
    "def csv_format_discrete(csv_file):\n",
    "    df = pd.read_csv(csv_file, sep=\"\\s+\")\n",
    "    return df.drop([0])\n",
    "\n",
    "#returns the csv_file in a pandas dataframe, formatted properly, discrete dataset only"
   ]
  },
  {
   "cell_type": "code",
   "execution_count": 3,
   "id": "0d13a4c9",
   "metadata": {},
   "outputs": [],
   "source": [
    "#small network : n <= 20 nodes, medium network: 20 <= n <= 50 , large: 50 <= n <= 100, ... \n",
    "df_small = csv_format_discrete(r\"C:\\Users\\User\\Documents\\GitHub\\ML_FYP\\dataset\\asia_10000.dat\")\n",
    "df_medium = csv_format_discrete(r\"C:\\Users\\User\\Documents\\GitHub\\ML_FYP\\dataset\\alarm_10000.dat\")\n",
    "# df_large = csv_format_discrete(r\"\")"
   ]
  },
  {
   "cell_type": "markdown",
   "id": "68a3df7c",
   "metadata": {},
   "source": [
    "### chi-squared test"
   ]
  },
  {
   "cell_type": "code",
   "execution_count": 4,
   "id": "b8a2f906",
   "metadata": {},
   "outputs": [
    {
     "data": {
      "text/html": [
       "<div>\n",
       "<style scoped>\n",
       "    .dataframe tbody tr th:only-of-type {\n",
       "        vertical-align: middle;\n",
       "    }\n",
       "\n",
       "    .dataframe tbody tr th {\n",
       "        vertical-align: top;\n",
       "    }\n",
       "\n",
       "    .dataframe thead th {\n",
       "        text-align: right;\n",
       "    }\n",
       "</style>\n",
       "<table border=\"1\" class=\"dataframe\">\n",
       "  <thead>\n",
       "    <tr style=\"text-align: right;\">\n",
       "      <th></th>\n",
       "      <th>One</th>\n",
       "      <th>Two</th>\n",
       "      <th>Three</th>\n",
       "      <th>Four</th>\n",
       "      <th>Five</th>\n",
       "      <th>Six</th>\n",
       "      <th>Seven</th>\n",
       "      <th>Eight</th>\n",
       "    </tr>\n",
       "  </thead>\n",
       "  <tbody>\n",
       "    <tr>\n",
       "      <th>1</th>\n",
       "      <td>1</td>\n",
       "      <td>1</td>\n",
       "      <td>0</td>\n",
       "      <td>0</td>\n",
       "      <td>0</td>\n",
       "      <td>1</td>\n",
       "      <td>0</td>\n",
       "      <td>1</td>\n",
       "    </tr>\n",
       "    <tr>\n",
       "      <th>2</th>\n",
       "      <td>1</td>\n",
       "      <td>0</td>\n",
       "      <td>0</td>\n",
       "      <td>0</td>\n",
       "      <td>0</td>\n",
       "      <td>0</td>\n",
       "      <td>1</td>\n",
       "      <td>0</td>\n",
       "    </tr>\n",
       "    <tr>\n",
       "      <th>3</th>\n",
       "      <td>0</td>\n",
       "      <td>0</td>\n",
       "      <td>1</td>\n",
       "      <td>0</td>\n",
       "      <td>0</td>\n",
       "      <td>0</td>\n",
       "      <td>1</td>\n",
       "      <td>0</td>\n",
       "    </tr>\n",
       "    <tr>\n",
       "      <th>4</th>\n",
       "      <td>1</td>\n",
       "      <td>0</td>\n",
       "      <td>1</td>\n",
       "      <td>0</td>\n",
       "      <td>0</td>\n",
       "      <td>0</td>\n",
       "      <td>1</td>\n",
       "      <td>0</td>\n",
       "    </tr>\n",
       "    <tr>\n",
       "      <th>5</th>\n",
       "      <td>1</td>\n",
       "      <td>0</td>\n",
       "      <td>1</td>\n",
       "      <td>0</td>\n",
       "      <td>0</td>\n",
       "      <td>0</td>\n",
       "      <td>0</td>\n",
       "      <td>1</td>\n",
       "    </tr>\n",
       "    <tr>\n",
       "      <th>...</th>\n",
       "      <td>...</td>\n",
       "      <td>...</td>\n",
       "      <td>...</td>\n",
       "      <td>...</td>\n",
       "      <td>...</td>\n",
       "      <td>...</td>\n",
       "      <td>...</td>\n",
       "      <td>...</td>\n",
       "    </tr>\n",
       "    <tr>\n",
       "      <th>9996</th>\n",
       "      <td>0</td>\n",
       "      <td>0</td>\n",
       "      <td>1</td>\n",
       "      <td>0</td>\n",
       "      <td>0</td>\n",
       "      <td>0</td>\n",
       "      <td>0</td>\n",
       "      <td>0</td>\n",
       "    </tr>\n",
       "    <tr>\n",
       "      <th>9997</th>\n",
       "      <td>1</td>\n",
       "      <td>0</td>\n",
       "      <td>1</td>\n",
       "      <td>0</td>\n",
       "      <td>0</td>\n",
       "      <td>0</td>\n",
       "      <td>1</td>\n",
       "      <td>1</td>\n",
       "    </tr>\n",
       "    <tr>\n",
       "      <th>9998</th>\n",
       "      <td>0</td>\n",
       "      <td>0</td>\n",
       "      <td>0</td>\n",
       "      <td>0</td>\n",
       "      <td>0</td>\n",
       "      <td>0</td>\n",
       "      <td>1</td>\n",
       "      <td>0</td>\n",
       "    </tr>\n",
       "    <tr>\n",
       "      <th>9999</th>\n",
       "      <td>1</td>\n",
       "      <td>0</td>\n",
       "      <td>0</td>\n",
       "      <td>0</td>\n",
       "      <td>0</td>\n",
       "      <td>0</td>\n",
       "      <td>1</td>\n",
       "      <td>0</td>\n",
       "    </tr>\n",
       "    <tr>\n",
       "      <th>10000</th>\n",
       "      <td>1</td>\n",
       "      <td>0</td>\n",
       "      <td>1</td>\n",
       "      <td>0</td>\n",
       "      <td>0</td>\n",
       "      <td>0</td>\n",
       "      <td>1</td>\n",
       "      <td>0</td>\n",
       "    </tr>\n",
       "  </tbody>\n",
       "</table>\n",
       "<p>10000 rows × 8 columns</p>\n",
       "</div>"
      ],
      "text/plain": [
       "       One  Two  Three  Four  Five  Six  Seven  Eight\n",
       "1        1    1      0     0     0    1      0      1\n",
       "2        1    0      0     0     0    0      1      0\n",
       "3        0    0      1     0     0    0      1      0\n",
       "4        1    0      1     0     0    0      1      0\n",
       "5        1    0      1     0     0    0      0      1\n",
       "...    ...  ...    ...   ...   ...  ...    ...    ...\n",
       "9996     0    0      1     0     0    0      0      0\n",
       "9997     1    0      1     0     0    0      1      1\n",
       "9998     0    0      0     0     0    0      1      0\n",
       "9999     1    0      0     0     0    0      1      0\n",
       "10000    1    0      1     0     0    0      1      0\n",
       "\n",
       "[10000 rows x 8 columns]"
      ]
     },
     "execution_count": 4,
     "metadata": {},
     "output_type": "execute_result"
    }
   ],
   "source": [
    "df_small"
   ]
  },
  {
   "cell_type": "code",
   "execution_count": 5,
   "id": "8c08e4eb",
   "metadata": {},
   "outputs": [],
   "source": [
    "#0th order chi2 test\n",
    "def chi2bool(df, rho):\n",
    "    '''\n",
    "    0th order CI test\n",
    "    \n",
    "    Parameters:\n",
    "    df -> pandas dataframe\n",
    "    rho -> significance level, only accept 0 <= rho <= 1.0\n",
    "    '''\n",
    "    chi2 = []\n",
    "    v = list(df)\n",
    "    my_list = list(itertools.combinations(v,2))\n",
    "    y_0, y_1 = [x[0] for x in my_list], [x[1] for x in my_list]\n",
    "    for i,j in zip(y_0, y_1):\n",
    "        chi = chi_square(X=i, Y=j, Z=[], data=df, significance_level=rho)\n",
    "        chi2.append((i,j,chi))\n",
    "    true_0 = [x for x in chi2 if True in x]\n",
    "    false_0 = [x for x in chi2 if False in x]\n",
    "    return true_0, false_0"
   ]
  },
  {
   "cell_type": "markdown",
   "id": "7078434f",
   "metadata": {},
   "source": [
    "### Pearson's Product Moment Correlation Coefficient"
   ]
  },
  {
   "cell_type": "code",
   "execution_count": 6,
   "id": "6d641eaa",
   "metadata": {},
   "outputs": [
    {
     "data": {
      "text/html": [
       "<div>\n",
       "<style scoped>\n",
       "    .dataframe tbody tr th:only-of-type {\n",
       "        vertical-align: middle;\n",
       "    }\n",
       "\n",
       "    .dataframe tbody tr th {\n",
       "        vertical-align: top;\n",
       "    }\n",
       "\n",
       "    .dataframe thead th {\n",
       "        text-align: right;\n",
       "    }\n",
       "</style>\n",
       "<table border=\"1\" class=\"dataframe\">\n",
       "  <thead>\n",
       "    <tr style=\"text-align: right;\">\n",
       "      <th></th>\n",
       "      <th>A</th>\n",
       "      <th>B</th>\n",
       "      <th>C</th>\n",
       "      <th>D</th>\n",
       "      <th>E</th>\n",
       "      <th>F</th>\n",
       "      <th>G</th>\n",
       "    </tr>\n",
       "  </thead>\n",
       "  <tbody>\n",
       "    <tr>\n",
       "      <th>0</th>\n",
       "      <td>1.113083</td>\n",
       "      <td>1.932164</td>\n",
       "      <td>7.074806</td>\n",
       "      <td>8.660411</td>\n",
       "      <td>0.881591</td>\n",
       "      <td>24.719501</td>\n",
       "      <td>9.216382</td>\n",
       "    </tr>\n",
       "    <tr>\n",
       "      <th>1</th>\n",
       "      <td>-0.247948</td>\n",
       "      <td>11.334343</td>\n",
       "      <td>24.347372</td>\n",
       "      <td>23.355432</td>\n",
       "      <td>7.040113</td>\n",
       "      <td>36.812996</td>\n",
       "      <td>3.678833</td>\n",
       "    </tr>\n",
       "    <tr>\n",
       "      <th>2</th>\n",
       "      <td>1.854508</td>\n",
       "      <td>3.032020</td>\n",
       "      <td>11.086473</td>\n",
       "      <td>11.055891</td>\n",
       "      <td>3.834530</td>\n",
       "      <td>22.017182</td>\n",
       "      <td>2.424513</td>\n",
       "    </tr>\n",
       "    <tr>\n",
       "      <th>3</th>\n",
       "      <td>0.833911</td>\n",
       "      <td>3.857970</td>\n",
       "      <td>11.224775</td>\n",
       "      <td>11.937471</td>\n",
       "      <td>1.005624</td>\n",
       "      <td>23.285643</td>\n",
       "      <td>6.085473</td>\n",
       "    </tr>\n",
       "    <tr>\n",
       "      <th>4</th>\n",
       "      <td>0.488614</td>\n",
       "      <td>4.512613</td>\n",
       "      <td>10.000476</td>\n",
       "      <td>12.537179</td>\n",
       "      <td>4.084746</td>\n",
       "      <td>24.537596</td>\n",
       "      <td>5.117575</td>\n",
       "    </tr>\n",
       "    <tr>\n",
       "      <th>...</th>\n",
       "      <td>...</td>\n",
       "      <td>...</td>\n",
       "      <td>...</td>\n",
       "      <td>...</td>\n",
       "      <td>...</td>\n",
       "      <td>...</td>\n",
       "      <td>...</td>\n",
       "    </tr>\n",
       "    <tr>\n",
       "      <th>4995</th>\n",
       "      <td>0.625860</td>\n",
       "      <td>1.587941</td>\n",
       "      <td>5.952431</td>\n",
       "      <td>8.516822</td>\n",
       "      <td>4.894385</td>\n",
       "      <td>16.950123</td>\n",
       "      <td>2.558535</td>\n",
       "    </tr>\n",
       "    <tr>\n",
       "      <th>4996</th>\n",
       "      <td>0.241723</td>\n",
       "      <td>-0.497071</td>\n",
       "      <td>1.695681</td>\n",
       "      <td>5.563204</td>\n",
       "      <td>7.454081</td>\n",
       "      <td>21.165266</td>\n",
       "      <td>4.867241</td>\n",
       "    </tr>\n",
       "    <tr>\n",
       "      <th>4997</th>\n",
       "      <td>2.527720</td>\n",
       "      <td>-2.706339</td>\n",
       "      <td>0.984988</td>\n",
       "      <td>1.597447</td>\n",
       "      <td>3.692427</td>\n",
       "      <td>18.808892</td>\n",
       "      <td>5.598200</td>\n",
       "    </tr>\n",
       "    <tr>\n",
       "      <th>4998</th>\n",
       "      <td>1.484585</td>\n",
       "      <td>1.468603</td>\n",
       "      <td>7.206672</td>\n",
       "      <td>8.486116</td>\n",
       "      <td>2.611856</td>\n",
       "      <td>21.528922</td>\n",
       "      <td>5.106188</td>\n",
       "    </tr>\n",
       "    <tr>\n",
       "      <th>4999</th>\n",
       "      <td>-0.306881</td>\n",
       "      <td>1.783709</td>\n",
       "      <td>4.603075</td>\n",
       "      <td>8.550474</td>\n",
       "      <td>5.044690</td>\n",
       "      <td>23.063591</td>\n",
       "      <td>6.511988</td>\n",
       "    </tr>\n",
       "  </tbody>\n",
       "</table>\n",
       "<p>5000 rows × 7 columns</p>\n",
       "</div>"
      ],
      "text/plain": [
       "             A          B          C          D         E          F         G\n",
       "0     1.113083   1.932164   7.074806   8.660411  0.881591  24.719501  9.216382\n",
       "1    -0.247948  11.334343  24.347372  23.355432  7.040113  36.812996  3.678833\n",
       "2     1.854508   3.032020  11.086473  11.055891  3.834530  22.017182  2.424513\n",
       "3     0.833911   3.857970  11.224775  11.937471  1.005624  23.285643  6.085473\n",
       "4     0.488614   4.512613  10.000476  12.537179  4.084746  24.537596  5.117575\n",
       "...        ...        ...        ...        ...       ...        ...       ...\n",
       "4995  0.625860   1.587941   5.952431   8.516822  4.894385  16.950123  2.558535\n",
       "4996  0.241723  -0.497071   1.695681   5.563204  7.454081  21.165266  4.867241\n",
       "4997  2.527720  -2.706339   0.984988   1.597447  3.692427  18.808892  5.598200\n",
       "4998  1.484585   1.468603   7.206672   8.486116  2.611856  21.528922  5.106188\n",
       "4999 -0.306881   1.783709   4.603075   8.550474  5.044690  23.063591  6.511988\n",
       "\n",
       "[5000 rows x 7 columns]"
      ]
     },
     "execution_count": 6,
     "metadata": {},
     "output_type": "execute_result"
    }
   ],
   "source": [
    "df_gaus = pd.read_csv(r\"C:\\Users\\User\\Documents\\GitHub\\ML_FYP\\dataset\\gaussian.dat\", sep=\"\\s+\")\n",
    "df_gaus"
   ]
  },
  {
   "cell_type": "code",
   "execution_count": 7,
   "id": "e2b8c82f",
   "metadata": {},
   "outputs": [],
   "source": [
    "#0th order chi2 test\n",
    "def PMCC(df, rho):\n",
    "    '''\n",
    "    0th order CI test\n",
    "    \n",
    "    Parameters:\n",
    "    df -> pandas dataframe\n",
    "    rho -> significance level, only accept 0 <= rho <= 1.0\n",
    "    '''\n",
    "    R_list = []\n",
    "    v = list(df)\n",
    "    my_list = list(itertools.combinations(v,2))\n",
    "    y_0, y_1 = [x[0] for x in my_list], [x[1] for x in my_list]\n",
    "    for i,j in zip(y_0, y_1):\n",
    "        R = pearsonr(X=i, Y=j, Z=[], data=df, significance_level=rho)\n",
    "        R_list.append((i,j,R))\n",
    "    true_0 = [x for x in R_list if True in x]\n",
    "    false_0 = [x for x in R_list if False in x]\n",
    "    return true_0, false_0"
   ]
  },
  {
   "cell_type": "markdown",
   "id": "b35f91ef",
   "metadata": {},
   "source": [
    "### Sorting Functions"
   ]
  },
  {
   "cell_type": "code",
   "execution_count": 8,
   "id": "a30070a5",
   "metadata": {},
   "outputs": [],
   "source": [
    "def create_permutations(my_list):\n",
    "    '''\n",
    "    takes in a list, remove extra permutations from the list and only creates a pair of permutations\n",
    "    '''\n",
    "    p_permutations = []\n",
    "    new_list = list(set(tuple(sorted(l[:2])) for l in my_list))\n",
    "    for items in new_list:\n",
    "        new_list_0 = list(itertools.permutations(items[:2],2))[1]\n",
    "        p_permutations.append(new_list_0)\n",
    "    return new_list + p_permutations"
   ]
  },
  {
   "cell_type": "code",
   "execution_count": 9,
   "id": "9b6bc093",
   "metadata": {},
   "outputs": [],
   "source": [
    "#given 2 lists, append them together and remove duplicates\n",
    "def remove_permutations(list_):\n",
    "    '''\n",
    "    returns a sorted list without permutation\n",
    "    '''\n",
    "    return sorted(list(set(tuple(sorted(l[:2])) for l in list_)))"
   ]
  },
  {
   "cell_type": "markdown",
   "id": "c1029a7f",
   "metadata": {},
   "source": [
    "### 1st order CI"
   ]
  },
  {
   "cell_type": "code",
   "execution_count": 10,
   "id": "1c23a629",
   "metadata": {},
   "outputs": [],
   "source": [
    "#1st order CI\n",
    "def cond_1_generate(df, rho):\n",
    "    v = list(df)\n",
    "    p_permutations = list(itertools.permutations(v,3))\n",
    "    order_0 = create_permutations(chi2bool(df, rho)[0])\n",
    "    generated = [x for x in p_permutations if x[:2] not in order_0]\n",
    "    generated_0 = set(tuple(sorted(items[:2])) for items in generated)\n",
    "    generate_return = [x for x in generated if x[:2] in generated_0]\n",
    "    return generate_return"
   ]
  },
  {
   "cell_type": "code",
   "execution_count": 11,
   "id": "82aa2021",
   "metadata": {},
   "outputs": [],
   "source": [
    "def cond_1_test(df, rho):\n",
    "    chi2_data = []\n",
    "    phi = cond_1_generate(df, rho)\n",
    "    for i,j,k in phi:\n",
    "        chi2 = chi_square(X=i, Y=j, Z=[k], data=df, significance_level=rho)\n",
    "        chi2_data.append((i,j,k,chi2))\n",
    "    true_list = [x for x in chi2_data if True in x]\n",
    "    false_list = [x for x in chi2_data if False in x]\n",
    "    return true_list, false_list"
   ]
  },
  {
   "cell_type": "markdown",
   "id": "629fc518",
   "metadata": {},
   "source": [
    "### CONDITIONAL MAIN CODE"
   ]
  },
  {
   "cell_type": "code",
   "execution_count": 12,
   "id": "c6874611",
   "metadata": {},
   "outputs": [],
   "source": [
    "def PC_(df, n, rho):\n",
    "    '''\n",
    "    Note:\n",
    "    This function will start from at least 0th order CI\n",
    "    \n",
    "    Parameters:\n",
    "    df (pandas dataframe)\n",
    "    n an integer, the stopping point of the while loop\n",
    "    rho (the significance level, only accepts values between 0 and 1 inclusive)\n",
    "    \n",
    "    Returns:\n",
    "    A list which contains every independent X and Y\n",
    "    '''\n",
    "    N = 3\n",
    "    v = list(df)\n",
    "    # remove_list = [x for x in p_permute]\n",
    "    remove_list = create_permutations([x[:2] for x in chi2bool(df, rho)[0]])\n",
    "    #x[:2] for 0th order and its permutations, so we can later remove it \n",
    "    empty_list = []\n",
    "    while N <= n:\n",
    "        list_permutations = [x for x in itertools.permutations(v, N) if x[:2] not in remove_list]\n",
    "        p_1, p_2, p_3 = [x[:1] for x in list_permutations], [x[1:2] for x in list_permutations], [x[2:] for x in list_permutations]\n",
    "        for i,j,k in zip(p_1, p_2, p_3):\n",
    "            chi2 = chi_square(X=i[0], Y=j[0], Z=k, data=df, significance_level=rho)\n",
    "            empty_list.append((i[0],j[0],k,chi2))\n",
    "        true_list = create_permutations([x[:2] for x in empty_list if True in x])\n",
    "        #create_permutations ensures only 1 set of permutations of (X,Y) and (Y,X) and removes dupes\n",
    "        remove_list = remove_list + create_permutations(true_list)\n",
    "        remove_list = create_permutations(remove_list)\n",
    "        N += 1\n",
    "        \n",
    "    return remove_permutations(remove_list) #returns 1 set of permutations\n",
    "\n",
    "#ON MEDIUM SIZED NETWORKS:\n",
    "#1st order CI takes 2minutes to run\n",
    "#2nd order CI 9-15minutes to run\n",
    "#nP5 takes ??? minutes to run\n",
    "#nP6 not doable"
   ]
  },
  {
   "cell_type": "markdown",
   "id": "b0875561",
   "metadata": {},
   "source": [
    "### graph"
   ]
  },
  {
   "cell_type": "code",
   "execution_count": 161,
   "id": "f7125b27",
   "metadata": {},
   "outputs": [],
   "source": [
    "def Graph(df):\n",
    "    G = nx.Graph()\n",
    "    v = list(df)\n",
    "    for i in v:\n",
    "        G.add_node(i)\n",
    "    k = list(itertools.combinations(v,2))\n",
    "    for i,j in k:\n",
    "        G.add_edge(i,j)\n",
    "#     print(G)\n",
    "    return(G)"
   ]
  },
  {
   "cell_type": "code",
   "execution_count": 180,
   "id": "fade73e2",
   "metadata": {},
   "outputs": [
    {
     "name": "stdout",
     "output_type": "stream",
     "text": [
      "Graph with 8 nodes and 28 edges\n"
     ]
    },
    {
     "data": {
      "image/png": "[encoded data removed]",
      "text/plain": [
       "<Figure size 640x480 with 1 Axes>"
      ]
     },
     "metadata": {},
     "output_type": "display_data"
    }
   ],
   "source": [
    "g = Graph(df_small)\n",
    "print(g)\n",
    "nx.draw(g, with_labels = True)"
   ]
  },
  {
   "cell_type": "code",
   "execution_count": 177,
   "id": "3a87df20",
   "metadata": {},
   "outputs": [],
   "source": [
    "def PC_0(df, rho, G):\n",
    "    '''\n",
    "    finds 0th order conditional independencies (CI) between each node, if True then remove an edge \n",
    "    '''\n",
    "    v = list(df)\n",
    "    for i in v:\n",
    "        G.add_node(i)\n",
    "    k = list(itertools.combinations(v,2))\n",
    "    for i,j in k:\n",
    "        G.add_edge(i,j)\n",
    "    ind_0 = [x[:2] for x in chi2bool(df, rho)[0]]\n",
    "    for i,j in ind_0:\n",
    "        G.remove_edge(i,j)\n",
    "#     print(G)\n",
    "    return(G)"
   ]
  },
  {
   "cell_type": "code",
   "execution_count": 183,
   "id": "d886f6f8",
   "metadata": {},
   "outputs": [
    {
     "name": "stdout",
     "output_type": "stream",
     "text": [
      "Graph with 8 nodes and 20 edges\n"
     ]
    },
    {
     "data": {
      "image/png": "[encoded data removed]",
      "text/plain": [
       "<Figure size 640x480 with 1 Axes>"
      ]
     },
     "metadata": {},
     "output_type": "display_data"
    }
   ],
   "source": [
    "g_0 = PC_0(df_small, 0.05, g)\n",
    "print(g_0)\n",
    "nx.draw(g_0, with_labels = True)"
   ]
  },
  {
   "cell_type": "code",
   "execution_count": 217,
   "id": "44105df5",
   "metadata": {},
   "outputs": [
    {
     "data": {
      "text/plain": [
       "[('One', 'Two'),\n",
       " ('One', 'Three'),\n",
       " ('One', 'Six'),\n",
       " ('One', 'Seven'),\n",
       " ('One', 'Eight'),\n",
       " ('Two', 'Three'),\n",
       " ('Two', 'Six'),\n",
       " ('Two', 'Seven'),\n",
       " ('Two', 'Eight'),\n",
       " ('Three', 'Five'),\n",
       " ('Three', 'Six'),\n",
       " ('Three', 'Seven'),\n",
       " ('Three', 'Eight'),\n",
       " ('Four', 'Five'),\n",
       " ('Five', 'Six'),\n",
       " ('Five', 'Seven'),\n",
       " ('Five', 'Eight'),\n",
       " ('Six', 'Seven'),\n",
       " ('Six', 'Eight'),\n",
       " ('Seven', 'Eight')]"
      ]
     },
     "execution_count": 217,
     "metadata": {},
     "output_type": "execute_result"
    }
   ],
   "source": [
    "false_list"
   ]
  },
  {
   "cell_type": "code",
   "execution_count": 231,
   "id": "26ba0e37",
   "metadata": {},
   "outputs": [],
   "source": [
    "def find_adjacency_XY(graph):    \n",
    "    test_list = []\n",
    "    graph_list = list(graph.edges)\n",
    "    for i,j in graph_list:\n",
    "        test_list.append((i, j, list(graph.edges(i)), list(graph.edges(j))))\n",
    "    n = 0\n",
    "    N = len(test_list)\n",
    "    edge_XY = []\n",
    "    while n < N:\n",
    "        ##\n",
    "        adjacent_X = []\n",
    "        adjacent_Y = []\n",
    "        X, Y = test_list[n][0], test_list[n][1]\n",
    "        k_X, k_Y = test_list[n][2], test_list[n][3]\n",
    "        edge_X = [x for x in k_X if x[1] != Y]\n",
    "        edge_Y = [x for x in k_Y if x[1] not in (y[1] for y in k_X) and x[1] != X]\n",
    "        for x in edge_X:\n",
    "            adjacent_X.append(x[1])\n",
    "        for y in edge_Y:\n",
    "            adjacent_Y.append(y[1])\n",
    "        adjacent_XY = adjacent_X + adjacent_Y\n",
    "        len_XY = len(adjacent_XY)\n",
    "        edge_XY.append((X, Y, adjacent_XY, len_XY))\n",
    "#         print(edge_XY)\n",
    "        n += 1\n",
    "    return edge_XY"
   ]
  },
  {
   "cell_type": "code",
   "execution_count": 230,
   "id": "b7618a3f",
   "metadata": {},
   "outputs": [
    {
     "name": "stdout",
     "output_type": "stream",
     "text": [
      "20\n"
     ]
    },
    {
     "data": {
      "text/plain": [
       "[('One', 'Two', ['Three', 'Six', 'Seven', 'Eight'], 4),\n",
       " ('One', 'Three', ['Two', 'Six', 'Seven', 'Eight', 'Five'], 5),\n",
       " ('One', 'Six', ['Two', 'Three', 'Seven', 'Eight', 'Five'], 5),\n",
       " ('One', 'Seven', ['Two', 'Three', 'Six', 'Eight', 'Five'], 5),\n",
       " ('One', 'Eight', ['Two', 'Three', 'Six', 'Seven', 'Five'], 5),\n",
       " ('Two', 'Three', ['One', 'Six', 'Seven', 'Eight', 'Five'], 5),\n",
       " ('Two', 'Six', ['One', 'Three', 'Seven', 'Eight', 'Five'], 5),\n",
       " ('Two', 'Seven', ['One', 'Three', 'Six', 'Eight', 'Five'], 5),\n",
       " ('Two', 'Eight', ['One', 'Three', 'Six', 'Seven', 'Five'], 5),\n",
       " ('Three', 'Five', ['One', 'Two', 'Six', 'Seven', 'Eight', 'Four'], 6),\n",
       " ('Three', 'Six', ['One', 'Two', 'Five', 'Seven', 'Eight'], 5),\n",
       " ('Three', 'Seven', ['One', 'Two', 'Five', 'Six', 'Eight'], 5),\n",
       " ('Three', 'Eight', ['One', 'Two', 'Five', 'Six', 'Seven'], 5),\n",
       " ('Four', 'Five', ['Three', 'Six', 'Seven', 'Eight'], 4),\n",
       " ('Five', 'Six', ['Three', 'Four', 'Seven', 'Eight', 'One', 'Two'], 6),\n",
       " ('Five', 'Seven', ['Three', 'Four', 'Six', 'Eight', 'One', 'Two'], 6),\n",
       " ('Five', 'Eight', ['Three', 'Four', 'Six', 'Seven', 'One', 'Two'], 6),\n",
       " ('Six', 'Seven', ['One', 'Two', 'Three', 'Five', 'Eight'], 5),\n",
       " ('Six', 'Eight', ['One', 'Two', 'Three', 'Five', 'Seven'], 5),\n",
       " ('Seven', 'Eight', ['One', 'Two', 'Three', 'Five', 'Six'], 5)]"
      ]
     },
     "execution_count": 230,
     "metadata": {},
     "output_type": "execute_result"
    }
   ],
   "source": [
    "find_adjacency_XY(g_0)"
   ]
  },
  {
   "cell_type": "code",
   "execution_count": 228,
   "id": "d0096a69",
   "metadata": {},
   "outputs": [
    {
     "data": {
      "text/plain": [
       "[('One', 'Two', ['Three', 'Six', 'Seven', 'Eight'], 4),\n",
       " ('One', 'Three', ['Two', 'Six', 'Seven', 'Eight', 'Five'], 5),\n",
       " ('One', 'Six', ['Two', 'Three', 'Seven', 'Eight', 'Five'], 5),\n",
       " ('One', 'Seven', ['Two', 'Three', 'Six', 'Eight', 'Five'], 5),\n",
       " ('One', 'Eight', ['Two', 'Three', 'Six', 'Seven', 'Five'], 5),\n",
       " ('Two', 'Three', ['One', 'Six', 'Seven', 'Eight', 'Five'], 5),\n",
       " ('Two', 'Six', ['One', 'Three', 'Seven', 'Eight', 'Five'], 5),\n",
       " ('Two', 'Seven', ['One', 'Three', 'Six', 'Eight', 'Five'], 5),\n",
       " ('Two', 'Eight', ['One', 'Three', 'Six', 'Seven', 'Five'], 5),\n",
       " ('Three', 'Five', ['One', 'Two', 'Six', 'Seven', 'Eight', 'Four'], 6),\n",
       " ('Three', 'Six', ['One', 'Two', 'Five', 'Seven', 'Eight'], 5),\n",
       " ('Three', 'Seven', ['One', 'Two', 'Five', 'Six', 'Eight'], 5),\n",
       " ('Three', 'Eight', ['One', 'Two', 'Five', 'Six', 'Seven'], 5),\n",
       " ('Four', 'Five', ['Three', 'Six', 'Seven', 'Eight'], 4),\n",
       " ('Five', 'Six', ['Three', 'Four', 'Seven', 'Eight', 'One', 'Two'], 6),\n",
       " ('Five', 'Seven', ['Three', 'Four', 'Six', 'Eight', 'One', 'Two'], 6),\n",
       " ('Five', 'Eight', ['Three', 'Four', 'Six', 'Seven', 'One', 'Two'], 6),\n",
       " ('Six', 'Seven', ['One', 'Two', 'Three', 'Five', 'Eight'], 5),\n",
       " ('Six', 'Eight', ['One', 'Two', 'Three', 'Five', 'Seven'], 5),\n",
       " ('Seven', 'Eight', ['One', 'Two', 'Three', 'Five', 'Six'], 5)]"
      ]
     },
     "execution_count": 228,
     "metadata": {},
     "output_type": "execute_result"
    }
   ],
   "source": [
    "test_list = []\n",
    "graph_list = list(g_0.edges)\n",
    "for i,j in graph_list:\n",
    "    test_list.append((i, j, list(g_0.edges(i)), list(g_0.edges(j))))\n",
    "n = 0\n",
    "N = len(test_list)\n",
    "# print(N)\n",
    "edge_XY = []\n",
    "while n < N:\n",
    "    ##\n",
    "    adjacent_X = []\n",
    "    adjacent_Y = []\n",
    "    X, Y = test_list[n][0], test_list[n][1]\n",
    "    k_X, k_Y = test_list[n][2], test_list[n][3]\n",
    "    edge_X = [x for x in k_X if x[1] != Y]\n",
    "    edge_Y = [x for x in k_Y if x[1] not in (y[1] for y in k_X) and x[1] != X]\n",
    "    for x in edge_X:\n",
    "        adjacent_X.append(x[1])\n",
    "    for y in edge_Y:\n",
    "        adjacent_Y.append(y[1])\n",
    "    adjacent_XY = adjacent_X + adjacent_Y\n",
    "    len_XY = len(adjacent_XY)\n",
    "    edge_XY.append((X, Y, adjacent_XY, len_XY))\n",
    "#         print(edge_XY)\n",
    "    n += 1\n",
    "edge_XY"
   ]
  },
  {
   "cell_type": "code",
   "execution_count": 221,
   "id": "ed48026e",
   "metadata": {},
   "outputs": [
    {
     "data": {
      "text/plain": [
       "[('One', 'Two'),\n",
       " ('One', 'Three'),\n",
       " ('One', 'Six'),\n",
       " ('One', 'Seven'),\n",
       " ('One', 'Eight'),\n",
       " ('Two', 'Three'),\n",
       " ('Two', 'Six'),\n",
       " ('Two', 'Seven'),\n",
       " ('Two', 'Eight'),\n",
       " ('Three', 'Five'),\n",
       " ('Three', 'Six'),\n",
       " ('Three', 'Seven'),\n",
       " ('Three', 'Eight'),\n",
       " ('Four', 'Five'),\n",
       " ('Five', 'Six'),\n",
       " ('Five', 'Seven'),\n",
       " ('Five', 'Eight'),\n",
       " ('Six', 'Seven'),\n",
       " ('Six', 'Eight'),\n",
       " ('Seven', 'Eight')]"
      ]
     },
     "execution_count": 221,
     "metadata": {},
     "output_type": "execute_result"
    }
   ],
   "source": [
    "list(g_0.edges)"
   ]
  },
  {
   "cell_type": "code",
   "execution_count": 219,
   "id": "881b7343",
   "metadata": {},
   "outputs": [
    {
     "name": "stdout",
     "output_type": "stream",
     "text": [
      "20\n"
     ]
    },
    {
     "data": {
      "text/plain": [
       "[('One', 'Two', ['Three', 'Six', 'Seven', 'Eight'], 4)]"
      ]
     },
     "execution_count": 219,
     "metadata": {},
     "output_type": "execute_result"
    }
   ],
   "source": [
    "find_adjacency_XY(g_0)"
   ]
  },
  {
   "cell_type": "code",
   "execution_count": 202,
   "id": "ea4c1426",
   "metadata": {},
   "outputs": [
    {
     "name": "stdout",
     "output_type": "stream",
     "text": [
      "[('One', 'Two', ['Three', 'Six', 'Seven', 'Eight'], 4)]\n",
      "[('One', 'Three', ['Two', 'Six', 'Seven', 'Eight', 'Five'], 5)]\n",
      "[('One', 'Six', ['Two', 'Three', 'Seven', 'Eight', 'Five'], 5)]\n",
      "[('One', 'Seven', ['Two', 'Three', 'Six', 'Eight', 'Five'], 5)]\n",
      "[('One', 'Eight', ['Two', 'Three', 'Six', 'Seven', 'Five'], 5)]\n",
      "[('Two', 'Three', ['One', 'Six', 'Seven', 'Eight', 'Five'], 5)]\n",
      "[('Two', 'Six', ['One', 'Three', 'Seven', 'Eight', 'Five'], 5)]\n",
      "[('Two', 'Seven', ['One', 'Three', 'Six', 'Eight', 'Five'], 5)]\n",
      "[('Two', 'Eight', ['One', 'Three', 'Six', 'Seven', 'Five'], 5)]\n",
      "[('Three', 'Five', ['One', 'Two', 'Six', 'Seven', 'Eight', 'Four'], 6)]\n",
      "[('Three', 'Six', ['One', 'Two', 'Five', 'Seven', 'Eight'], 5)]\n",
      "[('Three', 'Seven', ['One', 'Two', 'Five', 'Six', 'Eight'], 5)]\n",
      "[('Three', 'Eight', ['One', 'Two', 'Five', 'Six', 'Seven'], 5)]\n",
      "[('Four', 'Five', ['Three', 'Six', 'Seven', 'Eight'], 4)]\n",
      "[('Five', 'Six', ['Three', 'Four', 'Seven', 'Eight', 'One', 'Two'], 6)]\n",
      "[('Five', 'Seven', ['Three', 'Four', 'Six', 'Eight', 'One', 'Two'], 6)]\n",
      "[('Five', 'Eight', ['Three', 'Four', 'Six', 'Seven', 'One', 'Two'], 6)]\n",
      "[('Six', 'Seven', ['One', 'Two', 'Three', 'Five', 'Eight'], 5)]\n",
      "[('Six', 'Eight', ['One', 'Two', 'Three', 'Five', 'Seven'], 5)]\n",
      "[('Seven', 'Eight', ['One', 'Two', 'Three', 'Five', 'Six'], 5)]\n",
      "CPU times: total: 828 ms\n",
      "Wall time: 879 ms\n"
     ]
    }
   ],
   "source": [
    "%%time\n",
    "n = 0\n",
    "N = len(test_list)\n",
    "output = []\n",
    "edge_XY_test = []\n",
    "while n < N:\n",
    "    ##\n",
    "    adjacent_X = []\n",
    "    adjacent_Y = []\n",
    "    edge_XY = []\n",
    "    X, Y = test_list[n][0], test_list[n][1]\n",
    "    k_X, k_Y = test_list[n][2], test_list[n][3]\n",
    "    edge_X = [x for x in k_X if x[1] != Y]\n",
    "    edge_Y = [x for x in k_Y if x[1] not in (y[1] for y in k_X) and x[1] != X]\n",
    "    for x in edge_X:\n",
    "        adjacent_X.append(x[1])\n",
    "    for y in edge_Y:\n",
    "        adjacent_Y.append(y[1])\n",
    "    adjacent_XY = adjacent_X + adjacent_Y\n",
    "    len_XY = len(adjacent_XY)\n",
    "    edge_XY.append((X, Y, adjacent_XY, len_XY))\n",
    "    edge_XY_test.append((X, Y, adjacent_XY, len_XY))\n",
    "    print(edge_XY)\n",
    "    \n",
    "        ##\n",
    "    chi2_list = []\n",
    "    z = []\n",
    "    for i in edge_XY:\n",
    "        val = 2\n",
    "        value = i[3]\n",
    "        while val <= value:\n",
    "            ncn = list(itertools.combinations(i[2], val))\n",
    "            z.append(ncn)\n",
    "            val += 1\n",
    "    for i,j in zip(edge_XY, z):\n",
    "#         print(i[0], i[1], i[2], i[3])\n",
    "        n_z = 0\n",
    "        n_stop = i[3]\n",
    "        while n_z <=  n_stop:\n",
    "            chi2 = chi_square(X=i[0], Y=i[1], Z=j[n_z], data=df_small, significance_level=0.05)\n",
    "            if chi2 == True:\n",
    "                chi2_list.append((i[0], i[1], j[n_z], chi2))\n",
    "                break\n",
    "            n_z += 1\n",
    "    n += 1\n",
    "# output = [x for x in output if x != []]"
   ]
  },
  {
   "cell_type": "code",
   "execution_count": 203,
   "id": "d886462d",
   "metadata": {},
   "outputs": [
    {
     "data": {
      "text/plain": [
       "[('One', 'Two', ['Three', 'Six', 'Seven', 'Eight'], 4),\n",
       " ('One', 'Three', ['Two', 'Six', 'Seven', 'Eight', 'Five'], 5),\n",
       " ('One', 'Six', ['Two', 'Three', 'Seven', 'Eight', 'Five'], 5),\n",
       " ('One', 'Seven', ['Two', 'Three', 'Six', 'Eight', 'Five'], 5),\n",
       " ('One', 'Eight', ['Two', 'Three', 'Six', 'Seven', 'Five'], 5),\n",
       " ('Two', 'Three', ['One', 'Six', 'Seven', 'Eight', 'Five'], 5),\n",
       " ('Two', 'Six', ['One', 'Three', 'Seven', 'Eight', 'Five'], 5),\n",
       " ('Two', 'Seven', ['One', 'Three', 'Six', 'Eight', 'Five'], 5),\n",
       " ('Two', 'Eight', ['One', 'Three', 'Six', 'Seven', 'Five'], 5),\n",
       " ('Three', 'Five', ['One', 'Two', 'Six', 'Seven', 'Eight', 'Four'], 6),\n",
       " ('Three', 'Six', ['One', 'Two', 'Five', 'Seven', 'Eight'], 5),\n",
       " ('Three', 'Seven', ['One', 'Two', 'Five', 'Six', 'Eight'], 5),\n",
       " ('Three', 'Eight', ['One', 'Two', 'Five', 'Six', 'Seven'], 5),\n",
       " ('Four', 'Five', ['Three', 'Six', 'Seven', 'Eight'], 4),\n",
       " ('Five', 'Six', ['Three', 'Four', 'Seven', 'Eight', 'One', 'Two'], 6),\n",
       " ('Five', 'Seven', ['Three', 'Four', 'Six', 'Eight', 'One', 'Two'], 6),\n",
       " ('Five', 'Eight', ['Three', 'Four', 'Six', 'Seven', 'One', 'Two'], 6),\n",
       " ('Six', 'Seven', ['One', 'Two', 'Three', 'Five', 'Eight'], 5),\n",
       " ('Six', 'Eight', ['One', 'Two', 'Three', 'Five', 'Seven'], 5),\n",
       " ('Seven', 'Eight', ['One', 'Two', 'Three', 'Five', 'Six'], 5)]"
      ]
     },
     "execution_count": 203,
     "metadata": {},
     "output_type": "execute_result"
    }
   ],
   "source": [
    "edge_XY_test"
   ]
  },
  {
   "cell_type": "code",
   "execution_count": 119,
   "id": "3a650fbc",
   "metadata": {},
   "outputs": [
    {
     "name": "stdout",
     "output_type": "stream",
     "text": [
      "4\n",
      "6\n",
      "4\n",
      "1\n",
      "5\n",
      "10\n",
      "10\n",
      "5\n",
      "1\n",
      "5\n",
      "10\n",
      "10\n",
      "5\n",
      "1\n",
      "5\n",
      "10\n",
      "10\n",
      "5\n",
      "1\n",
      "5\n",
      "10\n",
      "10\n",
      "5\n",
      "1\n",
      "5\n",
      "10\n",
      "10\n",
      "5\n",
      "1\n",
      "5\n",
      "10\n",
      "10\n",
      "5\n",
      "1\n",
      "5\n",
      "10\n",
      "10\n",
      "5\n",
      "1\n",
      "5\n",
      "10\n",
      "10\n",
      "5\n",
      "1\n",
      "6\n",
      "15\n",
      "20\n",
      "15\n",
      "6\n",
      "1\n",
      "5\n",
      "10\n",
      "10\n",
      "5\n",
      "1\n",
      "5\n",
      "10\n",
      "10\n",
      "5\n",
      "1\n",
      "5\n",
      "10\n",
      "10\n",
      "5\n",
      "1\n",
      "4\n",
      "6\n",
      "4\n",
      "1\n",
      "6\n",
      "15\n",
      "20\n",
      "15\n",
      "6\n",
      "1\n",
      "6\n",
      "15\n",
      "20\n",
      "15\n",
      "6\n",
      "1\n",
      "6\n",
      "15\n",
      "20\n",
      "15\n",
      "6\n",
      "1\n",
      "5\n",
      "10\n",
      "10\n",
      "5\n",
      "1\n",
      "5\n",
      "10\n",
      "10\n",
      "5\n",
      "1\n",
      "5\n",
      "10\n",
      "10\n",
      "5\n",
      "1\n"
     ]
    }
   ],
   "source": [
    "n, N = 0, len(test_list)\n",
    "k = edge_XY_test\n",
    "while n < N:\n",
    "    p = (k[n][0], k[n][1], k[n][2])\n",
    "    val = 1\n",
    "    value = k[n][3]\n",
    "    while val <= value:\n",
    "        combinations = list(itertools.combinations(k[n][2], val))\n",
    "        t = 0\n",
    "        T = len(combinations)\n",
    "        print(T)\n",
    "#         print(t,T)\n",
    "        while t < T:\n",
    "#             chi2 = chi_square(X=k[val][0], Y=k[val][1], Z=combinations[t], data=df_small, significance_level=0.05)\n",
    "#             print(chi2)\n",
    "#             print(k[t][0], k[t][1])\n",
    "#             print(combinations)\n",
    "#             print(combinations[t])\n",
    "#             print(combinations)\n",
    "            t += 1\n",
    "#             print(k[n][0], k[n][1])\n",
    "#             print(combinations)\n",
    "#             print(len(combinations))\n",
    "#             print(combinations[n])\n",
    "#             print('break')\n",
    "#         chi2 = chi_square(X=k[n][0], k[n][1], Z=combinations[n])\n",
    "        val += 1\n",
    "    n += 1\n"
   ]
  },
  {
   "cell_type": "code",
   "execution_count": null,
   "id": "2e927dad",
   "metadata": {},
   "outputs": [],
   "source": [
    "z_0 = []\n",
    "for s,t,u,v in edge_XY:\n",
    "    z = list(itertools.combinations(u,2))\n",
    "    z_0.append(z)\n",
    "#     c2 = chi_square(X=s, Y=t, Z=list(itertools.combinations(u,2)), data=df_small, significance_level=0.05)"
   ]
  },
  {
   "cell_type": "code",
   "execution_count": null,
   "id": "b6124eb6",
   "metadata": {},
   "outputs": [],
   "source": [
    "edge_XY"
   ]
  },
  {
   "cell_type": "markdown",
   "id": "f0297355",
   "metadata": {},
   "source": [
    "### small network"
   ]
  },
  {
   "cell_type": "code",
   "execution_count": 63,
   "id": "43f89415",
   "metadata": {},
   "outputs": [
    {
     "name": "stdout",
     "output_type": "stream",
     "text": [
      "Set parameter Username\n",
      "Academic license - for non-commercial use only - expires 2024-01-21\n",
      "Set parameter PreCrush to value 1\n",
      "Set parameter CutPasses to value 100000\n",
      "Set parameter GomoryPasses to value 100000\n",
      "Set parameter MIPFocus to value 2\n",
      "Set parameter ZeroHalfCuts to value 2\n",
      "Set parameter MIPGap to value 0\n",
      "Set parameter MIPGapAbs to value 0\n",
      "**********\n",
      "BN has score -22466.396546491495\n",
      "**********\n",
      "Eight<-Six,Three -4150.291729106073\n",
      "Six<-Five,Two -5.611578690688475\n",
      "Three<- -6901.1493808303785\n",
      "Five<-Four -633.8404777927353\n",
      "Four<- -527.7536882896093\n",
      "One<-Three -6460.081285708176\n",
      "Seven<-Six -1881.452188461728\n",
      "Two<-One -1906.2162176121055\n",
      "**********\n",
      "bnlearn modelstring = \n",
      "[Eight|Six:Three][Six|Two:Five][Three][Five|Four][Four][One|Three][Seven|Six][Two|One]\n",
      "**********\n",
      "CPDAG:\n",
      "Vertices: Eight,Six,Three,Five,Four,One,Seven,Two\n",
      "Six->Eight\n",
      "Six->Seven\n",
      "Three->Eight\n",
      "Three-One\n",
      "Five->Six\n",
      "Four-Five\n",
      "One-Two\n",
      "Two->Six\n",
      "\n"
     ]
    },
    {
     "data": {
      "image/png": "[encoded data removed]",
      "text/plain": [
       "<Figure size 640x480 with 1 Axes>"
      ]
     },
     "metadata": {},
     "output_type": "display_data"
    }
   ],
   "source": [
    "m = Gobnilp()\n",
    "m.learn(r'C:\\Users\\User\\Documents\\GitHub\\ML_FYP\\dataset\\asia_10000.dat')"
   ]
  },
  {
   "cell_type": "code",
   "execution_count": null,
   "id": "cec080c5",
   "metadata": {},
   "outputs": [],
   "source": []
  }
 ],
 "metadata": {
  "kernelspec": {
   "display_name": "Python 3 (ipykernel)",
   "language": "python",
   "name": "python3"
  },
  "language_info": {
   "codemirror_mode": {
    "name": "ipython",
    "version": 3
   },
   "file_extension": ".py",
   "mimetype": "text/x-python",
   "name": "python",
   "nbconvert_exporter": "python",
   "pygments_lexer": "ipython3",
   "version": "3.8.8"
  }
 },
 "nbformat": 4,
 "nbformat_minor": 5
}
