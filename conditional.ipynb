{
 "cells": [
  {
   "cell_type": "code",
   "execution_count": null,
   "id": "bbbb924b",
   "metadata": {},
   "outputs": [],
   "source": [
    "import pandas as pd\n",
    "# from tabulate import tabulate\n",
    "import numpy as np\n",
    "from pygobnilp.gobnilp import Gobnilp\n",
    "# import bnlearn as bn\n",
    "import pgmpy\n",
    "import itertools\n",
    "from scipy.stats import chi2_contingency #check for independence between 2 variables\n",
    "from scipy.stats import power_divergence\n",
    "from pgmpy.estimators.CITests import log_likelihood\n",
    "from pgmpy.estimators.CITests import chi_square\n",
    "# from pgmpy.factors.continuous.discretize import BaseDiscretizer"
   ]
  },
  {
   "cell_type": "code",
   "execution_count": null,
   "id": "7f25afa9",
   "metadata": {},
   "outputs": [],
   "source": [
    "def csv_format_discrete(csv_file):\n",
    "    df = pd.read_csv(csv_file, sep=\"\\s+\")\n",
    "    return df.drop([0])\n",
    "\n",
    "#returns the csv_file in a pandas dataframe, formatted properly, discrete dataset only"
   ]
  },
  {
   "cell_type": "code",
   "execution_count": null,
   "id": "0d13a4c9",
   "metadata": {},
   "outputs": [],
   "source": [
    "df = csv_format_discrete(r\"C:\\Users\\User\\Documents\\GitHub\\ML_FYP\\dataset\\discrete.dat\")\n",
    "df\n",
    "df_test = csv_format_discrete(r\"C:\\Users\\User\\Documents\\GitHub\\ML_FYP\\dataset\\alarm_10000.dat\")\n",
    "df_test"
   ]
  },
  {
   "cell_type": "markdown",
   "id": "68a3df7c",
   "metadata": {},
   "source": [
    "### chi-squared test"
   ]
  },
  {
   "cell_type": "code",
   "execution_count": null,
   "id": "8c08e4eb",
   "metadata": {},
   "outputs": [],
   "source": [
    "#0th order chi2 test\n",
    "def chi2bool(df):\n",
    "#returns a tuple(chi2, p_value, dof) if boolean = false\n",
    "#the null hypothesis is that they are independent of each other\n",
    "#if true, the p_value is higher than the significance test, we do not reject the null hypothesis\n",
    "#if false, the p_value is lower than the significance test, we reject the null hypothesis\n",
    "    v = list(df)\n",
    "    empty = []\n",
    "    empty_1 = []\n",
    "    empty_2 = []\n",
    "    empty_3 = []\n",
    "    empty_4 = []\n",
    "    itertools_combinations = list(itertools.combinations(v, 2)) #finds every possible combination of list(df)\n",
    "    for i in itertools_combinations:\n",
    "        empty_1.append(i[0])\n",
    "        empty_2.append(i[1])\n",
    "        \n",
    "    total_number_of_combinations = len(empty_1)\n",
    "    \n",
    "    for t in range(len(itertools_combinations)):\n",
    "        empty.append(itertools_combinations[t])\n",
    "        \n",
    "    for value in range(len(empty_1)):\n",
    "        empty_3.append(value)\n",
    "        \n",
    "    for x,y,i,j in zip(empty_1, empty_2, empty, empty_3):\n",
    "        chisquare = chi_square(X=x, Y=y, Z=[], data=df, significance_level=0.05, boolean=True) #returns chi, p_value, dof\n",
    "        empty_4.append([j, i , chisquare])\n",
    "        \n",
    "    return empty_4"
   ]
  },
  {
   "cell_type": "code",
   "execution_count": null,
   "id": "341d0353",
   "metadata": {},
   "outputs": [],
   "source": [
    "def chi2val(df):\n",
    "#returns a tuple(chi2, p_value, dof) if boolean = false\n",
    "#the null hypothesis is that they are independent of each other\n",
    "#if true, the p_value is higher than the significance test, we do not reject the null hypothesis\n",
    "#if false, the p_value is lower than the significance test, we reject the null hypothesis\n",
    "    v = list(df)\n",
    "    empty = []\n",
    "    empty_1 = []\n",
    "    empty_2 = []\n",
    "    empty_3 = []\n",
    "    empty_4 = []\n",
    "    itertools_combinations = list(itertools.combinations(v, 2)) #finds every possible combination of list(df)\n",
    "    for i in itertools_combinations:\n",
    "        empty_1.append(i[0])\n",
    "        empty_2.append(i[1])\n",
    "        \n",
    "    total_number_of_combinations = len(empty_1)\n",
    "    \n",
    "    for t in range(len(itertools_combinations)):\n",
    "        empty.append(itertools_combinations[t])\n",
    "        \n",
    "    for value in range(len(empty_1)):\n",
    "        empty_3.append(value)\n",
    "        \n",
    "    for x,y,i,j in zip(empty_1, empty_2, empty, empty_3):\n",
    "        chisquare = chi_square(X=x, Y=y, Z=[], data=df, significance_level=0.05, boolean=False) #returns chi, p_value, dof\n",
    "        empty_4.append([j, i , chisquare])\n",
    "        \n",
    "    return empty_4\n"
   ]
  },
  {
   "cell_type": "markdown",
   "id": "6f8c06d0",
   "metadata": {},
   "source": [
    "### log-likelihood tests"
   ]
  },
  {
   "cell_type": "code",
   "execution_count": null,
   "id": "84bb6fb8",
   "metadata": {},
   "outputs": [],
   "source": [
    "def g2val(df):\n",
    "#returns a tuple(chi2, p_value, dof) if boolean = false\n",
    "#the null hypothesis is that they are independent of each other\n",
    "#if true, the p_value is higher than the significance test, we do not reject the null hypothesis\n",
    "#if false, the p_value is lower than the significance test, we reject the null hypothesis\n",
    "    v = list(df)\n",
    "    empty = []\n",
    "    empty_1 = []\n",
    "    empty_2 = []\n",
    "    empty_3 = []\n",
    "    empty_4 = []\n",
    "    itertools_combinations = list(itertools.combinations(v, 2)) #finds every possible combination of list(df)\n",
    "    for i in itertools_combinations:\n",
    "        empty_1.append(i[0])\n",
    "        empty_2.append(i[1])\n",
    "        \n",
    "    total_number_of_combinations = len(empty_1)\n",
    "    \n",
    "    for t in range(len(itertools_combinations)):\n",
    "        empty.append(itertools_combinations[t])\n",
    "        \n",
    "    for value in range(len(empty_1)):\n",
    "        empty_3.append(value)\n",
    "        \n",
    "    for x,y,i,j in zip(empty_1, empty_2, empty, empty_3):\n",
    "        g2 = log_likelihood(X=x, Y=y, Z=[], significance_level=0.05, boolean=True, data=df) \n",
    "        empty_4.append([j, i , g2])\n",
    "        \n",
    "    return empty_4"
   ]
  },
  {
   "cell_type": "markdown",
   "id": "b35f91ef",
   "metadata": {},
   "source": [
    "### Sorting Functions"
   ]
  },
  {
   "cell_type": "code",
   "execution_count": null,
   "id": "6a876f12",
   "metadata": {},
   "outputs": [],
   "source": [
    "def sortReturn(data):\n",
    "    #just a sorting function\n",
    "    true_list = []\n",
    "    false_list = []\n",
    "    for i in data:\n",
    "        if True in i:\n",
    "            true_list.append(i)\n",
    "        if False in i:\n",
    "            false_list.append(i)\n",
    "    return true_list, false_list"
   ]
  },
  {
   "cell_type": "code",
   "execution_count": null,
   "id": "8983b37c",
   "metadata": {},
   "outputs": [],
   "source": [
    "#returns a list with a tuple of combinations of false\n",
    "def false2tuple(data):\n",
    "    empty = []\n",
    "    false_list_of_tuples = []\n",
    "    new_df = pd.DataFrame(data)\n",
    "    newer_df = new_df[1]\n",
    "    return newer_df"
   ]
  },
  {
   "cell_type": "code",
   "execution_count": null,
   "id": "9b6bc093",
   "metadata": {},
   "outputs": [],
   "source": [
    "#given 2 lists, append them together and remove duplicates\n",
    "def remove_dupes(list_1, list_2):\n",
    "    for i in list_2:\n",
    "        list_1.append(i)\n",
    "    remove_dupes = list(set(list_1))\n",
    "    return remove_dupes"
   ]
  },
  {
   "cell_type": "markdown",
   "id": "c1029a7f",
   "metadata": {},
   "source": [
    "### CONDITIONAL MAIN CODE"
   ]
  },
  {
   "cell_type": "code",
   "execution_count": null,
   "id": "df2488a4",
   "metadata": {},
   "outputs": [],
   "source": [
    "#returns TRUE/FALSE Xs and Ys in a tuple of (X,Y)\n",
    "def conditional_sort(df):\n",
    "    output_false = []\n",
    "    output_true = []\n",
    "    my_list = [x for x in chi2bool(df) if False in x]\n",
    "    my_list_2 = [x for x in chi2bool(df) if True in x]\n",
    "    for i,j in zip(my_list, my_list_2):\n",
    "        output_true.append(j[1])\n",
    "        output_false.append(i[1])\n",
    "    return output_true, output_false"
   ]
  },
  {
   "cell_type": "code",
   "execution_count": null,
   "id": "e3f221bd",
   "metadata": {},
   "outputs": [],
   "source": [
    "#returns permutations of x,y,z where x,y does not repeat e.g (a,b,c), (b,a,c)\n",
    "def conditional_permute(df):\n",
    "    a = conditional_sort(df)[1] #obtains the list of false outputs, false output means dependent\n",
    "    k = list(itertools.permutations(df,3))\n",
    "    permute_list = []\n",
    "    for i in a:\n",
    "        permute = list(itertools.permutations(i))\n",
    "        permute_list.append(permute[1]) #returns a list of permuted items from a\n",
    "    for items in permute_list:\n",
    "        a.append(items) #adds all possible permutations to a \n",
    "    my_list = [x for x in k if all(x[:2] != y[:2] for y in a)] #checks if all elements in x[:2] != y[:2]\n",
    "    my_list_2 = [x[:2] for x in my_list]\n",
    "    a0 = list(tuple(sorted(l)) for l in my_list_2)\n",
    "    output = [x for x in my_list if x[:2] in a0] #the three lines fixes all the permutations \n",
    "    return output"
   ]
  },
  {
   "cell_type": "code",
   "execution_count": null,
   "id": "3aec49d5",
   "metadata": {},
   "outputs": [],
   "source": [
    "def conditional_1st_order(df):\n",
    "    b0 = conditional_permute(df)\n",
    "    b_100 = []\n",
    "    for i,j,k in b0:\n",
    "        chi2 = chi_square(X=i, Y=j, Z=[k], data=df_test, significance_level=0.05)\n",
    "        b_100.append((i,j,k, chi2))\n",
    "    b_100_true = [x for x in b_100 if True in x]\n",
    "    b_100_false = [x for x in b_100 if False in x]\n",
    "    return b_100_true, b_100_false"
   ]
  },
  {
   "cell_type": "code",
   "execution_count": null,
   "id": "32a90ed1",
   "metadata": {},
   "outputs": [],
   "source": [
    "def PC_algorithm(n, df):\n",
    "    "
   ]
  },
  {
   "cell_type": "code",
   "execution_count": null,
   "id": "66cb58d6",
   "metadata": {},
   "outputs": [],
   "source": [
    "cond_0 = chi2bool(df_test)\n",
    "true_list_0 = []\n",
    "for i in cond_0:\n",
    "    if True in i:\n",
    "        true_list_0.append(i[1])\n",
    "true_list_0"
   ]
  },
  {
   "cell_type": "code",
   "execution_count": null,
   "id": "09c812e8",
   "metadata": {},
   "outputs": [],
   "source": [
    "cond_1 = conditional_1st_order(df_test)"
   ]
  },
  {
   "cell_type": "code",
   "execution_count": null,
   "id": "e0092f1e",
   "metadata": {},
   "outputs": [],
   "source": [
    "true_list_1 = [x[:2] for x in cond_1[0]]\n",
    "true_list = true_list_0 + true_list_1\n",
    "len(true_list), len(true_list_0), len(true_list_1)"
   ]
  },
  {
   "cell_type": "code",
   "execution_count": null,
   "id": "c4b384f5",
   "metadata": {},
   "outputs": [],
   "source": [
    "chi2_ind = list(set(true_list))"
   ]
  },
  {
   "cell_type": "code",
   "execution_count": null,
   "id": "5745840c",
   "metadata": {},
   "outputs": [],
   "source": [
    "N = 3\n",
    "n = 6\n",
    "while N < n:\n",
    "    print(3)\n",
    "    \n",
    "    N = n + 1"
   ]
  },
  {
   "cell_type": "code",
   "execution_count": null,
   "id": "b1910ffe",
   "metadata": {},
   "outputs": [],
   "source": [
    "1+1 + 1 + 12 / 2\n",
    "%%time"
   ]
  },
  {
   "cell_type": "code",
   "execution_count": null,
   "id": "37764cdf",
   "metadata": {},
   "outputs": [],
   "source": []
  },
  {
   "cell_type": "code",
   "execution_count": null,
   "id": "c137575c",
   "metadata": {},
   "outputs": [],
   "source": []
  },
  {
   "cell_type": "markdown",
   "id": "da37b433",
   "metadata": {},
   "source": [
    "### Dead functions which i may or may not remove"
   ]
  },
  {
   "cell_type": "code",
   "execution_count": null,
   "id": "2b4a6b87",
   "metadata": {},
   "outputs": [],
   "source": [
    "#returns combinations of Zs\n",
    "def conditional_combine_1(df):\n",
    "    first_empty = []\n",
    "    second_empty = []\n",
    "    my_list = conditional_sort_2(df)\n",
    "    for i in my_list:\n",
    "        first_empty.append(i[0])\n",
    "        second_empty.append(i[1])\n",
    "    list_df = list(df)\n",
    "    v = list(itertools.combinations(list_df, 2))\n",
    "    for i,j,k in zip(first_empty, second_empty, v):\n",
    "        chi_square(X=i, Y=j, Z=k, data=df)\n",
    "    return chi_square"
   ]
  },
  {
   "cell_type": "code",
   "execution_count": null,
   "id": "2f2b374a",
   "metadata": {},
   "outputs": [],
   "source": []
  }
 ],
 "metadata": {
  "kernelspec": {
   "display_name": "Python 3 (ipykernel)",
   "language": "python",
   "name": "python3"
  },
  "language_info": {
   "codemirror_mode": {
    "name": "ipython",
    "version": 3
   },
   "file_extension": ".py",
   "mimetype": "text/x-python",
   "name": "python",
   "nbconvert_exporter": "python",
   "pygments_lexer": "ipython3",
   "version": "3.8.8"
  }
 },
 "nbformat": 4,
 "nbformat_minor": 5
}
