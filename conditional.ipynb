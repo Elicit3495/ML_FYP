{
 "cells": [
  {
   "cell_type": "code",
   "execution_count": 1,
   "id": "bbbb924b",
   "metadata": {},
   "outputs": [],
   "source": [
    "import pandas as pd\n",
    "import numpy as np\n",
    "from pygobnilp.gobnilp import Gobnilp\n",
    "import pgmpy\n",
    "import itertools\n",
    "from pgmpy.estimators.CITests import pearsonr\n",
    "from pgmpy.estimators.CITests import chi_square\n",
    "import networkx as nx\n",
    "import time\n",
    "import collections"
   ]
  },
  {
   "cell_type": "code",
   "execution_count": 2,
   "id": "7f25afa9",
   "metadata": {},
   "outputs": [],
   "source": [
    "def csv_format_discrete(csv_file):\n",
    "    df = pd.read_csv(csv_file, sep=\"\\s+\")\n",
    "    return df.drop([0])\n",
    "\n",
    "#returns the csv_file in a pandas dataframe, formatted properly, discrete dataset only"
   ]
  },
  {
   "cell_type": "code",
   "execution_count": 3,
   "id": "0d13a4c9",
   "metadata": {},
   "outputs": [],
   "source": [
    "#small network : n <= 20 nodes, medium network: 20 <= n <= 50 , large: 50 <= n <= 100, ... \n",
    "df_small = csv_format_discrete(r\"C:\\Users\\User\\Documents\\GitHub\\ML_FYP\\dataset\\asia_10000.dat\")\n",
    "df_medium = csv_format_discrete(r\"C:\\Users\\User\\Documents\\GitHub\\ML_FYP\\dataset\\alarm_10000.dat\")\n",
    "# df_large = csv_format_discrete(r\"\")"
   ]
  },
  {
   "cell_type": "markdown",
   "id": "68a3df7c",
   "metadata": {},
   "source": [
    "### chi-squared test"
   ]
  },
  {
   "cell_type": "code",
   "execution_count": 4,
   "id": "b8a2f906",
   "metadata": {},
   "outputs": [
    {
     "data": {
      "text/html": [
       "<div>\n",
       "<style scoped>\n",
       "    .dataframe tbody tr th:only-of-type {\n",
       "        vertical-align: middle;\n",
       "    }\n",
       "\n",
       "    .dataframe tbody tr th {\n",
       "        vertical-align: top;\n",
       "    }\n",
       "\n",
       "    .dataframe thead th {\n",
       "        text-align: right;\n",
       "    }\n",
       "</style>\n",
       "<table border=\"1\" class=\"dataframe\">\n",
       "  <thead>\n",
       "    <tr style=\"text-align: right;\">\n",
       "      <th></th>\n",
       "      <th>One</th>\n",
       "      <th>Two</th>\n",
       "      <th>Three</th>\n",
       "      <th>Four</th>\n",
       "      <th>Five</th>\n",
       "      <th>Six</th>\n",
       "      <th>Seven</th>\n",
       "      <th>Eight</th>\n",
       "    </tr>\n",
       "  </thead>\n",
       "  <tbody>\n",
       "    <tr>\n",
       "      <th>1</th>\n",
       "      <td>1</td>\n",
       "      <td>1</td>\n",
       "      <td>0</td>\n",
       "      <td>0</td>\n",
       "      <td>0</td>\n",
       "      <td>1</td>\n",
       "      <td>0</td>\n",
       "      <td>1</td>\n",
       "    </tr>\n",
       "    <tr>\n",
       "      <th>2</th>\n",
       "      <td>1</td>\n",
       "      <td>0</td>\n",
       "      <td>0</td>\n",
       "      <td>0</td>\n",
       "      <td>0</td>\n",
       "      <td>0</td>\n",
       "      <td>1</td>\n",
       "      <td>0</td>\n",
       "    </tr>\n",
       "    <tr>\n",
       "      <th>3</th>\n",
       "      <td>0</td>\n",
       "      <td>0</td>\n",
       "      <td>1</td>\n",
       "      <td>0</td>\n",
       "      <td>0</td>\n",
       "      <td>0</td>\n",
       "      <td>1</td>\n",
       "      <td>0</td>\n",
       "    </tr>\n",
       "    <tr>\n",
       "      <th>4</th>\n",
       "      <td>1</td>\n",
       "      <td>0</td>\n",
       "      <td>1</td>\n",
       "      <td>0</td>\n",
       "      <td>0</td>\n",
       "      <td>0</td>\n",
       "      <td>1</td>\n",
       "      <td>0</td>\n",
       "    </tr>\n",
       "    <tr>\n",
       "      <th>5</th>\n",
       "      <td>1</td>\n",
       "      <td>0</td>\n",
       "      <td>1</td>\n",
       "      <td>0</td>\n",
       "      <td>0</td>\n",
       "      <td>0</td>\n",
       "      <td>0</td>\n",
       "      <td>1</td>\n",
       "    </tr>\n",
       "    <tr>\n",
       "      <th>...</th>\n",
       "      <td>...</td>\n",
       "      <td>...</td>\n",
       "      <td>...</td>\n",
       "      <td>...</td>\n",
       "      <td>...</td>\n",
       "      <td>...</td>\n",
       "      <td>...</td>\n",
       "      <td>...</td>\n",
       "    </tr>\n",
       "    <tr>\n",
       "      <th>9996</th>\n",
       "      <td>0</td>\n",
       "      <td>0</td>\n",
       "      <td>1</td>\n",
       "      <td>0</td>\n",
       "      <td>0</td>\n",
       "      <td>0</td>\n",
       "      <td>0</td>\n",
       "      <td>0</td>\n",
       "    </tr>\n",
       "    <tr>\n",
       "      <th>9997</th>\n",
       "      <td>1</td>\n",
       "      <td>0</td>\n",
       "      <td>1</td>\n",
       "      <td>0</td>\n",
       "      <td>0</td>\n",
       "      <td>0</td>\n",
       "      <td>1</td>\n",
       "      <td>1</td>\n",
       "    </tr>\n",
       "    <tr>\n",
       "      <th>9998</th>\n",
       "      <td>0</td>\n",
       "      <td>0</td>\n",
       "      <td>0</td>\n",
       "      <td>0</td>\n",
       "      <td>0</td>\n",
       "      <td>0</td>\n",
       "      <td>1</td>\n",
       "      <td>0</td>\n",
       "    </tr>\n",
       "    <tr>\n",
       "      <th>9999</th>\n",
       "      <td>1</td>\n",
       "      <td>0</td>\n",
       "      <td>0</td>\n",
       "      <td>0</td>\n",
       "      <td>0</td>\n",
       "      <td>0</td>\n",
       "      <td>1</td>\n",
       "      <td>0</td>\n",
       "    </tr>\n",
       "    <tr>\n",
       "      <th>10000</th>\n",
       "      <td>1</td>\n",
       "      <td>0</td>\n",
       "      <td>1</td>\n",
       "      <td>0</td>\n",
       "      <td>0</td>\n",
       "      <td>0</td>\n",
       "      <td>1</td>\n",
       "      <td>0</td>\n",
       "    </tr>\n",
       "  </tbody>\n",
       "</table>\n",
       "<p>10000 rows × 8 columns</p>\n",
       "</div>"
      ],
      "text/plain": [
       "       One  Two  Three  Four  Five  Six  Seven  Eight\n",
       "1        1    1      0     0     0    1      0      1\n",
       "2        1    0      0     0     0    0      1      0\n",
       "3        0    0      1     0     0    0      1      0\n",
       "4        1    0      1     0     0    0      1      0\n",
       "5        1    0      1     0     0    0      0      1\n",
       "...    ...  ...    ...   ...   ...  ...    ...    ...\n",
       "9996     0    0      1     0     0    0      0      0\n",
       "9997     1    0      1     0     0    0      1      1\n",
       "9998     0    0      0     0     0    0      1      0\n",
       "9999     1    0      0     0     0    0      1      0\n",
       "10000    1    0      1     0     0    0      1      0\n",
       "\n",
       "[10000 rows x 8 columns]"
      ]
     },
     "execution_count": 4,
     "metadata": {},
     "output_type": "execute_result"
    }
   ],
   "source": [
    "df_small"
   ]
  },
  {
   "cell_type": "code",
   "execution_count": 5,
   "id": "8c08e4eb",
   "metadata": {},
   "outputs": [],
   "source": [
    "#0th order chi2 test\n",
    "def chi2bool(df, rho):\n",
    "    '''\n",
    "    0th order CI test\n",
    "    \n",
    "    Parameters:\n",
    "    df -> pandas dataframe\n",
    "    rho -> significance level, only accept 0 <= rho <= 1.0\n",
    "    '''\n",
    "    chi2 = []\n",
    "    v = list(df)\n",
    "    my_list = list(itertools.combinations(v,2))\n",
    "    y_0, y_1 = [x[0] for x in my_list], [x[1] for x in my_list]\n",
    "    for i,j in zip(y_0, y_1):\n",
    "        chi = chi_square(X=i, Y=j, Z=[], data=df, significance_level=rho)\n",
    "        chi2.append((i,j,chi))\n",
    "    true_0 = [x for x in chi2 if True in x]\n",
    "    false_0 = [x for x in chi2 if False in x]\n",
    "    return true_0, false_0"
   ]
  },
  {
   "cell_type": "markdown",
   "id": "7078434f",
   "metadata": {},
   "source": [
    "### Pearson's Product Moment Correlation Coefficient"
   ]
  },
  {
   "cell_type": "code",
   "execution_count": 6,
   "id": "6d641eaa",
   "metadata": {},
   "outputs": [
    {
     "data": {
      "text/html": [
       "<div>\n",
       "<style scoped>\n",
       "    .dataframe tbody tr th:only-of-type {\n",
       "        vertical-align: middle;\n",
       "    }\n",
       "\n",
       "    .dataframe tbody tr th {\n",
       "        vertical-align: top;\n",
       "    }\n",
       "\n",
       "    .dataframe thead th {\n",
       "        text-align: right;\n",
       "    }\n",
       "</style>\n",
       "<table border=\"1\" class=\"dataframe\">\n",
       "  <thead>\n",
       "    <tr style=\"text-align: right;\">\n",
       "      <th></th>\n",
       "      <th>A</th>\n",
       "      <th>B</th>\n",
       "      <th>C</th>\n",
       "      <th>D</th>\n",
       "      <th>E</th>\n",
       "      <th>F</th>\n",
       "      <th>G</th>\n",
       "    </tr>\n",
       "  </thead>\n",
       "  <tbody>\n",
       "    <tr>\n",
       "      <th>0</th>\n",
       "      <td>1.113083</td>\n",
       "      <td>1.932164</td>\n",
       "      <td>7.074806</td>\n",
       "      <td>8.660411</td>\n",
       "      <td>0.881591</td>\n",
       "      <td>24.719501</td>\n",
       "      <td>9.216382</td>\n",
       "    </tr>\n",
       "    <tr>\n",
       "      <th>1</th>\n",
       "      <td>-0.247948</td>\n",
       "      <td>11.334343</td>\n",
       "      <td>24.347372</td>\n",
       "      <td>23.355432</td>\n",
       "      <td>7.040113</td>\n",
       "      <td>36.812996</td>\n",
       "      <td>3.678833</td>\n",
       "    </tr>\n",
       "    <tr>\n",
       "      <th>2</th>\n",
       "      <td>1.854508</td>\n",
       "      <td>3.032020</td>\n",
       "      <td>11.086473</td>\n",
       "      <td>11.055891</td>\n",
       "      <td>3.834530</td>\n",
       "      <td>22.017182</td>\n",
       "      <td>2.424513</td>\n",
       "    </tr>\n",
       "    <tr>\n",
       "      <th>3</th>\n",
       "      <td>0.833911</td>\n",
       "      <td>3.857970</td>\n",
       "      <td>11.224775</td>\n",
       "      <td>11.937471</td>\n",
       "      <td>1.005624</td>\n",
       "      <td>23.285643</td>\n",
       "      <td>6.085473</td>\n",
       "    </tr>\n",
       "    <tr>\n",
       "      <th>4</th>\n",
       "      <td>0.488614</td>\n",
       "      <td>4.512613</td>\n",
       "      <td>10.000476</td>\n",
       "      <td>12.537179</td>\n",
       "      <td>4.084746</td>\n",
       "      <td>24.537596</td>\n",
       "      <td>5.117575</td>\n",
       "    </tr>\n",
       "    <tr>\n",
       "      <th>...</th>\n",
       "      <td>...</td>\n",
       "      <td>...</td>\n",
       "      <td>...</td>\n",
       "      <td>...</td>\n",
       "      <td>...</td>\n",
       "      <td>...</td>\n",
       "      <td>...</td>\n",
       "    </tr>\n",
       "    <tr>\n",
       "      <th>4995</th>\n",
       "      <td>0.625860</td>\n",
       "      <td>1.587941</td>\n",
       "      <td>5.952431</td>\n",
       "      <td>8.516822</td>\n",
       "      <td>4.894385</td>\n",
       "      <td>16.950123</td>\n",
       "      <td>2.558535</td>\n",
       "    </tr>\n",
       "    <tr>\n",
       "      <th>4996</th>\n",
       "      <td>0.241723</td>\n",
       "      <td>-0.497071</td>\n",
       "      <td>1.695681</td>\n",
       "      <td>5.563204</td>\n",
       "      <td>7.454081</td>\n",
       "      <td>21.165266</td>\n",
       "      <td>4.867241</td>\n",
       "    </tr>\n",
       "    <tr>\n",
       "      <th>4997</th>\n",
       "      <td>2.527720</td>\n",
       "      <td>-2.706339</td>\n",
       "      <td>0.984988</td>\n",
       "      <td>1.597447</td>\n",
       "      <td>3.692427</td>\n",
       "      <td>18.808892</td>\n",
       "      <td>5.598200</td>\n",
       "    </tr>\n",
       "    <tr>\n",
       "      <th>4998</th>\n",
       "      <td>1.484585</td>\n",
       "      <td>1.468603</td>\n",
       "      <td>7.206672</td>\n",
       "      <td>8.486116</td>\n",
       "      <td>2.611856</td>\n",
       "      <td>21.528922</td>\n",
       "      <td>5.106188</td>\n",
       "    </tr>\n",
       "    <tr>\n",
       "      <th>4999</th>\n",
       "      <td>-0.306881</td>\n",
       "      <td>1.783709</td>\n",
       "      <td>4.603075</td>\n",
       "      <td>8.550474</td>\n",
       "      <td>5.044690</td>\n",
       "      <td>23.063591</td>\n",
       "      <td>6.511988</td>\n",
       "    </tr>\n",
       "  </tbody>\n",
       "</table>\n",
       "<p>5000 rows × 7 columns</p>\n",
       "</div>"
      ],
      "text/plain": [
       "             A          B          C          D         E          F         G\n",
       "0     1.113083   1.932164   7.074806   8.660411  0.881591  24.719501  9.216382\n",
       "1    -0.247948  11.334343  24.347372  23.355432  7.040113  36.812996  3.678833\n",
       "2     1.854508   3.032020  11.086473  11.055891  3.834530  22.017182  2.424513\n",
       "3     0.833911   3.857970  11.224775  11.937471  1.005624  23.285643  6.085473\n",
       "4     0.488614   4.512613  10.000476  12.537179  4.084746  24.537596  5.117575\n",
       "...        ...        ...        ...        ...       ...        ...       ...\n",
       "4995  0.625860   1.587941   5.952431   8.516822  4.894385  16.950123  2.558535\n",
       "4996  0.241723  -0.497071   1.695681   5.563204  7.454081  21.165266  4.867241\n",
       "4997  2.527720  -2.706339   0.984988   1.597447  3.692427  18.808892  5.598200\n",
       "4998  1.484585   1.468603   7.206672   8.486116  2.611856  21.528922  5.106188\n",
       "4999 -0.306881   1.783709   4.603075   8.550474  5.044690  23.063591  6.511988\n",
       "\n",
       "[5000 rows x 7 columns]"
      ]
     },
     "execution_count": 6,
     "metadata": {},
     "output_type": "execute_result"
    }
   ],
   "source": [
    "df_gaus = pd.read_csv(r\"C:\\Users\\User\\Documents\\GitHub\\ML_FYP\\dataset\\gaussian.dat\", sep=\"\\s+\")\n",
    "df_gaus"
   ]
  },
  {
   "cell_type": "code",
   "execution_count": 7,
   "id": "e2b8c82f",
   "metadata": {},
   "outputs": [],
   "source": [
    "#0th order chi2 test\n",
    "def PMCC(df, rho):\n",
    "    '''\n",
    "    0th order CI test\n",
    "    \n",
    "    Parameters:\n",
    "    df -> pandas dataframe\n",
    "    rho -> significance level, only accept 0 <= rho <= 1.0\n",
    "    '''\n",
    "    R_list = []\n",
    "    v = list(df)\n",
    "    my_list = list(itertools.combinations(v,2))\n",
    "    y_0, y_1 = [x[0] for x in my_list], [x[1] for x in my_list]\n",
    "    for i,j in zip(y_0, y_1):\n",
    "        R = pearsonr(X=i, Y=j, Z=[], data=df, significance_level=rho)\n",
    "        R_list.append((i,j,R))\n",
    "    true_0 = [x for x in R_list if True in x]\n",
    "    false_0 = [x for x in R_list if False in x]\n",
    "    return true_0, false_0"
   ]
  },
  {
   "cell_type": "markdown",
   "id": "b35f91ef",
   "metadata": {},
   "source": [
    "### Sorting Functions"
   ]
  },
  {
   "cell_type": "code",
   "execution_count": 8,
   "id": "a30070a5",
   "metadata": {},
   "outputs": [],
   "source": [
    "def create_permutations(my_list):\n",
    "    '''\n",
    "    takes in a list, remove extra permutations from the list and only creates a pair of permutations\n",
    "    '''\n",
    "    p_permutations = []\n",
    "    new_list = list(set(tuple(sorted(l[:2])) for l in my_list))\n",
    "    for items in new_list:\n",
    "        new_list_0 = list(itertools.permutations(items[:2],2))[1]\n",
    "        p_permutations.append(new_list_0)\n",
    "    return new_list + p_permutations"
   ]
  },
  {
   "cell_type": "code",
   "execution_count": 9,
   "id": "9b6bc093",
   "metadata": {},
   "outputs": [],
   "source": [
    "#given 2 lists, append them together and remove duplicates\n",
    "def remove_permutations(list_):\n",
    "    '''\n",
    "    returns a sorted list without permutation\n",
    "    '''\n",
    "    return sorted(list(set(tuple(sorted(l[:2])) for l in list_)))"
   ]
  },
  {
   "cell_type": "code",
   "execution_count": null,
   "id": "c6874611",
   "metadata": {},
   "outputs": [],
   "source": [
    "def PC_(df, n, rho):\n",
    "    '''\n",
    "    Note:\n",
    "    This function will start from at least 0th order CI\n",
    "    \n",
    "    Parameters:\n",
    "    df (pandas dataframe)\n",
    "    n an integer, the stopping point of the while loop\n",
    "    rho (the significance level, only accepts values between 0 and 1 inclusive)\n",
    "    \n",
    "    Returns:\n",
    "    A list which contains every independent X and Y\n",
    "    '''\n",
    "    N = 3\n",
    "    v = list(df)\n",
    "    # remove_list = [x for x in p_permute]\n",
    "    remove_list = create_permutations([x[:2] for x in chi2bool(df, rho)[0]])\n",
    "    #x[:2] for 0th order and its permutations, so we can later remove it \n",
    "    empty_list = []\n",
    "    while N <= n:\n",
    "        list_permutations = [x for x in itertools.permutations(v, N) if x[:2] not in remove_list]\n",
    "        p_1, p_2, p_3 = [x[:1] for x in list_permutations], [x[1:2] for x in list_permutations], [x[2:] for x in list_permutations]\n",
    "        for i,j,k in zip(p_1, p_2, p_3):\n",
    "            chi2 = chi_square(X=i[0], Y=j[0], Z=k, data=df, significance_level=rho)\n",
    "            empty_list.append((i[0],j[0],k,chi2))\n",
    "        true_list = create_permutations([x[:2] for x in empty_list if True in x])\n",
    "        #create_permutations ensures only 1 set of permutations of (X,Y) and (Y,X) and removes dupes\n",
    "        remove_list = remove_list + create_permutations(true_list)\n",
    "        remove_list = create_permutations(remove_list)\n",
    "        N += 1\n",
    "        \n",
    "    return remove_permutations(remove_list) #returns 1 set of permutations\n",
    "\n",
    "#ON MEDIUM SIZED NETWORKS:\n",
    "#1st order CI takes 2minutes to run\n",
    "#2nd order CI 9-15minutes to run\n",
    "#nP5 takes ??? minutes to run\n",
    "#nP6 not doable"
   ]
  },
  {
   "cell_type": "markdown",
   "id": "5a2e13c0",
   "metadata": {},
   "source": [
    "### graph"
   ]
  },
  {
   "cell_type": "code",
   "execution_count": 10,
   "id": "aa0da87b",
   "metadata": {},
   "outputs": [],
   "source": [
    "def Graph(df):\n",
    "    G = nx.Graph()\n",
    "    v = list(df)\n",
    "    for i in v:\n",
    "        G.add_node(i)\n",
    "    k = list(itertools.combinations(v,2))\n",
    "    for i,j in k:\n",
    "        G.add_edge(i,j)\n",
    "#     print(G)\n",
    "    return(G)"
   ]
  },
  {
   "cell_type": "code",
   "execution_count": 11,
   "id": "4d8b73c0",
   "metadata": {},
   "outputs": [
    {
     "name": "stdout",
     "output_type": "stream",
     "text": [
      "Graph with 8 nodes and 28 edges\n"
     ]
    },
    {
     "data": {
      "image/png": "[encoded data removed]",
      "text/plain": [
       "<Figure size 640x480 with 1 Axes>"
      ]
     },
     "metadata": {},
     "output_type": "display_data"
    }
   ],
   "source": [
    "g = Graph(df_small)\n",
    "print(g)\n",
    "nx.draw(g, with_labels = True)"
   ]
  },
  {
   "cell_type": "code",
   "execution_count": 12,
   "id": "30789bef",
   "metadata": {},
   "outputs": [],
   "source": [
    "def PC_0(df, rho, G):\n",
    "    '''\n",
    "    finds 0th order conditional independencies (CI) between each node, if True then remove an edge \n",
    "    '''\n",
    "    v = list(df)\n",
    "    for i in v:\n",
    "        G.add_node(i)\n",
    "    k = list(itertools.combinations(v,2))\n",
    "    for i,j in k:\n",
    "        G.add_edge(i,j)\n",
    "    ind_0 = [x[:2] for x in chi2bool(df, rho)[0]]\n",
    "    for i,j in ind_0:\n",
    "        G.remove_edge(i,j)\n",
    "#     print(G)\n",
    "    return(G)"
   ]
  },
  {
   "cell_type": "code",
   "execution_count": 13,
   "id": "15c91d29",
   "metadata": {},
   "outputs": [
    {
     "name": "stdout",
     "output_type": "stream",
     "text": [
      "Graph with 8 nodes and 20 edges\n"
     ]
    },
    {
     "data": {
      "image/png": "[encoded data removed]",
      "text/plain": [
       "<Figure size 640x480 with 1 Axes>"
      ]
     },
     "metadata": {},
     "output_type": "display_data"
    }
   ],
   "source": [
    "g_0 = PC_0(df_small, 0.05, g)\n",
    "print(g_0)\n",
    "nx.draw(g_0, with_labels = True)"
   ]
  },
  {
   "cell_type": "code",
   "execution_count": 43,
   "id": "84f41998",
   "metadata": {},
   "outputs": [
    {
     "data": {
      "text/plain": [
       "[('One', 'Two', ['Three', 'Six', 'Seven', 'Eight'], 4),\n",
       " ('One', 'Three', ['Two', 'Six', 'Seven', 'Eight', 'Five'], 5),\n",
       " ('One', 'Six', ['Two', 'Three', 'Seven', 'Eight', 'Five'], 5),\n",
       " ('One', 'Seven', ['Two', 'Three', 'Six', 'Eight', 'Five'], 5),\n",
       " ('One', 'Eight', ['Two', 'Three', 'Six', 'Seven', 'Five'], 5),\n",
       " ('Two', 'Three', ['One', 'Six', 'Seven', 'Eight', 'Five'], 5),\n",
       " ('Two', 'Six', ['One', 'Three', 'Seven', 'Eight', 'Five'], 5),\n",
       " ('Two', 'Seven', ['One', 'Three', 'Six', 'Eight', 'Five'], 5),\n",
       " ('Two', 'Eight', ['One', 'Three', 'Six', 'Seven', 'Five'], 5),\n",
       " ('Three', 'Five', ['One', 'Two', 'Six', 'Seven', 'Eight', 'Four'], 6),\n",
       " ('Three', 'Six', ['One', 'Two', 'Five', 'Seven', 'Eight'], 5),\n",
       " ('Three', 'Seven', ['One', 'Two', 'Five', 'Six', 'Eight'], 5),\n",
       " ('Three', 'Eight', ['One', 'Two', 'Five', 'Six', 'Seven'], 5),\n",
       " ('Four', 'Five', ['Three', 'Six', 'Seven', 'Eight'], 4),\n",
       " ('Five', 'Six', ['Three', 'Four', 'Seven', 'Eight', 'One', 'Two'], 6),\n",
       " ('Five', 'Seven', ['Three', 'Four', 'Six', 'Eight', 'One', 'Two'], 6),\n",
       " ('Five', 'Eight', ['Three', 'Four', 'Six', 'Seven', 'One', 'Two'], 6),\n",
       " ('Six', 'Seven', ['One', 'Two', 'Three', 'Five', 'Eight'], 5),\n",
       " ('Six', 'Eight', ['One', 'Two', 'Three', 'Five', 'Seven'], 5),\n",
       " ('Seven', 'Eight', ['One', 'Two', 'Three', 'Five', 'Six'], 5)]"
      ]
     },
     "execution_count": 43,
     "metadata": {},
     "output_type": "execute_result"
    }
   ],
   "source": [
    "find_adjacency_XY(g_0)"
   ]
  },
  {
   "cell_type": "markdown",
   "id": "ac6132f2",
   "metadata": {},
   "source": [
    "### adjacency finder"
   ]
  },
  {
   "cell_type": "code",
   "execution_count": 65,
   "id": "6798137f",
   "metadata": {},
   "outputs": [],
   "source": [
    "def find_adjacency_XY(graph):    \n",
    "    test_list = []\n",
    "    graph_list = list(graph.edges)\n",
    "    for i,j in graph_list:\n",
    "        test_list.append((i, j, list(graph.edges(i)), list(graph.edges(j))))\n",
    "    n = 0\n",
    "    N = len(test_list)\n",
    "    edge_XY = []\n",
    "    while n < N:\n",
    "        ##\n",
    "        adjacent_X = []\n",
    "        adjacent_Y = []\n",
    "        X, Y = test_list[n][0], test_list[n][1]\n",
    "        k_X, k_Y = test_list[n][2], test_list[n][3]\n",
    "        edge_X = [x for x in k_X if x[1] != Y]\n",
    "        edge_Y = [x for x in k_Y if x[1] not in (y[1] for y in k_X) and x[1] != X]\n",
    "        for x in edge_X:\n",
    "            adjacent_X.append(x[1])\n",
    "        for y in edge_Y:\n",
    "            adjacent_Y.append(y[1])\n",
    "        adjacent_XY = adjacent_X + adjacent_Y\n",
    "        len_XY = len(adjacent_XY)\n",
    "        edge_XY.append((X, Y, adjacent_XY, len_XY))\n",
    "#         print(edge_XY)\n",
    "        n += 1\n",
    "    return edge_XY"
   ]
  },
  {
   "cell_type": "code",
   "execution_count": 66,
   "id": "1ac7cc64",
   "metadata": {},
   "outputs": [
    {
     "data": {
      "text/plain": [
       "[('One', 'Two', ['Three', 'Six', 'Seven', 'Eight'], 4),\n",
       " ('One', 'Three', ['Two', 'Six', 'Seven', 'Eight', 'Five'], 5),\n",
       " ('One', 'Six', ['Two', 'Three', 'Seven', 'Eight', 'Five'], 5),\n",
       " ('One', 'Seven', ['Two', 'Three', 'Six', 'Eight', 'Five'], 5),\n",
       " ('One', 'Eight', ['Two', 'Three', 'Six', 'Seven', 'Five'], 5),\n",
       " ('Two', 'Three', ['One', 'Six', 'Seven', 'Eight', 'Five'], 5),\n",
       " ('Two', 'Six', ['One', 'Three', 'Seven', 'Eight', 'Five'], 5),\n",
       " ('Two', 'Seven', ['One', 'Three', 'Six', 'Eight', 'Five'], 5),\n",
       " ('Two', 'Eight', ['One', 'Three', 'Six', 'Seven', 'Five'], 5),\n",
       " ('Three', 'Five', ['One', 'Two', 'Six', 'Seven', 'Eight', 'Four'], 6),\n",
       " ('Three', 'Six', ['One', 'Two', 'Five', 'Seven', 'Eight'], 5),\n",
       " ('Three', 'Seven', ['One', 'Two', 'Five', 'Six', 'Eight'], 5),\n",
       " ('Three', 'Eight', ['One', 'Two', 'Five', 'Six', 'Seven'], 5),\n",
       " ('Four', 'Five', ['Three', 'Six', 'Seven', 'Eight'], 4),\n",
       " ('Five', 'Six', ['Three', 'Four', 'Seven', 'Eight', 'One', 'Two'], 6),\n",
       " ('Five', 'Seven', ['Three', 'Four', 'Six', 'Eight', 'One', 'Two'], 6),\n",
       " ('Five', 'Eight', ['Three', 'Four', 'Six', 'Seven', 'One', 'Two'], 6),\n",
       " ('Six', 'Seven', ['One', 'Two', 'Three', 'Five', 'Eight'], 5),\n",
       " ('Six', 'Eight', ['One', 'Two', 'Three', 'Five', 'Seven'], 5),\n",
       " ('Seven', 'Eight', ['One', 'Two', 'Three', 'Five', 'Six'], 5)]"
      ]
     },
     "execution_count": 66,
     "metadata": {},
     "output_type": "execute_result"
    }
   ],
   "source": [
    "adj = find_adjacency_XY(g_0)\n",
    "adj"
   ]
  },
  {
   "cell_type": "markdown",
   "id": "1db3b216",
   "metadata": {},
   "source": [
    "### obtaining combinations and data preprocessing"
   ]
  },
  {
   "cell_type": "code",
   "execution_count": 67,
   "id": "9d72838b",
   "metadata": {},
   "outputs": [],
   "source": [
    "def get_combinations(this_list, N_0):\n",
    "    '''\n",
    "    get combinations of ONE list in ('One', 'Two', ['Three', 'Six', 'Seven', 'Eight'], 4) format\n",
    "    '''\n",
    "    adjacency = this_list[2]\n",
    "    len_adjacency = len(adjacency)\n",
    "    n = 1\n",
    "    combinations = []\n",
    "    while n <= N_0:\n",
    "        k = list(itertools.combinations(adjacency, n))\n",
    "        combinations.append(k)\n",
    "        n += 1\n",
    "    return [x for x in combinations if x != []]"
   ]
  },
  {
   "cell_type": "code",
   "execution_count": 68,
   "id": "9848712c",
   "metadata": {},
   "outputs": [],
   "source": [
    "def combinations_adjacents(adj, N):\n",
    "    '''\n",
    "    adj = output from find_adjacency_XY\n",
    "    N = stopping point for how many combinations you want\n",
    "    output: obtains the combinations of n=1,2,...N of the whole list in an unordered manner (see open_list)\n",
    "    '''\n",
    "    len_adjacents = len(adj)\n",
    "    n = 0\n",
    "    empty = []\n",
    "    while n < len_adjacents:\n",
    "        k = get_combinations(adj[n], N)\n",
    "        empty.append((adj[n][0], adj[n][1], k))\n",
    "        n += 1\n",
    "    empty = [x for x in empty if x != []]\n",
    "    return empty"
   ]
  },
  {
   "cell_type": "code",
   "execution_count": 69,
   "id": "1aa8753b",
   "metadata": {},
   "outputs": [],
   "source": [
    "def open_list(lists):\n",
    "    '''\n",
    "    lists = output from combinations_adjacents, the whole thing\n",
    "    all this function does is concatenates the adjacents of different combinations together\n",
    "    '''\n",
    "    n = 0\n",
    "    N = len(lists)\n",
    "    output = []\n",
    "    while n < N:\n",
    "        t = list(itertools.chain.from_iterable(lists[n][2]))\n",
    "        output.append((lists[n][0], lists[n][1], t))\n",
    "        n += 1\n",
    "    return output"
   ]
  },
  {
   "cell_type": "code",
   "execution_count": 70,
   "id": "2541a4fd",
   "metadata": {},
   "outputs": [],
   "source": [
    "# a = open_list(combinations)\n",
    "opened = open_list(combinations)\n",
    "# opened"
   ]
  },
  {
   "cell_type": "markdown",
   "id": "44cbeeee",
   "metadata": {},
   "source": [
    "### chi2 test "
   ]
  },
  {
   "cell_type": "code",
   "execution_count": 71,
   "id": "c15c13f2",
   "metadata": {},
   "outputs": [],
   "source": [
    "def chi2_list(this_list, df, rho):\n",
    "    '''\n",
    "    performs chi2 test on 1 list in open_list format\n",
    "    '''\n",
    "    n = 0\n",
    "    N = len(this_list[2])\n",
    "    x = this_list[0]\n",
    "    y = this_list[1]\n",
    "    output = []\n",
    "    while n < N:\n",
    "        chi2 = chi_square(X=x, Y=y, Z=this_list[2][n], data=df, significance_level=rho)\n",
    "        if chi2 == True:\n",
    "            output.append(chi2)\n",
    "            break\n",
    "        n += 1\n",
    "    return output"
   ]
  },
  {
   "cell_type": "code",
   "execution_count": 72,
   "id": "8be36e82",
   "metadata": {},
   "outputs": [],
   "source": [
    "def PC_2(opened, df, rho):\n",
    "    '''\n",
    "    takes in the output from open_list()\n",
    "    '''\n",
    "    n = 0\n",
    "    N = len(opened)\n",
    "    output = []\n",
    "    while n < N:\n",
    "        chi2 = chi2_list(opened[n], df, rho)\n",
    "        if True in chi2:\n",
    "            output.append((opened[n][0], opened[n][1], opened[n][2][n], chi2))            \n",
    "#             print(opened[n][0], opened[n][1], opened[n][2][n], chi2)\n",
    "        n += 1\n",
    "    return output"
   ]
  },
  {
   "cell_type": "code",
   "execution_count": 74,
   "id": "ae863f47",
   "metadata": {},
   "outputs": [
    {
     "name": "stdout",
     "output_type": "stream",
     "text": [
      "CPU times: total: 4.88 s\n",
      "Wall time: 5 s\n"
     ]
    }
   ],
   "source": [
    "%%time\n",
    "# opened[n][2][n]\n",
    "ind = PC_2(opened, df_small, 0.05)\n",
    "# opened[2][n][n]"
   ]
  },
  {
   "cell_type": "code",
   "execution_count": 75,
   "id": "8c9af454",
   "metadata": {},
   "outputs": [
    {
     "data": {
      "text/plain": [
       "[('One', 'Six', ('Seven',), [True]),\n",
       " ('One', 'Seven', ('Eight',), [True]),\n",
       " ('One', 'Eight', ('Five',), [True]),\n",
       " ('Two', 'Three', ('One', 'Six'), [True]),\n",
       " ('Two', 'Seven', ('One', 'Eight'), [True]),\n",
       " ('Two', 'Eight', ('One', 'Five'), [True]),\n",
       " ('Three', 'Five', ('One', 'Eight'), [True]),\n",
       " ('Three', 'Six', ('Two', 'Seven'), [True]),\n",
       " ('Three', 'Seven', ('Two', 'Eight'), [True]),\n",
       " ('Five', 'Seven', ('Six', 'Eight'), [True]),\n",
       " ('Five', 'Eight', ('Six', 'One'), [True]),\n",
       " ('Seven', 'Eight', ('One', 'Three', 'Six'), [True])]"
      ]
     },
     "execution_count": 75,
     "metadata": {},
     "output_type": "execute_result"
    }
   ],
   "source": [
    "for i in ind:\n",
    "    G."
   ]
  },
  {
   "cell_type": "markdown",
   "id": "f0297355",
   "metadata": {},
   "source": [
    "### small network"
   ]
  },
  {
   "cell_type": "code",
   "execution_count": null,
   "id": "43f89415",
   "metadata": {},
   "outputs": [],
   "source": [
    "m = Gobnilp()\n",
    "m.learn(r'C:\\Users\\User\\Documents\\GitHub\\ML_FYP\\dataset\\asia_10000.dat')"
   ]
  },
  {
   "cell_type": "code",
   "execution_count": null,
   "id": "cec080c5",
   "metadata": {},
   "outputs": [],
   "source": []
  }
 ],
 "metadata": {
  "kernelspec": {
   "display_name": "Python 3 (ipykernel)",
   "language": "python",
   "name": "python3"
  },
  "language_info": {
   "codemirror_mode": {
    "name": "ipython",
    "version": 3
   },
   "file_extension": ".py",
   "mimetype": "text/x-python",
   "name": "python",
   "nbconvert_exporter": "python",
   "pygments_lexer": "ipython3",
   "version": "3.8.8"
  }
 },
 "nbformat": 4,
 "nbformat_minor": 5
}
