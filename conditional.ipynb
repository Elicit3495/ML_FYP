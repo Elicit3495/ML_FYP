{
 "cells": [
  {
   "cell_type": "code",
   "execution_count": 1,
   "id": "bbbb924b",
   "metadata": {},
   "outputs": [],
   "source": [
    "import pandas as pd\n",
    "# from tabulate import tabulate\n",
    "import numpy as np\n",
    "from pygobnilp.gobnilp import Gobnilp\n",
    "# import bnlearn as bn\n",
    "import pgmpy\n",
    "import itertools\n",
    "from scipy.stats import chi2_contingency #check for independence between 2 variables\n",
    "from scipy.stats import power_divergence\n",
    "from pgmpy.estimators.CITests import log_likelihood\n",
    "from pgmpy.estimators.CITests import chi_square\n",
    "# from pgmpy.factors.continuous.discretize import BaseDiscretizer"
   ]
  },
  {
   "cell_type": "code",
   "execution_count": 2,
   "id": "7f25afa9",
   "metadata": {},
   "outputs": [],
   "source": [
    "def csv_format_discrete(csv_file):\n",
    "    df = pd.read_csv(csv_file, sep=\"\\s+\")\n",
    "    return df.drop([0])\n",
    "\n",
    "#returns the csv_file in a pandas dataframe, formatted properly, discrete dataset only"
   ]
  },
  {
   "cell_type": "code",
   "execution_count": 3,
   "id": "0d13a4c9",
   "metadata": {},
   "outputs": [],
   "source": [
    "df = csv_format_discrete(r\"C:\\Users\\User\\Documents\\GitHub\\ML_FYP\\dataset\\discrete.dat\")\n",
    "df\n",
    "df_test = csv_format_discrete(r\"C:\\Users\\User\\Documents\\GitHub\\ML_FYP\\dataset\\alarm_100.dat\")"
   ]
  },
  {
   "cell_type": "markdown",
   "id": "68a3df7c",
   "metadata": {},
   "source": [
    "### chi-squared test"
   ]
  },
  {
   "cell_type": "code",
   "execution_count": 4,
   "id": "8c08e4eb",
   "metadata": {},
   "outputs": [],
   "source": [
    "#0th order chi2 test\n",
    "def chi2bool(df):\n",
    "#returns a tuple(chi2, p_value, dof) if boolean = false\n",
    "#the null hypothesis is that they are independent of each other\n",
    "#if true, the p_value is higher than the significance test, we do not reject the null hypothesis\n",
    "#if false, the p_value is lower than the significance test, we reject the null hypothesis\n",
    "    v = list(df)\n",
    "    empty = []\n",
    "    empty_1 = []\n",
    "    empty_2 = []\n",
    "    empty_3 = []\n",
    "    empty_4 = []\n",
    "    itertools_combinations = list(itertools.combinations(v, 2)) #finds every possible combination of list(df)\n",
    "    for i in itertools_combinations:\n",
    "        empty_1.append(i[0])\n",
    "        empty_2.append(i[1])\n",
    "        \n",
    "    total_number_of_combinations = len(empty_1)\n",
    "    \n",
    "    for t in range(len(itertools_combinations)):\n",
    "        empty.append(itertools_combinations[t])\n",
    "        \n",
    "    for value in range(len(empty_1)):\n",
    "        empty_3.append(value)\n",
    "        \n",
    "    for x,y,i,j in zip(empty_1, empty_2, empty, empty_3):\n",
    "        chisquare = chi_square(X=x, Y=y, Z=[], data=df, significance_level=0.05, boolean=True) #returns chi, p_value, dof\n",
    "        empty_4.append([j, i , chisquare])\n",
    "        \n",
    "    return empty_4"
   ]
  },
  {
   "cell_type": "code",
   "execution_count": 5,
   "id": "341d0353",
   "metadata": {},
   "outputs": [],
   "source": [
    "def chi2val(df):\n",
    "#returns a tuple(chi2, p_value, dof) if boolean = false\n",
    "#the null hypothesis is that they are independent of each other\n",
    "#if true, the p_value is higher than the significance test, we do not reject the null hypothesis\n",
    "#if false, the p_value is lower than the significance test, we reject the null hypothesis\n",
    "    v = list(df)\n",
    "    empty = []\n",
    "    empty_1 = []\n",
    "    empty_2 = []\n",
    "    empty_3 = []\n",
    "    empty_4 = []\n",
    "    itertools_combinations = list(itertools.combinations(v, 2)) #finds every possible combination of list(df)\n",
    "    for i in itertools_combinations:\n",
    "        empty_1.append(i[0])\n",
    "        empty_2.append(i[1])\n",
    "        \n",
    "    total_number_of_combinations = len(empty_1)\n",
    "    \n",
    "    for t in range(len(itertools_combinations)):\n",
    "        empty.append(itertools_combinations[t])\n",
    "        \n",
    "    for value in range(len(empty_1)):\n",
    "        empty_3.append(value)\n",
    "        \n",
    "    for x,y,i,j in zip(empty_1, empty_2, empty, empty_3):\n",
    "        chisquare = chi_square(X=x, Y=y, Z=[], data=df, significance_level=0.05, boolean=False) #returns chi, p_value, dof\n",
    "        empty_4.append([j, i , chisquare])\n",
    "        \n",
    "    return empty_4\n"
   ]
  },
  {
   "cell_type": "code",
   "execution_count": 6,
   "id": "a4098207",
   "metadata": {},
   "outputs": [],
   "source": [
    "#tests whether x is independent of y given a single variable z \n",
    "def chi2condbool(df):\n",
    "    test_list_0 = []\n",
    "    test_list_1 = []\n",
    "    test_list_2 = []\n",
    "    chi2 = []\n",
    "    v = list(df)\n",
    "    combine = list(itertools.combinations(v, 3)) #nC3 \n",
    "    for i in combine:\n",
    "        test_list_0.append(i[0])\n",
    "        test_list_1.append(i[1])\n",
    "        test_list_2.append(i[2])\n",
    "    for a,b,c in zip(test_list_0, test_list_1, test_list_2):\n",
    "        chisquare = chi_square(X=a, Y=b, Z=[c], data=df, significance_level=0.05, boolean=True)\n",
    "        chi2.append([a,b,c,chisquare])\n",
    "    return sortReturn(chi2)"
   ]
  },
  {
   "cell_type": "code",
   "execution_count": 7,
   "id": "7db6413c",
   "metadata": {},
   "outputs": [],
   "source": [
    "#tests whether x is independent of y given a single variable z \n",
    "def chi2condval(df):\n",
    "    test_list_0 = []\n",
    "    test_list_1 = []\n",
    "    test_list_2 = []\n",
    "    chi2 = []\n",
    "    v = list(df)\n",
    "    combine = list(itertools.combinations(v, 3)) #nC3 \n",
    "    for i in combine:\n",
    "        test_list_0.append(i[0])\n",
    "        test_list_1.append(i[1])\n",
    "        test_list_2.append(i[2])\n",
    "    for a,b,c in zip(test_list_0, test_list_1, test_list_2):\n",
    "        chisquare = chi_square(X=a, Y=b, Z=[c], data=df, significance_level=0.05, boolean=False)\n",
    "        chi2.append([a,b,c,chisquare])\n",
    "    return chi2"
   ]
  },
  {
   "cell_type": "markdown",
   "id": "6f8c06d0",
   "metadata": {},
   "source": [
    "### log-likelihood tests"
   ]
  },
  {
   "cell_type": "code",
   "execution_count": 8,
   "id": "84bb6fb8",
   "metadata": {},
   "outputs": [],
   "source": [
    "def g2val(df):\n",
    "#returns a tuple(chi2, p_value, dof) if boolean = false\n",
    "#the null hypothesis is that they are independent of each other\n",
    "#if true, the p_value is higher than the significance test, we do not reject the null hypothesis\n",
    "#if false, the p_value is lower than the significance test, we reject the null hypothesis\n",
    "    v = list(df)\n",
    "    empty = []\n",
    "    empty_1 = []\n",
    "    empty_2 = []\n",
    "    empty_3 = []\n",
    "    empty_4 = []\n",
    "    itertools_combinations = list(itertools.combinations(v, 2)) #finds every possible combination of list(df)\n",
    "    for i in itertools_combinations:\n",
    "        empty_1.append(i[0])\n",
    "        empty_2.append(i[1])\n",
    "        \n",
    "    total_number_of_combinations = len(empty_1)\n",
    "    \n",
    "    for t in range(len(itertools_combinations)):\n",
    "        empty.append(itertools_combinations[t])\n",
    "        \n",
    "    for value in range(len(empty_1)):\n",
    "        empty_3.append(value)\n",
    "        \n",
    "    for x,y,i,j in zip(empty_1, empty_2, empty, empty_3):\n",
    "        g2 = log_likelihood(X=x, Y=y, Z=[], significance_level=0.05, boolean=True, data=df) \n",
    "        empty_4.append([j, i , g2])\n",
    "        \n",
    "    return empty_4"
   ]
  },
  {
   "cell_type": "markdown",
   "id": "b35f91ef",
   "metadata": {},
   "source": [
    "### Sorting Functions"
   ]
  },
  {
   "cell_type": "code",
   "execution_count": 9,
   "id": "6a876f12",
   "metadata": {},
   "outputs": [],
   "source": [
    "def sortReturn(data):\n",
    "    #just a sorting function\n",
    "    true_list = []\n",
    "    false_list = []\n",
    "    for i in data:\n",
    "        if True in i:\n",
    "            true_list.append(i)\n",
    "        if False in i:\n",
    "            false_list.append(i)\n",
    "    return true_list, false_list"
   ]
  },
  {
   "cell_type": "code",
   "execution_count": 10,
   "id": "8983b37c",
   "metadata": {},
   "outputs": [],
   "source": [
    "#returns a list with a tuple of combinations of false\n",
    "def false2tuple(data):\n",
    "    empty = []\n",
    "    false_list_of_tuples = []\n",
    "    new_df = pd.DataFrame(data)\n",
    "    newer_df = new_df[1]\n",
    "    return newer_df"
   ]
  },
  {
   "cell_type": "markdown",
   "id": "c1029a7f",
   "metadata": {},
   "source": [
    "### CONDITIONAL MAIN CODE"
   ]
  },
  {
   "cell_type": "code",
   "execution_count": 11,
   "id": "df2488a4",
   "metadata": {},
   "outputs": [],
   "source": [
    "#returns TRUE/FALSE Xs and Ys in a tuple of (X,Y)\n",
    "def conditional_sort(df):\n",
    "    output_false = []\n",
    "    output_true = []\n",
    "    my_list = [x for x in chi2bool(df) if False in x]\n",
    "    my_list_2 = [x for x in chi2bool(df) if True in x]\n",
    "    for i,j in zip(my_list, my_list_2):\n",
    "        output_true.append(j[1])\n",
    "        output_false.append(i[1])\n",
    "    return output_true, output_false"
   ]
  },
  {
   "cell_type": "code",
   "execution_count": 19,
   "id": "e3f221bd",
   "metadata": {},
   "outputs": [],
   "source": [
    "def conditional_permute(df):\n",
    "    a = conditional_sort(df)[1] #obtains the list of false outputs, false output means dependent\n",
    "    k = list(itertools.permutations(df,3))\n",
    "    permute_list = []\n",
    "    for i in a:\n",
    "        permute = list(itertools.permutations(i))\n",
    "        permute_list.append(permute[1]) #returns a list of permuted items from a\n",
    "    for items in permute_list:\n",
    "        a.append(items) #adds all possible permutations to a \n",
    "    my_list = [x for x in k if all(x[:2] != y[:2] for y in a)] #checks if all elements in x[:2] != y[:2]\n",
    "    my_list_2 = [x[:2] for x in my_list]\n",
    "    a0 = list(tuple(sorted(l)) for l in my_list_2)\n",
    "    output = [x for x in my_list if x[:2] in a0]\n",
    "    return o"
   ]
  },
  {
   "cell_type": "code",
   "execution_count": 20,
   "id": "8ad9860b",
   "metadata": {},
   "outputs": [
    {
     "data": {
      "text/plain": [
       "([('A', 'B'),\n",
       "  ('A', 'D'),\n",
       "  ('A', 'E'),\n",
       "  ('B', 'D'),\n",
       "  ('B', 'E'),\n",
       "  ('C', 'D'),\n",
       "  ('D', 'E'),\n",
       "  ('B', 'A'),\n",
       "  ('D', 'A'),\n",
       "  ('E', 'A'),\n",
       "  ('D', 'B'),\n",
       "  ('E', 'B'),\n",
       "  ('D', 'C'),\n",
       "  ('E', 'D')],\n",
       " [('B', 'A'),\n",
       "  ('D', 'A'),\n",
       "  ('E', 'A'),\n",
       "  ('D', 'B'),\n",
       "  ('E', 'B'),\n",
       "  ('D', 'C'),\n",
       "  ('E', 'D')])"
      ]
     },
     "execution_count": 20,
     "metadata": {},
     "output_type": "execute_result"
    }
   ],
   "source": [
    "conditional_permute(df)"
   ]
  },
  {
   "cell_type": "code",
   "execution_count": 16,
   "id": "eaf343a1",
   "metadata": {},
   "outputs": [
    {
     "data": {
      "text/plain": [
       "[('A', 'B'),\n",
       " ('A', 'D'),\n",
       " ('A', 'E'),\n",
       " ('B', 'D'),\n",
       " ('B', 'E'),\n",
       " ('C', 'D'),\n",
       " ('D', 'E'),\n",
       " ('B', 'A'),\n",
       " ('D', 'A'),\n",
       " ('E', 'A'),\n",
       " ('D', 'B'),\n",
       " ('E', 'B'),\n",
       " ('D', 'C'),\n",
       " ('E', 'D')]"
      ]
     },
     "execution_count": 16,
     "metadata": {},
     "output_type": "execute_result"
    }
   ],
   "source": [
    "a = conditional_sort(df)[1] #obtains the list of false outputs, false output means dependent\n",
    "k = list(itertools.permutations(df,3))\n",
    "a0 = []\n",
    "# permuted = []\n",
    "for i in a:\n",
    "    permute = list(itertools.permutations(i))\n",
    "    a0.append(permute[1])\n",
    "for i in a0:\n",
    "    a.append(i)\n",
    "a"
   ]
  },
  {
   "cell_type": "code",
   "execution_count": null,
   "id": "4631ea6d",
   "metadata": {},
   "outputs": [],
   "source": [
    "def conditional_permute(df):\n",
    "    independent_vals = conditional_sort(df)[1]\n",
    "    k = list(itertools.permutations(df,3))\n",
    "    my_list = [x for x in k if all(x[:2] != y[:2] for y in independent_vals) or all()]\n",
    "    return independent_vals, k, my_list"
   ]
  },
  {
   "cell_type": "code",
   "execution_count": null,
   "id": "2b4a6b87",
   "metadata": {},
   "outputs": [],
   "source": [
    "#returns combinations of Zs\n",
    "def conditional_combine_1(df):\n",
    "    first_empty = []\n",
    "    second_empty = []\n",
    "    my_list = conditional_sort_2(df)\n",
    "    for i in my_list:\n",
    "        first_empty.append(i[0])\n",
    "        second_empty.append(i[1])\n",
    "    list_df = list(df)\n",
    "    v = list(itertools.combinations(list_df, 2))\n",
    "    for i,j,k in zip(first_empty, second_empty, v):\n",
    "        chi_square(X=i, Y=j, Z=k, data=df)\n",
    "    return chi_square"
   ]
  },
  {
   "cell_type": "code",
   "execution_count": null,
   "id": "548c3e56",
   "metadata": {},
   "outputs": [],
   "source": [
    "my_list = [x for x in k if all(x[:2] != y[:2] for y in independent_vals)]\n",
    "my_list\n"
   ]
  },
  {
   "cell_type": "code",
   "execution_count": null,
   "id": "da2ed743",
   "metadata": {},
   "outputs": [],
   "source": [
    "for i,j in zip(k, newest_list):\n",
    "    if i != j:\n",
    "        print(i)"
   ]
  },
  {
   "cell_type": "code",
   "execution_count": null,
   "id": "a841d9f0",
   "metadata": {},
   "outputs": [],
   "source": [
    "newest_list = [x for x in k if x not in independent_vals]\n",
    "newest_list"
   ]
  },
  {
   "cell_type": "code",
   "execution_count": null,
   "id": "febc5a9a",
   "metadata": {},
   "outputs": [],
   "source": []
  },
  {
   "cell_type": "code",
   "execution_count": null,
   "id": "2e22e9af",
   "metadata": {},
   "outputs": [],
   "source": []
  },
  {
   "cell_type": "code",
   "execution_count": null,
   "id": "bfdcc2da",
   "metadata": {},
   "outputs": [],
   "source": []
  },
  {
   "cell_type": "code",
   "execution_count": null,
   "id": "b37d1f90",
   "metadata": {},
   "outputs": [],
   "source": [
    "first_empty = []\n",
    "second_empty = []\n",
    "my_list = conditional_sort_2(df)\n",
    "for i in my_list:\n",
    "    first_empty.append(i[0])\n",
    "    second_empty.append(i[1])\n",
    "list_df = list(df)\n",
    "v = list(itertools.combinations(list_df, 2))\n",
    "v, first_empty, second_empty\n",
    "# for i,j,k in zip(first_empty, second_empty, v):\n",
    "#     chi_square(X=i, Y=j, Z=k, data=df)\n",
    "# return chi_square"
   ]
  },
  {
   "cell_type": "code",
   "execution_count": null,
   "id": "98132635",
   "metadata": {},
   "outputs": [],
   "source": [
    "new_list = []\n",
    "for i in range(2, 6):\n",
    "    a = list(itertools.combinations(df, i))\n",
    "    new_list.append(a)\n",
    "new_list"
   ]
  },
  {
   "cell_type": "code",
   "execution_count": null,
   "id": "b11ccd48",
   "metadata": {},
   "outputs": [],
   "source": []
  },
  {
   "cell_type": "code",
   "execution_count": null,
   "id": "a5bfbeef",
   "metadata": {},
   "outputs": [],
   "source": [
    "chi2condbool(df)[1], conditional_sort_2(df)"
   ]
  },
  {
   "cell_type": "code",
   "execution_count": null,
   "id": "5317f485",
   "metadata": {},
   "outputs": [],
   "source": [
    "first_empty = []\n",
    "second_empty = []\n",
    "my_list = conditional_sort_2(df)\n",
    "for i in my_list:\n",
    "    first_empty.append(i[0])\n",
    "    second_empty.append(i[1])\n",
    "list_df = list(df)\n",
    "v = list(itertools.combinations(list_df, 2))\n",
    "v, first_empty, second_empty"
   ]
  },
  {
   "cell_type": "code",
   "execution_count": null,
   "id": "e5450bbf",
   "metadata": {},
   "outputs": [],
   "source": [
    "alpha_test = v[0]\n",
    "alpha_test\n",
    "for i,j in zip(first_empty, second_empty):\n",
    "    if alpha_test[0] != i and alpha_test[0] != j and alpha_test[1] != i and alpha_test[1] != j:\n",
    "        print(i,j)"
   ]
  },
  {
   "cell_type": "code",
   "execution_count": null,
   "id": "f6806d76",
   "metadata": {},
   "outputs": [],
   "source": [
    "for i,j in zip(v, first_empty):\n",
    "    print(i[0][0])"
   ]
  },
  {
   "cell_type": "code",
   "execution_count": null,
   "id": "ac918158",
   "metadata": {},
   "outputs": [],
   "source": [
    "conditional_1P5(df)"
   ]
  },
  {
   "cell_type": "code",
   "execution_count": null,
   "id": "6a21c6fb",
   "metadata": {},
   "outputs": [],
   "source": [
    "v = list(itertools.combinations(list_df, 2))\n",
    "v"
   ]
  },
  {
   "cell_type": "code",
   "execution_count": null,
   "id": "c0052be4",
   "metadata": {},
   "outputs": [],
   "source": []
  },
  {
   "cell_type": "code",
   "execution_count": null,
   "id": "29e91b2b",
   "metadata": {},
   "outputs": [],
   "source": [
    "m = Gobnilp()"
   ]
  },
  {
   "cell_type": "code",
   "execution_count": null,
   "id": "836e2b5e",
   "metadata": {},
   "outputs": [],
   "source": [
    "m.learn(r\"C:\\Users\\User\\Documents\\GitHub\\ML_FYP\\dataset\\discrete.dat\")"
   ]
  },
  {
   "cell_type": "code",
   "execution_count": null,
   "id": "56d34acc",
   "metadata": {},
   "outputs": [],
   "source": []
  }
 ],
 "metadata": {
  "kernelspec": {
   "display_name": "Python 3 (ipykernel)",
   "language": "python",
   "name": "python3"
  },
  "language_info": {
   "codemirror_mode": {
    "name": "ipython",
    "version": 3
   },
   "file_extension": ".py",
   "mimetype": "text/x-python",
   "name": "python",
   "nbconvert_exporter": "python",
   "pygments_lexer": "ipython3",
   "version": "3.8.8"
  }
 },
 "nbformat": 4,
 "nbformat_minor": 5
}
