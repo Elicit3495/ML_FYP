{
 "cells": [
  {
   "cell_type": "code",
   "execution_count": 2,
   "id": "bbbb924b",
   "metadata": {},
   "outputs": [],
   "source": [
    "import pandas as pd\n",
    "# from tabulate import tabulate\n",
    "import numpy as np\n",
    "# import bnlearn as bn\n",
    "import pgmpy\n",
    "import itertools\n",
    "from scipy.stats import chi2_contingency #check for independence between 2 variables\n",
    "from scipy.stats import power_divergence\n",
    "from pgmpy.estimators.CITests import log_likelihood\n",
    "from pgmpy.estimators.CITests import chi_square\n",
    "# from pgmpy.factors.continuous.discretize import BaseDiscretizer"
   ]
  },
  {
   "cell_type": "code",
   "execution_count": 3,
   "id": "7f25afa9",
   "metadata": {},
   "outputs": [],
   "source": [
    "def csv_format_discrete(csv_file):\n",
    "    df = pd.read_csv(csv_file, sep=\"\\s+\")\n",
    "    return df.drop([0])\n",
    "\n",
    "#returns the csv_file in a pandas dataframe, formatted properly, discrete dataset only"
   ]
  },
  {
   "cell_type": "markdown",
   "id": "68a3df7c",
   "metadata": {},
   "source": [
    "### chi-squared test"
   ]
  },
  {
   "cell_type": "code",
   "execution_count": 4,
   "id": "8c08e4eb",
   "metadata": {},
   "outputs": [],
   "source": [
    "#how do we measure the consistensy\n",
    "def chi2bool(df):\n",
    "#returns a tuple(chi2, p_value, dof) if boolean = false\n",
    "#the null hypothesis is that they are independent of each other\n",
    "#if true, the p_value is higher than the significance test, we do not reject the null hypothesis\n",
    "#if false, the p_value is lower than the significance test, we reject the null hypothesis\n",
    "    v = list(df)\n",
    "    empty = []\n",
    "    empty_1 = []\n",
    "    empty_2 = []\n",
    "    empty_3 = []\n",
    "    empty_4 = []\n",
    "    itertools_combinations = list(itertools.combinations(v, 2)) #finds every possible combination of list(df)\n",
    "    for i in itertools_combinations:\n",
    "        empty_1.append(i[0])\n",
    "        empty_2.append(i[1])\n",
    "        \n",
    "    total_number_of_combinations = len(empty_1)\n",
    "    \n",
    "    for t in range(len(itertools_combinations)):\n",
    "        empty.append(itertools_combinations[t])\n",
    "        \n",
    "    for value in range(len(empty_1)):\n",
    "        empty_3.append(value)\n",
    "        \n",
    "    for x,y,i,j in zip(empty_1, empty_2, empty, empty_3):\n",
    "        chisquare = chi_square(X=x, Y=y, Z=[], data=df, significance_level=0.10, boolean=True) #returns chi, p_value, dof\n",
    "        empty_4.append([j, i , chisquare])\n",
    "        \n",
    "    return empty_4"
   ]
  },
  {
   "cell_type": "code",
   "execution_count": 5,
   "id": "341d0353",
   "metadata": {},
   "outputs": [],
   "source": [
    "def chi2val(df):\n",
    "#returns a tuple(chi2, p_value, dof) if boolean = false\n",
    "#the null hypothesis is that they are independent of each other\n",
    "#if true, the p_value is higher than the significance test, we do not reject the null hypothesis\n",
    "#if false, the p_value is lower than the significance test, we reject the null hypothesis\n",
    "    v = list(df)\n",
    "    empty = []\n",
    "    empty_1 = []\n",
    "    empty_2 = []\n",
    "    empty_3 = []\n",
    "    empty_4 = []\n",
    "    itertools_combinations = list(itertools.combinations(v, 2)) #finds every possible combination of list(df)\n",
    "    for i in itertools_combinations:\n",
    "        empty_1.append(i[0])\n",
    "        empty_2.append(i[1])\n",
    "        \n",
    "    total_number_of_combinations = len(empty_1)\n",
    "    \n",
    "    for t in range(len(itertools_combinations)):\n",
    "        empty.append(itertools_combinations[t])\n",
    "        \n",
    "    for value in range(len(empty_1)):\n",
    "        empty_3.append(value)\n",
    "        \n",
    "    for x,y,i,j in zip(empty_1, empty_2, empty, empty_3):\n",
    "        chisquare = chi_square(X=x, Y=y, Z=[], data=df, significance_level=0.05, boolean=False) #returns chi, p_value, dof\n",
    "        empty_4.append([j, i , chisquare])\n",
    "        \n",
    "    return empty_4\n"
   ]
  },
  {
   "cell_type": "code",
   "execution_count": 7,
   "id": "a4098207",
   "metadata": {},
   "outputs": [],
   "source": [
    "#tests whether x is independent of y given a single variable z \n",
    "def chi2condbool(df):\n",
    "    test_list_0 = []\n",
    "    test_list_1 = []\n",
    "    test_list_2 = []\n",
    "    chi2 = []\n",
    "    v = list(df)\n",
    "    combine = list(itertools.combinations(v, 3)) #nC3 \n",
    "    for i in combine:\n",
    "        test_list_0.append(i[0])\n",
    "        test_list_1.append(i[1])\n",
    "        test_list_2.append(i[2])\n",
    "    for a,b,c in zip(test_list_0, test_list_1, test_list_2):\n",
    "        chisquare = chi_square(X=a, Y=b, Z=[c], data=df, significance_level=0.05, boolean=True)\n",
    "        chi2.append([a,b,c,chisquare])\n",
    "    return chi2"
   ]
  },
  {
   "cell_type": "code",
   "execution_count": 8,
   "id": "7db6413c",
   "metadata": {},
   "outputs": [],
   "source": [
    "#tests whether x is independent of y given a single variable z \n",
    "def chi2condval(df):\n",
    "    test_list_0 = []\n",
    "    test_list_1 = []\n",
    "    test_list_2 = []\n",
    "    chi2 = []\n",
    "    v = list(df)\n",
    "    combine = list(itertools.combinations(v, 3)) #nC3 \n",
    "    for i in combine:\n",
    "        test_list_0.append(i[0])\n",
    "        test_list_1.append(i[1])\n",
    "        test_list_2.append(i[2])\n",
    "    for a,b,c in zip(test_list_0, test_list_1, test_list_2):\n",
    "        chisquare = chi_square(X=a, Y=b, Z=[c], data=df, significance_level=0.05, boolean=False)\n",
    "        chi2.append([a,b,c,chisquare])\n",
    "    return chi2"
   ]
  },
  {
   "cell_type": "markdown",
   "id": "6f8c06d0",
   "metadata": {},
   "source": [
    "### log-likelihood tests"
   ]
  },
  {
   "cell_type": "code",
   "execution_count": 8,
   "id": "84bb6fb8",
   "metadata": {},
   "outputs": [],
   "source": [
    "def g2val(df):\n",
    "#returns a tuple(chi2, p_value, dof) if boolean = false\n",
    "#the null hypothesis is that they are independent of each other\n",
    "#if true, the p_value is higher than the significance test, we do not reject the null hypothesis\n",
    "#if false, the p_value is lower than the significance test, we reject the null hypothesis\n",
    "    v = list(df)\n",
    "    empty = []\n",
    "    empty_1 = []\n",
    "    empty_2 = []\n",
    "    empty_3 = []\n",
    "    empty_4 = []\n",
    "    itertools_combinations = list(itertools.combinations(v, 2)) #finds every possible combination of list(df)\n",
    "    for i in itertools_combinations:\n",
    "        empty_1.append(i[0])\n",
    "        empty_2.append(i[1])\n",
    "        \n",
    "    total_number_of_combinations = len(empty_1)\n",
    "    \n",
    "    for t in range(len(itertools_combinations)):\n",
    "        empty.append(itertools_combinations[t])\n",
    "        \n",
    "    for value in range(len(empty_1)):\n",
    "        empty_3.append(value)\n",
    "        \n",
    "    for x,y,i,j in zip(empty_1, empty_2, empty, empty_3):\n",
    "        g2 = log_likelihood(X=x, Y=y, Z=[], significance_level=0.05, boolean=True, data=df) \n",
    "        empty_4.append([j, i , g2])\n",
    "        \n",
    "    return empty_4"
   ]
  },
  {
   "cell_type": "markdown",
   "id": "b35f91ef",
   "metadata": {},
   "source": [
    "### Sorting Functions"
   ]
  },
  {
   "cell_type": "code",
   "execution_count": 1,
   "id": "6a876f12",
   "metadata": {},
   "outputs": [],
   "source": [
    "def sortReturn(data):\n",
    "    #just a sorting function\n",
    "    true_list = []\n",
    "    false_list = []\n",
    "    for i in data:\n",
    "        if True in i:\n",
    "            true_list.append(i)\n",
    "        if False in i:\n",
    "            false_list.append(i)\n",
    "    return true_list, false_list"
   ]
  },
  {
   "cell_type": "code",
   "execution_count": 1,
   "id": "8983b37c",
   "metadata": {},
   "outputs": [],
   "source": [
    "#returns a list with a tuple of combinations of false\n",
    "def false2tuple(data):\n",
    "    empty = []\n",
    "    false_list_of_tuples = []\n",
    "    new_df = pd.DataFrame(data)\n",
    "    newer_df = new_df[1]\n",
    "    return newer_df"
   ]
  }
 ],
 "metadata": {
  "kernelspec": {
   "display_name": "Python 3 (ipykernel)",
   "language": "python",
   "name": "python3"
  },
  "language_info": {
   "codemirror_mode": {
    "name": "ipython",
    "version": 3
   },
   "file_extension": ".py",
   "mimetype": "text/x-python",
   "name": "python",
   "nbconvert_exporter": "python",
   "pygments_lexer": "ipython3",
   "version": "3.8.8"
  }
 },
 "nbformat": 4,
 "nbformat_minor": 5
}
