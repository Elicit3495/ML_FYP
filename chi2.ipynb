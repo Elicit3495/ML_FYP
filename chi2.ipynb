{
 "cells": [
  {
   "cell_type": "code",
   "execution_count": 8,
   "id": "673349c5",
   "metadata": {},
   "outputs": [],
   "source": [
    "import pandas as pd\n",
    "import numpy as np\n",
    "import itertools"
   ]
  },
  {
   "cell_type": "code",
   "execution_count": 1,
   "id": "83232557",
   "metadata": {},
   "outputs": [
    {
     "name": "stdout",
     "output_type": "stream",
     "text": [
      "4\n"
     ]
    }
   ],
   "source": [
    "print(1+1+2)"
   ]
  },
  {
   "cell_type": "code",
   "execution_count": 3,
   "id": "24117f6b",
   "metadata": {},
   "outputs": [
    {
     "name": "stdout",
     "output_type": "stream",
     "text": [
      "hello world\n"
     ]
    }
   ],
   "source": [
    "print(\"hello world\")"
   ]
  },
  {
   "cell_type": "code",
   "execution_count": 4,
   "id": "e4812f64",
   "metadata": {},
   "outputs": [],
   "source": [
    "v = [123,32,424,324,312,341234123,412]"
   ]
  },
  {
   "cell_type": "code",
   "execution_count": 9,
   "id": "b0ed005a",
   "metadata": {},
   "outputs": [],
   "source": [
    "k = list(itertools.combinations(v, 2))"
   ]
  },
  {
   "cell_type": "code",
   "execution_count": 13,
   "id": "03e056c6",
   "metadata": {},
   "outputs": [],
   "source": [
    "def helloworld():\n",
    "    return('hello world!!!!!')"
   ]
  },
  {
   "cell_type": "code",
   "execution_count": 14,
   "id": "d25e4a97",
   "metadata": {},
   "outputs": [
    {
     "data": {
      "text/plain": [
       "'hello world!'"
      ]
     },
     "execution_count": 14,
     "metadata": {},
     "output_type": "execute_result"
    }
   ],
   "source": [
    "helloworld()"
   ]
  },
  {
   "cell_type": "code",
   "execution_count": 15,
   "id": "f2a33f0c",
   "metadata": {},
   "outputs": [],
   "source": [
    "def noworld():\n",
    "    print('no world')"
   ]
  },
  {
   "cell_type": "code",
   "execution_count": 17,
   "id": "26c21865",
   "metadata": {},
   "outputs": [
    {
     "name": "stdout",
     "output_type": "stream",
     "text": [
      "no world\n"
     ]
    }
   ],
   "source": [
    "noworld()"
   ]
  },
  {
   "cell_type": "code",
   "execution_count": null,
   "id": "d4ab8867",
   "metadata": {},
   "outputs": [],
   "source": []
  }
 ],
 "metadata": {
  "kernelspec": {
   "display_name": "Python 3 (ipykernel)",
   "language": "python",
   "name": "python3"
  },
  "language_info": {
   "codemirror_mode": {
    "name": "ipython",
    "version": 3
   },
   "file_extension": ".py",
   "mimetype": "text/x-python",
   "name": "python",
   "nbconvert_exporter": "python",
   "pygments_lexer": "ipython3",
   "version": "3.8.8"
  },
  "vscode": {
   "interpreter": {
    "hash": "2a8dfe095fce2b5e88c64a2c3ee084c8e0e0d70b23e7b95b1cfb538be294c5c8"
   }
  }
 },
 "nbformat": 4,
 "nbformat_minor": 5
}
