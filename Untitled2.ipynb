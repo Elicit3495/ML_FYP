{
 "cells": [
  {
   "cell_type": "code",
   "execution_count": 1,
   "id": "befa65c0",
   "metadata": {},
   "outputs": [
    {
     "ename": "SyntaxError",
     "evalue": "positional argument follows keyword argument (conditional.py, line 176)",
     "output_type": "error",
     "traceback": [
      "Traceback \u001b[1;36m(most recent call last)\u001b[0m:\n",
      "\u001b[0m  File \u001b[0;32m~\\anaconda3\\lib\\site-packages\\IPython\\core\\interactiveshell.py:3433\u001b[0m in \u001b[0;35mrun_code\u001b[0m\n    exec(code_obj, self.user_global_ns, self.user_ns)\u001b[0m\n",
      "\u001b[1;36m  Cell \u001b[1;32mIn [1], line 5\u001b[1;36m\n\u001b[1;33m    from conditional import *\u001b[1;36m\n",
      "\u001b[1;36m  File \u001b[1;32m~\\Documents\\GitHub\\ML_FYP\\conditional.py:176\u001b[1;36m\u001b[0m\n\u001b[1;33m    ind_match = independence_match(X=x, Y=y, Z=[], independencies = x, y , data=df) #returns chi, p_value, dof\u001b[0m\n\u001b[1;37m                                                                       ^\u001b[0m\n\u001b[1;31mSyntaxError\u001b[0m\u001b[1;31m:\u001b[0m positional argument follows keyword argument\n"
     ]
    }
   ],
   "source": [
    "from pygobnilp.gobnilp import Gobnilp\n",
    "import pandas as pd\n",
    "import numpy as np\n",
    "from pgmpy.estimators.CITests import chi_square\n",
    "from conditional import *\n",
    "from gurobipy import *\n",
    "import re\n",
    "import keyword"
   ]
  },
  {
   "cell_type": "code",
   "execution_count": null,
   "id": "0f69d54f",
   "metadata": {},
   "outputs": [],
   "source": [
    "df = csv_format_discrete(r\"C:\\Users\\User\\Documents\\GitHub\\ML_FYP\\dataset\\discrete.dat\")"
   ]
  },
  {
   "cell_type": "code",
   "execution_count": null,
   "id": "674e54bc",
   "metadata": {},
   "outputs": [],
   "source": [
    "ind2bool(df)"
   ]
  },
  {
   "cell_type": "code",
   "execution_count": null,
   "id": "3aff3a5a",
   "metadata": {},
   "outputs": [],
   "source": [
    "chi2bool(df)"
   ]
  },
  {
   "cell_type": "code",
   "execution_count": null,
   "id": "cf62e0a7",
   "metadata": {},
   "outputs": [],
   "source": [
    "chi2val(df)"
   ]
  },
  {
   "cell_type": "code",
   "execution_count": null,
   "id": "7c50230e",
   "metadata": {},
   "outputs": [],
   "source": [
    "true_values = chi2return(df)[0]\n",
    "false_values = chi2return(df)[1]\n",
    "true_df = pd.DataFrame(true_values)"
   ]
  },
  {
   "cell_type": "code",
   "execution_count": null,
   "id": "dcbe4476",
   "metadata": {},
   "outputs": [],
   "source": [
    "true_df"
   ]
  },
  {
   "cell_type": "code",
   "execution_count": null,
   "id": "615187f8",
   "metadata": {},
   "outputs": [],
   "source": [
    "false_df = pd.DataFrame(false_values)"
   ]
  },
  {
   "cell_type": "code",
   "execution_count": null,
   "id": "b9da202a",
   "metadata": {},
   "outputs": [],
   "source": [
    "false_df[1]\n"
   ]
  },
  {
   "cell_type": "code",
   "execution_count": null,
   "id": "d047128c",
   "metadata": {},
   "outputs": [],
   "source": []
  },
  {
   "cell_type": "code",
   "execution_count": null,
   "id": "6c0806bd",
   "metadata": {},
   "outputs": [],
   "source": [
    "m = Gobnilp()"
   ]
  },
  {
   "cell_type": "code",
   "execution_count": null,
   "id": "787afab9",
   "metadata": {},
   "outputs": [],
   "source": [
    "m.learn(r\"C:\\Users\\User\\Documents\\GitHub\\ML_FYP\\dataset\\discrete.dat\")"
   ]
  },
  {
   "cell_type": "code",
   "execution_count": null,
   "id": "6fb85684",
   "metadata": {},
   "outputs": [],
   "source": [
    "false_empty"
   ]
  },
  {
   "cell_type": "code",
   "execution_count": null,
   "id": "9b05d334",
   "metadata": {},
   "outputs": [],
   "source": [
    "false_df[1]"
   ]
  },
  {
   "cell_type": "code",
   "execution_count": null,
   "id": "7691f05d",
   "metadata": {},
   "outputs": [],
   "source": [
    "# m.arrow['A','B'].ub = 0\n",
    "m.arrow['B','A'].ub = 0\n",
    "# m.arrow['A','D'].ub = 0\n",
    "m.arrow['D','A'].ub = 0\n",
    "# m.arrow['A','E'].ub = 0\n",
    "m.arrow['E','A'].ub = 0\n",
    "# m.arrow['B','D'].ub = 0\n",
    "m.arrow['D','B'].ub = 0\n",
    "# m.arrow['B','E'].ub = 0\n",
    "m.arrow['E','B'].ub = 0\n",
    "# m.arrow['C','D'].ub = 0\n",
    "# m.arrow['D','C'].ub = 0"
   ]
  },
  {
   "cell_type": "code",
   "execution_count": null,
   "id": "36e9bf12",
   "metadata": {},
   "outputs": [],
   "source": [
    "m.learn(start='MIP model')\n"
   ]
  },
  {
   "cell_type": "code",
   "execution_count": null,
   "id": "cef68cf6",
   "metadata": {},
   "outputs": [],
   "source": []
  },
  {
   "cell_type": "code",
   "execution_count": null,
   "id": "9b29b7d2",
   "metadata": {},
   "outputs": [],
   "source": []
  }
 ],
 "metadata": {
  "kernelspec": {
   "display_name": "Python 3 (ipykernel)",
   "language": "python",
   "name": "python3"
  },
  "language_info": {
   "codemirror_mode": {
    "name": "ipython",
    "version": 3
   },
   "file_extension": ".py",
   "mimetype": "text/x-python",
   "name": "python",
   "nbconvert_exporter": "python",
   "pygments_lexer": "ipython3",
   "version": "3.8.8"
  }
 },
 "nbformat": 4,
 "nbformat_minor": 5
}
