{
 "cells": [
  {
   "cell_type": "code",
   "execution_count": 1,
   "id": "5f6e539a",
   "metadata": {},
   "outputs": [],
   "source": [
    "#TODO: FIND MY CONSTRAINTS\n",
    "#TODO: BAYES FACTOR? http://www.ai.lab.uec.ac.jp/wp-content/uploads/2018/08/Constraint-based-learning-Bayesian-networks-using-Bayes-factor.pdf\n",
    "#TODO: RAI ALGORITHM https://www.jmlr.org/papers/volume10/yehezkel09a/yehezkel09a.pdf\n",
    "#TODO: VERY GOOD BOOK : https://scholarworks.umass.edu/cgi/viewcontent.cgi?article=1174&context=open_access_dissertations"
   ]
  },
  {
   "cell_type": "code",
   "execution_count": 2,
   "id": "848509b7",
   "metadata": {},
   "outputs": [],
   "source": [
    "from ipynb.fs.full.conditional import *"
   ]
  },
  {
   "cell_type": "code",
   "execution_count": 3,
   "id": "befa65c0",
   "metadata": {},
   "outputs": [],
   "source": [
    "from pygobnilp.gobnilp import Gobnilp\n",
    "import pandas as pd\n",
    "import numpy as np\n",
    "from pgmpy.estimators.CITests import chi_square\n",
    "from pgmpy.estimators import PC\n",
    "from conditional import *\n",
    "from gurobipy import *\n",
    "import random\n",
    "import re\n",
    "import keyword"
   ]
  },
  {
   "cell_type": "code",
   "execution_count": 5,
   "id": "0f69d54f",
   "metadata": {},
   "outputs": [
    {
     "data": {
      "text/html": [
       "<div>\n",
       "<style scoped>\n",
       "    .dataframe tbody tr th:only-of-type {\n",
       "        vertical-align: middle;\n",
       "    }\n",
       "\n",
       "    .dataframe tbody tr th {\n",
       "        vertical-align: top;\n",
       "    }\n",
       "\n",
       "    .dataframe thead th {\n",
       "        text-align: right;\n",
       "    }\n",
       "</style>\n",
       "<table border=\"1\" class=\"dataframe\">\n",
       "  <thead>\n",
       "    <tr style=\"text-align: right;\">\n",
       "      <th></th>\n",
       "      <th>A</th>\n",
       "      <th>B</th>\n",
       "      <th>C</th>\n",
       "      <th>D</th>\n",
       "      <th>E</th>\n",
       "      <th>F</th>\n",
       "    </tr>\n",
       "  </thead>\n",
       "  <tbody>\n",
       "    <tr>\n",
       "      <th>1</th>\n",
       "      <td>b</td>\n",
       "      <td>c</td>\n",
       "      <td>b</td>\n",
       "      <td>a</td>\n",
       "      <td>b</td>\n",
       "      <td>b</td>\n",
       "    </tr>\n",
       "    <tr>\n",
       "      <th>2</th>\n",
       "      <td>b</td>\n",
       "      <td>a</td>\n",
       "      <td>c</td>\n",
       "      <td>a</td>\n",
       "      <td>b</td>\n",
       "      <td>b</td>\n",
       "    </tr>\n",
       "    <tr>\n",
       "      <th>3</th>\n",
       "      <td>a</td>\n",
       "      <td>a</td>\n",
       "      <td>a</td>\n",
       "      <td>a</td>\n",
       "      <td>a</td>\n",
       "      <td>a</td>\n",
       "    </tr>\n",
       "    <tr>\n",
       "      <th>4</th>\n",
       "      <td>a</td>\n",
       "      <td>a</td>\n",
       "      <td>a</td>\n",
       "      <td>a</td>\n",
       "      <td>b</td>\n",
       "      <td>b</td>\n",
       "    </tr>\n",
       "    <tr>\n",
       "      <th>5</th>\n",
       "      <td>a</td>\n",
       "      <td>a</td>\n",
       "      <td>b</td>\n",
       "      <td>c</td>\n",
       "      <td>a</td>\n",
       "      <td>a</td>\n",
       "    </tr>\n",
       "    <tr>\n",
       "      <th>...</th>\n",
       "      <td>...</td>\n",
       "      <td>...</td>\n",
       "      <td>...</td>\n",
       "      <td>...</td>\n",
       "      <td>...</td>\n",
       "      <td>...</td>\n",
       "    </tr>\n",
       "    <tr>\n",
       "      <th>4996</th>\n",
       "      <td>a</td>\n",
       "      <td>a</td>\n",
       "      <td>a</td>\n",
       "      <td>a</td>\n",
       "      <td>a</td>\n",
       "      <td>a</td>\n",
       "    </tr>\n",
       "    <tr>\n",
       "      <th>4997</th>\n",
       "      <td>c</td>\n",
       "      <td>c</td>\n",
       "      <td>b</td>\n",
       "      <td>b</td>\n",
       "      <td>c</td>\n",
       "      <td>a</td>\n",
       "    </tr>\n",
       "    <tr>\n",
       "      <th>4998</th>\n",
       "      <td>b</td>\n",
       "      <td>b</td>\n",
       "      <td>a</td>\n",
       "      <td>b</td>\n",
       "      <td>c</td>\n",
       "      <td>b</td>\n",
       "    </tr>\n",
       "    <tr>\n",
       "      <th>4999</th>\n",
       "      <td>a</td>\n",
       "      <td>c</td>\n",
       "      <td>b</td>\n",
       "      <td>c</td>\n",
       "      <td>c</td>\n",
       "      <td>a</td>\n",
       "    </tr>\n",
       "    <tr>\n",
       "      <th>5000</th>\n",
       "      <td>a</td>\n",
       "      <td>a</td>\n",
       "      <td>a</td>\n",
       "      <td>a</td>\n",
       "      <td>b</td>\n",
       "      <td>b</td>\n",
       "    </tr>\n",
       "  </tbody>\n",
       "</table>\n",
       "<p>5000 rows × 6 columns</p>\n",
       "</div>"
      ],
      "text/plain": [
       "      A  B  C  D  E  F\n",
       "1     b  c  b  a  b  b\n",
       "2     b  a  c  a  b  b\n",
       "3     a  a  a  a  a  a\n",
       "4     a  a  a  a  b  b\n",
       "5     a  a  b  c  a  a\n",
       "...  .. .. .. .. .. ..\n",
       "4996  a  a  a  a  a  a\n",
       "4997  c  c  b  b  c  a\n",
       "4998  b  b  a  b  c  b\n",
       "4999  a  c  b  c  c  a\n",
       "5000  a  a  a  a  b  b\n",
       "\n",
       "[5000 rows x 6 columns]"
      ]
     },
     "execution_count": 5,
     "metadata": {},
     "output_type": "execute_result"
    }
   ],
   "source": [
    "df = csv_format_discrete(r\"C:\\Users\\User\\Documents\\GitHub\\ML_FYP\\dataset\\discrete.dat\")\n",
    "df"
   ]
  },
  {
   "cell_type": "code",
   "execution_count": 9,
   "id": "b632231b",
   "metadata": {},
   "outputs": [
    {
     "data": {
      "text/plain": [
       "[[0, ('A', 'B'), False],\n",
       " [1, ('A', 'C'), True],\n",
       " [2, ('A', 'D'), False],\n",
       " [3, ('A', 'E'), False],\n",
       " [4, ('A', 'F'), True],\n",
       " [5, ('B', 'C'), True],\n",
       " [6, ('B', 'D'), False],\n",
       " [7, ('B', 'E'), False],\n",
       " [8, ('B', 'F'), True],\n",
       " [9, ('C', 'D'), False],\n",
       " [10, ('C', 'E'), True],\n",
       " [11, ('C', 'F'), True],\n",
       " [12, ('D', 'E'), False],\n",
       " [13, ('D', 'F'), True],\n",
       " [14, ('E', 'F'), False]]"
      ]
     },
     "execution_count": 9,
     "metadata": {},
     "output_type": "execute_result"
    }
   ],
   "source": [
    "chi2bool(df)"
   ]
  },
  {
   "cell_type": "code",
   "execution_count": 8,
   "id": "efeab701",
   "metadata": {},
   "outputs": [
    {
     "data": {
      "text/plain": [
       "[[0, ('A', 'B'), (2208.197054358983, 0.0, 4)],\n",
       " [1, ('A', 'C'), (1.310622172744716, 0.8595707625814706, 4)],\n",
       " [2, ('A', 'D'), (2346.899219222241, 0.0, 4)],\n",
       " [3, ('A', 'E'), (452.5023204514049, 1.2499012401015006e-96, 4)],\n",
       " [4, ('A', 'F'), (1.3007747794162707, 0.5218435807667757, 2)],\n",
       " [5, ('B', 'C'), (6.791865342742407, 0.14730456706043082, 4)],\n",
       " [6, ('B', 'D'), (497.86489263384703, 1.9401478995692028e-106, 4)],\n",
       " [7, ('B', 'E'), (1173.198799923187, 1.0284871087858734e-252, 4)],\n",
       " [8, ('B', 'F'), (3.6702683192119543, 0.15959208951997367, 2)],\n",
       " [9, ('C', 'D'), (58.74386254047826, 5.3260438156612714e-12, 4)],\n",
       " [10, ('C', 'E'), (3.510638287409232, 0.47626261429954286, 4)],\n",
       " [11, ('C', 'F'), (1.98312025893184, 0.37099743525202333, 2)],\n",
       " [12, ('D', 'E'), (87.69885357931987, 4.0568860316351676e-18, 4)],\n",
       " [13, ('D', 'F'), (0.2334788415377772, 0.8898170307937778, 2)],\n",
       " [14, ('E', 'F'), (856.5782039960885, 9.917594399537517e-187, 2)]]"
      ]
     },
     "execution_count": 8,
     "metadata": {},
     "output_type": "execute_result"
    }
   ],
   "source": [
    "chi2val(df)"
   ]
  },
  {
   "cell_type": "code",
   "execution_count": 26,
   "id": "646a9697",
   "metadata": {},
   "outputs": [
    {
     "data": {
      "text/plain": [
       "True"
      ]
     },
     "execution_count": 26,
     "metadata": {},
     "output_type": "execute_result"
    }
   ],
   "source": [
    "chisquare = chi_square(X='One', Y='Two', Z=['Three',  'Six'], data=df, significance_level=0.05, boolean=True)\n",
    "chisquare"
   ]
  },
  {
   "cell_type": "code",
   "execution_count": 5,
   "id": "4a948c27",
   "metadata": {},
   "outputs": [
    {
     "data": {
      "text/plain": [
       "132"
      ]
     },
     "execution_count": 5,
     "metadata": {},
     "output_type": "execute_result"
    }
   ],
   "source": [
    "len(g2return(df))"
   ]
  },
  {
   "cell_type": "code",
   "execution_count": 6,
   "id": "10941a2d",
   "metadata": {},
   "outputs": [
    {
     "data": {
      "text/plain": [
       "146"
      ]
     },
     "execution_count": 6,
     "metadata": {},
     "output_type": "execute_result"
    }
   ],
   "source": [
    "len(chi2return(df))"
   ]
  },
  {
   "cell_type": "code",
   "execution_count": 7,
   "id": "fbf97715",
   "metadata": {},
   "outputs": [],
   "source": [
    "#returns a list with a tuple of combinations of false\n",
    "def false2tuple(df):\n",
    "    empty = []\n",
    "    false_list_of_tuples = []\n",
    "    new_df = pd.DataFrame(chi2return(df))\n",
    "    newer_df = new_df[1]\n",
    "    return newer_df"
   ]
  },
  {
   "cell_type": "code",
   "execution_count": 8,
   "id": "63d93b80",
   "metadata": {},
   "outputs": [],
   "source": [
    "#returns a list with a tuple of combinations of false\n",
    "def g2tuple(df):\n",
    "    empty = []\n",
    "    false_list_of_tuples = []\n",
    "    new_df = pd.DataFrame(g2return(df))\n",
    "    newer_df = new_df[1]\n",
    "    return newer_df"
   ]
  },
  {
   "cell_type": "code",
   "execution_count": null,
   "id": "3aff3a5a",
   "metadata": {},
   "outputs": [],
   "source": []
  },
  {
   "cell_type": "code",
   "execution_count": 11,
   "id": "6c0806bd",
   "metadata": {
    "scrolled": true
   },
   "outputs": [
    {
     "name": "stdout",
     "output_type": "stream",
     "text": [
      "Set parameter Username\n",
      "Academic license - for non-commercial use only - expires 2024-01-21\n",
      "Set parameter PreCrush to value 1\n",
      "Set parameter CutPasses to value 100000\n",
      "Set parameter GomoryPasses to value 100000\n",
      "Set parameter MIPFocus to value 2\n",
      "Set parameter ZeroHalfCuts to value 2\n",
      "Set parameter MIPGap to value 0\n",
      "Set parameter MIPGapAbs to value 0\n"
     ]
    }
   ],
   "source": [
    "m = Gobnilp()"
   ]
  },
  {
   "cell_type": "code",
   "execution_count": 13,
   "id": "787afab9",
   "metadata": {},
   "outputs": [
    {
     "name": "stdout",
     "output_type": "stream",
     "text": [
      "**********\n",
      "BN has score -1349.2274186560155\n",
      "**********\n",
      "Eight<-Six -48.02288071683779\n",
      "Six<- -69.10334937651754\n",
      "Eighteen<- -114.84864901676843\n",
      "Eleven<-Four,Nine,One -44.97911452065159\n",
      "Four<-One,Ten -21.730285019156838\n",
      "Nine<-Eight -54.45803624535705\n",
      "One<-Eight,Ten -4.268261513555785\n",
      "Fifteen<- -37.18499768682693\n",
      "Five<-Six,Thirteen,TwentyThree -20.200035333237963\n",
      "TwentyThree<-Seventeen,ThirtySix,TwentySeven -48.97474871711532\n",
      "Thirteen<-Eleven,TwentyOne,TwentyTwo -18.001271852931694\n",
      "Ten<- -30.411803457824988\n",
      "Fourteen<-Ten,Thirteen,TwentyFour -16.161465581650788\n",
      "TwentyFour<-TwentyFive,TwentySeven -6.517130360384158\n",
      "Nineteen<-Eighteen,One,Sixteen -17.5534622356339\n",
      "Sixteen<-Eleven -29.91614912557563\n",
      "Seven<-Eight,Six,TwentyEight -14.504697864948241\n",
      "TwentyEight<-Twenty,TwentySeven -42.5552595253985\n",
      "Seventeen<-Eighteen -17.0741477185569\n",
      "TwentyTwo<-Three,Twenty -45.66257131044179\n",
      "TwentyOne<-Nineteen,TwentyTwo -9.148246913140895\n",
      "Thirty<-Nine,Sixteen -16.91092107259027\n",
      "ThirtyFive<-TwentyFour -8.854156559370722\n",
      "ThirtyFour<-Four,Nine -53.777085588556844\n",
      "ThirtyOne<-Eighteen,Two -27.56942704618848\n",
      "Two<-One -36.238147081066415\n",
      "ThirtySeven<-Fifteen,TwentyFive -15.983950822810584\n",
      "TwentyFive<-TwentyThree -63.03618865394526\n",
      "ThirtySix<-Twenty,TwentyOne -30.133653048320838\n",
      "Twenty<-Nineteen -43.908590528323714\n",
      "ThirtyThree<-ThirtyOne,Twenty -11.198524437525748\n",
      "ThirtyTwo<-Eight,One -101.57169857709218\n",
      "Three<-Seventeen,TwentyNine -14.42224493077498\n",
      "TwentyNine<-Eighteen,Fifteen,TwentyEight -76.1106246610339\n",
      "Twelve<-TwentyOne -8.626510436124647\n",
      "TwentySeven<- -77.77939654290537\n",
      "TwentySix<-TwentyFive -51.82973457687305\n",
      "**********\n",
      "bnlearn modelstring = \n",
      "[Eight|Six][Six][Eighteen][Eleven|Four:Nine:One][Four|One:Ten][Nine|Eight][One|Eight:Ten][Fifteen][Five|TwentyThree:Six:Thirteen][TwentyThree|Seventeen:ThirtySix:TwentySeven][Thirteen|TwentyTwo:Eleven:TwentyOne][Ten][Fourteen|TwentyFour:Thirteen:Ten][TwentyFour|TwentyFive:TwentySeven][Nineteen|Eighteen:Sixteen:One][Sixteen|Eleven][Seven|Eight:TwentyEight:Six][TwentyEight|Twenty:TwentySeven][Seventeen|Eighteen][TwentyTwo|Twenty:Three][TwentyOne|TwentyTwo:Nineteen][Thirty|Nine:Sixteen][ThirtyFive|TwentyFour][ThirtyFour|Four:Nine][ThirtyOne|Two:Eighteen][Two|One][ThirtySeven|TwentyFive:Fifteen][TwentyFive|TwentyThree][ThirtySix|Twenty:TwentyOne][Twenty|Nineteen][ThirtyThree|ThirtyOne:Twenty][ThirtyTwo|Eight:One][Three|Seventeen:TwentyNine][TwentyNine|TwentyEight:Eighteen:Fifteen][Twelve|TwentyOne][TwentySeven][TwentySix|TwentyFive]\n",
      "**********\n",
      "CPDAG:\n",
      "Vertices: Eight,Six,Eighteen,Eleven,Four,Nine,One,Fifteen,Five,TwentyThree,Thirteen,Ten,Fourteen,TwentyFour,Nineteen,Sixteen,Seven,TwentyEight,Seventeen,TwentyTwo,TwentyOne,Thirty,ThirtyFive,ThirtyFour,ThirtyOne,Two,ThirtySeven,TwentyFive,ThirtySix,Twenty,ThirtyThree,ThirtyTwo,Three,TwentyNine,Twelve,TwentySeven,TwentySix\n",
      "Eight-Nine\n",
      "Eight->One\n",
      "Eight->Seven\n",
      "Eight->ThirtyTwo\n",
      "Six-Eight\n",
      "Six->Five\n",
      "Six->Seven\n",
      "Eighteen->Nineteen\n",
      "Eighteen-Seventeen\n",
      "Eighteen->ThirtyOne\n",
      "Eighteen->TwentyNine\n",
      "Eleven->Sixteen\n",
      "Eleven->Thirteen\n",
      "Four->Eleven\n",
      "Four->ThirtyFour\n",
      "Nine->Eleven\n",
      "Nine->Thirty\n",
      "Nine->ThirtyFour\n",
      "One->Eleven\n",
      "One->Four\n",
      "One->Nineteen\n",
      "One->ThirtyTwo\n",
      "One->Two\n",
      "Fifteen->ThirtySeven\n",
      "Fifteen->TwentyNine\n",
      "TwentyThree->Five\n",
      "TwentyThree->TwentyFive\n",
      "Thirteen->Five\n",
      "Thirteen->Fourteen\n",
      "Ten->Four\n",
      "Ten->Fourteen\n",
      "Ten->One\n",
      "TwentyFour->Fourteen\n",
      "TwentyFour->ThirtyFive\n",
      "Nineteen->Twenty\n",
      "Nineteen->TwentyOne\n",
      "Sixteen->Nineteen\n",
      "Sixteen->Thirty\n",
      "TwentyEight->Seven\n",
      "TwentyEight->TwentyNine\n",
      "Seventeen->Three\n",
      "Seventeen->TwentyThree\n",
      "TwentyTwo->Thirteen\n",
      "TwentyTwo->TwentyOne\n",
      "TwentyOne->Thirteen\n",
      "TwentyOne->ThirtySix\n",
      "TwentyOne->Twelve\n",
      "ThirtyOne->ThirtyThree\n",
      "Two->ThirtyOne\n",
      "TwentyFive->ThirtySeven\n",
      "TwentyFive->TwentyFour\n",
      "TwentyFive->TwentySix\n",
      "ThirtySix->TwentyThree\n",
      "Twenty->ThirtySix\n",
      "Twenty->ThirtyThree\n",
      "Twenty->TwentyEight\n",
      "Twenty->TwentyTwo\n",
      "Three->TwentyTwo\n",
      "TwentyNine->Three\n",
      "TwentySeven->TwentyEight\n",
      "TwentySeven->TwentyFour\n",
      "TwentySeven->TwentyThree\n",
      "\n"
     ]
    },
    {
     "data": {
      "image/png": "[encoded data removed]",
      "text/plain": [
       "<Figure size 640x480 with 1 Axes>"
      ]
     },
     "metadata": {},
     "output_type": "display_data"
    }
   ],
   "source": [
    "m.learn(r\"C:\\Users\\User\\Documents\\GitHub\\ML_FYP\\dataset\\alarm_100.dat\")"
   ]
  },
  {
   "cell_type": "code",
   "execution_count": 23,
   "id": "2df2f199",
   "metadata": {},
   "outputs": [
    {
     "ename": "AttributeError",
     "evalue": "'gurobipy.Model' object has no attribute 'cpdag_str'",
     "output_type": "error",
     "traceback": [
      "\u001b[1;31m---------------------------------------------------------------------------\u001b[0m",
      "\u001b[1;31mAttributeError\u001b[0m                            Traceback (most recent call last)",
      "Cell \u001b[1;32mIn [23], line 1\u001b[0m\n\u001b[1;32m----> 1\u001b[0m \u001b[43mm\u001b[49m\u001b[38;5;241;43m.\u001b[39;49m\u001b[43mcpdag_str\u001b[49m\n",
      "File \u001b[1;32msrc\\gurobipy\\model.pxi:354\u001b[0m, in \u001b[0;36mgurobipy.Model.__getattr__\u001b[1;34m()\u001b[0m\n",
      "File \u001b[1;32msrc\\gurobipy\\model.pxi:1902\u001b[0m, in \u001b[0;36mgurobipy.Model.getAttr\u001b[1;34m()\u001b[0m\n",
      "File \u001b[1;32msrc\\gurobipy\\attrutil.pxi:23\u001b[0m, in \u001b[0;36mgurobipy.__getattrinfo\u001b[1;34m()\u001b[0m\n",
      "\u001b[1;31mAttributeError\u001b[0m: 'gurobipy.Model' object has no attribute 'cpdag_str'"
     ]
    }
   ],
   "source": [
    "m."
   ]
  },
  {
   "cell_type": "code",
   "execution_count": 14,
   "id": "92e6ac82",
   "metadata": {},
   "outputs": [
    {
     "ename": "NameError",
     "evalue": "name 'false2tuple' is not defined",
     "output_type": "error",
     "traceback": [
      "\u001b[1;31m---------------------------------------------------------------------------\u001b[0m",
      "\u001b[1;31mNameError\u001b[0m                                 Traceback (most recent call last)",
      "Cell \u001b[1;32mIn [14], line 1\u001b[0m\n\u001b[1;32m----> 1\u001b[0m \u001b[38;5;28;01mfor\u001b[39;00m i,j \u001b[38;5;129;01min\u001b[39;00m \u001b[43mfalse2tuple\u001b[49m(df):\n\u001b[0;32m      2\u001b[0m     \u001b[38;5;28mprint\u001b[39m(i,j)\n",
      "\u001b[1;31mNameError\u001b[0m: name 'false2tuple' is not defined"
     ]
    }
   ],
   "source": [
    "for i,j in false2tuple(df):\n",
    "    print(i,j)"
   ]
  },
  {
   "cell_type": "code",
   "execution_count": null,
   "id": "6fb85684",
   "metadata": {},
   "outputs": [],
   "source": [
    "for i,j in g2tuple(df):\n",
    "    print(i,j)\n",
    "    m.add_forbidden_arrow(i,j)"
   ]
  },
  {
   "cell_type": "code",
   "execution_count": 15,
   "id": "c0a86332",
   "metadata": {},
   "outputs": [
    {
     "name": "stdout",
     "output_type": "stream",
     "text": [
      "**********\n",
      "BN has score -1349.2274186560155\n",
      "**********\n",
      "Eight<-Six -48.02288071683779\n",
      "Six<- -69.10334937651754\n",
      "Eighteen<- -114.84864901676843\n",
      "Eleven<-Four,Nine,One -44.97911452065159\n",
      "Four<-One,Ten -21.730285019156838\n",
      "Nine<-Eight -54.45803624535705\n",
      "One<-Eight,Ten -4.268261513555785\n",
      "Fifteen<- -37.18499768682693\n",
      "Five<-Six,Thirteen,TwentyThree -20.200035333237963\n",
      "TwentyThree<-Seventeen,ThirtySix,TwentySeven -48.97474871711532\n",
      "Thirteen<-Eleven,TwentyOne,TwentyTwo -18.001271852931694\n",
      "Ten<- -30.411803457824988\n",
      "Fourteen<-Ten,Thirteen,TwentyFour -16.161465581650788\n",
      "TwentyFour<-TwentyFive,TwentySeven -6.517130360384158\n",
      "Nineteen<-Eighteen,One,Sixteen -17.5534622356339\n",
      "Sixteen<-Eleven -29.91614912557563\n",
      "Seven<-Eight,Six,TwentyEight -14.504697864948241\n",
      "TwentyEight<-Twenty,TwentySeven -42.5552595253985\n",
      "Seventeen<-Eighteen -17.0741477185569\n",
      "TwentyTwo<-Three,Twenty -45.66257131044179\n",
      "TwentyOne<-Nineteen,TwentyTwo -9.148246913140895\n",
      "Thirty<-Nine,Sixteen -16.91092107259027\n",
      "ThirtyFive<-TwentyFour -8.854156559370722\n",
      "ThirtyFour<-Four,Nine -53.777085588556844\n",
      "ThirtyOne<-Eighteen,Two -27.56942704618848\n",
      "Two<-One -36.238147081066415\n",
      "ThirtySeven<-Fifteen,TwentyFive -15.983950822810584\n",
      "TwentyFive<-TwentyThree -63.03618865394526\n",
      "ThirtySix<-Twenty,TwentyOne -30.133653048320838\n",
      "Twenty<-Nineteen -43.908590528323714\n",
      "ThirtyThree<-ThirtyOne,Twenty -11.198524437525748\n",
      "ThirtyTwo<-Eight,One -101.57169857709218\n",
      "Three<-Seventeen,TwentyNine -14.42224493077498\n",
      "TwentyNine<-Eighteen,Fifteen,TwentyEight -76.1106246610339\n",
      "Twelve<-TwentyOne -8.626510436124647\n",
      "TwentySeven<- -77.77939654290537\n",
      "TwentySix<-TwentyFive -51.82973457687305\n",
      "**********\n",
      "bnlearn modelstring = \n",
      "[Eight|Six][Six][Eighteen][Eleven|Four:Nine:One][Four|One:Ten][Nine|Eight][One|Eight:Ten][Fifteen][Five|TwentyThree:Six:Thirteen][TwentyThree|Seventeen:ThirtySix:TwentySeven][Thirteen|TwentyTwo:Eleven:TwentyOne][Ten][Fourteen|TwentyFour:Thirteen:Ten][TwentyFour|TwentyFive:TwentySeven][Nineteen|Eighteen:Sixteen:One][Sixteen|Eleven][Seven|Eight:TwentyEight:Six][TwentyEight|Twenty:TwentySeven][Seventeen|Eighteen][TwentyTwo|Twenty:Three][TwentyOne|TwentyTwo:Nineteen][Thirty|Nine:Sixteen][ThirtyFive|TwentyFour][ThirtyFour|Four:Nine][ThirtyOne|Two:Eighteen][Two|One][ThirtySeven|TwentyFive:Fifteen][TwentyFive|TwentyThree][ThirtySix|Twenty:TwentyOne][Twenty|Nineteen][ThirtyThree|ThirtyOne:Twenty][ThirtyTwo|Eight:One][Three|Seventeen:TwentyNine][TwentyNine|TwentyEight:Eighteen:Fifteen][Twelve|TwentyOne][TwentySeven][TwentySix|TwentyFive]\n",
      "**********\n",
      "CPDAG:\n",
      "Vertices: Eight,Six,Eighteen,Eleven,Four,Nine,One,Fifteen,Five,TwentyThree,Thirteen,Ten,Fourteen,TwentyFour,Nineteen,Sixteen,Seven,TwentyEight,Seventeen,TwentyTwo,TwentyOne,Thirty,ThirtyFive,ThirtyFour,ThirtyOne,Two,ThirtySeven,TwentyFive,ThirtySix,Twenty,ThirtyThree,ThirtyTwo,Three,TwentyNine,Twelve,TwentySeven,TwentySix\n",
      "Eight-Nine\n",
      "Eight->One\n",
      "Eight->Seven\n",
      "Eight->ThirtyTwo\n",
      "Six-Eight\n",
      "Six->Five\n",
      "Six->Seven\n",
      "Eighteen->Nineteen\n",
      "Eighteen-Seventeen\n",
      "Eighteen->ThirtyOne\n",
      "Eighteen->TwentyNine\n",
      "Eleven->Sixteen\n",
      "Eleven->Thirteen\n",
      "Four->Eleven\n",
      "Four->ThirtyFour\n",
      "Nine->Eleven\n",
      "Nine->Thirty\n",
      "Nine->ThirtyFour\n",
      "One->Eleven\n",
      "One->Four\n",
      "One->Nineteen\n",
      "One->ThirtyTwo\n",
      "One->Two\n",
      "Fifteen->ThirtySeven\n",
      "Fifteen->TwentyNine\n",
      "TwentyThree->Five\n",
      "TwentyThree->TwentyFive\n",
      "Thirteen->Five\n",
      "Thirteen->Fourteen\n",
      "Ten->Four\n",
      "Ten->Fourteen\n",
      "Ten->One\n",
      "TwentyFour->Fourteen\n",
      "TwentyFour->ThirtyFive\n",
      "Nineteen->Twenty\n",
      "Nineteen->TwentyOne\n",
      "Sixteen->Nineteen\n",
      "Sixteen->Thirty\n",
      "TwentyEight->Seven\n",
      "TwentyEight->TwentyNine\n",
      "Seventeen->Three\n",
      "Seventeen->TwentyThree\n",
      "TwentyTwo->Thirteen\n",
      "TwentyTwo->TwentyOne\n",
      "TwentyOne->Thirteen\n",
      "TwentyOne->ThirtySix\n",
      "TwentyOne->Twelve\n",
      "ThirtyOne->ThirtyThree\n",
      "Two->ThirtyOne\n",
      "TwentyFive->ThirtySeven\n",
      "TwentyFive->TwentyFour\n",
      "TwentyFive->TwentySix\n",
      "ThirtySix->TwentyThree\n",
      "Twenty->ThirtySix\n",
      "Twenty->ThirtyThree\n",
      "Twenty->TwentyEight\n",
      "Twenty->TwentyTwo\n",
      "Three->TwentyTwo\n",
      "TwentyNine->Three\n",
      "TwentySeven->TwentyEight\n",
      "TwentySeven->TwentyFour\n",
      "TwentySeven->TwentyThree\n",
      "\n"
     ]
    },
    {
     "data": {
      "image/png": "[encoded data removed]",
      "text/plain": [
       "<Figure size 640x480 with 1 Axes>"
      ]
     },
     "metadata": {},
     "output_type": "display_data"
    }
   ],
   "source": [
    "m.learn(start='MIP model')"
   ]
  },
  {
   "cell_type": "code",
   "execution_count": null,
   "id": "5e925d79",
   "metadata": {},
   "outputs": [],
   "source": [
    "m."
   ]
  }
 ],
 "metadata": {
  "kernelspec": {
   "display_name": "Python 3 (ipykernel)",
   "language": "python",
   "name": "python3"
  },
  "language_info": {
   "codemirror_mode": {
    "name": "ipython",
    "version": 3
   },
   "file_extension": ".py",
   "mimetype": "text/x-python",
   "name": "python",
   "nbconvert_exporter": "python",
   "pygments_lexer": "ipython3",
   "version": "3.8.8"
  }
 },
 "nbformat": 4,
 "nbformat_minor": 5
}
