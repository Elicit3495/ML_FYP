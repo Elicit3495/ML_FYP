{
 "cells": [
  {
   "cell_type": "code",
   "execution_count": 138,
   "id": "673349c5",
   "metadata": {},
   "outputs": [],
   "source": [
    "import pandas as pd\n",
    "import numpy as np\n",
    "import itertools\n",
    "from scipy.stats import chi2_contingency\n",
    "from conditional import csv_format_discrete"
   ]
  },
  {
   "cell_type": "code",
   "execution_count": 9,
   "id": "3295db86",
   "metadata": {},
   "outputs": [],
   "source": [
    "df = csv_format_discrete(r\"C:\\Users\\User\\Documents\\GitHub\\ML_FYP\\dataset\\test_2.dat\")"
   ]
  },
  {
   "cell_type": "code",
   "execution_count": 10,
   "id": "0b524821",
   "metadata": {},
   "outputs": [
    {
     "data": {
      "text/html": [
       "<div>\n",
       "<style scoped>\n",
       "    .dataframe tbody tr th:only-of-type {\n",
       "        vertical-align: middle;\n",
       "    }\n",
       "\n",
       "    .dataframe tbody tr th {\n",
       "        vertical-align: top;\n",
       "    }\n",
       "\n",
       "    .dataframe thead th {\n",
       "        text-align: right;\n",
       "    }\n",
       "</style>\n",
       "<table border=\"1\" class=\"dataframe\">\n",
       "  <thead>\n",
       "    <tr style=\"text-align: right;\">\n",
       "      <th></th>\n",
       "      <th>A</th>\n",
       "      <th>B</th>\n",
       "      <th>C</th>\n",
       "      <th>D</th>\n",
       "      <th>E</th>\n",
       "    </tr>\n",
       "  </thead>\n",
       "  <tbody>\n",
       "    <tr>\n",
       "      <th>1</th>\n",
       "      <td>3</td>\n",
       "      <td>1</td>\n",
       "      <td>2</td>\n",
       "      <td>3</td>\n",
       "      <td>1</td>\n",
       "    </tr>\n",
       "    <tr>\n",
       "      <th>2</th>\n",
       "      <td>0</td>\n",
       "      <td>2</td>\n",
       "      <td>3</td>\n",
       "      <td>2</td>\n",
       "      <td>2</td>\n",
       "    </tr>\n",
       "    <tr>\n",
       "      <th>3</th>\n",
       "      <td>0</td>\n",
       "      <td>2</td>\n",
       "      <td>3</td>\n",
       "      <td>4</td>\n",
       "      <td>3</td>\n",
       "    </tr>\n",
       "    <tr>\n",
       "      <th>4</th>\n",
       "      <td>1</td>\n",
       "      <td>2</td>\n",
       "      <td>2</td>\n",
       "      <td>3</td>\n",
       "      <td>0</td>\n",
       "    </tr>\n",
       "    <tr>\n",
       "      <th>5</th>\n",
       "      <td>3</td>\n",
       "      <td>2</td>\n",
       "      <td>3</td>\n",
       "      <td>4</td>\n",
       "      <td>0</td>\n",
       "    </tr>\n",
       "    <tr>\n",
       "      <th>6</th>\n",
       "      <td>1</td>\n",
       "      <td>1</td>\n",
       "      <td>3</td>\n",
       "      <td>4</td>\n",
       "      <td>4</td>\n",
       "    </tr>\n",
       "    <tr>\n",
       "      <th>7</th>\n",
       "      <td>2</td>\n",
       "      <td>1</td>\n",
       "      <td>1</td>\n",
       "      <td>3</td>\n",
       "      <td>4</td>\n",
       "    </tr>\n",
       "    <tr>\n",
       "      <th>8</th>\n",
       "      <td>2</td>\n",
       "      <td>0</td>\n",
       "      <td>2</td>\n",
       "      <td>0</td>\n",
       "      <td>2</td>\n",
       "    </tr>\n",
       "  </tbody>\n",
       "</table>\n",
       "</div>"
      ],
      "text/plain": [
       "   A  B  C  D  E\n",
       "1  3  1  2  3  1\n",
       "2  0  2  3  2  2\n",
       "3  0  2  3  4  3\n",
       "4  1  2  2  3  0\n",
       "5  3  2  3  4  0\n",
       "6  1  1  3  4  4\n",
       "7  2  1  1  3  4\n",
       "8  2  0  2  0  2"
      ]
     },
     "execution_count": 10,
     "metadata": {},
     "output_type": "execute_result"
    }
   ],
   "source": [
    "df"
   ]
  },
  {
   "cell_type": "code",
   "execution_count": 17,
   "id": "42098a91",
   "metadata": {},
   "outputs": [],
   "source": [
    "#takes in a pandas dataframe, collects each column of the dataframe and combine it into a list\n",
    "def split_(df):\n",
    "    v = list(df)\n",
    "    empty_0 = []\n",
    "    for i in list(df):\n",
    "        column_of_array = df[i].to_numpy()\n",
    "        empty_0.append(column_of_array)\n",
    "    return empty_0"
   ]
  },
  {
   "cell_type": "code",
   "execution_count": 59,
   "id": "6033bebe",
   "metadata": {},
   "outputs": [],
   "source": [
    "#this function essentially obtains all the combinations of the splitted df\n",
    "def combinations_(df):\n",
    "    empty_1 = []\n",
    "    empty_2 = []\n",
    "    v = split_(df) #call the function split_\n",
    "    itertools_combinations = list(itertools.combinations(v, 2))\n",
    "    return itertools_combinations\n",
    "#returns a list of combinations"
   ]
  },
  {
   "cell_type": "code",
   "execution_count": 149,
   "id": "44e59eca",
   "metadata": {},
   "outputs": [
    {
     "name": "stdout",
     "output_type": "stream",
     "text": [
      "(7.838005050505051, 0.3470951089625462, 7, array([[2.08695652, 1.04347826, 1.04347826, 1.56521739, 2.60869565,\n",
      "        1.04347826, 1.56521739, 1.04347826],\n",
      "       [1.91304348, 0.95652174, 0.95652174, 1.43478261, 2.39130435,\n",
      "        0.95652174, 1.43478261, 0.95652174]]))\n",
      "(6.623757309941519, 0.4690756607381139, 7, array([[1.93548387, 1.16129032, 1.16129032, 1.16129032, 2.32258065,\n",
      "        1.5483871 , 1.16129032, 1.5483871 ],\n",
      "       [3.06451613, 1.83870968, 1.83870968, 1.83870968, 3.67741935,\n",
      "        2.4516129 , 1.83870968, 2.4516129 ]]))\n",
      "(8.528079710144928, 0.2883353008544251, 7, array([[2.05714286, 0.68571429, 1.37142857, 1.37142857, 2.4       ,\n",
      "        1.71428571, 1.71428571, 0.68571429],\n",
      "       [3.94285714, 1.31428571, 2.62857143, 2.62857143, 4.6       ,\n",
      "        3.28571429, 3.28571429, 1.31428571]]))\n",
      "(12.143055555555556, 0.09595147193176176, 7, array([[1.71428571, 0.85714286, 1.28571429, 0.42857143, 1.28571429,\n",
      "        2.14285714, 2.57142857, 1.71428571],\n",
      "       [2.28571429, 1.14285714, 1.71428571, 0.57142857, 1.71428571,\n",
      "        2.85714286, 3.42857143, 2.28571429]]))\n",
      "(1.937799043062201, 0.9632026186405215, 7, array([[1.1       , 1.83333333, 1.83333333, 1.46666667, 1.83333333,\n",
      "        1.46666667, 0.73333333, 0.73333333],\n",
      "       [1.9       , 3.16666667, 3.16666667, 2.53333333, 3.16666667,\n",
      "        2.53333333, 1.26666667, 1.26666667]]))\n"
     ]
    },
    {
     "ename": "ValueError",
     "evalue": "The internally computed table of expected frequencies has a zero element at (0, 7).",
     "output_type": "error",
     "traceback": [
      "\u001b[1;31m---------------------------------------------------------------------------\u001b[0m",
      "\u001b[1;31mValueError\u001b[0m                                Traceback (most recent call last)",
      "Cell \u001b[1;32mIn [149], line 4\u001b[0m\n\u001b[0;32m      2\u001b[0m p \u001b[38;5;241m=\u001b[39m np\u001b[38;5;241m.\u001b[39marray(l)\n\u001b[0;32m      3\u001b[0m \u001b[38;5;28;01mfor\u001b[39;00m i \u001b[38;5;129;01min\u001b[39;00m p:\n\u001b[1;32m----> 4\u001b[0m     \u001b[38;5;28mprint\u001b[39m(\u001b[43mchi2_contingency\u001b[49m\u001b[43m(\u001b[49m\u001b[43mi\u001b[49m\u001b[43m)\u001b[49m)\n",
      "File \u001b[1;32m~\\anaconda3\\lib\\site-packages\\scipy\\stats\\contingency.py:276\u001b[0m, in \u001b[0;36mchi2_contingency\u001b[1;34m(observed, correction, lambda_)\u001b[0m\n\u001b[0;32m    272\u001b[0m \u001b[38;5;28;01mif\u001b[39;00m np\u001b[38;5;241m.\u001b[39many(expected \u001b[38;5;241m==\u001b[39m \u001b[38;5;241m0\u001b[39m):\n\u001b[0;32m    273\u001b[0m     \u001b[38;5;66;03m# Include one of the positions where expected is zero in\u001b[39;00m\n\u001b[0;32m    274\u001b[0m     \u001b[38;5;66;03m# the exception message.\u001b[39;00m\n\u001b[0;32m    275\u001b[0m     zeropos \u001b[38;5;241m=\u001b[39m \u001b[38;5;28mlist\u001b[39m(\u001b[38;5;28mzip\u001b[39m(\u001b[38;5;241m*\u001b[39mnp\u001b[38;5;241m.\u001b[39mnonzero(expected \u001b[38;5;241m==\u001b[39m \u001b[38;5;241m0\u001b[39m)))[\u001b[38;5;241m0\u001b[39m]\n\u001b[1;32m--> 276\u001b[0m     \u001b[38;5;28;01mraise\u001b[39;00m \u001b[38;5;167;01mValueError\u001b[39;00m(\u001b[38;5;124m\"\u001b[39m\u001b[38;5;124mThe internally computed table of expected \u001b[39m\u001b[38;5;124m\"\u001b[39m\n\u001b[0;32m    277\u001b[0m                      \u001b[38;5;124m\"\u001b[39m\u001b[38;5;124mfrequencies has a zero element at \u001b[39m\u001b[38;5;132;01m%s\u001b[39;00m\u001b[38;5;124m.\u001b[39m\u001b[38;5;124m\"\u001b[39m \u001b[38;5;241m%\u001b[39m (zeropos,))\n\u001b[0;32m    279\u001b[0m \u001b[38;5;66;03m# The degrees of freedom\u001b[39;00m\n\u001b[0;32m    280\u001b[0m dof \u001b[38;5;241m=\u001b[39m expected\u001b[38;5;241m.\u001b[39msize \u001b[38;5;241m-\u001b[39m \u001b[38;5;28msum\u001b[39m(expected\u001b[38;5;241m.\u001b[39mshape) \u001b[38;5;241m+\u001b[39m expected\u001b[38;5;241m.\u001b[39mndim \u001b[38;5;241m-\u001b[39m \u001b[38;5;241m1\u001b[39m\n",
      "\u001b[1;31mValueError\u001b[0m: The internally computed table of expected frequencies has a zero element at (0, 7)."
     ]
    }
   ],
   "source": [
    "l = combinations_(df)\n",
    "p = np.array(l)\n",
    "for i in p:\n",
    "    print(chi2_contingency(i))"
   ]
  },
  {
   "cell_type": "code",
   "execution_count": 142,
   "id": "814f879c",
   "metadata": {},
   "outputs": [],
   "source": [
    "def chi2(df):\n",
    "    empty = []\n",
    "    v = combinations_(df)\n",
    "    u = len(v)\n",
    "    for i in range(u):\n",
    "        t = chi2_contingency(v[i])\n",
    "        print(t)\n",
    "#         empty.append(t)\n",
    "#     return empty"
   ]
  },
  {
   "cell_type": "code",
   "execution_count": 145,
   "id": "683bc63c",
   "metadata": {},
   "outputs": [
    {
     "name": "stdout",
     "output_type": "stream",
     "text": [
      "(7.838005050505051, 0.3470951089625462, 7, array([[2.08695652, 1.04347826, 1.04347826, 1.56521739, 2.60869565,\n",
      "        1.04347826, 1.56521739, 1.04347826],\n",
      "       [1.91304348, 0.95652174, 0.95652174, 1.43478261, 2.39130435,\n",
      "        0.95652174, 1.43478261, 0.95652174]]))\n",
      "(6.623757309941519, 0.4690756607381139, 7, array([[1.93548387, 1.16129032, 1.16129032, 1.16129032, 2.32258065,\n",
      "        1.5483871 , 1.16129032, 1.5483871 ],\n",
      "       [3.06451613, 1.83870968, 1.83870968, 1.83870968, 3.67741935,\n",
      "        2.4516129 , 1.83870968, 2.4516129 ]]))\n",
      "(8.528079710144928, 0.2883353008544251, 7, array([[2.05714286, 0.68571429, 1.37142857, 1.37142857, 2.4       ,\n",
      "        1.71428571, 1.71428571, 0.68571429],\n",
      "       [3.94285714, 1.31428571, 2.62857143, 2.62857143, 4.6       ,\n",
      "        3.28571429, 3.28571429, 1.31428571]]))\n",
      "(12.143055555555556, 0.09595147193176176, 7, array([[1.71428571, 0.85714286, 1.28571429, 0.42857143, 1.28571429,\n",
      "        2.14285714, 2.57142857, 1.71428571],\n",
      "       [2.28571429, 1.14285714, 1.71428571, 0.57142857, 1.71428571,\n",
      "        2.85714286, 3.42857143, 2.28571429]]))\n",
      "(1.937799043062201, 0.9632026186405215, 7, array([[1.1       , 1.83333333, 1.83333333, 1.46666667, 1.83333333,\n",
      "        1.46666667, 0.73333333, 0.73333333],\n",
      "       [1.9       , 3.16666667, 3.16666667, 2.53333333, 3.16666667,\n",
      "        2.53333333, 1.26666667, 1.26666667]]))\n"
     ]
    },
    {
     "ename": "ValueError",
     "evalue": "The internally computed table of expected frequencies has a zero element at (0, 7).",
     "output_type": "error",
     "traceback": [
      "\u001b[1;31m---------------------------------------------------------------------------\u001b[0m",
      "\u001b[1;31mValueError\u001b[0m                                Traceback (most recent call last)",
      "Cell \u001b[1;32mIn [145], line 1\u001b[0m\n\u001b[1;32m----> 1\u001b[0m \u001b[43mchi2\u001b[49m\u001b[43m(\u001b[49m\u001b[43mdf\u001b[49m\u001b[43m)\u001b[49m\n",
      "Cell \u001b[1;32mIn [142], line 6\u001b[0m, in \u001b[0;36mchi2\u001b[1;34m(df)\u001b[0m\n\u001b[0;32m      4\u001b[0m u \u001b[38;5;241m=\u001b[39m \u001b[38;5;28mlen\u001b[39m(v)\n\u001b[0;32m      5\u001b[0m \u001b[38;5;28;01mfor\u001b[39;00m i \u001b[38;5;129;01min\u001b[39;00m \u001b[38;5;28mrange\u001b[39m(u):\n\u001b[1;32m----> 6\u001b[0m     t \u001b[38;5;241m=\u001b[39m \u001b[43mchi2_contingency\u001b[49m\u001b[43m(\u001b[49m\u001b[43mv\u001b[49m\u001b[43m[\u001b[49m\u001b[43mi\u001b[49m\u001b[43m]\u001b[49m\u001b[43m)\u001b[49m\n\u001b[0;32m      7\u001b[0m     \u001b[38;5;28mprint\u001b[39m(t)\n",
      "File \u001b[1;32m~\\anaconda3\\lib\\site-packages\\scipy\\stats\\contingency.py:276\u001b[0m, in \u001b[0;36mchi2_contingency\u001b[1;34m(observed, correction, lambda_)\u001b[0m\n\u001b[0;32m    272\u001b[0m \u001b[38;5;28;01mif\u001b[39;00m np\u001b[38;5;241m.\u001b[39many(expected \u001b[38;5;241m==\u001b[39m \u001b[38;5;241m0\u001b[39m):\n\u001b[0;32m    273\u001b[0m     \u001b[38;5;66;03m# Include one of the positions where expected is zero in\u001b[39;00m\n\u001b[0;32m    274\u001b[0m     \u001b[38;5;66;03m# the exception message.\u001b[39;00m\n\u001b[0;32m    275\u001b[0m     zeropos \u001b[38;5;241m=\u001b[39m \u001b[38;5;28mlist\u001b[39m(\u001b[38;5;28mzip\u001b[39m(\u001b[38;5;241m*\u001b[39mnp\u001b[38;5;241m.\u001b[39mnonzero(expected \u001b[38;5;241m==\u001b[39m \u001b[38;5;241m0\u001b[39m)))[\u001b[38;5;241m0\u001b[39m]\n\u001b[1;32m--> 276\u001b[0m     \u001b[38;5;28;01mraise\u001b[39;00m \u001b[38;5;167;01mValueError\u001b[39;00m(\u001b[38;5;124m\"\u001b[39m\u001b[38;5;124mThe internally computed table of expected \u001b[39m\u001b[38;5;124m\"\u001b[39m\n\u001b[0;32m    277\u001b[0m                      \u001b[38;5;124m\"\u001b[39m\u001b[38;5;124mfrequencies has a zero element at \u001b[39m\u001b[38;5;132;01m%s\u001b[39;00m\u001b[38;5;124m.\u001b[39m\u001b[38;5;124m\"\u001b[39m \u001b[38;5;241m%\u001b[39m (zeropos,))\n\u001b[0;32m    279\u001b[0m \u001b[38;5;66;03m# The degrees of freedom\u001b[39;00m\n\u001b[0;32m    280\u001b[0m dof \u001b[38;5;241m=\u001b[39m expected\u001b[38;5;241m.\u001b[39msize \u001b[38;5;241m-\u001b[39m \u001b[38;5;28msum\u001b[39m(expected\u001b[38;5;241m.\u001b[39mshape) \u001b[38;5;241m+\u001b[39m expected\u001b[38;5;241m.\u001b[39mndim \u001b[38;5;241m-\u001b[39m \u001b[38;5;241m1\u001b[39m\n",
      "\u001b[1;31mValueError\u001b[0m: The internally computed table of expected frequencies has a zero element at (0, 7)."
     ]
    }
   ],
   "source": [
    "chi2(df)"
   ]
  },
  {
   "cell_type": "code",
   "execution_count": 135,
   "id": "20b1fc29",
   "metadata": {},
   "outputs": [
    {
     "data": {
      "text/plain": [
       "array([[3, 2, 4, 3, 4, 4, 3, 0],\n",
       "       [1, 2, 3, 0, 0, 4, 4, 2]], dtype=int64)"
      ]
     },
     "execution_count": 135,
     "metadata": {},
     "output_type": "execute_result"
    }
   ],
   "source": [
    "v =combinations_(df)\n",
    "np.array(v[i])"
   ]
  },
  {
   "cell_type": "code",
   "execution_count": null,
   "id": "9492dc22",
   "metadata": {},
   "outputs": [],
   "source": []
  },
  {
   "cell_type": "code",
   "execution_count": null,
   "id": "0e303d3d",
   "metadata": {},
   "outputs": [],
   "source": []
  },
  {
   "cell_type": "code",
   "execution_count": null,
   "id": "aec726c3",
   "metadata": {},
   "outputs": [],
   "source": []
  },
  {
   "cell_type": "code",
   "execution_count": null,
   "id": "d516f114",
   "metadata": {},
   "outputs": [],
   "source": []
  },
  {
   "cell_type": "code",
   "execution_count": 129,
   "id": "0f30e08d",
   "metadata": {},
   "outputs": [],
   "source": [
    "def list_multiplier(df):\n",
    "    new_list = []\n",
    "    for i in range(len(df)):\n",
    "        new_list = [i]\n",
    "    return new_list"
   ]
  },
  {
   "cell_type": "code",
   "execution_count": 131,
   "id": "50590161",
   "metadata": {},
   "outputs": [
    {
     "data": {
      "text/plain": [
       "8"
      ]
     },
     "execution_count": 131,
     "metadata": {},
     "output_type": "execute_result"
    }
   ],
   "source": []
  },
  {
   "cell_type": "code",
   "execution_count": 84,
   "id": "5a5dd79f",
   "metadata": {},
   "outputs": [],
   "source": [
    "def append_(df):\n",
    "    empty = []\n",
    "    k = combinations_(df)\n",
    "    v = len(k)\n",
    "    for i in k:\n",
    "        test = []\n",
    "        test[i] = k[i]\n",
    "        return test\n",
    "        "
   ]
  },
  {
   "cell_type": "code",
   "execution_count": 128,
   "id": "1b561052",
   "metadata": {},
   "outputs": [
    {
     "data": {
      "text/plain": [
       "(array([3, 0, 0, 1, 3, 1, 2, 2], dtype=int64),\n",
       " array([1, 2, 2, 2, 2, 1, 1, 0], dtype=int64))"
      ]
     },
     "execution_count": 128,
     "metadata": {},
     "output_type": "execute_result"
    }
   ],
   "source": [
    "combinations_(df)[i]"
   ]
  },
  {
   "cell_type": "code",
   "execution_count": 126,
   "id": "e6bec527",
   "metadata": {},
   "outputs": [
    {
     "name": "stdout",
     "output_type": "stream",
     "text": [
      "(array([3, 0, 0, 1, 3, 1, 2, 2], dtype=int64), array([1, 2, 2, 2, 2, 1, 1, 0], dtype=int64))\n",
      "(array([3, 0, 0, 1, 3, 1, 2, 2], dtype=int64), array([2, 3, 3, 2, 3, 3, 1, 2], dtype=int64))\n",
      "(array([3, 0, 0, 1, 3, 1, 2, 2], dtype=int64), array([3, 2, 4, 3, 4, 4, 3, 0], dtype=int64))\n",
      "(array([3, 0, 0, 1, 3, 1, 2, 2], dtype=int64), array([1, 2, 3, 0, 0, 4, 4, 2], dtype=int64))\n",
      "(array([1, 2, 2, 2, 2, 1, 1, 0], dtype=int64), array([2, 3, 3, 2, 3, 3, 1, 2], dtype=int64))\n",
      "(array([1, 2, 2, 2, 2, 1, 1, 0], dtype=int64), array([3, 2, 4, 3, 4, 4, 3, 0], dtype=int64))\n",
      "(array([1, 2, 2, 2, 2, 1, 1, 0], dtype=int64), array([1, 2, 3, 0, 0, 4, 4, 2], dtype=int64))\n",
      "(array([2, 3, 3, 2, 3, 3, 1, 2], dtype=int64), array([3, 2, 4, 3, 4, 4, 3, 0], dtype=int64))\n",
      "(array([2, 3, 3, 2, 3, 3, 1, 2], dtype=int64), array([1, 2, 3, 0, 0, 4, 4, 2], dtype=int64))\n",
      "(array([3, 2, 4, 3, 4, 4, 3, 0], dtype=int64), array([1, 2, 3, 0, 0, 4, 4, 2], dtype=int64))\n"
     ]
    }
   ],
   "source": [
    "empty = []\n",
    "k = combinations_(df)\n",
    "v = len(k)\n",
    "for i in range(v):\n",
    "    a_i = k[i]\n",
    "    print(a_i)\n",
    "#     empty[i] = (k[i])\n",
    "#         print(test)\n",
    "    #     test = []\n",
    "#     test[i] = k[i]\n",
    "#     print(test)"
   ]
  },
  {
   "cell_type": "code",
   "execution_count": 125,
   "id": "878619f5",
   "metadata": {},
   "outputs": [
    {
     "name": "stdout",
     "output_type": "stream",
     "text": [
      "[0]\n",
      "[1]\n",
      "[2]\n",
      "[3]\n",
      "[4]\n",
      "[5]\n",
      "[6]\n",
      "[7]\n",
      "[8]\n",
      "[9]\n"
     ]
    }
   ],
   "source": [
    "for i in range(10):\n",
    "  a_i = [i] #Stores the corresponding value of i in each a_i list.\n",
    "  print(a_i)"
   ]
  },
  {
   "cell_type": "code",
   "execution_count": 108,
   "id": "9c2434ae",
   "metadata": {},
   "outputs": [
    {
     "name": "stdout",
     "output_type": "stream",
     "text": [
      "(array([3, 2, 4, 3, 4, 4, 3, 0], dtype=int64), array([1, 2, 3, 0, 0, 4, 4, 2], dtype=int64))\n"
     ]
    }
   ],
   "source": [
    "using = []\n",
    "for i in test:\n",
    "    print(i)\n",
    "#     x = i.tolist()\n",
    "#     using.append(x)\n",
    "# using"
   ]
  },
  {
   "cell_type": "code",
   "execution_count": 74,
   "id": "a5d12594",
   "metadata": {},
   "outputs": [
    {
     "name": "stdout",
     "output_type": "stream",
     "text": [
      "[]\n"
     ]
    }
   ],
   "source": [
    "test_list = [2]\n",
    "test_2 = test_list * 3 \n",
    "for i in range(v_length):\n",
    "    "
   ]
  },
  {
   "cell_type": "code",
   "execution_count": 69,
   "id": "11a0a300",
   "metadata": {},
   "outputs": [],
   "source": [
    "v = append_(df)\n",
    "v_length = len(v)\n",
    "#take v[i] out of v for i number of list "
   ]
  },
  {
   "cell_type": "code",
   "execution_count": 22,
   "id": "ec50aa10",
   "metadata": {},
   "outputs": [
    {
     "data": {
      "text/plain": [
       "[array([3, 0, 0, 1, 3, 1, 2, 2], dtype=int64),\n",
       " array([1, 2, 2, 2, 2, 1, 1, 0], dtype=int64),\n",
       " array([2, 3, 3, 2, 3, 3, 1, 2], dtype=int64),\n",
       " array([3, 2, 4, 3, 4, 4, 3, 0], dtype=int64),\n",
       " array([1, 2, 3, 0, 0, 4, 4, 2], dtype=int64)]"
      ]
     },
     "execution_count": 22,
     "metadata": {},
     "output_type": "execute_result"
    }
   ],
   "source": [
    "v = list(df)\n",
    "empty_0 = []\n",
    "for i in list(df):\n",
    "    column_of_array = df[i].to_numpy()\n",
    "    empty_0.append(column_of_array)\n",
    "empty_0"
   ]
  },
  {
   "cell_type": "code",
   "execution_count": 55,
   "id": "5d0e8b60",
   "metadata": {},
   "outputs": [
    {
     "data": {
      "text/plain": [
       "[[],\n",
       " [],\n",
       " [],\n",
       " [],\n",
       " [],\n",
       " [],\n",
       " [],\n",
       " [],\n",
       " [],\n",
       " [],\n",
       " (array([3, 0, 0, 1, 3, 1, 2, 2], dtype=int64),\n",
       "  array([1, 2, 2, 2, 2, 1, 1, 0], dtype=int64)),\n",
       " (array([3, 0, 0, 1, 3, 1, 2, 2], dtype=int64),\n",
       "  array([2, 3, 3, 2, 3, 3, 1, 2], dtype=int64)),\n",
       " (array([3, 0, 0, 1, 3, 1, 2, 2], dtype=int64),\n",
       "  array([3, 2, 4, 3, 4, 4, 3, 0], dtype=int64)),\n",
       " (array([3, 0, 0, 1, 3, 1, 2, 2], dtype=int64),\n",
       "  array([1, 2, 3, 0, 0, 4, 4, 2], dtype=int64)),\n",
       " (array([1, 2, 2, 2, 2, 1, 1, 0], dtype=int64),\n",
       "  array([2, 3, 3, 2, 3, 3, 1, 2], dtype=int64)),\n",
       " (array([1, 2, 2, 2, 2, 1, 1, 0], dtype=int64),\n",
       "  array([3, 2, 4, 3, 4, 4, 3, 0], dtype=int64)),\n",
       " (array([1, 2, 2, 2, 2, 1, 1, 0], dtype=int64),\n",
       "  array([1, 2, 3, 0, 0, 4, 4, 2], dtype=int64)),\n",
       " (array([2, 3, 3, 2, 3, 3, 1, 2], dtype=int64),\n",
       "  array([3, 2, 4, 3, 4, 4, 3, 0], dtype=int64)),\n",
       " (array([2, 3, 3, 2, 3, 3, 1, 2], dtype=int64),\n",
       "  array([1, 2, 3, 0, 0, 4, 4, 2], dtype=int64)),\n",
       " (array([3, 2, 4, 3, 4, 4, 3, 0], dtype=int64),\n",
       "  array([1, 2, 3, 0, 0, 4, 4, 2], dtype=int64))]"
      ]
     },
     "execution_count": 55,
     "metadata": {},
     "output_type": "execute_result"
    }
   ],
   "source": [
    "new_list = []\n",
    "v = list(df)\n",
    "empty_list = []\n",
    "itertools_combinations = list(itertools.combinations(empty_0, 2))\n",
    "for i in range(length):\n",
    "    "
   ]
  },
  {
   "cell_type": "code",
   "execution_count": 45,
   "id": "e34dfb97",
   "metadata": {},
   "outputs": [
    {
     "data": {
      "text/plain": [
       "[(array([3, 0, 0, 1, 3, 1, 2, 2], dtype=int64),\n",
       "  array([1, 2, 2, 2, 2, 1, 1, 0], dtype=int64)),\n",
       " (array([3, 0, 0, 1, 3, 1, 2, 2], dtype=int64),\n",
       "  array([2, 3, 3, 2, 3, 3, 1, 2], dtype=int64)),\n",
       " (array([3, 0, 0, 1, 3, 1, 2, 2], dtype=int64),\n",
       "  array([3, 2, 4, 3, 4, 4, 3, 0], dtype=int64)),\n",
       " (array([3, 0, 0, 1, 3, 1, 2, 2], dtype=int64),\n",
       "  array([1, 2, 3, 0, 0, 4, 4, 2], dtype=int64)),\n",
       " (array([1, 2, 2, 2, 2, 1, 1, 0], dtype=int64),\n",
       "  array([2, 3, 3, 2, 3, 3, 1, 2], dtype=int64)),\n",
       " (array([1, 2, 2, 2, 2, 1, 1, 0], dtype=int64),\n",
       "  array([3, 2, 4, 3, 4, 4, 3, 0], dtype=int64)),\n",
       " (array([1, 2, 2, 2, 2, 1, 1, 0], dtype=int64),\n",
       "  array([1, 2, 3, 0, 0, 4, 4, 2], dtype=int64)),\n",
       " (array([2, 3, 3, 2, 3, 3, 1, 2], dtype=int64),\n",
       "  array([3, 2, 4, 3, 4, 4, 3, 0], dtype=int64)),\n",
       " (array([2, 3, 3, 2, 3, 3, 1, 2], dtype=int64),\n",
       "  array([1, 2, 3, 0, 0, 4, 4, 2], dtype=int64)),\n",
       " (array([3, 2, 4, 3, 4, 4, 3, 0], dtype=int64),\n",
       "  array([1, 2, 3, 0, 0, 4, 4, 2], dtype=int64))]"
      ]
     },
     "execution_count": 45,
     "metadata": {},
     "output_type": "execute_result"
    }
   ],
   "source": [
    "length = len(itertools_combinations)\n",
    "# u = [itertools_combinations]\n",
    "# u\n",
    "itertools_combinations"
   ]
  },
  {
   "cell_type": "code",
   "execution_count": 16,
   "id": "ce06a56f",
   "metadata": {},
   "outputs": [
    {
     "data": {
      "text/plain": [
       "[array([3, 0, 0, 1, 3, 1, 2, 2], dtype=int64),\n",
       " array([1, 2, 2, 2, 2, 1, 1, 0], dtype=int64),\n",
       " array([2, 3, 3, 2, 3, 3, 1, 2], dtype=int64),\n",
       " array([3, 2, 4, 3, 4, 4, 3, 0], dtype=int64),\n",
       " array([1, 2, 3, 0, 0, 4, 4, 2], dtype=int64)]"
      ]
     },
     "execution_count": 16,
     "metadata": {},
     "output_type": "execute_result"
    }
   ],
   "source": [
    "empty_0 = []\n",
    "for i in list(df):\n",
    "    column_of_array = df[i].to_numpy()\n",
    "    empty_0.append(column_of_array) \n",
    "empty_0"
   ]
  },
  {
   "cell_type": "code",
   "execution_count": 12,
   "id": "e15e27c5",
   "metadata": {},
   "outputs": [
    {
     "data": {
      "text/plain": [
       "['A', 'B', 'C', 'D', 'E']"
      ]
     },
     "execution_count": 12,
     "metadata": {},
     "output_type": "execute_result"
    }
   ],
   "source": [
    "v = list(df)\n",
    "v"
   ]
  },
  {
   "cell_type": "code",
   "execution_count": 3,
   "id": "12dbb84b",
   "metadata": {},
   "outputs": [],
   "source": [
    "v1 = [1,2,3,4,5]\n",
    "v2 = [2,2,2,2,2]\n",
    "headers.append(v1)"
   ]
  },
  {
   "cell_type": "code",
   "execution_count": null,
   "id": "65c35b99",
   "metadata": {},
   "outputs": [],
   "source": []
  },
  {
   "cell_type": "code",
   "execution_count": null,
   "id": "a423a39d",
   "metadata": {},
   "outputs": [],
   "source": []
  },
  {
   "cell_type": "code",
   "execution_count": null,
   "id": "c586d7a3",
   "metadata": {},
   "outputs": [],
   "source": []
  },
  {
   "cell_type": "code",
   "execution_count": null,
   "id": "dd73f442",
   "metadata": {},
   "outputs": [],
   "source": []
  }
 ],
 "metadata": {
  "kernelspec": {
   "display_name": "Python 3 (ipykernel)",
   "language": "python",
   "name": "python3"
  },
  "language_info": {
   "codemirror_mode": {
    "name": "ipython",
    "version": 3
   },
   "file_extension": ".py",
   "mimetype": "text/x-python",
   "name": "python",
   "nbconvert_exporter": "python",
   "pygments_lexer": "ipython3",
   "version": "3.8.8"
  }
 },
 "nbformat": 4,
 "nbformat_minor": 5
}
