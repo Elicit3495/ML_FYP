{
 "cells": [
  {
   "cell_type": "code",
   "execution_count": 19,
   "id": "673349c5",
   "metadata": {},
   "outputs": [],
   "source": [
    "import pandas as pd\n",
    "import numpy as np\n",
    "import itertools\n",
    "from conditional import csv_format_discrete"
   ]
  },
  {
   "cell_type": "code",
   "execution_count": 9,
   "id": "4fa34aff",
   "metadata": {},
   "outputs": [],
   "source": [
    "df = csv_format_discrete(r\"C:\\Users\\User\\Documents\\GitHub\\ML_FYP\\dataset\\test_2.dat\")"
   ]
  },
  {
   "cell_type": "code",
   "execution_count": 10,
   "id": "32f8bd5d",
   "metadata": {},
   "outputs": [
    {
     "data": {
      "text/html": [
       "<div>\n",
       "<style scoped>\n",
       "    .dataframe tbody tr th:only-of-type {\n",
       "        vertical-align: middle;\n",
       "    }\n",
       "\n",
       "    .dataframe tbody tr th {\n",
       "        vertical-align: top;\n",
       "    }\n",
       "\n",
       "    .dataframe thead th {\n",
       "        text-align: right;\n",
       "    }\n",
       "</style>\n",
       "<table border=\"1\" class=\"dataframe\">\n",
       "  <thead>\n",
       "    <tr style=\"text-align: right;\">\n",
       "      <th></th>\n",
       "      <th>A</th>\n",
       "      <th>B</th>\n",
       "      <th>C</th>\n",
       "      <th>D</th>\n",
       "      <th>E</th>\n",
       "    </tr>\n",
       "  </thead>\n",
       "  <tbody>\n",
       "    <tr>\n",
       "      <th>1</th>\n",
       "      <td>3</td>\n",
       "      <td>1</td>\n",
       "      <td>2</td>\n",
       "      <td>3</td>\n",
       "      <td>1</td>\n",
       "    </tr>\n",
       "    <tr>\n",
       "      <th>2</th>\n",
       "      <td>0</td>\n",
       "      <td>2</td>\n",
       "      <td>3</td>\n",
       "      <td>2</td>\n",
       "      <td>2</td>\n",
       "    </tr>\n",
       "    <tr>\n",
       "      <th>3</th>\n",
       "      <td>0</td>\n",
       "      <td>2</td>\n",
       "      <td>3</td>\n",
       "      <td>4</td>\n",
       "      <td>3</td>\n",
       "    </tr>\n",
       "    <tr>\n",
       "      <th>4</th>\n",
       "      <td>1</td>\n",
       "      <td>2</td>\n",
       "      <td>2</td>\n",
       "      <td>3</td>\n",
       "      <td>0</td>\n",
       "    </tr>\n",
       "    <tr>\n",
       "      <th>5</th>\n",
       "      <td>3</td>\n",
       "      <td>2</td>\n",
       "      <td>3</td>\n",
       "      <td>4</td>\n",
       "      <td>0</td>\n",
       "    </tr>\n",
       "    <tr>\n",
       "      <th>6</th>\n",
       "      <td>1</td>\n",
       "      <td>1</td>\n",
       "      <td>3</td>\n",
       "      <td>4</td>\n",
       "      <td>4</td>\n",
       "    </tr>\n",
       "    <tr>\n",
       "      <th>7</th>\n",
       "      <td>2</td>\n",
       "      <td>1</td>\n",
       "      <td>1</td>\n",
       "      <td>3</td>\n",
       "      <td>4</td>\n",
       "    </tr>\n",
       "    <tr>\n",
       "      <th>8</th>\n",
       "      <td>2</td>\n",
       "      <td>0</td>\n",
       "      <td>2</td>\n",
       "      <td>0</td>\n",
       "      <td>2</td>\n",
       "    </tr>\n",
       "  </tbody>\n",
       "</table>\n",
       "</div>"
      ],
      "text/plain": [
       "   A  B  C  D  E\n",
       "1  3  1  2  3  1\n",
       "2  0  2  3  2  2\n",
       "3  0  2  3  4  3\n",
       "4  1  2  2  3  0\n",
       "5  3  2  3  4  0\n",
       "6  1  1  3  4  4\n",
       "7  2  1  1  3  4\n",
       "8  2  0  2  0  2"
      ]
     },
     "execution_count": 10,
     "metadata": {},
     "output_type": "execute_result"
    }
   ],
   "source": [
    "df"
   ]
  },
  {
   "cell_type": "code",
   "execution_count": 17,
   "id": "42098a91",
   "metadata": {},
   "outputs": [],
   "source": [
    "#takes in a pandas dataframe, collects each column of the dataframe and combine it into a list\n",
    "def split_(df):\n",
    "    v = list(df)\n",
    "    empty_0 = []\n",
    "    for i in list(df):\n",
    "        column_of_array = df[i].to_numpy()\n",
    "        empty_0.append(column_of_array)\n",
    "    return empty_0"
   ]
  },
  {
   "cell_type": "code",
   "execution_count": 59,
   "id": "ab34d272",
   "metadata": {},
   "outputs": [],
   "source": [
    "#this function essentially obtains all the combinations of the splitted df\n",
    "def combinations_(df):\n",
    "    empty_1 = []\n",
    "    empty_2 = []\n",
    "    v = split_(df) #call the function split_\n",
    "    itertools_combinations = list(itertools.combinations(v, 2))\n",
    "    return itertools_combinations"
   ]
  },
  {
   "cell_type": "code",
   "execution_count": 65,
   "id": "4d4b38e9",
   "metadata": {},
   "outputs": [],
   "source": [
    "def append_(df):\n",
    "    k = combinations_(df)\n",
    "    return k"
   ]
  },
  {
   "cell_type": "code",
   "execution_count": 66,
   "id": "897e806b",
   "metadata": {},
   "outputs": [
    {
     "data": {
      "text/plain": [
       "[(array([3, 0, 0, 1, 3, 1, 2, 2], dtype=int64),\n",
       "  array([1, 2, 2, 2, 2, 1, 1, 0], dtype=int64)),\n",
       " (array([3, 0, 0, 1, 3, 1, 2, 2], dtype=int64),\n",
       "  array([2, 3, 3, 2, 3, 3, 1, 2], dtype=int64)),\n",
       " (array([3, 0, 0, 1, 3, 1, 2, 2], dtype=int64),\n",
       "  array([3, 2, 4, 3, 4, 4, 3, 0], dtype=int64)),\n",
       " (array([3, 0, 0, 1, 3, 1, 2, 2], dtype=int64),\n",
       "  array([1, 2, 3, 0, 0, 4, 4, 2], dtype=int64)),\n",
       " (array([1, 2, 2, 2, 2, 1, 1, 0], dtype=int64),\n",
       "  array([2, 3, 3, 2, 3, 3, 1, 2], dtype=int64)),\n",
       " (array([1, 2, 2, 2, 2, 1, 1, 0], dtype=int64),\n",
       "  array([3, 2, 4, 3, 4, 4, 3, 0], dtype=int64)),\n",
       " (array([1, 2, 2, 2, 2, 1, 1, 0], dtype=int64),\n",
       "  array([1, 2, 3, 0, 0, 4, 4, 2], dtype=int64)),\n",
       " (array([2, 3, 3, 2, 3, 3, 1, 2], dtype=int64),\n",
       "  array([3, 2, 4, 3, 4, 4, 3, 0], dtype=int64)),\n",
       " (array([2, 3, 3, 2, 3, 3, 1, 2], dtype=int64),\n",
       "  array([1, 2, 3, 0, 0, 4, 4, 2], dtype=int64)),\n",
       " (array([3, 2, 4, 3, 4, 4, 3, 0], dtype=int64),\n",
       "  array([1, 2, 3, 0, 0, 4, 4, 2], dtype=int64))]"
      ]
     },
     "execution_count": 66,
     "metadata": {},
     "output_type": "execute_result"
    }
   ],
   "source": [
    "append_(df)"
   ]
  },
  {
   "cell_type": "code",
   "execution_count": 22,
   "id": "4e63c423",
   "metadata": {},
   "outputs": [
    {
     "data": {
      "text/plain": [
       "[array([3, 0, 0, 1, 3, 1, 2, 2], dtype=int64),\n",
       " array([1, 2, 2, 2, 2, 1, 1, 0], dtype=int64),\n",
       " array([2, 3, 3, 2, 3, 3, 1, 2], dtype=int64),\n",
       " array([3, 2, 4, 3, 4, 4, 3, 0], dtype=int64),\n",
       " array([1, 2, 3, 0, 0, 4, 4, 2], dtype=int64)]"
      ]
     },
     "execution_count": 22,
     "metadata": {},
     "output_type": "execute_result"
    }
   ],
   "source": [
    "v = list(df)\n",
    "empty_0 = []\n",
    "for i in list(df):\n",
    "    column_of_array = df[i].to_numpy()\n",
    "    empty_0.append(column_of_array)\n",
    "empty_0"
   ]
  },
  {
   "cell_type": "code",
   "execution_count": 55,
   "id": "bc99e113",
   "metadata": {},
   "outputs": [
    {
     "data": {
      "text/plain": [
       "[[],\n",
       " [],\n",
       " [],\n",
       " [],\n",
       " [],\n",
       " [],\n",
       " [],\n",
       " [],\n",
       " [],\n",
       " [],\n",
       " (array([3, 0, 0, 1, 3, 1, 2, 2], dtype=int64),\n",
       "  array([1, 2, 2, 2, 2, 1, 1, 0], dtype=int64)),\n",
       " (array([3, 0, 0, 1, 3, 1, 2, 2], dtype=int64),\n",
       "  array([2, 3, 3, 2, 3, 3, 1, 2], dtype=int64)),\n",
       " (array([3, 0, 0, 1, 3, 1, 2, 2], dtype=int64),\n",
       "  array([3, 2, 4, 3, 4, 4, 3, 0], dtype=int64)),\n",
       " (array([3, 0, 0, 1, 3, 1, 2, 2], dtype=int64),\n",
       "  array([1, 2, 3, 0, 0, 4, 4, 2], dtype=int64)),\n",
       " (array([1, 2, 2, 2, 2, 1, 1, 0], dtype=int64),\n",
       "  array([2, 3, 3, 2, 3, 3, 1, 2], dtype=int64)),\n",
       " (array([1, 2, 2, 2, 2, 1, 1, 0], dtype=int64),\n",
       "  array([3, 2, 4, 3, 4, 4, 3, 0], dtype=int64)),\n",
       " (array([1, 2, 2, 2, 2, 1, 1, 0], dtype=int64),\n",
       "  array([1, 2, 3, 0, 0, 4, 4, 2], dtype=int64)),\n",
       " (array([2, 3, 3, 2, 3, 3, 1, 2], dtype=int64),\n",
       "  array([3, 2, 4, 3, 4, 4, 3, 0], dtype=int64)),\n",
       " (array([2, 3, 3, 2, 3, 3, 1, 2], dtype=int64),\n",
       "  array([1, 2, 3, 0, 0, 4, 4, 2], dtype=int64)),\n",
       " (array([3, 2, 4, 3, 4, 4, 3, 0], dtype=int64),\n",
       "  array([1, 2, 3, 0, 0, 4, 4, 2], dtype=int64))]"
      ]
     },
     "execution_count": 55,
     "metadata": {},
     "output_type": "execute_result"
    }
   ],
   "source": [
    "new_list = []\n",
    "v = list(df)\n",
    "empty_list = []\n",
    "itertools_combinations = list(itertools.combinations(empty_0, 2))\n",
    "for i in range(length):\n",
    "    "
   ]
  },
  {
   "cell_type": "code",
   "execution_count": 45,
   "id": "9c7e1095",
   "metadata": {},
   "outputs": [
    {
     "data": {
      "text/plain": [
       "[(array([3, 0, 0, 1, 3, 1, 2, 2], dtype=int64),\n",
       "  array([1, 2, 2, 2, 2, 1, 1, 0], dtype=int64)),\n",
       " (array([3, 0, 0, 1, 3, 1, 2, 2], dtype=int64),\n",
       "  array([2, 3, 3, 2, 3, 3, 1, 2], dtype=int64)),\n",
       " (array([3, 0, 0, 1, 3, 1, 2, 2], dtype=int64),\n",
       "  array([3, 2, 4, 3, 4, 4, 3, 0], dtype=int64)),\n",
       " (array([3, 0, 0, 1, 3, 1, 2, 2], dtype=int64),\n",
       "  array([1, 2, 3, 0, 0, 4, 4, 2], dtype=int64)),\n",
       " (array([1, 2, 2, 2, 2, 1, 1, 0], dtype=int64),\n",
       "  array([2, 3, 3, 2, 3, 3, 1, 2], dtype=int64)),\n",
       " (array([1, 2, 2, 2, 2, 1, 1, 0], dtype=int64),\n",
       "  array([3, 2, 4, 3, 4, 4, 3, 0], dtype=int64)),\n",
       " (array([1, 2, 2, 2, 2, 1, 1, 0], dtype=int64),\n",
       "  array([1, 2, 3, 0, 0, 4, 4, 2], dtype=int64)),\n",
       " (array([2, 3, 3, 2, 3, 3, 1, 2], dtype=int64),\n",
       "  array([3, 2, 4, 3, 4, 4, 3, 0], dtype=int64)),\n",
       " (array([2, 3, 3, 2, 3, 3, 1, 2], dtype=int64),\n",
       "  array([1, 2, 3, 0, 0, 4, 4, 2], dtype=int64)),\n",
       " (array([3, 2, 4, 3, 4, 4, 3, 0], dtype=int64),\n",
       "  array([1, 2, 3, 0, 0, 4, 4, 2], dtype=int64))]"
      ]
     },
     "execution_count": 45,
     "metadata": {},
     "output_type": "execute_result"
    }
   ],
   "source": [
    "length = len(itertools_combinations)\n",
    "# u = [itertools_combinations]\n",
    "# u\n",
    "itertools_combinations"
   ]
  },
  {
   "cell_type": "code",
   "execution_count": 16,
   "id": "429d7c5e",
   "metadata": {},
   "outputs": [
    {
     "data": {
      "text/plain": [
       "[array([3, 0, 0, 1, 3, 1, 2, 2], dtype=int64),\n",
       " array([1, 2, 2, 2, 2, 1, 1, 0], dtype=int64),\n",
       " array([2, 3, 3, 2, 3, 3, 1, 2], dtype=int64),\n",
       " array([3, 2, 4, 3, 4, 4, 3, 0], dtype=int64),\n",
       " array([1, 2, 3, 0, 0, 4, 4, 2], dtype=int64)]"
      ]
     },
     "execution_count": 16,
     "metadata": {},
     "output_type": "execute_result"
    }
   ],
   "source": [
    "empty_0 = []\n",
    "for i in list(df):\n",
    "    column_of_array = df[i].to_numpy()\n",
    "    empty_0.append(column_of_array) \n",
    "empty_0"
   ]
  },
  {
   "cell_type": "code",
   "execution_count": 12,
   "id": "fa83a136",
   "metadata": {},
   "outputs": [
    {
     "data": {
      "text/plain": [
       "['A', 'B', 'C', 'D', 'E']"
      ]
     },
     "execution_count": 12,
     "metadata": {},
     "output_type": "execute_result"
    }
   ],
   "source": [
    "v = list(df)\n",
    "v"
   ]
  },
  {
   "cell_type": "code",
   "execution_count": 3,
   "id": "dff2c7f3",
   "metadata": {},
   "outputs": [],
   "source": [
    "v1 = [1,2,3,4,5]\n",
    "v2 = [2,2,2,2,2]\n",
    "headers.append(v1)"
   ]
  },
  {
   "cell_type": "code",
   "execution_count": null,
   "id": "a910f135",
   "metadata": {},
   "outputs": [],
   "source": []
  },
  {
   "cell_type": "code",
   "execution_count": null,
   "id": "df7d5559",
   "metadata": {},
   "outputs": [],
   "source": []
  },
  {
   "cell_type": "code",
   "execution_count": null,
   "id": "00111c24",
   "metadata": {},
   "outputs": [],
   "source": []
  },
  {
   "cell_type": "code",
   "execution_count": null,
   "id": "7cbae2cc",
   "metadata": {},
   "outputs": [],
   "source": []
  }
 ],
 "metadata": {
  "kernelspec": {
   "display_name": "Python 3 (ipykernel)",
   "language": "python",
   "name": "python3"
  },
  "language_info": {
   "codemirror_mode": {
    "name": "ipython",
    "version": 3
   },
   "file_extension": ".py",
   "mimetype": "text/x-python",
   "name": "python",
   "nbconvert_exporter": "python",
   "pygments_lexer": "ipython3",
   "version": "3.8.8"
  }
 },
 "nbformat": 4,
 "nbformat_minor": 5
}
