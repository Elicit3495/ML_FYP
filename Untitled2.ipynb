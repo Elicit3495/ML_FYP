{
 "cells": [
  {
   "cell_type": "code",
   "execution_count": 64,
   "id": "673349c5",
   "metadata": {},
   "outputs": [],
   "source": [
    "import pandas as pd\n",
    "import numpy as np\n",
    "import itertools\n",
    "from scipy.stats import chi2_contingency\n",
    "from conditional import csv_format_discrete\n",
    "from scipy.stats import chi2"
   ]
  },
  {
   "cell_type": "code",
   "execution_count": 2,
   "id": "3295db86",
   "metadata": {},
   "outputs": [],
   "source": [
    "df = csv_format_discrete(r\"C:\\Users\\User\\Documents\\GitHub\\ML_FYP\\dataset\\test_2.dat\")"
   ]
  },
  {
   "cell_type": "code",
   "execution_count": 3,
   "id": "0b524821",
   "metadata": {},
   "outputs": [
    {
     "data": {
      "text/html": [
       "<div>\n",
       "<style scoped>\n",
       "    .dataframe tbody tr th:only-of-type {\n",
       "        vertical-align: middle;\n",
       "    }\n",
       "\n",
       "    .dataframe tbody tr th {\n",
       "        vertical-align: top;\n",
       "    }\n",
       "\n",
       "    .dataframe thead th {\n",
       "        text-align: right;\n",
       "    }\n",
       "</style>\n",
       "<table border=\"1\" class=\"dataframe\">\n",
       "  <thead>\n",
       "    <tr style=\"text-align: right;\">\n",
       "      <th></th>\n",
       "      <th>A</th>\n",
       "      <th>B</th>\n",
       "      <th>C</th>\n",
       "      <th>D</th>\n",
       "      <th>E</th>\n",
       "    </tr>\n",
       "  </thead>\n",
       "  <tbody>\n",
       "    <tr>\n",
       "      <th>1</th>\n",
       "      <td>3</td>\n",
       "      <td>1</td>\n",
       "      <td>2</td>\n",
       "      <td>3</td>\n",
       "      <td>1</td>\n",
       "    </tr>\n",
       "    <tr>\n",
       "      <th>2</th>\n",
       "      <td>0</td>\n",
       "      <td>2</td>\n",
       "      <td>3</td>\n",
       "      <td>2</td>\n",
       "      <td>2</td>\n",
       "    </tr>\n",
       "    <tr>\n",
       "      <th>3</th>\n",
       "      <td>0</td>\n",
       "      <td>2</td>\n",
       "      <td>3</td>\n",
       "      <td>4</td>\n",
       "      <td>3</td>\n",
       "    </tr>\n",
       "    <tr>\n",
       "      <th>4</th>\n",
       "      <td>1</td>\n",
       "      <td>2</td>\n",
       "      <td>2</td>\n",
       "      <td>3</td>\n",
       "      <td>0</td>\n",
       "    </tr>\n",
       "    <tr>\n",
       "      <th>5</th>\n",
       "      <td>3</td>\n",
       "      <td>2</td>\n",
       "      <td>3</td>\n",
       "      <td>4</td>\n",
       "      <td>0</td>\n",
       "    </tr>\n",
       "    <tr>\n",
       "      <th>6</th>\n",
       "      <td>1</td>\n",
       "      <td>1</td>\n",
       "      <td>3</td>\n",
       "      <td>4</td>\n",
       "      <td>4</td>\n",
       "    </tr>\n",
       "    <tr>\n",
       "      <th>7</th>\n",
       "      <td>2</td>\n",
       "      <td>1</td>\n",
       "      <td>1</td>\n",
       "      <td>3</td>\n",
       "      <td>4</td>\n",
       "    </tr>\n",
       "    <tr>\n",
       "      <th>8</th>\n",
       "      <td>2</td>\n",
       "      <td>0</td>\n",
       "      <td>2</td>\n",
       "      <td>0</td>\n",
       "      <td>2</td>\n",
       "    </tr>\n",
       "  </tbody>\n",
       "</table>\n",
       "</div>"
      ],
      "text/plain": [
       "   A  B  C  D  E\n",
       "1  3  1  2  3  1\n",
       "2  0  2  3  2  2\n",
       "3  0  2  3  4  3\n",
       "4  1  2  2  3  0\n",
       "5  3  2  3  4  0\n",
       "6  1  1  3  4  4\n",
       "7  2  1  1  3  4\n",
       "8  2  0  2  0  2"
      ]
     },
     "execution_count": 3,
     "metadata": {},
     "output_type": "execute_result"
    }
   ],
   "source": [
    "df"
   ]
  },
  {
   "cell_type": "code",
   "execution_count": 4,
   "id": "42098a91",
   "metadata": {},
   "outputs": [],
   "source": [
    "#takes in a pandas dataframe, collects each column of the dataframe and combine it into a list\n",
    "def split_(df):\n",
    "    v = list(df)\n",
    "    empty_0 = []\n",
    "    for i in list(df):\n",
    "        column_of_array = df[i].to_numpy()\n",
    "        empty_0.append(column_of_array)\n",
    "    return empty_0"
   ]
  },
  {
   "cell_type": "code",
   "execution_count": 5,
   "id": "6033bebe",
   "metadata": {},
   "outputs": [],
   "source": [
    "#this function essentially obtains all the combinations of the splitted df\n",
    "def combinations_(df):\n",
    "    empty_1 = []\n",
    "    empty_2 = []\n",
    "    v = split_(df) #call the function split_\n",
    "    itertools_combinations = list(itertools.combinations(v, 2))\n",
    "    return itertools_combinations\n",
    "#returns a list of combinations"
   ]
  },
  {
   "cell_type": "code",
   "execution_count": 150,
   "id": "7979d575",
   "metadata": {},
   "outputs": [],
   "source": [
    "def chi2bool(chi):\n",
    "    chi = chi2_contingency(chi)\n",
    "    chi_squared = chi[0]\n",
    "    dof = chi[2]\n",
    "    critical_value = chi2.ppf(0.95, dof)\n",
    "    if chi[1] >  critical_value:\n",
    "        print(\"since chi2 =\", chi[1] , \"is more than the critical value =\" , critical_value , \", we reject the null hypothesis\") \n",
    "    else: \n",
    "        print(\"since chi2 =\" , chi[1] , \"is less than the critical value =\" , critical_value , \", we do not reject the null hypothesis\")"
   ]
  },
  {
   "cell_type": "code",
   "execution_count": 153,
   "id": "8bb2dd8e",
   "metadata": {},
   "outputs": [
    {
     "name": "stdout",
     "output_type": "stream",
     "text": [
      "since chi2 = 0.3470951089625462 is less than the critical value = 14.067140449340169 , we do not reject the null hypothesis\n",
      "None\n",
      "since chi2 = 0.4690756607381139 is less than the critical value = 14.067140449340169 , we do not reject the null hypothesis\n",
      "None\n",
      "since chi2 = 0.2883353008544251 is less than the critical value = 14.067140449340169 , we do not reject the null hypothesis\n",
      "None\n",
      "since chi2 = 0.09595147193176176 is less than the critical value = 14.067140449340169 , we do not reject the null hypothesis\n",
      "None\n",
      "since chi2 = 0.9632026186405215 is less than the critical value = 14.067140449340169 , we do not reject the null hypothesis\n",
      "None\n"
     ]
    },
    {
     "ename": "ValueError",
     "evalue": "The internally computed table of expected frequencies has a zero element at (0, 7).",
     "output_type": "error",
     "traceback": [
      "\u001b[1;31m---------------------------------------------------------------------------\u001b[0m",
      "\u001b[1;31mValueError\u001b[0m                                Traceback (most recent call last)",
      "Cell \u001b[1;32mIn [153], line 2\u001b[0m\n\u001b[0;32m      1\u001b[0m \u001b[38;5;28;01mfor\u001b[39;00m i \u001b[38;5;129;01min\u001b[39;00m p_list:\n\u001b[1;32m----> 2\u001b[0m     \u001b[38;5;28mprint\u001b[39m(\u001b[43mchi2bool\u001b[49m\u001b[43m(\u001b[49m\u001b[43mi\u001b[49m\u001b[43m)\u001b[49m)\n",
      "Cell \u001b[1;32mIn [150], line 2\u001b[0m, in \u001b[0;36mchi2bool\u001b[1;34m(chi)\u001b[0m\n\u001b[0;32m      1\u001b[0m \u001b[38;5;28;01mdef\u001b[39;00m \u001b[38;5;21mchi2bool\u001b[39m(chi):\n\u001b[1;32m----> 2\u001b[0m     chi \u001b[38;5;241m=\u001b[39m \u001b[43mchi2_contingency\u001b[49m\u001b[43m(\u001b[49m\u001b[43mchi\u001b[49m\u001b[43m)\u001b[49m\n\u001b[0;32m      3\u001b[0m     chi_squared \u001b[38;5;241m=\u001b[39m chi[\u001b[38;5;241m0\u001b[39m]\n\u001b[0;32m      4\u001b[0m     dof \u001b[38;5;241m=\u001b[39m chi[\u001b[38;5;241m2\u001b[39m]\n",
      "File \u001b[1;32m~\\anaconda3\\lib\\site-packages\\scipy\\stats\\contingency.py:276\u001b[0m, in \u001b[0;36mchi2_contingency\u001b[1;34m(observed, correction, lambda_)\u001b[0m\n\u001b[0;32m    272\u001b[0m \u001b[38;5;28;01mif\u001b[39;00m np\u001b[38;5;241m.\u001b[39many(expected \u001b[38;5;241m==\u001b[39m \u001b[38;5;241m0\u001b[39m):\n\u001b[0;32m    273\u001b[0m     \u001b[38;5;66;03m# Include one of the positions where expected is zero in\u001b[39;00m\n\u001b[0;32m    274\u001b[0m     \u001b[38;5;66;03m# the exception message.\u001b[39;00m\n\u001b[0;32m    275\u001b[0m     zeropos \u001b[38;5;241m=\u001b[39m \u001b[38;5;28mlist\u001b[39m(\u001b[38;5;28mzip\u001b[39m(\u001b[38;5;241m*\u001b[39mnp\u001b[38;5;241m.\u001b[39mnonzero(expected \u001b[38;5;241m==\u001b[39m \u001b[38;5;241m0\u001b[39m)))[\u001b[38;5;241m0\u001b[39m]\n\u001b[1;32m--> 276\u001b[0m     \u001b[38;5;28;01mraise\u001b[39;00m \u001b[38;5;167;01mValueError\u001b[39;00m(\u001b[38;5;124m\"\u001b[39m\u001b[38;5;124mThe internally computed table of expected \u001b[39m\u001b[38;5;124m\"\u001b[39m\n\u001b[0;32m    277\u001b[0m                      \u001b[38;5;124m\"\u001b[39m\u001b[38;5;124mfrequencies has a zero element at \u001b[39m\u001b[38;5;132;01m%s\u001b[39;00m\u001b[38;5;124m.\u001b[39m\u001b[38;5;124m\"\u001b[39m \u001b[38;5;241m%\u001b[39m (zeropos,))\n\u001b[0;32m    279\u001b[0m \u001b[38;5;66;03m# The degrees of freedom\u001b[39;00m\n\u001b[0;32m    280\u001b[0m dof \u001b[38;5;241m=\u001b[39m expected\u001b[38;5;241m.\u001b[39msize \u001b[38;5;241m-\u001b[39m \u001b[38;5;28msum\u001b[39m(expected\u001b[38;5;241m.\u001b[39mshape) \u001b[38;5;241m+\u001b[39m expected\u001b[38;5;241m.\u001b[39mndim \u001b[38;5;241m-\u001b[39m \u001b[38;5;241m1\u001b[39m\n",
      "\u001b[1;31mValueError\u001b[0m: The internally computed table of expected frequencies has a zero element at (0, 7)."
     ]
    }
   ],
   "source": [
    "for i in p_list:\n",
    "    print(chi2bool(i))"
   ]
  },
  {
   "cell_type": "code",
   "execution_count": 149,
   "id": "f1768bb3",
   "metadata": {},
   "outputs": [
    {
     "data": {
      "text/plain": [
       "(7.838005050505051,\n",
       " 0.3470951089625462,\n",
       " 7,\n",
       " array([[2.08695652, 1.04347826, 1.04347826, 1.56521739, 2.60869565,\n",
       "         1.04347826, 1.56521739, 1.04347826],\n",
       "        [1.91304348, 0.95652174, 0.95652174, 1.43478261, 2.39130435,\n",
       "         0.95652174, 1.43478261, 0.95652174]]))"
      ]
     },
     "execution_count": 149,
     "metadata": {},
     "output_type": "execute_result"
    }
   ],
   "source": [
    "combine = combinations_(df)\n",
    "chi2_contingency(combine[0])"
   ]
  },
  {
   "cell_type": "code",
   "execution_count": 142,
   "id": "48fea07c",
   "metadata": {},
   "outputs": [
    {
     "data": {
      "text/plain": [
       "[[3, 0, 0, 1, 3, 1, 2, 2], [1, 2, 2, 2, 2, 1, 1, 0]]"
      ]
     },
     "execution_count": 142,
     "metadata": {},
     "output_type": "execute_result"
    }
   ],
   "source": [
    "p_list[0]"
   ]
  },
  {
   "cell_type": "code",
   "execution_count": 141,
   "id": "508ffaf7",
   "metadata": {},
   "outputs": [
    {
     "ename": "IndexError",
     "evalue": "list index out of range",
     "output_type": "error",
     "traceback": [
      "\u001b[1;31m---------------------------------------------------------------------------\u001b[0m",
      "\u001b[1;31mIndexError\u001b[0m                                Traceback (most recent call last)",
      "Cell \u001b[1;32mIn [141], line 1\u001b[0m\n\u001b[1;32m----> 1\u001b[0m \u001b[43mchi2bool\u001b[49m\u001b[43m(\u001b[49m\u001b[43mp_list\u001b[49m\u001b[43m[\u001b[49m\u001b[38;5;241;43m1\u001b[39;49m\u001b[43m]\u001b[49m\u001b[43m)\u001b[49m\n",
      "Cell \u001b[1;32mIn [132], line 3\u001b[0m, in \u001b[0;36mchi2bool\u001b[1;34m(chi)\u001b[0m\n\u001b[0;32m      1\u001b[0m \u001b[38;5;28;01mdef\u001b[39;00m \u001b[38;5;21mchi2bool\u001b[39m(chi):\n\u001b[0;32m      2\u001b[0m     chi_squared \u001b[38;5;241m=\u001b[39m chi[\u001b[38;5;241m0\u001b[39m]\n\u001b[1;32m----> 3\u001b[0m     dof \u001b[38;5;241m=\u001b[39m \u001b[43mchi\u001b[49m\u001b[43m[\u001b[49m\u001b[38;5;241;43m2\u001b[39;49m\u001b[43m]\u001b[49m\n\u001b[0;32m      4\u001b[0m     critical_value \u001b[38;5;241m=\u001b[39m chi2\u001b[38;5;241m.\u001b[39mppf(\u001b[38;5;241m0.95\u001b[39m, dof)\n\u001b[0;32m      5\u001b[0m     \u001b[38;5;28;01mif\u001b[39;00m chi[\u001b[38;5;241m1\u001b[39m] \u001b[38;5;241m>\u001b[39m  critical_value:\n",
      "\u001b[1;31mIndexError\u001b[0m: list index out of range"
     ]
    }
   ],
   "source": [
    "chi2bool(p_list[1])"
   ]
  },
  {
   "cell_type": "code",
   "execution_count": 144,
   "id": "969ba4af",
   "metadata": {},
   "outputs": [
    {
     "ename": "IndexError",
     "evalue": "index 2 is out of bounds for axis 0 with size 2",
     "output_type": "error",
     "traceback": [
      "\u001b[1;31m---------------------------------------------------------------------------\u001b[0m",
      "\u001b[1;31mIndexError\u001b[0m                                Traceback (most recent call last)",
      "Cell \u001b[1;32mIn [144], line 1\u001b[0m\n\u001b[1;32m----> 1\u001b[0m \u001b[43mchi2bool\u001b[49m\u001b[43m(\u001b[49m\u001b[43mp\u001b[49m\u001b[43m[\u001b[49m\u001b[38;5;241;43m0\u001b[39;49m\u001b[43m]\u001b[49m\u001b[43m)\u001b[49m\n",
      "Cell \u001b[1;32mIn [132], line 3\u001b[0m, in \u001b[0;36mchi2bool\u001b[1;34m(chi)\u001b[0m\n\u001b[0;32m      1\u001b[0m \u001b[38;5;28;01mdef\u001b[39;00m \u001b[38;5;21mchi2bool\u001b[39m(chi):\n\u001b[0;32m      2\u001b[0m     chi_squared \u001b[38;5;241m=\u001b[39m chi[\u001b[38;5;241m0\u001b[39m]\n\u001b[1;32m----> 3\u001b[0m     dof \u001b[38;5;241m=\u001b[39m \u001b[43mchi\u001b[49m\u001b[43m[\u001b[49m\u001b[38;5;241;43m2\u001b[39;49m\u001b[43m]\u001b[49m\n\u001b[0;32m      4\u001b[0m     critical_value \u001b[38;5;241m=\u001b[39m chi2\u001b[38;5;241m.\u001b[39mppf(\u001b[38;5;241m0.95\u001b[39m, dof)\n\u001b[0;32m      5\u001b[0m     \u001b[38;5;28;01mif\u001b[39;00m chi[\u001b[38;5;241m1\u001b[39m] \u001b[38;5;241m>\u001b[39m  critical_value:\n",
      "\u001b[1;31mIndexError\u001b[0m: index 2 is out of bounds for axis 0 with size 2"
     ]
    }
   ],
   "source": [
    "chi2bool(p[0])"
   ]
  },
  {
   "cell_type": "code",
   "execution_count": 133,
   "id": "7a78ddb5",
   "metadata": {},
   "outputs": [
    {
     "data": {
      "text/plain": [
       "(93.69843991031675,\n",
       " 0.9993928334618812,\n",
       " 142,\n",
       " array([[[1.24447493, 1.12002743, 1.49336991, 0.99557994, 1.49336991,\n",
       "          1.61781741, 1.36892242, 0.74668496],\n",
       "         [1.59503125, 1.43552812, 1.91403749, 1.276025  , 1.91403749,\n",
       "          2.07354062, 1.75453437, 0.95701875]],\n",
       " \n",
       "        [[1.67733577, 1.50960219, 2.01280293, 1.34186862, 2.01280293,\n",
       "          2.1805365 , 1.84506935, 1.00640146],\n",
       "         [2.14982472, 1.93484225, 2.57978967, 1.71985978, 2.57978967,\n",
       "          2.79477214, 2.36480719, 1.28989483]],\n",
       " \n",
       "        [[1.89376619, 1.70438957, 2.27251943, 1.51501296, 2.27251943,\n",
       "          2.46189605, 2.08314281, 1.13625972],\n",
       "         [2.42722146, 2.18449931, 2.91266575, 1.94177717, 2.91266575,\n",
       "          3.1553879 , 2.66994361, 1.45633288]],\n",
       " \n",
       "        [[1.51501296, 1.36351166, 1.81801555, 1.21201036, 1.81801555,\n",
       "          1.96951684, 1.66651425, 0.90900777],\n",
       "         [1.94177717, 1.74759945, 2.3301326 , 1.55342173, 2.3301326 ,\n",
       "          2.52431032, 2.13595488, 1.1650663 ]],\n",
       " \n",
       "        [[1.62322817, 1.46090535, 1.9478738 , 1.29858253, 1.9478738 ,\n",
       "          2.11019662, 1.78555098, 0.9739369 ],\n",
       "         [2.08047554, 1.87242798, 2.49657064, 1.66438043, 2.49657064,\n",
       "          2.7046182 , 2.28852309, 1.24828532]],\n",
       " \n",
       "        [[1.83965859, 1.65569273, 2.20759031, 1.47172687, 2.20759031,\n",
       "          2.39155617, 2.02362445, 1.10379515],\n",
       "         [2.35787228, 2.12208505, 2.82944673, 1.88629782, 2.82944673,\n",
       "          3.06523396, 2.5936595 , 1.41472337]],\n",
       " \n",
       "        [[1.46090535, 1.31481481, 1.75308642, 1.16872428, 1.75308642,\n",
       "          1.89917695, 1.60699588, 0.87654321],\n",
       "         [1.87242798, 1.68518519, 2.24691358, 1.49794239, 2.24691358,\n",
       "          2.43415638, 2.05967078, 1.12345679]],\n",
       " \n",
       "        [[2.27251943, 2.04526749, 2.72702332, 1.81801555, 2.72702332,\n",
       "          2.95427526, 2.49977138, 1.36351166],\n",
       "         [2.91266575, 2.62139918, 3.4951989 , 2.3301326 , 3.4951989 ,\n",
       "          3.78646548, 3.20393233, 1.74759945]],\n",
       " \n",
       "        [[1.89376619, 1.70438957, 2.27251943, 1.51501296, 2.27251943,\n",
       "          2.46189605, 2.08314281, 1.13625972],\n",
       "         [2.42722146, 2.18449931, 2.91266575, 1.94177717, 2.91266575,\n",
       "          3.1553879 , 2.66994361, 1.45633288]],\n",
       " \n",
       "        [[2.11019662, 1.89917695, 2.53223594, 1.68815729, 2.53223594,\n",
       "          2.7432556 , 2.32121628, 1.26611797],\n",
       "         [2.7046182 , 2.43415638, 3.24554184, 2.16369456, 3.24554184,\n",
       "          3.51600366, 2.97508002, 1.62277092]]]))"
      ]
     },
     "execution_count": 133,
     "metadata": {},
     "output_type": "execute_result"
    }
   ],
   "source": [
    "p_list = p.tolist()\n",
    "p_chi2 = chi2_contingency(p_list)\n",
    "p_chi2"
   ]
  },
  {
   "cell_type": "code",
   "execution_count": 124,
   "id": "dab47d2c",
   "metadata": {},
   "outputs": [
    {
     "name": "stdout",
     "output_type": "stream",
     "text": [
      "since chi2 = 0.4690756607381139 is less than the critical value = 14.067140449340169 , we do not reject the null hypothesis\n"
     ]
    }
   ],
   "source": [
    "chi2bool(p_chi2)"
   ]
  },
  {
   "cell_type": "code",
   "execution_count": 123,
   "id": "9d58aae1",
   "metadata": {},
   "outputs": [],
   "source": []
  },
  {
   "cell_type": "code",
   "execution_count": 102,
   "id": "76f2747d",
   "metadata": {},
   "outputs": [
    {
     "name": "stdout",
     "output_type": "stream",
     "text": [
      "we accept the null hypothesis\n"
     ]
    }
   ],
   "source": []
  },
  {
   "cell_type": "code",
   "execution_count": 84,
   "id": "a3438fae",
   "metadata": {},
   "outputs": [
    {
     "data": {
      "text/plain": [
       "2.167349909298057"
      ]
     },
     "execution_count": 84,
     "metadata": {},
     "output_type": "execute_result"
    }
   ],
   "source": []
  },
  {
   "cell_type": "code",
   "execution_count": 67,
   "id": "3d550d9b",
   "metadata": {},
   "outputs": [
    {
     "ename": "AttributeError",
     "evalue": "'numpy.float64' object has no attribute 'ppf'",
     "output_type": "error",
     "traceback": [
      "\u001b[1;31m---------------------------------------------------------------------------\u001b[0m",
      "\u001b[1;31mAttributeError\u001b[0m                            Traceback (most recent call last)",
      "Cell \u001b[1;32mIn [67], line 1\u001b[0m\n\u001b[1;32m----> 1\u001b[0m \u001b[43mchi2bool\u001b[49m\u001b[43m(\u001b[49m\u001b[43mp_chi2\u001b[49m\u001b[43m)\u001b[49m\n",
      "Cell \u001b[1;32mIn [66], line 4\u001b[0m, in \u001b[0;36mchi2bool\u001b[1;34m(chi)\u001b[0m\n\u001b[0;32m      2\u001b[0m chi2 \u001b[38;5;241m=\u001b[39m chi[\u001b[38;5;241m0\u001b[39m]\n\u001b[0;32m      3\u001b[0m dof \u001b[38;5;241m=\u001b[39m chi[\u001b[38;5;241m3\u001b[39m]\n\u001b[1;32m----> 4\u001b[0m \u001b[38;5;28;01mif\u001b[39;00m chi[\u001b[38;5;241m1\u001b[39m] \u001b[38;5;241m>\u001b[39m \u001b[43mchi2\u001b[49m\u001b[38;5;241;43m.\u001b[39;49m\u001b[43mppf\u001b[49m(chi2, dof):\n\u001b[0;32m      5\u001b[0m     \u001b[38;5;28mprint\u001b[39m(\u001b[38;5;124m\"\u001b[39m\u001b[38;5;124mwe reject the null hypothesis\u001b[39m\u001b[38;5;124m\"\u001b[39m)\n\u001b[0;32m      6\u001b[0m \u001b[38;5;28;01melse\u001b[39;00m: \n",
      "\u001b[1;31mAttributeError\u001b[0m: 'numpy.float64' object has no attribute 'ppf'"
     ]
    }
   ],
   "source": [
    "chi2bool(p_chi2)"
   ]
  },
  {
   "cell_type": "code",
   "execution_count": null,
   "id": "814f879c",
   "metadata": {},
   "outputs": [],
   "source": [
    "def chi2(df):\n",
    "    empty = []\n",
    "    v = combinations_(df)\n",
    "    u = len(v)\n",
    "    for i in range(u):\n",
    "        t = chi2_contingency(v[i])\n",
    "        print(t)\n",
    "#         empty.append(t)\n",
    "#     return empty"
   ]
  },
  {
   "cell_type": "code",
   "execution_count": null,
   "id": "683bc63c",
   "metadata": {},
   "outputs": [],
   "source": [
    "chi2(df)"
   ]
  },
  {
   "cell_type": "code",
   "execution_count": null,
   "id": "20b1fc29",
   "metadata": {},
   "outputs": [],
   "source": [
    "v =combinations_(df)\n",
    "np.array(v[i])"
   ]
  },
  {
   "cell_type": "code",
   "execution_count": null,
   "id": "9492dc22",
   "metadata": {},
   "outputs": [],
   "source": []
  },
  {
   "cell_type": "code",
   "execution_count": null,
   "id": "0e303d3d",
   "metadata": {},
   "outputs": [],
   "source": []
  },
  {
   "cell_type": "code",
   "execution_count": null,
   "id": "aec726c3",
   "metadata": {},
   "outputs": [],
   "source": []
  },
  {
   "cell_type": "code",
   "execution_count": null,
   "id": "d516f114",
   "metadata": {},
   "outputs": [],
   "source": []
  },
  {
   "cell_type": "code",
   "execution_count": null,
   "id": "0f30e08d",
   "metadata": {},
   "outputs": [],
   "source": [
    "def list_multiplier(df):\n",
    "    new_list = []\n",
    "    for i in range(len(df)):\n",
    "        new_list = [i]\n",
    "    return new_list"
   ]
  },
  {
   "cell_type": "code",
   "execution_count": null,
   "id": "50590161",
   "metadata": {},
   "outputs": [],
   "source": []
  },
  {
   "cell_type": "code",
   "execution_count": null,
   "id": "5a5dd79f",
   "metadata": {},
   "outputs": [],
   "source": [
    "def append_(df):\n",
    "    empty = []\n",
    "    k = combinations_(df)\n",
    "    v = len(k)\n",
    "    for i in k:\n",
    "        test = []\n",
    "        test[i] = k[i]\n",
    "        return test\n",
    "        "
   ]
  },
  {
   "cell_type": "code",
   "execution_count": null,
   "id": "1b561052",
   "metadata": {},
   "outputs": [],
   "source": [
    "combinations_(df)[i]"
   ]
  },
  {
   "cell_type": "code",
   "execution_count": null,
   "id": "e6bec527",
   "metadata": {},
   "outputs": [],
   "source": [
    "empty = []\n",
    "k = combinations_(df)\n",
    "v = len(k)\n",
    "for i in range(v):\n",
    "    a_i = k[i]\n",
    "    print(a_i)\n",
    "#     empty[i] = (k[i])\n",
    "#         print(test)\n",
    "    #     test = []\n",
    "#     test[i] = k[i]\n",
    "#     print(test)"
   ]
  },
  {
   "cell_type": "code",
   "execution_count": 125,
   "id": "878619f5",
   "metadata": {},
   "outputs": [
    {
     "name": "stdout",
     "output_type": "stream",
     "text": [
      "[0]\n",
      "[1]\n",
      "[2]\n",
      "[3]\n",
      "[4]\n",
      "[5]\n",
      "[6]\n",
      "[7]\n",
      "[8]\n",
      "[9]\n"
     ]
    }
   ],
   "source": [
    "for i in range(10):\n",
    "  a_i = [i] #Stores the corresponding value of i in each a_i list.\n",
    "  print(a_i)"
   ]
  },
  {
   "cell_type": "code",
   "execution_count": 108,
   "id": "9c2434ae",
   "metadata": {},
   "outputs": [
    {
     "name": "stdout",
     "output_type": "stream",
     "text": [
      "(array([3, 2, 4, 3, 4, 4, 3, 0], dtype=int64), array([1, 2, 3, 0, 0, 4, 4, 2], dtype=int64))\n"
     ]
    }
   ],
   "source": [
    "using = []\n",
    "for i in test:\n",
    "    print(i)\n",
    "#     x = i.tolist()\n",
    "#     using.append(x)\n",
    "# using"
   ]
  },
  {
   "cell_type": "code",
   "execution_count": 74,
   "id": "a5d12594",
   "metadata": {},
   "outputs": [
    {
     "name": "stdout",
     "output_type": "stream",
     "text": [
      "[]\n"
     ]
    }
   ],
   "source": [
    "test_list = [2]\n",
    "test_2 = test_list * 3 \n",
    "for i in range(v_length):\n",
    "    "
   ]
  },
  {
   "cell_type": "code",
   "execution_count": 69,
   "id": "11a0a300",
   "metadata": {},
   "outputs": [],
   "source": [
    "v = append_(df)\n",
    "v_length = len(v)\n",
    "#take v[i] out of v for i number of list "
   ]
  },
  {
   "cell_type": "code",
   "execution_count": 22,
   "id": "ec50aa10",
   "metadata": {},
   "outputs": [
    {
     "data": {
      "text/plain": [
       "[array([3, 0, 0, 1, 3, 1, 2, 2], dtype=int64),\n",
       " array([1, 2, 2, 2, 2, 1, 1, 0], dtype=int64),\n",
       " array([2, 3, 3, 2, 3, 3, 1, 2], dtype=int64),\n",
       " array([3, 2, 4, 3, 4, 4, 3, 0], dtype=int64),\n",
       " array([1, 2, 3, 0, 0, 4, 4, 2], dtype=int64)]"
      ]
     },
     "execution_count": 22,
     "metadata": {},
     "output_type": "execute_result"
    }
   ],
   "source": [
    "v = list(df)\n",
    "empty_0 = []\n",
    "for i in list(df):\n",
    "    column_of_array = df[i].to_numpy()\n",
    "    empty_0.append(column_of_array)\n",
    "empty_0"
   ]
  },
  {
   "cell_type": "code",
   "execution_count": 55,
   "id": "5d0e8b60",
   "metadata": {},
   "outputs": [
    {
     "data": {
      "text/plain": [
       "[[],\n",
       " [],\n",
       " [],\n",
       " [],\n",
       " [],\n",
       " [],\n",
       " [],\n",
       " [],\n",
       " [],\n",
       " [],\n",
       " (array([3, 0, 0, 1, 3, 1, 2, 2], dtype=int64),\n",
       "  array([1, 2, 2, 2, 2, 1, 1, 0], dtype=int64)),\n",
       " (array([3, 0, 0, 1, 3, 1, 2, 2], dtype=int64),\n",
       "  array([2, 3, 3, 2, 3, 3, 1, 2], dtype=int64)),\n",
       " (array([3, 0, 0, 1, 3, 1, 2, 2], dtype=int64),\n",
       "  array([3, 2, 4, 3, 4, 4, 3, 0], dtype=int64)),\n",
       " (array([3, 0, 0, 1, 3, 1, 2, 2], dtype=int64),\n",
       "  array([1, 2, 3, 0, 0, 4, 4, 2], dtype=int64)),\n",
       " (array([1, 2, 2, 2, 2, 1, 1, 0], dtype=int64),\n",
       "  array([2, 3, 3, 2, 3, 3, 1, 2], dtype=int64)),\n",
       " (array([1, 2, 2, 2, 2, 1, 1, 0], dtype=int64),\n",
       "  array([3, 2, 4, 3, 4, 4, 3, 0], dtype=int64)),\n",
       " (array([1, 2, 2, 2, 2, 1, 1, 0], dtype=int64),\n",
       "  array([1, 2, 3, 0, 0, 4, 4, 2], dtype=int64)),\n",
       " (array([2, 3, 3, 2, 3, 3, 1, 2], dtype=int64),\n",
       "  array([3, 2, 4, 3, 4, 4, 3, 0], dtype=int64)),\n",
       " (array([2, 3, 3, 2, 3, 3, 1, 2], dtype=int64),\n",
       "  array([1, 2, 3, 0, 0, 4, 4, 2], dtype=int64)),\n",
       " (array([3, 2, 4, 3, 4, 4, 3, 0], dtype=int64),\n",
       "  array([1, 2, 3, 0, 0, 4, 4, 2], dtype=int64))]"
      ]
     },
     "execution_count": 55,
     "metadata": {},
     "output_type": "execute_result"
    }
   ],
   "source": [
    "new_list = []\n",
    "v = list(df)\n",
    "empty_list = []\n",
    "itertools_combinations = list(itertools.combinations(empty_0, 2))\n",
    "for i in range(length):\n",
    "    "
   ]
  },
  {
   "cell_type": "code",
   "execution_count": 45,
   "id": "e34dfb97",
   "metadata": {},
   "outputs": [
    {
     "data": {
      "text/plain": [
       "[(array([3, 0, 0, 1, 3, 1, 2, 2], dtype=int64),\n",
       "  array([1, 2, 2, 2, 2, 1, 1, 0], dtype=int64)),\n",
       " (array([3, 0, 0, 1, 3, 1, 2, 2], dtype=int64),\n",
       "  array([2, 3, 3, 2, 3, 3, 1, 2], dtype=int64)),\n",
       " (array([3, 0, 0, 1, 3, 1, 2, 2], dtype=int64),\n",
       "  array([3, 2, 4, 3, 4, 4, 3, 0], dtype=int64)),\n",
       " (array([3, 0, 0, 1, 3, 1, 2, 2], dtype=int64),\n",
       "  array([1, 2, 3, 0, 0, 4, 4, 2], dtype=int64)),\n",
       " (array([1, 2, 2, 2, 2, 1, 1, 0], dtype=int64),\n",
       "  array([2, 3, 3, 2, 3, 3, 1, 2], dtype=int64)),\n",
       " (array([1, 2, 2, 2, 2, 1, 1, 0], dtype=int64),\n",
       "  array([3, 2, 4, 3, 4, 4, 3, 0], dtype=int64)),\n",
       " (array([1, 2, 2, 2, 2, 1, 1, 0], dtype=int64),\n",
       "  array([1, 2, 3, 0, 0, 4, 4, 2], dtype=int64)),\n",
       " (array([2, 3, 3, 2, 3, 3, 1, 2], dtype=int64),\n",
       "  array([3, 2, 4, 3, 4, 4, 3, 0], dtype=int64)),\n",
       " (array([2, 3, 3, 2, 3, 3, 1, 2], dtype=int64),\n",
       "  array([1, 2, 3, 0, 0, 4, 4, 2], dtype=int64)),\n",
       " (array([3, 2, 4, 3, 4, 4, 3, 0], dtype=int64),\n",
       "  array([1, 2, 3, 0, 0, 4, 4, 2], dtype=int64))]"
      ]
     },
     "execution_count": 45,
     "metadata": {},
     "output_type": "execute_result"
    }
   ],
   "source": [
    "length = len(itertools_combinations)\n",
    "# u = [itertools_combinations]\n",
    "# u\n",
    "itertools_combinations"
   ]
  },
  {
   "cell_type": "code",
   "execution_count": 16,
   "id": "ce06a56f",
   "metadata": {},
   "outputs": [
    {
     "data": {
      "text/plain": [
       "[array([3, 0, 0, 1, 3, 1, 2, 2], dtype=int64),\n",
       " array([1, 2, 2, 2, 2, 1, 1, 0], dtype=int64),\n",
       " array([2, 3, 3, 2, 3, 3, 1, 2], dtype=int64),\n",
       " array([3, 2, 4, 3, 4, 4, 3, 0], dtype=int64),\n",
       " array([1, 2, 3, 0, 0, 4, 4, 2], dtype=int64)]"
      ]
     },
     "execution_count": 16,
     "metadata": {},
     "output_type": "execute_result"
    }
   ],
   "source": [
    "empty_0 = []\n",
    "for i in list(df):\n",
    "    column_of_array = df[i].to_numpy()\n",
    "    empty_0.append(column_of_array) \n",
    "empty_0"
   ]
  },
  {
   "cell_type": "code",
   "execution_count": 12,
   "id": "e15e27c5",
   "metadata": {},
   "outputs": [
    {
     "data": {
      "text/plain": [
       "['A', 'B', 'C', 'D', 'E']"
      ]
     },
     "execution_count": 12,
     "metadata": {},
     "output_type": "execute_result"
    }
   ],
   "source": [
    "v = list(df)\n",
    "v"
   ]
  },
  {
   "cell_type": "code",
   "execution_count": 3,
   "id": "12dbb84b",
   "metadata": {},
   "outputs": [],
   "source": [
    "v1 = [1,2,3,4,5]\n",
    "v2 = [2,2,2,2,2]\n",
    "headers.append(v1)"
   ]
  },
  {
   "cell_type": "code",
   "execution_count": null,
   "id": "65c35b99",
   "metadata": {},
   "outputs": [],
   "source": []
  },
  {
   "cell_type": "code",
   "execution_count": null,
   "id": "a423a39d",
   "metadata": {},
   "outputs": [],
   "source": []
  },
  {
   "cell_type": "code",
   "execution_count": null,
   "id": "c586d7a3",
   "metadata": {},
   "outputs": [],
   "source": []
  },
  {
   "cell_type": "code",
   "execution_count": null,
   "id": "dd73f442",
   "metadata": {},
   "outputs": [],
   "source": []
  }
 ],
 "metadata": {
  "kernelspec": {
   "display_name": "Python 3 (ipykernel)",
   "language": "python",
   "name": "python3"
  },
  "language_info": {
   "codemirror_mode": {
    "name": "ipython",
    "version": 3
   },
   "file_extension": ".py",
   "mimetype": "text/x-python",
   "name": "python",
   "nbconvert_exporter": "python",
   "pygments_lexer": "ipython3",
   "version": "3.8.8"
  }
 },
 "nbformat": 4,
 "nbformat_minor": 5
}
