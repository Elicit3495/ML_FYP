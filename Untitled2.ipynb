{
 "cells": [
  {
   "cell_type": "code",
   "execution_count": 110,
   "id": "673349c5",
   "metadata": {},
   "outputs": [],
   "source": [
    "import pandas as pd\n",
    "import numpy as np\n",
    "import itertools\n",
    "from scipy.stats import chi2_contingency\n",
    "from conditional import csv_format_discrete\n",
    "from scipy.stats import chi2"
   ]
  },
  {
   "cell_type": "code",
   "execution_count": 71,
   "id": "3295db86",
   "metadata": {},
   "outputs": [],
   "source": [
    "df = csv_format_discrete(r\"C:\\Users\\User\\Documents\\GitHub\\ML_FYP\\dataset\\test_2.dat\")"
   ]
  },
  {
   "cell_type": "code",
   "execution_count": 72,
   "id": "0b524821",
   "metadata": {},
   "outputs": [
    {
     "data": {
      "text/html": [
       "<div>\n",
       "<style scoped>\n",
       "    .dataframe tbody tr th:only-of-type {\n",
       "        vertical-align: middle;\n",
       "    }\n",
       "\n",
       "    .dataframe tbody tr th {\n",
       "        vertical-align: top;\n",
       "    }\n",
       "\n",
       "    .dataframe thead th {\n",
       "        text-align: right;\n",
       "    }\n",
       "</style>\n",
       "<table border=\"1\" class=\"dataframe\">\n",
       "  <thead>\n",
       "    <tr style=\"text-align: right;\">\n",
       "      <th></th>\n",
       "      <th>A</th>\n",
       "      <th>B</th>\n",
       "      <th>C</th>\n",
       "      <th>D</th>\n",
       "      <th>E</th>\n",
       "    </tr>\n",
       "  </thead>\n",
       "  <tbody>\n",
       "    <tr>\n",
       "      <th>1</th>\n",
       "      <td>3</td>\n",
       "      <td>3</td>\n",
       "      <td>2</td>\n",
       "      <td>3</td>\n",
       "      <td>1</td>\n",
       "    </tr>\n",
       "    <tr>\n",
       "      <th>2</th>\n",
       "      <td>0</td>\n",
       "      <td>2</td>\n",
       "      <td>3</td>\n",
       "      <td>2</td>\n",
       "      <td>2</td>\n",
       "    </tr>\n",
       "    <tr>\n",
       "      <th>3</th>\n",
       "      <td>0</td>\n",
       "      <td>2</td>\n",
       "      <td>3</td>\n",
       "      <td>4</td>\n",
       "      <td>3</td>\n",
       "    </tr>\n",
       "    <tr>\n",
       "      <th>4</th>\n",
       "      <td>1</td>\n",
       "      <td>2</td>\n",
       "      <td>2</td>\n",
       "      <td>3</td>\n",
       "      <td>0</td>\n",
       "    </tr>\n",
       "    <tr>\n",
       "      <th>5</th>\n",
       "      <td>3</td>\n",
       "      <td>4</td>\n",
       "      <td>3</td>\n",
       "      <td>4</td>\n",
       "      <td>0</td>\n",
       "    </tr>\n",
       "    <tr>\n",
       "      <th>6</th>\n",
       "      <td>1</td>\n",
       "      <td>1</td>\n",
       "      <td>3</td>\n",
       "      <td>4</td>\n",
       "      <td>4</td>\n",
       "    </tr>\n",
       "    <tr>\n",
       "      <th>7</th>\n",
       "      <td>2</td>\n",
       "      <td>1</td>\n",
       "      <td>1</td>\n",
       "      <td>3</td>\n",
       "      <td>4</td>\n",
       "    </tr>\n",
       "    <tr>\n",
       "      <th>8</th>\n",
       "      <td>2</td>\n",
       "      <td>2</td>\n",
       "      <td>2</td>\n",
       "      <td>0</td>\n",
       "      <td>2</td>\n",
       "    </tr>\n",
       "  </tbody>\n",
       "</table>\n",
       "</div>"
      ],
      "text/plain": [
       "   A  B  C  D  E\n",
       "1  3  3  2  3  1\n",
       "2  0  2  3  2  2\n",
       "3  0  2  3  4  3\n",
       "4  1  2  2  3  0\n",
       "5  3  4  3  4  0\n",
       "6  1  1  3  4  4\n",
       "7  2  1  1  3  4\n",
       "8  2  2  2  0  2"
      ]
     },
     "execution_count": 72,
     "metadata": {},
     "output_type": "execute_result"
    }
   ],
   "source": [
    "df"
   ]
  },
  {
   "cell_type": "code",
   "execution_count": 73,
   "id": "42098a91",
   "metadata": {},
   "outputs": [],
   "source": [
    "#takes in a pandas dataframe, collects each column of the dataframe and combine it into a list\n",
    "def split_(df):\n",
    "    v = list(df)\n",
    "    empty_0 = []\n",
    "    for i in list(df):\n",
    "        column_of_array = df[i].to_numpy()\n",
    "        empty_0.append(column_of_array)\n",
    "    return empty_0"
   ]
  },
  {
   "cell_type": "code",
   "execution_count": 74,
   "id": "6033bebe",
   "metadata": {},
   "outputs": [],
   "source": [
    "#this function essentially obtains all the combinations of the splitted df\n",
    "def combinations_(df):\n",
    "    empty_1 = []\n",
    "    empty_2 = []\n",
    "    v = split_(df) #call the function split_\n",
    "    itertools_combinations = list(itertools.combinations(v, 2))\n",
    "    return itertools_combinations\n",
    "#returns a list of combinations"
   ]
  },
  {
   "cell_type": "code",
   "execution_count": 115,
   "id": "7979d575",
   "metadata": {},
   "outputs": [],
   "source": [
    "def chi2bool(chi):\n",
    "    chi = chi2_contingency(chi)\n",
    "    chi_squared = chi[0]\n",
    "    dof = chi[2]\n",
    "    critical_value = chi2.ppf(0.95, dof)\n",
    "    if chi[0] >  critical_value:\n",
    "        print(\"since chi2 =\", chi[0] , \"is more than the critical value =\" , critical_value , \", we reject the null hypothesis, dof=\", dof) \n",
    "    else: \n",
    "        print(\"since chi2 =\" , chi[0] , \"is less than the critical value =\" , critical_value , \", we do not reject the null hypothesis, dof=\", dof)"
   ]
  },
  {
   "cell_type": "code",
   "execution_count": 116,
   "id": "96706b79",
   "metadata": {},
   "outputs": [],
   "source": [
    "def tolist(df):\n",
    "    df = combinations_(df)\n",
    "    df = np.array(df)\n",
    "    df = df.tolist()\n",
    "    return df"
   ]
  },
  {
   "cell_type": "code",
   "execution_count": 117,
   "id": "1e1e2564",
   "metadata": {},
   "outputs": [
    {
     "data": {
      "text/plain": [
       "[[[3, 0, 0, 1, 3, 1, 2, 2], [3, 2, 2, 2, 4, 1, 1, 2]],\n",
       " [[3, 0, 0, 1, 3, 1, 2, 2], [2, 3, 3, 2, 3, 3, 1, 2]],\n",
       " [[3, 0, 0, 1, 3, 1, 2, 2], [3, 2, 4, 3, 4, 4, 3, 0]],\n",
       " [[3, 0, 0, 1, 3, 1, 2, 2], [1, 2, 3, 0, 0, 4, 4, 2]],\n",
       " [[3, 2, 2, 2, 4, 1, 1, 2], [2, 3, 3, 2, 3, 3, 1, 2]],\n",
       " [[3, 2, 2, 2, 4, 1, 1, 2], [3, 2, 4, 3, 4, 4, 3, 0]],\n",
       " [[3, 2, 2, 2, 4, 1, 1, 2], [1, 2, 3, 0, 0, 4, 4, 2]],\n",
       " [[2, 3, 3, 2, 3, 3, 1, 2], [3, 2, 4, 3, 4, 4, 3, 0]],\n",
       " [[2, 3, 3, 2, 3, 3, 1, 2], [1, 2, 3, 0, 0, 4, 4, 2]],\n",
       " [[3, 2, 4, 3, 4, 4, 3, 0], [1, 2, 3, 0, 0, 4, 4, 2]]]"
      ]
     },
     "execution_count": 117,
     "metadata": {},
     "output_type": "execute_result"
    }
   ],
   "source": [
    "p = tolist(df)\n",
    "p"
   ]
  },
  {
   "cell_type": "code",
   "execution_count": 118,
   "id": "c2748526",
   "metadata": {},
   "outputs": [
    {
     "name": "stdout",
     "output_type": "stream",
     "text": [
      "since chi2 = 4.068394024276378 is less than the critical value = 14.067140449340169 , we do not reject the null hypothesis, dof= 7\n",
      "None\n",
      "since chi2 = 6.623757309941519 is less than the critical value = 14.067140449340169 , we do not reject the null hypothesis, dof= 7\n",
      "None\n",
      "since chi2 = 8.528079710144928 is less than the critical value = 14.067140449340169 , we do not reject the null hypothesis, dof= 7\n",
      "None\n",
      "since chi2 = 12.143055555555556 is less than the critical value = 14.067140449340169 , we do not reject the null hypothesis, dof= 7\n",
      "None\n",
      "since chi2 = 1.6367978770455553 is less than the critical value = 14.067140449340169 , we do not reject the null hypothesis, dof= 7\n",
      "None\n",
      "since chi2 = 4.876385336743393 is less than the critical value = 14.067140449340169 , we do not reject the null hypothesis, dof= 7\n",
      "None\n",
      "since chi2 = 10.779595588235296 is less than the critical value = 14.067140449340169 , we do not reject the null hypothesis, dof= 7\n",
      "None\n",
      "since chi2 = 3.6810068649885586 is less than the critical value = 14.067140449340169 , we do not reject the null hypothesis, dof= 7\n",
      "None\n",
      "since chi2 = 7.272478070175439 is less than the critical value = 14.067140449340169 , we do not reject the null hypothesis, dof= 7\n",
      "None\n",
      "since chi2 = 9.329871894409939 is less than the critical value = 14.067140449340169 , we do not reject the null hypothesis, dof= 7\n",
      "None\n"
     ]
    }
   ],
   "source": [
    "for i in p:\n",
    "    print(chi2bool(i))"
   ]
  },
  {
   "cell_type": "code",
   "execution_count": null,
   "id": "cd309917",
   "metadata": {},
   "outputs": [],
   "source": []
  },
  {
   "cell_type": "code",
   "execution_count": null,
   "id": "3940b4c2",
   "metadata": {},
   "outputs": [],
   "source": []
  }
 ],
 "metadata": {
  "kernelspec": {
   "display_name": "Python 3 (ipykernel)",
   "language": "python",
   "name": "python3"
  },
  "language_info": {
   "codemirror_mode": {
    "name": "ipython",
    "version": 3
   },
   "file_extension": ".py",
   "mimetype": "text/x-python",
   "name": "python",
   "nbconvert_exporter": "python",
   "pygments_lexer": "ipython3",
   "version": "3.8.8"
  }
 },
 "nbformat": 4,
 "nbformat_minor": 5
}
