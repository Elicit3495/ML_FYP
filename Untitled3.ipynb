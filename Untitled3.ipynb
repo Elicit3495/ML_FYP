{
 "cells": [
  {
   "cell_type": "code",
   "execution_count": 1,
   "id": "99d25821",
   "metadata": {},
   "outputs": [],
   "source": [
    "import pandas as pd\n",
    "import numpy as np\n",
    "from pygobnilp.gobnilp import Gobnilp\n",
    "import pgmpy\n",
    "import itertools\n",
    "from pgmpy.estimators.CITests import pearsonr\n",
    "from pgmpy.estimators.CITests import chi_square\n",
    "import networkx as nx\n",
    "import time\n",
    "import collections"
   ]
  },
  {
   "cell_type": "markdown",
   "id": "0b1444e0",
   "metadata": {},
   "source": [
    "### DIARRHOAE"
   ]
  },
  {
   "cell_type": "code",
   "execution_count": 75,
   "id": "af4c00b5",
   "metadata": {},
   "outputs": [],
   "source": [
    "df = pd.read_csv(r'DIARRHOEA_DATA.csv')"
   ]
  },
  {
   "cell_type": "code",
   "execution_count": 76,
   "id": "37705f53",
   "metadata": {},
   "outputs": [
    {
     "name": "stdout",
     "output_type": "stream",
     "text": [
      "{'No', 'Yes'}\n",
      "{'Less than 3 months', '3 months to 2 years', 'More than 2 years'}\n",
      "{'Within 3 hours', 'Immediately', 'More than 3 hours'}\n",
      "{'2 years', '4 years', 'Less than 1 year', '1 year', '3 years'}\n",
      "{'Underweight', 'Very underweight', 'Slightly underwight or above'}\n",
      "{'Language group 3', 'Language group 2', 'Language group 1'}\n",
      "{'Muslim', 'Other', 'Hindu'}\n",
      "{'Average or above', 'Very small', 'Small'}\n",
      "{'No', 'Yes'}\n",
      "{'Average or below', 'Richer', 'Richest'}\n",
      "{'3 or more children', '1 child', '2 children'}\n",
      "{'No', 'Yes'}\n",
      "{'Region 3', 'Region 4', 'Region 2', 'Region 1'}\n",
      "{'Agricultural etc', 'Non-agricultural'}\n",
      "{'No walls etc', 'Mud or stone etc', 'Grass/Burnt Bricks'}\n",
      "{'No', 'Yes'}\n",
      "{'No', 'Yes'}\n",
      "{'No', 'Yes'}\n",
      "{'Frequently', 'Moderate or None'}\n",
      "{'No education', 'Above primary', 'Primary'}\n",
      "{'25+', 'upto 24'}\n",
      "{'No', 'Yes'}\n",
      "{'No', 'Yes'}\n",
      "{'No', 'Somewhat', 'Yes'}\n",
      "{'No', 'Yes'}\n",
      "{'Into garbage', 'Used toilet/latrine', 'Other'}\n",
      "{'No', 'Yes'}\n",
      "{'No', 'Yes'}\n"
     ]
    }
   ],
   "source": [
    "for i in list(df):\n",
    "    print(set(df[i]))"
   ]
  },
  {
   "cell_type": "code",
   "execution_count": 77,
   "id": "6b22bf77",
   "metadata": {},
   "outputs": [],
   "source": [
    "for i in list(df):\n",
    "    if set(df[i]) == {'Yes', 'No'} or {'No', 'Yes'}:\n",
    "        df[i] = df[i].replace(dict_BF_BottleFeeding)"
   ]
  },
  {
   "cell_type": "code",
   "execution_count": 78,
   "id": "71eab3fa",
   "metadata": {},
   "outputs": [
    {
     "data": {
      "text/html": [
       "<div>\n",
       "<style scoped>\n",
       "    .dataframe tbody tr th:only-of-type {\n",
       "        vertical-align: middle;\n",
       "    }\n",
       "\n",
       "    .dataframe tbody tr th {\n",
       "        vertical-align: top;\n",
       "    }\n",
       "\n",
       "    .dataframe thead th {\n",
       "        text-align: right;\n",
       "    }\n",
       "</style>\n",
       "<table border=\"1\" class=\"dataframe\">\n",
       "  <thead>\n",
       "    <tr style=\"text-align: right;\">\n",
       "      <th></th>\n",
       "      <th>BF_BottleFeeding</th>\n",
       "      <th>BF_BreastfedMonths</th>\n",
       "      <th>BF_EarlyBreastfeeding</th>\n",
       "      <th>CHI_Age</th>\n",
       "      <th>CHI_Weight4Height</th>\n",
       "      <th>CUL_LanguageGroup</th>\n",
       "      <th>CUL_Religion</th>\n",
       "      <th>DEL_SmallBaby</th>\n",
       "      <th>DIA_HadDiarrhoea</th>\n",
       "      <th>ECO_WealthQuintile</th>\n",
       "      <th>...</th>\n",
       "      <th>KNW_WatchTV</th>\n",
       "      <th>MTH_Education</th>\n",
       "      <th>MTH_MaternalAge</th>\n",
       "      <th>SRV_Near</th>\n",
       "      <th>SRV_OKAlone</th>\n",
       "      <th>WSH_ImprovedToilet</th>\n",
       "      <th>WSH_ImprovedWaterSource</th>\n",
       "      <th>WSH_SafeStoolDisposal</th>\n",
       "      <th>WSH_WashWithAgent</th>\n",
       "      <th>WSH_WaterTreated</th>\n",
       "    </tr>\n",
       "  </thead>\n",
       "  <tbody>\n",
       "    <tr>\n",
       "      <th>0</th>\n",
       "      <td>0</td>\n",
       "      <td>Less than 3 months</td>\n",
       "      <td>Immediately</td>\n",
       "      <td>Less than 1 year</td>\n",
       "      <td>Slightly underwight or above</td>\n",
       "      <td>Language group 3</td>\n",
       "      <td>Hindu</td>\n",
       "      <td>Average or above</td>\n",
       "      <td>0</td>\n",
       "      <td>Average or below</td>\n",
       "      <td>...</td>\n",
       "      <td>Frequently</td>\n",
       "      <td>Primary</td>\n",
       "      <td>25+</td>\n",
       "      <td>1</td>\n",
       "      <td>0</td>\n",
       "      <td>1</td>\n",
       "      <td>1</td>\n",
       "      <td>Used toilet/latrine</td>\n",
       "      <td>1</td>\n",
       "      <td>0</td>\n",
       "    </tr>\n",
       "    <tr>\n",
       "      <th>1</th>\n",
       "      <td>0</td>\n",
       "      <td>3 months to 2 years</td>\n",
       "      <td>Within 3 hours</td>\n",
       "      <td>1 year</td>\n",
       "      <td>Underweight</td>\n",
       "      <td>Language group 3</td>\n",
       "      <td>Hindu</td>\n",
       "      <td>Average or above</td>\n",
       "      <td>0</td>\n",
       "      <td>Richer</td>\n",
       "      <td>...</td>\n",
       "      <td>Frequently</td>\n",
       "      <td>No education</td>\n",
       "      <td>25+</td>\n",
       "      <td>1</td>\n",
       "      <td>1</td>\n",
       "      <td>1</td>\n",
       "      <td>0</td>\n",
       "      <td>Other</td>\n",
       "      <td>1</td>\n",
       "      <td>0</td>\n",
       "    </tr>\n",
       "    <tr>\n",
       "      <th>2</th>\n",
       "      <td>0</td>\n",
       "      <td>3 months to 2 years</td>\n",
       "      <td>More than 3 hours</td>\n",
       "      <td>Less than 1 year</td>\n",
       "      <td>Underweight</td>\n",
       "      <td>Language group 1</td>\n",
       "      <td>Hindu</td>\n",
       "      <td>Average or above</td>\n",
       "      <td>1</td>\n",
       "      <td>Average or below</td>\n",
       "      <td>...</td>\n",
       "      <td>Moderate or None</td>\n",
       "      <td>Above primary</td>\n",
       "      <td>upto 24</td>\n",
       "      <td>1</td>\n",
       "      <td>1</td>\n",
       "      <td>0</td>\n",
       "      <td>0</td>\n",
       "      <td>Into garbage</td>\n",
       "      <td>0</td>\n",
       "      <td>0</td>\n",
       "    </tr>\n",
       "    <tr>\n",
       "      <th>3</th>\n",
       "      <td>0</td>\n",
       "      <td>Less than 3 months</td>\n",
       "      <td>Immediately</td>\n",
       "      <td>Less than 1 year</td>\n",
       "      <td>Slightly underwight or above</td>\n",
       "      <td>Language group 2</td>\n",
       "      <td>Hindu</td>\n",
       "      <td>Small</td>\n",
       "      <td>0</td>\n",
       "      <td>Richer</td>\n",
       "      <td>...</td>\n",
       "      <td>Moderate or None</td>\n",
       "      <td>No education</td>\n",
       "      <td>upto 24</td>\n",
       "      <td>1</td>\n",
       "      <td>1</td>\n",
       "      <td>1</td>\n",
       "      <td>1</td>\n",
       "      <td>Other</td>\n",
       "      <td>1</td>\n",
       "      <td>0</td>\n",
       "    </tr>\n",
       "    <tr>\n",
       "      <th>4</th>\n",
       "      <td>0</td>\n",
       "      <td>3 months to 2 years</td>\n",
       "      <td>Within 3 hours</td>\n",
       "      <td>1 year</td>\n",
       "      <td>Underweight</td>\n",
       "      <td>Language group 2</td>\n",
       "      <td>Hindu</td>\n",
       "      <td>Average or above</td>\n",
       "      <td>0</td>\n",
       "      <td>Richer</td>\n",
       "      <td>...</td>\n",
       "      <td>Frequently</td>\n",
       "      <td>Above primary</td>\n",
       "      <td>25+</td>\n",
       "      <td>1</td>\n",
       "      <td>1</td>\n",
       "      <td>1</td>\n",
       "      <td>1</td>\n",
       "      <td>Other</td>\n",
       "      <td>1</td>\n",
       "      <td>1</td>\n",
       "    </tr>\n",
       "    <tr>\n",
       "      <th>...</th>\n",
       "      <td>...</td>\n",
       "      <td>...</td>\n",
       "      <td>...</td>\n",
       "      <td>...</td>\n",
       "      <td>...</td>\n",
       "      <td>...</td>\n",
       "      <td>...</td>\n",
       "      <td>...</td>\n",
       "      <td>...</td>\n",
       "      <td>...</td>\n",
       "      <td>...</td>\n",
       "      <td>...</td>\n",
       "      <td>...</td>\n",
       "      <td>...</td>\n",
       "      <td>...</td>\n",
       "      <td>...</td>\n",
       "      <td>...</td>\n",
       "      <td>...</td>\n",
       "      <td>...</td>\n",
       "      <td>...</td>\n",
       "      <td>...</td>\n",
       "    </tr>\n",
       "    <tr>\n",
       "      <th>99995</th>\n",
       "      <td>0</td>\n",
       "      <td>3 months to 2 years</td>\n",
       "      <td>Within 3 hours</td>\n",
       "      <td>1 year</td>\n",
       "      <td>Very underweight</td>\n",
       "      <td>Language group 2</td>\n",
       "      <td>Other</td>\n",
       "      <td>Average or above</td>\n",
       "      <td>0</td>\n",
       "      <td>Average or below</td>\n",
       "      <td>...</td>\n",
       "      <td>Moderate or None</td>\n",
       "      <td>Primary</td>\n",
       "      <td>25+</td>\n",
       "      <td>1</td>\n",
       "      <td>1</td>\n",
       "      <td>0</td>\n",
       "      <td>0</td>\n",
       "      <td>Into garbage</td>\n",
       "      <td>0</td>\n",
       "      <td>0</td>\n",
       "    </tr>\n",
       "    <tr>\n",
       "      <th>99996</th>\n",
       "      <td>0</td>\n",
       "      <td>3 months to 2 years</td>\n",
       "      <td>Immediately</td>\n",
       "      <td>2 years</td>\n",
       "      <td>Very underweight</td>\n",
       "      <td>Language group 1</td>\n",
       "      <td>Muslim</td>\n",
       "      <td>Average or above</td>\n",
       "      <td>0</td>\n",
       "      <td>Average or below</td>\n",
       "      <td>...</td>\n",
       "      <td>Frequently</td>\n",
       "      <td>Above primary</td>\n",
       "      <td>25+</td>\n",
       "      <td>0</td>\n",
       "      <td>1</td>\n",
       "      <td>1</td>\n",
       "      <td>0</td>\n",
       "      <td>Other</td>\n",
       "      <td>1</td>\n",
       "      <td>1</td>\n",
       "    </tr>\n",
       "    <tr>\n",
       "      <th>99997</th>\n",
       "      <td>0</td>\n",
       "      <td>3 months to 2 years</td>\n",
       "      <td>More than 3 hours</td>\n",
       "      <td>3 years</td>\n",
       "      <td>Slightly underwight or above</td>\n",
       "      <td>Language group 3</td>\n",
       "      <td>Hindu</td>\n",
       "      <td>Average or above</td>\n",
       "      <td>0</td>\n",
       "      <td>Richest</td>\n",
       "      <td>...</td>\n",
       "      <td>Frequently</td>\n",
       "      <td>Above primary</td>\n",
       "      <td>25+</td>\n",
       "      <td>1</td>\n",
       "      <td>1</td>\n",
       "      <td>1</td>\n",
       "      <td>0</td>\n",
       "      <td>Other</td>\n",
       "      <td>1</td>\n",
       "      <td>0</td>\n",
       "    </tr>\n",
       "    <tr>\n",
       "      <th>99998</th>\n",
       "      <td>0</td>\n",
       "      <td>3 months to 2 years</td>\n",
       "      <td>Within 3 hours</td>\n",
       "      <td>1 year</td>\n",
       "      <td>Very underweight</td>\n",
       "      <td>Language group 3</td>\n",
       "      <td>Other</td>\n",
       "      <td>Average or above</td>\n",
       "      <td>0</td>\n",
       "      <td>Richer</td>\n",
       "      <td>...</td>\n",
       "      <td>Moderate or None</td>\n",
       "      <td>Above primary</td>\n",
       "      <td>upto 24</td>\n",
       "      <td>1</td>\n",
       "      <td>1</td>\n",
       "      <td>1</td>\n",
       "      <td>1</td>\n",
       "      <td>Used toilet/latrine</td>\n",
       "      <td>1</td>\n",
       "      <td>0</td>\n",
       "    </tr>\n",
       "    <tr>\n",
       "      <th>99999</th>\n",
       "      <td>0</td>\n",
       "      <td>3 months to 2 years</td>\n",
       "      <td>More than 3 hours</td>\n",
       "      <td>1 year</td>\n",
       "      <td>Underweight</td>\n",
       "      <td>Language group 3</td>\n",
       "      <td>Hindu</td>\n",
       "      <td>Average or above</td>\n",
       "      <td>0</td>\n",
       "      <td>Average or below</td>\n",
       "      <td>...</td>\n",
       "      <td>Moderate or None</td>\n",
       "      <td>No education</td>\n",
       "      <td>25+</td>\n",
       "      <td>0</td>\n",
       "      <td>1</td>\n",
       "      <td>1</td>\n",
       "      <td>0</td>\n",
       "      <td>Other</td>\n",
       "      <td>0</td>\n",
       "      <td>0</td>\n",
       "    </tr>\n",
       "  </tbody>\n",
       "</table>\n",
       "<p>100000 rows × 28 columns</p>\n",
       "</div>"
      ],
      "text/plain": [
       "       BF_BottleFeeding   BF_BreastfedMonths BF_EarlyBreastfeeding  \\\n",
       "0                     0   Less than 3 months           Immediately   \n",
       "1                     0  3 months to 2 years        Within 3 hours   \n",
       "2                     0  3 months to 2 years     More than 3 hours   \n",
       "3                     0   Less than 3 months           Immediately   \n",
       "4                     0  3 months to 2 years        Within 3 hours   \n",
       "...                 ...                  ...                   ...   \n",
       "99995                 0  3 months to 2 years        Within 3 hours   \n",
       "99996                 0  3 months to 2 years           Immediately   \n",
       "99997                 0  3 months to 2 years     More than 3 hours   \n",
       "99998                 0  3 months to 2 years        Within 3 hours   \n",
       "99999                 0  3 months to 2 years     More than 3 hours   \n",
       "\n",
       "                CHI_Age             CHI_Weight4Height CUL_LanguageGroup  \\\n",
       "0      Less than 1 year  Slightly underwight or above  Language group 3   \n",
       "1                1 year                   Underweight  Language group 3   \n",
       "2      Less than 1 year                   Underweight  Language group 1   \n",
       "3      Less than 1 year  Slightly underwight or above  Language group 2   \n",
       "4                1 year                   Underweight  Language group 2   \n",
       "...                 ...                           ...               ...   \n",
       "99995            1 year              Very underweight  Language group 2   \n",
       "99996           2 years              Very underweight  Language group 1   \n",
       "99997           3 years  Slightly underwight or above  Language group 3   \n",
       "99998            1 year              Very underweight  Language group 3   \n",
       "99999            1 year                   Underweight  Language group 3   \n",
       "\n",
       "      CUL_Religion     DEL_SmallBaby  DIA_HadDiarrhoea ECO_WealthQuintile  \\\n",
       "0            Hindu  Average or above                 0   Average or below   \n",
       "1            Hindu  Average or above                 0             Richer   \n",
       "2            Hindu  Average or above                 1   Average or below   \n",
       "3            Hindu             Small                 0             Richer   \n",
       "4            Hindu  Average or above                 0             Richer   \n",
       "...            ...               ...               ...                ...   \n",
       "99995        Other  Average or above                 0   Average or below   \n",
       "99996       Muslim  Average or above                 0   Average or below   \n",
       "99997        Hindu  Average or above                 0            Richest   \n",
       "99998        Other  Average or above                 0             Richer   \n",
       "99999        Hindu  Average or above                 0   Average or below   \n",
       "\n",
       "       ...       KNW_WatchTV  MTH_Education MTH_MaternalAge SRV_Near  \\\n",
       "0      ...        Frequently        Primary             25+        1   \n",
       "1      ...        Frequently   No education             25+        1   \n",
       "2      ...  Moderate or None  Above primary         upto 24        1   \n",
       "3      ...  Moderate or None   No education         upto 24        1   \n",
       "4      ...        Frequently  Above primary             25+        1   \n",
       "...    ...               ...            ...             ...      ...   \n",
       "99995  ...  Moderate or None        Primary             25+        1   \n",
       "99996  ...        Frequently  Above primary             25+        0   \n",
       "99997  ...        Frequently  Above primary             25+        1   \n",
       "99998  ...  Moderate or None  Above primary         upto 24        1   \n",
       "99999  ...  Moderate or None   No education             25+        0   \n",
       "\n",
       "      SRV_OKAlone  WSH_ImprovedToilet  WSH_ImprovedWaterSource  \\\n",
       "0               0                   1                        1   \n",
       "1               1                   1                        0   \n",
       "2               1                   0                        0   \n",
       "3               1                   1                        1   \n",
       "4               1                   1                        1   \n",
       "...           ...                 ...                      ...   \n",
       "99995           1                   0                        0   \n",
       "99996           1                   1                        0   \n",
       "99997           1                   1                        0   \n",
       "99998           1                   1                        1   \n",
       "99999           1                   1                        0   \n",
       "\n",
       "       WSH_SafeStoolDisposal WSH_WashWithAgent WSH_WaterTreated  \n",
       "0        Used toilet/latrine                 1                0  \n",
       "1                      Other                 1                0  \n",
       "2               Into garbage                 0                0  \n",
       "3                      Other                 1                0  \n",
       "4                      Other                 1                1  \n",
       "...                      ...               ...              ...  \n",
       "99995           Into garbage                 0                0  \n",
       "99996                  Other                 1                1  \n",
       "99997                  Other                 1                0  \n",
       "99998    Used toilet/latrine                 1                0  \n",
       "99999                  Other                 0                0  \n",
       "\n",
       "[100000 rows x 28 columns]"
      ]
     },
     "execution_count": 78,
     "metadata": {},
     "output_type": "execute_result"
    }
   ],
   "source": [
    "df"
   ]
  },
  {
   "cell_type": "code",
   "execution_count": 79,
   "id": "4dec6cb5",
   "metadata": {},
   "outputs": [
    {
     "name": "stdout",
     "output_type": "stream",
     "text": [
      "{0, 1}\n"
     ]
    }
   ],
   "source": [
    "'''\n",
    "BF_BottleFeeding\n",
    "'''\n",
    "print(set(df['BF_BottleFeeding']))\n",
    "dict_BF_BottleFeeding = {'No': 0, 'Yes': 1}\n",
    "df['BF_BottleFeeding'] = df['BF_BottleFeeding'].replace(dict_BF_BottleFeeding)\n"
   ]
  },
  {
   "cell_type": "code",
   "execution_count": 80,
   "id": "ff36d143",
   "metadata": {},
   "outputs": [
    {
     "name": "stdout",
     "output_type": "stream",
     "text": [
      "{'Less than 3 months', '3 months to 2 years', 'More than 2 years'}\n"
     ]
    }
   ],
   "source": [
    "'''\n",
    "BF_BreastfedMonths\n",
    "'''\n",
    "print(set(df['BF_BreastfedMonths']))\n",
    "dict_BF_BreastfedMonths = {'Less than 3 months': 0, '3 months to 2 years': 1, 'More than 2 years' : 2}\n",
    "df['BF_BreastfedMonths'] = df['BF_BreastfedMonths'].replace(dict_BF_BreastfedMonths)\n"
   ]
  },
  {
   "cell_type": "code",
   "execution_count": 81,
   "id": "ce500b08",
   "metadata": {},
   "outputs": [
    {
     "name": "stdout",
     "output_type": "stream",
     "text": [
      "{'Within 3 hours', 'Immediately', 'More than 3 hours'}\n"
     ]
    }
   ],
   "source": [
    "'''\n",
    "BF_EarlyBreastfeeding\n",
    "'''\n",
    "print(set(df['BF_EarlyBreastfeeding']))\n",
    "dict_BF_EarlyBreastfeeding = {'Immediately': 0, 'Within 3 hours': 1, 'More than 3 hours' : 2}\n",
    "df['BF_EarlyBreastfeeding'] = df['BF_EarlyBreastfeeding'].replace(dict_BF_EarlyBreastfeeding)"
   ]
  },
  {
   "cell_type": "code",
   "execution_count": 82,
   "id": "6190218c",
   "metadata": {},
   "outputs": [
    {
     "name": "stdout",
     "output_type": "stream",
     "text": [
      "{'2 years', '4 years', 'Less than 1 year', '1 year', '3 years'}\n"
     ]
    }
   ],
   "source": [
    "'''\n",
    "CHI_Age\n",
    "'''\n",
    "print(set(df['CHI_Age']))\n",
    "dict_CHI_Age = {'Less than 1 year': 0, '1 year' : 1, '2 years': 2, '3 years' : 3, '4 years' : 4}\n",
    "df['CHI_Age'] = df['CHI_Age'].replace(dict_CHI_Age)"
   ]
  },
  {
   "cell_type": "code",
   "execution_count": 83,
   "id": "92af44e3",
   "metadata": {},
   "outputs": [
    {
     "name": "stdout",
     "output_type": "stream",
     "text": [
      "{'Underweight', 'Very underweight', 'Slightly underwight or above'}\n"
     ]
    }
   ],
   "source": [
    "'''\n",
    "CHI_Weight4Height\n",
    "'''\n",
    "print(set(df['CHI_Weight4Height']))\n",
    "dict_CHI_Weight4Height = {'Very underweight': 0, 'Underweight' : 1, 'Slightly underwight or above': 2}\n",
    "df['CHI_Weight4Height'] = df['CHI_Weight4Height'].replace(dict_CHI_Weight4Height)"
   ]
  },
  {
   "cell_type": "code",
   "execution_count": 84,
   "id": "8e83c1f1",
   "metadata": {},
   "outputs": [
    {
     "name": "stdout",
     "output_type": "stream",
     "text": [
      "{'Language group 3', 'Language group 2', 'Language group 1'}\n"
     ]
    }
   ],
   "source": [
    "'''\n",
    "CUL_LanguageGroup\n",
    "'''\n",
    "print(set(df['CUL_LanguageGroup']))\n",
    "dict_CUL_LanguageGroup = {'Language group 1': 0, 'Language group 2' : 1, 'Language group 3': 2}\n",
    "df['CUL_LanguageGroup'] = df['CUL_LanguageGroup'].replace(dict_CUL_LanguageGroup)"
   ]
  },
  {
   "cell_type": "code",
   "execution_count": 85,
   "id": "a5813d84",
   "metadata": {},
   "outputs": [
    {
     "name": "stdout",
     "output_type": "stream",
     "text": [
      "{'Muslim', 'Other', 'Hindu'}\n"
     ]
    }
   ],
   "source": [
    "'''\n",
    "CUL_Religion\n",
    "'''\n",
    "print(set(df['CUL_Religion']))\n",
    "dict_CUL_Religion = {'Muslim': 0, 'Hindu' : 1, 'Other': 2}\n",
    "df['CUL_Religion'] = df['CUL_Religion'].replace(dict_CUL_Religion)"
   ]
  },
  {
   "cell_type": "code",
   "execution_count": 86,
   "id": "9aa5f76b",
   "metadata": {},
   "outputs": [
    {
     "name": "stdout",
     "output_type": "stream",
     "text": [
      "{'Average or above', 'Very small', 'Small'}\n"
     ]
    }
   ],
   "source": [
    "'''\n",
    "DEL_SmallBaby\n",
    "'''\n",
    "print(set(df['DEL_SmallBaby']))\n",
    "dict_DEL_SmallBaby = {'Very small': 0, 'Small' : 1, 'Average or above': 2}\n",
    "df['DEL_SmallBaby'] = df['DEL_SmallBaby'].replace(dict_DEL_SmallBaby)"
   ]
  },
  {
   "cell_type": "code",
   "execution_count": 87,
   "id": "bfe9e75e",
   "metadata": {},
   "outputs": [
    {
     "name": "stdout",
     "output_type": "stream",
     "text": [
      "{'Average or below', 'Richer', 'Richest'}\n"
     ]
    }
   ],
   "source": [
    "'''\n",
    "ECO_WealthQuintile\n",
    "'''\n",
    "print(set(df['ECO_WealthQuintile']))\n",
    "dict_ECO_WealthQuintile = {'Average or below': 0, 'Richer' : 1, 'Richest': 2}\n",
    "df['ECO_WealthQuintile'] = df['ECO_WealthQuintile'].replace(dict_ECO_WealthQuintile)"
   ]
  },
  {
   "cell_type": "code",
   "execution_count": 88,
   "id": "aeabf36d",
   "metadata": {},
   "outputs": [
    {
     "name": "stdout",
     "output_type": "stream",
     "text": [
      "{'3 or more children', '1 child', '2 children'}\n"
     ]
    }
   ],
   "source": [
    "'''\n",
    "FP_BirthsLast5Yrs\n",
    "'''\n",
    "print(set(df['FP_BirthsLast5Yrs']))\n",
    "dict_FP_BirthsLast5Yrs = {'1 child': 0, '2 children' : 1, '3 or more children': 2}\n",
    "df['FP_BirthsLast5Yrs'] = df['FP_BirthsLast5Yrs'].replace(dict_FP_BirthsLast5Yrs)"
   ]
  },
  {
   "cell_type": "code",
   "execution_count": 89,
   "id": "8890a0b8",
   "metadata": {},
   "outputs": [
    {
     "name": "stdout",
     "output_type": "stream",
     "text": [
      "{'Region 3', 'Region 4', 'Region 2', 'Region 1'}\n"
     ]
    }
   ],
   "source": [
    "'''\n",
    "GEO_Region\n",
    "'''\n",
    "print(set(df['GEO_Region']))\n",
    "dict_GEO_Region = {'Region 1': 0, 'Region 2' : 1, 'Region 3': 2, 'Region 4' : 3}\n",
    "df['GEO_Region'] = df['GEO_Region'].replace(dict_GEO_Region)"
   ]
  },
  {
   "cell_type": "code",
   "execution_count": 90,
   "id": "39e94b2a",
   "metadata": {},
   "outputs": [
    {
     "name": "stdout",
     "output_type": "stream",
     "text": [
      "{'Agricultural etc', 'Non-agricultural'}\n"
     ]
    }
   ],
   "source": [
    "'''\n",
    "HOU_CookingFuel\n",
    "'''\n",
    "print(set(df['HOU_CookingFuel']))\n",
    "dict_HOU_CookingFuel = {'Non-agricultural': 0, 'Agricultural etc' : 1}\n",
    "df['HOU_CookingFuel'] = df['HOU_CookingFuel'].replace(dict_HOU_CookingFuel)"
   ]
  },
  {
   "cell_type": "code",
   "execution_count": 91,
   "id": "869908bc",
   "metadata": {},
   "outputs": [
    {
     "name": "stdout",
     "output_type": "stream",
     "text": [
      "{'No walls etc', 'Mud or stone etc', 'Grass/Burnt Bricks'}\n"
     ]
    }
   ],
   "source": [
    "'''\n",
    "HOU_ModernWallMaterial\n",
    "'''\n",
    "print(set(df['HOU_ModernWallMaterial']))\n",
    "dict_HOU_ModernWallMaterial = {'No walls etc': 0, 'Mud or stone etc' : 1, 'Grass/Burnt Bricks' : 2}\n",
    "df['HOU_ModernWallMaterial'] = df['HOU_ModernWallMaterial'].replace(dict_HOU_ModernWallMaterial)"
   ]
  },
  {
   "cell_type": "code",
   "execution_count": 92,
   "id": "d25f7599",
   "metadata": {},
   "outputs": [
    {
     "name": "stdout",
     "output_type": "stream",
     "text": [
      "{'Frequently', 'Moderate or None'}\n"
     ]
    }
   ],
   "source": [
    "'''\n",
    "KNW_WatchTV\n",
    "'''\n",
    "print(set(df['KNW_WatchTV']))\n",
    "dict_KNW_WatchTV = {'Moderate or None': 0, 'Frequently' : 1}\n",
    "df['KNW_WatchTV'] = df['KNW_WatchTV'].replace(dict_KNW_WatchTV)"
   ]
  },
  {
   "cell_type": "code",
   "execution_count": 93,
   "id": "7fed7d1c",
   "metadata": {},
   "outputs": [
    {
     "name": "stdout",
     "output_type": "stream",
     "text": [
      "{'No education', 'Above primary', 'Primary'}\n"
     ]
    }
   ],
   "source": [
    "'''\n",
    "MTH_Education\n",
    "'''\n",
    "print(set(df['MTH_Education']))\n",
    "dict_MTH_Education = {'No education': 0, 'Primary' : 1, 'Above primary' : 2}\n",
    "df['MTH_Education'] = df['MTH_Education'].replace(dict_MTH_Education)"
   ]
  },
  {
   "cell_type": "code",
   "execution_count": 94,
   "id": "5180f296",
   "metadata": {},
   "outputs": [
    {
     "name": "stdout",
     "output_type": "stream",
     "text": [
      "{'25+', 'upto 24'}\n"
     ]
    }
   ],
   "source": [
    "'''\n",
    "MTH_MaternalAge\n",
    "'''\n",
    "print(set(df['MTH_MaternalAge']))\n",
    "dict_MTH_MaternalAge = {'upto 24': 0, '25+' : 1}\n",
    "df['MTH_MaternalAge'] = df['MTH_MaternalAge'].replace(dict_MTH_MaternalAge)"
   ]
  },
  {
   "cell_type": "code",
   "execution_count": 100,
   "id": "ac990b23",
   "metadata": {},
   "outputs": [
    {
     "name": "stdout",
     "output_type": "stream",
     "text": [
      "{0, 1, 2}\n"
     ]
    }
   ],
   "source": [
    "'''\n",
    "WSH_ImprovedToilet \n",
    "'''\n",
    "print(set(df['WSH_ImprovedToilet']))\n",
    "dict_WSH_ImprovedToilet = {'Somewhat' : 2}\n",
    "df['WSH_ImprovedToilet'] = df['WSH_ImprovedToilet'].replace(dict_WSH_ImprovedToilet)"
   ]
  },
  {
   "cell_type": "code",
   "execution_count": 95,
   "id": "7f461ff1",
   "metadata": {},
   "outputs": [
    {
     "name": "stdout",
     "output_type": "stream",
     "text": [
      "{'Into garbage', 'Used toilet/latrine', 'Other'}\n"
     ]
    }
   ],
   "source": [
    "'''\n",
    "WSH_SafeStoolDisposal\n",
    "'''\n",
    "print(set(df['WSH_SafeStoolDisposal']))\n",
    "dict_WSH_SafeStoolDisposal = {'Into garbage': 0, 'Used toilet/latrine' : 1, 'Other' : 2}\n",
    "df['WSH_SafeStoolDisposal'] = df['WSH_SafeStoolDisposal'].replace(dict_WSH_SafeStoolDisposal)"
   ]
  },
  {
   "cell_type": "code",
   "execution_count": 105,
   "id": "c96d502a",
   "metadata": {},
   "outputs": [],
   "source": [
    "k = []\n",
    "for i in list(df):\n",
    "#     print(i ,set(df[i]))\n",
    "    k.append(len(set(df[i])))"
   ]
  },
  {
   "cell_type": "code",
   "execution_count": 106,
   "id": "8d3b217a",
   "metadata": {},
   "outputs": [],
   "source": [
    "df.loc[-1] = k"
   ]
  },
  {
   "cell_type": "code",
   "execution_count": 108,
   "id": "4636fd0a",
   "metadata": {},
   "outputs": [],
   "source": [
    "df.index = df.index + 1"
   ]
  },
  {
   "cell_type": "code",
   "execution_count": 112,
   "id": "a0e6b601",
   "metadata": {},
   "outputs": [],
   "source": [
    "df.sort_index().to_csv('diarrhoe.csv')"
   ]
  },
  {
   "cell_type": "markdown",
   "id": "faa94b51",
   "metadata": {},
   "source": [
    "### this is a pause"
   ]
  },
  {
   "cell_type": "code",
   "execution_count": 126,
   "id": "e77d6d4a",
   "metadata": {},
   "outputs": [],
   "source": [
    "data = pd.read_csv(r'C:\\Users\\User\\Documents\\GitHub\\ML_FYP\\dataset\\unprocessed\\diabetes.csv')"
   ]
  },
  {
   "cell_type": "code",
   "execution_count": 127,
   "id": "99237cba",
   "metadata": {},
   "outputs": [],
   "source": [
    "for i in list(data):\n",
    "    all_data = data[i].unique()\n",
    "    brand_dic = dict(zip(all_data, range(len(all_data))))\n",
    "    data[i] = data[i].replace(brand_dic)"
   ]
  },
  {
   "cell_type": "code",
   "execution_count": 128,
   "id": "0ddbfc25",
   "metadata": {},
   "outputs": [],
   "source": [
    "empty = []\n",
    "for i in list(data):\n",
    "#     print(set(data[i]))\n",
    "    empty.append(len(set(data[i])))"
   ]
  },
  {
   "cell_type": "code",
   "execution_count": 129,
   "id": "ca967c89",
   "metadata": {},
   "outputs": [],
   "source": [
    "data.loc[-1] = empty\n",
    "data.index = data.index + 1\n",
    "data = data.sort_index()"
   ]
  },
  {
   "cell_type": "code",
   "execution_count": 130,
   "id": "72492f47",
   "metadata": {},
   "outputs": [
    {
     "data": {
      "text/html": [
       "<div>\n",
       "<style scoped>\n",
       "    .dataframe tbody tr th:only-of-type {\n",
       "        vertical-align: middle;\n",
       "    }\n",
       "\n",
       "    .dataframe tbody tr th {\n",
       "        vertical-align: top;\n",
       "    }\n",
       "\n",
       "    .dataframe thead th {\n",
       "        text-align: right;\n",
       "    }\n",
       "</style>\n",
       "<table border=\"1\" class=\"dataframe\">\n",
       "  <thead>\n",
       "    <tr style=\"text-align: right;\">\n",
       "      <th></th>\n",
       "      <th>cho_init</th>\n",
       "      <th>ins_sens</th>\n",
       "      <th>meal_0</th>\n",
       "      <th>cho_0</th>\n",
       "      <th>bg_0</th>\n",
       "      <th>activ_ins_0</th>\n",
       "      <th>ins_abs_0</th>\n",
       "      <th>gut_abs_0</th>\n",
       "      <th>renal_cl_0</th>\n",
       "      <th>ins_indep_util_0</th>\n",
       "      <th>...</th>\n",
       "      <th>ins_indep_23</th>\n",
       "      <th>ins_dep_23</th>\n",
       "      <th>endo_bal_23</th>\n",
       "      <th>cho_bal_23</th>\n",
       "      <th>basal_bal_23</th>\n",
       "      <th>met_irr_23</th>\n",
       "      <th>tot_bal_23</th>\n",
       "      <th>meal_24</th>\n",
       "      <th>cho_24</th>\n",
       "      <th>bg_24</th>\n",
       "    </tr>\n",
       "  </thead>\n",
       "  <tbody>\n",
       "    <tr>\n",
       "      <th>0</th>\n",
       "      <td>16</td>\n",
       "      <td>5</td>\n",
       "      <td>21</td>\n",
       "      <td>21</td>\n",
       "      <td>11</td>\n",
       "      <td>10</td>\n",
       "      <td>11</td>\n",
       "      <td>6</td>\n",
       "      <td>2</td>\n",
       "      <td>3</td>\n",
       "      <td>...</td>\n",
       "      <td>4</td>\n",
       "      <td>13</td>\n",
       "      <td>16</td>\n",
       "      <td>16</td>\n",
       "      <td>18</td>\n",
       "      <td>7</td>\n",
       "      <td>15</td>\n",
       "      <td>21</td>\n",
       "      <td>21</td>\n",
       "      <td>11</td>\n",
       "    </tr>\n",
       "    <tr>\n",
       "      <th>1</th>\n",
       "      <td>0</td>\n",
       "      <td>0</td>\n",
       "      <td>0</td>\n",
       "      <td>0</td>\n",
       "      <td>0</td>\n",
       "      <td>0</td>\n",
       "      <td>0</td>\n",
       "      <td>0</td>\n",
       "      <td>0</td>\n",
       "      <td>0</td>\n",
       "      <td>...</td>\n",
       "      <td>0</td>\n",
       "      <td>0</td>\n",
       "      <td>0</td>\n",
       "      <td>0</td>\n",
       "      <td>0</td>\n",
       "      <td>0</td>\n",
       "      <td>0</td>\n",
       "      <td>0</td>\n",
       "      <td>0</td>\n",
       "      <td>0</td>\n",
       "    </tr>\n",
       "    <tr>\n",
       "      <th>2</th>\n",
       "      <td>0</td>\n",
       "      <td>1</td>\n",
       "      <td>1</td>\n",
       "      <td>1</td>\n",
       "      <td>0</td>\n",
       "      <td>0</td>\n",
       "      <td>1</td>\n",
       "      <td>1</td>\n",
       "      <td>0</td>\n",
       "      <td>0</td>\n",
       "      <td>...</td>\n",
       "      <td>1</td>\n",
       "      <td>0</td>\n",
       "      <td>1</td>\n",
       "      <td>1</td>\n",
       "      <td>1</td>\n",
       "      <td>1</td>\n",
       "      <td>1</td>\n",
       "      <td>1</td>\n",
       "      <td>1</td>\n",
       "      <td>1</td>\n",
       "    </tr>\n",
       "    <tr>\n",
       "      <th>3</th>\n",
       "      <td>0</td>\n",
       "      <td>2</td>\n",
       "      <td>2</td>\n",
       "      <td>2</td>\n",
       "      <td>1</td>\n",
       "      <td>1</td>\n",
       "      <td>2</td>\n",
       "      <td>2</td>\n",
       "      <td>0</td>\n",
       "      <td>1</td>\n",
       "      <td>...</td>\n",
       "      <td>2</td>\n",
       "      <td>1</td>\n",
       "      <td>1</td>\n",
       "      <td>0</td>\n",
       "      <td>2</td>\n",
       "      <td>2</td>\n",
       "      <td>2</td>\n",
       "      <td>2</td>\n",
       "      <td>2</td>\n",
       "      <td>2</td>\n",
       "    </tr>\n",
       "    <tr>\n",
       "      <th>4</th>\n",
       "      <td>1</td>\n",
       "      <td>0</td>\n",
       "      <td>1</td>\n",
       "      <td>3</td>\n",
       "      <td>2</td>\n",
       "      <td>2</td>\n",
       "      <td>3</td>\n",
       "      <td>3</td>\n",
       "      <td>0</td>\n",
       "      <td>1</td>\n",
       "      <td>...</td>\n",
       "      <td>0</td>\n",
       "      <td>1</td>\n",
       "      <td>2</td>\n",
       "      <td>2</td>\n",
       "      <td>1</td>\n",
       "      <td>0</td>\n",
       "      <td>2</td>\n",
       "      <td>1</td>\n",
       "      <td>3</td>\n",
       "      <td>0</td>\n",
       "    </tr>\n",
       "    <tr>\n",
       "      <th>...</th>\n",
       "      <td>...</td>\n",
       "      <td>...</td>\n",
       "      <td>...</td>\n",
       "      <td>...</td>\n",
       "      <td>...</td>\n",
       "      <td>...</td>\n",
       "      <td>...</td>\n",
       "      <td>...</td>\n",
       "      <td>...</td>\n",
       "      <td>...</td>\n",
       "      <td>...</td>\n",
       "      <td>...</td>\n",
       "      <td>...</td>\n",
       "      <td>...</td>\n",
       "      <td>...</td>\n",
       "      <td>...</td>\n",
       "      <td>...</td>\n",
       "      <td>...</td>\n",
       "      <td>...</td>\n",
       "      <td>...</td>\n",
       "      <td>...</td>\n",
       "    </tr>\n",
       "    <tr>\n",
       "      <th>9996</th>\n",
       "      <td>0</td>\n",
       "      <td>0</td>\n",
       "      <td>8</td>\n",
       "      <td>3</td>\n",
       "      <td>9</td>\n",
       "      <td>6</td>\n",
       "      <td>9</td>\n",
       "      <td>3</td>\n",
       "      <td>1</td>\n",
       "      <td>0</td>\n",
       "      <td>...</td>\n",
       "      <td>0</td>\n",
       "      <td>0</td>\n",
       "      <td>0</td>\n",
       "      <td>3</td>\n",
       "      <td>2</td>\n",
       "      <td>0</td>\n",
       "      <td>5</td>\n",
       "      <td>1</td>\n",
       "      <td>16</td>\n",
       "      <td>0</td>\n",
       "    </tr>\n",
       "    <tr>\n",
       "      <th>9997</th>\n",
       "      <td>9</td>\n",
       "      <td>1</td>\n",
       "      <td>1</td>\n",
       "      <td>10</td>\n",
       "      <td>0</td>\n",
       "      <td>2</td>\n",
       "      <td>5</td>\n",
       "      <td>5</td>\n",
       "      <td>0</td>\n",
       "      <td>0</td>\n",
       "      <td>...</td>\n",
       "      <td>0</td>\n",
       "      <td>1</td>\n",
       "      <td>2</td>\n",
       "      <td>3</td>\n",
       "      <td>2</td>\n",
       "      <td>0</td>\n",
       "      <td>5</td>\n",
       "      <td>11</td>\n",
       "      <td>17</td>\n",
       "      <td>0</td>\n",
       "    </tr>\n",
       "    <tr>\n",
       "      <th>9998</th>\n",
       "      <td>0</td>\n",
       "      <td>1</td>\n",
       "      <td>1</td>\n",
       "      <td>5</td>\n",
       "      <td>0</td>\n",
       "      <td>2</td>\n",
       "      <td>5</td>\n",
       "      <td>4</td>\n",
       "      <td>0</td>\n",
       "      <td>0</td>\n",
       "      <td>...</td>\n",
       "      <td>1</td>\n",
       "      <td>6</td>\n",
       "      <td>11</td>\n",
       "      <td>3</td>\n",
       "      <td>12</td>\n",
       "      <td>0</td>\n",
       "      <td>12</td>\n",
       "      <td>1</td>\n",
       "      <td>13</td>\n",
       "      <td>0</td>\n",
       "    </tr>\n",
       "    <tr>\n",
       "      <th>9999</th>\n",
       "      <td>0</td>\n",
       "      <td>0</td>\n",
       "      <td>1</td>\n",
       "      <td>1</td>\n",
       "      <td>0</td>\n",
       "      <td>4</td>\n",
       "      <td>8</td>\n",
       "      <td>1</td>\n",
       "      <td>0</td>\n",
       "      <td>0</td>\n",
       "      <td>...</td>\n",
       "      <td>0</td>\n",
       "      <td>0</td>\n",
       "      <td>0</td>\n",
       "      <td>2</td>\n",
       "      <td>1</td>\n",
       "      <td>0</td>\n",
       "      <td>2</td>\n",
       "      <td>1</td>\n",
       "      <td>3</td>\n",
       "      <td>0</td>\n",
       "    </tr>\n",
       "    <tr>\n",
       "      <th>10000</th>\n",
       "      <td>0</td>\n",
       "      <td>1</td>\n",
       "      <td>0</td>\n",
       "      <td>12</td>\n",
       "      <td>0</td>\n",
       "      <td>4</td>\n",
       "      <td>4</td>\n",
       "      <td>0</td>\n",
       "      <td>0</td>\n",
       "      <td>0</td>\n",
       "      <td>...</td>\n",
       "      <td>1</td>\n",
       "      <td>7</td>\n",
       "      <td>5</td>\n",
       "      <td>6</td>\n",
       "      <td>12</td>\n",
       "      <td>0</td>\n",
       "      <td>12</td>\n",
       "      <td>4</td>\n",
       "      <td>2</td>\n",
       "      <td>0</td>\n",
       "    </tr>\n",
       "  </tbody>\n",
       "</table>\n",
       "<p>10001 rows × 413 columns</p>\n",
       "</div>"
      ],
      "text/plain": [
       "       cho_init  ins_sens  meal_0  cho_0  bg_0  activ_ins_0  ins_abs_0  \\\n",
       "0            16         5      21     21    11           10         11   \n",
       "1             0         0       0      0     0            0          0   \n",
       "2             0         1       1      1     0            0          1   \n",
       "3             0         2       2      2     1            1          2   \n",
       "4             1         0       1      3     2            2          3   \n",
       "...         ...       ...     ...    ...   ...          ...        ...   \n",
       "9996          0         0       8      3     9            6          9   \n",
       "9997          9         1       1     10     0            2          5   \n",
       "9998          0         1       1      5     0            2          5   \n",
       "9999          0         0       1      1     0            4          8   \n",
       "10000         0         1       0     12     0            4          4   \n",
       "\n",
       "       gut_abs_0  renal_cl_0  ins_indep_util_0  ...  ins_indep_23  ins_dep_23  \\\n",
       "0              6           2                 3  ...             4          13   \n",
       "1              0           0                 0  ...             0           0   \n",
       "2              1           0                 0  ...             1           0   \n",
       "3              2           0                 1  ...             2           1   \n",
       "4              3           0                 1  ...             0           1   \n",
       "...          ...         ...               ...  ...           ...         ...   \n",
       "9996           3           1                 0  ...             0           0   \n",
       "9997           5           0                 0  ...             0           1   \n",
       "9998           4           0                 0  ...             1           6   \n",
       "9999           1           0                 0  ...             0           0   \n",
       "10000          0           0                 0  ...             1           7   \n",
       "\n",
       "       endo_bal_23  cho_bal_23  basal_bal_23  met_irr_23  tot_bal_23  meal_24  \\\n",
       "0               16          16            18           7          15       21   \n",
       "1                0           0             0           0           0        0   \n",
       "2                1           1             1           1           1        1   \n",
       "3                1           0             2           2           2        2   \n",
       "4                2           2             1           0           2        1   \n",
       "...            ...         ...           ...         ...         ...      ...   \n",
       "9996             0           3             2           0           5        1   \n",
       "9997             2           3             2           0           5       11   \n",
       "9998            11           3            12           0          12        1   \n",
       "9999             0           2             1           0           2        1   \n",
       "10000            5           6            12           0          12        4   \n",
       "\n",
       "       cho_24  bg_24  \n",
       "0          21     11  \n",
       "1           0      0  \n",
       "2           1      1  \n",
       "3           2      2  \n",
       "4           3      0  \n",
       "...       ...    ...  \n",
       "9996       16      0  \n",
       "9997       17      0  \n",
       "9998       13      0  \n",
       "9999        3      0  \n",
       "10000       2      0  \n",
       "\n",
       "[10001 rows x 413 columns]"
      ]
     },
     "execution_count": 130,
     "metadata": {},
     "output_type": "execute_result"
    }
   ],
   "source": [
    "data"
   ]
  },
  {
   "cell_type": "code",
   "execution_count": 131,
   "id": "7611ef17",
   "metadata": {},
   "outputs": [],
   "source": [
    "data.to_csv('diabetes.csv', index=False)"
   ]
  },
  {
   "cell_type": "code",
   "execution_count": null,
   "id": "dab390f8",
   "metadata": {},
   "outputs": [],
   "source": []
  }
 ],
 "metadata": {
  "kernelspec": {
   "display_name": "Python 3 (ipykernel)",
   "language": "python",
   "name": "python3"
  },
  "language_info": {
   "codemirror_mode": {
    "name": "ipython",
    "version": 3
   },
   "file_extension": ".py",
   "mimetype": "text/x-python",
   "name": "python",
   "nbconvert_exporter": "python",
   "pygments_lexer": "ipython3",
   "version": "3.8.16"
  }
 },
 "nbformat": 4,
 "nbformat_minor": 5
}
