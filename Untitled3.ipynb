{
 "cells": [
  {
   "cell_type": "code",
   "execution_count": 15,
   "id": "99d25821",
   "metadata": {},
   "outputs": [],
   "source": [
    "import pandas as pd\n",
    "import numpy as np\n",
    "from pygobnilp.gobnilp import Gobnilp\n",
    "import pgmpy\n",
    "import itertools\n",
    "from pgmpy.estimators.CITests import pearsonr\n",
    "from pgmpy.estimators.CITests import chi_square\n",
    "import networkx as nx\n",
    "import time\n",
    "import collections"
   ]
  },
  {
   "cell_type": "code",
   "execution_count": 16,
   "id": "3945513d",
   "metadata": {},
   "outputs": [],
   "source": [
    "df = pd.read_csv(r'C:\\Users\\User\\Documents\\GitHub\\ML_FYP\\dataset\\FORMED_DATA.csv')\n"
   ]
  },
  {
   "cell_type": "code",
   "execution_count": 18,
   "id": "36817e02",
   "metadata": {},
   "outputs": [
    {
     "data": {
      "text/plain": [
       "88"
      ]
     },
     "execution_count": 18,
     "metadata": {},
     "output_type": "execute_result"
    }
   ],
   "source": [
    "len(list(df))"
   ]
  },
  {
   "cell_type": "code",
   "execution_count": 528,
   "id": "4c595b1f",
   "metadata": {},
   "outputs": [
    {
     "name": "stdout",
     "output_type": "stream",
     "text": [
      "{'3to5', '9to10', '6to8', '<3', '11+'}\n"
     ]
    }
   ],
   "source": [
    "'''\n",
    "PCLRfacet3\n",
    "'''\n",
    "print(set(df['PCLRfacet3']))\n",
    "dict_PCLRfacet3 = {'<3': 0, '3to5': 1, '6to8': 2, '9to10': 3, '11+' : 4}\n",
    "df['PCLRfacet3'] = df['PCLRfacet3'].replace(dict_PCLRfacet3)"
   ]
  },
  {
   "cell_type": "code",
   "execution_count": 529,
   "id": "210ba6b4",
   "metadata": {},
   "outputs": [
    {
     "name": "stdout",
     "output_type": "stream",
     "text": [
      "{'Low', 'High'}\n"
     ]
    }
   ],
   "source": [
    "'''\n",
    "AbilityToCope\n",
    "'''\n",
    "print(set(df['AbilityToCope']))\n",
    "dict_AbilityToCope = {'Low': 0, 'High': 1}\n",
    "df['AbilityToCope'] = df['AbilityToCope'].replace(dict_AbilityToCope)"
   ]
  },
  {
   "cell_type": "code",
   "execution_count": 530,
   "id": "d1703e62",
   "metadata": {},
   "outputs": [
    {
     "name": "stdout",
     "output_type": "stream",
     "text": [
      "{'Yes', 'No'}\n"
     ]
    }
   ],
   "source": [
    "'''\n",
    "Stress\n",
    "'''\n",
    "print(set(df['Stress']))\n",
    "dict_Stress = {'No': 0, 'Yes': 1}\n",
    "df['Stress'] = df['Stress'].replace(dict_Stress)"
   ]
  },
  {
   "cell_type": "code",
   "execution_count": 531,
   "id": "9e3a7fff",
   "metadata": {},
   "outputs": [
    {
     "name": "stdout",
     "output_type": "stream",
     "text": [
      "{'Yes', 'No'}\n"
     ]
    }
   ],
   "source": [
    "'''\n",
    "ProblematicLifeEvents\n",
    "'''\n",
    "print(set(df['ProblematicLifeEvents']))\n",
    "dict_ProblematicLifeEvents = {'No': 0, 'Yes': 1}\n",
    "df['ProblematicLifeEvents'] = df['ProblematicLifeEvents'].replace(dict_ProblematicLifeEvents)"
   ]
  },
  {
   "cell_type": "code",
   "execution_count": 532,
   "id": "929e21fd",
   "metadata": {},
   "outputs": [
    {
     "name": "stdout",
     "output_type": "stream",
     "text": [
      "{'Yes', 'No'}\n"
     ]
    }
   ],
   "source": [
    "'''\n",
    "Victimisation\n",
    "'''\n",
    "print(set(df['Victimisation']))\n",
    "dict_Victimisation = {'No': 0, 'Yes': 1}\n",
    "df['Victimisation'] = df['Victimisation'].replace(dict_Victimisation)"
   ]
  },
  {
   "cell_type": "code",
   "execution_count": 533,
   "id": "4d46f219",
   "metadata": {},
   "outputs": [
    {
     "name": "stdout",
     "output_type": "stream",
     "text": [
      "{'Yes', 'No'}\n"
     ]
    }
   ],
   "source": [
    "'''\n",
    "ViolentThoughts\n",
    "'''\n",
    "print(set(df['ViolentThoughts']))\n",
    "dict_ViolentThoughts = {'No': 0, 'Yes': 1}\n",
    "df['ViolentThoughts'] = df['ViolentThoughts'].replace(dict_ViolentThoughts)"
   ]
  },
  {
   "cell_type": "code",
   "execution_count": 534,
   "id": "a074ab0c",
   "metadata": {},
   "outputs": [
    {
     "name": "stdout",
     "output_type": "stream",
     "text": [
      "{'Yes', 'Partly', 'No'}\n"
     ]
    }
   ],
   "source": [
    "'''\n",
    "Impulsivity\n",
    "'''\n",
    "print(set(df['Impulsivity']))\n",
    "dict_Impulsivity = {'No': 0, 'Partly' : 1, 'Yes': 2}\n",
    "df['Impulsivity'] = df['Impulsivity'].replace(dict_Impulsivity)"
   ]
  },
  {
   "cell_type": "code",
   "execution_count": 535,
   "id": "cf206c68",
   "metadata": {},
   "outputs": [
    {
     "name": "stdout",
     "output_type": "stream",
     "text": [
      "{'Yes', 'No'}\n"
     ]
    }
   ],
   "source": [
    "'''\n",
    "BPD\n",
    "'''\n",
    "print(set(df['BPD']))\n",
    "dict_BPD = {'No': 0, 'Yes': 1}\n",
    "df['BPD'] = df['BPD'].replace(dict_BPD)"
   ]
  },
  {
   "cell_type": "code",
   "execution_count": 536,
   "id": "b1843042",
   "metadata": {},
   "outputs": [
    {
     "name": "stdout",
     "output_type": "stream",
     "text": [
      "{'Yes', 'No'}\n"
     ]
    }
   ],
   "source": [
    "'''\n",
    "AbuseNeglectAsChild\n",
    "'''\n",
    "print(set(df['AbuseNeglectAsChild']))\n",
    "dict_AbuseNeglectAsChild = {'No': 0, 'Yes': 1}\n",
    "df['AbuseNeglectAsChild'] = df['AbuseNeglectAsChild'].replace(dict_AbuseNeglectAsChild)"
   ]
  },
  {
   "cell_type": "code",
   "execution_count": 537,
   "id": "05d47a92",
   "metadata": {},
   "outputs": [
    {
     "name": "stdout",
     "output_type": "stream",
     "text": [
      "{'5to9', '10to14', '<5', '15-18'}\n"
     ]
    }
   ],
   "source": [
    "'''\n",
    "PCLRfactor2\n",
    "'''\n",
    "print(set(df['PCLRfactor2']))\n",
    "dict_PCLRfactor2 = {'<5' : 0, '5to9' : 1, '10to14' : 2, '15-18' : 3}\n",
    "df['PCLRfactor2'] = df['PCLRfactor2'].replace(dict_PCLRfactor2)"
   ]
  },
  {
   "cell_type": "code",
   "execution_count": 538,
   "id": "c307a452",
   "metadata": {},
   "outputs": [
    {
     "name": "stdout",
     "output_type": "stream",
     "text": [
      "{'13+', '3to12', '0to2'}\n"
     ]
    }
   ],
   "source": [
    "'''\n",
    "prioracq\n",
    "'''\n",
    "print(set(df['prioracq']))\n",
    "dict_prioracq = {'0to2' : 0, '3to12' : 1, '13+' : 2}\n",
    "df['prioracq'] = df['prioracq'].replace(dict_prioracq)\n"
   ]
  },
  {
   "cell_type": "code",
   "execution_count": 539,
   "id": "021d646e",
   "metadata": {},
   "outputs": [
    {
     "name": "stdout",
     "output_type": "stream",
     "text": [
      "{'Yes', 'No'}\n"
     ]
    }
   ],
   "source": [
    "'''\n",
    "ASPD\n",
    "'''\n",
    "print(set(df['ASPD']))\n",
    "dict_ASPD = {'No': 0, 'Yes': 1}\n",
    "df['ASPD'] = df['ASPD'].replace(dict_ASPD)"
   ]
  },
  {
   "cell_type": "code",
   "execution_count": 540,
   "id": "e229e53e",
   "metadata": {},
   "outputs": [
    {
     "name": "stdout",
     "output_type": "stream",
     "text": [
      "{'Yes', 'No'}\n"
     ]
    }
   ],
   "source": [
    "'''\n",
    "CriminalNetwork\n",
    "'''\n",
    "print(set(df['CriminalNetwork']))\n",
    "dict_CriminalNetwork = {'No': 0, 'Yes': 1}\n",
    "df['CriminalNetwork'] = df['CriminalNetwork'].replace(dict_CriminalNetwork)"
   ]
  },
  {
   "cell_type": "code",
   "execution_count": 541,
   "id": "9a4ceef8",
   "metadata": {},
   "outputs": [
    {
     "name": "stdout",
     "output_type": "stream",
     "text": [
      "{'22-25', '40-49', '30-34', '26-29', '50-59', '*', '20-21', '18-19', '35-39', '60+'}\n"
     ]
    }
   ],
   "source": [
    "'''\n",
    "Age\n",
    "'''\n",
    "print(set(df['Age']))\n",
    "dict_Age = {'*' : 0, '18-19' : 1, '20-21': 2, '22-25' : 3, '26-29' : 4, '30-34' : 5, '35-39' : 6, '40-49' : 7, '50-59' : 8, '60+' : 9}\n",
    "df['Age'] = df['Age'].replace(dict_Age)"
   ]
  },
  {
   "cell_type": "code",
   "execution_count": 542,
   "id": "27f2c996",
   "metadata": {},
   "outputs": [
    {
     "name": "stdout",
     "output_type": "stream",
     "text": [
      "{'Male', 'Female'}\n"
     ]
    }
   ],
   "source": [
    "'''\n",
    "Gender\n",
    "'''\n",
    "print(set(df['Gender']))\n",
    "dict_Gender = {'Male': 0, 'Female': 1}\n",
    "df['Gender'] = df['Gender'].replace(dict_Gender)"
   ]
  },
  {
   "cell_type": "code",
   "execution_count": 543,
   "id": "30f0679c",
   "metadata": {},
   "outputs": [
    {
     "name": "stdout",
     "output_type": "stream",
     "text": [
      "{'None', '2to5', 'One', '6+'}\n"
     ]
    }
   ],
   "source": [
    "'''\n",
    "PriorViolentConvictions\n",
    "'''\n",
    "print(set(df['PriorViolentConvictions']))\n",
    "dict_PVC = {'None' : 0, 'One' : 1, '2to5': 2, '6+' : 3}\n",
    "df['PriorViolentConvictions'] = df['PriorViolentConvictions'].replace(dict_PVC)"
   ]
  },
  {
   "cell_type": "code",
   "execution_count": 544,
   "id": "a7e34f39",
   "metadata": {},
   "outputs": [
    {
     "name": "stdout",
     "output_type": "stream",
     "text": [
      "{'27+', '17to26', '0to9', '10to16'}\n"
     ]
    }
   ],
   "source": [
    "'''\n",
    "pclrscore\n",
    "'''\n",
    "print(set(df['pclrscore']))\n",
    "dict_pclrscore = {'0to9' : 0, '10to16' : 1, '17to26': 2, '27+' : 3}\n",
    "df['pclrscore'] = df['pclrscore'].replace(dict_pclrscore)\n"
   ]
  },
  {
   "cell_type": "code",
   "execution_count": 545,
   "id": "aa15991a",
   "metadata": {},
   "outputs": [
    {
     "name": "stdout",
     "output_type": "stream",
     "text": [
      "{'2-2.6kd', '1-1.5kd', '<1kd', '1.5-2kd'}\n"
     ]
    }
   ],
   "source": [
    "'''\n",
    "TimeAtRisk\n",
    "'''\n",
    "print(set(df['TimeAtRisk']))\n",
    "dict_TimeAtRisk = {'<1kd' : 0, '1-1.5kd' : 1, '1.5-2kd' : 2, '2-2.6kd' : 3}\n",
    "df['TimeAtRisk'] = df['TimeAtRisk'].replace(dict_TimeAtRisk)"
   ]
  },
  {
   "cell_type": "code",
   "execution_count": 546,
   "id": "6d01f972",
   "metadata": {},
   "outputs": [
    {
     "name": "stdout",
     "output_type": "stream",
     "text": [
      "{'Yes', 'No'}\n"
     ]
    }
   ],
   "source": [
    "'''\n",
    "CriminalFamilyBackground\n",
    "'''\n",
    "print(set(df['CriminalFamilyBackground']))\n",
    "dict_CriminalFamilyBackground = {'No': 0, 'Yes': 1}\n",
    "df['CriminalFamilyBackground'] = df['CriminalFamilyBackground'].replace(dict_CriminalFamilyBackground)"
   ]
  },
  {
   "cell_type": "code",
   "execution_count": 547,
   "id": "af865b5e",
   "metadata": {},
   "outputs": [
    {
     "name": "stdout",
     "output_type": "stream",
     "text": [
      "{\"A'Level+\", \"GCSE/O'Level\", 'No', 'Other'}\n"
     ]
    }
   ],
   "source": [
    "'''\n",
    "Education\n",
    "'''\n",
    "print(set(df['Education']))\n",
    "dict_Education = {\"No\" : 0, \"GCSE/O'Level\" : 1, \"A'Level+\" : 2, 'Other' : 3}\n",
    "df['Education'] = df['Education'].replace(dict_Education)"
   ]
  },
  {
   "cell_type": "code",
   "execution_count": 548,
   "id": "b1ce2dc5",
   "metadata": {},
   "outputs": [
    {
     "name": "stdout",
     "output_type": "stream",
     "text": [
      "{'Extremely Low', 'Low Average', 'High Average', 'Average', 'Borderline', 'Superior'}\n"
     ]
    }
   ],
   "source": [
    "'''\n",
    "Intelligence\n",
    "'''\n",
    "print(set(df['Intelligence']))\n",
    "dict_Intelligence = {'Extremely Low': 0, 'Borderline': 1, 'Low Average' : 2, 'Average' : 3, 'High Average' : 4, 'Superior' : 5}\n",
    "df['Intelligence'] = df['Intelligence'].replace(dict_Intelligence)"
   ]
  },
  {
   "cell_type": "code",
   "execution_count": 549,
   "id": "f0918300",
   "metadata": {},
   "outputs": [
    {
     "name": "stdout",
     "output_type": "stream",
     "text": [
      "{'Yes', 'No'}\n"
     ]
    }
   ],
   "source": [
    "'''\n",
    "EmploymentOrTraining\n",
    "'''\n",
    "print(set(df['EmploymentOrTraining']))\n",
    "dict_EmploymentOrTraining = {'No': 0, 'Yes': 1}\n",
    "df['EmploymentOrTraining'] = df['EmploymentOrTraining'].replace(dict_EmploymentOrTraining)"
   ]
  },
  {
   "cell_type": "code",
   "execution_count": 550,
   "id": "fe7c2f0e",
   "metadata": {},
   "outputs": [
    {
     "name": "stdout",
     "output_type": "stream",
     "text": [
      "{'Yes', 'No'}\n"
     ]
    }
   ],
   "source": [
    "'''\n",
    "FinancialDifficulties\n",
    "'''\n",
    "print(set(df['FinancialDifficulties']))\n",
    "dict_FinancialDifficulties = {'No': 0, 'Yes': 1}\n",
    "df['FinancialDifficulties'] = df['FinancialDifficulties'].replace(dict_FinancialDifficulties)"
   ]
  },
  {
   "cell_type": "code",
   "execution_count": 551,
   "id": "1cef7cf7",
   "metadata": {},
   "outputs": [
    {
     "name": "stdout",
     "output_type": "stream",
     "text": [
      "{'Low', 'High'}\n"
     ]
    }
   ],
   "source": [
    "'''\n",
    "DomesticStability\n",
    "'''\n",
    "print(set(df['DomesticStability']))\n",
    "dict_DomesticStability = {'Low': 0, 'High': 1}\n",
    "df['DomesticStability'] = df['DomesticStability'].replace(dict_DomesticStability)"
   ]
  },
  {
   "cell_type": "code",
   "execution_count": 552,
   "id": "03dafff8",
   "metadata": {},
   "outputs": [
    {
     "name": "stdout",
     "output_type": "stream",
     "text": [
      "{'Yes', 'No'}\n"
     ]
    }
   ],
   "source": [
    "'''\n",
    "GangMember\n",
    "'''\n",
    "print(set(df['GangMember']))\n",
    "dict_GangMember = {'No': 0, 'Yes': 1}\n",
    "df['GangMember'] = df['GangMember'].replace(dict_GangMember)"
   ]
  },
  {
   "cell_type": "code",
   "execution_count": 553,
   "id": "33eee9fd",
   "metadata": {},
   "outputs": [
    {
     "name": "stdout",
     "output_type": "stream",
     "text": [
      "{'Yes', 'Partly', 'No'}\n"
     ]
    }
   ],
   "source": [
    "'''\n",
    "ComplianceWithSupervision\n",
    "'''\n",
    "print(set(df['ComplianceWithSupervision']))\n",
    "dict_ComplianceWithSupervision = {'No': 0, 'Partly' : 1, 'Yes': 2}\n",
    "df['ComplianceWithSupervision'] = df['ComplianceWithSupervision'].replace(dict_ComplianceWithSupervision)"
   ]
  },
  {
   "cell_type": "code",
   "execution_count": 554,
   "id": "9119d8a6",
   "metadata": {},
   "outputs": [
    {
     "name": "stdout",
     "output_type": "stream",
     "text": [
      "{'Yes', 'Partly', 'No'}\n"
     ]
    }
   ],
   "source": [
    "'''\n",
    "NegativeAttitude\n",
    "'''\n",
    "print(set(df['NegativeAttitude']))\n",
    "dict_NegativeAttitude = {'No': 0, 'Partly' : 1, 'Yes': 2}\n",
    "df['NegativeAttitude'] = df['NegativeAttitude'].replace(dict_NegativeAttitude)"
   ]
  },
  {
   "cell_type": "code",
   "execution_count": 555,
   "id": "9dd7989b",
   "metadata": {},
   "outputs": [
    {
     "name": "stdout",
     "output_type": "stream",
     "text": [
      "{'Yes', 'No'}\n"
     ]
    }
   ],
   "source": [
    "'''\n",
    "CriminalAttitude\n",
    "'''\n",
    "print(set(df['CriminalAttitude']))\n",
    "dict_CriminalAttitude = {'No': 0, 'Yes': 1}\n",
    "df['CriminalAttitude'] = df['CriminalAttitude'].replace(dict_CriminalAttitude)"
   ]
  },
  {
   "cell_type": "code",
   "execution_count": 556,
   "id": "df4bdad1",
   "metadata": {},
   "outputs": [
    {
     "name": "stdout",
     "output_type": "stream",
     "text": [
      "{'Partial', 'Yes', 'No'}\n"
     ]
    }
   ],
   "source": [
    "'''\n",
    "SymptomsOfMentalIllness\n",
    "'''\n",
    "print(set(df['SymptomsOfMentalIllness']))\n",
    "dict_SymptomsOfMentalIllness = {'No': 0, 'Partial' : 1, 'Yes': 2}\n",
    "df['SymptomsOfMentalIllness'] = df['SymptomsOfMentalIllness'].replace(dict_SymptomsOfMentalIllness)"
   ]
  },
  {
   "cell_type": "code",
   "execution_count": 557,
   "id": "13f1b4bf",
   "metadata": {},
   "outputs": [
    {
     "name": "stdout",
     "output_type": "stream",
     "text": [
      "{'6to8', '13-16', '<5', '9to12'}\n"
     ]
    }
   ],
   "source": [
    "'''\n",
    "PCLRfactor1\n",
    "'''\n",
    "print(set(df['PCLRfactor1']))\n",
    "dict_PCLRfactor1 = {\"<5\" : 0, \"6to8\" : 1, \"9to12\" : 2, '13-16' : 3}\n",
    "df['PCLRfactor1'] = df['PCLRfactor1'].replace(dict_PCLRfactor1)"
   ]
  },
  {
   "cell_type": "code",
   "execution_count": 558,
   "id": "f683dba1",
   "metadata": {},
   "outputs": [
    {
     "name": "stdout",
     "output_type": "stream",
     "text": [
      "{'Yes', 'No'}\n"
     ]
    }
   ],
   "source": [
    "'''\n",
    "RefuseFailToAttendTherapy\n",
    "'''\n",
    "print(set(df['RefuseFailToAttendTherapy']))\n",
    "dict_RefuseFailToAttendTherapy = {'No': 0, 'Yes': 1}\n",
    "df['RefuseFailToAttendTherapy'] = df['RefuseFailToAttendTherapy'].replace(dict_RefuseFailToAttendTherapy)\n"
   ]
  },
  {
   "cell_type": "code",
   "execution_count": 559,
   "id": "8f05ba29",
   "metadata": {},
   "outputs": [
    {
     "name": "stdout",
     "output_type": "stream",
     "text": [
      "{'Yes', 'No'}\n"
     ]
    }
   ],
   "source": [
    "'''\n",
    "HazardousDrinkingAfterRelease\n",
    "'''\n",
    "print(set(df['HazardousDrinkingAfterRelease']))\n",
    "dict_HazardousDrinkingAfterRelease = {'No': 0, 'Yes': 1}\n",
    "df['HazardousDrinkingAfterRelease'] = df['HazardousDrinkingAfterRelease'].replace(dict_HazardousDrinkingAfterRelease)\n"
   ]
  },
  {
   "cell_type": "code",
   "execution_count": 560,
   "id": "936de8d0",
   "metadata": {},
   "outputs": [
    {
     "name": "stdout",
     "output_type": "stream",
     "text": [
      "{'Yes', 'No'}\n"
     ]
    }
   ],
   "source": [
    "'''\n",
    "CannabisBeforePrisonSentence\n",
    "'''\n",
    "print(set(df['CannabisBeforePrisonSentence']))\n",
    "dict_CannabisBeforePrisonSentence = {'No': 0, 'Yes': 1}\n",
    "df['CannabisBeforePrisonSentence'] = df['CannabisBeforePrisonSentence'].replace(dict_CannabisBeforePrisonSentence)\n",
    "\n"
   ]
  },
  {
   "cell_type": "code",
   "execution_count": 561,
   "id": "e6348add",
   "metadata": {},
   "outputs": [
    {
     "name": "stdout",
     "output_type": "stream",
     "text": [
      "{'Yes', 'No'}\n"
     ]
    }
   ],
   "source": [
    "'''\n",
    "CocaineBeforePrisonSentence\n",
    "'''\n",
    "print(set(df['CocaineBeforePrisonSentence']))\n",
    "dict_CocaineBeforePrisonSentence = {'No': 0, 'Yes': 1}\n",
    "df['CocaineBeforePrisonSentence'] = df['CocaineBeforePrisonSentence'].replace(dict_CocaineBeforePrisonSentence)\n",
    "\n"
   ]
  },
  {
   "cell_type": "code",
   "execution_count": 562,
   "id": "f00bc6fa",
   "metadata": {},
   "outputs": [
    {
     "name": "stdout",
     "output_type": "stream",
     "text": [
      "{'Yes', 'No'}\n"
     ]
    }
   ],
   "source": [
    "'''\n",
    "EcstasyBeforePrisonSentence\n",
    "'''\n",
    "print(set(df['EcstasyBeforePrisonSentence']))\n",
    "dict_EcstasyBeforePrisonSentence = {'No': 0, 'Yes': 1}\n",
    "df['EcstasyBeforePrisonSentence'] = df['EcstasyBeforePrisonSentence'].replace(dict_EcstasyBeforePrisonSentence)\n"
   ]
  },
  {
   "cell_type": "code",
   "execution_count": 563,
   "id": "46dc43a3",
   "metadata": {},
   "outputs": [
    {
     "name": "stdout",
     "output_type": "stream",
     "text": [
      "{'Yes', 'No'}\n"
     ]
    }
   ],
   "source": [
    "'''\n",
    "EcstasyDuringPrisonSentence\n",
    "'''\n",
    "print(set(df['EcstasyDuringPrisonSentence']))\n",
    "dict_EcstasyDuringPrisonSentence = {'No': 0, 'Yes': 1}\n",
    "df['EcstasyDuringPrisonSentence'] = df['EcstasyDuringPrisonSentence'].replace(dict_EcstasyDuringPrisonSentence)\n"
   ]
  },
  {
   "cell_type": "code",
   "execution_count": 564,
   "id": "74c436a1",
   "metadata": {},
   "outputs": [
    {
     "name": "stdout",
     "output_type": "stream",
     "text": [
      "{'Yes', 'No'}\n"
     ]
    }
   ],
   "source": [
    "'''\n",
    "CannabisDuringPrisonSentence\n",
    "'''\n",
    "print(set(df['CannabisDuringPrisonSentence']))\n",
    "dict_CannabisDuringPrisonSentence = {'No': 0, 'Yes': 1}\n",
    "df['CannabisDuringPrisonSentence'] = df['CannabisDuringPrisonSentence'].replace(dict_CannabisDuringPrisonSentence)\n"
   ]
  },
  {
   "cell_type": "code",
   "execution_count": 565,
   "id": "c95767a3",
   "metadata": {},
   "outputs": [
    {
     "name": "stdout",
     "output_type": "stream",
     "text": [
      "{'Yes', 'No'}\n"
     ]
    }
   ],
   "source": [
    "'''\n",
    "CocaineDuringPrisonSentence\n",
    "'''\n",
    "print(set(df['CocaineDuringPrisonSentence']))\n",
    "dict_CocaineDuringPrisonSentence = {'No': 0, 'Yes': 1}\n",
    "df['CocaineDuringPrisonSentence'] = df['CocaineDuringPrisonSentence'].replace(dict_CocaineDuringPrisonSentence)\n"
   ]
  },
  {
   "cell_type": "code",
   "execution_count": 566,
   "id": "720f1ba6",
   "metadata": {},
   "outputs": [
    {
     "name": "stdout",
     "output_type": "stream",
     "text": [
      "{'Yes', 'No'}\n"
     ]
    }
   ],
   "source": [
    "'''\n",
    "CannabisAfterRelease\n",
    "'''\n",
    "print(set(df['CannabisAfterRelease']))\n",
    "dict_CannabisAfterRelease = {'No': 0, 'Yes': 1}\n",
    "df['CannabisAfterRelease'] = df['CannabisAfterRelease'].replace(dict_CannabisAfterRelease)\n"
   ]
  },
  {
   "cell_type": "code",
   "execution_count": 567,
   "id": "ccb4a9d2",
   "metadata": {},
   "outputs": [
    {
     "name": "stdout",
     "output_type": "stream",
     "text": [
      "{'Yes', 'No'}\n"
     ]
    }
   ],
   "source": [
    "'''\n",
    "CocaineAfterRelease\n",
    "'''\n",
    "print(set(df['CocaineAfterRelease']))\n",
    "dict_CocaineAfterRelease = {'No': 0, 'Yes': 1}\n",
    "df['CocaineAfterRelease'] = df['CocaineAfterRelease'].replace(dict_CocaineAfterRelease)\n"
   ]
  },
  {
   "cell_type": "code",
   "execution_count": 568,
   "id": "5bc9bb3b",
   "metadata": {},
   "outputs": [
    {
     "name": "stdout",
     "output_type": "stream",
     "text": [
      "{'Yes', 'No'}\n"
     ]
    }
   ],
   "source": [
    "'''\n",
    "EcstasyAfterRelease\n",
    "'''\n",
    "print(set(df['EcstasyAfterRelease']))\n",
    "dict_EcstasyAfterRelease = {'No': 0, 'Yes': 1}\n",
    "df['EcstasyAfterRelease'] = df['EcstasyAfterRelease'].replace(dict_EcstasyAfterRelease)"
   ]
  },
  {
   "cell_type": "code",
   "execution_count": 569,
   "id": "ecb59d65",
   "metadata": {},
   "outputs": [
    {
     "name": "stdout",
     "output_type": "stream",
     "text": [
      "{'Yes', 'No'}\n"
     ]
    }
   ],
   "source": [
    "'''\n",
    "EcstasyDependence\n",
    "'''\n",
    "print(set(df['EcstasyDependence']))\n",
    "dict_EcstasyDependence = {'No': 0, 'Yes': 1}\n",
    "df['EcstasyDependence'] = df['EcstasyDependence'].replace(dict_EcstasyDependence)"
   ]
  },
  {
   "cell_type": "code",
   "execution_count": 570,
   "id": "ee62cb0a",
   "metadata": {},
   "outputs": [
    {
     "name": "stdout",
     "output_type": "stream",
     "text": [
      "{'Yes', 'No'}\n"
     ]
    }
   ],
   "source": [
    "'''\n",
    "AnyDrugDependence\n",
    "'''\n",
    "print(set(df['AnyDrugDependence']))\n",
    "dict_AnyDrugDependence = {'No': 0, 'Yes': 1}\n",
    "df['AnyDrugDependence'] = df['AnyDrugDependence'].replace(dict_AnyDrugDependence)"
   ]
  },
  {
   "cell_type": "code",
   "execution_count": 571,
   "id": "a5c8b176",
   "metadata": {},
   "outputs": [
    {
     "name": "stdout",
     "output_type": "stream",
     "text": [
      "{'Yes', 'No'}\n"
     ]
    }
   ],
   "source": [
    "'''\n",
    "CannabisDependence\n",
    "'''\n",
    "print(set(df['CannabisDependence']))\n",
    "dict_CannabisDependence = {'No': 0, 'Yes': 1}\n",
    "df['CannabisDependence'] = df['CannabisDependence'].replace(dict_CannabisDependence)"
   ]
  },
  {
   "cell_type": "code",
   "execution_count": 572,
   "id": "99254ffa",
   "metadata": {},
   "outputs": [
    {
     "name": "stdout",
     "output_type": "stream",
     "text": [
      "{'Yes', 'No'}\n"
     ]
    }
   ],
   "source": [
    "'''\n",
    "CocaineDependence\n",
    "'''\n",
    "print(set(df['CocaineDependence']))\n",
    "dict_CocaineDependence = {'No': 0, 'Yes': 1}\n",
    "df['CocaineDependence'] = df['CocaineDependence'].replace(dict_CocaineDependence)"
   ]
  },
  {
   "cell_type": "code",
   "execution_count": 573,
   "id": "2adb9614",
   "metadata": {},
   "outputs": [
    {
     "name": "stdout",
     "output_type": "stream",
     "text": [
      "{'Yes', 'No'}\n"
     ]
    }
   ],
   "source": [
    "'''\n",
    "AlcoholDependence\n",
    "'''\n",
    "print(set(df['AlcoholDependence']))\n",
    "dict_AlcoholDependence = {'No': 0, 'Yes': 1}\n",
    "df['AlcoholDependence'] = df['AlcoholDependence'].replace(dict_AlcoholDependence)"
   ]
  },
  {
   "cell_type": "code",
   "execution_count": 574,
   "id": "93a8be1e",
   "metadata": {},
   "outputs": [
    {
     "name": "stdout",
     "output_type": "stream",
     "text": [
      "{'Yes', 'No'}\n"
     ]
    }
   ],
   "source": [
    "'''\n",
    "DrugTreatment\n",
    "'''\n",
    "print(set(df['DrugTreatment']))\n",
    "dict_DrugTreatment = {'No': 0, 'Yes': 1}\n",
    "df['DrugTreatment'] = df['DrugTreatment'].replace(dict_DrugTreatment)"
   ]
  },
  {
   "cell_type": "code",
   "execution_count": 575,
   "id": "dc01ca39",
   "metadata": {},
   "outputs": [
    {
     "name": "stdout",
     "output_type": "stream",
     "text": [
      "{'Yes', 'No'}\n"
     ]
    }
   ],
   "source": [
    "'''\n",
    "AlcoholTreatment\n",
    "'''\n",
    "print(set(df['AlcoholTreatment']))\n",
    "dict_AlcoholTreatment = {'No': 0, 'Yes': 1}\n",
    "df['AlcoholTreatment'] = df['AlcoholTreatment'].replace(dict_AlcoholTreatment)"
   ]
  },
  {
   "cell_type": "code",
   "execution_count": 576,
   "id": "c35a4494",
   "metadata": {},
   "outputs": [
    {
     "name": "stdout",
     "output_type": "stream",
     "text": [
      "{'Yes', 'No'}\n"
     ]
    }
   ],
   "source": [
    "'''\n",
    "AlcoholTreatmentGivenRFAT\n",
    "'''\n",
    "print(set(df['AlcoholTreatmentGivenRFAT']))\n",
    "dict_AlcoholTreatmentGivenRFAT = {'No': 0, 'Yes': 1}\n",
    "df['AlcoholTreatmentGivenRFAT'] = df['AlcoholTreatmentGivenRFAT'].replace(dict_AlcoholTreatmentGivenRFAT)"
   ]
  },
  {
   "cell_type": "code",
   "execution_count": 577,
   "id": "6dd61519",
   "metadata": {},
   "outputs": [
    {
     "name": "stdout",
     "output_type": "stream",
     "text": [
      "{'Yes', 'No'}\n"
     ]
    }
   ],
   "source": [
    "'''\n",
    "DrugTreatmentGivenRFAT\n",
    "'''\n",
    "print(set(df['DrugTreatmentGivenRFAT']))\n",
    "dict_DrugTreatmentGivenRFAT = {'No': 0, 'Yes': 1}\n",
    "df['DrugTreatmentGivenRFAT'] = df['DrugTreatmentGivenRFAT'].replace(dict_DrugTreatmentGivenRFAT)"
   ]
  },
  {
   "cell_type": "code",
   "execution_count": 578,
   "id": "8d6a55b3",
   "metadata": {},
   "outputs": [
    {
     "name": "stdout",
     "output_type": "stream",
     "text": [
      "{'Yes', 'No'}\n"
     ]
    }
   ],
   "source": [
    "'''\n",
    "EcstasyPT\n",
    "'''\n",
    "print(set(df['EcstasyPT']))\n",
    "dict_EcstasyPT = {'No': 0, 'Yes': 1}\n",
    "df['EcstasyPT'] = df['EcstasyPT'].replace(dict_EcstasyPT)"
   ]
  },
  {
   "cell_type": "code",
   "execution_count": 579,
   "id": "f6140b88",
   "metadata": {},
   "outputs": [
    {
     "name": "stdout",
     "output_type": "stream",
     "text": [
      "{'Yes', 'No'}\n"
     ]
    }
   ],
   "source": [
    "'''\n",
    "CannabisPT\n",
    "'''\n",
    "print(set(df['CannabisPT']))\n",
    "dict_CannabisPT = {'No': 0, 'Yes': 1}\n",
    "df['CannabisPT'] = df['CannabisPT'].replace(dict_CannabisPT)"
   ]
  },
  {
   "cell_type": "code",
   "execution_count": 580,
   "id": "1c59ade6",
   "metadata": {},
   "outputs": [
    {
     "name": "stdout",
     "output_type": "stream",
     "text": [
      "{'Yes', 'No'}\n"
     ]
    }
   ],
   "source": [
    "'''\n",
    "CocainePT\n",
    "'''\n",
    "print(set(df['CocainePT']))\n",
    "dict_CocainePT = {'No': 0, 'Yes': 1}\n",
    "df['CocainePT'] = df['CocainePT'].replace(dict_CocainePT)"
   ]
  },
  {
   "cell_type": "code",
   "execution_count": 581,
   "id": "048673b1",
   "metadata": {},
   "outputs": [
    {
     "name": "stdout",
     "output_type": "stream",
     "text": [
      "{'None', 'Drugs', 'DrugsANDalcohol', 'Alcohol'}\n"
     ]
    }
   ],
   "source": [
    "'''\n",
    "SubstanceUse\n",
    "'''\n",
    "print(set(df['SubstanceUse']))\n",
    "dict_SubstanceUse = {'None': 0, 'Drugs': 1, 'Alcohol' : 2, 'DrugsANDalcohol' : 3}\n",
    "df['SubstanceUse'] = df['SubstanceUse'].replace(dict_SubstanceUse)"
   ]
  },
  {
   "cell_type": "code",
   "execution_count": 582,
   "id": "1ef2bacf",
   "metadata": {},
   "outputs": [
    {
     "name": "stdout",
     "output_type": "stream",
     "text": [
      "{'Low', 'High'}\n"
     ]
    }
   ],
   "source": [
    "'''\n",
    "SubstanceMisuseDL\n",
    "'''\n",
    "print(set(df['SubstanceMisuseDL']))\n",
    "dict_SubstanceMisuseDL = {'Low' : 0, 'High' : 1}\n",
    "df['SubstanceMisuseDL'] = df['SubstanceMisuseDL'].replace(dict_SubstanceMisuseDL)"
   ]
  },
  {
   "cell_type": "code",
   "execution_count": 583,
   "id": "a73b8f7a",
   "metadata": {},
   "outputs": [
    {
     "name": "stdout",
     "output_type": "stream",
     "text": [
      "{0, 1}\n"
     ]
    }
   ],
   "source": [
    "'''\n",
    "Violence - already done\n",
    "'''\n",
    "print(set(df['Violence']))\n"
   ]
  },
  {
   "cell_type": "code",
   "execution_count": 584,
   "id": "1fd5c6d5",
   "metadata": {},
   "outputs": [
    {
     "data": {
      "text/plain": [
       "'\\nViolentConvictions - already done\\n'"
      ]
     },
     "execution_count": 584,
     "metadata": {},
     "output_type": "execute_result"
    }
   ],
   "source": [
    "'''\n",
    "ViolentConvictions - already done\n",
    "'''"
   ]
  },
  {
   "cell_type": "code",
   "execution_count": 585,
   "id": "810cc690",
   "metadata": {},
   "outputs": [
    {
     "name": "stdout",
     "output_type": "stream",
     "text": [
      "{'Yes', 'Partly', 'No'}\n"
     ]
    }
   ],
   "source": [
    "'''\n",
    "ResponsivenessToTreatment\n",
    "'''\n",
    "print(set(df['ResponsivenessToTreatment']))\n",
    "dict_ResponsivenessToTreatment = {'No' : 0, 'Partly' : 1 , 'Yes' : 2}\n",
    "df['ResponsivenessToTreatment'] = df['ResponsivenessToTreatment'].replace(dict_ResponsivenessToTreatment)"
   ]
  },
  {
   "cell_type": "code",
   "execution_count": 586,
   "id": "d6be0294",
   "metadata": {},
   "outputs": [
    {
     "name": "stdout",
     "output_type": "stream",
     "text": [
      "{'Non-responsive', 'Responsive', 'Partial-responsive'}\n"
     ]
    }
   ],
   "source": [
    "'''\n",
    "ResponseToTreatGivenAlcDep\n",
    "'''\n",
    "print(set(df['ResponseToTreatGivenAlcDep']))\n",
    "dict_ResponseToTreatGivenAlcDep = {'Non-responsive' : 0, 'Partial-responsive' : 1 , 'Responsive' : 2}\n",
    "df['ResponseToTreatGivenAlcDep'] = df['ResponseToTreatGivenAlcDep'].replace(dict_ResponseToTreatGivenAlcDep)"
   ]
  },
  {
   "cell_type": "code",
   "execution_count": 587,
   "id": "a5211145",
   "metadata": {},
   "outputs": [
    {
     "name": "stdout",
     "output_type": "stream",
     "text": [
      "{'Non-responsive', 'Responsive', 'Partial-responsive'}\n"
     ]
    }
   ],
   "source": [
    "'''\n",
    "ResponseToTreatGivenDrugDep\n",
    "'''\n",
    "print(set(df['ResponseToTreatGivenDrugDep']))\n",
    "dict_ResponseToTreatGivenDrugDep = {'Non-responsive' : 0, 'Partial-responsive' : 1 , 'Responsive' : 2}\n",
    "df['ResponseToTreatGivenDrugDep'] = df['ResponseToTreatGivenDrugDep'].replace(dict_ResponseToTreatGivenDrugDep)"
   ]
  },
  {
   "cell_type": "code",
   "execution_count": 588,
   "id": "242a4186",
   "metadata": {},
   "outputs": [
    {
     "name": "stdout",
     "output_type": "stream",
     "text": [
      "{'Yes', 'No'}\n"
     ]
    }
   ],
   "source": [
    "'''\n",
    "Anger\n",
    "'''\n",
    "print(set(df['Anger']))\n",
    "dict_Anger = {'No': 0, 'Yes': 1}\n",
    "df['Anger'] = df['Anger'].replace(dict_Anger)"
   ]
  },
  {
   "cell_type": "code",
   "execution_count": 589,
   "id": "3a7012d7",
   "metadata": {},
   "outputs": [
    {
     "name": "stdout",
     "output_type": "stream",
     "text": [
      "{'Yes', 'No'}\n"
     ]
    }
   ],
   "source": [
    "'''\n",
    "AngerPT\n",
    "'''\n",
    "print(set(df['AngerPT']))\n",
    "dict_AngerPT = {'No': 0, 'Yes': 1}\n",
    "df['AngerPT'] = df['AngerPT'].replace(dict_AngerPT)"
   ]
  },
  {
   "cell_type": "code",
   "execution_count": 590,
   "id": "d5f094b8",
   "metadata": {},
   "outputs": [
    {
     "name": "stdout",
     "output_type": "stream",
     "text": [
      "{'Yes', 'No'}\n"
     ]
    }
   ],
   "source": [
    "'''\n",
    "AngerManagementGivenRFAT\n",
    "'''\n",
    "print(set(df['AngerManagementGivenRFAT']))\n",
    "dict_AngerManagementGivenRFAT = {'No': 0, 'Yes': 1}\n",
    "df['AngerManagementGivenRFAT'] = df['AngerManagementGivenRFAT'].replace(dict_AngerManagementGivenRFAT)"
   ]
  },
  {
   "cell_type": "code",
   "execution_count": 591,
   "id": "da6eda86",
   "metadata": {},
   "outputs": [
    {
     "name": "stdout",
     "output_type": "stream",
     "text": [
      "{'Yes', 'No'}\n"
     ]
    }
   ],
   "source": [
    "'''\n",
    "HazardousDrinkingPT\n",
    "'''\n",
    "print(set(df['HazardousDrinkingPT']))\n",
    "dict_HazardousDrinkingPT = {'No': 0, 'Yes': 1}\n",
    "df['HazardousDrinkingPT'] = df['HazardousDrinkingPT'].replace(dict_HazardousDrinkingPT)"
   ]
  },
  {
   "cell_type": "code",
   "execution_count": 592,
   "id": "dc57e812",
   "metadata": {},
   "outputs": [
    {
     "name": "stdout",
     "output_type": "stream",
     "text": [
      "{'Yes', 'No'}\n"
     ]
    }
   ],
   "source": [
    "'''\n",
    "AngerManagement\n",
    "'''\n",
    "print(set(df['AngerManagement']))\n",
    "dict_AngerManagement = {'No': 0, 'Yes': 1}\n",
    "df['AngerManagement'] = df['AngerManagement'].replace(dict_AngerManagement)"
   ]
  },
  {
   "cell_type": "code",
   "execution_count": 593,
   "id": "94a90306",
   "metadata": {},
   "outputs": [
    {
     "name": "stdout",
     "output_type": "stream",
     "text": [
      "{'Low', 'High'}\n"
     ]
    }
   ],
   "source": [
    "'''\n",
    "AttitudeDL\n",
    "'''\n",
    "print(set(df['AttitudeDL']))\n",
    "dict_AttitudeDL = {'Low': 0, 'High': 1}\n",
    "df['AttitudeDL'] = df['AttitudeDL'].replace(dict_AttitudeDL)"
   ]
  },
  {
   "cell_type": "code",
   "execution_count": 594,
   "id": "d0f16933",
   "metadata": {},
   "outputs": [
    {
     "name": "stdout",
     "output_type": "stream",
     "text": [
      "{'Low', 'High'}\n"
     ]
    }
   ],
   "source": [
    "'''\n",
    "AggressionDL\n",
    "'''\n",
    "print(set(df['AggressionDL']))\n",
    "dict_AggressionDL = {'Low': 0, 'High': 1}\n",
    "df['AggressionDL'] = df['AggressionDL'].replace(dict_AggressionDL)"
   ]
  },
  {
   "cell_type": "code",
   "execution_count": 595,
   "id": "0f2c6bcf",
   "metadata": {},
   "outputs": [
    {
     "name": "stdout",
     "output_type": "stream",
     "text": [
      "{'Bail Hostel/Shelter', 'Living with partner', 'Homeless', 'Other', 'Living alone', 'Living with family/friends'}\n"
     ]
    }
   ],
   "source": [
    "'''\n",
    "LivingCircumstances\n",
    "'''\n",
    "print(set(df['LivingCircumstances']))\n",
    "dict_LivingCircumstances = {'Living with family/friends': 0, 'Living with partner': 1, 'Living alone': 2, 'Bail Hostel/Shelter': 3, 'Homeless' : 4, 'Other' : 5}\n",
    "df['LivingCircumstances'] = df['LivingCircumstances'].replace(dict_LivingCircumstances)"
   ]
  },
  {
   "cell_type": "code",
   "execution_count": 596,
   "id": "ecdf2389",
   "metadata": {},
   "outputs": [
    {
     "name": "stdout",
     "output_type": "stream",
     "text": [
      "{'None', 'BH', 'SW', 'Both'}\n"
     ]
    }
   ],
   "source": [
    "'''\n",
    "SocialProtectiveObs\n",
    "'''\n",
    "print(set(df['SocialProtectiveObs']))\n",
    "dict_SocialProtectiveObs = {'None': 0, 'BH': 1, 'SW': 2, 'Both': 3}\n",
    "df['SocialProtectiveObs'] = df['SocialProtectiveObs'].replace(dict_SocialProtectiveObs)"
   ]
  },
  {
   "cell_type": "code",
   "execution_count": 597,
   "id": "cdf5d891",
   "metadata": {},
   "outputs": [
    {
     "name": "stdout",
     "output_type": "stream",
     "text": [
      "{'Yes', 'No'}\n"
     ]
    }
   ],
   "source": [
    "'''\n",
    "SocialWithdraw\n",
    "'''\n",
    "print(set(df['SocialWithdraw']))\n",
    "dict_SocialWithdraw = {'No': 0, 'Yes': 1}\n",
    "df['SocialWithdraw'] = df['SocialWithdraw'].replace(dict_SocialWithdraw)"
   ]
  },
  {
   "cell_type": "code",
   "execution_count": 598,
   "id": "55c0e895",
   "metadata": {},
   "outputs": [
    {
     "name": "stdout",
     "output_type": "stream",
     "text": [
      "{'VeryHigh', 'Low', 'High', 'VeryLow'}\n"
     ]
    }
   ],
   "source": [
    "'''\n",
    "ViolentConvictionsRate\n",
    "'''\n",
    "print(set(df['ViolentConvictionsRate']))\n",
    "dict_ViolentConvictionsRate = {'VeryLow': 0, 'Low': 1, 'VeryHigh': 2, 'High': 3}\n",
    "df['ViolentConvictionsRate'] = df['ViolentConvictionsRate'].replace(dict_ViolentConvictionsRate)"
   ]
  },
  {
   "cell_type": "code",
   "execution_count": 599,
   "id": "37e5f931",
   "metadata": {},
   "outputs": [
    {
     "name": "stdout",
     "output_type": "stream",
     "text": [
      "{'VeryHigh', 'Low', 'High', 'VeryLow'}\n"
     ]
    }
   ],
   "source": [
    "'''\n",
    "ViolentConvRateGivenProt\n",
    "'''\n",
    "print(set(df['ViolentConvRateGivenProt']))\n",
    "dict_ViolentConvRateGivenProt = {'VeryLow': 0, 'Low': 1, 'VeryHigh': 2, 'High': 3}\n",
    "df['ViolentConvRateGivenProt'] = df['ViolentConvRateGivenProt'].replace(dict_ViolentConvRateGivenProt)"
   ]
  },
  {
   "cell_type": "code",
   "execution_count": 600,
   "id": "4affba78",
   "metadata": {},
   "outputs": [
    {
     "name": "stdout",
     "output_type": "stream",
     "text": [
      "{'Yes', 'No'}\n"
     ]
    }
   ],
   "source": [
    "'''\n",
    "Depression\n",
    "'''\n",
    "print(set(df['Depression']))\n",
    "dict_Depression = {'No': 0, 'Yes': 1}\n",
    "df['Depression'] = df['Depression'].replace(dict_Depression)"
   ]
  },
  {
   "cell_type": "code",
   "execution_count": 601,
   "id": "a1a18350",
   "metadata": {},
   "outputs": [
    {
     "name": "stdout",
     "output_type": "stream",
     "text": [
      "{'Yes', 'No'}\n"
     ]
    }
   ],
   "source": [
    "'''\n",
    "DepressionPT\n",
    "'''\n",
    "print(set(df['DepressionPT']))\n",
    "dict_DepressionPT = {'No': 0, 'Yes': 1}\n",
    "df['DepressionPT'] = df['DepressionPT'].replace(dict_DepressionPT)"
   ]
  },
  {
   "cell_type": "code",
   "execution_count": 602,
   "id": "de6f1808",
   "metadata": {},
   "outputs": [
    {
     "name": "stdout",
     "output_type": "stream",
     "text": [
      "{'Yes', 'No'}\n"
     ]
    }
   ],
   "source": [
    "'''\n",
    "Anxiety\n",
    "'''\n",
    "print(set(df['Anxiety']))\n",
    "dict_Anxiety = {'No': 0, 'Yes': 1}\n",
    "df['Anxiety'] = df['Anxiety'].replace(dict_Anxiety)"
   ]
  },
  {
   "cell_type": "code",
   "execution_count": 603,
   "id": "e1389cc1",
   "metadata": {},
   "outputs": [
    {
     "name": "stdout",
     "output_type": "stream",
     "text": [
      "{'Yes', 'No'}\n"
     ]
    }
   ],
   "source": [
    "'''\n",
    "AnxietyPT\n",
    "'''\n",
    "print(set(df['AnxietyPT']))\n",
    "dict_AnxietyPT = {'No': 0, 'Yes': 1}\n",
    "df['AnxietyPT'] = df['AnxietyPT'].replace(dict_AnxietyPT)"
   ]
  },
  {
   "cell_type": "code",
   "execution_count": 604,
   "id": "11020b34",
   "metadata": {},
   "outputs": [
    {
     "name": "stdout",
     "output_type": "stream",
     "text": [
      "{'Yes', 'No'}\n"
     ]
    }
   ],
   "source": [
    "'''\n",
    "ThoughtInsertion\n",
    "'''\n",
    "print(set(df['ThoughtInsertion']))\n",
    "dict_ThoughtInsertion = {'No': 0, 'Yes': 1}\n",
    "df['ThoughtInsertion'] = df['ThoughtInsertion'].replace(dict_ThoughtInsertion)"
   ]
  },
  {
   "cell_type": "code",
   "execution_count": 605,
   "id": "ee30a866",
   "metadata": {},
   "outputs": [
    {
     "name": "stdout",
     "output_type": "stream",
     "text": [
      "{'Yes', 'No'}\n"
     ]
    }
   ],
   "source": [
    "'''\n",
    "ThoughtInsertionPT\n",
    "'''\n",
    "print(set(df['ThoughtInsertionPT']))\n",
    "dict_ThoughtInsertionPT = {'No': 0, 'Yes': 1}\n",
    "df['ThoughtInsertionPT'] = df['ThoughtInsertionPT'].replace(dict_ThoughtInsertionPT)"
   ]
  },
  {
   "cell_type": "code",
   "execution_count": 606,
   "id": "434097a3",
   "metadata": {},
   "outputs": [
    {
     "name": "stdout",
     "output_type": "stream",
     "text": [
      "{'Yes', 'No'}\n"
     ]
    }
   ],
   "source": [
    "'''\n",
    "Hallucinations\n",
    "'''\n",
    "print(set(df['Hallucinations']))\n",
    "dict_Hallucinations = {'No': 0, 'Yes': 1}\n",
    "df['Hallucinations'] = df['Hallucinations'].replace(dict_Hallucinations)"
   ]
  },
  {
   "cell_type": "code",
   "execution_count": 607,
   "id": "d43e8db5",
   "metadata": {},
   "outputs": [
    {
     "name": "stdout",
     "output_type": "stream",
     "text": [
      "{'Yes', 'No'}\n"
     ]
    }
   ],
   "source": [
    "'''\n",
    "HallucinationsPT\n",
    "'''\n",
    "print(set(df['HallucinationsPT']))\n",
    "dict_HallucinationsPT = {'No': 0, 'Yes': 1}\n",
    "df['HallucinationsPT'] = df['HallucinationsPT'].replace(dict_HallucinationsPT)"
   ]
  },
  {
   "cell_type": "code",
   "execution_count": 608,
   "id": "5638747e",
   "metadata": {},
   "outputs": [
    {
     "name": "stdout",
     "output_type": "stream",
     "text": [
      "{'Yes', 'No'}\n"
     ]
    }
   ],
   "source": [
    "'''\n",
    "StrangeExperiences\n",
    "'''\n",
    "print(set(df['StrangeExperiences']))\n",
    "dict_StrangeExperiences = {'No': 0, 'Yes': 1}\n",
    "df['StrangeExperiences'] = df['StrangeExperiences'].replace(dict_StrangeExperiences)"
   ]
  },
  {
   "cell_type": "code",
   "execution_count": 609,
   "id": "8dfb79c0",
   "metadata": {},
   "outputs": [
    {
     "name": "stdout",
     "output_type": "stream",
     "text": [
      "{'Yes', 'No'}\n"
     ]
    }
   ],
   "source": [
    "'''\n",
    "StrangeExperiencesPT\n",
    "'''\n",
    "print(set(df['StrangeExperiencesPT']))\n",
    "dict_StrangeExperiencesPT = {'No': 0, 'Yes': 1}\n",
    "df['StrangeExperiencesPT'] = df['StrangeExperiencesPT'].replace(dict_StrangeExperiencesPT)"
   ]
  },
  {
   "cell_type": "code",
   "execution_count": 610,
   "id": "a25a7b41",
   "metadata": {},
   "outputs": [
    {
     "name": "stdout",
     "output_type": "stream",
     "text": [
      "{'Yes', 'No'}\n"
     ]
    }
   ],
   "source": [
    "'''\n",
    "ParanoidDelusions\n",
    "'''\n",
    "print(set(df['ParanoidDelusions']))\n",
    "dict_ParanoidDelusions = {'No': 0, 'Yes': 1}\n",
    "df['ParanoidDelusions'] = df['ParanoidDelusions'].replace(dict_ParanoidDelusions)"
   ]
  },
  {
   "cell_type": "code",
   "execution_count": 611,
   "id": "94219322",
   "metadata": {},
   "outputs": [
    {
     "name": "stdout",
     "output_type": "stream",
     "text": [
      "{'Yes', 'No'}\n"
     ]
    }
   ],
   "source": [
    "'''\n",
    "ParanoidDelusionsPT\n",
    "'''\n",
    "print(set(df['ParanoidDelusionsPT']))\n",
    "dict_ParanoidDelusionsPT = {'No': 0, 'Yes': 1}\n",
    "df['ParanoidDelusionsPT'] = df['ParanoidDelusionsPT'].replace(dict_ParanoidDelusionsPT)"
   ]
  },
  {
   "cell_type": "code",
   "execution_count": 612,
   "id": "b2d96f1b",
   "metadata": {},
   "outputs": [
    {
     "name": "stdout",
     "output_type": "stream",
     "text": [
      "{'Yes', 'No'}\n"
     ]
    }
   ],
   "source": [
    "'''\n",
    "PsychiatricTreatment\n",
    "'''\n",
    "print(set(df['PsychiatricTreatment']))\n",
    "dict_PsychiatricTreatment = {'No': 0, 'Yes': 1}\n",
    "df['PsychiatricTreatment'] = df['PsychiatricTreatment'].replace(dict_PsychiatricTreatment)"
   ]
  },
  {
   "cell_type": "code",
   "execution_count": 613,
   "id": "20d10cb1",
   "metadata": {},
   "outputs": [
    {
     "name": "stdout",
     "output_type": "stream",
     "text": [
      "{'Yes', 'No'}\n"
     ]
    }
   ],
   "source": [
    "'''\n",
    "PsychiatricTreatmentGivenRFAT\n",
    "'''\n",
    "print(set(df['PsychiatricTreatmentGivenRFAT']))\n",
    "dict_PsychiatricTreatmentGivenRFAT = {'No': 0, 'Yes': 1}\n",
    "df['PsychiatricTreatmentGivenRFAT'] = df['PsychiatricTreatmentGivenRFAT'].replace(dict_PsychiatricTreatmentGivenRFAT)"
   ]
  },
  {
   "cell_type": "code",
   "execution_count": 614,
   "id": "4a643c0d",
   "metadata": {},
   "outputs": [
    {
     "name": "stdout",
     "output_type": "stream",
     "text": [
      "{'None', 'MentalNPD', 'ParanoidDelusions'}\n"
     ]
    }
   ],
   "source": [
    "'''\n",
    "MentalIllnessSymptomCount\n",
    "'''\n",
    "print(set(df['MentalIllnessSymptomCount']))\n",
    "dict_MentalIllnessSymptomCount = {'None': 0, 'MentalNPD': 1, 'ParanoidDelusions' : 2}\n",
    "df['MentalIllnessSymptomCount'] = df['MentalIllnessSymptomCount'].replace(dict_MentalIllnessSymptomCount)"
   ]
  },
  {
   "cell_type": "code",
   "execution_count": 615,
   "id": "8f7faa3b",
   "metadata": {},
   "outputs": [
    {
     "name": "stdout",
     "output_type": "stream",
     "text": [
      "{'Low', 'High'}\n"
     ]
    }
   ],
   "source": [
    "'''\n",
    "MentalIllnessDL\n",
    "'''\n",
    "print(set(df['MentalIllnessDL']))\n",
    "dict_MentalIllnessDL = {'Low': 0, 'High': 1}\n",
    "df['MentalIllnessDL'] = df['MentalIllnessDL'].replace(dict_MentalIllnessDL)"
   ]
  },
  {
   "cell_type": "code",
   "execution_count": 4,
   "id": "febed0c4",
   "metadata": {},
   "outputs": [],
   "source": [
    "import pandas as pd\n",
    "df_andes = pd.read_csv(r'C:\\Users\\User\\Documents\\GitHub\\ML_FYP\\dataset\\andes.csv')"
   ]
  },
  {
   "cell_type": "code",
   "execution_count": 8,
   "id": "6edcb3e8",
   "metadata": {},
   "outputs": [
    {
     "name": "stdout",
     "output_type": "stream",
     "text": [
      "{0, 1} 2\n",
      "{0, 1} 2\n",
      "{0, 1} 2\n",
      "{0, 1} 2\n",
      "{0, 1} 2\n",
      "{0, 1} 2\n",
      "{0, 1} 2\n",
      "{0, 1} 2\n",
      "{0, 1} 2\n",
      "{0, 1} 2\n",
      "{0, 1} 2\n",
      "{0, 1} 2\n",
      "{0, 1} 2\n",
      "{0, 1} 2\n",
      "{0, 1} 2\n",
      "{0, 1} 2\n",
      "{0, 1} 2\n",
      "{0, 1} 2\n",
      "{0, 1} 2\n",
      "{0, 1} 2\n",
      "{0, 1} 2\n",
      "{0, 1} 2\n",
      "{0, 1} 2\n",
      "{0, 1} 2\n",
      "{0, 1} 2\n",
      "{0, 1} 2\n",
      "{0, 1} 2\n",
      "{0, 1} 2\n",
      "{0, 1} 2\n",
      "{0, 1} 2\n",
      "{0, 1} 2\n",
      "{0, 1} 2\n",
      "{0, 1} 2\n",
      "{0, 1} 2\n",
      "{0, 1} 2\n",
      "{0, 1} 2\n",
      "{0, 1} 2\n",
      "{0, 1} 2\n",
      "{0, 1} 2\n",
      "{0, 1} 2\n",
      "{0, 1} 2\n",
      "{0, 1} 2\n",
      "{0, 1} 2\n",
      "{0, 1} 2\n",
      "{0, 1} 2\n",
      "{0, 1} 2\n",
      "{0, 1} 2\n",
      "{0, 1} 2\n",
      "{0, 1} 2\n",
      "{0, 1} 2\n",
      "{0, 1} 2\n",
      "{0, 1} 2\n",
      "{0, 1} 2\n",
      "{0, 1} 2\n",
      "{0, 1} 2\n",
      "{0, 1} 2\n",
      "{0, 1} 2\n",
      "{0, 1} 2\n",
      "{0, 1} 2\n",
      "{0, 1} 2\n",
      "{0, 1} 2\n",
      "{0, 1} 2\n",
      "{0, 1} 2\n",
      "{0, 1} 2\n",
      "{0, 1} 2\n",
      "{0, 1} 2\n",
      "{0, 1} 2\n",
      "{0, 1} 2\n",
      "{0, 1} 2\n",
      "{0, 1} 2\n",
      "{0, 1} 2\n",
      "{0, 1} 2\n",
      "{0, 1} 2\n",
      "{0, 1} 2\n",
      "{0, 1} 2\n",
      "{0, 1} 2\n",
      "{0, 1} 2\n",
      "{0, 1} 2\n",
      "{0, 1} 2\n",
      "{0, 1} 2\n",
      "{0, 1} 2\n",
      "{0, 1} 2\n",
      "{0, 1} 2\n",
      "{0, 1} 2\n",
      "{0, 1} 2\n",
      "{0, 1} 2\n",
      "{0, 1} 2\n",
      "{0, 1} 2\n",
      "{0, 1} 2\n",
      "{0, 1} 2\n",
      "{0, 1} 2\n",
      "{0, 1} 2\n",
      "{0, 1} 2\n",
      "{0, 1} 2\n",
      "{0, 1} 2\n",
      "{0, 1} 2\n",
      "{0, 1} 2\n",
      "{0, 1} 2\n",
      "{0, 1} 2\n",
      "{0, 1} 2\n",
      "{0, 1} 2\n",
      "{0, 1} 2\n",
      "{0, 1} 2\n",
      "{0, 1} 2\n",
      "{0, 1} 2\n",
      "{0, 1} 2\n",
      "{0, 1} 2\n",
      "{0, 1} 2\n",
      "{0, 1} 2\n",
      "{0, 1} 2\n",
      "{0, 1} 2\n",
      "{0, 1} 2\n",
      "{0, 1} 2\n",
      "{0, 1} 2\n",
      "{0, 1} 2\n",
      "{0, 1} 2\n",
      "{0, 1} 2\n",
      "{0, 1} 2\n",
      "{0, 1} 2\n",
      "{0, 1} 2\n",
      "{0, 1} 2\n",
      "{0, 1} 2\n",
      "{0, 1} 2\n",
      "{0, 1} 2\n",
      "{0, 1} 2\n",
      "{0, 1} 2\n",
      "{0, 1} 2\n",
      "{0, 1} 2\n",
      "{0, 1} 2\n",
      "{0, 1} 2\n",
      "{0, 1} 2\n",
      "{0, 1} 2\n",
      "{0, 1} 2\n",
      "{0, 1} 2\n",
      "{0, 1} 2\n",
      "{0, 1} 2\n",
      "{0, 1} 2\n",
      "{0, 1} 2\n",
      "{0, 1} 2\n",
      "{0, 1} 2\n",
      "{0, 1} 2\n",
      "{0, 1} 2\n",
      "{0, 1} 2\n",
      "{0, 1} 2\n",
      "{0, 1} 2\n",
      "{0, 1} 2\n",
      "{0, 1} 2\n",
      "{0, 1} 2\n",
      "{0, 1} 2\n",
      "{0, 1} 2\n",
      "{0, 1} 2\n",
      "{0, 1} 2\n",
      "{0, 1} 2\n",
      "{0, 1} 2\n",
      "{0, 1} 2\n",
      "{0, 1} 2\n",
      "{0, 1} 2\n",
      "{0, 1} 2\n",
      "{0, 1} 2\n",
      "{0, 1} 2\n",
      "{0, 1} 2\n",
      "{0, 1} 2\n",
      "{0, 1} 2\n",
      "{0, 1} 2\n",
      "{0, 1} 2\n",
      "{0, 1} 2\n",
      "{0, 1} 2\n",
      "{0, 1} 2\n",
      "{0, 1} 2\n",
      "{0, 1} 2\n",
      "{0, 1} 2\n",
      "{0, 1} 2\n",
      "{0, 1} 2\n",
      "{0, 1} 2\n",
      "{0, 1} 2\n",
      "{0, 1} 2\n",
      "{0, 1} 2\n",
      "{0, 1} 2\n",
      "{0, 1} 2\n",
      "{0, 1} 2\n",
      "{0, 1} 2\n",
      "{0, 1} 2\n",
      "{0, 1} 2\n",
      "{0, 1} 2\n",
      "{0, 1} 2\n",
      "{0, 1} 2\n",
      "{0, 1} 2\n",
      "{0, 1} 2\n",
      "{0, 1} 2\n",
      "{0, 1} 2\n",
      "{0, 1} 2\n",
      "{0, 1} 2\n",
      "{0, 1} 2\n",
      "{0, 1} 2\n",
      "{0, 1} 2\n",
      "{0, 1} 2\n",
      "{0, 1} 2\n",
      "{0, 1} 2\n",
      "{0, 1} 2\n",
      "{0, 1} 2\n",
      "{0, 1} 2\n",
      "{0, 1} 2\n",
      "{0, 1} 2\n",
      "{0, 1} 2\n",
      "{0, 1} 2\n",
      "{0, 1} 2\n",
      "{0, 1} 2\n",
      "{0, 1} 2\n",
      "{0, 1} 2\n",
      "{0, 1} 2\n",
      "{0, 1} 2\n",
      "{0, 1} 2\n",
      "{0, 1} 2\n",
      "{0, 1} 2\n",
      "{0, 1} 2\n",
      "{0, 1} 2\n",
      "{0, 1} 2\n",
      "{0, 1} 2\n",
      "{0, 1} 2\n",
      "{0, 1} 2\n",
      "{0, 1} 2\n",
      "{0, 1} 2\n",
      "{0, 1} 2\n"
     ]
    }
   ],
   "source": [
    "len_k = []\n",
    "for i in list(df_andes):\n",
    "    k = set(df_andes[i])\n",
    "    print(k , len(k))\n",
    "    len_k.append(len(k))"
   ]
  },
  {
   "cell_type": "code",
   "execution_count": 11,
   "id": "58d8f3db",
   "metadata": {},
   "outputs": [],
   "source": [
    "df_andes.loc[-1] = len_k"
   ]
  },
  {
   "cell_type": "code",
   "execution_count": 13,
   "id": "04da09f7",
   "metadata": {},
   "outputs": [
    {
     "data": {
      "text/html": [
       "<div>\n",
       "<style scoped>\n",
       "    .dataframe tbody tr th:only-of-type {\n",
       "        vertical-align: middle;\n",
       "    }\n",
       "\n",
       "    .dataframe tbody tr th {\n",
       "        vertical-align: top;\n",
       "    }\n",
       "\n",
       "    .dataframe thead th {\n",
       "        text-align: right;\n",
       "    }\n",
       "</style>\n",
       "<table border=\"1\" class=\"dataframe\">\n",
       "  <thead>\n",
       "    <tr style=\"text-align: right;\">\n",
       "      <th></th>\n",
       "      <th>DISPLACEM0</th>\n",
       "      <th>RApp1</th>\n",
       "      <th>SNode_3</th>\n",
       "      <th>GIVEN_1</th>\n",
       "      <th>RApp2</th>\n",
       "      <th>SNode_8</th>\n",
       "      <th>SNode_16</th>\n",
       "      <th>SNode_20</th>\n",
       "      <th>NEED1</th>\n",
       "      <th>SNode_21</th>\n",
       "      <th>...</th>\n",
       "      <th>TRY76</th>\n",
       "      <th>GOAL_150</th>\n",
       "      <th>APPLY77</th>\n",
       "      <th>SNode_151</th>\n",
       "      <th>GRAV78</th>\n",
       "      <th>GOAL_153</th>\n",
       "      <th>SNode_155</th>\n",
       "      <th>SNode_14</th>\n",
       "      <th>SNode_18</th>\n",
       "      <th>SNode_19</th>\n",
       "    </tr>\n",
       "  </thead>\n",
       "  <tbody>\n",
       "    <tr>\n",
       "      <th>0</th>\n",
       "      <td>0</td>\n",
       "      <td>0</td>\n",
       "      <td>1</td>\n",
       "      <td>1</td>\n",
       "      <td>1</td>\n",
       "      <td>1</td>\n",
       "      <td>1</td>\n",
       "      <td>0</td>\n",
       "      <td>0</td>\n",
       "      <td>0</td>\n",
       "      <td>...</td>\n",
       "      <td>0</td>\n",
       "      <td>0</td>\n",
       "      <td>0</td>\n",
       "      <td>1</td>\n",
       "      <td>0</td>\n",
       "      <td>0</td>\n",
       "      <td>0</td>\n",
       "      <td>1</td>\n",
       "      <td>1</td>\n",
       "      <td>1</td>\n",
       "    </tr>\n",
       "    <tr>\n",
       "      <th>1</th>\n",
       "      <td>1</td>\n",
       "      <td>1</td>\n",
       "      <td>1</td>\n",
       "      <td>1</td>\n",
       "      <td>1</td>\n",
       "      <td>1</td>\n",
       "      <td>1</td>\n",
       "      <td>1</td>\n",
       "      <td>1</td>\n",
       "      <td>1</td>\n",
       "      <td>...</td>\n",
       "      <td>1</td>\n",
       "      <td>1</td>\n",
       "      <td>0</td>\n",
       "      <td>0</td>\n",
       "      <td>0</td>\n",
       "      <td>1</td>\n",
       "      <td>0</td>\n",
       "      <td>1</td>\n",
       "      <td>1</td>\n",
       "      <td>1</td>\n",
       "    </tr>\n",
       "    <tr>\n",
       "      <th>2</th>\n",
       "      <td>1</td>\n",
       "      <td>1</td>\n",
       "      <td>1</td>\n",
       "      <td>1</td>\n",
       "      <td>1</td>\n",
       "      <td>1</td>\n",
       "      <td>1</td>\n",
       "      <td>1</td>\n",
       "      <td>1</td>\n",
       "      <td>0</td>\n",
       "      <td>...</td>\n",
       "      <td>0</td>\n",
       "      <td>0</td>\n",
       "      <td>0</td>\n",
       "      <td>0</td>\n",
       "      <td>0</td>\n",
       "      <td>0</td>\n",
       "      <td>0</td>\n",
       "      <td>1</td>\n",
       "      <td>1</td>\n",
       "      <td>1</td>\n",
       "    </tr>\n",
       "    <tr>\n",
       "      <th>3</th>\n",
       "      <td>1</td>\n",
       "      <td>1</td>\n",
       "      <td>1</td>\n",
       "      <td>1</td>\n",
       "      <td>1</td>\n",
       "      <td>1</td>\n",
       "      <td>1</td>\n",
       "      <td>0</td>\n",
       "      <td>0</td>\n",
       "      <td>1</td>\n",
       "      <td>...</td>\n",
       "      <td>0</td>\n",
       "      <td>0</td>\n",
       "      <td>1</td>\n",
       "      <td>0</td>\n",
       "      <td>0</td>\n",
       "      <td>0</td>\n",
       "      <td>0</td>\n",
       "      <td>1</td>\n",
       "      <td>1</td>\n",
       "      <td>1</td>\n",
       "    </tr>\n",
       "    <tr>\n",
       "      <th>4</th>\n",
       "      <td>1</td>\n",
       "      <td>1</td>\n",
       "      <td>1</td>\n",
       "      <td>1</td>\n",
       "      <td>1</td>\n",
       "      <td>1</td>\n",
       "      <td>1</td>\n",
       "      <td>1</td>\n",
       "      <td>1</td>\n",
       "      <td>0</td>\n",
       "      <td>...</td>\n",
       "      <td>0</td>\n",
       "      <td>0</td>\n",
       "      <td>1</td>\n",
       "      <td>1</td>\n",
       "      <td>0</td>\n",
       "      <td>1</td>\n",
       "      <td>0</td>\n",
       "      <td>1</td>\n",
       "      <td>1</td>\n",
       "      <td>1</td>\n",
       "    </tr>\n",
       "    <tr>\n",
       "      <th>...</th>\n",
       "      <td>...</td>\n",
       "      <td>...</td>\n",
       "      <td>...</td>\n",
       "      <td>...</td>\n",
       "      <td>...</td>\n",
       "      <td>...</td>\n",
       "      <td>...</td>\n",
       "      <td>...</td>\n",
       "      <td>...</td>\n",
       "      <td>...</td>\n",
       "      <td>...</td>\n",
       "      <td>...</td>\n",
       "      <td>...</td>\n",
       "      <td>...</td>\n",
       "      <td>...</td>\n",
       "      <td>...</td>\n",
       "      <td>...</td>\n",
       "      <td>...</td>\n",
       "      <td>...</td>\n",
       "      <td>...</td>\n",
       "      <td>...</td>\n",
       "    </tr>\n",
       "    <tr>\n",
       "      <th>9996</th>\n",
       "      <td>1</td>\n",
       "      <td>1</td>\n",
       "      <td>1</td>\n",
       "      <td>1</td>\n",
       "      <td>1</td>\n",
       "      <td>1</td>\n",
       "      <td>1</td>\n",
       "      <td>1</td>\n",
       "      <td>1</td>\n",
       "      <td>0</td>\n",
       "      <td>...</td>\n",
       "      <td>0</td>\n",
       "      <td>0</td>\n",
       "      <td>1</td>\n",
       "      <td>1</td>\n",
       "      <td>0</td>\n",
       "      <td>0</td>\n",
       "      <td>0</td>\n",
       "      <td>1</td>\n",
       "      <td>1</td>\n",
       "      <td>1</td>\n",
       "    </tr>\n",
       "    <tr>\n",
       "      <th>9997</th>\n",
       "      <td>0</td>\n",
       "      <td>0</td>\n",
       "      <td>1</td>\n",
       "      <td>1</td>\n",
       "      <td>1</td>\n",
       "      <td>1</td>\n",
       "      <td>1</td>\n",
       "      <td>0</td>\n",
       "      <td>0</td>\n",
       "      <td>0</td>\n",
       "      <td>...</td>\n",
       "      <td>1</td>\n",
       "      <td>1</td>\n",
       "      <td>1</td>\n",
       "      <td>1</td>\n",
       "      <td>1</td>\n",
       "      <td>0</td>\n",
       "      <td>0</td>\n",
       "      <td>1</td>\n",
       "      <td>1</td>\n",
       "      <td>1</td>\n",
       "    </tr>\n",
       "    <tr>\n",
       "      <th>9998</th>\n",
       "      <td>0</td>\n",
       "      <td>0</td>\n",
       "      <td>1</td>\n",
       "      <td>1</td>\n",
       "      <td>1</td>\n",
       "      <td>1</td>\n",
       "      <td>1</td>\n",
       "      <td>1</td>\n",
       "      <td>1</td>\n",
       "      <td>1</td>\n",
       "      <td>...</td>\n",
       "      <td>1</td>\n",
       "      <td>1</td>\n",
       "      <td>1</td>\n",
       "      <td>1</td>\n",
       "      <td>1</td>\n",
       "      <td>1</td>\n",
       "      <td>0</td>\n",
       "      <td>1</td>\n",
       "      <td>1</td>\n",
       "      <td>1</td>\n",
       "    </tr>\n",
       "    <tr>\n",
       "      <th>9999</th>\n",
       "      <td>0</td>\n",
       "      <td>0</td>\n",
       "      <td>1</td>\n",
       "      <td>1</td>\n",
       "      <td>1</td>\n",
       "      <td>1</td>\n",
       "      <td>1</td>\n",
       "      <td>0</td>\n",
       "      <td>0</td>\n",
       "      <td>0</td>\n",
       "      <td>...</td>\n",
       "      <td>0</td>\n",
       "      <td>0</td>\n",
       "      <td>1</td>\n",
       "      <td>0</td>\n",
       "      <td>1</td>\n",
       "      <td>0</td>\n",
       "      <td>0</td>\n",
       "      <td>1</td>\n",
       "      <td>1</td>\n",
       "      <td>1</td>\n",
       "    </tr>\n",
       "    <tr>\n",
       "      <th>-1</th>\n",
       "      <td>2</td>\n",
       "      <td>2</td>\n",
       "      <td>2</td>\n",
       "      <td>2</td>\n",
       "      <td>2</td>\n",
       "      <td>2</td>\n",
       "      <td>2</td>\n",
       "      <td>2</td>\n",
       "      <td>2</td>\n",
       "      <td>2</td>\n",
       "      <td>...</td>\n",
       "      <td>2</td>\n",
       "      <td>2</td>\n",
       "      <td>2</td>\n",
       "      <td>2</td>\n",
       "      <td>2</td>\n",
       "      <td>2</td>\n",
       "      <td>2</td>\n",
       "      <td>2</td>\n",
       "      <td>2</td>\n",
       "      <td>2</td>\n",
       "    </tr>\n",
       "  </tbody>\n",
       "</table>\n",
       "<p>10001 rows × 223 columns</p>\n",
       "</div>"
      ],
      "text/plain": [
       "       DISPLACEM0  RApp1  SNode_3  GIVEN_1  RApp2  SNode_8  SNode_16  \\\n",
       " 0              0      0        1        1      1        1         1   \n",
       " 1              1      1        1        1      1        1         1   \n",
       " 2              1      1        1        1      1        1         1   \n",
       " 3              1      1        1        1      1        1         1   \n",
       " 4              1      1        1        1      1        1         1   \n",
       "...           ...    ...      ...      ...    ...      ...       ...   \n",
       " 9996           1      1        1        1      1        1         1   \n",
       " 9997           0      0        1        1      1        1         1   \n",
       " 9998           0      0        1        1      1        1         1   \n",
       " 9999           0      0        1        1      1        1         1   \n",
       "-1              2      2        2        2      2        2         2   \n",
       "\n",
       "       SNode_20  NEED1  SNode_21  ...  TRY76  GOAL_150  APPLY77  SNode_151  \\\n",
       " 0            0      0         0  ...      0         0        0          1   \n",
       " 1            1      1         1  ...      1         1        0          0   \n",
       " 2            1      1         0  ...      0         0        0          0   \n",
       " 3            0      0         1  ...      0         0        1          0   \n",
       " 4            1      1         0  ...      0         0        1          1   \n",
       "...         ...    ...       ...  ...    ...       ...      ...        ...   \n",
       " 9996         1      1         0  ...      0         0        1          1   \n",
       " 9997         0      0         0  ...      1         1        1          1   \n",
       " 9998         1      1         1  ...      1         1        1          1   \n",
       " 9999         0      0         0  ...      0         0        1          0   \n",
       "-1            2      2         2  ...      2         2        2          2   \n",
       "\n",
       "       GRAV78  GOAL_153  SNode_155  SNode_14  SNode_18  SNode_19  \n",
       " 0          0         0          0         1         1         1  \n",
       " 1          0         1          0         1         1         1  \n",
       " 2          0         0          0         1         1         1  \n",
       " 3          0         0          0         1         1         1  \n",
       " 4          0         1          0         1         1         1  \n",
       "...       ...       ...        ...       ...       ...       ...  \n",
       " 9996       0         0          0         1         1         1  \n",
       " 9997       1         0          0         1         1         1  \n",
       " 9998       1         1          0         1         1         1  \n",
       " 9999       1         0          0         1         1         1  \n",
       "-1          2         2          2         2         2         2  \n",
       "\n",
       "[10001 rows x 223 columns]"
      ]
     },
     "execution_count": 13,
     "metadata": {},
     "output_type": "execute_result"
    }
   ],
   "source": [
    "df_andes"
   ]
  },
  {
   "cell_type": "code",
   "execution_count": 14,
   "id": "f82ba79f",
   "metadata": {},
   "outputs": [],
   "source": [
    "df_andes.index = df_andes.index + 1 \n",
    "df_andes = df_andes.sort_index()"
   ]
  },
  {
   "cell_type": "code",
   "execution_count": 17,
   "id": "d372d523",
   "metadata": {},
   "outputs": [],
   "source": [
    "df_andes.to_csv('andes_p.csv', index=False)"
   ]
  },
  {
   "cell_type": "code",
   "execution_count": null,
   "id": "bbfdb35d",
   "metadata": {},
   "outputs": [],
   "source": []
  }
 ],
 "metadata": {
  "kernelspec": {
   "display_name": "Python 3 (ipykernel)",
   "language": "python",
   "name": "python3"
  },
  "language_info": {
   "codemirror_mode": {
    "name": "ipython",
    "version": 3
   },
   "file_extension": ".py",
   "mimetype": "text/x-python",
   "name": "python",
   "nbconvert_exporter": "python",
   "pygments_lexer": "ipython3",
   "version": "3.8.8"
  }
 },
 "nbformat": 4,
 "nbformat_minor": 5
}
