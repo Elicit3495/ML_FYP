{
 "cells": [
  {
   "cell_type": "code",
   "execution_count": 1,
   "id": "99d25821",
   "metadata": {},
   "outputs": [],
   "source": [
    "import pandas as pd\n",
    "import numpy as np\n",
    "from pygobnilp.gobnilp import Gobnilp\n",
    "import pgmpy\n",
    "import itertools\n",
    "from pgmpy.estimators.CITests import pearsonr\n",
    "from pgmpy.estimators.CITests import chi_square\n",
    "import networkx as nx\n",
    "import time\n",
    "import collections"
   ]
  },
  {
   "cell_type": "markdown",
   "id": "df8e453d",
   "metadata": {},
   "source": [
    "### FORMED"
   ]
  },
  {
   "cell_type": "code",
   "execution_count": 4,
   "id": "3945513d",
   "metadata": {},
   "outputs": [
    {
     "ename": "FileNotFoundError",
     "evalue": "[Errno 2] No such file or directory: 'C:\\\\Users\\\\User\\\\Documents\\\\GitHub\\\\ML_FYP\\\\dataset\\\\FORMED_DATA.csv'",
     "output_type": "error",
     "traceback": [
      "\u001b[1;31m---------------------------------------------------------------------------\u001b[0m",
      "\u001b[1;31mFileNotFoundError\u001b[0m                         Traceback (most recent call last)",
      "Cell \u001b[1;32mIn [4], line 1\u001b[0m\n\u001b[1;32m----> 1\u001b[0m df \u001b[38;5;241m=\u001b[39m \u001b[43mpd\u001b[49m\u001b[38;5;241;43m.\u001b[39;49m\u001b[43mread_csv\u001b[49m\u001b[43m(\u001b[49m\u001b[38;5;124;43mr\u001b[39;49m\u001b[38;5;124;43m'\u001b[39;49m\u001b[38;5;124;43mC:\u001b[39;49m\u001b[38;5;124;43m\\\u001b[39;49m\u001b[38;5;124;43mUsers\u001b[39;49m\u001b[38;5;124;43m\\\u001b[39;49m\u001b[38;5;124;43mUser\u001b[39;49m\u001b[38;5;124;43m\\\u001b[39;49m\u001b[38;5;124;43mDocuments\u001b[39;49m\u001b[38;5;124;43m\\\u001b[39;49m\u001b[38;5;124;43mGitHub\u001b[39;49m\u001b[38;5;124;43m\\\u001b[39;49m\u001b[38;5;124;43mML_FYP\u001b[39;49m\u001b[38;5;124;43m\\\u001b[39;49m\u001b[38;5;124;43mdataset\u001b[39;49m\u001b[38;5;124;43m\\\u001b[39;49m\u001b[38;5;124;43mFORMED_DATA.csv\u001b[39;49m\u001b[38;5;124;43m'\u001b[39;49m\u001b[43m)\u001b[49m\n",
      "File \u001b[1;32m~\\anaconda3\\lib\\site-packages\\pandas\\util\\_decorators.py:311\u001b[0m, in \u001b[0;36mdeprecate_nonkeyword_arguments.<locals>.decorate.<locals>.wrapper\u001b[1;34m(*args, **kwargs)\u001b[0m\n\u001b[0;32m    305\u001b[0m \u001b[38;5;28;01mif\u001b[39;00m \u001b[38;5;28mlen\u001b[39m(args) \u001b[38;5;241m>\u001b[39m num_allow_args:\n\u001b[0;32m    306\u001b[0m     warnings\u001b[38;5;241m.\u001b[39mwarn(\n\u001b[0;32m    307\u001b[0m         msg\u001b[38;5;241m.\u001b[39mformat(arguments\u001b[38;5;241m=\u001b[39marguments),\n\u001b[0;32m    308\u001b[0m         \u001b[38;5;167;01mFutureWarning\u001b[39;00m,\n\u001b[0;32m    309\u001b[0m         stacklevel\u001b[38;5;241m=\u001b[39mstacklevel,\n\u001b[0;32m    310\u001b[0m     )\n\u001b[1;32m--> 311\u001b[0m \u001b[38;5;28;01mreturn\u001b[39;00m \u001b[43mfunc\u001b[49m\u001b[43m(\u001b[49m\u001b[38;5;241;43m*\u001b[39;49m\u001b[43margs\u001b[49m\u001b[43m,\u001b[49m\u001b[43m \u001b[49m\u001b[38;5;241;43m*\u001b[39;49m\u001b[38;5;241;43m*\u001b[39;49m\u001b[43mkwargs\u001b[49m\u001b[43m)\u001b[49m\n",
      "File \u001b[1;32m~\\anaconda3\\lib\\site-packages\\pandas\\io\\parsers\\readers.py:678\u001b[0m, in \u001b[0;36mread_csv\u001b[1;34m(filepath_or_buffer, sep, delimiter, header, names, index_col, usecols, squeeze, prefix, mangle_dupe_cols, dtype, engine, converters, true_values, false_values, skipinitialspace, skiprows, skipfooter, nrows, na_values, keep_default_na, na_filter, verbose, skip_blank_lines, parse_dates, infer_datetime_format, keep_date_col, date_parser, dayfirst, cache_dates, iterator, chunksize, compression, thousands, decimal, lineterminator, quotechar, quoting, doublequote, escapechar, comment, encoding, encoding_errors, dialect, error_bad_lines, warn_bad_lines, on_bad_lines, delim_whitespace, low_memory, memory_map, float_precision, storage_options)\u001b[0m\n\u001b[0;32m    663\u001b[0m kwds_defaults \u001b[38;5;241m=\u001b[39m _refine_defaults_read(\n\u001b[0;32m    664\u001b[0m     dialect,\n\u001b[0;32m    665\u001b[0m     delimiter,\n\u001b[1;32m   (...)\u001b[0m\n\u001b[0;32m    674\u001b[0m     defaults\u001b[38;5;241m=\u001b[39m{\u001b[38;5;124m\"\u001b[39m\u001b[38;5;124mdelimiter\u001b[39m\u001b[38;5;124m\"\u001b[39m: \u001b[38;5;124m\"\u001b[39m\u001b[38;5;124m,\u001b[39m\u001b[38;5;124m\"\u001b[39m},\n\u001b[0;32m    675\u001b[0m )\n\u001b[0;32m    676\u001b[0m kwds\u001b[38;5;241m.\u001b[39mupdate(kwds_defaults)\n\u001b[1;32m--> 678\u001b[0m \u001b[38;5;28;01mreturn\u001b[39;00m \u001b[43m_read\u001b[49m\u001b[43m(\u001b[49m\u001b[43mfilepath_or_buffer\u001b[49m\u001b[43m,\u001b[49m\u001b[43m \u001b[49m\u001b[43mkwds\u001b[49m\u001b[43m)\u001b[49m\n",
      "File \u001b[1;32m~\\anaconda3\\lib\\site-packages\\pandas\\io\\parsers\\readers.py:575\u001b[0m, in \u001b[0;36m_read\u001b[1;34m(filepath_or_buffer, kwds)\u001b[0m\n\u001b[0;32m    572\u001b[0m _validate_names(kwds\u001b[38;5;241m.\u001b[39mget(\u001b[38;5;124m\"\u001b[39m\u001b[38;5;124mnames\u001b[39m\u001b[38;5;124m\"\u001b[39m, \u001b[38;5;28;01mNone\u001b[39;00m))\n\u001b[0;32m    574\u001b[0m \u001b[38;5;66;03m# Create the parser.\u001b[39;00m\n\u001b[1;32m--> 575\u001b[0m parser \u001b[38;5;241m=\u001b[39m \u001b[43mTextFileReader\u001b[49m\u001b[43m(\u001b[49m\u001b[43mfilepath_or_buffer\u001b[49m\u001b[43m,\u001b[49m\u001b[43m \u001b[49m\u001b[38;5;241;43m*\u001b[39;49m\u001b[38;5;241;43m*\u001b[39;49m\u001b[43mkwds\u001b[49m\u001b[43m)\u001b[49m\n\u001b[0;32m    577\u001b[0m \u001b[38;5;28;01mif\u001b[39;00m chunksize \u001b[38;5;129;01mor\u001b[39;00m iterator:\n\u001b[0;32m    578\u001b[0m     \u001b[38;5;28;01mreturn\u001b[39;00m parser\n",
      "File \u001b[1;32m~\\anaconda3\\lib\\site-packages\\pandas\\io\\parsers\\readers.py:932\u001b[0m, in \u001b[0;36mTextFileReader.__init__\u001b[1;34m(self, f, engine, **kwds)\u001b[0m\n\u001b[0;32m    929\u001b[0m     \u001b[38;5;28mself\u001b[39m\u001b[38;5;241m.\u001b[39moptions[\u001b[38;5;124m\"\u001b[39m\u001b[38;5;124mhas_index_names\u001b[39m\u001b[38;5;124m\"\u001b[39m] \u001b[38;5;241m=\u001b[39m kwds[\u001b[38;5;124m\"\u001b[39m\u001b[38;5;124mhas_index_names\u001b[39m\u001b[38;5;124m\"\u001b[39m]\n\u001b[0;32m    931\u001b[0m \u001b[38;5;28mself\u001b[39m\u001b[38;5;241m.\u001b[39mhandles: IOHandles \u001b[38;5;241m|\u001b[39m \u001b[38;5;28;01mNone\u001b[39;00m \u001b[38;5;241m=\u001b[39m \u001b[38;5;28;01mNone\u001b[39;00m\n\u001b[1;32m--> 932\u001b[0m \u001b[38;5;28mself\u001b[39m\u001b[38;5;241m.\u001b[39m_engine \u001b[38;5;241m=\u001b[39m \u001b[38;5;28;43mself\u001b[39;49m\u001b[38;5;241;43m.\u001b[39;49m\u001b[43m_make_engine\u001b[49m\u001b[43m(\u001b[49m\u001b[43mf\u001b[49m\u001b[43m,\u001b[49m\u001b[43m \u001b[49m\u001b[38;5;28;43mself\u001b[39;49m\u001b[38;5;241;43m.\u001b[39;49m\u001b[43mengine\u001b[49m\u001b[43m)\u001b[49m\n",
      "File \u001b[1;32m~\\anaconda3\\lib\\site-packages\\pandas\\io\\parsers\\readers.py:1216\u001b[0m, in \u001b[0;36mTextFileReader._make_engine\u001b[1;34m(self, f, engine)\u001b[0m\n\u001b[0;32m   1212\u001b[0m     mode \u001b[38;5;241m=\u001b[39m \u001b[38;5;124m\"\u001b[39m\u001b[38;5;124mrb\u001b[39m\u001b[38;5;124m\"\u001b[39m\n\u001b[0;32m   1213\u001b[0m \u001b[38;5;66;03m# error: No overload variant of \"get_handle\" matches argument types\u001b[39;00m\n\u001b[0;32m   1214\u001b[0m \u001b[38;5;66;03m# \"Union[str, PathLike[str], ReadCsvBuffer[bytes], ReadCsvBuffer[str]]\"\u001b[39;00m\n\u001b[0;32m   1215\u001b[0m \u001b[38;5;66;03m# , \"str\", \"bool\", \"Any\", \"Any\", \"Any\", \"Any\", \"Any\"\u001b[39;00m\n\u001b[1;32m-> 1216\u001b[0m \u001b[38;5;28mself\u001b[39m\u001b[38;5;241m.\u001b[39mhandles \u001b[38;5;241m=\u001b[39m \u001b[43mget_handle\u001b[49m\u001b[43m(\u001b[49m\u001b[43m  \u001b[49m\u001b[38;5;66;43;03m# type: ignore[call-overload]\u001b[39;49;00m\n\u001b[0;32m   1217\u001b[0m \u001b[43m    \u001b[49m\u001b[43mf\u001b[49m\u001b[43m,\u001b[49m\n\u001b[0;32m   1218\u001b[0m \u001b[43m    \u001b[49m\u001b[43mmode\u001b[49m\u001b[43m,\u001b[49m\n\u001b[0;32m   1219\u001b[0m \u001b[43m    \u001b[49m\u001b[43mencoding\u001b[49m\u001b[38;5;241;43m=\u001b[39;49m\u001b[38;5;28;43mself\u001b[39;49m\u001b[38;5;241;43m.\u001b[39;49m\u001b[43moptions\u001b[49m\u001b[38;5;241;43m.\u001b[39;49m\u001b[43mget\u001b[49m\u001b[43m(\u001b[49m\u001b[38;5;124;43m\"\u001b[39;49m\u001b[38;5;124;43mencoding\u001b[39;49m\u001b[38;5;124;43m\"\u001b[39;49m\u001b[43m,\u001b[49m\u001b[43m \u001b[49m\u001b[38;5;28;43;01mNone\u001b[39;49;00m\u001b[43m)\u001b[49m\u001b[43m,\u001b[49m\n\u001b[0;32m   1220\u001b[0m \u001b[43m    \u001b[49m\u001b[43mcompression\u001b[49m\u001b[38;5;241;43m=\u001b[39;49m\u001b[38;5;28;43mself\u001b[39;49m\u001b[38;5;241;43m.\u001b[39;49m\u001b[43moptions\u001b[49m\u001b[38;5;241;43m.\u001b[39;49m\u001b[43mget\u001b[49m\u001b[43m(\u001b[49m\u001b[38;5;124;43m\"\u001b[39;49m\u001b[38;5;124;43mcompression\u001b[39;49m\u001b[38;5;124;43m\"\u001b[39;49m\u001b[43m,\u001b[49m\u001b[43m \u001b[49m\u001b[38;5;28;43;01mNone\u001b[39;49;00m\u001b[43m)\u001b[49m\u001b[43m,\u001b[49m\n\u001b[0;32m   1221\u001b[0m \u001b[43m    \u001b[49m\u001b[43mmemory_map\u001b[49m\u001b[38;5;241;43m=\u001b[39;49m\u001b[38;5;28;43mself\u001b[39;49m\u001b[38;5;241;43m.\u001b[39;49m\u001b[43moptions\u001b[49m\u001b[38;5;241;43m.\u001b[39;49m\u001b[43mget\u001b[49m\u001b[43m(\u001b[49m\u001b[38;5;124;43m\"\u001b[39;49m\u001b[38;5;124;43mmemory_map\u001b[39;49m\u001b[38;5;124;43m\"\u001b[39;49m\u001b[43m,\u001b[49m\u001b[43m \u001b[49m\u001b[38;5;28;43;01mFalse\u001b[39;49;00m\u001b[43m)\u001b[49m\u001b[43m,\u001b[49m\n\u001b[0;32m   1222\u001b[0m \u001b[43m    \u001b[49m\u001b[43mis_text\u001b[49m\u001b[38;5;241;43m=\u001b[39;49m\u001b[43mis_text\u001b[49m\u001b[43m,\u001b[49m\n\u001b[0;32m   1223\u001b[0m \u001b[43m    \u001b[49m\u001b[43merrors\u001b[49m\u001b[38;5;241;43m=\u001b[39;49m\u001b[38;5;28;43mself\u001b[39;49m\u001b[38;5;241;43m.\u001b[39;49m\u001b[43moptions\u001b[49m\u001b[38;5;241;43m.\u001b[39;49m\u001b[43mget\u001b[49m\u001b[43m(\u001b[49m\u001b[38;5;124;43m\"\u001b[39;49m\u001b[38;5;124;43mencoding_errors\u001b[39;49m\u001b[38;5;124;43m\"\u001b[39;49m\u001b[43m,\u001b[49m\u001b[43m \u001b[49m\u001b[38;5;124;43m\"\u001b[39;49m\u001b[38;5;124;43mstrict\u001b[39;49m\u001b[38;5;124;43m\"\u001b[39;49m\u001b[43m)\u001b[49m\u001b[43m,\u001b[49m\n\u001b[0;32m   1224\u001b[0m \u001b[43m    \u001b[49m\u001b[43mstorage_options\u001b[49m\u001b[38;5;241;43m=\u001b[39;49m\u001b[38;5;28;43mself\u001b[39;49m\u001b[38;5;241;43m.\u001b[39;49m\u001b[43moptions\u001b[49m\u001b[38;5;241;43m.\u001b[39;49m\u001b[43mget\u001b[49m\u001b[43m(\u001b[49m\u001b[38;5;124;43m\"\u001b[39;49m\u001b[38;5;124;43mstorage_options\u001b[39;49m\u001b[38;5;124;43m\"\u001b[39;49m\u001b[43m,\u001b[49m\u001b[43m \u001b[49m\u001b[38;5;28;43;01mNone\u001b[39;49;00m\u001b[43m)\u001b[49m\u001b[43m,\u001b[49m\n\u001b[0;32m   1225\u001b[0m \u001b[43m\u001b[49m\u001b[43m)\u001b[49m\n\u001b[0;32m   1226\u001b[0m \u001b[38;5;28;01massert\u001b[39;00m \u001b[38;5;28mself\u001b[39m\u001b[38;5;241m.\u001b[39mhandles \u001b[38;5;129;01mis\u001b[39;00m \u001b[38;5;129;01mnot\u001b[39;00m \u001b[38;5;28;01mNone\u001b[39;00m\n\u001b[0;32m   1227\u001b[0m f \u001b[38;5;241m=\u001b[39m \u001b[38;5;28mself\u001b[39m\u001b[38;5;241m.\u001b[39mhandles\u001b[38;5;241m.\u001b[39mhandle\n",
      "File \u001b[1;32m~\\anaconda3\\lib\\site-packages\\pandas\\io\\common.py:786\u001b[0m, in \u001b[0;36mget_handle\u001b[1;34m(path_or_buf, mode, encoding, compression, memory_map, is_text, errors, storage_options)\u001b[0m\n\u001b[0;32m    781\u001b[0m \u001b[38;5;28;01melif\u001b[39;00m \u001b[38;5;28misinstance\u001b[39m(handle, \u001b[38;5;28mstr\u001b[39m):\n\u001b[0;32m    782\u001b[0m     \u001b[38;5;66;03m# Check whether the filename is to be opened in binary mode.\u001b[39;00m\n\u001b[0;32m    783\u001b[0m     \u001b[38;5;66;03m# Binary mode does not support 'encoding' and 'newline'.\u001b[39;00m\n\u001b[0;32m    784\u001b[0m     \u001b[38;5;28;01mif\u001b[39;00m ioargs\u001b[38;5;241m.\u001b[39mencoding \u001b[38;5;129;01mand\u001b[39;00m \u001b[38;5;124m\"\u001b[39m\u001b[38;5;124mb\u001b[39m\u001b[38;5;124m\"\u001b[39m \u001b[38;5;129;01mnot\u001b[39;00m \u001b[38;5;129;01min\u001b[39;00m ioargs\u001b[38;5;241m.\u001b[39mmode:\n\u001b[0;32m    785\u001b[0m         \u001b[38;5;66;03m# Encoding\u001b[39;00m\n\u001b[1;32m--> 786\u001b[0m         handle \u001b[38;5;241m=\u001b[39m \u001b[38;5;28;43mopen\u001b[39;49m\u001b[43m(\u001b[49m\n\u001b[0;32m    787\u001b[0m \u001b[43m            \u001b[49m\u001b[43mhandle\u001b[49m\u001b[43m,\u001b[49m\n\u001b[0;32m    788\u001b[0m \u001b[43m            \u001b[49m\u001b[43mioargs\u001b[49m\u001b[38;5;241;43m.\u001b[39;49m\u001b[43mmode\u001b[49m\u001b[43m,\u001b[49m\n\u001b[0;32m    789\u001b[0m \u001b[43m            \u001b[49m\u001b[43mencoding\u001b[49m\u001b[38;5;241;43m=\u001b[39;49m\u001b[43mioargs\u001b[49m\u001b[38;5;241;43m.\u001b[39;49m\u001b[43mencoding\u001b[49m\u001b[43m,\u001b[49m\n\u001b[0;32m    790\u001b[0m \u001b[43m            \u001b[49m\u001b[43merrors\u001b[49m\u001b[38;5;241;43m=\u001b[39;49m\u001b[43merrors\u001b[49m\u001b[43m,\u001b[49m\n\u001b[0;32m    791\u001b[0m \u001b[43m            \u001b[49m\u001b[43mnewline\u001b[49m\u001b[38;5;241;43m=\u001b[39;49m\u001b[38;5;124;43m\"\u001b[39;49m\u001b[38;5;124;43m\"\u001b[39;49m\u001b[43m,\u001b[49m\n\u001b[0;32m    792\u001b[0m \u001b[43m        \u001b[49m\u001b[43m)\u001b[49m\n\u001b[0;32m    793\u001b[0m     \u001b[38;5;28;01melse\u001b[39;00m:\n\u001b[0;32m    794\u001b[0m         \u001b[38;5;66;03m# Binary mode\u001b[39;00m\n\u001b[0;32m    795\u001b[0m         handle \u001b[38;5;241m=\u001b[39m \u001b[38;5;28mopen\u001b[39m(handle, ioargs\u001b[38;5;241m.\u001b[39mmode)\n",
      "\u001b[1;31mFileNotFoundError\u001b[0m: [Errno 2] No such file or directory: 'C:\\\\Users\\\\User\\\\Documents\\\\GitHub\\\\ML_FYP\\\\dataset\\\\FORMED_DATA.csv'"
     ]
    }
   ],
   "source": [
    "df = pd.read_csv(r'C:\\Users\\User\\Documents\\GitHub\\ML_FYP\\dataset\\FORMED_DATA.csv')\n"
   ]
  },
  {
   "cell_type": "code",
   "execution_count": null,
   "id": "36817e02",
   "metadata": {},
   "outputs": [],
   "source": [
    "len(list(df))"
   ]
  },
  {
   "cell_type": "code",
   "execution_count": 528,
   "id": "4c595b1f",
   "metadata": {},
   "outputs": [
    {
     "name": "stdout",
     "output_type": "stream",
     "text": [
      "{'3to5', '9to10', '6to8', '<3', '11+'}\n"
     ]
    }
   ],
   "source": [
    "'''\n",
    "PCLRfacet3\n",
    "'''\n",
    "print(set(df['PCLRfacet3']))\n",
    "dict_PCLRfacet3 = {'<3': 0, '3to5': 1, '6to8': 2, '9to10': 3, '11+' : 4}\n",
    "df['PCLRfacet3'] = df['PCLRfacet3'].replace(dict_PCLRfacet3)"
   ]
  },
  {
   "cell_type": "code",
   "execution_count": 529,
   "id": "210ba6b4",
   "metadata": {},
   "outputs": [
    {
     "name": "stdout",
     "output_type": "stream",
     "text": [
      "{'Low', 'High'}\n"
     ]
    }
   ],
   "source": [
    "'''\n",
    "AbilityToCope\n",
    "'''\n",
    "print(set(df['AbilityToCope']))\n",
    "dict_AbilityToCope = {'Low': 0, 'High': 1}\n",
    "df['AbilityToCope'] = df['AbilityToCope'].replace(dict_AbilityToCope)"
   ]
  },
  {
   "cell_type": "code",
   "execution_count": 530,
   "id": "d1703e62",
   "metadata": {},
   "outputs": [
    {
     "name": "stdout",
     "output_type": "stream",
     "text": [
      "{'Yes', 'No'}\n"
     ]
    }
   ],
   "source": [
    "'''\n",
    "Stress\n",
    "'''\n",
    "print(set(df['Stress']))\n",
    "dict_Stress = {'No': 0, 'Yes': 1}\n",
    "df['Stress'] = df['Stress'].replace(dict_Stress)"
   ]
  },
  {
   "cell_type": "code",
   "execution_count": 531,
   "id": "9e3a7fff",
   "metadata": {},
   "outputs": [
    {
     "name": "stdout",
     "output_type": "stream",
     "text": [
      "{'Yes', 'No'}\n"
     ]
    }
   ],
   "source": [
    "'''\n",
    "ProblematicLifeEvents\n",
    "'''\n",
    "print(set(df['ProblematicLifeEvents']))\n",
    "dict_ProblematicLifeEvents = {'No': 0, 'Yes': 1}\n",
    "df['ProblematicLifeEvents'] = df['ProblematicLifeEvents'].replace(dict_ProblematicLifeEvents)"
   ]
  },
  {
   "cell_type": "code",
   "execution_count": 532,
   "id": "929e21fd",
   "metadata": {},
   "outputs": [
    {
     "name": "stdout",
     "output_type": "stream",
     "text": [
      "{'Yes', 'No'}\n"
     ]
    }
   ],
   "source": [
    "'''\n",
    "Victimisation\n",
    "'''\n",
    "print(set(df['Victimisation']))\n",
    "dict_Victimisation = {'No': 0, 'Yes': 1}\n",
    "df['Victimisation'] = df['Victimisation'].replace(dict_Victimisation)"
   ]
  },
  {
   "cell_type": "code",
   "execution_count": 533,
   "id": "4d46f219",
   "metadata": {},
   "outputs": [
    {
     "name": "stdout",
     "output_type": "stream",
     "text": [
      "{'Yes', 'No'}\n"
     ]
    }
   ],
   "source": [
    "'''\n",
    "ViolentThoughts\n",
    "'''\n",
    "print(set(df['ViolentThoughts']))\n",
    "dict_ViolentThoughts = {'No': 0, 'Yes': 1}\n",
    "df['ViolentThoughts'] = df['ViolentThoughts'].replace(dict_ViolentThoughts)"
   ]
  },
  {
   "cell_type": "code",
   "execution_count": 534,
   "id": "a074ab0c",
   "metadata": {},
   "outputs": [
    {
     "name": "stdout",
     "output_type": "stream",
     "text": [
      "{'Yes', 'Partly', 'No'}\n"
     ]
    }
   ],
   "source": [
    "'''\n",
    "Impulsivity\n",
    "'''\n",
    "print(set(df['Impulsivity']))\n",
    "dict_Impulsivity = {'No': 0, 'Partly' : 1, 'Yes': 2}\n",
    "df['Impulsivity'] = df['Impulsivity'].replace(dict_Impulsivity)"
   ]
  },
  {
   "cell_type": "code",
   "execution_count": 535,
   "id": "cf206c68",
   "metadata": {},
   "outputs": [
    {
     "name": "stdout",
     "output_type": "stream",
     "text": [
      "{'Yes', 'No'}\n"
     ]
    }
   ],
   "source": [
    "'''\n",
    "BPD\n",
    "'''\n",
    "print(set(df['BPD']))\n",
    "dict_BPD = {'No': 0, 'Yes': 1}\n",
    "df['BPD'] = df['BPD'].replace(dict_BPD)"
   ]
  },
  {
   "cell_type": "code",
   "execution_count": 536,
   "id": "b1843042",
   "metadata": {},
   "outputs": [
    {
     "name": "stdout",
     "output_type": "stream",
     "text": [
      "{'Yes', 'No'}\n"
     ]
    }
   ],
   "source": [
    "'''\n",
    "AbuseNeglectAsChild\n",
    "'''\n",
    "print(set(df['AbuseNeglectAsChild']))\n",
    "dict_AbuseNeglectAsChild = {'No': 0, 'Yes': 1}\n",
    "df['AbuseNeglectAsChild'] = df['AbuseNeglectAsChild'].replace(dict_AbuseNeglectAsChild)"
   ]
  },
  {
   "cell_type": "code",
   "execution_count": 537,
   "id": "05d47a92",
   "metadata": {},
   "outputs": [
    {
     "name": "stdout",
     "output_type": "stream",
     "text": [
      "{'5to9', '10to14', '<5', '15-18'}\n"
     ]
    }
   ],
   "source": [
    "'''\n",
    "PCLRfactor2\n",
    "'''\n",
    "print(set(df['PCLRfactor2']))\n",
    "dict_PCLRfactor2 = {'<5' : 0, '5to9' : 1, '10to14' : 2, '15-18' : 3}\n",
    "df['PCLRfactor2'] = df['PCLRfactor2'].replace(dict_PCLRfactor2)"
   ]
  },
  {
   "cell_type": "code",
   "execution_count": 538,
   "id": "c307a452",
   "metadata": {},
   "outputs": [
    {
     "name": "stdout",
     "output_type": "stream",
     "text": [
      "{'13+', '3to12', '0to2'}\n"
     ]
    }
   ],
   "source": [
    "'''\n",
    "prioracq\n",
    "'''\n",
    "print(set(df['prioracq']))\n",
    "dict_prioracq = {'0to2' : 0, '3to12' : 1, '13+' : 2}\n",
    "df['prioracq'] = df['prioracq'].replace(dict_prioracq)\n"
   ]
  },
  {
   "cell_type": "code",
   "execution_count": 539,
   "id": "021d646e",
   "metadata": {},
   "outputs": [
    {
     "name": "stdout",
     "output_type": "stream",
     "text": [
      "{'Yes', 'No'}\n"
     ]
    }
   ],
   "source": [
    "'''\n",
    "ASPD\n",
    "'''\n",
    "print(set(df['ASPD']))\n",
    "dict_ASPD = {'No': 0, 'Yes': 1}\n",
    "df['ASPD'] = df['ASPD'].replace(dict_ASPD)"
   ]
  },
  {
   "cell_type": "code",
   "execution_count": 540,
   "id": "e229e53e",
   "metadata": {},
   "outputs": [
    {
     "name": "stdout",
     "output_type": "stream",
     "text": [
      "{'Yes', 'No'}\n"
     ]
    }
   ],
   "source": [
    "'''\n",
    "CriminalNetwork\n",
    "'''\n",
    "print(set(df['CriminalNetwork']))\n",
    "dict_CriminalNetwork = {'No': 0, 'Yes': 1}\n",
    "df['CriminalNetwork'] = df['CriminalNetwork'].replace(dict_CriminalNetwork)"
   ]
  },
  {
   "cell_type": "code",
   "execution_count": 541,
   "id": "9a4ceef8",
   "metadata": {},
   "outputs": [
    {
     "name": "stdout",
     "output_type": "stream",
     "text": [
      "{'22-25', '40-49', '30-34', '26-29', '50-59', '*', '20-21', '18-19', '35-39', '60+'}\n"
     ]
    }
   ],
   "source": [
    "'''\n",
    "Age\n",
    "'''\n",
    "print(set(df['Age']))\n",
    "dict_Age = {'*' : 0, '18-19' : 1, '20-21': 2, '22-25' : 3, '26-29' : 4, '30-34' : 5, '35-39' : 6, '40-49' : 7, '50-59' : 8, '60+' : 9}\n",
    "df['Age'] = df['Age'].replace(dict_Age)"
   ]
  },
  {
   "cell_type": "code",
   "execution_count": 542,
   "id": "27f2c996",
   "metadata": {},
   "outputs": [
    {
     "name": "stdout",
     "output_type": "stream",
     "text": [
      "{'Male', 'Female'}\n"
     ]
    }
   ],
   "source": [
    "'''\n",
    "Gender\n",
    "'''\n",
    "print(set(df['Gender']))\n",
    "dict_Gender = {'Male': 0, 'Female': 1}\n",
    "df['Gender'] = df['Gender'].replace(dict_Gender)"
   ]
  },
  {
   "cell_type": "code",
   "execution_count": 543,
   "id": "30f0679c",
   "metadata": {},
   "outputs": [
    {
     "name": "stdout",
     "output_type": "stream",
     "text": [
      "{'None', '2to5', 'One', '6+'}\n"
     ]
    }
   ],
   "source": [
    "'''\n",
    "PriorViolentConvictions\n",
    "'''\n",
    "print(set(df['PriorViolentConvictions']))\n",
    "dict_PVC = {'None' : 0, 'One' : 1, '2to5': 2, '6+' : 3}\n",
    "df['PriorViolentConvictions'] = df['PriorViolentConvictions'].replace(dict_PVC)"
   ]
  },
  {
   "cell_type": "code",
   "execution_count": 544,
   "id": "a7e34f39",
   "metadata": {},
   "outputs": [
    {
     "name": "stdout",
     "output_type": "stream",
     "text": [
      "{'27+', '17to26', '0to9', '10to16'}\n"
     ]
    }
   ],
   "source": [
    "'''\n",
    "pclrscore\n",
    "'''\n",
    "print(set(df['pclrscore']))\n",
    "dict_pclrscore = {'0to9' : 0, '10to16' : 1, '17to26': 2, '27+' : 3}\n",
    "df['pclrscore'] = df['pclrscore'].replace(dict_pclrscore)\n"
   ]
  },
  {
   "cell_type": "code",
   "execution_count": 545,
   "id": "aa15991a",
   "metadata": {},
   "outputs": [
    {
     "name": "stdout",
     "output_type": "stream",
     "text": [
      "{'2-2.6kd', '1-1.5kd', '<1kd', '1.5-2kd'}\n"
     ]
    }
   ],
   "source": [
    "'''\n",
    "TimeAtRisk\n",
    "'''\n",
    "print(set(df['TimeAtRisk']))\n",
    "dict_TimeAtRisk = {'<1kd' : 0, '1-1.5kd' : 1, '1.5-2kd' : 2, '2-2.6kd' : 3}\n",
    "df['TimeAtRisk'] = df['TimeAtRisk'].replace(dict_TimeAtRisk)"
   ]
  },
  {
   "cell_type": "code",
   "execution_count": 546,
   "id": "6d01f972",
   "metadata": {},
   "outputs": [
    {
     "name": "stdout",
     "output_type": "stream",
     "text": [
      "{'Yes', 'No'}\n"
     ]
    }
   ],
   "source": [
    "'''\n",
    "CriminalFamilyBackground\n",
    "'''\n",
    "print(set(df['CriminalFamilyBackground']))\n",
    "dict_CriminalFamilyBackground = {'No': 0, 'Yes': 1}\n",
    "df['CriminalFamilyBackground'] = df['CriminalFamilyBackground'].replace(dict_CriminalFamilyBackground)"
   ]
  },
  {
   "cell_type": "code",
   "execution_count": 547,
   "id": "af865b5e",
   "metadata": {},
   "outputs": [
    {
     "name": "stdout",
     "output_type": "stream",
     "text": [
      "{\"A'Level+\", \"GCSE/O'Level\", 'No', 'Other'}\n"
     ]
    }
   ],
   "source": [
    "'''\n",
    "Education\n",
    "'''\n",
    "print(set(df['Education']))\n",
    "dict_Education = {\"No\" : 0, \"GCSE/O'Level\" : 1, \"A'Level+\" : 2, 'Other' : 3}\n",
    "df['Education'] = df['Education'].replace(dict_Education)"
   ]
  },
  {
   "cell_type": "code",
   "execution_count": 548,
   "id": "b1ce2dc5",
   "metadata": {},
   "outputs": [
    {
     "name": "stdout",
     "output_type": "stream",
     "text": [
      "{'Extremely Low', 'Low Average', 'High Average', 'Average', 'Borderline', 'Superior'}\n"
     ]
    }
   ],
   "source": [
    "'''\n",
    "Intelligence\n",
    "'''\n",
    "print(set(df['Intelligence']))\n",
    "dict_Intelligence = {'Extremely Low': 0, 'Borderline': 1, 'Low Average' : 2, 'Average' : 3, 'High Average' : 4, 'Superior' : 5}\n",
    "df['Intelligence'] = df['Intelligence'].replace(dict_Intelligence)"
   ]
  },
  {
   "cell_type": "code",
   "execution_count": 549,
   "id": "f0918300",
   "metadata": {},
   "outputs": [
    {
     "name": "stdout",
     "output_type": "stream",
     "text": [
      "{'Yes', 'No'}\n"
     ]
    }
   ],
   "source": [
    "'''\n",
    "EmploymentOrTraining\n",
    "'''\n",
    "print(set(df['EmploymentOrTraining']))\n",
    "dict_EmploymentOrTraining = {'No': 0, 'Yes': 1}\n",
    "df['EmploymentOrTraining'] = df['EmploymentOrTraining'].replace(dict_EmploymentOrTraining)"
   ]
  },
  {
   "cell_type": "code",
   "execution_count": 550,
   "id": "fe7c2f0e",
   "metadata": {},
   "outputs": [
    {
     "name": "stdout",
     "output_type": "stream",
     "text": [
      "{'Yes', 'No'}\n"
     ]
    }
   ],
   "source": [
    "'''\n",
    "FinancialDifficulties\n",
    "'''\n",
    "print(set(df['FinancialDifficulties']))\n",
    "dict_FinancialDifficulties = {'No': 0, 'Yes': 1}\n",
    "df['FinancialDifficulties'] = df['FinancialDifficulties'].replace(dict_FinancialDifficulties)"
   ]
  },
  {
   "cell_type": "code",
   "execution_count": 551,
   "id": "1cef7cf7",
   "metadata": {},
   "outputs": [
    {
     "name": "stdout",
     "output_type": "stream",
     "text": [
      "{'Low', 'High'}\n"
     ]
    }
   ],
   "source": [
    "'''\n",
    "DomesticStability\n",
    "'''\n",
    "print(set(df['DomesticStability']))\n",
    "dict_DomesticStability = {'Low': 0, 'High': 1}\n",
    "df['DomesticStability'] = df['DomesticStability'].replace(dict_DomesticStability)"
   ]
  },
  {
   "cell_type": "code",
   "execution_count": 552,
   "id": "03dafff8",
   "metadata": {},
   "outputs": [
    {
     "name": "stdout",
     "output_type": "stream",
     "text": [
      "{'Yes', 'No'}\n"
     ]
    }
   ],
   "source": [
    "'''\n",
    "GangMember\n",
    "'''\n",
    "print(set(df['GangMember']))\n",
    "dict_GangMember = {'No': 0, 'Yes': 1}\n",
    "df['GangMember'] = df['GangMember'].replace(dict_GangMember)"
   ]
  },
  {
   "cell_type": "code",
   "execution_count": 553,
   "id": "33eee9fd",
   "metadata": {},
   "outputs": [
    {
     "name": "stdout",
     "output_type": "stream",
     "text": [
      "{'Yes', 'Partly', 'No'}\n"
     ]
    }
   ],
   "source": [
    "'''\n",
    "ComplianceWithSupervision\n",
    "'''\n",
    "print(set(df['ComplianceWithSupervision']))\n",
    "dict_ComplianceWithSupervision = {'No': 0, 'Partly' : 1, 'Yes': 2}\n",
    "df['ComplianceWithSupervision'] = df['ComplianceWithSupervision'].replace(dict_ComplianceWithSupervision)"
   ]
  },
  {
   "cell_type": "code",
   "execution_count": 554,
   "id": "9119d8a6",
   "metadata": {},
   "outputs": [
    {
     "name": "stdout",
     "output_type": "stream",
     "text": [
      "{'Yes', 'Partly', 'No'}\n"
     ]
    }
   ],
   "source": [
    "'''\n",
    "NegativeAttitude\n",
    "'''\n",
    "print(set(df['NegativeAttitude']))\n",
    "dict_NegativeAttitude = {'No': 0, 'Partly' : 1, 'Yes': 2}\n",
    "df['NegativeAttitude'] = df['NegativeAttitude'].replace(dict_NegativeAttitude)"
   ]
  },
  {
   "cell_type": "code",
   "execution_count": 555,
   "id": "9dd7989b",
   "metadata": {},
   "outputs": [
    {
     "name": "stdout",
     "output_type": "stream",
     "text": [
      "{'Yes', 'No'}\n"
     ]
    }
   ],
   "source": [
    "'''\n",
    "CriminalAttitude\n",
    "'''\n",
    "print(set(df['CriminalAttitude']))\n",
    "dict_CriminalAttitude = {'No': 0, 'Yes': 1}\n",
    "df['CriminalAttitude'] = df['CriminalAttitude'].replace(dict_CriminalAttitude)"
   ]
  },
  {
   "cell_type": "code",
   "execution_count": 556,
   "id": "df4bdad1",
   "metadata": {},
   "outputs": [
    {
     "name": "stdout",
     "output_type": "stream",
     "text": [
      "{'Partial', 'Yes', 'No'}\n"
     ]
    }
   ],
   "source": [
    "'''\n",
    "SymptomsOfMentalIllness\n",
    "'''\n",
    "print(set(df['SymptomsOfMentalIllness']))\n",
    "dict_SymptomsOfMentalIllness = {'No': 0, 'Partial' : 1, 'Yes': 2}\n",
    "df['SymptomsOfMentalIllness'] = df['SymptomsOfMentalIllness'].replace(dict_SymptomsOfMentalIllness)"
   ]
  },
  {
   "cell_type": "code",
   "execution_count": 557,
   "id": "13f1b4bf",
   "metadata": {},
   "outputs": [
    {
     "name": "stdout",
     "output_type": "stream",
     "text": [
      "{'6to8', '13-16', '<5', '9to12'}\n"
     ]
    }
   ],
   "source": [
    "'''\n",
    "PCLRfactor1\n",
    "'''\n",
    "print(set(df['PCLRfactor1']))\n",
    "dict_PCLRfactor1 = {\"<5\" : 0, \"6to8\" : 1, \"9to12\" : 2, '13-16' : 3}\n",
    "df['PCLRfactor1'] = df['PCLRfactor1'].replace(dict_PCLRfactor1)"
   ]
  },
  {
   "cell_type": "code",
   "execution_count": 558,
   "id": "f683dba1",
   "metadata": {},
   "outputs": [
    {
     "name": "stdout",
     "output_type": "stream",
     "text": [
      "{'Yes', 'No'}\n"
     ]
    }
   ],
   "source": [
    "'''\n",
    "RefuseFailToAttendTherapy\n",
    "'''\n",
    "print(set(df['RefuseFailToAttendTherapy']))\n",
    "dict_RefuseFailToAttendTherapy = {'No': 0, 'Yes': 1}\n",
    "df['RefuseFailToAttendTherapy'] = df['RefuseFailToAttendTherapy'].replace(dict_RefuseFailToAttendTherapy)\n"
   ]
  },
  {
   "cell_type": "code",
   "execution_count": 559,
   "id": "8f05ba29",
   "metadata": {},
   "outputs": [
    {
     "name": "stdout",
     "output_type": "stream",
     "text": [
      "{'Yes', 'No'}\n"
     ]
    }
   ],
   "source": [
    "'''\n",
    "HazardousDrinkingAfterRelease\n",
    "'''\n",
    "print(set(df['HazardousDrinkingAfterRelease']))\n",
    "dict_HazardousDrinkingAfterRelease = {'No': 0, 'Yes': 1}\n",
    "df['HazardousDrinkingAfterRelease'] = df['HazardousDrinkingAfterRelease'].replace(dict_HazardousDrinkingAfterRelease)\n"
   ]
  },
  {
   "cell_type": "code",
   "execution_count": 560,
   "id": "936de8d0",
   "metadata": {},
   "outputs": [
    {
     "name": "stdout",
     "output_type": "stream",
     "text": [
      "{'Yes', 'No'}\n"
     ]
    }
   ],
   "source": [
    "'''\n",
    "CannabisBeforePrisonSentence\n",
    "'''\n",
    "print(set(df['CannabisBeforePrisonSentence']))\n",
    "dict_CannabisBeforePrisonSentence = {'No': 0, 'Yes': 1}\n",
    "df['CannabisBeforePrisonSentence'] = df['CannabisBeforePrisonSentence'].replace(dict_CannabisBeforePrisonSentence)\n",
    "\n"
   ]
  },
  {
   "cell_type": "code",
   "execution_count": 561,
   "id": "e6348add",
   "metadata": {},
   "outputs": [
    {
     "name": "stdout",
     "output_type": "stream",
     "text": [
      "{'Yes', 'No'}\n"
     ]
    }
   ],
   "source": [
    "'''\n",
    "CocaineBeforePrisonSentence\n",
    "'''\n",
    "print(set(df['CocaineBeforePrisonSentence']))\n",
    "dict_CocaineBeforePrisonSentence = {'No': 0, 'Yes': 1}\n",
    "df['CocaineBeforePrisonSentence'] = df['CocaineBeforePrisonSentence'].replace(dict_CocaineBeforePrisonSentence)\n",
    "\n"
   ]
  },
  {
   "cell_type": "code",
   "execution_count": 562,
   "id": "f00bc6fa",
   "metadata": {},
   "outputs": [
    {
     "name": "stdout",
     "output_type": "stream",
     "text": [
      "{'Yes', 'No'}\n"
     ]
    }
   ],
   "source": [
    "'''\n",
    "EcstasyBeforePrisonSentence\n",
    "'''\n",
    "print(set(df['EcstasyBeforePrisonSentence']))\n",
    "dict_EcstasyBeforePrisonSentence = {'No': 0, 'Yes': 1}\n",
    "df['EcstasyBeforePrisonSentence'] = df['EcstasyBeforePrisonSentence'].replace(dict_EcstasyBeforePrisonSentence)\n"
   ]
  },
  {
   "cell_type": "code",
   "execution_count": 563,
   "id": "46dc43a3",
   "metadata": {},
   "outputs": [
    {
     "name": "stdout",
     "output_type": "stream",
     "text": [
      "{'Yes', 'No'}\n"
     ]
    }
   ],
   "source": [
    "'''\n",
    "EcstasyDuringPrisonSentence\n",
    "'''\n",
    "print(set(df['EcstasyDuringPrisonSentence']))\n",
    "dict_EcstasyDuringPrisonSentence = {'No': 0, 'Yes': 1}\n",
    "df['EcstasyDuringPrisonSentence'] = df['EcstasyDuringPrisonSentence'].replace(dict_EcstasyDuringPrisonSentence)\n"
   ]
  },
  {
   "cell_type": "code",
   "execution_count": 564,
   "id": "74c436a1",
   "metadata": {},
   "outputs": [
    {
     "name": "stdout",
     "output_type": "stream",
     "text": [
      "{'Yes', 'No'}\n"
     ]
    }
   ],
   "source": [
    "'''\n",
    "CannabisDuringPrisonSentence\n",
    "'''\n",
    "print(set(df['CannabisDuringPrisonSentence']))\n",
    "dict_CannabisDuringPrisonSentence = {'No': 0, 'Yes': 1}\n",
    "df['CannabisDuringPrisonSentence'] = df['CannabisDuringPrisonSentence'].replace(dict_CannabisDuringPrisonSentence)\n"
   ]
  },
  {
   "cell_type": "code",
   "execution_count": 565,
   "id": "c95767a3",
   "metadata": {},
   "outputs": [
    {
     "name": "stdout",
     "output_type": "stream",
     "text": [
      "{'Yes', 'No'}\n"
     ]
    }
   ],
   "source": [
    "'''\n",
    "CocaineDuringPrisonSentence\n",
    "'''\n",
    "print(set(df['CocaineDuringPrisonSentence']))\n",
    "dict_CocaineDuringPrisonSentence = {'No': 0, 'Yes': 1}\n",
    "df['CocaineDuringPrisonSentence'] = df['CocaineDuringPrisonSentence'].replace(dict_CocaineDuringPrisonSentence)\n"
   ]
  },
  {
   "cell_type": "code",
   "execution_count": 566,
   "id": "720f1ba6",
   "metadata": {},
   "outputs": [
    {
     "name": "stdout",
     "output_type": "stream",
     "text": [
      "{'Yes', 'No'}\n"
     ]
    }
   ],
   "source": [
    "'''\n",
    "CannabisAfterRelease\n",
    "'''\n",
    "print(set(df['CannabisAfterRelease']))\n",
    "dict_CannabisAfterRelease = {'No': 0, 'Yes': 1}\n",
    "df['CannabisAfterRelease'] = df['CannabisAfterRelease'].replace(dict_CannabisAfterRelease)\n"
   ]
  },
  {
   "cell_type": "code",
   "execution_count": 567,
   "id": "ccb4a9d2",
   "metadata": {},
   "outputs": [
    {
     "name": "stdout",
     "output_type": "stream",
     "text": [
      "{'Yes', 'No'}\n"
     ]
    }
   ],
   "source": [
    "'''\n",
    "CocaineAfterRelease\n",
    "'''\n",
    "print(set(df['CocaineAfterRelease']))\n",
    "dict_CocaineAfterRelease = {'No': 0, 'Yes': 1}\n",
    "df['CocaineAfterRelease'] = df['CocaineAfterRelease'].replace(dict_CocaineAfterRelease)\n"
   ]
  },
  {
   "cell_type": "code",
   "execution_count": 568,
   "id": "5bc9bb3b",
   "metadata": {},
   "outputs": [
    {
     "name": "stdout",
     "output_type": "stream",
     "text": [
      "{'Yes', 'No'}\n"
     ]
    }
   ],
   "source": [
    "'''\n",
    "EcstasyAfterRelease\n",
    "'''\n",
    "print(set(df['EcstasyAfterRelease']))\n",
    "dict_EcstasyAfterRelease = {'No': 0, 'Yes': 1}\n",
    "df['EcstasyAfterRelease'] = df['EcstasyAfterRelease'].replace(dict_EcstasyAfterRelease)"
   ]
  },
  {
   "cell_type": "code",
   "execution_count": 569,
   "id": "ecb59d65",
   "metadata": {},
   "outputs": [
    {
     "name": "stdout",
     "output_type": "stream",
     "text": [
      "{'Yes', 'No'}\n"
     ]
    }
   ],
   "source": [
    "'''\n",
    "EcstasyDependence\n",
    "'''\n",
    "print(set(df['EcstasyDependence']))\n",
    "dict_EcstasyDependence = {'No': 0, 'Yes': 1}\n",
    "df['EcstasyDependence'] = df['EcstasyDependence'].replace(dict_EcstasyDependence)"
   ]
  },
  {
   "cell_type": "code",
   "execution_count": 570,
   "id": "ee62cb0a",
   "metadata": {},
   "outputs": [
    {
     "name": "stdout",
     "output_type": "stream",
     "text": [
      "{'Yes', 'No'}\n"
     ]
    }
   ],
   "source": [
    "'''\n",
    "AnyDrugDependence\n",
    "'''\n",
    "print(set(df['AnyDrugDependence']))\n",
    "dict_AnyDrugDependence = {'No': 0, 'Yes': 1}\n",
    "df['AnyDrugDependence'] = df['AnyDrugDependence'].replace(dict_AnyDrugDependence)"
   ]
  },
  {
   "cell_type": "code",
   "execution_count": 571,
   "id": "a5c8b176",
   "metadata": {},
   "outputs": [
    {
     "name": "stdout",
     "output_type": "stream",
     "text": [
      "{'Yes', 'No'}\n"
     ]
    }
   ],
   "source": [
    "'''\n",
    "CannabisDependence\n",
    "'''\n",
    "print(set(df['CannabisDependence']))\n",
    "dict_CannabisDependence = {'No': 0, 'Yes': 1}\n",
    "df['CannabisDependence'] = df['CannabisDependence'].replace(dict_CannabisDependence)"
   ]
  },
  {
   "cell_type": "code",
   "execution_count": 572,
   "id": "99254ffa",
   "metadata": {},
   "outputs": [
    {
     "name": "stdout",
     "output_type": "stream",
     "text": [
      "{'Yes', 'No'}\n"
     ]
    }
   ],
   "source": [
    "'''\n",
    "CocaineDependence\n",
    "'''\n",
    "print(set(df['CocaineDependence']))\n",
    "dict_CocaineDependence = {'No': 0, 'Yes': 1}\n",
    "df['CocaineDependence'] = df['CocaineDependence'].replace(dict_CocaineDependence)"
   ]
  },
  {
   "cell_type": "code",
   "execution_count": 573,
   "id": "2adb9614",
   "metadata": {},
   "outputs": [
    {
     "name": "stdout",
     "output_type": "stream",
     "text": [
      "{'Yes', 'No'}\n"
     ]
    }
   ],
   "source": [
    "'''\n",
    "AlcoholDependence\n",
    "'''\n",
    "print(set(df['AlcoholDependence']))\n",
    "dict_AlcoholDependence = {'No': 0, 'Yes': 1}\n",
    "df['AlcoholDependence'] = df['AlcoholDependence'].replace(dict_AlcoholDependence)"
   ]
  },
  {
   "cell_type": "code",
   "execution_count": 574,
   "id": "93a8be1e",
   "metadata": {},
   "outputs": [
    {
     "name": "stdout",
     "output_type": "stream",
     "text": [
      "{'Yes', 'No'}\n"
     ]
    }
   ],
   "source": [
    "'''\n",
    "DrugTreatment\n",
    "'''\n",
    "print(set(df['DrugTreatment']))\n",
    "dict_DrugTreatment = {'No': 0, 'Yes': 1}\n",
    "df['DrugTreatment'] = df['DrugTreatment'].replace(dict_DrugTreatment)"
   ]
  },
  {
   "cell_type": "code",
   "execution_count": 575,
   "id": "dc01ca39",
   "metadata": {},
   "outputs": [
    {
     "name": "stdout",
     "output_type": "stream",
     "text": [
      "{'Yes', 'No'}\n"
     ]
    }
   ],
   "source": [
    "'''\n",
    "AlcoholTreatment\n",
    "'''\n",
    "print(set(df['AlcoholTreatment']))\n",
    "dict_AlcoholTreatment = {'No': 0, 'Yes': 1}\n",
    "df['AlcoholTreatment'] = df['AlcoholTreatment'].replace(dict_AlcoholTreatment)"
   ]
  },
  {
   "cell_type": "code",
   "execution_count": 576,
   "id": "c35a4494",
   "metadata": {},
   "outputs": [
    {
     "name": "stdout",
     "output_type": "stream",
     "text": [
      "{'Yes', 'No'}\n"
     ]
    }
   ],
   "source": [
    "'''\n",
    "AlcoholTreatmentGivenRFAT\n",
    "'''\n",
    "print(set(df['AlcoholTreatmentGivenRFAT']))\n",
    "dict_AlcoholTreatmentGivenRFAT = {'No': 0, 'Yes': 1}\n",
    "df['AlcoholTreatmentGivenRFAT'] = df['AlcoholTreatmentGivenRFAT'].replace(dict_AlcoholTreatmentGivenRFAT)"
   ]
  },
  {
   "cell_type": "code",
   "execution_count": 577,
   "id": "6dd61519",
   "metadata": {},
   "outputs": [
    {
     "name": "stdout",
     "output_type": "stream",
     "text": [
      "{'Yes', 'No'}\n"
     ]
    }
   ],
   "source": [
    "'''\n",
    "DrugTreatmentGivenRFAT\n",
    "'''\n",
    "print(set(df['DrugTreatmentGivenRFAT']))\n",
    "dict_DrugTreatmentGivenRFAT = {'No': 0, 'Yes': 1}\n",
    "df['DrugTreatmentGivenRFAT'] = df['DrugTreatmentGivenRFAT'].replace(dict_DrugTreatmentGivenRFAT)"
   ]
  },
  {
   "cell_type": "code",
   "execution_count": 578,
   "id": "8d6a55b3",
   "metadata": {},
   "outputs": [
    {
     "name": "stdout",
     "output_type": "stream",
     "text": [
      "{'Yes', 'No'}\n"
     ]
    }
   ],
   "source": [
    "'''\n",
    "EcstasyPT\n",
    "'''\n",
    "print(set(df['EcstasyPT']))\n",
    "dict_EcstasyPT = {'No': 0, 'Yes': 1}\n",
    "df['EcstasyPT'] = df['EcstasyPT'].replace(dict_EcstasyPT)"
   ]
  },
  {
   "cell_type": "code",
   "execution_count": 579,
   "id": "f6140b88",
   "metadata": {},
   "outputs": [
    {
     "name": "stdout",
     "output_type": "stream",
     "text": [
      "{'Yes', 'No'}\n"
     ]
    }
   ],
   "source": [
    "'''\n",
    "CannabisPT\n",
    "'''\n",
    "print(set(df['CannabisPT']))\n",
    "dict_CannabisPT = {'No': 0, 'Yes': 1}\n",
    "df['CannabisPT'] = df['CannabisPT'].replace(dict_CannabisPT)"
   ]
  },
  {
   "cell_type": "code",
   "execution_count": 580,
   "id": "1c59ade6",
   "metadata": {},
   "outputs": [
    {
     "name": "stdout",
     "output_type": "stream",
     "text": [
      "{'Yes', 'No'}\n"
     ]
    }
   ],
   "source": [
    "'''\n",
    "CocainePT\n",
    "'''\n",
    "print(set(df['CocainePT']))\n",
    "dict_CocainePT = {'No': 0, 'Yes': 1}\n",
    "df['CocainePT'] = df['CocainePT'].replace(dict_CocainePT)"
   ]
  },
  {
   "cell_type": "code",
   "execution_count": 581,
   "id": "048673b1",
   "metadata": {},
   "outputs": [
    {
     "name": "stdout",
     "output_type": "stream",
     "text": [
      "{'None', 'Drugs', 'DrugsANDalcohol', 'Alcohol'}\n"
     ]
    }
   ],
   "source": [
    "'''\n",
    "SubstanceUse\n",
    "'''\n",
    "print(set(df['SubstanceUse']))\n",
    "dict_SubstanceUse = {'None': 0, 'Drugs': 1, 'Alcohol' : 2, 'DrugsANDalcohol' : 3}\n",
    "df['SubstanceUse'] = df['SubstanceUse'].replace(dict_SubstanceUse)"
   ]
  },
  {
   "cell_type": "code",
   "execution_count": 582,
   "id": "1ef2bacf",
   "metadata": {},
   "outputs": [
    {
     "name": "stdout",
     "output_type": "stream",
     "text": [
      "{'Low', 'High'}\n"
     ]
    }
   ],
   "source": [
    "'''\n",
    "SubstanceMisuseDL\n",
    "'''\n",
    "print(set(df['SubstanceMisuseDL']))\n",
    "dict_SubstanceMisuseDL = {'Low' : 0, 'High' : 1}\n",
    "df['SubstanceMisuseDL'] = df['SubstanceMisuseDL'].replace(dict_SubstanceMisuseDL)"
   ]
  },
  {
   "cell_type": "code",
   "execution_count": 583,
   "id": "a73b8f7a",
   "metadata": {},
   "outputs": [
    {
     "name": "stdout",
     "output_type": "stream",
     "text": [
      "{0, 1}\n"
     ]
    }
   ],
   "source": [
    "'''\n",
    "Violence - already done\n",
    "'''\n",
    "print(set(df['Violence']))\n"
   ]
  },
  {
   "cell_type": "code",
   "execution_count": 584,
   "id": "1fd5c6d5",
   "metadata": {},
   "outputs": [
    {
     "data": {
      "text/plain": [
       "'\\nViolentConvictions - already done\\n'"
      ]
     },
     "execution_count": 584,
     "metadata": {},
     "output_type": "execute_result"
    }
   ],
   "source": [
    "'''\n",
    "ViolentConvictions - already done\n",
    "'''"
   ]
  },
  {
   "cell_type": "code",
   "execution_count": 585,
   "id": "810cc690",
   "metadata": {},
   "outputs": [
    {
     "name": "stdout",
     "output_type": "stream",
     "text": [
      "{'Yes', 'Partly', 'No'}\n"
     ]
    }
   ],
   "source": [
    "'''\n",
    "ResponsivenessToTreatment\n",
    "'''\n",
    "print(set(df['ResponsivenessToTreatment']))\n",
    "dict_ResponsivenessToTreatment = {'No' : 0, 'Partly' : 1 , 'Yes' : 2}\n",
    "df['ResponsivenessToTreatment'] = df['ResponsivenessToTreatment'].replace(dict_ResponsivenessToTreatment)"
   ]
  },
  {
   "cell_type": "code",
   "execution_count": 586,
   "id": "d6be0294",
   "metadata": {},
   "outputs": [
    {
     "name": "stdout",
     "output_type": "stream",
     "text": [
      "{'Non-responsive', 'Responsive', 'Partial-responsive'}\n"
     ]
    }
   ],
   "source": [
    "'''\n",
    "ResponseToTreatGivenAlcDep\n",
    "'''\n",
    "print(set(df['ResponseToTreatGivenAlcDep']))\n",
    "dict_ResponseToTreatGivenAlcDep = {'Non-responsive' : 0, 'Partial-responsive' : 1 , 'Responsive' : 2}\n",
    "df['ResponseToTreatGivenAlcDep'] = df['ResponseToTreatGivenAlcDep'].replace(dict_ResponseToTreatGivenAlcDep)"
   ]
  },
  {
   "cell_type": "code",
   "execution_count": 587,
   "id": "a5211145",
   "metadata": {},
   "outputs": [
    {
     "name": "stdout",
     "output_type": "stream",
     "text": [
      "{'Non-responsive', 'Responsive', 'Partial-responsive'}\n"
     ]
    }
   ],
   "source": [
    "'''\n",
    "ResponseToTreatGivenDrugDep\n",
    "'''\n",
    "print(set(df['ResponseToTreatGivenDrugDep']))\n",
    "dict_ResponseToTreatGivenDrugDep = {'Non-responsive' : 0, 'Partial-responsive' : 1 , 'Responsive' : 2}\n",
    "df['ResponseToTreatGivenDrugDep'] = df['ResponseToTreatGivenDrugDep'].replace(dict_ResponseToTreatGivenDrugDep)"
   ]
  },
  {
   "cell_type": "code",
   "execution_count": 588,
   "id": "242a4186",
   "metadata": {},
   "outputs": [
    {
     "name": "stdout",
     "output_type": "stream",
     "text": [
      "{'Yes', 'No'}\n"
     ]
    }
   ],
   "source": [
    "'''\n",
    "Anger\n",
    "'''\n",
    "print(set(df['Anger']))\n",
    "dict_Anger = {'No': 0, 'Yes': 1}\n",
    "df['Anger'] = df['Anger'].replace(dict_Anger)"
   ]
  },
  {
   "cell_type": "code",
   "execution_count": 589,
   "id": "3a7012d7",
   "metadata": {},
   "outputs": [
    {
     "name": "stdout",
     "output_type": "stream",
     "text": [
      "{'Yes', 'No'}\n"
     ]
    }
   ],
   "source": [
    "'''\n",
    "AngerPT\n",
    "'''\n",
    "print(set(df['AngerPT']))\n",
    "dict_AngerPT = {'No': 0, 'Yes': 1}\n",
    "df['AngerPT'] = df['AngerPT'].replace(dict_AngerPT)"
   ]
  },
  {
   "cell_type": "code",
   "execution_count": 590,
   "id": "d5f094b8",
   "metadata": {},
   "outputs": [
    {
     "name": "stdout",
     "output_type": "stream",
     "text": [
      "{'Yes', 'No'}\n"
     ]
    }
   ],
   "source": [
    "'''\n",
    "AngerManagementGivenRFAT\n",
    "'''\n",
    "print(set(df['AngerManagementGivenRFAT']))\n",
    "dict_AngerManagementGivenRFAT = {'No': 0, 'Yes': 1}\n",
    "df['AngerManagementGivenRFAT'] = df['AngerManagementGivenRFAT'].replace(dict_AngerManagementGivenRFAT)"
   ]
  },
  {
   "cell_type": "code",
   "execution_count": 591,
   "id": "da6eda86",
   "metadata": {},
   "outputs": [
    {
     "name": "stdout",
     "output_type": "stream",
     "text": [
      "{'Yes', 'No'}\n"
     ]
    }
   ],
   "source": [
    "'''\n",
    "HazardousDrinkingPT\n",
    "'''\n",
    "print(set(df['HazardousDrinkingPT']))\n",
    "dict_HazardousDrinkingPT = {'No': 0, 'Yes': 1}\n",
    "df['HazardousDrinkingPT'] = df['HazardousDrinkingPT'].replace(dict_HazardousDrinkingPT)"
   ]
  },
  {
   "cell_type": "code",
   "execution_count": 592,
   "id": "dc57e812",
   "metadata": {},
   "outputs": [
    {
     "name": "stdout",
     "output_type": "stream",
     "text": [
      "{'Yes', 'No'}\n"
     ]
    }
   ],
   "source": [
    "'''\n",
    "AngerManagement\n",
    "'''\n",
    "print(set(df['AngerManagement']))\n",
    "dict_AngerManagement = {'No': 0, 'Yes': 1}\n",
    "df['AngerManagement'] = df['AngerManagement'].replace(dict_AngerManagement)"
   ]
  },
  {
   "cell_type": "code",
   "execution_count": 593,
   "id": "94a90306",
   "metadata": {},
   "outputs": [
    {
     "name": "stdout",
     "output_type": "stream",
     "text": [
      "{'Low', 'High'}\n"
     ]
    }
   ],
   "source": [
    "'''\n",
    "AttitudeDL\n",
    "'''\n",
    "print(set(df['AttitudeDL']))\n",
    "dict_AttitudeDL = {'Low': 0, 'High': 1}\n",
    "df['AttitudeDL'] = df['AttitudeDL'].replace(dict_AttitudeDL)"
   ]
  },
  {
   "cell_type": "code",
   "execution_count": 594,
   "id": "d0f16933",
   "metadata": {},
   "outputs": [
    {
     "name": "stdout",
     "output_type": "stream",
     "text": [
      "{'Low', 'High'}\n"
     ]
    }
   ],
   "source": [
    "'''\n",
    "AggressionDL\n",
    "'''\n",
    "print(set(df['AggressionDL']))\n",
    "dict_AggressionDL = {'Low': 0, 'High': 1}\n",
    "df['AggressionDL'] = df['AggressionDL'].replace(dict_AggressionDL)"
   ]
  },
  {
   "cell_type": "code",
   "execution_count": 595,
   "id": "0f2c6bcf",
   "metadata": {},
   "outputs": [
    {
     "name": "stdout",
     "output_type": "stream",
     "text": [
      "{'Bail Hostel/Shelter', 'Living with partner', 'Homeless', 'Other', 'Living alone', 'Living with family/friends'}\n"
     ]
    }
   ],
   "source": [
    "'''\n",
    "LivingCircumstances\n",
    "'''\n",
    "print(set(df['LivingCircumstances']))\n",
    "dict_LivingCircumstances = {'Living with family/friends': 0, 'Living with partner': 1, 'Living alone': 2, 'Bail Hostel/Shelter': 3, 'Homeless' : 4, 'Other' : 5}\n",
    "df['LivingCircumstances'] = df['LivingCircumstances'].replace(dict_LivingCircumstances)"
   ]
  },
  {
   "cell_type": "code",
   "execution_count": 596,
   "id": "ecdf2389",
   "metadata": {},
   "outputs": [
    {
     "name": "stdout",
     "output_type": "stream",
     "text": [
      "{'None', 'BH', 'SW', 'Both'}\n"
     ]
    }
   ],
   "source": [
    "'''\n",
    "SocialProtectiveObs\n",
    "'''\n",
    "print(set(df['SocialProtectiveObs']))\n",
    "dict_SocialProtectiveObs = {'None': 0, 'BH': 1, 'SW': 2, 'Both': 3}\n",
    "df['SocialProtectiveObs'] = df['SocialProtectiveObs'].replace(dict_SocialProtectiveObs)"
   ]
  },
  {
   "cell_type": "code",
   "execution_count": 597,
   "id": "cdf5d891",
   "metadata": {},
   "outputs": [
    {
     "name": "stdout",
     "output_type": "stream",
     "text": [
      "{'Yes', 'No'}\n"
     ]
    }
   ],
   "source": [
    "'''\n",
    "SocialWithdraw\n",
    "'''\n",
    "print(set(df['SocialWithdraw']))\n",
    "dict_SocialWithdraw = {'No': 0, 'Yes': 1}\n",
    "df['SocialWithdraw'] = df['SocialWithdraw'].replace(dict_SocialWithdraw)"
   ]
  },
  {
   "cell_type": "code",
   "execution_count": 598,
   "id": "55c0e895",
   "metadata": {},
   "outputs": [
    {
     "name": "stdout",
     "output_type": "stream",
     "text": [
      "{'VeryHigh', 'Low', 'High', 'VeryLow'}\n"
     ]
    }
   ],
   "source": [
    "'''\n",
    "ViolentConvictionsRate\n",
    "'''\n",
    "print(set(df['ViolentConvictionsRate']))\n",
    "dict_ViolentConvictionsRate = {'VeryLow': 0, 'Low': 1, 'VeryHigh': 2, 'High': 3}\n",
    "df['ViolentConvictionsRate'] = df['ViolentConvictionsRate'].replace(dict_ViolentConvictionsRate)"
   ]
  },
  {
   "cell_type": "code",
   "execution_count": 599,
   "id": "37e5f931",
   "metadata": {},
   "outputs": [
    {
     "name": "stdout",
     "output_type": "stream",
     "text": [
      "{'VeryHigh', 'Low', 'High', 'VeryLow'}\n"
     ]
    }
   ],
   "source": [
    "'''\n",
    "ViolentConvRateGivenProt\n",
    "'''\n",
    "print(set(df['ViolentConvRateGivenProt']))\n",
    "dict_ViolentConvRateGivenProt = {'VeryLow': 0, 'Low': 1, 'VeryHigh': 2, 'High': 3}\n",
    "df['ViolentConvRateGivenProt'] = df['ViolentConvRateGivenProt'].replace(dict_ViolentConvRateGivenProt)"
   ]
  },
  {
   "cell_type": "code",
   "execution_count": 600,
   "id": "4affba78",
   "metadata": {},
   "outputs": [
    {
     "name": "stdout",
     "output_type": "stream",
     "text": [
      "{'Yes', 'No'}\n"
     ]
    }
   ],
   "source": [
    "'''\n",
    "Depression\n",
    "'''\n",
    "print(set(df['Depression']))\n",
    "dict_Depression = {'No': 0, 'Yes': 1}\n",
    "df['Depression'] = df['Depression'].replace(dict_Depression)"
   ]
  },
  {
   "cell_type": "code",
   "execution_count": 601,
   "id": "a1a18350",
   "metadata": {},
   "outputs": [
    {
     "name": "stdout",
     "output_type": "stream",
     "text": [
      "{'Yes', 'No'}\n"
     ]
    }
   ],
   "source": [
    "'''\n",
    "DepressionPT\n",
    "'''\n",
    "print(set(df['DepressionPT']))\n",
    "dict_DepressionPT = {'No': 0, 'Yes': 1}\n",
    "df['DepressionPT'] = df['DepressionPT'].replace(dict_DepressionPT)"
   ]
  },
  {
   "cell_type": "code",
   "execution_count": 602,
   "id": "de6f1808",
   "metadata": {},
   "outputs": [
    {
     "name": "stdout",
     "output_type": "stream",
     "text": [
      "{'Yes', 'No'}\n"
     ]
    }
   ],
   "source": [
    "'''\n",
    "Anxiety\n",
    "'''\n",
    "print(set(df['Anxiety']))\n",
    "dict_Anxiety = {'No': 0, 'Yes': 1}\n",
    "df['Anxiety'] = df['Anxiety'].replace(dict_Anxiety)"
   ]
  },
  {
   "cell_type": "code",
   "execution_count": 603,
   "id": "e1389cc1",
   "metadata": {},
   "outputs": [
    {
     "name": "stdout",
     "output_type": "stream",
     "text": [
      "{'Yes', 'No'}\n"
     ]
    }
   ],
   "source": [
    "'''\n",
    "AnxietyPT\n",
    "'''\n",
    "print(set(df['AnxietyPT']))\n",
    "dict_AnxietyPT = {'No': 0, 'Yes': 1}\n",
    "df['AnxietyPT'] = df['AnxietyPT'].replace(dict_AnxietyPT)"
   ]
  },
  {
   "cell_type": "code",
   "execution_count": 604,
   "id": "11020b34",
   "metadata": {},
   "outputs": [
    {
     "name": "stdout",
     "output_type": "stream",
     "text": [
      "{'Yes', 'No'}\n"
     ]
    }
   ],
   "source": [
    "'''\n",
    "ThoughtInsertion\n",
    "'''\n",
    "print(set(df['ThoughtInsertion']))\n",
    "dict_ThoughtInsertion = {'No': 0, 'Yes': 1}\n",
    "df['ThoughtInsertion'] = df['ThoughtInsertion'].replace(dict_ThoughtInsertion)"
   ]
  },
  {
   "cell_type": "code",
   "execution_count": 605,
   "id": "ee30a866",
   "metadata": {},
   "outputs": [
    {
     "name": "stdout",
     "output_type": "stream",
     "text": [
      "{'Yes', 'No'}\n"
     ]
    }
   ],
   "source": [
    "'''\n",
    "ThoughtInsertionPT\n",
    "'''\n",
    "print(set(df['ThoughtInsertionPT']))\n",
    "dict_ThoughtInsertionPT = {'No': 0, 'Yes': 1}\n",
    "df['ThoughtInsertionPT'] = df['ThoughtInsertionPT'].replace(dict_ThoughtInsertionPT)"
   ]
  },
  {
   "cell_type": "code",
   "execution_count": 606,
   "id": "434097a3",
   "metadata": {},
   "outputs": [
    {
     "name": "stdout",
     "output_type": "stream",
     "text": [
      "{'Yes', 'No'}\n"
     ]
    }
   ],
   "source": [
    "'''\n",
    "Hallucinations\n",
    "'''\n",
    "print(set(df['Hallucinations']))\n",
    "dict_Hallucinations = {'No': 0, 'Yes': 1}\n",
    "df['Hallucinations'] = df['Hallucinations'].replace(dict_Hallucinations)"
   ]
  },
  {
   "cell_type": "code",
   "execution_count": 607,
   "id": "d43e8db5",
   "metadata": {},
   "outputs": [
    {
     "name": "stdout",
     "output_type": "stream",
     "text": [
      "{'Yes', 'No'}\n"
     ]
    }
   ],
   "source": [
    "'''\n",
    "HallucinationsPT\n",
    "'''\n",
    "print(set(df['HallucinationsPT']))\n",
    "dict_HallucinationsPT = {'No': 0, 'Yes': 1}\n",
    "df['HallucinationsPT'] = df['HallucinationsPT'].replace(dict_HallucinationsPT)"
   ]
  },
  {
   "cell_type": "code",
   "execution_count": 608,
   "id": "5638747e",
   "metadata": {},
   "outputs": [
    {
     "name": "stdout",
     "output_type": "stream",
     "text": [
      "{'Yes', 'No'}\n"
     ]
    }
   ],
   "source": [
    "'''\n",
    "StrangeExperiences\n",
    "'''\n",
    "print(set(df['StrangeExperiences']))\n",
    "dict_StrangeExperiences = {'No': 0, 'Yes': 1}\n",
    "df['StrangeExperiences'] = df['StrangeExperiences'].replace(dict_StrangeExperiences)"
   ]
  },
  {
   "cell_type": "code",
   "execution_count": 609,
   "id": "8dfb79c0",
   "metadata": {},
   "outputs": [
    {
     "name": "stdout",
     "output_type": "stream",
     "text": [
      "{'Yes', 'No'}\n"
     ]
    }
   ],
   "source": [
    "'''\n",
    "StrangeExperiencesPT\n",
    "'''\n",
    "print(set(df['StrangeExperiencesPT']))\n",
    "dict_StrangeExperiencesPT = {'No': 0, 'Yes': 1}\n",
    "df['StrangeExperiencesPT'] = df['StrangeExperiencesPT'].replace(dict_StrangeExperiencesPT)"
   ]
  },
  {
   "cell_type": "code",
   "execution_count": 610,
   "id": "a25a7b41",
   "metadata": {},
   "outputs": [
    {
     "name": "stdout",
     "output_type": "stream",
     "text": [
      "{'Yes', 'No'}\n"
     ]
    }
   ],
   "source": [
    "'''\n",
    "ParanoidDelusions\n",
    "'''\n",
    "print(set(df['ParanoidDelusions']))\n",
    "dict_ParanoidDelusions = {'No': 0, 'Yes': 1}\n",
    "df['ParanoidDelusions'] = df['ParanoidDelusions'].replace(dict_ParanoidDelusions)"
   ]
  },
  {
   "cell_type": "code",
   "execution_count": 611,
   "id": "94219322",
   "metadata": {},
   "outputs": [
    {
     "name": "stdout",
     "output_type": "stream",
     "text": [
      "{'Yes', 'No'}\n"
     ]
    }
   ],
   "source": [
    "'''\n",
    "ParanoidDelusionsPT\n",
    "'''\n",
    "print(set(df['ParanoidDelusionsPT']))\n",
    "dict_ParanoidDelusionsPT = {'No': 0, 'Yes': 1}\n",
    "df['ParanoidDelusionsPT'] = df['ParanoidDelusionsPT'].replace(dict_ParanoidDelusionsPT)"
   ]
  },
  {
   "cell_type": "code",
   "execution_count": 612,
   "id": "b2d96f1b",
   "metadata": {},
   "outputs": [
    {
     "name": "stdout",
     "output_type": "stream",
     "text": [
      "{'Yes', 'No'}\n"
     ]
    }
   ],
   "source": [
    "'''\n",
    "PsychiatricTreatment\n",
    "'''\n",
    "print(set(df['PsychiatricTreatment']))\n",
    "dict_PsychiatricTreatment = {'No': 0, 'Yes': 1}\n",
    "df['PsychiatricTreatment'] = df['PsychiatricTreatment'].replace(dict_PsychiatricTreatment)"
   ]
  },
  {
   "cell_type": "code",
   "execution_count": 613,
   "id": "20d10cb1",
   "metadata": {},
   "outputs": [
    {
     "name": "stdout",
     "output_type": "stream",
     "text": [
      "{'Yes', 'No'}\n"
     ]
    }
   ],
   "source": [
    "'''\n",
    "PsychiatricTreatmentGivenRFAT\n",
    "'''\n",
    "print(set(df['PsychiatricTreatmentGivenRFAT']))\n",
    "dict_PsychiatricTreatmentGivenRFAT = {'No': 0, 'Yes': 1}\n",
    "df['PsychiatricTreatmentGivenRFAT'] = df['PsychiatricTreatmentGivenRFAT'].replace(dict_PsychiatricTreatmentGivenRFAT)"
   ]
  },
  {
   "cell_type": "code",
   "execution_count": 614,
   "id": "4a643c0d",
   "metadata": {},
   "outputs": [
    {
     "name": "stdout",
     "output_type": "stream",
     "text": [
      "{'None', 'MentalNPD', 'ParanoidDelusions'}\n"
     ]
    }
   ],
   "source": [
    "'''\n",
    "MentalIllnessSymptomCount\n",
    "'''\n",
    "print(set(df['MentalIllnessSymptomCount']))\n",
    "dict_MentalIllnessSymptomCount = {'None': 0, 'MentalNPD': 1, 'ParanoidDelusions' : 2}\n",
    "df['MentalIllnessSymptomCount'] = df['MentalIllnessSymptomCount'].replace(dict_MentalIllnessSymptomCount)"
   ]
  },
  {
   "cell_type": "code",
   "execution_count": 615,
   "id": "8f7faa3b",
   "metadata": {},
   "outputs": [
    {
     "name": "stdout",
     "output_type": "stream",
     "text": [
      "{'Low', 'High'}\n"
     ]
    }
   ],
   "source": [
    "'''\n",
    "MentalIllnessDL\n",
    "'''\n",
    "print(set(df['MentalIllnessDL']))\n",
    "dict_MentalIllnessDL = {'Low': 0, 'High': 1}\n",
    "df['MentalIllnessDL'] = df['MentalIllnessDL'].replace(dict_MentalIllnessDL)"
   ]
  },
  {
   "cell_type": "code",
   "execution_count": 4,
   "id": "febed0c4",
   "metadata": {},
   "outputs": [],
   "source": [
    "import pandas as pd\n",
    "df_andes = pd.read_csv(r'C:\\Users\\User\\Documents\\GitHub\\ML_FYP\\dataset\\andes.csv')"
   ]
  },
  {
   "cell_type": "code",
   "execution_count": 8,
   "id": "6edcb3e8",
   "metadata": {},
   "outputs": [
    {
     "name": "stdout",
     "output_type": "stream",
     "text": [
      "{0, 1} 2\n",
      "{0, 1} 2\n",
      "{0, 1} 2\n",
      "{0, 1} 2\n",
      "{0, 1} 2\n",
      "{0, 1} 2\n",
      "{0, 1} 2\n",
      "{0, 1} 2\n",
      "{0, 1} 2\n",
      "{0, 1} 2\n",
      "{0, 1} 2\n",
      "{0, 1} 2\n",
      "{0, 1} 2\n",
      "{0, 1} 2\n",
      "{0, 1} 2\n",
      "{0, 1} 2\n",
      "{0, 1} 2\n",
      "{0, 1} 2\n",
      "{0, 1} 2\n",
      "{0, 1} 2\n",
      "{0, 1} 2\n",
      "{0, 1} 2\n",
      "{0, 1} 2\n",
      "{0, 1} 2\n",
      "{0, 1} 2\n",
      "{0, 1} 2\n",
      "{0, 1} 2\n",
      "{0, 1} 2\n",
      "{0, 1} 2\n",
      "{0, 1} 2\n",
      "{0, 1} 2\n",
      "{0, 1} 2\n",
      "{0, 1} 2\n",
      "{0, 1} 2\n",
      "{0, 1} 2\n",
      "{0, 1} 2\n",
      "{0, 1} 2\n",
      "{0, 1} 2\n",
      "{0, 1} 2\n",
      "{0, 1} 2\n",
      "{0, 1} 2\n",
      "{0, 1} 2\n",
      "{0, 1} 2\n",
      "{0, 1} 2\n",
      "{0, 1} 2\n",
      "{0, 1} 2\n",
      "{0, 1} 2\n",
      "{0, 1} 2\n",
      "{0, 1} 2\n",
      "{0, 1} 2\n",
      "{0, 1} 2\n",
      "{0, 1} 2\n",
      "{0, 1} 2\n",
      "{0, 1} 2\n",
      "{0, 1} 2\n",
      "{0, 1} 2\n",
      "{0, 1} 2\n",
      "{0, 1} 2\n",
      "{0, 1} 2\n",
      "{0, 1} 2\n",
      "{0, 1} 2\n",
      "{0, 1} 2\n",
      "{0, 1} 2\n",
      "{0, 1} 2\n",
      "{0, 1} 2\n",
      "{0, 1} 2\n",
      "{0, 1} 2\n",
      "{0, 1} 2\n",
      "{0, 1} 2\n",
      "{0, 1} 2\n",
      "{0, 1} 2\n",
      "{0, 1} 2\n",
      "{0, 1} 2\n",
      "{0, 1} 2\n",
      "{0, 1} 2\n",
      "{0, 1} 2\n",
      "{0, 1} 2\n",
      "{0, 1} 2\n",
      "{0, 1} 2\n",
      "{0, 1} 2\n",
      "{0, 1} 2\n",
      "{0, 1} 2\n",
      "{0, 1} 2\n",
      "{0, 1} 2\n",
      "{0, 1} 2\n",
      "{0, 1} 2\n",
      "{0, 1} 2\n",
      "{0, 1} 2\n",
      "{0, 1} 2\n",
      "{0, 1} 2\n",
      "{0, 1} 2\n",
      "{0, 1} 2\n",
      "{0, 1} 2\n",
      "{0, 1} 2\n",
      "{0, 1} 2\n",
      "{0, 1} 2\n",
      "{0, 1} 2\n",
      "{0, 1} 2\n",
      "{0, 1} 2\n",
      "{0, 1} 2\n",
      "{0, 1} 2\n",
      "{0, 1} 2\n",
      "{0, 1} 2\n",
      "{0, 1} 2\n",
      "{0, 1} 2\n",
      "{0, 1} 2\n",
      "{0, 1} 2\n",
      "{0, 1} 2\n",
      "{0, 1} 2\n",
      "{0, 1} 2\n",
      "{0, 1} 2\n",
      "{0, 1} 2\n",
      "{0, 1} 2\n",
      "{0, 1} 2\n",
      "{0, 1} 2\n",
      "{0, 1} 2\n",
      "{0, 1} 2\n",
      "{0, 1} 2\n",
      "{0, 1} 2\n",
      "{0, 1} 2\n",
      "{0, 1} 2\n",
      "{0, 1} 2\n",
      "{0, 1} 2\n",
      "{0, 1} 2\n",
      "{0, 1} 2\n",
      "{0, 1} 2\n",
      "{0, 1} 2\n",
      "{0, 1} 2\n",
      "{0, 1} 2\n",
      "{0, 1} 2\n",
      "{0, 1} 2\n",
      "{0, 1} 2\n",
      "{0, 1} 2\n",
      "{0, 1} 2\n",
      "{0, 1} 2\n",
      "{0, 1} 2\n",
      "{0, 1} 2\n",
      "{0, 1} 2\n",
      "{0, 1} 2\n",
      "{0, 1} 2\n",
      "{0, 1} 2\n",
      "{0, 1} 2\n",
      "{0, 1} 2\n",
      "{0, 1} 2\n",
      "{0, 1} 2\n",
      "{0, 1} 2\n",
      "{0, 1} 2\n",
      "{0, 1} 2\n",
      "{0, 1} 2\n",
      "{0, 1} 2\n",
      "{0, 1} 2\n",
      "{0, 1} 2\n",
      "{0, 1} 2\n",
      "{0, 1} 2\n",
      "{0, 1} 2\n",
      "{0, 1} 2\n",
      "{0, 1} 2\n",
      "{0, 1} 2\n",
      "{0, 1} 2\n",
      "{0, 1} 2\n",
      "{0, 1} 2\n",
      "{0, 1} 2\n",
      "{0, 1} 2\n",
      "{0, 1} 2\n",
      "{0, 1} 2\n",
      "{0, 1} 2\n",
      "{0, 1} 2\n",
      "{0, 1} 2\n",
      "{0, 1} 2\n",
      "{0, 1} 2\n",
      "{0, 1} 2\n",
      "{0, 1} 2\n",
      "{0, 1} 2\n",
      "{0, 1} 2\n",
      "{0, 1} 2\n",
      "{0, 1} 2\n",
      "{0, 1} 2\n",
      "{0, 1} 2\n",
      "{0, 1} 2\n",
      "{0, 1} 2\n",
      "{0, 1} 2\n",
      "{0, 1} 2\n",
      "{0, 1} 2\n",
      "{0, 1} 2\n",
      "{0, 1} 2\n",
      "{0, 1} 2\n",
      "{0, 1} 2\n",
      "{0, 1} 2\n",
      "{0, 1} 2\n",
      "{0, 1} 2\n",
      "{0, 1} 2\n",
      "{0, 1} 2\n",
      "{0, 1} 2\n",
      "{0, 1} 2\n",
      "{0, 1} 2\n",
      "{0, 1} 2\n",
      "{0, 1} 2\n",
      "{0, 1} 2\n",
      "{0, 1} 2\n",
      "{0, 1} 2\n",
      "{0, 1} 2\n",
      "{0, 1} 2\n",
      "{0, 1} 2\n",
      "{0, 1} 2\n",
      "{0, 1} 2\n",
      "{0, 1} 2\n",
      "{0, 1} 2\n",
      "{0, 1} 2\n",
      "{0, 1} 2\n",
      "{0, 1} 2\n",
      "{0, 1} 2\n",
      "{0, 1} 2\n",
      "{0, 1} 2\n",
      "{0, 1} 2\n",
      "{0, 1} 2\n",
      "{0, 1} 2\n",
      "{0, 1} 2\n",
      "{0, 1} 2\n",
      "{0, 1} 2\n",
      "{0, 1} 2\n",
      "{0, 1} 2\n",
      "{0, 1} 2\n",
      "{0, 1} 2\n"
     ]
    }
   ],
   "source": [
    "len_k = []\n",
    "for i in list(df_andes):\n",
    "    k = set(df_andes[i])\n",
    "    print(k , len(k))\n",
    "    len_k.append(len(k))"
   ]
  },
  {
   "cell_type": "code",
   "execution_count": 11,
   "id": "58d8f3db",
   "metadata": {},
   "outputs": [],
   "source": [
    "df_andes.loc[-1] = len_k"
   ]
  },
  {
   "cell_type": "code",
   "execution_count": 13,
   "id": "04da09f7",
   "metadata": {},
   "outputs": [
    {
     "data": {
      "text/html": [
       "<div>\n",
       "<style scoped>\n",
       "    .dataframe tbody tr th:only-of-type {\n",
       "        vertical-align: middle;\n",
       "    }\n",
       "\n",
       "    .dataframe tbody tr th {\n",
       "        vertical-align: top;\n",
       "    }\n",
       "\n",
       "    .dataframe thead th {\n",
       "        text-align: right;\n",
       "    }\n",
       "</style>\n",
       "<table border=\"1\" class=\"dataframe\">\n",
       "  <thead>\n",
       "    <tr style=\"text-align: right;\">\n",
       "      <th></th>\n",
       "      <th>DISPLACEM0</th>\n",
       "      <th>RApp1</th>\n",
       "      <th>SNode_3</th>\n",
       "      <th>GIVEN_1</th>\n",
       "      <th>RApp2</th>\n",
       "      <th>SNode_8</th>\n",
       "      <th>SNode_16</th>\n",
       "      <th>SNode_20</th>\n",
       "      <th>NEED1</th>\n",
       "      <th>SNode_21</th>\n",
       "      <th>...</th>\n",
       "      <th>TRY76</th>\n",
       "      <th>GOAL_150</th>\n",
       "      <th>APPLY77</th>\n",
       "      <th>SNode_151</th>\n",
       "      <th>GRAV78</th>\n",
       "      <th>GOAL_153</th>\n",
       "      <th>SNode_155</th>\n",
       "      <th>SNode_14</th>\n",
       "      <th>SNode_18</th>\n",
       "      <th>SNode_19</th>\n",
       "    </tr>\n",
       "  </thead>\n",
       "  <tbody>\n",
       "    <tr>\n",
       "      <th>0</th>\n",
       "      <td>0</td>\n",
       "      <td>0</td>\n",
       "      <td>1</td>\n",
       "      <td>1</td>\n",
       "      <td>1</td>\n",
       "      <td>1</td>\n",
       "      <td>1</td>\n",
       "      <td>0</td>\n",
       "      <td>0</td>\n",
       "      <td>0</td>\n",
       "      <td>...</td>\n",
       "      <td>0</td>\n",
       "      <td>0</td>\n",
       "      <td>0</td>\n",
       "      <td>1</td>\n",
       "      <td>0</td>\n",
       "      <td>0</td>\n",
       "      <td>0</td>\n",
       "      <td>1</td>\n",
       "      <td>1</td>\n",
       "      <td>1</td>\n",
       "    </tr>\n",
       "    <tr>\n",
       "      <th>1</th>\n",
       "      <td>1</td>\n",
       "      <td>1</td>\n",
       "      <td>1</td>\n",
       "      <td>1</td>\n",
       "      <td>1</td>\n",
       "      <td>1</td>\n",
       "      <td>1</td>\n",
       "      <td>1</td>\n",
       "      <td>1</td>\n",
       "      <td>1</td>\n",
       "      <td>...</td>\n",
       "      <td>1</td>\n",
       "      <td>1</td>\n",
       "      <td>0</td>\n",
       "      <td>0</td>\n",
       "      <td>0</td>\n",
       "      <td>1</td>\n",
       "      <td>0</td>\n",
       "      <td>1</td>\n",
       "      <td>1</td>\n",
       "      <td>1</td>\n",
       "    </tr>\n",
       "    <tr>\n",
       "      <th>2</th>\n",
       "      <td>1</td>\n",
       "      <td>1</td>\n",
       "      <td>1</td>\n",
       "      <td>1</td>\n",
       "      <td>1</td>\n",
       "      <td>1</td>\n",
       "      <td>1</td>\n",
       "      <td>1</td>\n",
       "      <td>1</td>\n",
       "      <td>0</td>\n",
       "      <td>...</td>\n",
       "      <td>0</td>\n",
       "      <td>0</td>\n",
       "      <td>0</td>\n",
       "      <td>0</td>\n",
       "      <td>0</td>\n",
       "      <td>0</td>\n",
       "      <td>0</td>\n",
       "      <td>1</td>\n",
       "      <td>1</td>\n",
       "      <td>1</td>\n",
       "    </tr>\n",
       "    <tr>\n",
       "      <th>3</th>\n",
       "      <td>1</td>\n",
       "      <td>1</td>\n",
       "      <td>1</td>\n",
       "      <td>1</td>\n",
       "      <td>1</td>\n",
       "      <td>1</td>\n",
       "      <td>1</td>\n",
       "      <td>0</td>\n",
       "      <td>0</td>\n",
       "      <td>1</td>\n",
       "      <td>...</td>\n",
       "      <td>0</td>\n",
       "      <td>0</td>\n",
       "      <td>1</td>\n",
       "      <td>0</td>\n",
       "      <td>0</td>\n",
       "      <td>0</td>\n",
       "      <td>0</td>\n",
       "      <td>1</td>\n",
       "      <td>1</td>\n",
       "      <td>1</td>\n",
       "    </tr>\n",
       "    <tr>\n",
       "      <th>4</th>\n",
       "      <td>1</td>\n",
       "      <td>1</td>\n",
       "      <td>1</td>\n",
       "      <td>1</td>\n",
       "      <td>1</td>\n",
       "      <td>1</td>\n",
       "      <td>1</td>\n",
       "      <td>1</td>\n",
       "      <td>1</td>\n",
       "      <td>0</td>\n",
       "      <td>...</td>\n",
       "      <td>0</td>\n",
       "      <td>0</td>\n",
       "      <td>1</td>\n",
       "      <td>1</td>\n",
       "      <td>0</td>\n",
       "      <td>1</td>\n",
       "      <td>0</td>\n",
       "      <td>1</td>\n",
       "      <td>1</td>\n",
       "      <td>1</td>\n",
       "    </tr>\n",
       "    <tr>\n",
       "      <th>...</th>\n",
       "      <td>...</td>\n",
       "      <td>...</td>\n",
       "      <td>...</td>\n",
       "      <td>...</td>\n",
       "      <td>...</td>\n",
       "      <td>...</td>\n",
       "      <td>...</td>\n",
       "      <td>...</td>\n",
       "      <td>...</td>\n",
       "      <td>...</td>\n",
       "      <td>...</td>\n",
       "      <td>...</td>\n",
       "      <td>...</td>\n",
       "      <td>...</td>\n",
       "      <td>...</td>\n",
       "      <td>...</td>\n",
       "      <td>...</td>\n",
       "      <td>...</td>\n",
       "      <td>...</td>\n",
       "      <td>...</td>\n",
       "      <td>...</td>\n",
       "    </tr>\n",
       "    <tr>\n",
       "      <th>9996</th>\n",
       "      <td>1</td>\n",
       "      <td>1</td>\n",
       "      <td>1</td>\n",
       "      <td>1</td>\n",
       "      <td>1</td>\n",
       "      <td>1</td>\n",
       "      <td>1</td>\n",
       "      <td>1</td>\n",
       "      <td>1</td>\n",
       "      <td>0</td>\n",
       "      <td>...</td>\n",
       "      <td>0</td>\n",
       "      <td>0</td>\n",
       "      <td>1</td>\n",
       "      <td>1</td>\n",
       "      <td>0</td>\n",
       "      <td>0</td>\n",
       "      <td>0</td>\n",
       "      <td>1</td>\n",
       "      <td>1</td>\n",
       "      <td>1</td>\n",
       "    </tr>\n",
       "    <tr>\n",
       "      <th>9997</th>\n",
       "      <td>0</td>\n",
       "      <td>0</td>\n",
       "      <td>1</td>\n",
       "      <td>1</td>\n",
       "      <td>1</td>\n",
       "      <td>1</td>\n",
       "      <td>1</td>\n",
       "      <td>0</td>\n",
       "      <td>0</td>\n",
       "      <td>0</td>\n",
       "      <td>...</td>\n",
       "      <td>1</td>\n",
       "      <td>1</td>\n",
       "      <td>1</td>\n",
       "      <td>1</td>\n",
       "      <td>1</td>\n",
       "      <td>0</td>\n",
       "      <td>0</td>\n",
       "      <td>1</td>\n",
       "      <td>1</td>\n",
       "      <td>1</td>\n",
       "    </tr>\n",
       "    <tr>\n",
       "      <th>9998</th>\n",
       "      <td>0</td>\n",
       "      <td>0</td>\n",
       "      <td>1</td>\n",
       "      <td>1</td>\n",
       "      <td>1</td>\n",
       "      <td>1</td>\n",
       "      <td>1</td>\n",
       "      <td>1</td>\n",
       "      <td>1</td>\n",
       "      <td>1</td>\n",
       "      <td>...</td>\n",
       "      <td>1</td>\n",
       "      <td>1</td>\n",
       "      <td>1</td>\n",
       "      <td>1</td>\n",
       "      <td>1</td>\n",
       "      <td>1</td>\n",
       "      <td>0</td>\n",
       "      <td>1</td>\n",
       "      <td>1</td>\n",
       "      <td>1</td>\n",
       "    </tr>\n",
       "    <tr>\n",
       "      <th>9999</th>\n",
       "      <td>0</td>\n",
       "      <td>0</td>\n",
       "      <td>1</td>\n",
       "      <td>1</td>\n",
       "      <td>1</td>\n",
       "      <td>1</td>\n",
       "      <td>1</td>\n",
       "      <td>0</td>\n",
       "      <td>0</td>\n",
       "      <td>0</td>\n",
       "      <td>...</td>\n",
       "      <td>0</td>\n",
       "      <td>0</td>\n",
       "      <td>1</td>\n",
       "      <td>0</td>\n",
       "      <td>1</td>\n",
       "      <td>0</td>\n",
       "      <td>0</td>\n",
       "      <td>1</td>\n",
       "      <td>1</td>\n",
       "      <td>1</td>\n",
       "    </tr>\n",
       "    <tr>\n",
       "      <th>-1</th>\n",
       "      <td>2</td>\n",
       "      <td>2</td>\n",
       "      <td>2</td>\n",
       "      <td>2</td>\n",
       "      <td>2</td>\n",
       "      <td>2</td>\n",
       "      <td>2</td>\n",
       "      <td>2</td>\n",
       "      <td>2</td>\n",
       "      <td>2</td>\n",
       "      <td>...</td>\n",
       "      <td>2</td>\n",
       "      <td>2</td>\n",
       "      <td>2</td>\n",
       "      <td>2</td>\n",
       "      <td>2</td>\n",
       "      <td>2</td>\n",
       "      <td>2</td>\n",
       "      <td>2</td>\n",
       "      <td>2</td>\n",
       "      <td>2</td>\n",
       "    </tr>\n",
       "  </tbody>\n",
       "</table>\n",
       "<p>10001 rows × 223 columns</p>\n",
       "</div>"
      ],
      "text/plain": [
       "       DISPLACEM0  RApp1  SNode_3  GIVEN_1  RApp2  SNode_8  SNode_16  \\\n",
       " 0              0      0        1        1      1        1         1   \n",
       " 1              1      1        1        1      1        1         1   \n",
       " 2              1      1        1        1      1        1         1   \n",
       " 3              1      1        1        1      1        1         1   \n",
       " 4              1      1        1        1      1        1         1   \n",
       "...           ...    ...      ...      ...    ...      ...       ...   \n",
       " 9996           1      1        1        1      1        1         1   \n",
       " 9997           0      0        1        1      1        1         1   \n",
       " 9998           0      0        1        1      1        1         1   \n",
       " 9999           0      0        1        1      1        1         1   \n",
       "-1              2      2        2        2      2        2         2   \n",
       "\n",
       "       SNode_20  NEED1  SNode_21  ...  TRY76  GOAL_150  APPLY77  SNode_151  \\\n",
       " 0            0      0         0  ...      0         0        0          1   \n",
       " 1            1      1         1  ...      1         1        0          0   \n",
       " 2            1      1         0  ...      0         0        0          0   \n",
       " 3            0      0         1  ...      0         0        1          0   \n",
       " 4            1      1         0  ...      0         0        1          1   \n",
       "...         ...    ...       ...  ...    ...       ...      ...        ...   \n",
       " 9996         1      1         0  ...      0         0        1          1   \n",
       " 9997         0      0         0  ...      1         1        1          1   \n",
       " 9998         1      1         1  ...      1         1        1          1   \n",
       " 9999         0      0         0  ...      0         0        1          0   \n",
       "-1            2      2         2  ...      2         2        2          2   \n",
       "\n",
       "       GRAV78  GOAL_153  SNode_155  SNode_14  SNode_18  SNode_19  \n",
       " 0          0         0          0         1         1         1  \n",
       " 1          0         1          0         1         1         1  \n",
       " 2          0         0          0         1         1         1  \n",
       " 3          0         0          0         1         1         1  \n",
       " 4          0         1          0         1         1         1  \n",
       "...       ...       ...        ...       ...       ...       ...  \n",
       " 9996       0         0          0         1         1         1  \n",
       " 9997       1         0          0         1         1         1  \n",
       " 9998       1         1          0         1         1         1  \n",
       " 9999       1         0          0         1         1         1  \n",
       "-1          2         2          2         2         2         2  \n",
       "\n",
       "[10001 rows x 223 columns]"
      ]
     },
     "execution_count": 13,
     "metadata": {},
     "output_type": "execute_result"
    }
   ],
   "source": [
    "df_andes"
   ]
  },
  {
   "cell_type": "code",
   "execution_count": 14,
   "id": "f82ba79f",
   "metadata": {},
   "outputs": [],
   "source": [
    "df_andes.index = df_andes.index + 1 \n",
    "df_andes = df_andes.sort_index()"
   ]
  },
  {
   "cell_type": "code",
   "execution_count": 17,
   "id": "d372d523",
   "metadata": {},
   "outputs": [],
   "source": [
    "pd.DataFrame()"
   ]
  },
  {
   "cell_type": "markdown",
   "id": "0b1444e0",
   "metadata": {},
   "source": [
    "### DIARRHOAE"
   ]
  },
  {
   "cell_type": "code",
   "execution_count": 75,
   "id": "af4c00b5",
   "metadata": {},
   "outputs": [],
   "source": [
    "df = pd.read_csv(r'DIARRHOEA_DATA.csv')"
   ]
  },
  {
   "cell_type": "code",
   "execution_count": 76,
   "id": "37705f53",
   "metadata": {},
   "outputs": [
    {
     "name": "stdout",
     "output_type": "stream",
     "text": [
      "{'No', 'Yes'}\n",
      "{'Less than 3 months', '3 months to 2 years', 'More than 2 years'}\n",
      "{'Within 3 hours', 'Immediately', 'More than 3 hours'}\n",
      "{'2 years', '4 years', 'Less than 1 year', '1 year', '3 years'}\n",
      "{'Underweight', 'Very underweight', 'Slightly underwight or above'}\n",
      "{'Language group 3', 'Language group 2', 'Language group 1'}\n",
      "{'Muslim', 'Other', 'Hindu'}\n",
      "{'Average or above', 'Very small', 'Small'}\n",
      "{'No', 'Yes'}\n",
      "{'Average or below', 'Richer', 'Richest'}\n",
      "{'3 or more children', '1 child', '2 children'}\n",
      "{'No', 'Yes'}\n",
      "{'Region 3', 'Region 4', 'Region 2', 'Region 1'}\n",
      "{'Agricultural etc', 'Non-agricultural'}\n",
      "{'No walls etc', 'Mud or stone etc', 'Grass/Burnt Bricks'}\n",
      "{'No', 'Yes'}\n",
      "{'No', 'Yes'}\n",
      "{'No', 'Yes'}\n",
      "{'Frequently', 'Moderate or None'}\n",
      "{'No education', 'Above primary', 'Primary'}\n",
      "{'25+', 'upto 24'}\n",
      "{'No', 'Yes'}\n",
      "{'No', 'Yes'}\n",
      "{'No', 'Somewhat', 'Yes'}\n",
      "{'No', 'Yes'}\n",
      "{'Into garbage', 'Used toilet/latrine', 'Other'}\n",
      "{'No', 'Yes'}\n",
      "{'No', 'Yes'}\n"
     ]
    }
   ],
   "source": [
    "for i in list(df):\n",
    "    print(set(df[i]))"
   ]
  },
  {
   "cell_type": "code",
   "execution_count": 77,
   "id": "6b22bf77",
   "metadata": {},
   "outputs": [],
   "source": [
    "for i in list(df):\n",
    "    if set(df[i]) == {'Yes', 'No'} or {'No', 'Yes'}:\n",
    "        df[i] = df[i].replace(dict_BF_BottleFeeding)"
   ]
  },
  {
   "cell_type": "code",
   "execution_count": 78,
   "id": "71eab3fa",
   "metadata": {},
   "outputs": [
    {
     "data": {
      "text/html": [
       "<div>\n",
       "<style scoped>\n",
       "    .dataframe tbody tr th:only-of-type {\n",
       "        vertical-align: middle;\n",
       "    }\n",
       "\n",
       "    .dataframe tbody tr th {\n",
       "        vertical-align: top;\n",
       "    }\n",
       "\n",
       "    .dataframe thead th {\n",
       "        text-align: right;\n",
       "    }\n",
       "</style>\n",
       "<table border=\"1\" class=\"dataframe\">\n",
       "  <thead>\n",
       "    <tr style=\"text-align: right;\">\n",
       "      <th></th>\n",
       "      <th>BF_BottleFeeding</th>\n",
       "      <th>BF_BreastfedMonths</th>\n",
       "      <th>BF_EarlyBreastfeeding</th>\n",
       "      <th>CHI_Age</th>\n",
       "      <th>CHI_Weight4Height</th>\n",
       "      <th>CUL_LanguageGroup</th>\n",
       "      <th>CUL_Religion</th>\n",
       "      <th>DEL_SmallBaby</th>\n",
       "      <th>DIA_HadDiarrhoea</th>\n",
       "      <th>ECO_WealthQuintile</th>\n",
       "      <th>...</th>\n",
       "      <th>KNW_WatchTV</th>\n",
       "      <th>MTH_Education</th>\n",
       "      <th>MTH_MaternalAge</th>\n",
       "      <th>SRV_Near</th>\n",
       "      <th>SRV_OKAlone</th>\n",
       "      <th>WSH_ImprovedToilet</th>\n",
       "      <th>WSH_ImprovedWaterSource</th>\n",
       "      <th>WSH_SafeStoolDisposal</th>\n",
       "      <th>WSH_WashWithAgent</th>\n",
       "      <th>WSH_WaterTreated</th>\n",
       "    </tr>\n",
       "  </thead>\n",
       "  <tbody>\n",
       "    <tr>\n",
       "      <th>0</th>\n",
       "      <td>0</td>\n",
       "      <td>Less than 3 months</td>\n",
       "      <td>Immediately</td>\n",
       "      <td>Less than 1 year</td>\n",
       "      <td>Slightly underwight or above</td>\n",
       "      <td>Language group 3</td>\n",
       "      <td>Hindu</td>\n",
       "      <td>Average or above</td>\n",
       "      <td>0</td>\n",
       "      <td>Average or below</td>\n",
       "      <td>...</td>\n",
       "      <td>Frequently</td>\n",
       "      <td>Primary</td>\n",
       "      <td>25+</td>\n",
       "      <td>1</td>\n",
       "      <td>0</td>\n",
       "      <td>1</td>\n",
       "      <td>1</td>\n",
       "      <td>Used toilet/latrine</td>\n",
       "      <td>1</td>\n",
       "      <td>0</td>\n",
       "    </tr>\n",
       "    <tr>\n",
       "      <th>1</th>\n",
       "      <td>0</td>\n",
       "      <td>3 months to 2 years</td>\n",
       "      <td>Within 3 hours</td>\n",
       "      <td>1 year</td>\n",
       "      <td>Underweight</td>\n",
       "      <td>Language group 3</td>\n",
       "      <td>Hindu</td>\n",
       "      <td>Average or above</td>\n",
       "      <td>0</td>\n",
       "      <td>Richer</td>\n",
       "      <td>...</td>\n",
       "      <td>Frequently</td>\n",
       "      <td>No education</td>\n",
       "      <td>25+</td>\n",
       "      <td>1</td>\n",
       "      <td>1</td>\n",
       "      <td>1</td>\n",
       "      <td>0</td>\n",
       "      <td>Other</td>\n",
       "      <td>1</td>\n",
       "      <td>0</td>\n",
       "    </tr>\n",
       "    <tr>\n",
       "      <th>2</th>\n",
       "      <td>0</td>\n",
       "      <td>3 months to 2 years</td>\n",
       "      <td>More than 3 hours</td>\n",
       "      <td>Less than 1 year</td>\n",
       "      <td>Underweight</td>\n",
       "      <td>Language group 1</td>\n",
       "      <td>Hindu</td>\n",
       "      <td>Average or above</td>\n",
       "      <td>1</td>\n",
       "      <td>Average or below</td>\n",
       "      <td>...</td>\n",
       "      <td>Moderate or None</td>\n",
       "      <td>Above primary</td>\n",
       "      <td>upto 24</td>\n",
       "      <td>1</td>\n",
       "      <td>1</td>\n",
       "      <td>0</td>\n",
       "      <td>0</td>\n",
       "      <td>Into garbage</td>\n",
       "      <td>0</td>\n",
       "      <td>0</td>\n",
       "    </tr>\n",
       "    <tr>\n",
       "      <th>3</th>\n",
       "      <td>0</td>\n",
       "      <td>Less than 3 months</td>\n",
       "      <td>Immediately</td>\n",
       "      <td>Less than 1 year</td>\n",
       "      <td>Slightly underwight or above</td>\n",
       "      <td>Language group 2</td>\n",
       "      <td>Hindu</td>\n",
       "      <td>Small</td>\n",
       "      <td>0</td>\n",
       "      <td>Richer</td>\n",
       "      <td>...</td>\n",
       "      <td>Moderate or None</td>\n",
       "      <td>No education</td>\n",
       "      <td>upto 24</td>\n",
       "      <td>1</td>\n",
       "      <td>1</td>\n",
       "      <td>1</td>\n",
       "      <td>1</td>\n",
       "      <td>Other</td>\n",
       "      <td>1</td>\n",
       "      <td>0</td>\n",
       "    </tr>\n",
       "    <tr>\n",
       "      <th>4</th>\n",
       "      <td>0</td>\n",
       "      <td>3 months to 2 years</td>\n",
       "      <td>Within 3 hours</td>\n",
       "      <td>1 year</td>\n",
       "      <td>Underweight</td>\n",
       "      <td>Language group 2</td>\n",
       "      <td>Hindu</td>\n",
       "      <td>Average or above</td>\n",
       "      <td>0</td>\n",
       "      <td>Richer</td>\n",
       "      <td>...</td>\n",
       "      <td>Frequently</td>\n",
       "      <td>Above primary</td>\n",
       "      <td>25+</td>\n",
       "      <td>1</td>\n",
       "      <td>1</td>\n",
       "      <td>1</td>\n",
       "      <td>1</td>\n",
       "      <td>Other</td>\n",
       "      <td>1</td>\n",
       "      <td>1</td>\n",
       "    </tr>\n",
       "    <tr>\n",
       "      <th>...</th>\n",
       "      <td>...</td>\n",
       "      <td>...</td>\n",
       "      <td>...</td>\n",
       "      <td>...</td>\n",
       "      <td>...</td>\n",
       "      <td>...</td>\n",
       "      <td>...</td>\n",
       "      <td>...</td>\n",
       "      <td>...</td>\n",
       "      <td>...</td>\n",
       "      <td>...</td>\n",
       "      <td>...</td>\n",
       "      <td>...</td>\n",
       "      <td>...</td>\n",
       "      <td>...</td>\n",
       "      <td>...</td>\n",
       "      <td>...</td>\n",
       "      <td>...</td>\n",
       "      <td>...</td>\n",
       "      <td>...</td>\n",
       "      <td>...</td>\n",
       "    </tr>\n",
       "    <tr>\n",
       "      <th>99995</th>\n",
       "      <td>0</td>\n",
       "      <td>3 months to 2 years</td>\n",
       "      <td>Within 3 hours</td>\n",
       "      <td>1 year</td>\n",
       "      <td>Very underweight</td>\n",
       "      <td>Language group 2</td>\n",
       "      <td>Other</td>\n",
       "      <td>Average or above</td>\n",
       "      <td>0</td>\n",
       "      <td>Average or below</td>\n",
       "      <td>...</td>\n",
       "      <td>Moderate or None</td>\n",
       "      <td>Primary</td>\n",
       "      <td>25+</td>\n",
       "      <td>1</td>\n",
       "      <td>1</td>\n",
       "      <td>0</td>\n",
       "      <td>0</td>\n",
       "      <td>Into garbage</td>\n",
       "      <td>0</td>\n",
       "      <td>0</td>\n",
       "    </tr>\n",
       "    <tr>\n",
       "      <th>99996</th>\n",
       "      <td>0</td>\n",
       "      <td>3 months to 2 years</td>\n",
       "      <td>Immediately</td>\n",
       "      <td>2 years</td>\n",
       "      <td>Very underweight</td>\n",
       "      <td>Language group 1</td>\n",
       "      <td>Muslim</td>\n",
       "      <td>Average or above</td>\n",
       "      <td>0</td>\n",
       "      <td>Average or below</td>\n",
       "      <td>...</td>\n",
       "      <td>Frequently</td>\n",
       "      <td>Above primary</td>\n",
       "      <td>25+</td>\n",
       "      <td>0</td>\n",
       "      <td>1</td>\n",
       "      <td>1</td>\n",
       "      <td>0</td>\n",
       "      <td>Other</td>\n",
       "      <td>1</td>\n",
       "      <td>1</td>\n",
       "    </tr>\n",
       "    <tr>\n",
       "      <th>99997</th>\n",
       "      <td>0</td>\n",
       "      <td>3 months to 2 years</td>\n",
       "      <td>More than 3 hours</td>\n",
       "      <td>3 years</td>\n",
       "      <td>Slightly underwight or above</td>\n",
       "      <td>Language group 3</td>\n",
       "      <td>Hindu</td>\n",
       "      <td>Average or above</td>\n",
       "      <td>0</td>\n",
       "      <td>Richest</td>\n",
       "      <td>...</td>\n",
       "      <td>Frequently</td>\n",
       "      <td>Above primary</td>\n",
       "      <td>25+</td>\n",
       "      <td>1</td>\n",
       "      <td>1</td>\n",
       "      <td>1</td>\n",
       "      <td>0</td>\n",
       "      <td>Other</td>\n",
       "      <td>1</td>\n",
       "      <td>0</td>\n",
       "    </tr>\n",
       "    <tr>\n",
       "      <th>99998</th>\n",
       "      <td>0</td>\n",
       "      <td>3 months to 2 years</td>\n",
       "      <td>Within 3 hours</td>\n",
       "      <td>1 year</td>\n",
       "      <td>Very underweight</td>\n",
       "      <td>Language group 3</td>\n",
       "      <td>Other</td>\n",
       "      <td>Average or above</td>\n",
       "      <td>0</td>\n",
       "      <td>Richer</td>\n",
       "      <td>...</td>\n",
       "      <td>Moderate or None</td>\n",
       "      <td>Above primary</td>\n",
       "      <td>upto 24</td>\n",
       "      <td>1</td>\n",
       "      <td>1</td>\n",
       "      <td>1</td>\n",
       "      <td>1</td>\n",
       "      <td>Used toilet/latrine</td>\n",
       "      <td>1</td>\n",
       "      <td>0</td>\n",
       "    </tr>\n",
       "    <tr>\n",
       "      <th>99999</th>\n",
       "      <td>0</td>\n",
       "      <td>3 months to 2 years</td>\n",
       "      <td>More than 3 hours</td>\n",
       "      <td>1 year</td>\n",
       "      <td>Underweight</td>\n",
       "      <td>Language group 3</td>\n",
       "      <td>Hindu</td>\n",
       "      <td>Average or above</td>\n",
       "      <td>0</td>\n",
       "      <td>Average or below</td>\n",
       "      <td>...</td>\n",
       "      <td>Moderate or None</td>\n",
       "      <td>No education</td>\n",
       "      <td>25+</td>\n",
       "      <td>0</td>\n",
       "      <td>1</td>\n",
       "      <td>1</td>\n",
       "      <td>0</td>\n",
       "      <td>Other</td>\n",
       "      <td>0</td>\n",
       "      <td>0</td>\n",
       "    </tr>\n",
       "  </tbody>\n",
       "</table>\n",
       "<p>100000 rows × 28 columns</p>\n",
       "</div>"
      ],
      "text/plain": [
       "       BF_BottleFeeding   BF_BreastfedMonths BF_EarlyBreastfeeding  \\\n",
       "0                     0   Less than 3 months           Immediately   \n",
       "1                     0  3 months to 2 years        Within 3 hours   \n",
       "2                     0  3 months to 2 years     More than 3 hours   \n",
       "3                     0   Less than 3 months           Immediately   \n",
       "4                     0  3 months to 2 years        Within 3 hours   \n",
       "...                 ...                  ...                   ...   \n",
       "99995                 0  3 months to 2 years        Within 3 hours   \n",
       "99996                 0  3 months to 2 years           Immediately   \n",
       "99997                 0  3 months to 2 years     More than 3 hours   \n",
       "99998                 0  3 months to 2 years        Within 3 hours   \n",
       "99999                 0  3 months to 2 years     More than 3 hours   \n",
       "\n",
       "                CHI_Age             CHI_Weight4Height CUL_LanguageGroup  \\\n",
       "0      Less than 1 year  Slightly underwight or above  Language group 3   \n",
       "1                1 year                   Underweight  Language group 3   \n",
       "2      Less than 1 year                   Underweight  Language group 1   \n",
       "3      Less than 1 year  Slightly underwight or above  Language group 2   \n",
       "4                1 year                   Underweight  Language group 2   \n",
       "...                 ...                           ...               ...   \n",
       "99995            1 year              Very underweight  Language group 2   \n",
       "99996           2 years              Very underweight  Language group 1   \n",
       "99997           3 years  Slightly underwight or above  Language group 3   \n",
       "99998            1 year              Very underweight  Language group 3   \n",
       "99999            1 year                   Underweight  Language group 3   \n",
       "\n",
       "      CUL_Religion     DEL_SmallBaby  DIA_HadDiarrhoea ECO_WealthQuintile  \\\n",
       "0            Hindu  Average or above                 0   Average or below   \n",
       "1            Hindu  Average or above                 0             Richer   \n",
       "2            Hindu  Average or above                 1   Average or below   \n",
       "3            Hindu             Small                 0             Richer   \n",
       "4            Hindu  Average or above                 0             Richer   \n",
       "...            ...               ...               ...                ...   \n",
       "99995        Other  Average or above                 0   Average or below   \n",
       "99996       Muslim  Average or above                 0   Average or below   \n",
       "99997        Hindu  Average or above                 0            Richest   \n",
       "99998        Other  Average or above                 0             Richer   \n",
       "99999        Hindu  Average or above                 0   Average or below   \n",
       "\n",
       "       ...       KNW_WatchTV  MTH_Education MTH_MaternalAge SRV_Near  \\\n",
       "0      ...        Frequently        Primary             25+        1   \n",
       "1      ...        Frequently   No education             25+        1   \n",
       "2      ...  Moderate or None  Above primary         upto 24        1   \n",
       "3      ...  Moderate or None   No education         upto 24        1   \n",
       "4      ...        Frequently  Above primary             25+        1   \n",
       "...    ...               ...            ...             ...      ...   \n",
       "99995  ...  Moderate or None        Primary             25+        1   \n",
       "99996  ...        Frequently  Above primary             25+        0   \n",
       "99997  ...        Frequently  Above primary             25+        1   \n",
       "99998  ...  Moderate or None  Above primary         upto 24        1   \n",
       "99999  ...  Moderate or None   No education             25+        0   \n",
       "\n",
       "      SRV_OKAlone  WSH_ImprovedToilet  WSH_ImprovedWaterSource  \\\n",
       "0               0                   1                        1   \n",
       "1               1                   1                        0   \n",
       "2               1                   0                        0   \n",
       "3               1                   1                        1   \n",
       "4               1                   1                        1   \n",
       "...           ...                 ...                      ...   \n",
       "99995           1                   0                        0   \n",
       "99996           1                   1                        0   \n",
       "99997           1                   1                        0   \n",
       "99998           1                   1                        1   \n",
       "99999           1                   1                        0   \n",
       "\n",
       "       WSH_SafeStoolDisposal WSH_WashWithAgent WSH_WaterTreated  \n",
       "0        Used toilet/latrine                 1                0  \n",
       "1                      Other                 1                0  \n",
       "2               Into garbage                 0                0  \n",
       "3                      Other                 1                0  \n",
       "4                      Other                 1                1  \n",
       "...                      ...               ...              ...  \n",
       "99995           Into garbage                 0                0  \n",
       "99996                  Other                 1                1  \n",
       "99997                  Other                 1                0  \n",
       "99998    Used toilet/latrine                 1                0  \n",
       "99999                  Other                 0                0  \n",
       "\n",
       "[100000 rows x 28 columns]"
      ]
     },
     "execution_count": 78,
     "metadata": {},
     "output_type": "execute_result"
    }
   ],
   "source": [
    "df"
   ]
  },
  {
   "cell_type": "code",
   "execution_count": 79,
   "id": "4dec6cb5",
   "metadata": {},
   "outputs": [
    {
     "name": "stdout",
     "output_type": "stream",
     "text": [
      "{0, 1}\n"
     ]
    }
   ],
   "source": [
    "'''\n",
    "BF_BottleFeeding\n",
    "'''\n",
    "print(set(df['BF_BottleFeeding']))\n",
    "dict_BF_BottleFeeding = {'No': 0, 'Yes': 1}\n",
    "df['BF_BottleFeeding'] = df['BF_BottleFeeding'].replace(dict_BF_BottleFeeding)\n"
   ]
  },
  {
   "cell_type": "code",
   "execution_count": 80,
   "id": "ff36d143",
   "metadata": {},
   "outputs": [
    {
     "name": "stdout",
     "output_type": "stream",
     "text": [
      "{'Less than 3 months', '3 months to 2 years', 'More than 2 years'}\n"
     ]
    }
   ],
   "source": [
    "'''\n",
    "BF_BreastfedMonths\n",
    "'''\n",
    "print(set(df['BF_BreastfedMonths']))\n",
    "dict_BF_BreastfedMonths = {'Less than 3 months': 0, '3 months to 2 years': 1, 'More than 2 years' : 2}\n",
    "df['BF_BreastfedMonths'] = df['BF_BreastfedMonths'].replace(dict_BF_BreastfedMonths)\n"
   ]
  },
  {
   "cell_type": "code",
   "execution_count": 81,
   "id": "ce500b08",
   "metadata": {},
   "outputs": [
    {
     "name": "stdout",
     "output_type": "stream",
     "text": [
      "{'Within 3 hours', 'Immediately', 'More than 3 hours'}\n"
     ]
    }
   ],
   "source": [
    "'''\n",
    "BF_EarlyBreastfeeding\n",
    "'''\n",
    "print(set(df['BF_EarlyBreastfeeding']))\n",
    "dict_BF_EarlyBreastfeeding = {'Immediately': 0, 'Within 3 hours': 1, 'More than 3 hours' : 2}\n",
    "df['BF_EarlyBreastfeeding'] = df['BF_EarlyBreastfeeding'].replace(dict_BF_EarlyBreastfeeding)"
   ]
  },
  {
   "cell_type": "code",
   "execution_count": 82,
   "id": "6190218c",
   "metadata": {},
   "outputs": [
    {
     "name": "stdout",
     "output_type": "stream",
     "text": [
      "{'2 years', '4 years', 'Less than 1 year', '1 year', '3 years'}\n"
     ]
    }
   ],
   "source": [
    "'''\n",
    "CHI_Age\n",
    "'''\n",
    "print(set(df['CHI_Age']))\n",
    "dict_CHI_Age = {'Less than 1 year': 0, '1 year' : 1, '2 years': 2, '3 years' : 3, '4 years' : 4}\n",
    "df['CHI_Age'] = df['CHI_Age'].replace(dict_CHI_Age)"
   ]
  },
  {
   "cell_type": "code",
   "execution_count": 83,
   "id": "92af44e3",
   "metadata": {},
   "outputs": [
    {
     "name": "stdout",
     "output_type": "stream",
     "text": [
      "{'Underweight', 'Very underweight', 'Slightly underwight or above'}\n"
     ]
    }
   ],
   "source": [
    "'''\n",
    "CHI_Weight4Height\n",
    "'''\n",
    "print(set(df['CHI_Weight4Height']))\n",
    "dict_CHI_Weight4Height = {'Very underweight': 0, 'Underweight' : 1, 'Slightly underwight or above': 2}\n",
    "df['CHI_Weight4Height'] = df['CHI_Weight4Height'].replace(dict_CHI_Weight4Height)"
   ]
  },
  {
   "cell_type": "code",
   "execution_count": 84,
   "id": "8e83c1f1",
   "metadata": {},
   "outputs": [
    {
     "name": "stdout",
     "output_type": "stream",
     "text": [
      "{'Language group 3', 'Language group 2', 'Language group 1'}\n"
     ]
    }
   ],
   "source": [
    "'''\n",
    "CUL_LanguageGroup\n",
    "'''\n",
    "print(set(df['CUL_LanguageGroup']))\n",
    "dict_CUL_LanguageGroup = {'Language group 1': 0, 'Language group 2' : 1, 'Language group 3': 2}\n",
    "df['CUL_LanguageGroup'] = df['CUL_LanguageGroup'].replace(dict_CUL_LanguageGroup)"
   ]
  },
  {
   "cell_type": "code",
   "execution_count": 85,
   "id": "a5813d84",
   "metadata": {},
   "outputs": [
    {
     "name": "stdout",
     "output_type": "stream",
     "text": [
      "{'Muslim', 'Other', 'Hindu'}\n"
     ]
    }
   ],
   "source": [
    "'''\n",
    "CUL_Religion\n",
    "'''\n",
    "print(set(df['CUL_Religion']))\n",
    "dict_CUL_Religion = {'Muslim': 0, 'Hindu' : 1, 'Other': 2}\n",
    "df['CUL_Religion'] = df['CUL_Religion'].replace(dict_CUL_Religion)"
   ]
  },
  {
   "cell_type": "code",
   "execution_count": 86,
   "id": "9aa5f76b",
   "metadata": {},
   "outputs": [
    {
     "name": "stdout",
     "output_type": "stream",
     "text": [
      "{'Average or above', 'Very small', 'Small'}\n"
     ]
    }
   ],
   "source": [
    "'''\n",
    "DEL_SmallBaby\n",
    "'''\n",
    "print(set(df['DEL_SmallBaby']))\n",
    "dict_DEL_SmallBaby = {'Very small': 0, 'Small' : 1, 'Average or above': 2}\n",
    "df['DEL_SmallBaby'] = df['DEL_SmallBaby'].replace(dict_DEL_SmallBaby)"
   ]
  },
  {
   "cell_type": "code",
   "execution_count": 87,
   "id": "bfe9e75e",
   "metadata": {},
   "outputs": [
    {
     "name": "stdout",
     "output_type": "stream",
     "text": [
      "{'Average or below', 'Richer', 'Richest'}\n"
     ]
    }
   ],
   "source": [
    "'''\n",
    "ECO_WealthQuintile\n",
    "'''\n",
    "print(set(df['ECO_WealthQuintile']))\n",
    "dict_ECO_WealthQuintile = {'Average or below': 0, 'Richer' : 1, 'Richest': 2}\n",
    "df['ECO_WealthQuintile'] = df['ECO_WealthQuintile'].replace(dict_ECO_WealthQuintile)"
   ]
  },
  {
   "cell_type": "code",
   "execution_count": 88,
   "id": "aeabf36d",
   "metadata": {},
   "outputs": [
    {
     "name": "stdout",
     "output_type": "stream",
     "text": [
      "{'3 or more children', '1 child', '2 children'}\n"
     ]
    }
   ],
   "source": [
    "'''\n",
    "FP_BirthsLast5Yrs\n",
    "'''\n",
    "print(set(df['FP_BirthsLast5Yrs']))\n",
    "dict_FP_BirthsLast5Yrs = {'1 child': 0, '2 children' : 1, '3 or more children': 2}\n",
    "df['FP_BirthsLast5Yrs'] = df['FP_BirthsLast5Yrs'].replace(dict_FP_BirthsLast5Yrs)"
   ]
  },
  {
   "cell_type": "code",
   "execution_count": 89,
   "id": "8890a0b8",
   "metadata": {},
   "outputs": [
    {
     "name": "stdout",
     "output_type": "stream",
     "text": [
      "{'Region 3', 'Region 4', 'Region 2', 'Region 1'}\n"
     ]
    }
   ],
   "source": [
    "'''\n",
    "GEO_Region\n",
    "'''\n",
    "print(set(df['GEO_Region']))\n",
    "dict_GEO_Region = {'Region 1': 0, 'Region 2' : 1, 'Region 3': 2, 'Region 4' : 3}\n",
    "df['GEO_Region'] = df['GEO_Region'].replace(dict_GEO_Region)"
   ]
  },
  {
   "cell_type": "code",
   "execution_count": 90,
   "id": "39e94b2a",
   "metadata": {},
   "outputs": [
    {
     "name": "stdout",
     "output_type": "stream",
     "text": [
      "{'Agricultural etc', 'Non-agricultural'}\n"
     ]
    }
   ],
   "source": [
    "'''\n",
    "HOU_CookingFuel\n",
    "'''\n",
    "print(set(df['HOU_CookingFuel']))\n",
    "dict_HOU_CookingFuel = {'Non-agricultural': 0, 'Agricultural etc' : 1}\n",
    "df['HOU_CookingFuel'] = df['HOU_CookingFuel'].replace(dict_HOU_CookingFuel)"
   ]
  },
  {
   "cell_type": "code",
   "execution_count": 91,
   "id": "869908bc",
   "metadata": {},
   "outputs": [
    {
     "name": "stdout",
     "output_type": "stream",
     "text": [
      "{'No walls etc', 'Mud or stone etc', 'Grass/Burnt Bricks'}\n"
     ]
    }
   ],
   "source": [
    "'''\n",
    "HOU_ModernWallMaterial\n",
    "'''\n",
    "print(set(df['HOU_ModernWallMaterial']))\n",
    "dict_HOU_ModernWallMaterial = {'No walls etc': 0, 'Mud or stone etc' : 1, 'Grass/Burnt Bricks' : 2}\n",
    "df['HOU_ModernWallMaterial'] = df['HOU_ModernWallMaterial'].replace(dict_HOU_ModernWallMaterial)"
   ]
  },
  {
   "cell_type": "code",
   "execution_count": 92,
   "id": "d25f7599",
   "metadata": {},
   "outputs": [
    {
     "name": "stdout",
     "output_type": "stream",
     "text": [
      "{'Frequently', 'Moderate or None'}\n"
     ]
    }
   ],
   "source": [
    "'''\n",
    "KNW_WatchTV\n",
    "'''\n",
    "print(set(df['KNW_WatchTV']))\n",
    "dict_KNW_WatchTV = {'Moderate or None': 0, 'Frequently' : 1}\n",
    "df['KNW_WatchTV'] = df['KNW_WatchTV'].replace(dict_KNW_WatchTV)"
   ]
  },
  {
   "cell_type": "code",
   "execution_count": 93,
   "id": "7fed7d1c",
   "metadata": {},
   "outputs": [
    {
     "name": "stdout",
     "output_type": "stream",
     "text": [
      "{'No education', 'Above primary', 'Primary'}\n"
     ]
    }
   ],
   "source": [
    "'''\n",
    "MTH_Education\n",
    "'''\n",
    "print(set(df['MTH_Education']))\n",
    "dict_MTH_Education = {'No education': 0, 'Primary' : 1, 'Above primary' : 2}\n",
    "df['MTH_Education'] = df['MTH_Education'].replace(dict_MTH_Education)"
   ]
  },
  {
   "cell_type": "code",
   "execution_count": 94,
   "id": "5180f296",
   "metadata": {},
   "outputs": [
    {
     "name": "stdout",
     "output_type": "stream",
     "text": [
      "{'25+', 'upto 24'}\n"
     ]
    }
   ],
   "source": [
    "'''\n",
    "MTH_MaternalAge\n",
    "'''\n",
    "print(set(df['MTH_MaternalAge']))\n",
    "dict_MTH_MaternalAge = {'upto 24': 0, '25+' : 1}\n",
    "df['MTH_MaternalAge'] = df['MTH_MaternalAge'].replace(dict_MTH_MaternalAge)"
   ]
  },
  {
   "cell_type": "code",
   "execution_count": 100,
   "id": "ac990b23",
   "metadata": {},
   "outputs": [
    {
     "name": "stdout",
     "output_type": "stream",
     "text": [
      "{0, 1, 2}\n"
     ]
    }
   ],
   "source": [
    "'''\n",
    "WSH_ImprovedToilet \n",
    "'''\n",
    "print(set(df['WSH_ImprovedToilet']))\n",
    "dict_WSH_ImprovedToilet = {'Somewhat' : 2}\n",
    "df['WSH_ImprovedToilet'] = df['WSH_ImprovedToilet'].replace(dict_WSH_ImprovedToilet)"
   ]
  },
  {
   "cell_type": "code",
   "execution_count": 95,
   "id": "7f461ff1",
   "metadata": {},
   "outputs": [
    {
     "name": "stdout",
     "output_type": "stream",
     "text": [
      "{'Into garbage', 'Used toilet/latrine', 'Other'}\n"
     ]
    }
   ],
   "source": [
    "'''\n",
    "WSH_SafeStoolDisposal\n",
    "'''\n",
    "print(set(df['WSH_SafeStoolDisposal']))\n",
    "dict_WSH_SafeStoolDisposal = {'Into garbage': 0, 'Used toilet/latrine' : 1, 'Other' : 2}\n",
    "df['WSH_SafeStoolDisposal'] = df['WSH_SafeStoolDisposal'].replace(dict_WSH_SafeStoolDisposal)"
   ]
  },
  {
   "cell_type": "code",
   "execution_count": 105,
   "id": "c96d502a",
   "metadata": {},
   "outputs": [],
   "source": [
    "k = []\n",
    "for i in list(df):\n",
    "#     print(i ,set(df[i]))\n",
    "    k.append(len(set(df[i])))"
   ]
  },
  {
   "cell_type": "code",
   "execution_count": 106,
   "id": "8d3b217a",
   "metadata": {},
   "outputs": [],
   "source": [
    "df.loc[-1] = k"
   ]
  },
  {
   "cell_type": "code",
   "execution_count": 108,
   "id": "4636fd0a",
   "metadata": {},
   "outputs": [],
   "source": [
    "df.index = df.index + 1"
   ]
  },
  {
   "cell_type": "code",
   "execution_count": 112,
   "id": "a0e6b601",
   "metadata": {},
   "outputs": [],
   "source": [
    "df.sort_index().to_csv('diarrhoe.csv')"
   ]
  },
  {
   "cell_type": "markdown",
   "id": "faa94b51",
   "metadata": {},
   "source": [
    "### this is a pause"
   ]
  },
  {
   "cell_type": "code",
   "execution_count": 126,
   "id": "e77d6d4a",
   "metadata": {},
   "outputs": [],
   "source": [
    "data = pd.read_csv(r'C:\\Users\\User\\Documents\\GitHub\\ML_FYP\\dataset\\unprocessed\\diabetes.csv')"
   ]
  },
  {
   "cell_type": "code",
   "execution_count": 127,
   "id": "99237cba",
   "metadata": {},
   "outputs": [],
   "source": [
    "for i in list(data):\n",
    "    all_data = data[i].unique()\n",
    "    brand_dic = dict(zip(all_data, range(len(all_data))))\n",
    "    data[i] = data[i].replace(brand_dic)"
   ]
  },
  {
   "cell_type": "code",
   "execution_count": 128,
   "id": "0ddbfc25",
   "metadata": {},
   "outputs": [],
   "source": [
    "empty = []\n",
    "for i in list(data):\n",
    "#     print(set(data[i]))\n",
    "    empty.append(len(set(data[i])))"
   ]
  },
  {
   "cell_type": "code",
   "execution_count": 129,
   "id": "ca967c89",
   "metadata": {},
   "outputs": [],
   "source": [
    "data.loc[-1] = empty\n",
    "data.index = data.index + 1\n",
    "data = data.sort_index()"
   ]
  },
  {
   "cell_type": "code",
   "execution_count": 130,
   "id": "72492f47",
   "metadata": {},
   "outputs": [
    {
     "data": {
      "text/html": [
       "<div>\n",
       "<style scoped>\n",
       "    .dataframe tbody tr th:only-of-type {\n",
       "        vertical-align: middle;\n",
       "    }\n",
       "\n",
       "    .dataframe tbody tr th {\n",
       "        vertical-align: top;\n",
       "    }\n",
       "\n",
       "    .dataframe thead th {\n",
       "        text-align: right;\n",
       "    }\n",
       "</style>\n",
       "<table border=\"1\" class=\"dataframe\">\n",
       "  <thead>\n",
       "    <tr style=\"text-align: right;\">\n",
       "      <th></th>\n",
       "      <th>cho_init</th>\n",
       "      <th>ins_sens</th>\n",
       "      <th>meal_0</th>\n",
       "      <th>cho_0</th>\n",
       "      <th>bg_0</th>\n",
       "      <th>activ_ins_0</th>\n",
       "      <th>ins_abs_0</th>\n",
       "      <th>gut_abs_0</th>\n",
       "      <th>renal_cl_0</th>\n",
       "      <th>ins_indep_util_0</th>\n",
       "      <th>...</th>\n",
       "      <th>ins_indep_23</th>\n",
       "      <th>ins_dep_23</th>\n",
       "      <th>endo_bal_23</th>\n",
       "      <th>cho_bal_23</th>\n",
       "      <th>basal_bal_23</th>\n",
       "      <th>met_irr_23</th>\n",
       "      <th>tot_bal_23</th>\n",
       "      <th>meal_24</th>\n",
       "      <th>cho_24</th>\n",
       "      <th>bg_24</th>\n",
       "    </tr>\n",
       "  </thead>\n",
       "  <tbody>\n",
       "    <tr>\n",
       "      <th>0</th>\n",
       "      <td>16</td>\n",
       "      <td>5</td>\n",
       "      <td>21</td>\n",
       "      <td>21</td>\n",
       "      <td>11</td>\n",
       "      <td>10</td>\n",
       "      <td>11</td>\n",
       "      <td>6</td>\n",
       "      <td>2</td>\n",
       "      <td>3</td>\n",
       "      <td>...</td>\n",
       "      <td>4</td>\n",
       "      <td>13</td>\n",
       "      <td>16</td>\n",
       "      <td>16</td>\n",
       "      <td>18</td>\n",
       "      <td>7</td>\n",
       "      <td>15</td>\n",
       "      <td>21</td>\n",
       "      <td>21</td>\n",
       "      <td>11</td>\n",
       "    </tr>\n",
       "    <tr>\n",
       "      <th>1</th>\n",
       "      <td>0</td>\n",
       "      <td>0</td>\n",
       "      <td>0</td>\n",
       "      <td>0</td>\n",
       "      <td>0</td>\n",
       "      <td>0</td>\n",
       "      <td>0</td>\n",
       "      <td>0</td>\n",
       "      <td>0</td>\n",
       "      <td>0</td>\n",
       "      <td>...</td>\n",
       "      <td>0</td>\n",
       "      <td>0</td>\n",
       "      <td>0</td>\n",
       "      <td>0</td>\n",
       "      <td>0</td>\n",
       "      <td>0</td>\n",
       "      <td>0</td>\n",
       "      <td>0</td>\n",
       "      <td>0</td>\n",
       "      <td>0</td>\n",
       "    </tr>\n",
       "    <tr>\n",
       "      <th>2</th>\n",
       "      <td>0</td>\n",
       "      <td>1</td>\n",
       "      <td>1</td>\n",
       "      <td>1</td>\n",
       "      <td>0</td>\n",
       "      <td>0</td>\n",
       "      <td>1</td>\n",
       "      <td>1</td>\n",
       "      <td>0</td>\n",
       "      <td>0</td>\n",
       "      <td>...</td>\n",
       "      <td>1</td>\n",
       "      <td>0</td>\n",
       "      <td>1</td>\n",
       "      <td>1</td>\n",
       "      <td>1</td>\n",
       "      <td>1</td>\n",
       "      <td>1</td>\n",
       "      <td>1</td>\n",
       "      <td>1</td>\n",
       "      <td>1</td>\n",
       "    </tr>\n",
       "    <tr>\n",
       "      <th>3</th>\n",
       "      <td>0</td>\n",
       "      <td>2</td>\n",
       "      <td>2</td>\n",
       "      <td>2</td>\n",
       "      <td>1</td>\n",
       "      <td>1</td>\n",
       "      <td>2</td>\n",
       "      <td>2</td>\n",
       "      <td>0</td>\n",
       "      <td>1</td>\n",
       "      <td>...</td>\n",
       "      <td>2</td>\n",
       "      <td>1</td>\n",
       "      <td>1</td>\n",
       "      <td>0</td>\n",
       "      <td>2</td>\n",
       "      <td>2</td>\n",
       "      <td>2</td>\n",
       "      <td>2</td>\n",
       "      <td>2</td>\n",
       "      <td>2</td>\n",
       "    </tr>\n",
       "    <tr>\n",
       "      <th>4</th>\n",
       "      <td>1</td>\n",
       "      <td>0</td>\n",
       "      <td>1</td>\n",
       "      <td>3</td>\n",
       "      <td>2</td>\n",
       "      <td>2</td>\n",
       "      <td>3</td>\n",
       "      <td>3</td>\n",
       "      <td>0</td>\n",
       "      <td>1</td>\n",
       "      <td>...</td>\n",
       "      <td>0</td>\n",
       "      <td>1</td>\n",
       "      <td>2</td>\n",
       "      <td>2</td>\n",
       "      <td>1</td>\n",
       "      <td>0</td>\n",
       "      <td>2</td>\n",
       "      <td>1</td>\n",
       "      <td>3</td>\n",
       "      <td>0</td>\n",
       "    </tr>\n",
       "    <tr>\n",
       "      <th>...</th>\n",
       "      <td>...</td>\n",
       "      <td>...</td>\n",
       "      <td>...</td>\n",
       "      <td>...</td>\n",
       "      <td>...</td>\n",
       "      <td>...</td>\n",
       "      <td>...</td>\n",
       "      <td>...</td>\n",
       "      <td>...</td>\n",
       "      <td>...</td>\n",
       "      <td>...</td>\n",
       "      <td>...</td>\n",
       "      <td>...</td>\n",
       "      <td>...</td>\n",
       "      <td>...</td>\n",
       "      <td>...</td>\n",
       "      <td>...</td>\n",
       "      <td>...</td>\n",
       "      <td>...</td>\n",
       "      <td>...</td>\n",
       "      <td>...</td>\n",
       "    </tr>\n",
       "    <tr>\n",
       "      <th>9996</th>\n",
       "      <td>0</td>\n",
       "      <td>0</td>\n",
       "      <td>8</td>\n",
       "      <td>3</td>\n",
       "      <td>9</td>\n",
       "      <td>6</td>\n",
       "      <td>9</td>\n",
       "      <td>3</td>\n",
       "      <td>1</td>\n",
       "      <td>0</td>\n",
       "      <td>...</td>\n",
       "      <td>0</td>\n",
       "      <td>0</td>\n",
       "      <td>0</td>\n",
       "      <td>3</td>\n",
       "      <td>2</td>\n",
       "      <td>0</td>\n",
       "      <td>5</td>\n",
       "      <td>1</td>\n",
       "      <td>16</td>\n",
       "      <td>0</td>\n",
       "    </tr>\n",
       "    <tr>\n",
       "      <th>9997</th>\n",
       "      <td>9</td>\n",
       "      <td>1</td>\n",
       "      <td>1</td>\n",
       "      <td>10</td>\n",
       "      <td>0</td>\n",
       "      <td>2</td>\n",
       "      <td>5</td>\n",
       "      <td>5</td>\n",
       "      <td>0</td>\n",
       "      <td>0</td>\n",
       "      <td>...</td>\n",
       "      <td>0</td>\n",
       "      <td>1</td>\n",
       "      <td>2</td>\n",
       "      <td>3</td>\n",
       "      <td>2</td>\n",
       "      <td>0</td>\n",
       "      <td>5</td>\n",
       "      <td>11</td>\n",
       "      <td>17</td>\n",
       "      <td>0</td>\n",
       "    </tr>\n",
       "    <tr>\n",
       "      <th>9998</th>\n",
       "      <td>0</td>\n",
       "      <td>1</td>\n",
       "      <td>1</td>\n",
       "      <td>5</td>\n",
       "      <td>0</td>\n",
       "      <td>2</td>\n",
       "      <td>5</td>\n",
       "      <td>4</td>\n",
       "      <td>0</td>\n",
       "      <td>0</td>\n",
       "      <td>...</td>\n",
       "      <td>1</td>\n",
       "      <td>6</td>\n",
       "      <td>11</td>\n",
       "      <td>3</td>\n",
       "      <td>12</td>\n",
       "      <td>0</td>\n",
       "      <td>12</td>\n",
       "      <td>1</td>\n",
       "      <td>13</td>\n",
       "      <td>0</td>\n",
       "    </tr>\n",
       "    <tr>\n",
       "      <th>9999</th>\n",
       "      <td>0</td>\n",
       "      <td>0</td>\n",
       "      <td>1</td>\n",
       "      <td>1</td>\n",
       "      <td>0</td>\n",
       "      <td>4</td>\n",
       "      <td>8</td>\n",
       "      <td>1</td>\n",
       "      <td>0</td>\n",
       "      <td>0</td>\n",
       "      <td>...</td>\n",
       "      <td>0</td>\n",
       "      <td>0</td>\n",
       "      <td>0</td>\n",
       "      <td>2</td>\n",
       "      <td>1</td>\n",
       "      <td>0</td>\n",
       "      <td>2</td>\n",
       "      <td>1</td>\n",
       "      <td>3</td>\n",
       "      <td>0</td>\n",
       "    </tr>\n",
       "    <tr>\n",
       "      <th>10000</th>\n",
       "      <td>0</td>\n",
       "      <td>1</td>\n",
       "      <td>0</td>\n",
       "      <td>12</td>\n",
       "      <td>0</td>\n",
       "      <td>4</td>\n",
       "      <td>4</td>\n",
       "      <td>0</td>\n",
       "      <td>0</td>\n",
       "      <td>0</td>\n",
       "      <td>...</td>\n",
       "      <td>1</td>\n",
       "      <td>7</td>\n",
       "      <td>5</td>\n",
       "      <td>6</td>\n",
       "      <td>12</td>\n",
       "      <td>0</td>\n",
       "      <td>12</td>\n",
       "      <td>4</td>\n",
       "      <td>2</td>\n",
       "      <td>0</td>\n",
       "    </tr>\n",
       "  </tbody>\n",
       "</table>\n",
       "<p>10001 rows × 413 columns</p>\n",
       "</div>"
      ],
      "text/plain": [
       "       cho_init  ins_sens  meal_0  cho_0  bg_0  activ_ins_0  ins_abs_0  \\\n",
       "0            16         5      21     21    11           10         11   \n",
       "1             0         0       0      0     0            0          0   \n",
       "2             0         1       1      1     0            0          1   \n",
       "3             0         2       2      2     1            1          2   \n",
       "4             1         0       1      3     2            2          3   \n",
       "...         ...       ...     ...    ...   ...          ...        ...   \n",
       "9996          0         0       8      3     9            6          9   \n",
       "9997          9         1       1     10     0            2          5   \n",
       "9998          0         1       1      5     0            2          5   \n",
       "9999          0         0       1      1     0            4          8   \n",
       "10000         0         1       0     12     0            4          4   \n",
       "\n",
       "       gut_abs_0  renal_cl_0  ins_indep_util_0  ...  ins_indep_23  ins_dep_23  \\\n",
       "0              6           2                 3  ...             4          13   \n",
       "1              0           0                 0  ...             0           0   \n",
       "2              1           0                 0  ...             1           0   \n",
       "3              2           0                 1  ...             2           1   \n",
       "4              3           0                 1  ...             0           1   \n",
       "...          ...         ...               ...  ...           ...         ...   \n",
       "9996           3           1                 0  ...             0           0   \n",
       "9997           5           0                 0  ...             0           1   \n",
       "9998           4           0                 0  ...             1           6   \n",
       "9999           1           0                 0  ...             0           0   \n",
       "10000          0           0                 0  ...             1           7   \n",
       "\n",
       "       endo_bal_23  cho_bal_23  basal_bal_23  met_irr_23  tot_bal_23  meal_24  \\\n",
       "0               16          16            18           7          15       21   \n",
       "1                0           0             0           0           0        0   \n",
       "2                1           1             1           1           1        1   \n",
       "3                1           0             2           2           2        2   \n",
       "4                2           2             1           0           2        1   \n",
       "...            ...         ...           ...         ...         ...      ...   \n",
       "9996             0           3             2           0           5        1   \n",
       "9997             2           3             2           0           5       11   \n",
       "9998            11           3            12           0          12        1   \n",
       "9999             0           2             1           0           2        1   \n",
       "10000            5           6            12           0          12        4   \n",
       "\n",
       "       cho_24  bg_24  \n",
       "0          21     11  \n",
       "1           0      0  \n",
       "2           1      1  \n",
       "3           2      2  \n",
       "4           3      0  \n",
       "...       ...    ...  \n",
       "9996       16      0  \n",
       "9997       17      0  \n",
       "9998       13      0  \n",
       "9999        3      0  \n",
       "10000       2      0  \n",
       "\n",
       "[10001 rows x 413 columns]"
      ]
     },
     "execution_count": 130,
     "metadata": {},
     "output_type": "execute_result"
    }
   ],
   "source": [
    "data"
   ]
  },
  {
   "cell_type": "code",
   "execution_count": 131,
   "id": "7611ef17",
   "metadata": {},
   "outputs": [],
   "source": [
    "data.to_csv('diabetes.csv', index=False)"
   ]
  },
  {
   "cell_type": "code",
   "execution_count": null,
   "id": "dab390f8",
   "metadata": {},
   "outputs": [],
   "source": []
  }
 ],
 "metadata": {
  "kernelspec": {
   "display_name": "Python 3 (ipykernel)",
   "language": "python",
   "name": "python3"
  },
  "language_info": {
   "codemirror_mode": {
    "name": "ipython",
    "version": 3
   },
   "file_extension": ".py",
   "mimetype": "text/x-python",
   "name": "python",
   "nbconvert_exporter": "python",
   "pygments_lexer": "ipython3",
   "version": "3.8.8"
  }
 },
 "nbformat": 4,
 "nbformat_minor": 5
}
