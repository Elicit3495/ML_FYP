{
 "cells": [
  {
   "cell_type": "code",
   "execution_count": 1,
   "id": "b8a83d60",
   "metadata": {},
   "outputs": [],
   "source": [
    "#first phase: constraint identification, identify constraints with a chi squared test or some traditional methods\n",
    "#second phase: edge orientation, "
   ]
  },
  {
   "cell_type": "code",
   "execution_count": 2,
   "id": "f6753a01",
   "metadata": {},
   "outputs": [],
   "source": [
    "#given X ⫫ Y | Z, what does this tell us about graph?\n",
    "#1. it indicates a binary decision indicating whether or not an edge should exist between X and Y\n",
    "#2. which set of variables Z are needed to d-separate X and Y \n",
    "\n"
   ]
  },
  {
   "cell_type": "code",
   "execution_count": 3,
   "id": "f0fe5c14",
   "metadata": {},
   "outputs": [],
   "source": [
    "#questions\n",
    "#1. the accuracy of hypothesis test (g2, chi2) seems low, how do i counter this\n",
    "#2. mutual information?\n",
    "#3. would it be worth using other constraint identification ()\n",
    "#4. what should the role of the degrees of freedom play in my test?\n",
    "#5. confused about research papers where the first step is to identify constraint (conditional independence), which is process of learning of the skeleton,"
   ]
  },
  {
   "cell_type": "code",
   "execution_count": 4,
   "id": "5f6e539a",
   "metadata": {},
   "outputs": [],
   "source": [
    "#TODO: FIND MY CONSTRAINTS\n",
    "#TODO: BAYES FACTOR? http://www.ai.lab.uec.ac.jp/wp-content/uploads/2018/08/Constraint-based-learning-Bayesian-networks-using-Bayes-factor.pdf\n",
    "#TODO: RAI ALGORITHM https://www.jmlr.org/papers/volume10/yehezkel09a/yehezkel09a.pdf\n",
    "#TODO: VERY GOOD BOOK : https://scholarworks.umass.edu/cgi/viewcontent.cgi?article=1174&context=open_access_dissertations"
   ]
  },
  {
   "cell_type": "code",
   "execution_count": 10,
   "id": "befa65c0",
   "metadata": {},
   "outputs": [],
   "source": [
    "from pygobnilp.gobnilp import Gobnilp\n",
    "import pandas as pd\n",
    "import numpy as np\n",
    "from pgmpy.estimators.CITests import chi_square\n",
    "from pgmpy.estimators import PC\n",
    "from conditional import *\n",
    "from gurobipy import *\n",
    "import random\n",
    "import re\n",
    "import keyword"
   ]
  },
  {
   "cell_type": "code",
   "execution_count": 3,
   "id": "0f69d54f",
   "metadata": {},
   "outputs": [
    {
     "data": {
      "text/html": [
       "<div>\n",
       "<style scoped>\n",
       "    .dataframe tbody tr th:only-of-type {\n",
       "        vertical-align: middle;\n",
       "    }\n",
       "\n",
       "    .dataframe tbody tr th {\n",
       "        vertical-align: top;\n",
       "    }\n",
       "\n",
       "    .dataframe thead th {\n",
       "        text-align: right;\n",
       "    }\n",
       "</style>\n",
       "<table border=\"1\" class=\"dataframe\">\n",
       "  <thead>\n",
       "    <tr style=\"text-align: right;\">\n",
       "      <th></th>\n",
       "      <th>One</th>\n",
       "      <th>Two</th>\n",
       "      <th>Three</th>\n",
       "      <th>Four</th>\n",
       "      <th>Five</th>\n",
       "      <th>Six</th>\n",
       "      <th>Seven</th>\n",
       "      <th>Eight</th>\n",
       "      <th>Nine</th>\n",
       "      <th>Ten</th>\n",
       "      <th>...</th>\n",
       "      <th>TwentyEight</th>\n",
       "      <th>TwentyNine</th>\n",
       "      <th>Thirty</th>\n",
       "      <th>ThirtyOne</th>\n",
       "      <th>ThirtyTwo</th>\n",
       "      <th>ThirtyThree</th>\n",
       "      <th>ThirtyFour</th>\n",
       "      <th>ThirtyFive</th>\n",
       "      <th>ThirtySix</th>\n",
       "      <th>ThirtySeven</th>\n",
       "    </tr>\n",
       "  </thead>\n",
       "  <tbody>\n",
       "    <tr>\n",
       "      <th>1</th>\n",
       "      <td>0</td>\n",
       "      <td>2</td>\n",
       "      <td>0</td>\n",
       "      <td>1</td>\n",
       "      <td>2</td>\n",
       "      <td>2</td>\n",
       "      <td>0</td>\n",
       "      <td>1</td>\n",
       "      <td>3</td>\n",
       "      <td>1</td>\n",
       "      <td>...</td>\n",
       "      <td>1</td>\n",
       "      <td>1</td>\n",
       "      <td>1</td>\n",
       "      <td>0</td>\n",
       "      <td>1</td>\n",
       "      <td>0</td>\n",
       "      <td>3</td>\n",
       "      <td>0</td>\n",
       "      <td>0</td>\n",
       "      <td>0</td>\n",
       "    </tr>\n",
       "    <tr>\n",
       "      <th>2</th>\n",
       "      <td>0</td>\n",
       "      <td>2</td>\n",
       "      <td>0</td>\n",
       "      <td>1</td>\n",
       "      <td>2</td>\n",
       "      <td>2</td>\n",
       "      <td>0</td>\n",
       "      <td>1</td>\n",
       "      <td>3</td>\n",
       "      <td>1</td>\n",
       "      <td>...</td>\n",
       "      <td>0</td>\n",
       "      <td>1</td>\n",
       "      <td>1</td>\n",
       "      <td>0</td>\n",
       "      <td>2</td>\n",
       "      <td>0</td>\n",
       "      <td>3</td>\n",
       "      <td>0</td>\n",
       "      <td>0</td>\n",
       "      <td>2</td>\n",
       "    </tr>\n",
       "    <tr>\n",
       "      <th>3</th>\n",
       "      <td>0</td>\n",
       "      <td>2</td>\n",
       "      <td>0</td>\n",
       "      <td>1</td>\n",
       "      <td>2</td>\n",
       "      <td>2</td>\n",
       "      <td>0</td>\n",
       "      <td>1</td>\n",
       "      <td>3</td>\n",
       "      <td>1</td>\n",
       "      <td>...</td>\n",
       "      <td>0</td>\n",
       "      <td>0</td>\n",
       "      <td>1</td>\n",
       "      <td>0</td>\n",
       "      <td>1</td>\n",
       "      <td>0</td>\n",
       "      <td>3</td>\n",
       "      <td>0</td>\n",
       "      <td>0</td>\n",
       "      <td>1</td>\n",
       "    </tr>\n",
       "    <tr>\n",
       "      <th>4</th>\n",
       "      <td>0</td>\n",
       "      <td>2</td>\n",
       "      <td>0</td>\n",
       "      <td>1</td>\n",
       "      <td>1</td>\n",
       "      <td>1</td>\n",
       "      <td>0</td>\n",
       "      <td>3</td>\n",
       "      <td>3</td>\n",
       "      <td>1</td>\n",
       "      <td>...</td>\n",
       "      <td>1</td>\n",
       "      <td>1</td>\n",
       "      <td>1</td>\n",
       "      <td>0</td>\n",
       "      <td>0</td>\n",
       "      <td>0</td>\n",
       "      <td>3</td>\n",
       "      <td>0</td>\n",
       "      <td>0</td>\n",
       "      <td>2</td>\n",
       "    </tr>\n",
       "    <tr>\n",
       "      <th>5</th>\n",
       "      <td>0</td>\n",
       "      <td>2</td>\n",
       "      <td>0</td>\n",
       "      <td>1</td>\n",
       "      <td>2</td>\n",
       "      <td>2</td>\n",
       "      <td>0</td>\n",
       "      <td>1</td>\n",
       "      <td>3</td>\n",
       "      <td>1</td>\n",
       "      <td>...</td>\n",
       "      <td>1</td>\n",
       "      <td>1</td>\n",
       "      <td>1</td>\n",
       "      <td>0</td>\n",
       "      <td>1</td>\n",
       "      <td>1</td>\n",
       "      <td>3</td>\n",
       "      <td>0</td>\n",
       "      <td>1</td>\n",
       "      <td>2</td>\n",
       "    </tr>\n",
       "    <tr>\n",
       "      <th>...</th>\n",
       "      <td>...</td>\n",
       "      <td>...</td>\n",
       "      <td>...</td>\n",
       "      <td>...</td>\n",
       "      <td>...</td>\n",
       "      <td>...</td>\n",
       "      <td>...</td>\n",
       "      <td>...</td>\n",
       "      <td>...</td>\n",
       "      <td>...</td>\n",
       "      <td>...</td>\n",
       "      <td>...</td>\n",
       "      <td>...</td>\n",
       "      <td>...</td>\n",
       "      <td>...</td>\n",
       "      <td>...</td>\n",
       "      <td>...</td>\n",
       "      <td>...</td>\n",
       "      <td>...</td>\n",
       "      <td>...</td>\n",
       "      <td>...</td>\n",
       "    </tr>\n",
       "    <tr>\n",
       "      <th>96</th>\n",
       "      <td>0</td>\n",
       "      <td>2</td>\n",
       "      <td>0</td>\n",
       "      <td>1</td>\n",
       "      <td>2</td>\n",
       "      <td>2</td>\n",
       "      <td>0</td>\n",
       "      <td>1</td>\n",
       "      <td>3</td>\n",
       "      <td>1</td>\n",
       "      <td>...</td>\n",
       "      <td>0</td>\n",
       "      <td>0</td>\n",
       "      <td>1</td>\n",
       "      <td>0</td>\n",
       "      <td>2</td>\n",
       "      <td>0</td>\n",
       "      <td>2</td>\n",
       "      <td>1</td>\n",
       "      <td>0</td>\n",
       "      <td>2</td>\n",
       "    </tr>\n",
       "    <tr>\n",
       "      <th>97</th>\n",
       "      <td>0</td>\n",
       "      <td>2</td>\n",
       "      <td>0</td>\n",
       "      <td>1</td>\n",
       "      <td>2</td>\n",
       "      <td>2</td>\n",
       "      <td>0</td>\n",
       "      <td>1</td>\n",
       "      <td>3</td>\n",
       "      <td>1</td>\n",
       "      <td>...</td>\n",
       "      <td>0</td>\n",
       "      <td>0</td>\n",
       "      <td>1</td>\n",
       "      <td>0</td>\n",
       "      <td>0</td>\n",
       "      <td>0</td>\n",
       "      <td>3</td>\n",
       "      <td>0</td>\n",
       "      <td>0</td>\n",
       "      <td>2</td>\n",
       "    </tr>\n",
       "    <tr>\n",
       "      <th>98</th>\n",
       "      <td>0</td>\n",
       "      <td>2</td>\n",
       "      <td>0</td>\n",
       "      <td>1</td>\n",
       "      <td>2</td>\n",
       "      <td>2</td>\n",
       "      <td>0</td>\n",
       "      <td>1</td>\n",
       "      <td>3</td>\n",
       "      <td>1</td>\n",
       "      <td>...</td>\n",
       "      <td>2</td>\n",
       "      <td>1</td>\n",
       "      <td>1</td>\n",
       "      <td>0</td>\n",
       "      <td>0</td>\n",
       "      <td>1</td>\n",
       "      <td>3</td>\n",
       "      <td>0</td>\n",
       "      <td>1</td>\n",
       "      <td>0</td>\n",
       "    </tr>\n",
       "    <tr>\n",
       "      <th>99</th>\n",
       "      <td>0</td>\n",
       "      <td>2</td>\n",
       "      <td>0</td>\n",
       "      <td>1</td>\n",
       "      <td>2</td>\n",
       "      <td>2</td>\n",
       "      <td>0</td>\n",
       "      <td>1</td>\n",
       "      <td>3</td>\n",
       "      <td>0</td>\n",
       "      <td>...</td>\n",
       "      <td>0</td>\n",
       "      <td>1</td>\n",
       "      <td>1</td>\n",
       "      <td>0</td>\n",
       "      <td>2</td>\n",
       "      <td>0</td>\n",
       "      <td>3</td>\n",
       "      <td>0</td>\n",
       "      <td>0</td>\n",
       "      <td>2</td>\n",
       "    </tr>\n",
       "    <tr>\n",
       "      <th>100</th>\n",
       "      <td>0</td>\n",
       "      <td>2</td>\n",
       "      <td>0</td>\n",
       "      <td>1</td>\n",
       "      <td>1</td>\n",
       "      <td>1</td>\n",
       "      <td>0</td>\n",
       "      <td>3</td>\n",
       "      <td>3</td>\n",
       "      <td>1</td>\n",
       "      <td>...</td>\n",
       "      <td>0</td>\n",
       "      <td>0</td>\n",
       "      <td>1</td>\n",
       "      <td>0</td>\n",
       "      <td>0</td>\n",
       "      <td>0</td>\n",
       "      <td>3</td>\n",
       "      <td>0</td>\n",
       "      <td>0</td>\n",
       "      <td>0</td>\n",
       "    </tr>\n",
       "  </tbody>\n",
       "</table>\n",
       "<p>100 rows × 37 columns</p>\n",
       "</div>"
      ],
      "text/plain": [
       "     One  Two  Three Four  Five  Six  Seven  Eight  Nine  Ten  ...  \\\n",
       "1      0    2      0    1     2    2      0      1     3    1  ...   \n",
       "2      0    2      0    1     2    2      0      1     3    1  ...   \n",
       "3      0    2      0    1     2    2      0      1     3    1  ...   \n",
       "4      0    2      0    1     1    1      0      3     3    1  ...   \n",
       "5      0    2      0    1     2    2      0      1     3    1  ...   \n",
       "..   ...  ...    ...  ...   ...  ...    ...    ...   ...  ...  ...   \n",
       "96     0    2      0    1     2    2      0      1     3    1  ...   \n",
       "97     0    2      0    1     2    2      0      1     3    1  ...   \n",
       "98     0    2      0    1     2    2      0      1     3    1  ...   \n",
       "99     0    2      0    1     2    2      0      1     3    0  ...   \n",
       "100    0    2      0    1     1    1      0      3     3    1  ...   \n",
       "\n",
       "     TwentyEight  TwentyNine  Thirty  ThirtyOne  ThirtyTwo  ThirtyThree  \\\n",
       "1              1           1       1          0          1            0   \n",
       "2              0           1       1          0          2            0   \n",
       "3              0           0       1          0          1            0   \n",
       "4              1           1       1          0          0            0   \n",
       "5              1           1       1          0          1            1   \n",
       "..           ...         ...     ...        ...        ...          ...   \n",
       "96             0           0       1          0          2            0   \n",
       "97             0           0       1          0          0            0   \n",
       "98             2           1       1          0          0            1   \n",
       "99             0           1       1          0          2            0   \n",
       "100            0           0       1          0          0            0   \n",
       "\n",
       "     ThirtyFour  ThirtyFive  ThirtySix  ThirtySeven  \n",
       "1             3           0          0            0  \n",
       "2             3           0          0            2  \n",
       "3             3           0          0            1  \n",
       "4             3           0          0            2  \n",
       "5             3           0          1            2  \n",
       "..          ...         ...        ...          ...  \n",
       "96            2           1          0            2  \n",
       "97            3           0          0            2  \n",
       "98            3           0          1            0  \n",
       "99            3           0          0            2  \n",
       "100           3           0          0            0  \n",
       "\n",
       "[100 rows x 37 columns]"
      ]
     },
     "execution_count": 3,
     "metadata": {},
     "output_type": "execute_result"
    }
   ],
   "source": [
    "df = csv_format_discrete(r\"C:\\Users\\User\\Documents\\GitHub\\ML_FYP\\dataset\\alarm_100.dat\")\n",
    "df"
   ]
  },
  {
   "cell_type": "code",
   "execution_count": 9,
   "id": "66e3aa59",
   "metadata": {},
   "outputs": [],
   "source": [
    "#how do we measure the consistensy\n",
    "def bool2(df):\n",
    "#returns a tuple(chi2, p_value, dof) if boolean = false\n",
    "#the null hypothesis is that they are independent of each other\n",
    "#if true, the p_value is higher than the significance test, we do not reject the null hypothesis\n",
    "#if false, the p_value is lower than the significance test, we reject the null hypothesis\n",
    "    v = list(df)\n",
    "    empty = []\n",
    "    empty_1 = []\n",
    "    empty_2 = []\n",
    "    empty_3 = []\n",
    "    empty_4 = []\n",
    "    itertools_combinations = list(itertools.combinations(v, 2)) #finds every possible combination of list(df)\n",
    "    for i in itertools_combinations:\n",
    "        empty_1.append(i[0])\n",
    "        empty_2.append(i[1])\n",
    "        \n",
    "    total_number_of_combinations = len(empty_1)\n",
    "    \n",
    "    for t in range(len(itertools_combinations)):\n",
    "        empty.append(itertools_combinations[t])\n",
    "        \n",
    "    for value in range(len(empty_1)):\n",
    "        empty_3.append(value)\n",
    "        \n",
    "    for x,y,i,j in zip(empty_1, empty_2, empty, empty_3):\n",
    "        chisquare = chi_square(X=x, Y=y, Z=[], data=df, significance_level=0.10, boolean=True) #returns chi, p_value, dof\n",
    "        empty_4.append([j, i , chisquare])\n",
    "        \n",
    "    return empty_4"
   ]
  },
  {
   "cell_type": "code",
   "execution_count": 32,
   "id": "7f572761",
   "metadata": {},
   "outputs": [],
   "source": [
    "def trueList(df, pf):\n",
    "    new_list = []\n",
    "    for i, j in zip(df,pf):\n",
    "        if i == j:\n",
    "            new_list.append(i)\n",
    "    return new_list"
   ]
  },
  {
   "cell_type": "code",
   "execution_count": 41,
   "id": "87c75bbc",
   "metadata": {},
   "outputs": [
    {
     "data": {
      "text/plain": [
       "(520, 501)"
      ]
     },
     "execution_count": 41,
     "metadata": {},
     "output_type": "execute_result"
    }
   ],
   "source": [
    "len(sortReturn(a_95)[0]), len(sortReturn(a)[0])"
   ]
  },
  {
   "cell_type": "code",
   "execution_count": 36,
   "id": "e3f93c62",
   "metadata": {},
   "outputs": [
    {
     "data": {
      "text/plain": [
       "[[1, ('One', 'Three'), True],\n",
       " [5, ('One', 'Seven'), True],\n",
       " [6, ('One', 'Eight'), True],\n",
       " [7, ('One', 'Nine'), True],\n",
       " [8, ('One', 'Ten'), True],\n",
       " [10, ('One', 'Twelve'), True],\n",
       " [11, ('One', 'Thirteen'), True],\n",
       " [12, ('One', 'Fourteen'), True],\n",
       " [13, ('One', 'Fifteen'), True],\n",
       " [15, ('One', 'Seventeen'), True],\n",
       " [16, ('One', 'Eighteen'), True],\n",
       " [17, ('One', 'Nineteen'), True],\n",
       " [18, ('One', 'Twenty'), True],\n",
       " [19, ('One', 'TwentyOne'), True],\n",
       " [20, ('One', 'TwentyTwo'), True],\n",
       " [21, ('One', 'TwentyThree'), True],\n",
       " [22, ('One', 'TwentyFour'), True],\n",
       " [23, ('One', 'TwentyFive'), True],\n",
       " [24, ('One', 'TwentySix'), True],\n",
       " [25, ('One', 'TwentySeven'), True],\n",
       " [26, ('One', 'TwentyEight'), True],\n",
       " [27, ('One', 'TwentyNine'), True],\n",
       " [28, ('One', 'Thirty'), True],\n",
       " [29, ('One', 'ThirtyOne'), True],\n",
       " [31, ('One', 'ThirtyThree'), True],\n",
       " [33, ('One', 'ThirtyFive'), True],\n",
       " [34, ('One', 'ThirtySix'), True],\n",
       " [35, ('One', 'ThirtySeven'), True],\n",
       " [36, ('Two', 'Three'), True],\n",
       " [37, ('Two', 'Four'), True],\n",
       " [38, ('Two', 'Five'), True],\n",
       " [39, ('Two', 'Six'), True],\n",
       " [40, ('Two', 'Seven'), True],\n",
       " [41, ('Two', 'Eight'), True],\n",
       " [42, ('Two', 'Nine'), True],\n",
       " [43, ('Two', 'Ten'), True],\n",
       " [44, ('Two', 'Eleven'), True],\n",
       " [45, ('Two', 'Twelve'), True],\n",
       " [46, ('Two', 'Thirteen'), True],\n",
       " [47, ('Two', 'Fourteen'), True]]"
      ]
     },
     "execution_count": 36,
     "metadata": {},
     "output_type": "execute_result"
    }
   ],
   "source": [
    "trueList(a_95, a)"
   ]
  },
  {
   "cell_type": "code",
   "execution_count": 38,
   "id": "be23bc67",
   "metadata": {},
   "outputs": [
    {
     "data": {
      "text/plain": [
       "40"
      ]
     },
     "execution_count": 38,
     "metadata": {},
     "output_type": "execute_result"
    }
   ],
   "source": [
    "len(trueList(a_95, a))"
   ]
  },
  {
   "cell_type": "code",
   "execution_count": 14,
   "id": "6cda42bd",
   "metadata": {},
   "outputs": [],
   "source": [
    "a,b = sortReturn(bool2(df))[0], sortReturn(bool2(df))[1]"
   ]
  },
  {
   "cell_type": "code",
   "execution_count": 16,
   "id": "e8101e54",
   "metadata": {},
   "outputs": [
    {
     "data": {
      "text/plain": [
       "501"
      ]
     },
     "execution_count": 16,
     "metadata": {},
     "output_type": "execute_result"
    }
   ],
   "source": [
    "len(a)"
   ]
  },
  {
   "cell_type": "code",
   "execution_count": 17,
   "id": "a4d83882",
   "metadata": {},
   "outputs": [],
   "source": [
    "a_95, b_95 = sortReturn(chi2bool(df))[0], sortReturn(chi2bool(df))[1]"
   ]
  },
  {
   "cell_type": "code",
   "execution_count": 19,
   "id": "09963522",
   "metadata": {},
   "outputs": [
    {
     "data": {
      "text/plain": [
       "520"
      ]
     },
     "execution_count": 19,
     "metadata": {},
     "output_type": "execute_result"
    }
   ],
   "source": [
    "len(a_95)"
   ]
  },
  {
   "cell_type": "code",
   "execution_count": 4,
   "id": "40c6a453",
   "metadata": {},
   "outputs": [],
   "source": [
    "cond_ind = chi2condval(df)"
   ]
  },
  {
   "cell_type": "code",
   "execution_count": 5,
   "id": "ac3072cb",
   "metadata": {},
   "outputs": [],
   "source": [
    "cond_ind_bool = chi2condbool(df)"
   ]
  },
  {
   "cell_type": "code",
   "execution_count": 42,
   "id": "1377b460",
   "metadata": {},
   "outputs": [],
   "source": [
    "# cond_ind"
   ]
  },
  {
   "cell_type": "code",
   "execution_count": 43,
   "id": "a9f1cb3f",
   "metadata": {},
   "outputs": [],
   "source": [
    "# cond_ind_bool"
   ]
  },
  {
   "cell_type": "code",
   "execution_count": 44,
   "id": "61a6a9f8",
   "metadata": {},
   "outputs": [],
   "source": [
    "g2_ = g2(df)\n",
    "# g2_"
   ]
  },
  {
   "cell_type": "code",
   "execution_count": 46,
   "id": "6c2b74e5",
   "metadata": {},
   "outputs": [],
   "source": [
    "# chi_2_bool = chi2bool(df)\n",
    "# chi_2_bool"
   ]
  },
  {
   "cell_type": "code",
   "execution_count": 47,
   "id": "3aff3a5a",
   "metadata": {},
   "outputs": [],
   "source": [
    "#test the significance level with and without forbidden arrows removed"
   ]
  },
  {
   "cell_type": "code",
   "execution_count": 51,
   "id": "6c0806bd",
   "metadata": {
    "scrolled": true
   },
   "outputs": [
    {
     "name": "stdout",
     "output_type": "stream",
     "text": [
      "Set parameter PreCrush to value 1\n",
      "Set parameter CutPasses to value 100000\n",
      "Set parameter GomoryPasses to value 100000\n",
      "Set parameter MIPFocus to value 2\n",
      "Set parameter ZeroHalfCuts to value 2\n",
      "Set parameter MIPGap to value 0\n",
      "Set parameter MIPGapAbs to value 0\n"
     ]
    }
   ],
   "source": [
    "m = Gobnilp()"
   ]
  },
  {
   "cell_type": "code",
   "execution_count": 55,
   "id": "787afab9",
   "metadata": {},
   "outputs": [
    {
     "ename": "ValueError",
     "evalue": "This line: '0 2 0 1 2 2 0 1 3 1 3 1 1 1 0 0 0 0 0 0 0 0 1 0 0 0 1 1 1 1 0 1 0 3 0 0 0' is interpreted as giving variable arities but the value 0 is less than 2.",
     "output_type": "error",
     "traceback": [
      "\u001b[1;31m---------------------------------------------------------------------------\u001b[0m",
      "\u001b[1;31mValueError\u001b[0m                                Traceback (most recent call last)",
      "Cell \u001b[1;32mIn [55], line 1\u001b[0m\n\u001b[1;32m----> 1\u001b[0m \u001b[43mm\u001b[49m\u001b[38;5;241;43m.\u001b[39;49m\u001b[43mlearn\u001b[49m\u001b[43m(\u001b[49m\u001b[38;5;124;43mr\u001b[39;49m\u001b[38;5;124;43m\"\u001b[39;49m\u001b[38;5;124;43mC:\u001b[39;49m\u001b[38;5;124;43m\\\u001b[39;49m\u001b[38;5;124;43mUsers\u001b[39;49m\u001b[38;5;124;43m\\\u001b[39;49m\u001b[38;5;124;43mUser\u001b[39;49m\u001b[38;5;124;43m\\\u001b[39;49m\u001b[38;5;124;43mDocuments\u001b[39;49m\u001b[38;5;124;43m\\\u001b[39;49m\u001b[38;5;124;43mGitHub\u001b[39;49m\u001b[38;5;124;43m\\\u001b[39;49m\u001b[38;5;124;43mML_FYP\u001b[39;49m\u001b[38;5;124;43m\\\u001b[39;49m\u001b[38;5;124;43mdataset\u001b[39;49m\u001b[38;5;124;43m\\\u001b[39;49m\u001b[38;5;124;43mnewalarm.dat\u001b[39;49m\u001b[38;5;124;43m\"\u001b[39;49m\u001b[43m)\u001b[49m\n",
      "File \u001b[1;32m~\\anaconda3\\lib\\site-packages\\pygobnilp\\gobnilp.py:3434\u001b[0m, in \u001b[0;36mGobnilp.learn\u001b[1;34m(self, data_source, varnames, header, comments, delimiter, start, end, data_type, score, local_score_fun, k, ls, standardise, arities, palim, alpha, nu, alpha_mu, alpha_omega, starts, local_scores_source, nsols, kbest, mec, consfile, settingsfile, pruning, edge_penalty, plot, abbrev, output_scores, output_stem, output_dag, output_cpdag, output_ext, verbose, gurobi_output, **params)\u001b[0m\n\u001b[0;32m   3431\u001b[0m \u001b[38;5;28;01mif\u001b[39;00m local_scores_source \u001b[38;5;129;01mis\u001b[39;00m \u001b[38;5;28;01mNone\u001b[39;00m:\n\u001b[0;32m   3432\u001b[0m     \u001b[38;5;66;03m# no data yet, so read it in\u001b[39;00m\n\u001b[0;32m   3433\u001b[0m     \u001b[38;5;28;01mif\u001b[39;00m data_type \u001b[38;5;241m==\u001b[39m \u001b[38;5;124m'\u001b[39m\u001b[38;5;124mdiscrete\u001b[39m\u001b[38;5;124m'\u001b[39m:\n\u001b[1;32m-> 3434\u001b[0m         \u001b[38;5;28mself\u001b[39m\u001b[38;5;241m.\u001b[39m_data \u001b[38;5;241m=\u001b[39m \u001b[43mDiscreteData\u001b[49m\u001b[43m(\u001b[49m\u001b[43mdata_source\u001b[49m\u001b[43m,\u001b[49m\u001b[43m \u001b[49m\u001b[43mvarnames\u001b[49m\u001b[38;5;241;43m=\u001b[39;49m\u001b[43mvarnames\u001b[49m\u001b[43m,\u001b[49m\u001b[43m \u001b[49m\u001b[43marities\u001b[49m\u001b[38;5;241;43m=\u001b[39;49m\u001b[43marities\u001b[49m\u001b[43m)\u001b[49m \n\u001b[0;32m   3435\u001b[0m     \u001b[38;5;28;01melif\u001b[39;00m data_type \u001b[38;5;241m==\u001b[39m \u001b[38;5;124m'\u001b[39m\u001b[38;5;124mcontinuous\u001b[39m\u001b[38;5;124m'\u001b[39m:\n\u001b[0;32m   3436\u001b[0m         \u001b[38;5;28mself\u001b[39m\u001b[38;5;241m.\u001b[39m_data \u001b[38;5;241m=\u001b[39m ContinuousData(data_source, varnames\u001b[38;5;241m=\u001b[39mvarnames, header\u001b[38;5;241m=\u001b[39mheader,\n\u001b[0;32m   3437\u001b[0m                                     comments\u001b[38;5;241m=\u001b[39mcomments, delimiter\u001b[38;5;241m=\u001b[39mdelimiter, standardise\u001b[38;5;241m=\u001b[39mstandardise)\n",
      "File \u001b[1;32m~\\anaconda3\\lib\\site-packages\\pygobnilp\\scoring.py:478\u001b[0m, in \u001b[0;36mDiscreteData.__init__\u001b[1;34m(self, data_source, varnames, arities)\u001b[0m\n\u001b[0;32m    476\u001b[0m \u001b[38;5;28;01mfor\u001b[39;00m arity \u001b[38;5;129;01min\u001b[39;00m arities:\n\u001b[0;32m    477\u001b[0m     \u001b[38;5;28;01mif\u001b[39;00m arity \u001b[38;5;241m<\u001b[39m \u001b[38;5;241m2\u001b[39m:\n\u001b[1;32m--> 478\u001b[0m         \u001b[38;5;28;01mraise\u001b[39;00m \u001b[38;5;167;01mValueError\u001b[39;00m(\u001b[38;5;124m\"\u001b[39m\u001b[38;5;124mThis line: \u001b[39m\u001b[38;5;124m'\u001b[39m\u001b[38;5;132;01m{0}\u001b[39;00m\u001b[38;5;124m'\u001b[39m\u001b[38;5;124m is interpreted as giving variable arities but the value \u001b[39m\u001b[38;5;132;01m{1}\u001b[39;00m\u001b[38;5;124m is less than 2.\u001b[39m\u001b[38;5;124m\"\u001b[39m\u001b[38;5;241m.\u001b[39mformat(line,arity))\n\u001b[0;32m    480\u001b[0m \u001b[38;5;66;03m# class whose instances are callable functions 'with memory'\u001b[39;00m\n\u001b[0;32m    481\u001b[0m \u001b[38;5;28;01mclass\u001b[39;00m \u001b[38;5;21;01mConvert\u001b[39;00m:\n",
      "\u001b[1;31mValueError\u001b[0m: This line: '0 2 0 1 2 2 0 1 3 1 3 1 1 1 0 0 0 0 0 0 0 0 1 0 0 0 1 1 1 1 0 1 0 3 0 0 0' is interpreted as giving variable arities but the value 0 is less than 2."
     ]
    }
   ],
   "source": [
    "m.learn(r\"C:\\Users\\User\\Documents\\GitHub\\ML_FYP\\dataset\\alarm_100.dat\")"
   ]
  },
  {
   "cell_type": "code",
   "execution_count": null,
   "id": "92e6ac82",
   "metadata": {},
   "outputs": [],
   "source": [
    "for i,j in false2tuple(df):\n",
    "    print(i,j)"
   ]
  },
  {
   "cell_type": "code",
   "execution_count": null,
   "id": "6fb85684",
   "metadata": {},
   "outputs": [],
   "source": [
    "for i,j in g2tuple(df):\n",
    "    print(i,j)\n",
    "    m.add_forbidden_arrow(i,j)"
   ]
  },
  {
   "cell_type": "code",
   "execution_count": null,
   "id": "c0a86332",
   "metadata": {},
   "outputs": [],
   "source": [
    "m.learn(start='MIP model')"
   ]
  },
  {
   "cell_type": "code",
   "execution_count": null,
   "id": "5e925d79",
   "metadata": {},
   "outputs": [],
   "source": [
    "m."
   ]
  }
 ],
 "metadata": {
  "kernelspec": {
   "display_name": "Python 3 (ipykernel)",
   "language": "python",
   "name": "python3"
  },
  "language_info": {
   "codemirror_mode": {
    "name": "ipython",
    "version": 3
   },
   "file_extension": ".py",
   "mimetype": "text/x-python",
   "name": "python",
   "nbconvert_exporter": "python",
   "pygments_lexer": "ipython3",
   "version": "3.8.8"
  }
 },
 "nbformat": 4,
 "nbformat_minor": 5
}
