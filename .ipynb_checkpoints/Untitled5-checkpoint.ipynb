{
 "cells": [
  {
   "cell_type": "code",
   "execution_count": 42,
   "id": "3772102d",
   "metadata": {},
   "outputs": [],
   "source": [
    "import numpy as np\n",
    "import pandas as pd\n",
    "import matplotlib.pyplot as plt "
   ]
  },
  {
   "cell_type": "markdown",
   "id": "f8a78e01",
   "metadata": {},
   "source": [
    "### this is the personality file"
   ]
  },
  {
   "cell_type": "markdown",
   "id": "ad1da433",
   "metadata": {},
   "source": [
    "### performing reverse-coding on all personaliies"
   ]
  },
  {
   "cell_type": "code",
   "execution_count": 49,
   "id": "f3bc81b8",
   "metadata": {},
   "outputs": [],
   "source": [
    "'''\n",
    "--- personality traits --- \n",
    "E - Extraversion - 1, 6 (R), 11, 16 (R)\n",
    "A - Agreeableness - 2, 7 (R), 12, 17 (R)\n",
    "C - Conscientiousness - 3, 8 (R), 13, 18 (R)\n",
    "N - Neuroticism - 4, 9 (R), 14, 19 (R)\n",
    "O - Openness - 5, 10 (R), 15 (R), 20 (R)\n",
    "--- personality traits --- \n",
    "\n",
    "--- label --- \n",
    "R - Reverse Coding\n",
    "--- label ---\n",
    "\n",
    "--- personality description ---\n",
    "1\tAm the life of the party - E\n",
    "2\tSympathize with others' feelings - A\n",
    "3\tGet chores done right away - C\n",
    "4\tHave frequent mood swings - N\n",
    "5\tHave a vivid imagination - O\n",
    "6\tDon't talk a lot - E (R)\n",
    "7\tAm not interested in other people's problems - A (R)\n",
    "8\tOften forget to put things back in their proper place - C (R)\n",
    "9\tAm relaxed most of the time - N (R)\n",
    "10\tAm not interested in abstract ideas - O (R)\n",
    "11\tTalk to a lot of different people at parties - E\n",
    "12\tFeel others' emotions - A\n",
    "13\tLike order - C\n",
    "14\tGet upset easily - N \n",
    "15\tHave difficulty understanding abstract ideas - O (R)\n",
    "16\tKeep in the background - E (R)\n",
    "17\tAm not really interested in others - A (R)\n",
    "18\tMake a mess of things - C (R)\n",
    "19\tSeldom feel blue - N (R)\n",
    "20\tDo not have a good imagination - O (R)\n",
    "--- personality description --- \n",
    "'''\n",
    "None"
   ]
  },
  {
   "cell_type": "code",
   "execution_count": 50,
   "id": "4d892622",
   "metadata": {},
   "outputs": [
    {
     "data": {
      "text/html": [
       "<div>\n",
       "<style scoped>\n",
       "    .dataframe tbody tr th:only-of-type {\n",
       "        vertical-align: middle;\n",
       "    }\n",
       "\n",
       "    .dataframe tbody tr th {\n",
       "        vertical-align: top;\n",
       "    }\n",
       "\n",
       "    .dataframe thead th {\n",
       "        text-align: right;\n",
       "    }\n",
       "</style>\n",
       "<table border=\"1\" class=\"dataframe\">\n",
       "  <thead>\n",
       "    <tr style=\"text-align: right;\">\n",
       "      <th></th>\n",
       "      <th>personality_question_id</th>\n",
       "      <th>user_id</th>\n",
       "      <th>description</th>\n",
       "    </tr>\n",
       "  </thead>\n",
       "  <tbody>\n",
       "    <tr>\n",
       "      <th>0</th>\n",
       "      <td>1</td>\n",
       "      <td>5</td>\n",
       "      <td>1</td>\n",
       "    </tr>\n",
       "    <tr>\n",
       "      <th>1</th>\n",
       "      <td>2</td>\n",
       "      <td>5</td>\n",
       "      <td>3</td>\n",
       "    </tr>\n",
       "    <tr>\n",
       "      <th>2</th>\n",
       "      <td>3</td>\n",
       "      <td>5</td>\n",
       "      <td>2</td>\n",
       "    </tr>\n",
       "    <tr>\n",
       "      <th>3</th>\n",
       "      <td>4</td>\n",
       "      <td>5</td>\n",
       "      <td>3</td>\n",
       "    </tr>\n",
       "    <tr>\n",
       "      <th>4</th>\n",
       "      <td>5</td>\n",
       "      <td>5</td>\n",
       "      <td>3</td>\n",
       "    </tr>\n",
       "    <tr>\n",
       "      <th>...</th>\n",
       "      <td>...</td>\n",
       "      <td>...</td>\n",
       "      <td>...</td>\n",
       "    </tr>\n",
       "    <tr>\n",
       "      <th>12175</th>\n",
       "      <td>16</td>\n",
       "      <td>1122</td>\n",
       "      <td>2</td>\n",
       "    </tr>\n",
       "    <tr>\n",
       "      <th>12176</th>\n",
       "      <td>17</td>\n",
       "      <td>1122</td>\n",
       "      <td>1</td>\n",
       "    </tr>\n",
       "    <tr>\n",
       "      <th>12177</th>\n",
       "      <td>18</td>\n",
       "      <td>1122</td>\n",
       "      <td>2</td>\n",
       "    </tr>\n",
       "    <tr>\n",
       "      <th>12178</th>\n",
       "      <td>19</td>\n",
       "      <td>1122</td>\n",
       "      <td>5</td>\n",
       "    </tr>\n",
       "    <tr>\n",
       "      <th>12179</th>\n",
       "      <td>20</td>\n",
       "      <td>1122</td>\n",
       "      <td>1</td>\n",
       "    </tr>\n",
       "  </tbody>\n",
       "</table>\n",
       "<p>12180 rows × 3 columns</p>\n",
       "</div>"
      ],
      "text/plain": [
       "       personality_question_id  user_id  description\n",
       "0                            1        5            1\n",
       "1                            2        5            3\n",
       "2                            3        5            2\n",
       "3                            4        5            3\n",
       "4                            5        5            3\n",
       "...                        ...      ...          ...\n",
       "12175                       16     1122            2\n",
       "12176                       17     1122            1\n",
       "12177                       18     1122            2\n",
       "12178                       19     1122            5\n",
       "12179                       20     1122            1\n",
       "\n",
       "[12180 rows x 3 columns]"
      ]
     },
     "execution_count": 50,
     "metadata": {},
     "output_type": "execute_result"
    }
   ],
   "source": [
    "personality_users = pd.read_csv(r'C:\\Users\\User\\Documents\\GitHub\\Project_15_ADS\\dataset\\set2\\personality_questions_users.csv')\n",
    "personality_users = personality_users.drop(['id','created_at'], axis=1)\n",
    "# personality_users = personality_users.query('description > 2')\n",
    "personality_users"
   ]
  },
  {
   "cell_type": "code",
   "execution_count": 51,
   "id": "a9d5c123",
   "metadata": {},
   "outputs": [],
   "source": [
    "personality_id = sorted(set(personality_users['user_id']))"
   ]
  },
  {
   "cell_type": "code",
   "execution_count": 52,
   "id": "4ddba4c4",
   "metadata": {},
   "outputs": [],
   "source": [
    "df_req = pd.read_csv(r'C:\\Users\\User\\Documents\\GitHub\\Project_15_ADS\\dataset\\set2\\requirements.csv')"
   ]
  },
  {
   "cell_type": "code",
   "execution_count": 53,
   "id": "ea58ccdf",
   "metadata": {},
   "outputs": [],
   "source": [
    "list_id = sorted(set(df_req['user_id']))"
   ]
  },
  {
   "cell_type": "code",
   "execution_count": 54,
   "id": "93c1f273",
   "metadata": {},
   "outputs": [],
   "source": [
    "personality_users = personality_users[personality_users['user_id'].isin(list_id)]"
   ]
  },
  {
   "cell_type": "code",
   "execution_count": 55,
   "id": "458e5a14",
   "metadata": {},
   "outputs": [
    {
     "data": {
      "text/html": [
       "<div>\n",
       "<style scoped>\n",
       "    .dataframe tbody tr th:only-of-type {\n",
       "        vertical-align: middle;\n",
       "    }\n",
       "\n",
       "    .dataframe tbody tr th {\n",
       "        vertical-align: top;\n",
       "    }\n",
       "\n",
       "    .dataframe thead th {\n",
       "        text-align: right;\n",
       "    }\n",
       "</style>\n",
       "<table border=\"1\" class=\"dataframe\">\n",
       "  <thead>\n",
       "    <tr style=\"text-align: right;\">\n",
       "      <th></th>\n",
       "      <th>personality_question_id</th>\n",
       "      <th>user_id</th>\n",
       "      <th>description</th>\n",
       "    </tr>\n",
       "  </thead>\n",
       "  <tbody>\n",
       "    <tr>\n",
       "      <th>0</th>\n",
       "      <td>1</td>\n",
       "      <td>5</td>\n",
       "      <td>1</td>\n",
       "    </tr>\n",
       "    <tr>\n",
       "      <th>1</th>\n",
       "      <td>2</td>\n",
       "      <td>5</td>\n",
       "      <td>3</td>\n",
       "    </tr>\n",
       "    <tr>\n",
       "      <th>2</th>\n",
       "      <td>3</td>\n",
       "      <td>5</td>\n",
       "      <td>2</td>\n",
       "    </tr>\n",
       "    <tr>\n",
       "      <th>3</th>\n",
       "      <td>4</td>\n",
       "      <td>5</td>\n",
       "      <td>3</td>\n",
       "    </tr>\n",
       "    <tr>\n",
       "      <th>4</th>\n",
       "      <td>5</td>\n",
       "      <td>5</td>\n",
       "      <td>3</td>\n",
       "    </tr>\n",
       "    <tr>\n",
       "      <th>...</th>\n",
       "      <td>...</td>\n",
       "      <td>...</td>\n",
       "      <td>...</td>\n",
       "    </tr>\n",
       "    <tr>\n",
       "      <th>5995</th>\n",
       "      <td>16</td>\n",
       "      <td>513</td>\n",
       "      <td>2</td>\n",
       "    </tr>\n",
       "    <tr>\n",
       "      <th>5996</th>\n",
       "      <td>17</td>\n",
       "      <td>513</td>\n",
       "      <td>1</td>\n",
       "    </tr>\n",
       "    <tr>\n",
       "      <th>5997</th>\n",
       "      <td>18</td>\n",
       "      <td>513</td>\n",
       "      <td>2</td>\n",
       "    </tr>\n",
       "    <tr>\n",
       "      <th>5998</th>\n",
       "      <td>19</td>\n",
       "      <td>513</td>\n",
       "      <td>4</td>\n",
       "    </tr>\n",
       "    <tr>\n",
       "      <th>5999</th>\n",
       "      <td>20</td>\n",
       "      <td>513</td>\n",
       "      <td>2</td>\n",
       "    </tr>\n",
       "  </tbody>\n",
       "</table>\n",
       "<p>5900 rows × 3 columns</p>\n",
       "</div>"
      ],
      "text/plain": [
       "      personality_question_id  user_id  description\n",
       "0                           1        5            1\n",
       "1                           2        5            3\n",
       "2                           3        5            2\n",
       "3                           4        5            3\n",
       "4                           5        5            3\n",
       "...                       ...      ...          ...\n",
       "5995                       16      513            2\n",
       "5996                       17      513            1\n",
       "5997                       18      513            2\n",
       "5998                       19      513            4\n",
       "5999                       20      513            2\n",
       "\n",
       "[5900 rows x 3 columns]"
      ]
     },
     "execution_count": 55,
     "metadata": {},
     "output_type": "execute_result"
    }
   ],
   "source": [
    "personality_users"
   ]
  },
  {
   "cell_type": "code",
   "execution_count": 56,
   "id": "6789b657",
   "metadata": {},
   "outputs": [],
   "source": [
    "'''\n",
    "reverse_coding\n",
    "9,19 - neuroticisim\n",
    "6, 16 - extraversion\n",
    "10, 15, 20 - openness\n",
    "7, 17 - agreeableness\n",
    "8, 18 - conscientiousness\n",
    "'''\n",
    "reverse_personality = [9, 19, 6, 16, 10, 15, 20, 7, 17, 8, 18] #reverse coding\n",
    "cond = personality_users['personality_question_id'].isin(reverse_personality)"
   ]
  },
  {
   "cell_type": "code",
   "execution_count": 57,
   "id": "e47bd4ee",
   "metadata": {},
   "outputs": [
    {
     "name": "stderr",
     "output_type": "stream",
     "text": [
      "C:\\Users\\User\\AppData\\Local\\Temp\\ipykernel_19116\\3499465082.py:1: SettingWithCopyWarning: \n",
      "A value is trying to be set on a copy of a slice from a DataFrame\n",
      "\n",
      "See the caveats in the documentation: https://pandas.pydata.org/pandas-docs/stable/user_guide/indexing.html#returning-a-view-versus-a-copy\n",
      "  personality_users.loc[cond, 'description'] = 6 - personality_users.loc[cond, 'description']\n"
     ]
    }
   ],
   "source": [
    "personality_users.loc[cond, 'description'] = 6 - personality_users.loc[cond, 'description']"
   ]
  },
  {
   "cell_type": "code",
   "execution_count": 58,
   "id": "0f4bd74a",
   "metadata": {},
   "outputs": [
    {
     "data": {
      "text/html": [
       "<div>\n",
       "<style scoped>\n",
       "    .dataframe tbody tr th:only-of-type {\n",
       "        vertical-align: middle;\n",
       "    }\n",
       "\n",
       "    .dataframe tbody tr th {\n",
       "        vertical-align: top;\n",
       "    }\n",
       "\n",
       "    .dataframe thead th {\n",
       "        text-align: right;\n",
       "    }\n",
       "</style>\n",
       "<table border=\"1\" class=\"dataframe\">\n",
       "  <thead>\n",
       "    <tr style=\"text-align: right;\">\n",
       "      <th></th>\n",
       "      <th>personality_question_id</th>\n",
       "      <th>user_id</th>\n",
       "      <th>description</th>\n",
       "    </tr>\n",
       "  </thead>\n",
       "  <tbody>\n",
       "    <tr>\n",
       "      <th>0</th>\n",
       "      <td>1</td>\n",
       "      <td>5</td>\n",
       "      <td>1</td>\n",
       "    </tr>\n",
       "    <tr>\n",
       "      <th>1</th>\n",
       "      <td>2</td>\n",
       "      <td>5</td>\n",
       "      <td>3</td>\n",
       "    </tr>\n",
       "    <tr>\n",
       "      <th>2</th>\n",
       "      <td>3</td>\n",
       "      <td>5</td>\n",
       "      <td>2</td>\n",
       "    </tr>\n",
       "    <tr>\n",
       "      <th>3</th>\n",
       "      <td>4</td>\n",
       "      <td>5</td>\n",
       "      <td>3</td>\n",
       "    </tr>\n",
       "    <tr>\n",
       "      <th>4</th>\n",
       "      <td>5</td>\n",
       "      <td>5</td>\n",
       "      <td>3</td>\n",
       "    </tr>\n",
       "    <tr>\n",
       "      <th>...</th>\n",
       "      <td>...</td>\n",
       "      <td>...</td>\n",
       "      <td>...</td>\n",
       "    </tr>\n",
       "    <tr>\n",
       "      <th>5995</th>\n",
       "      <td>16</td>\n",
       "      <td>513</td>\n",
       "      <td>4</td>\n",
       "    </tr>\n",
       "    <tr>\n",
       "      <th>5996</th>\n",
       "      <td>17</td>\n",
       "      <td>513</td>\n",
       "      <td>5</td>\n",
       "    </tr>\n",
       "    <tr>\n",
       "      <th>5997</th>\n",
       "      <td>18</td>\n",
       "      <td>513</td>\n",
       "      <td>4</td>\n",
       "    </tr>\n",
       "    <tr>\n",
       "      <th>5998</th>\n",
       "      <td>19</td>\n",
       "      <td>513</td>\n",
       "      <td>2</td>\n",
       "    </tr>\n",
       "    <tr>\n",
       "      <th>5999</th>\n",
       "      <td>20</td>\n",
       "      <td>513</td>\n",
       "      <td>4</td>\n",
       "    </tr>\n",
       "  </tbody>\n",
       "</table>\n",
       "<p>5900 rows × 3 columns</p>\n",
       "</div>"
      ],
      "text/plain": [
       "      personality_question_id  user_id  description\n",
       "0                           1        5            1\n",
       "1                           2        5            3\n",
       "2                           3        5            2\n",
       "3                           4        5            3\n",
       "4                           5        5            3\n",
       "...                       ...      ...          ...\n",
       "5995                       16      513            4\n",
       "5996                       17      513            5\n",
       "5997                       18      513            4\n",
       "5998                       19      513            2\n",
       "5999                       20      513            4\n",
       "\n",
       "[5900 rows x 3 columns]"
      ]
     },
     "execution_count": 58,
     "metadata": {},
     "output_type": "execute_result"
    }
   ],
   "source": [
    "'''\n",
    "this dataframe has been reverse-coded\n",
    "'''\n",
    "personality_users"
   ]
  },
  {
   "cell_type": "code",
   "execution_count": 59,
   "id": "4a7b34b7",
   "metadata": {},
   "outputs": [],
   "source": [
    "reverse_coded_personality_users = personality_users\n"
   ]
  },
  {
   "cell_type": "code",
   "execution_count": 60,
   "id": "8a447e09",
   "metadata": {},
   "outputs": [
    {
     "data": {
      "text/html": [
       "<div>\n",
       "<style scoped>\n",
       "    .dataframe tbody tr th:only-of-type {\n",
       "        vertical-align: middle;\n",
       "    }\n",
       "\n",
       "    .dataframe tbody tr th {\n",
       "        vertical-align: top;\n",
       "    }\n",
       "\n",
       "    .dataframe thead th {\n",
       "        text-align: right;\n",
       "    }\n",
       "</style>\n",
       "<table border=\"1\" class=\"dataframe\">\n",
       "  <thead>\n",
       "    <tr style=\"text-align: right;\">\n",
       "      <th></th>\n",
       "      <th>personality_question_id</th>\n",
       "      <th>user_id</th>\n",
       "      <th>description</th>\n",
       "    </tr>\n",
       "  </thead>\n",
       "  <tbody>\n",
       "    <tr>\n",
       "      <th>0</th>\n",
       "      <td>1</td>\n",
       "      <td>5</td>\n",
       "      <td>1</td>\n",
       "    </tr>\n",
       "    <tr>\n",
       "      <th>1</th>\n",
       "      <td>2</td>\n",
       "      <td>5</td>\n",
       "      <td>3</td>\n",
       "    </tr>\n",
       "    <tr>\n",
       "      <th>2</th>\n",
       "      <td>3</td>\n",
       "      <td>5</td>\n",
       "      <td>2</td>\n",
       "    </tr>\n",
       "    <tr>\n",
       "      <th>3</th>\n",
       "      <td>4</td>\n",
       "      <td>5</td>\n",
       "      <td>3</td>\n",
       "    </tr>\n",
       "    <tr>\n",
       "      <th>4</th>\n",
       "      <td>5</td>\n",
       "      <td>5</td>\n",
       "      <td>3</td>\n",
       "    </tr>\n",
       "    <tr>\n",
       "      <th>...</th>\n",
       "      <td>...</td>\n",
       "      <td>...</td>\n",
       "      <td>...</td>\n",
       "    </tr>\n",
       "    <tr>\n",
       "      <th>5995</th>\n",
       "      <td>16</td>\n",
       "      <td>513</td>\n",
       "      <td>4</td>\n",
       "    </tr>\n",
       "    <tr>\n",
       "      <th>5996</th>\n",
       "      <td>17</td>\n",
       "      <td>513</td>\n",
       "      <td>5</td>\n",
       "    </tr>\n",
       "    <tr>\n",
       "      <th>5997</th>\n",
       "      <td>18</td>\n",
       "      <td>513</td>\n",
       "      <td>4</td>\n",
       "    </tr>\n",
       "    <tr>\n",
       "      <th>5998</th>\n",
       "      <td>19</td>\n",
       "      <td>513</td>\n",
       "      <td>2</td>\n",
       "    </tr>\n",
       "    <tr>\n",
       "      <th>5999</th>\n",
       "      <td>20</td>\n",
       "      <td>513</td>\n",
       "      <td>4</td>\n",
       "    </tr>\n",
       "  </tbody>\n",
       "</table>\n",
       "<p>5900 rows × 3 columns</p>\n",
       "</div>"
      ],
      "text/plain": [
       "      personality_question_id  user_id  description\n",
       "0                           1        5            1\n",
       "1                           2        5            3\n",
       "2                           3        5            2\n",
       "3                           4        5            3\n",
       "4                           5        5            3\n",
       "...                       ...      ...          ...\n",
       "5995                       16      513            4\n",
       "5996                       17      513            5\n",
       "5997                       18      513            4\n",
       "5998                       19      513            2\n",
       "5999                       20      513            4\n",
       "\n",
       "[5900 rows x 3 columns]"
      ]
     },
     "execution_count": 60,
     "metadata": {},
     "output_type": "execute_result"
    }
   ],
   "source": [
    "'''\n",
    "just changed the var name\n",
    "'''\n",
    "reverse_coded_personality_users "
   ]
  },
  {
   "cell_type": "markdown",
   "id": "c2aaf6a4",
   "metadata": {},
   "source": [
    "### tags_2_list ? "
   ]
  },
  {
   "cell_type": "code",
   "execution_count": 61,
   "id": "1d4974a1",
   "metadata": {},
   "outputs": [],
   "source": [
    "# tags_2 = pd.read_csv(r'C:\\Users\\User\\Documents\\GitHub\\Project_15_ADS\\predicting_usefulness\\usefulness_novelty.csv')\n",
    "# tags_2 = tags_2.drop(columns=['requirement_id', 'application_domain', 'novelty', 'usefulness', 'clarity'])\n",
    "# tags_2.reset_index(drop=True)\n",
    "# tags_2_list = sorted(set(tags_2['user_id']))\n",
    "# len(tags_2_list)"
   ]
  },
  {
   "cell_type": "markdown",
   "id": "56b4bc92",
   "metadata": {},
   "source": [
    "### E - Extraversion"
   ]
  },
  {
   "cell_type": "code",
   "execution_count": 64,
   "id": "475bde65",
   "metadata": {},
   "outputs": [],
   "source": [
    "def extraversion():\n",
    "    '''\n",
    "    E - Extraversion - 1, 6 (R), 11, 16 (R)\n",
    "    returns a list of users with extraversion >= 3.0 given the list in requirements.csv\n",
    "    '''\n",
    "    extraversion_list = [1, 6, 11, 16]\n",
    "    extraversion_df = reverse_coded_personality_users.loc[reverse_coded_personality_users['personality_question_id'].isin(extraversion_list)]\n",
    "    ex_mean = []\n",
    "    for i in list_id:\n",
    "        v = extraversion_df.loc[extraversion_df['user_id'] == i]\n",
    "        ex_mean.append(np.mean(v['description']))\n",
    "    ex_df = pd.DataFrame(ex_mean)\n",
    "    ex_df = ex_df.rename(columns={0:'extraversion'})\n",
    "    list_df = pd.DataFrame(list_id)\n",
    "    list_df = list_df.rename(columns={0:'user_id'})\n",
    "    list_df['extraversion'] = ex_df\n",
    "# list_df\n",
    "    extraversion_list = list(list_df.loc[list_df['extraversion'] >= 3.0]['user_id'])\n",
    "    return extraversion_list"
   ]
  },
  {
   "cell_type": "code",
   "execution_count": 76,
   "id": "4c5fc97c",
   "metadata": {},
   "outputs": [
    {
     "data": {
      "text/plain": [
       "139"
      ]
     },
     "execution_count": 76,
     "metadata": {},
     "output_type": "execute_result"
    }
   ],
   "source": [
    "len(extraversion())"
   ]
  },
  {
   "cell_type": "markdown",
   "id": "3178028e",
   "metadata": {},
   "source": [
    "### A - Agreeableness"
   ]
  },
  {
   "cell_type": "code",
   "execution_count": 69,
   "id": "2042ff56",
   "metadata": {},
   "outputs": [],
   "source": [
    "def agreeableness():\n",
    "    '''\n",
    "    A - Agreeableness - 2, 7 (R), 12, 17 (R)\n",
    "    returns a list of users with agreeableness >= 3.0 given the list in requirements.csv\n",
    "    '''\n",
    "    agreeableness_list = [2, 7, 12, 17]\n",
    "    agreeableness_df = reverse_coded_personality_users.loc[reverse_coded_personality_users['personality_question_id'].isin(agreeableness_list)]\n",
    "    ag_mean = []\n",
    "    for i in list_id:\n",
    "        v = agreeableness_df.loc[agreeableness_df['user_id'] == i]\n",
    "        ag_mean.append(np.mean(v['description']))\n",
    "    ag_df = pd.DataFrame(ag_mean)\n",
    "    ag_df = ag_df.rename(columns={0:'agreeableness'})\n",
    "    list_df = pd.DataFrame(list_id)\n",
    "    list_df = list_df.rename(columns={0:'user_id'})\n",
    "    list_df['agreeableness'] = ag_df\n",
    "# list_df\n",
    "    agreeableness_list = list(list_df.loc[list_df['agreeableness'] >= 3.0]['user_id'])\n",
    "    return agreeableness_list"
   ]
  },
  {
   "cell_type": "code",
   "execution_count": 75,
   "id": "938cb52a",
   "metadata": {},
   "outputs": [
    {
     "data": {
      "text/plain": [
       "250"
      ]
     },
     "execution_count": 75,
     "metadata": {},
     "output_type": "execute_result"
    }
   ],
   "source": [
    "len(agreeableness())"
   ]
  },
  {
   "cell_type": "markdown",
   "id": "973984c1",
   "metadata": {},
   "source": [
    "### C - Conscientiousness \n"
   ]
  },
  {
   "cell_type": "code",
   "execution_count": 78,
   "id": "cfd9c7ef",
   "metadata": {},
   "outputs": [],
   "source": [
    "def conscientiousness():\n",
    "    '''\n",
    "    C - Conscientiousness - 3, 8 (R), 13, 18 (R)\n",
    "    returns a list of users with conscientiousness >= 3.0 given the list in requirements.csv\n",
    "    '''\n",
    "    conscientiousness_list = [3, 8, 13, 18]\n",
    "    conscientiousness_df = reverse_coded_personality_users.loc[reverse_coded_personality_users['personality_question_id'].isin(conscientiousness_list)]\n",
    "    co_mean = []\n",
    "    for i in list_id:\n",
    "        v = conscientiousness_df.loc[conscientiousness_df['user_id'] == i]\n",
    "        co_mean.append(np.mean(v['description']))\n",
    "    co_df = pd.DataFrame(co_mean)\n",
    "    co_df = co_df.rename(columns={0:'conscientiousness'})\n",
    "    list_df = pd.DataFrame(list_id)\n",
    "    list_df = list_df.rename(columns={0:'user_id'})\n",
    "    list_df['conscientiousness'] = co_df\n",
    "# list_df\n",
    "    conscientiousness_list = list(list_df.loc[list_df['conscientiousness'] >= 3.0]['user_id'])\n",
    "    return conscientiousness_list\n"
   ]
  },
  {
   "cell_type": "code",
   "execution_count": 74,
   "id": "f552b90d",
   "metadata": {},
   "outputs": [
    {
     "data": {
      "text/plain": [
       "249"
      ]
     },
     "execution_count": 74,
     "metadata": {},
     "output_type": "execute_result"
    }
   ],
   "source": [
    "len(conscientiousness())"
   ]
  },
  {
   "cell_type": "markdown",
   "id": "8c3e9016",
   "metadata": {},
   "source": [
    "### N - Neuroticism\n"
   ]
  },
  {
   "cell_type": "code",
   "execution_count": 79,
   "id": "d58d049d",
   "metadata": {},
   "outputs": [],
   "source": [
    "def neuroticism():\n",
    "    '''\n",
    "    N - Neuroticism - 4, 9 (R), 14, 19 (R)\n",
    "    returns a list of users with neuroticism >= 3.0 given the list in requirements.csv\n",
    "    '''\n",
    "    neuroticism_list = [4, 9, 14, 19]\n",
    "    neuroticism_df = reverse_coded_personality_users.loc[reverse_coded_personality_users['personality_question_id'].isin(neuroticism_list)]\n",
    "    ne_mean = []\n",
    "    for i in list_id:\n",
    "        v = neuroticism_df.loc[neuroticism_df['user_id'] == i]\n",
    "        ne_mean.append(np.mean(v['description']))\n",
    "    ne_df = pd.DataFrame(ne_mean)\n",
    "    ne_df = ne_df.rename(columns={0:'neuroticism'})\n",
    "    list_df = pd.DataFrame(list_id)\n",
    "    list_df = list_df.rename(columns={0:'user_id'})\n",
    "    list_df['neuroticism'] = ne_df\n",
    "# list_df\n",
    "    neuroticism_list = list(list_df.loc[list_df['neuroticism'] >= 3.0]['user_id'])\n",
    "    return neuroticism_list\n"
   ]
  },
  {
   "cell_type": "code",
   "execution_count": 80,
   "id": "596f834d",
   "metadata": {},
   "outputs": [
    {
     "data": {
      "text/plain": [
       "90"
      ]
     },
     "execution_count": 80,
     "metadata": {},
     "output_type": "execute_result"
    }
   ],
   "source": [
    "len(neuroticism())"
   ]
  },
  {
   "cell_type": "markdown",
   "id": "129d8ca6",
   "metadata": {},
   "source": [
    "### O - Openness\n"
   ]
  },
  {
   "cell_type": "code",
   "execution_count": 83,
   "id": "979319a8",
   "metadata": {},
   "outputs": [],
   "source": [
    "def openness():\n",
    "    '''\n",
    "    O - Openness - 5, 10 (R), 15 (R), 20 (R)\n",
    "    returns a list of users with openness >= 3.0 given the list in requirements.csv\n",
    "    '''\n",
    "    openness_list = [5, 10, 15, 20]\n",
    "    openness_df = reverse_coded_personality_users.loc[reverse_coded_personality_users['personality_question_id'].isin(openness_list)]\n",
    "    op_mean = []\n",
    "    for i in list_id:\n",
    "        v = openness_df.loc[openness_df['user_id'] == i]\n",
    "        op_mean.append(np.mean(v['description']))\n",
    "    op_df = pd.DataFrame(op_mean)\n",
    "    op_df = op_df.rename(columns={0:'openness'})\n",
    "    list_df = pd.DataFrame(list_id)\n",
    "    list_df = list_df.rename(columns={0:'user_id'})\n",
    "    list_df['openness'] = op_df\n",
    "# list_df\n",
    "    openness_list = list(list_df.loc[list_df['openness'] >= 3.0]['user_id'])\n",
    "    return openness_list"
   ]
  },
  {
   "cell_type": "code",
   "execution_count": 84,
   "id": "9a15888c",
   "metadata": {},
   "outputs": [
    {
     "data": {
      "text/plain": [
       "270"
      ]
     },
     "execution_count": 84,
     "metadata": {},
     "output_type": "execute_result"
    }
   ],
   "source": [
    "len(openness())"
   ]
  },
  {
   "cell_type": "code",
   "execution_count": null,
   "id": "973a7591",
   "metadata": {},
   "outputs": [],
   "source": []
  }
 ],
 "metadata": {
  "kernelspec": {
   "display_name": "Python 3 (ipykernel)",
   "language": "python",
   "name": "python3"
  },
  "language_info": {
   "codemirror_mode": {
    "name": "ipython",
    "version": 3
   },
   "file_extension": ".py",
   "mimetype": "text/x-python",
   "name": "python",
   "nbconvert_exporter": "python",
   "pygments_lexer": "ipython3",
   "version": "3.8.8"
  }
 },
 "nbformat": 4,
 "nbformat_minor": 5
}
