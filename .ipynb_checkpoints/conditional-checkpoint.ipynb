{
 "cells": [
  {
   "cell_type": "code",
   "execution_count": 1,
   "id": "bbbb924b",
   "metadata": {},
   "outputs": [],
   "source": [
    "import pandas as pd\n",
    "import numpy as np\n",
    "from pygobnilp.gobnilp import Gobnilp\n",
    "import pgmpy\n",
    "import itertools\n",
    "from pgmpy.estimators.CITests import pearsonr\n",
    "from pgmpy.estimators.CITests import chi_square\n",
    "from pgmpy.estimators import PC\n",
    "from pgmpy.base import DAG\n",
    "from pgmpy.independencies import Independencies\n",
    "import time"
   ]
  },
  {
   "cell_type": "code",
   "execution_count": 2,
   "id": "7f25afa9",
   "metadata": {},
   "outputs": [],
   "source": [
    "def csv_format_discrete(csv_file):\n",
    "    df = pd.read_csv(csv_file, sep=\"\\s+\")\n",
    "    return df.drop([0])\n",
    "\n",
    "#returns the csv_file in a pandas dataframe, formatted properly, discrete dataset only"
   ]
  },
  {
   "cell_type": "code",
   "execution_count": 52,
   "id": "0d13a4c9",
   "metadata": {},
   "outputs": [],
   "source": [
    "#small network : n <= 20 nodes, medium network: 20 <= n <= 50 , large: 50 <= n <= 100, ... \n",
    "df_small = csv_format_discrete(r\"C:\\Users\\User\\Documents\\GitHub\\ML_FYP\\dataset\\asia_10000.dat\")\n",
    "df_medium = csv_format_discrete(r\"C:\\Users\\User\\Documents\\GitHub\\ML_FYP\\dataset\\alarm_10000.dat\")\n",
    "# df_large = csv_format_discrete(r\"\")"
   ]
  },
  {
   "cell_type": "markdown",
   "id": "68a3df7c",
   "metadata": {},
   "source": [
    "### chi-squared test"
   ]
  },
  {
   "cell_type": "code",
   "execution_count": 4,
   "id": "b8a2f906",
   "metadata": {},
   "outputs": [
    {
     "data": {
      "text/html": [
       "<div>\n",
       "<style scoped>\n",
       "    .dataframe tbody tr th:only-of-type {\n",
       "        vertical-align: middle;\n",
       "    }\n",
       "\n",
       "    .dataframe tbody tr th {\n",
       "        vertical-align: top;\n",
       "    }\n",
       "\n",
       "    .dataframe thead th {\n",
       "        text-align: right;\n",
       "    }\n",
       "</style>\n",
       "<table border=\"1\" class=\"dataframe\">\n",
       "  <thead>\n",
       "    <tr style=\"text-align: right;\">\n",
       "      <th></th>\n",
       "      <th>One</th>\n",
       "      <th>Two</th>\n",
       "      <th>Three</th>\n",
       "      <th>Four</th>\n",
       "      <th>Five</th>\n",
       "      <th>Six</th>\n",
       "      <th>Seven</th>\n",
       "      <th>Eight</th>\n",
       "    </tr>\n",
       "  </thead>\n",
       "  <tbody>\n",
       "    <tr>\n",
       "      <th>1</th>\n",
       "      <td>1</td>\n",
       "      <td>1</td>\n",
       "      <td>0</td>\n",
       "      <td>0</td>\n",
       "      <td>0</td>\n",
       "      <td>1</td>\n",
       "      <td>0</td>\n",
       "      <td>1</td>\n",
       "    </tr>\n",
       "    <tr>\n",
       "      <th>2</th>\n",
       "      <td>1</td>\n",
       "      <td>0</td>\n",
       "      <td>0</td>\n",
       "      <td>0</td>\n",
       "      <td>0</td>\n",
       "      <td>0</td>\n",
       "      <td>1</td>\n",
       "      <td>0</td>\n",
       "    </tr>\n",
       "    <tr>\n",
       "      <th>3</th>\n",
       "      <td>0</td>\n",
       "      <td>0</td>\n",
       "      <td>1</td>\n",
       "      <td>0</td>\n",
       "      <td>0</td>\n",
       "      <td>0</td>\n",
       "      <td>1</td>\n",
       "      <td>0</td>\n",
       "    </tr>\n",
       "    <tr>\n",
       "      <th>4</th>\n",
       "      <td>1</td>\n",
       "      <td>0</td>\n",
       "      <td>1</td>\n",
       "      <td>0</td>\n",
       "      <td>0</td>\n",
       "      <td>0</td>\n",
       "      <td>1</td>\n",
       "      <td>0</td>\n",
       "    </tr>\n",
       "    <tr>\n",
       "      <th>5</th>\n",
       "      <td>1</td>\n",
       "      <td>0</td>\n",
       "      <td>1</td>\n",
       "      <td>0</td>\n",
       "      <td>0</td>\n",
       "      <td>0</td>\n",
       "      <td>0</td>\n",
       "      <td>1</td>\n",
       "    </tr>\n",
       "    <tr>\n",
       "      <th>...</th>\n",
       "      <td>...</td>\n",
       "      <td>...</td>\n",
       "      <td>...</td>\n",
       "      <td>...</td>\n",
       "      <td>...</td>\n",
       "      <td>...</td>\n",
       "      <td>...</td>\n",
       "      <td>...</td>\n",
       "    </tr>\n",
       "    <tr>\n",
       "      <th>9996</th>\n",
       "      <td>0</td>\n",
       "      <td>0</td>\n",
       "      <td>1</td>\n",
       "      <td>0</td>\n",
       "      <td>0</td>\n",
       "      <td>0</td>\n",
       "      <td>0</td>\n",
       "      <td>0</td>\n",
       "    </tr>\n",
       "    <tr>\n",
       "      <th>9997</th>\n",
       "      <td>1</td>\n",
       "      <td>0</td>\n",
       "      <td>1</td>\n",
       "      <td>0</td>\n",
       "      <td>0</td>\n",
       "      <td>0</td>\n",
       "      <td>1</td>\n",
       "      <td>1</td>\n",
       "    </tr>\n",
       "    <tr>\n",
       "      <th>9998</th>\n",
       "      <td>0</td>\n",
       "      <td>0</td>\n",
       "      <td>0</td>\n",
       "      <td>0</td>\n",
       "      <td>0</td>\n",
       "      <td>0</td>\n",
       "      <td>1</td>\n",
       "      <td>0</td>\n",
       "    </tr>\n",
       "    <tr>\n",
       "      <th>9999</th>\n",
       "      <td>1</td>\n",
       "      <td>0</td>\n",
       "      <td>0</td>\n",
       "      <td>0</td>\n",
       "      <td>0</td>\n",
       "      <td>0</td>\n",
       "      <td>1</td>\n",
       "      <td>0</td>\n",
       "    </tr>\n",
       "    <tr>\n",
       "      <th>10000</th>\n",
       "      <td>1</td>\n",
       "      <td>0</td>\n",
       "      <td>1</td>\n",
       "      <td>0</td>\n",
       "      <td>0</td>\n",
       "      <td>0</td>\n",
       "      <td>1</td>\n",
       "      <td>0</td>\n",
       "    </tr>\n",
       "  </tbody>\n",
       "</table>\n",
       "<p>10000 rows × 8 columns</p>\n",
       "</div>"
      ],
      "text/plain": [
       "       One  Two  Three  Four  Five  Six  Seven  Eight\n",
       "1        1    1      0     0     0    1      0      1\n",
       "2        1    0      0     0     0    0      1      0\n",
       "3        0    0      1     0     0    0      1      0\n",
       "4        1    0      1     0     0    0      1      0\n",
       "5        1    0      1     0     0    0      0      1\n",
       "...    ...  ...    ...   ...   ...  ...    ...    ...\n",
       "9996     0    0      1     0     0    0      0      0\n",
       "9997     1    0      1     0     0    0      1      1\n",
       "9998     0    0      0     0     0    0      1      0\n",
       "9999     1    0      0     0     0    0      1      0\n",
       "10000    1    0      1     0     0    0      1      0\n",
       "\n",
       "[10000 rows x 8 columns]"
      ]
     },
     "execution_count": 4,
     "metadata": {},
     "output_type": "execute_result"
    }
   ],
   "source": [
    "df_small"
   ]
  },
  {
   "cell_type": "code",
   "execution_count": 5,
   "id": "8c08e4eb",
   "metadata": {},
   "outputs": [],
   "source": [
    "#0th order chi2 test\n",
    "def chi2bool(df, rho):\n",
    "    '''\n",
    "    0th order CI test\n",
    "    \n",
    "    Parameters:\n",
    "    df -> pandas dataframe\n",
    "    rho -> significance level, only accept 0 <= rho <= 1.0\n",
    "    '''\n",
    "    chi2 = []\n",
    "    v = list(df)\n",
    "    my_list = list(itertools.combinations(v,2))\n",
    "    y_0, y_1 = [x[0] for x in my_list], [x[1] for x in my_list]\n",
    "    for i,j in zip(y_0, y_1):\n",
    "        chi = chi_square(X=i, Y=j, Z=[], data=df, significance_level=rho)\n",
    "        chi2.append((i,j,chi))\n",
    "    true_0 = [x for x in chi2 if True in x]\n",
    "    false_0 = [x for x in chi2 if False in x]\n",
    "    return true_0, false_0"
   ]
  },
  {
   "cell_type": "markdown",
   "id": "7078434f",
   "metadata": {},
   "source": [
    "### Pearson's Product Moment Correlation Coefficient"
   ]
  },
  {
   "cell_type": "code",
   "execution_count": 6,
   "id": "6d641eaa",
   "metadata": {},
   "outputs": [
    {
     "data": {
      "text/html": [
       "<div>\n",
       "<style scoped>\n",
       "    .dataframe tbody tr th:only-of-type {\n",
       "        vertical-align: middle;\n",
       "    }\n",
       "\n",
       "    .dataframe tbody tr th {\n",
       "        vertical-align: top;\n",
       "    }\n",
       "\n",
       "    .dataframe thead th {\n",
       "        text-align: right;\n",
       "    }\n",
       "</style>\n",
       "<table border=\"1\" class=\"dataframe\">\n",
       "  <thead>\n",
       "    <tr style=\"text-align: right;\">\n",
       "      <th></th>\n",
       "      <th>A</th>\n",
       "      <th>B</th>\n",
       "      <th>C</th>\n",
       "      <th>D</th>\n",
       "      <th>E</th>\n",
       "      <th>F</th>\n",
       "      <th>G</th>\n",
       "    </tr>\n",
       "  </thead>\n",
       "  <tbody>\n",
       "    <tr>\n",
       "      <th>0</th>\n",
       "      <td>1.113083</td>\n",
       "      <td>1.932164</td>\n",
       "      <td>7.074806</td>\n",
       "      <td>8.660411</td>\n",
       "      <td>0.881591</td>\n",
       "      <td>24.719501</td>\n",
       "      <td>9.216382</td>\n",
       "    </tr>\n",
       "    <tr>\n",
       "      <th>1</th>\n",
       "      <td>-0.247948</td>\n",
       "      <td>11.334343</td>\n",
       "      <td>24.347372</td>\n",
       "      <td>23.355432</td>\n",
       "      <td>7.040113</td>\n",
       "      <td>36.812996</td>\n",
       "      <td>3.678833</td>\n",
       "    </tr>\n",
       "    <tr>\n",
       "      <th>2</th>\n",
       "      <td>1.854508</td>\n",
       "      <td>3.032020</td>\n",
       "      <td>11.086473</td>\n",
       "      <td>11.055891</td>\n",
       "      <td>3.834530</td>\n",
       "      <td>22.017182</td>\n",
       "      <td>2.424513</td>\n",
       "    </tr>\n",
       "    <tr>\n",
       "      <th>3</th>\n",
       "      <td>0.833911</td>\n",
       "      <td>3.857970</td>\n",
       "      <td>11.224775</td>\n",
       "      <td>11.937471</td>\n",
       "      <td>1.005624</td>\n",
       "      <td>23.285643</td>\n",
       "      <td>6.085473</td>\n",
       "    </tr>\n",
       "    <tr>\n",
       "      <th>4</th>\n",
       "      <td>0.488614</td>\n",
       "      <td>4.512613</td>\n",
       "      <td>10.000476</td>\n",
       "      <td>12.537179</td>\n",
       "      <td>4.084746</td>\n",
       "      <td>24.537596</td>\n",
       "      <td>5.117575</td>\n",
       "    </tr>\n",
       "    <tr>\n",
       "      <th>...</th>\n",
       "      <td>...</td>\n",
       "      <td>...</td>\n",
       "      <td>...</td>\n",
       "      <td>...</td>\n",
       "      <td>...</td>\n",
       "      <td>...</td>\n",
       "      <td>...</td>\n",
       "    </tr>\n",
       "    <tr>\n",
       "      <th>4995</th>\n",
       "      <td>0.625860</td>\n",
       "      <td>1.587941</td>\n",
       "      <td>5.952431</td>\n",
       "      <td>8.516822</td>\n",
       "      <td>4.894385</td>\n",
       "      <td>16.950123</td>\n",
       "      <td>2.558535</td>\n",
       "    </tr>\n",
       "    <tr>\n",
       "      <th>4996</th>\n",
       "      <td>0.241723</td>\n",
       "      <td>-0.497071</td>\n",
       "      <td>1.695681</td>\n",
       "      <td>5.563204</td>\n",
       "      <td>7.454081</td>\n",
       "      <td>21.165266</td>\n",
       "      <td>4.867241</td>\n",
       "    </tr>\n",
       "    <tr>\n",
       "      <th>4997</th>\n",
       "      <td>2.527720</td>\n",
       "      <td>-2.706339</td>\n",
       "      <td>0.984988</td>\n",
       "      <td>1.597447</td>\n",
       "      <td>3.692427</td>\n",
       "      <td>18.808892</td>\n",
       "      <td>5.598200</td>\n",
       "    </tr>\n",
       "    <tr>\n",
       "      <th>4998</th>\n",
       "      <td>1.484585</td>\n",
       "      <td>1.468603</td>\n",
       "      <td>7.206672</td>\n",
       "      <td>8.486116</td>\n",
       "      <td>2.611856</td>\n",
       "      <td>21.528922</td>\n",
       "      <td>5.106188</td>\n",
       "    </tr>\n",
       "    <tr>\n",
       "      <th>4999</th>\n",
       "      <td>-0.306881</td>\n",
       "      <td>1.783709</td>\n",
       "      <td>4.603075</td>\n",
       "      <td>8.550474</td>\n",
       "      <td>5.044690</td>\n",
       "      <td>23.063591</td>\n",
       "      <td>6.511988</td>\n",
       "    </tr>\n",
       "  </tbody>\n",
       "</table>\n",
       "<p>5000 rows × 7 columns</p>\n",
       "</div>"
      ],
      "text/plain": [
       "             A          B          C          D         E          F         G\n",
       "0     1.113083   1.932164   7.074806   8.660411  0.881591  24.719501  9.216382\n",
       "1    -0.247948  11.334343  24.347372  23.355432  7.040113  36.812996  3.678833\n",
       "2     1.854508   3.032020  11.086473  11.055891  3.834530  22.017182  2.424513\n",
       "3     0.833911   3.857970  11.224775  11.937471  1.005624  23.285643  6.085473\n",
       "4     0.488614   4.512613  10.000476  12.537179  4.084746  24.537596  5.117575\n",
       "...        ...        ...        ...        ...       ...        ...       ...\n",
       "4995  0.625860   1.587941   5.952431   8.516822  4.894385  16.950123  2.558535\n",
       "4996  0.241723  -0.497071   1.695681   5.563204  7.454081  21.165266  4.867241\n",
       "4997  2.527720  -2.706339   0.984988   1.597447  3.692427  18.808892  5.598200\n",
       "4998  1.484585   1.468603   7.206672   8.486116  2.611856  21.528922  5.106188\n",
       "4999 -0.306881   1.783709   4.603075   8.550474  5.044690  23.063591  6.511988\n",
       "\n",
       "[5000 rows x 7 columns]"
      ]
     },
     "execution_count": 6,
     "metadata": {},
     "output_type": "execute_result"
    }
   ],
   "source": [
    "df_gaus = pd.read_csv(r\"C:\\Users\\User\\Documents\\GitHub\\ML_FYP\\dataset\\gaussian.dat\", sep=\"\\s+\")\n",
    "df_gaus"
   ]
  },
  {
   "cell_type": "code",
   "execution_count": 7,
   "id": "e2b8c82f",
   "metadata": {},
   "outputs": [],
   "source": [
    "#0th order chi2 test\n",
    "def PMCC(df, rho):\n",
    "    '''\n",
    "    0th order CI test\n",
    "    \n",
    "    Parameters:\n",
    "    df -> pandas dataframe\n",
    "    rho -> significance level, only accept 0 <= rho <= 1.0\n",
    "    '''\n",
    "    R_list = []\n",
    "    v = list(df)\n",
    "    my_list = list(itertools.combinations(v,2))\n",
    "    y_0, y_1 = [x[0] for x in my_list], [x[1] for x in my_list]\n",
    "    for i,j in zip(y_0, y_1):\n",
    "        R = pearsonr(X=i, Y=j, Z=[], data=df, significance_level=rho)\n",
    "        R_list.append((i,j,R))\n",
    "    true_0 = [x for x in R_list if True in x]\n",
    "    false_0 = [x for x in R_list if False in x]\n",
    "    return true_0, false_0"
   ]
  },
  {
   "cell_type": "markdown",
   "id": "b35f91ef",
   "metadata": {},
   "source": [
    "### Sorting Functions"
   ]
  },
  {
   "cell_type": "code",
   "execution_count": 8,
   "id": "a30070a5",
   "metadata": {},
   "outputs": [],
   "source": [
    "def create_permutations(my_list):\n",
    "    '''\n",
    "    takes in a list, remove extra permutations from the list and only creates a pair of permutations\n",
    "    '''\n",
    "    p_permutations = []\n",
    "    new_list = list(set(tuple(sorted(l[:2])) for l in my_list))\n",
    "    for items in new_list:\n",
    "        new_list_0 = list(itertools.permutations(items[:2],2))[1]\n",
    "        p_permutations.append(new_list_0)\n",
    "    return new_list + p_permutations"
   ]
  },
  {
   "cell_type": "code",
   "execution_count": 9,
   "id": "9b6bc093",
   "metadata": {},
   "outputs": [],
   "source": [
    "#given 2 lists, append them together and remove duplicates\n",
    "def remove_permutations(list_):\n",
    "    '''\n",
    "    returns a sorted list without permutation\n",
    "    '''\n",
    "    return sorted(list(set(tuple(sorted(l[:2])) for l in list_)))"
   ]
  },
  {
   "cell_type": "markdown",
   "id": "c1029a7f",
   "metadata": {},
   "source": [
    "### 1st order CI"
   ]
  },
  {
   "cell_type": "code",
   "execution_count": 10,
   "id": "1c23a629",
   "metadata": {},
   "outputs": [],
   "source": [
    "#1st order CI\n",
    "def cond_1_generate(df, rho):\n",
    "    v = list(df)\n",
    "    p_permutations = list(itertools.permutations(v,3))\n",
    "    order_0 = create_permutations(chi2bool(df, rho)[0])\n",
    "    generated = [x for x in p_permutations if x[:2] not in order_0]\n",
    "    generated_0 = set(tuple(sorted(items[:2])) for items in generated)\n",
    "    generate_return = [x for x in generated if x[:2] in generated_0]\n",
    "    return generate_return"
   ]
  },
  {
   "cell_type": "code",
   "execution_count": 11,
   "id": "82aa2021",
   "metadata": {},
   "outputs": [],
   "source": [
    "def cond_1_test(df, rho):\n",
    "    chi2_data = []\n",
    "    phi = cond_1_generate(df, rho)\n",
    "    for i,j,k in phi:\n",
    "        chi2 = chi_square(X=i, Y=j, Z=[k], data=df, significance_level=rho)\n",
    "        chi2_data.append((i,j,k,chi2))\n",
    "    true_list = [x for x in chi2_data if True in x]\n",
    "    false_list = [x for x in chi2_data if False in x]\n",
    "    return true_list, false_list"
   ]
  },
  {
   "cell_type": "markdown",
   "id": "629fc518",
   "metadata": {},
   "source": [
    "### CONDITIONAL MAIN CODE"
   ]
  },
  {
   "cell_type": "code",
   "execution_count": 12,
   "id": "c6874611",
   "metadata": {},
   "outputs": [],
   "source": [
    "def PC_(df, n, rho):\n",
    "    '''\n",
    "    Note:\n",
    "    This function will start from at least 0th order CI\n",
    "    \n",
    "    Parameters:\n",
    "    df (pandas dataframe)\n",
    "    n an integer, the stopping point of the while loop\n",
    "    rho (the significance level, only accepts values between 0 and 1 inclusive)\n",
    "    \n",
    "    Returns:\n",
    "    A list which contains every independent X and Y\n",
    "    '''\n",
    "    N = 3\n",
    "    v = list(df)\n",
    "    # remove_list = [x for x in p_permute]\n",
    "    remove_list = create_permutations([x[:2] for x in chi2bool(df, rho)[0]])\n",
    "    #x[:2] for 0th order and its permutations, so we can later remove it \n",
    "    empty_list = []\n",
    "    while N <= n:\n",
    "        list_permutations = [x for x in itertools.permutations(v, N) if x[:2] not in remove_list]\n",
    "        p_1, p_2, p_3 = [x[:1] for x in list_permutations], [x[1:2] for x in list_permutations], [x[2:] for x in list_permutations]\n",
    "        for i,j,k in zip(p_1, p_2, p_3):\n",
    "            chi2 = chi_square(X=i[0], Y=j[0], Z=k, data=df, significance_level=rho)\n",
    "            empty_list.append((i[0],j[0],k,chi2))\n",
    "        true_list = create_permutations([x[:2] for x in empty_list if True in x])\n",
    "        #create_permutations ensures only 1 set of permutations of (X,Y) and (Y,X) and removes dupes\n",
    "        remove_list = remove_list + create_permutations(true_list)\n",
    "        remove_list = create_permutations(remove_list)\n",
    "        N += 1\n",
    "        \n",
    "    return remove_permutations(remove_list) #returns 1 set of permutations\n",
    "\n",
    "#ON MEDIUM SIZED NETWORKS:\n",
    "#1st order CI takes 2minutes to run\n",
    "#2nd order CI 9-15minutes to run\n",
    "#nP5 takes ??? minutes to run\n",
    "#nP6 not doable"
   ]
  },
  {
   "cell_type": "markdown",
   "id": "f0297355",
   "metadata": {},
   "source": [
    "### small network"
   ]
  },
  {
   "cell_type": "code",
   "execution_count": 109,
   "id": "c86a9638",
   "metadata": {},
   "outputs": [],
   "source": [
    "k_list = []\n",
    "for i,j in m.adjacency.items():\n",
    "        if j.X == 1.0: #j.X == 1.0 implies there is an edge between the nodes\n",
    "            k_list.append(i)\n",
    "k_list = [list(x) for x in k_list]"
   ]
  },
  {
   "cell_type": "code",
   "execution_count": 157,
   "id": "245c08be",
   "metadata": {},
   "outputs": [
    {
     "data": {
      "text/plain": [
       "[['Eight', 'Six'],\n",
       " ['Eight', 'Three'],\n",
       " ['Five', 'Four'],\n",
       " ['Five', 'Six'],\n",
       " ['Three', 'One'],\n",
       " ['Two', 'One'],\n",
       " ['Six', 'Seven'],\n",
       " ['Six', 'Two']]"
      ]
     },
     "execution_count": 157,
     "metadata": {},
     "output_type": "execute_result"
    }
   ],
   "source": [
    "k_list"
   ]
  },
  {
   "cell_type": "code",
   "execution_count": 156,
   "id": "0ddeeefc",
   "metadata": {},
   "outputs": [
    {
     "name": "stdout",
     "output_type": "stream",
     "text": [
      "0 ['Eight']\n",
      "1 ['Three']\n"
     ]
    }
   ],
   "source": [
    "X_adjacent = []\n",
    "for num in range(2):\n",
    "    t = [k_list[num][num]]\n",
    "    print(num, t)\n",
    "#     X_adjacent.append(t)\n",
    "# X_adjacent\n",
    "#     t = [x for x in k_list[num] if x[0] in (y[0] or y[1] for y in k_list)]"
   ]
  },
  {
   "cell_type": "code",
   "execution_count": 128,
   "id": "35601658",
   "metadata": {},
   "outputs": [
    {
     "data": {
      "text/plain": [
       "[['E', 'S'],\n",
       " ['E', 'T'],\n",
       " ['F', 'F'],\n",
       " ['F', 'S'],\n",
       " ['T', 'O'],\n",
       " ['T', 'O'],\n",
       " ['S', 'S'],\n",
       " ['S', 'T']]"
      ]
     },
     "execution_count": 128,
     "metadata": {},
     "output_type": "execute_result"
    }
   ],
   "source": [
    "X_adjacent"
   ]
  },
  {
   "cell_type": "code",
   "execution_count": null,
   "id": "7a993d7d",
   "metadata": {},
   "outputs": [],
   "source": [
    "V = [x[:2] for x in chi2bool(df_medium, 0.05)[0]]\n",
    "V_0 = [x[0] for x in V]\n",
    "V_1 = [x[1] for x in V]"
   ]
  },
  {
   "cell_type": "code",
   "execution_count": 59,
   "id": "59d25c08",
   "metadata": {},
   "outputs": [
    {
     "name": "stdout",
     "output_type": "stream",
     "text": [
      "Set parameter PreCrush to value 1\n",
      "Set parameter CutPasses to value 100000\n",
      "Set parameter GomoryPasses to value 100000\n",
      "Set parameter MIPFocus to value 2\n",
      "Set parameter ZeroHalfCuts to value 2\n",
      "Set parameter MIPGap to value 0\n",
      "Set parameter MIPGapAbs to value 0\n",
      "**********\n",
      "BN has score -22466.396546491495\n",
      "**********\n",
      "Eight<-Six,Three -4150.291729106073\n",
      "Six<-Five,Two -5.611578690688475\n",
      "Three<- -6901.1493808303785\n",
      "Five<-Four -633.8404777927353\n",
      "Four<- -527.7536882896093\n",
      "One<-Three -6460.081285708176\n",
      "Seven<-Six -1881.452188461728\n",
      "Two<-One -1906.2162176121055\n",
      "**********\n",
      "bnlearn modelstring = \n",
      "[Eight|Six:Three][Six|Five:Two][Three][Five|Four][Four][One|Three][Seven|Six][Two|One]\n",
      "**********\n",
      "CPDAG:\n",
      "Vertices: Eight,Six,Three,Five,Four,One,Seven,Two\n",
      "Six->Eight\n",
      "Six->Seven\n",
      "Three->Eight\n",
      "Three-One\n",
      "Five->Six\n",
      "Four-Five\n",
      "One-Two\n",
      "Two->Six\n",
      "\n"
     ]
    },
    {
     "data": {
      "image/png": "[encoded data removed]",
      "text/plain": [
       "<Figure size 640x480 with 1 Axes>"
      ]
     },
     "metadata": {},
     "output_type": "display_data"
    },
    {
     "name": "stdout",
     "output_type": "stream",
     "text": [
      "CPU times: total: 1.88 s\n",
      "Wall time: 1.16 s\n"
     ]
    }
   ],
   "source": [
    "%%time\n",
    "n = 0\n",
    "N = 1\n",
    "chi_list = []\n",
    "m = Gobnilp()\n",
    "while n < N:\n",
    "    empty_list = []\n",
    "    m.learn(r'C:\\Users\\User\\Documents\\GitHub\\ML_FYP\\dataset\\asia_10000.dat')\n",
    "    for i,j in m.adjacency.items():\n",
    "        if j.X == 1.0: #j.X == 1.0 implies there is an edge between the nodes\n",
    "            empty_list.append(i)\n",
    "    #chi2 test\n",
    "    empty_list = [list(x) for x in empty_list]\n",
    "    phi_0, phi_1 = [x[0] for x in empty_list], [x[1] for x in empty_list]\n",
    "    for i,j in zip(phi_0, phi_1):\n",
    "        chi2 = chi_square(X=i, Y=j, Z=[], data=df_small, significance_level=0.05)\n",
    "        chi_list.append((i,j,chi2))\n",
    "    true_list = [x[:2] for x in chi_list if True in x]\n",
    "    for i,j in true_list:\n",
    "        m.add_obligatory_independence([i],[j])\n",
    "    n += 1"
   ]
  },
  {
   "cell_type": "code",
   "execution_count": 54,
   "id": "a199524c",
   "metadata": {},
   "outputs": [
    {
     "data": {
      "text/plain": [
       "set()"
      ]
     },
     "execution_count": 54,
     "metadata": {},
     "output_type": "execute_result"
    }
   ],
   "source": [
    "phi"
   ]
  },
  {
   "cell_type": "code",
   "execution_count": null,
   "id": "38cc8e1c",
   "metadata": {},
   "outputs": [],
   "source": [
    "n = 0\n",
    "N = 1\n",
    "chi_list = []\n",
    "m = Gobnilp()\n",
    "empty_list = []\n",
    "m.learn(r'C:\\Users\\User\\Documents\\GitHub\\ML_FYP\\dataset\\asia_10000.dat')\n",
    "for i,j in m.adjacency.items():\n",
    "    if j.X == 1.0: #j.X == 1.0 implies there is an edge between the nodes\n",
    "        empty_list.append(i)\n",
    "empty_list = [list(x) for x in empty_list]"
   ]
  },
  {
   "cell_type": "code",
   "execution_count": null,
   "id": "b10b6e91",
   "metadata": {},
   "outputs": [],
   "source": [
    "empty_list"
   ]
  },
  {
   "cell_type": "markdown",
   "id": "e65f8b1a",
   "metadata": {},
   "source": [
    "### medium-sized network"
   ]
  },
  {
   "cell_type": "code",
   "execution_count": null,
   "id": "859ca81f",
   "metadata": {},
   "outputs": [],
   "source": [
    "m_medium = Gobnilp()"
   ]
  },
  {
   "cell_type": "code",
   "execution_count": null,
   "id": "92cc931d",
   "metadata": {},
   "outputs": [],
   "source": [
    "%%time \n",
    "y_medium = PC_(df_medium, 2, 0.05)\n",
    "for i,j in y_medium:\n",
    "        m_medium.add_obligatory_independence([i],[j])"
   ]
  },
  {
   "cell_type": "code",
   "execution_count": null,
   "id": "ad9ced43",
   "metadata": {},
   "outputs": [],
   "source": [
    "%%time\n",
    "# m_medium.learn(r'C:\\Users\\User\\Documents\\GitHub\\ML_FYP\\dataset\\alarm_100.dat')"
   ]
  },
  {
   "cell_type": "code",
   "execution_count": null,
   "id": "21c580d1",
   "metadata": {},
   "outputs": [],
   "source": [
    "%%time\n",
    "m_medium.learn(start='MIP solution')"
   ]
  },
  {
   "cell_type": "code",
   "execution_count": null,
   "id": "34c6f169",
   "metadata": {},
   "outputs": [],
   "source": [
    "m0 = Gobnilp()"
   ]
  },
  {
   "cell_type": "code",
   "execution_count": null,
   "id": "dfad7237",
   "metadata": {},
   "outputs": [],
   "source": [
    "%%time\n",
    "m0.learn(r'C:\\Users\\User\\Documents\\GitHub\\ML_FYP\\dataset\\asia_10000.dat')"
   ]
  },
  {
   "cell_type": "code",
   "execution_count": null,
   "id": "33335a76",
   "metadata": {},
   "outputs": [],
   "source": [
    "%%time\n",
    "m.learn(start='MIP solution', palim=10)"
   ]
  },
  {
   "cell_type": "code",
   "execution_count": null,
   "id": "1230554c",
   "metadata": {},
   "outputs": [],
   "source": [
    "(list(m.forbidden_arrows))"
   ]
  },
  {
   "cell_type": "markdown",
   "id": "377c3cf3",
   "metadata": {},
   "source": [
    "### PC Algorithm"
   ]
  },
  {
   "cell_type": "code",
   "execution_count": null,
   "id": "5002f7a9",
   "metadata": {},
   "outputs": [],
   "source": [
    "c = PC(data=df_small)"
   ]
  },
  {
   "cell_type": "code",
   "execution_count": null,
   "id": "ed628e2f",
   "metadata": {},
   "outputs": [],
   "source": [
    "%%time\n",
    "s = Gobnilp()\n",
    "V = [x[:2] for x in chi2bool(df_medium, 0.01)[0]]\n",
    "V_0 = [x[0] for x in V]\n",
    "V_1 = [x[1] for x in V]\n",
    "for x,y in zip(V_0, V_1):\n",
    "    s.add_obligatory_independence([x], [y])\n",
    "s.learn(r'C:\\Users\\User\\Documents\\GitHub\\ML_FYP\\dataset\\alarm_10000.dat', palim=5)\n",
    "#start 1500"
   ]
  },
  {
   "cell_type": "code",
   "execution_count": null,
   "id": "d1ff1c29",
   "metadata": {},
   "outputs": [],
   "source": [
    "s.forbidden_arrows"
   ]
  },
  {
   "cell_type": "code",
   "execution_count": null,
   "id": "b93bb40b",
   "metadata": {},
   "outputs": [],
   "source": [
    "%%time\n",
    "kprime = Gobnilp()\n",
    "kprime.learn(r'C:\\Users\\User\\Documents\\GitHub\\ML_FYP\\dataset\\asia_10000.dat')"
   ]
  },
  {
   "cell_type": "code",
   "execution_count": null,
   "id": "e5cf7a5a",
   "metadata": {},
   "outputs": [],
   "source": []
  }
 ],
 "metadata": {
  "kernelspec": {
   "display_name": "Python 3 (ipykernel)",
   "language": "python",
   "name": "python3"
  },
  "language_info": {
   "codemirror_mode": {
    "name": "ipython",
    "version": 3
   },
   "file_extension": ".py",
   "mimetype": "text/x-python",
   "name": "python",
   "nbconvert_exporter": "python",
   "pygments_lexer": "ipython3",
   "version": "3.8.8"
  }
 },
 "nbformat": 4,
 "nbformat_minor": 5
}
