{
 "cells": [
  {
   "cell_type": "code",
   "execution_count": 1,
   "id": "bbbb924b",
   "metadata": {},
   "outputs": [],
   "source": [
    "import pandas as pd\n",
    "# from tabulate import tabulate\n",
    "import numpy as np\n",
    "# import bnlearn as bn\n",
    "import pgmpy\n",
    "import itertools\n",
    "from scipy.stats import chi2_contingency #check for independence between 2 variables\n",
    "from scipy.stats import power_divergence\n",
    "from pgmpy.estimators.CITests import independence_match\n",
    "from pgmpy.estimators.CITests import chi_square\n",
    "# from pgmpy.factors.continuous.discretize import BaseDiscretizer"
   ]
  },
  {
   "cell_type": "code",
   "execution_count": 2,
   "id": "7f25afa9",
   "metadata": {},
   "outputs": [],
   "source": [
    "def csv_format_discrete(csv_file):\n",
    "    df = pd.read_csv(csv_file, sep=\"\\s+\")\n",
    "    return df.drop([0])\n",
    "\n",
    "#returns the csv_file in a pandas dataframe, formatted properly, discrete dataset only"
   ]
  },
  {
   "cell_type": "code",
   "execution_count": 3,
   "id": "571bb323",
   "metadata": {},
   "outputs": [],
   "source": [
    "def csv_format_discrete(csv_file):\n",
    "    df = pd.read_csv(csv_file, sep=\"\\s+\")\n",
    "    return df.drop([0])\n"
   ]
  },
  {
   "cell_type": "code",
   "execution_count": 4,
   "id": "a6f215f5",
   "metadata": {},
   "outputs": [],
   "source": [
    "def gaussian_reader(csv_file):\n",
    "    df = pd.read_csv(csv_file, sep=\"\\s+\")\n",
    "    return df"
   ]
  },
  {
   "cell_type": "code",
   "execution_count": 5,
   "id": "8c08e4eb",
   "metadata": {},
   "outputs": [],
   "source": [
    "#how do we measure the consistensy\n",
    "def chi2bool(df):\n",
    "#returns a tuple(chi2, p_value, dof) if boolean = false\n",
    "#the null hypothesis is that they are independent of each other\n",
    "#if true, the p_value is higher than the significance test, we do not reject the null hypothesis\n",
    "#if false, the p_value is lower than the significance test, we reject the null hypothesis\n",
    "    v = list(df)\n",
    "    empty = []\n",
    "    empty_1 = []\n",
    "    empty_2 = []\n",
    "    empty_3 = []\n",
    "    empty_4 = []\n",
    "    itertools_combinations = list(itertools.combinations(v, 2)) #finds every possible combination of list(df)\n",
    "    for i in itertools_combinations:\n",
    "        empty_1.append(i[0])\n",
    "        empty_2.append(i[1])\n",
    "        \n",
    "    total_number_of_combinations = len(empty_1)\n",
    "    \n",
    "    for t in range(len(itertools_combinations)):\n",
    "        empty.append(itertools_combinations[t])\n",
    "        \n",
    "    for value in range(len(empty_1)):\n",
    "        empty_3.append(value)\n",
    "        \n",
    "    for x,y,i,j in zip(empty_1, empty_2, empty, empty_3):\n",
    "        chisquare = chi_square(X=x, Y=y, Z=[], data=df, significance_level=0.05, boolean=True) #returns chi, p_value, dof\n",
    "        empty_4.append([j, i , chisquare])\n",
    "        \n",
    "    return empty_4"
   ]
  },
  {
   "cell_type": "code",
   "execution_count": 6,
   "id": "341d0353",
   "metadata": {},
   "outputs": [],
   "source": [
    "def chi2val(df):\n",
    "#returns a tuple(chi2, p_value, dof) if boolean = false\n",
    "#the null hypothesis is that they are independent of each other\n",
    "#if true, the p_value is higher than the significance test, we do not reject the null hypothesis\n",
    "#if false, the p_value is lower than the significance test, we reject the null hypothesis\n",
    "    v = list(df)\n",
    "    empty = []\n",
    "    empty_1 = []\n",
    "    empty_2 = []\n",
    "    empty_3 = []\n",
    "    empty_4 = []\n",
    "    itertools_combinations = list(itertools.combinations(v, 2)) #finds every possible combination of list(df)\n",
    "    for i in itertools_combinations:\n",
    "        empty_1.append(i[0])\n",
    "        empty_2.append(i[1])\n",
    "        \n",
    "    total_number_of_combinations = len(empty_1)\n",
    "    \n",
    "    for t in range(len(itertools_combinations)):\n",
    "        empty.append(itertools_combinations[t])\n",
    "        \n",
    "    for value in range(len(empty_1)):\n",
    "        empty_3.append(value)\n",
    "        \n",
    "    for x,y,i,j in zip(empty_1, empty_2, empty, empty_3):\n",
    "        chisquare = chi_square(X=x, Y=y, Z=[], data=df, significance_level=0.05, boolean=False) #returns chi, p_value, dof\n",
    "        empty_4.append([j, i , chisquare])\n",
    "        \n",
    "    return empty_4\n"
   ]
  },
  {
   "cell_type": "code",
   "execution_count": null,
   "id": "8dcc78fc",
   "metadata": {},
   "outputs": [],
   "source": []
  },
  {
   "cell_type": "code",
   "execution_count": 1,
   "id": "19fbb7b0",
   "metadata": {},
   "outputs": [],
   "source": [
    "# def g2bool(df):\n",
    "    "
   ]
  },
  {
   "cell_type": "code",
   "execution_count": null,
   "id": "84bb6fb8",
   "metadata": {},
   "outputs": [],
   "source": [
    "def ind2bool(df):\n",
    "#returns a tuple(chi2, p_value, dof) if boolean = false\n",
    "#the null hypothesis is that they are independent of each other\n",
    "#if true, the p_value is higher than the significance test, we do not reject the null hypothesis\n",
    "#if false, the p_value is lower than the significance test, we reject the null hypothesis\n",
    "    v = list(df)\n",
    "    empty = []\n",
    "    empty_1 = []\n",
    "    empty_2 = []\n",
    "    empty_3 = []\n",
    "    empty_4 = []\n",
    "    itertools_combinations = list(itertools.combinations(v, 2)) #finds every possible combination of list(df)\n",
    "    for i in itertools_combinations:\n",
    "        empty_1.append(i[0])\n",
    "        empty_2.append(i[1])\n",
    "        \n",
    "    total_number_of_combinations = len(empty_1)\n",
    "    \n",
    "    for t in range(len(itertools_combinations)):\n",
    "        empty.append(itertools_combinations[t])\n",
    "        \n",
    "    for value in range(len(empty_1)):\n",
    "        empty_3.append(value)\n",
    "        \n",
    "    for x,y,i,j in zip(empty_1, empty_2, empty, empty_3):\n",
    "        ind_match = independence_match(X=x, Y=y, Z=[], data=df) \n",
    "        empty_4.append([j, i , ind_match])\n",
    "        \n",
    "    return empty_4"
   ]
  },
  {
   "cell_type": "code",
   "execution_count": null,
   "id": "6a876f12",
   "metadata": {},
   "outputs": [],
   "source": [
    "def chi2return(df):\n",
    "    #just a sorting function\n",
    "    true_list = []\n",
    "    false_list = []\n",
    "    chi2 = chi2bool(df)\n",
    "    for i in chi2:\n",
    "        if True in i:\n",
    "            true_list.append(i)\n",
    "        if False in i:\n",
    "            false_list.append(i)\n",
    "    return true_list , false_list"
   ]
  },
  {
   "cell_type": "code",
   "execution_count": null,
   "id": "2794bcdb",
   "metadata": {},
   "outputs": [],
   "source": []
  }
 ],
 "metadata": {
  "kernelspec": {
   "display_name": "Python 3 (ipykernel)",
   "language": "python",
   "name": "python3"
  },
  "language_info": {
   "codemirror_mode": {
    "name": "ipython",
    "version": 3
   },
   "file_extension": ".py",
   "mimetype": "text/x-python",
   "name": "python",
   "nbconvert_exporter": "python",
   "pygments_lexer": "ipython3",
   "version": "3.8.8"
  }
 },
 "nbformat": 4,
 "nbformat_minor": 5
}
