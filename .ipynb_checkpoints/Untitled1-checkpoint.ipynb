{
 "cells": [
  {
   "cell_type": "code",
   "execution_count": 2,
   "id": "6de7f666",
   "metadata": {},
   "outputs": [
    {
     "ename": "SyntaxError",
     "evalue": "invalid syntax (conditional.py, line 78)",
     "output_type": "error",
     "traceback": [
      "Traceback \u001b[1;36m(most recent call last)\u001b[0m:\n",
      "\u001b[0m  File \u001b[0;32m~\\anaconda3\\lib\\site-packages\\IPython\\core\\interactiveshell.py:3433\u001b[0m in \u001b[0;35mrun_code\u001b[0m\n    exec(code_obj, self.user_global_ns, self.user_ns)\u001b[0m\n",
      "\u001b[1;36m  Cell \u001b[1;32mIn [2], line 1\u001b[1;36m\n\u001b[1;33m    from conditional import chi_square_CI\u001b[1;36m\n",
      "\u001b[1;36m  File \u001b[1;32m~\\Documents\\GitHub\\ML_FYP\\conditional.py:78\u001b[1;36m\u001b[0m\n\u001b[1;33m    <<<<<<< HEAD\u001b[0m\n\u001b[1;37m    ^\u001b[0m\n\u001b[1;31mSyntaxError\u001b[0m\u001b[1;31m:\u001b[0m invalid syntax\n"
     ]
    }
   ],
   "source": [
    "from conditional import chi_square_CI\n",
    "from conditional import csv_format_discrete\n",
    "import pandas as pd"
   ]
  },
  {
   "cell_type": "code",
   "execution_count": 3,
   "id": "020a4666",
   "metadata": {},
   "outputs": [
    {
     "ename": "NameError",
     "evalue": "name 'csv_format_discrete' is not defined",
     "output_type": "error",
     "traceback": [
      "\u001b[1;31m---------------------------------------------------------------------------\u001b[0m",
      "\u001b[1;31mNameError\u001b[0m                                 Traceback (most recent call last)",
      "Cell \u001b[1;32mIn [3], line 1\u001b[0m\n\u001b[1;32m----> 1\u001b[0m df \u001b[38;5;241m=\u001b[39m \u001b[43mcsv_format_discrete\u001b[49m(\u001b[38;5;124mr\u001b[39m\u001b[38;5;124m'\u001b[39m\u001b[38;5;124mC:\u001b[39m\u001b[38;5;124m\\\u001b[39m\u001b[38;5;124mUsers\u001b[39m\u001b[38;5;124m\\\u001b[39m\u001b[38;5;124mUser\u001b[39m\u001b[38;5;124m\\\u001b[39m\u001b[38;5;124mDocuments\u001b[39m\u001b[38;5;124m\\\u001b[39m\u001b[38;5;124mGitHub\u001b[39m\u001b[38;5;124m\\\u001b[39m\u001b[38;5;124mML_FYP\u001b[39m\u001b[38;5;124m\\\u001b[39m\u001b[38;5;124mdataset\u001b[39m\u001b[38;5;124m\\\u001b[39m\u001b[38;5;124mtest_2.dat\u001b[39m\u001b[38;5;124m'\u001b[39m)\n",
      "\u001b[1;31mNameError\u001b[0m: name 'csv_format_discrete' is not defined"
     ]
    }
   ],
   "source": [
    "df = csv_format_discrete(r'C:\\Users\\User\\Documents\\GitHub\\ML_FYP\\dataset\\test_2.dat')"
   ]
  },
  {
   "cell_type": "code",
   "execution_count": 4,
   "id": "9167f452",
   "metadata": {},
   "outputs": [
    {
     "ename": "NameError",
     "evalue": "name 'df' is not defined",
     "output_type": "error",
     "traceback": [
      "\u001b[1;31m---------------------------------------------------------------------------\u001b[0m",
      "\u001b[1;31mNameError\u001b[0m                                 Traceback (most recent call last)",
      "Cell \u001b[1;32mIn [4], line 1\u001b[0m\n\u001b[1;32m----> 1\u001b[0m \u001b[43mdf\u001b[49m\n",
      "\u001b[1;31mNameError\u001b[0m: name 'df' is not defined"
     ]
    }
   ],
   "source": [
    "df"
   ]
  },
  {
   "cell_type": "code",
   "execution_count": 31,
   "id": "6d8dabd9",
   "metadata": {},
   "outputs": [
    {
     "data": {
      "text/plain": [
       "[[0, [('0', '1'), (0.0, 1.0, 0)]],\n",
       " [1, [('0', '2'), (0.0, 1.0, 0)]],\n",
       " [2, [('1', '2'), (42.000000000000014, 0.226962832847802, 36)]]]"
      ]
     },
     "execution_count": 31,
     "metadata": {},
     "output_type": "execute_result"
    }
   ],
   "source": [
    "chi_square_CI(df)\n"
   ]
  },
  {
   "cell_type": "code",
   "execution_count": 32,
   "id": "92ab0ca1",
   "metadata": {},
   "outputs": [],
   "source": [
    "#constraint based algorithms - PC , GS, Inter-IAMB"
   ]
  },
  {
   "cell_type": "code",
   "execution_count": null,
   "id": "c2b2f302",
   "metadata": {},
   "outputs": [],
   "source": []
  },
  {
   "cell_type": "code",
   "execution_count": 33,
   "id": "8a85c6c9",
   "metadata": {},
   "outputs": [
    {
     "data": {
      "text/plain": [
       "[[0, [('0', '1'), (0.0, 1.0, 0)]],\n",
       " [1, [('0', '2'), (0.0, 1.0, 0)]],\n",
       " [2, [('1', '2'), (42.000000000000014, 0.226962832847802, 36)]]]"
      ]
     },
     "execution_count": 33,
     "metadata": {},
     "output_type": "execute_result"
    }
   ],
   "source": [
    "chi_square_CI(df)"
   ]
  },
  {
   "cell_type": "code",
   "execution_count": null,
   "id": "86daf33c",
   "metadata": {},
   "outputs": [],
   "source": []
  },
  {
   "cell_type": "code",
   "execution_count": null,
   "id": "44883fbe",
   "metadata": {},
   "outputs": [],
   "source": []
  }
 ],
 "metadata": {
  "kernelspec": {
   "display_name": "Python 3 (ipykernel)",
   "language": "python",
   "name": "python3"
  },
  "language_info": {
   "codemirror_mode": {
    "name": "ipython",
    "version": 3
   },
   "file_extension": ".py",
   "mimetype": "text/x-python",
   "name": "python",
   "nbconvert_exporter": "python",
   "pygments_lexer": "ipython3",
   "version": "3.8.8"
  }
 },
 "nbformat": 4,
 "nbformat_minor": 5
}
