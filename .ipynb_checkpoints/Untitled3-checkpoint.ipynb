{
 "cells": [
  {
   "cell_type": "code",
   "execution_count": 239,
   "id": "99d25821",
   "metadata": {},
   "outputs": [],
   "source": [
    "import pandas as pd\n",
    "import numpy as np\n",
    "from pygobnilp.gobnilp import Gobnilp\n",
    "import pgmpy\n",
    "import itertools\n",
    "from pgmpy.estimators.CITests import pearsonr\n",
    "from pgmpy.estimators.CITests import chi_square\n",
    "import networkx as nx\n",
    "import time\n",
    "import collections"
   ]
  },
  {
   "cell_type": "code",
   "execution_count": 240,
   "id": "3945513d",
   "metadata": {},
   "outputs": [],
   "source": [
    "df = pd.read_csv(r'C:\\Users\\User\\Documents\\GitHub\\ML_FYP\\dataset\\FORMED_DATA.csv')\n"
   ]
  },
  {
   "cell_type": "code",
   "execution_count": 241,
   "id": "8208a888",
   "metadata": {},
   "outputs": [
    {
     "name": "stdout",
     "output_type": "stream",
     "text": [
      "{'3to5', '9to10', '6to8', '<3', '11+'}\n"
     ]
    }
   ],
   "source": [
    "'''\n",
    "PCLRfacet3\n",
    "'''\n",
    "print(set(df['PCLRfacet3']))\n",
    "dict_PCLRfacet3 = {'<3': 0, '3to5': 1, '6to8': 2, '9to10': 3, '11+' : 4}\n",
    "df['PCLRfacet3'] = df['PCLRfacet3'].replace(dict_PCLRfacet3)"
   ]
  },
  {
   "cell_type": "code",
   "execution_count": 242,
   "id": "23b1ffec",
   "metadata": {},
   "outputs": [
    {
     "name": "stdout",
     "output_type": "stream",
     "text": [
      "{'Low', 'High'}\n"
     ]
    }
   ],
   "source": [
    "'''\n",
    "AbilityToCope\n",
    "'''\n",
    "print(set(df['AbilityToCope']))\n",
    "dict_AbilityToCope = {'Low': 0, 'High': 1}\n",
    "df['AbilityToCope'] = df['AbilityToCope'].replace(dict_AbilityToCope)"
   ]
  },
  {
   "cell_type": "code",
   "execution_count": 243,
   "id": "8205d3bf",
   "metadata": {},
   "outputs": [
    {
     "name": "stdout",
     "output_type": "stream",
     "text": [
      "{'Yes', 'No'}\n"
     ]
    }
   ],
   "source": [
    "'''\n",
    "Stress\n",
    "'''\n",
    "print(set(df['Stress']))\n",
    "dict_Stress = {'No': 0, 'Yes': 1}\n",
    "df['Stress'] = df['Stress'].replace(dict_Stress)"
   ]
  },
  {
   "cell_type": "code",
   "execution_count": 244,
   "id": "6367052a",
   "metadata": {},
   "outputs": [
    {
     "name": "stdout",
     "output_type": "stream",
     "text": [
      "{'Yes', 'No'}\n"
     ]
    }
   ],
   "source": [
    "'''\n",
    "ProblematicLifeEvents\n",
    "'''\n",
    "print(set(df['ProblematicLifeEvents']))\n",
    "dict_ProblematicLifeEvents = {'No': 0, 'Yes': 1}\n",
    "df['ProblematicLifeEvents'] = df['ProblematicLifeEvents'].replace(dict_ProblematicLifeEvents)"
   ]
  },
  {
   "cell_type": "code",
   "execution_count": 245,
   "id": "4bf12b66",
   "metadata": {},
   "outputs": [
    {
     "name": "stdout",
     "output_type": "stream",
     "text": [
      "{'Yes', 'No'}\n"
     ]
    }
   ],
   "source": [
    "'''\n",
    "Victimisation\n",
    "'''\n",
    "print(set(df['Victimisation']))\n",
    "dict_Victimisation = {'No': 0, 'Yes': 1}\n",
    "df['Victimisation'] = df['Victimisation'].replace(dict_Victimisation)"
   ]
  },
  {
   "cell_type": "code",
   "execution_count": 246,
   "id": "76b70ab3",
   "metadata": {},
   "outputs": [
    {
     "name": "stdout",
     "output_type": "stream",
     "text": [
      "{'Yes', 'No'}\n"
     ]
    }
   ],
   "source": [
    "'''\n",
    "ViolentThoughts\n",
    "'''\n",
    "print(set(df['ViolentThoughts']))\n",
    "dict_ViolentThoughts = {'No': 0, 'Yes': 1}\n",
    "df['ViolentThoughts'] = df['ViolentThoughts'].replace(dict_ViolentThoughts)"
   ]
  },
  {
   "cell_type": "code",
   "execution_count": 247,
   "id": "095b0b9a",
   "metadata": {},
   "outputs": [
    {
     "name": "stdout",
     "output_type": "stream",
     "text": [
      "{'Yes', 'Partly', 'No'}\n"
     ]
    }
   ],
   "source": [
    "'''\n",
    "Impulsivity\n",
    "'''\n",
    "print(set(df['Impulsivity']))\n",
    "dict_Impulsivity = {'No': 0, 'Partly' : 1, 'Yes': 2}\n",
    "df['Impulsivity'] = df['Impulsivity'].replace(dict_Impulsivity)"
   ]
  },
  {
   "cell_type": "code",
   "execution_count": 248,
   "id": "c7d4565a",
   "metadata": {},
   "outputs": [
    {
     "name": "stdout",
     "output_type": "stream",
     "text": [
      "{'Yes', 'No'}\n"
     ]
    }
   ],
   "source": [
    "'''\n",
    "BPD\n",
    "'''\n",
    "print(set(df['BPD']))\n",
    "dict_BPD = {'No': 0, 'Yes': 1}\n",
    "df['BPD'] = df['BPD'].replace(dict_BPD)"
   ]
  },
  {
   "cell_type": "code",
   "execution_count": 249,
   "id": "fb360a49",
   "metadata": {},
   "outputs": [
    {
     "name": "stdout",
     "output_type": "stream",
     "text": [
      "{'Yes', 'No'}\n"
     ]
    }
   ],
   "source": [
    "'''\n",
    "AbuseNeglectAsChild\n",
    "'''\n",
    "print(set(df['AbuseNeglectAsChild']))\n",
    "dict_AbuseNeglectAsChild = {'No': 0, 'Yes': 1}\n",
    "df['AbuseNeglectAsChild'] = df['AbuseNeglectAsChild'].replace(dict_AbuseNeglectAsChild)"
   ]
  },
  {
   "cell_type": "code",
   "execution_count": 250,
   "id": "6b778fc3",
   "metadata": {},
   "outputs": [
    {
     "name": "stdout",
     "output_type": "stream",
     "text": [
      "{'5to9', '10to14', '<5', '15-18'}\n"
     ]
    }
   ],
   "source": [
    "'''\n",
    "PCLRfactor2\n",
    "'''\n",
    "print(set(df['PCLRfactor2']))\n",
    "dict_PCLRfactor2 = {'<5' : 0, '5to9' : 1, '10to14' : 2, '15-18' : 3}\n",
    "df['PCLRfactor2'] = df['PCLRfactor2'].replace(dict_PCLRfactor2)"
   ]
  },
  {
   "cell_type": "code",
   "execution_count": 294,
   "id": "120f3cd2",
   "metadata": {},
   "outputs": [
    {
     "name": "stdout",
     "output_type": "stream",
     "text": [
      "{0, 1, 2}\n"
     ]
    }
   ],
   "source": [
    "'''\n",
    "prioracq\n",
    "'''\n",
    "print(set(df['prioracq']))\n",
    "dict_prioracq = {'0to2' : 0, '3to12' : 1, '13+' : 2}\n",
    "df['prioracq'] = df['prioracq'].replace(dict_prioracq)\n"
   ]
  },
  {
   "cell_type": "code",
   "execution_count": 252,
   "id": "66b87528",
   "metadata": {},
   "outputs": [
    {
     "name": "stdout",
     "output_type": "stream",
     "text": [
      "{'Yes', 'No'}\n"
     ]
    }
   ],
   "source": [
    "'''\n",
    "ASPD\n",
    "'''\n",
    "print(set(df['ASPD']))\n",
    "dict_ASPD = {'No': 0, 'Yes': 1}\n",
    "df['ASPD'] = df['ASPD'].replace(dict_ASPD)"
   ]
  },
  {
   "cell_type": "code",
   "execution_count": 253,
   "id": "ed2fe493",
   "metadata": {},
   "outputs": [
    {
     "name": "stdout",
     "output_type": "stream",
     "text": [
      "{'Yes', 'No'}\n"
     ]
    }
   ],
   "source": [
    "'''\n",
    "CriminalNetwork\n",
    "'''\n",
    "print(set(df['CriminalNetwork']))\n",
    "dict_CriminalNetwork = {'No': 0, 'Yes': 1}\n",
    "df['CriminalNetwork'] = df['CriminalNetwork'].replace(dict_CriminalNetwork)"
   ]
  },
  {
   "cell_type": "code",
   "execution_count": 254,
   "id": "e07248cd",
   "metadata": {},
   "outputs": [
    {
     "name": "stdout",
     "output_type": "stream",
     "text": [
      "{'22-25', '40-49', '30-34', '26-29', '50-59', '*', '20-21', '18-19', '35-39', '60+'}\n"
     ]
    }
   ],
   "source": [
    "'''\n",
    "Age\n",
    "'''\n",
    "print(set(df['Age']))\n",
    "dict_Age = {'*' : 0, '18-19' : 1, '20-21': 2, '22-25' : 3, '26-29' : 4, '30-34' : 5, '35-39' : 6, '40-49' : 7, '50-59' : 8, '60+' : 9}\n",
    "df['Age'] = df['Age'].replace(dict_Age)"
   ]
  },
  {
   "cell_type": "code",
   "execution_count": 255,
   "id": "69042bef",
   "metadata": {},
   "outputs": [
    {
     "name": "stdout",
     "output_type": "stream",
     "text": [
      "{'Male', 'Female'}\n"
     ]
    }
   ],
   "source": [
    "'''\n",
    "Gender\n",
    "'''\n",
    "print(set(df['Gender']))\n",
    "dict_Gender = {'Male': 0, 'Female': 1}\n",
    "df['Gender'] = df['Gender'].replace(dict_Gender)"
   ]
  },
  {
   "cell_type": "code",
   "execution_count": 256,
   "id": "de9ca00b",
   "metadata": {},
   "outputs": [
    {
     "name": "stdout",
     "output_type": "stream",
     "text": [
      "{'None', '2to5', 'One', '6+'}\n"
     ]
    }
   ],
   "source": [
    "'''\n",
    "PriorViolentConvictions\n",
    "'''\n",
    "print(set(df['PriorViolentConvictions']))\n",
    "dict_PVC = {'None' : 0, 'One' : 1, '2to5': 2, '6+' : 3}\n",
    "df['PriorViolentConvictions'] = df['PriorViolentConvictions'].replace(dict_PVC)"
   ]
  },
  {
   "cell_type": "code",
   "execution_count": 257,
   "id": "cc38a36d",
   "metadata": {},
   "outputs": [
    {
     "name": "stdout",
     "output_type": "stream",
     "text": [
      "{'27+', '17to26', '0to9', '10to16'}\n"
     ]
    }
   ],
   "source": [
    "'''\n",
    "pclrscore\n",
    "'''\n",
    "print(set(df['pclrscore']))\n",
    "dict_pclrscore = {'0to9' : 0, '10to16' : 1, '17to26': 2, '27+' : 3}\n",
    "df['pclrscore'] = df['pclrscore'].replace(dict_pclrscore)\n"
   ]
  },
  {
   "cell_type": "code",
   "execution_count": 258,
   "id": "755f22f3",
   "metadata": {},
   "outputs": [
    {
     "name": "stdout",
     "output_type": "stream",
     "text": [
      "{'2-2.6kd', '1-1.5kd', '<1kd', '1.5-2kd'}\n"
     ]
    }
   ],
   "source": [
    "'''\n",
    "TimeAtRisk\n",
    "'''\n",
    "print(set(df['TimeAtRisk']))\n",
    "dict_TimeAtRisk = {'<1kd' : 0, '1-1.5kd' : 1, '1.5-2kd' : 2, '2-2.6kd' : 3}\n",
    "df['TimeAtRisk'] = df['TimeAtRisk'].replace(dict_TimeAtRisk)"
   ]
  },
  {
   "cell_type": "code",
   "execution_count": 259,
   "id": "602e8211",
   "metadata": {},
   "outputs": [
    {
     "name": "stdout",
     "output_type": "stream",
     "text": [
      "{'Yes', 'No'}\n"
     ]
    }
   ],
   "source": [
    "'''\n",
    "CriminalFamilyBackground\n",
    "'''\n",
    "print(set(df['CriminalFamilyBackground']))\n",
    "dict_CriminalFamilyBackground = {'No': 0, 'Yes': 1}\n",
    "df['CriminalFamilyBackground'] = df['CriminalFamilyBackground'].replace(dict_CriminalFamilyBackground)"
   ]
  },
  {
   "cell_type": "code",
   "execution_count": 260,
   "id": "0d494053",
   "metadata": {},
   "outputs": [
    {
     "name": "stdout",
     "output_type": "stream",
     "text": [
      "{\"A'Level+\", \"GCSE/O'Level\", 'No', 'Other'}\n"
     ]
    }
   ],
   "source": [
    "'''\n",
    "Education\n",
    "'''\n",
    "print(set(df['Education']))\n",
    "dict_Education = {\"No\" : 0, \"GCSE/O'Level\" : 1, \"A'Level+\" : 2, 'Other' : 3}\n",
    "df['Education'] = df['Education'].replace(dict_Education)"
   ]
  },
  {
   "cell_type": "code",
   "execution_count": 261,
   "id": "ebe7b69a",
   "metadata": {},
   "outputs": [
    {
     "name": "stdout",
     "output_type": "stream",
     "text": [
      "{'Extremely Low', 'Low Average', 'High Average', 'Average', 'Borderline', 'Superior'}\n"
     ]
    }
   ],
   "source": [
    "'''\n",
    "Intelligence\n",
    "'''\n",
    "print(set(df['Intelligence']))\n",
    "dict_Intelligence = {'Extremely Low': 0, 'Borderline': 1, 'Low Average' : 2, 'Average' : 3, 'High Average' : 4, 'Superior' : 5}\n",
    "df['Intelligence'] = df['Intelligence'].replace(dict_Intelligence)"
   ]
  },
  {
   "cell_type": "code",
   "execution_count": 262,
   "id": "813e16c9",
   "metadata": {},
   "outputs": [
    {
     "name": "stdout",
     "output_type": "stream",
     "text": [
      "{'Yes', 'No'}\n"
     ]
    }
   ],
   "source": [
    "'''\n",
    "EmploymentOrTraining\n",
    "'''\n",
    "print(set(df['EmploymentOrTraining']))\n",
    "dict_EmploymentOrTraining = {'No': 0, 'Yes': 1}\n",
    "df['EmploymentOrTraining'] = df['EmploymentOrTraining'].replace(dict_EmploymentOrTraining)"
   ]
  },
  {
   "cell_type": "code",
   "execution_count": 263,
   "id": "69189a3f",
   "metadata": {},
   "outputs": [
    {
     "name": "stdout",
     "output_type": "stream",
     "text": [
      "{'Yes', 'No'}\n"
     ]
    }
   ],
   "source": [
    "'''\n",
    "FinancialDifficulties\n",
    "'''\n",
    "print(set(df['FinancialDifficulties']))\n",
    "dict_FinancialDifficulties = {'No': 0, 'Yes': 1}\n",
    "df['FinancialDifficulties'] = df['FinancialDifficulties'].replace(dict_FinancialDifficulties)"
   ]
  },
  {
   "cell_type": "code",
   "execution_count": 264,
   "id": "a2f0a8d8",
   "metadata": {},
   "outputs": [
    {
     "name": "stdout",
     "output_type": "stream",
     "text": [
      "{'Low', 'High'}\n"
     ]
    }
   ],
   "source": [
    "'''\n",
    "DomesticStability\n",
    "'''\n",
    "print(set(df['DomesticStability']))\n",
    "dict_DomesticStability = {'Low': 0, 'High': 1}\n",
    "df['DomesticStability'] = df['DomesticStability'].replace(dict_DomesticStability)"
   ]
  },
  {
   "cell_type": "code",
   "execution_count": 265,
   "id": "f998c759",
   "metadata": {},
   "outputs": [
    {
     "name": "stdout",
     "output_type": "stream",
     "text": [
      "{'Yes', 'No'}\n"
     ]
    }
   ],
   "source": [
    "'''\n",
    "GangMember\n",
    "'''\n",
    "print(set(df['GangMember']))\n",
    "dict_GangMember = {'No': 0, 'Yes': 1}\n",
    "df['GangMember'] = df['GangMember'].replace(dict_GangMember)"
   ]
  },
  {
   "cell_type": "code",
   "execution_count": 266,
   "id": "768f7a67",
   "metadata": {},
   "outputs": [
    {
     "name": "stdout",
     "output_type": "stream",
     "text": [
      "{'Yes', 'Partly', 'No'}\n"
     ]
    }
   ],
   "source": [
    "'''\n",
    "ComplianceWithSupervision\n",
    "'''\n",
    "print(set(df['ComplianceWithSupervision']))\n",
    "dict_ComplianceWithSupervision = {'No': 0, 'Partly' : 1, 'Yes': 2}\n",
    "df['ComplianceWithSupervision'] = df['ComplianceWithSupervision'].replace(dict_ComplianceWithSupervision)"
   ]
  },
  {
   "cell_type": "code",
   "execution_count": 267,
   "id": "8e0b3e7e",
   "metadata": {},
   "outputs": [
    {
     "name": "stdout",
     "output_type": "stream",
     "text": [
      "{'Yes', 'Partly', 'No'}\n"
     ]
    }
   ],
   "source": [
    "'''\n",
    "NegativeAttitude\n",
    "'''\n",
    "print(set(df['NegativeAttitude']))\n",
    "dict_NegativeAttitude = {'No': 0, 'Partly' : 1, 'Yes': 2}\n",
    "df['NegativeAttitude'] = df['NegativeAttitude'].replace(dict_NegativeAttitude)"
   ]
  },
  {
   "cell_type": "code",
   "execution_count": 268,
   "id": "d3005e01",
   "metadata": {},
   "outputs": [
    {
     "name": "stdout",
     "output_type": "stream",
     "text": [
      "{'Yes', 'No'}\n"
     ]
    }
   ],
   "source": [
    "'''\n",
    "CriminalAttitude\n",
    "'''\n",
    "print(set(df['CriminalAttitude']))\n",
    "dict_CriminalAttitude = {'No': 0, 'Yes': 1}\n",
    "df['CriminalAttitude'] = df['CriminalAttitude'].replace(dict_CriminalAttitude)"
   ]
  },
  {
   "cell_type": "code",
   "execution_count": 269,
   "id": "1713d0a4",
   "metadata": {},
   "outputs": [
    {
     "name": "stdout",
     "output_type": "stream",
     "text": [
      "{'Partial', 'Yes', 'No'}\n"
     ]
    }
   ],
   "source": [
    "'''\n",
    "SymptomsOfMentalIllness\n",
    "'''\n",
    "print(set(df['SymptomsOfMentalIllness']))\n",
    "dict_SymptomsOfMentalIllness = {'No': 0, 'Partial' : 1, 'Yes': 2}\n",
    "df['SymptomsOfMentalIllness'] = df['SymptomsOfMentalIllness'].replace(dict_SymptomsOfMentalIllness)"
   ]
  },
  {
   "cell_type": "code",
   "execution_count": 270,
   "id": "a5e1c86f",
   "metadata": {},
   "outputs": [
    {
     "name": "stdout",
     "output_type": "stream",
     "text": [
      "{'6to8', '13-16', '<5', '9to12'}\n"
     ]
    }
   ],
   "source": [
    "'''\n",
    "PCLRfactor1\n",
    "'''\n",
    "print(set(df['PCLRfactor1']))\n",
    "dict_PCLRfactor1 = {\"<5\" : 0, \"6to8\" : 1, \"9to12\" : 2, '13-16' : 3}\n",
    "df['PCLRfactor1'] = df['PCLRfactor1'].replace(dict_PCLRfactor1)"
   ]
  },
  {
   "cell_type": "code",
   "execution_count": 271,
   "id": "c440bca4",
   "metadata": {},
   "outputs": [
    {
     "name": "stdout",
     "output_type": "stream",
     "text": [
      "{'Yes', 'No'}\n"
     ]
    }
   ],
   "source": [
    "'''\n",
    "RefuseFailToAttendTherapy\n",
    "'''\n",
    "print(set(df['RefuseFailToAttendTherapy']))\n",
    "dict_RefuseFailToAttendTherapy = {'No': 0, 'Yes': 1}\n",
    "df['RefuseFailToAttendTherapy'] = df['RefuseFailToAttendTherapy'].replace(dict_RefuseFailToAttendTherapy)\n"
   ]
  },
  {
   "cell_type": "code",
   "execution_count": 272,
   "id": "e06997d4",
   "metadata": {},
   "outputs": [
    {
     "name": "stdout",
     "output_type": "stream",
     "text": [
      "{'Yes', 'No'}\n"
     ]
    }
   ],
   "source": [
    "'''\n",
    "HazardousDrinkingAfterRelease\n",
    "'''\n",
    "print(set(df['HazardousDrinkingAfterRelease']))\n",
    "dict_HazardousDrinkingAfterRelease = {'No': 0, 'Yes': 1}\n",
    "df['HazardousDrinkingAfterRelease'] = df['HazardousDrinkingAfterRelease'].replace(dict_HazardousDrinkingAfterRelease)\n"
   ]
  },
  {
   "cell_type": "code",
   "execution_count": 273,
   "id": "d17f8dee",
   "metadata": {},
   "outputs": [
    {
     "name": "stdout",
     "output_type": "stream",
     "text": [
      "{'Yes', 'No'}\n"
     ]
    }
   ],
   "source": [
    "'''\n",
    "CannabisBeforePrisonSentence\n",
    "'''\n",
    "print(set(df['CannabisBeforePrisonSentence']))\n",
    "dict_CannabisBeforePrisonSentence = {'No': 0, 'Yes': 1}\n",
    "df['CannabisBeforePrisonSentence'] = df['CannabisBeforePrisonSentence'].replace(dict_CannabisBeforePrisonSentence)\n",
    "\n"
   ]
  },
  {
   "cell_type": "code",
   "execution_count": 274,
   "id": "912d14bc",
   "metadata": {},
   "outputs": [
    {
     "name": "stdout",
     "output_type": "stream",
     "text": [
      "{'Yes', 'No'}\n"
     ]
    }
   ],
   "source": [
    "'''\n",
    "CocaineBeforePrisonSentence\n",
    "'''\n",
    "print(set(df['CocaineBeforePrisonSentence']))\n",
    "dict_CocaineBeforePrisonSentence = {'No': 0, 'Yes': 1}\n",
    "df['CocaineBeforePrisonSentence'] = df['CocaineBeforePrisonSentence'].replace(dict_CocaineBeforePrisonSentence)\n",
    "\n"
   ]
  },
  {
   "cell_type": "code",
   "execution_count": 275,
   "id": "39328972",
   "metadata": {},
   "outputs": [
    {
     "name": "stdout",
     "output_type": "stream",
     "text": [
      "{'Yes', 'No'}\n"
     ]
    }
   ],
   "source": [
    "'''\n",
    "EcstasyBeforePrisonSentence\n",
    "'''\n",
    "print(set(df['EcstasyBeforePrisonSentence']))\n",
    "dict_EcstasyBeforePrisonSentence = {'No': 0, 'Yes': 1}\n",
    "df['EcstasyBeforePrisonSentence'] = df['EcstasyBeforePrisonSentence'].replace(dict_EcstasyBeforePrisonSentence)\n"
   ]
  },
  {
   "cell_type": "code",
   "execution_count": 276,
   "id": "842cf8bf",
   "metadata": {},
   "outputs": [
    {
     "name": "stdout",
     "output_type": "stream",
     "text": [
      "{'Yes', 'No'}\n"
     ]
    }
   ],
   "source": [
    "'''\n",
    "EcstasyDuringPrisonSentence\n",
    "'''\n",
    "print(set(df['EcstasyDuringPrisonSentence']))\n",
    "dict_EcstasyDuringPrisonSentence = {'No': 0, 'Yes': 1}\n",
    "df['EcstasyDuringPrisonSentence'] = df['EcstasyDuringPrisonSentence'].replace(dict_EcstasyDuringPrisonSentence)\n"
   ]
  },
  {
   "cell_type": "code",
   "execution_count": 277,
   "id": "282a2068",
   "metadata": {},
   "outputs": [
    {
     "name": "stdout",
     "output_type": "stream",
     "text": [
      "{'Yes', 'No'}\n"
     ]
    }
   ],
   "source": [
    "'''\n",
    "CannabisDuringPrisonSentence\n",
    "'''\n",
    "print(set(df['CannabisDuringPrisonSentence']))\n",
    "dict_CannabisDuringPrisonSentence = {'No': 0, 'Yes': 1}\n",
    "df['CannabisDuringPrisonSentence'] = df['CannabisDuringPrisonSentence'].replace(dict_CannabisDuringPrisonSentence)\n"
   ]
  },
  {
   "cell_type": "code",
   "execution_count": 278,
   "id": "ec4c879f",
   "metadata": {},
   "outputs": [
    {
     "name": "stdout",
     "output_type": "stream",
     "text": [
      "{'Yes', 'No'}\n"
     ]
    }
   ],
   "source": [
    "'''\n",
    "CocaineDuringPrisonSentence\n",
    "'''\n",
    "print(set(df['CocaineDuringPrisonSentence']))\n",
    "dict_CocaineDuringPrisonSentence = {'No': 0, 'Yes': 1}\n",
    "df['CocaineDuringPrisonSentence'] = df['CocaineDuringPrisonSentence'].replace(dict_CocaineDuringPrisonSentence)\n"
   ]
  },
  {
   "cell_type": "code",
   "execution_count": 279,
   "id": "4188bb8d",
   "metadata": {},
   "outputs": [
    {
     "name": "stdout",
     "output_type": "stream",
     "text": [
      "{'Yes', 'No'}\n"
     ]
    }
   ],
   "source": [
    "'''\n",
    "CannabisAfterRelease\n",
    "'''\n",
    "print(set(df['CannabisAfterRelease']))\n",
    "dict_CannabisAfterRelease = {'No': 0, 'Yes': 1}\n",
    "df['CannabisAfterRelease'] = df['CannabisAfterRelease'].replace(dict_CannabisAfterRelease)\n"
   ]
  },
  {
   "cell_type": "code",
   "execution_count": 280,
   "id": "e251c1fc",
   "metadata": {},
   "outputs": [
    {
     "name": "stdout",
     "output_type": "stream",
     "text": [
      "{'Yes', 'No'}\n"
     ]
    }
   ],
   "source": [
    "'''\n",
    "CocaineAfterRelease\n",
    "'''\n",
    "print(set(df['CocaineAfterRelease']))\n",
    "dict_CocaineAfterRelease = {'No': 0, 'Yes': 1}\n",
    "df['CocaineAfterRelease'] = df['CocaineAfterRelease'].replace(dict_CocaineAfterRelease)\n"
   ]
  },
  {
   "cell_type": "code",
   "execution_count": 281,
   "id": "370fb74f",
   "metadata": {},
   "outputs": [
    {
     "name": "stdout",
     "output_type": "stream",
     "text": [
      "{'Yes', 'No'}\n"
     ]
    }
   ],
   "source": [
    "'''\n",
    "EcstasyAfterRelease\n",
    "'''\n",
    "print(set(df['EcstasyAfterRelease']))\n",
    "dict_EcstasyAfterRelease = {'No': 0, 'Yes': 1}\n",
    "df['EcstasyAfterRelease'] = df['EcstasyAfterRelease'].replace(dict_EcstasyAfterRelease)"
   ]
  },
  {
   "cell_type": "code",
   "execution_count": 282,
   "id": "e1906edb",
   "metadata": {},
   "outputs": [
    {
     "name": "stdout",
     "output_type": "stream",
     "text": [
      "{0, 1}\n"
     ]
    }
   ],
   "source": [
    "'''\n",
    "EcstasyDependence\n",
    "'''\n",
    "print(set(df['EcstasyAfterRelease']))\n",
    "dict_EcstasyAfterRelease = {'No': 0, 'Yes': 1}\n",
    "df['EcstasyAfterRelease'] = df['EcstasyAfterRelease'].replace(dict_EcstasyAfterRelease)"
   ]
  },
  {
   "cell_type": "code",
   "execution_count": 283,
   "id": "fe5ce47c",
   "metadata": {},
   "outputs": [
    {
     "name": "stdout",
     "output_type": "stream",
     "text": [
      "{'Yes', 'No'}\n"
     ]
    }
   ],
   "source": [
    "'''\n",
    "AnyDrugDependence\n",
    "'''\n",
    "print(set(df['AnyDrugDependence']))\n",
    "dict_AnyDrugDependence = {'No': 0, 'Yes': 1}\n",
    "df['AnyDrugDependence'] = df['AnyDrugDependence'].replace(dict_AnyDrugDependence)"
   ]
  },
  {
   "cell_type": "code",
   "execution_count": 284,
   "id": "7306de26",
   "metadata": {},
   "outputs": [
    {
     "name": "stdout",
     "output_type": "stream",
     "text": [
      "{'Yes', 'No'}\n"
     ]
    }
   ],
   "source": [
    "'''\n",
    "CannabisDependence\n",
    "'''\n",
    "print(set(df['CannabisDependence']))\n",
    "dict_CannabisDependence = {'No': 0, 'Yes': 1}\n",
    "df['CannabisDependence'] = df['CannabisDependence'].replace(dict_CannabisDependence)"
   ]
  },
  {
   "cell_type": "code",
   "execution_count": 285,
   "id": "7fadb47e",
   "metadata": {},
   "outputs": [
    {
     "name": "stdout",
     "output_type": "stream",
     "text": [
      "{'Yes', 'No'}\n"
     ]
    }
   ],
   "source": [
    "'''\n",
    "CocaineDependence\n",
    "'''\n",
    "print(set(df['CocaineDependence']))\n",
    "dict_CocaineDependence = {'No': 0, 'Yes': 1}\n",
    "df['CocaineDependence'] = df['CocaineDependence'].replace(dict_CocaineDependence)"
   ]
  },
  {
   "cell_type": "code",
   "execution_count": 286,
   "id": "52bbd7a6",
   "metadata": {},
   "outputs": [
    {
     "name": "stdout",
     "output_type": "stream",
     "text": [
      "{'Yes', 'No'}\n"
     ]
    }
   ],
   "source": [
    "'''\n",
    "AlcoholDependence\n",
    "'''\n",
    "print(set(df['AlcoholDependence']))\n",
    "dict_AlcoholDependence = {'No': 0, 'Yes': 1}\n",
    "df['AlcoholDependence'] = df['AlcoholDependence'].replace(dict_AlcoholDependence)"
   ]
  },
  {
   "cell_type": "code",
   "execution_count": 287,
   "id": "420c8bf9",
   "metadata": {},
   "outputs": [
    {
     "name": "stdout",
     "output_type": "stream",
     "text": [
      "{'Yes', 'No'}\n"
     ]
    }
   ],
   "source": [
    "'''\n",
    "DrugTreatment\n",
    "'''\n",
    "print(set(df['DrugTreatment']))\n",
    "dict_DrugTreatment = {'No': 0, 'Yes': 1}\n",
    "df['DrugTreatment'] = df['DrugTreatment'].replace(dict_DrugTreatment)"
   ]
  },
  {
   "cell_type": "code",
   "execution_count": 288,
   "id": "6fa103c4",
   "metadata": {},
   "outputs": [
    {
     "name": "stdout",
     "output_type": "stream",
     "text": [
      "{'Yes', 'No'}\n"
     ]
    }
   ],
   "source": [
    "'''\n",
    "AlcoholTreatment\n",
    "'''\n",
    "print(set(df['AlcoholTreatment']))\n",
    "dict_AlcoholTreatment = {'No': 0, 'Yes': 1}\n",
    "df['AlcoholTreatment'] = df['AlcoholTreatment'].replace(dict_AlcoholTreatment)"
   ]
  },
  {
   "cell_type": "code",
   "execution_count": 289,
   "id": "e2a54710",
   "metadata": {},
   "outputs": [
    {
     "name": "stdout",
     "output_type": "stream",
     "text": [
      "{'Yes', 'No'}\n"
     ]
    }
   ],
   "source": [
    "'''\n",
    "AlcoholTreatmentGivenRFAT\n",
    "'''\n",
    "print(set(df['AlcoholTreatmentGivenRFAT']))\n",
    "dict_AlcoholTreatmentGivenRFAT = {'No': 0, 'Yes': 1}\n",
    "df['AlcoholTreatmentGivenRFAT'] = df['AlcoholTreatmentGivenRFAT'].replace(dict_AlcoholTreatmentGivenRFAT)"
   ]
  },
  {
   "cell_type": "code",
   "execution_count": 290,
   "id": "bdefd397",
   "metadata": {},
   "outputs": [
    {
     "name": "stdout",
     "output_type": "stream",
     "text": [
      "{'Yes', 'No'}\n"
     ]
    }
   ],
   "source": [
    "'''\n",
    "DrugTreatmentGivenRFAT\n",
    "'''\n",
    "print(set(df['DrugTreatmentGivenRFAT']))\n",
    "dict_DrugTreatmentGivenRFAT = {'No': 0, 'Yes': 1}\n",
    "df['DrugTreatmentGivenRFAT'] = df['DrugTreatmentGivenRFAT'].replace(dict_DrugTreatmentGivenRFAT)"
   ]
  },
  {
   "cell_type": "code",
   "execution_count": 291,
   "id": "a7cba80b",
   "metadata": {},
   "outputs": [
    {
     "name": "stdout",
     "output_type": "stream",
     "text": [
      "{'Yes', 'No'}\n"
     ]
    }
   ],
   "source": [
    "'''\n",
    "EcstasyPT\n",
    "'''\n",
    "print(set(df['EcstasyPT']))\n",
    "dict_EcstasyPT = {'No': 0, 'Yes': 1}\n",
    "df['EcstasyPT'] = df['EcstasyPT'].replace(dict_EcstasyPT)"
   ]
  },
  {
   "cell_type": "code",
   "execution_count": 292,
   "id": "0d9f3068",
   "metadata": {},
   "outputs": [
    {
     "name": "stdout",
     "output_type": "stream",
     "text": [
      "{'Yes', 'No'}\n"
     ]
    }
   ],
   "source": [
    "'''\n",
    "CannabisPT\n",
    "'''\n",
    "print(set(df['CannabisPT']))\n",
    "dict_CannabisPT = {'No': 0, 'Yes': 1}\n",
    "df['CannabisPT'] = df['CannabisPT'].replace(dict_CannabisPT)"
   ]
  },
  {
   "cell_type": "code",
   "execution_count": 293,
   "id": "64f33fad",
   "metadata": {},
   "outputs": [
    {
     "name": "stdout",
     "output_type": "stream",
     "text": [
      "{'Yes', 'No'}\n"
     ]
    }
   ],
   "source": [
    "'''\n",
    "CocainePT\n",
    "'''\n",
    "print(set(df['CocainePT']))\n",
    "dict_CocainePT = {'No': 0, 'Yes': 1}\n",
    "df['CocainePT'] = df['CocainePT'].replace(dict_CocainePT)"
   ]
  },
  {
   "cell_type": "code",
   "execution_count": 300,
   "id": "bac7dff5",
   "metadata": {},
   "outputs": [
    {
     "name": "stdout",
     "output_type": "stream",
     "text": [
      "{'None', 'Drugs', 'DrugsANDalcohol', 'Alcohol'}\n"
     ]
    }
   ],
   "source": [
    "'''\n",
    "SubstanceUse\n",
    "'''\n",
    "print(set(df['SubstanceUse']))\n",
    "dict_SubstanceUse = {'None': 0, 'Drugs': 1, 'Alcohol' : 2, 'DrugsANDalcohol' : 3}\n",
    "df['SubstanceUse'] = df['SubstanceUse'].replace(dict_SubstanceUse)"
   ]
  },
  {
   "cell_type": "code",
   "execution_count": 302,
   "id": "0f80789d",
   "metadata": {},
   "outputs": [
    {
     "name": "stdout",
     "output_type": "stream",
     "text": [
      "{'Low', 'High'}\n"
     ]
    }
   ],
   "source": [
    "'''\n",
    "SubstanceMisuseDL\n",
    "'''\n",
    "print(set(df['SubstanceMisuseDL']))\n",
    "dict_SubstanceMisuseDL = {'Low' : 0, 'High' : 1}\n",
    "df['SubstanceMisuseDL'] = df['SubstanceMisuseDL'].replace(dict_SubstanceMisuseDL)"
   ]
  },
  {
   "cell_type": "code",
   "execution_count": 304,
   "id": "c2174809",
   "metadata": {},
   "outputs": [
    {
     "name": "stdout",
     "output_type": "stream",
     "text": [
      "{0, 1}\n"
     ]
    }
   ],
   "source": [
    "'''\n",
    "Violence - already done\n",
    "'''\n",
    "print(set(df['Violence']))\n"
   ]
  },
  {
   "cell_type": "code",
   "execution_count": 296,
   "id": "ab789f59",
   "metadata": {},
   "outputs": [
    {
     "data": {
      "text/plain": [
       "'\\nViolentConvictions'"
      ]
     },
     "execution_count": 296,
     "metadata": {},
     "output_type": "execute_result"
    }
   ],
   "source": [
    "'''\n",
    "ViolentConvictions - already done\n",
    "'''"
   ]
  },
  {
   "cell_type": "code",
   "execution_count": 307,
   "id": "5b6d7e01",
   "metadata": {},
   "outputs": [
    {
     "name": "stdout",
     "output_type": "stream",
     "text": [
      "{'Yes', 'Partly', 'No'}\n"
     ]
    }
   ],
   "source": [
    "'''\n",
    "ResponsivenessToTreatment\n",
    "'''\n",
    "print(set(df['ResponsivenessToTreatment']))\n",
    "dict_ResponsivenessToTreatment = {'No' : 0, 'Partly' : 1 , 'Yes' : 2}\n",
    "df['ResponsivenessToTreatment'] = df['ResponsivenessToTreatment'].replace(dict_ResponsivenessToTreatment)"
   ]
  },
  {
   "cell_type": "code",
   "execution_count": 297,
   "id": "66ed8287",
   "metadata": {},
   "outputs": [
    {
     "data": {
      "text/plain": [
       "'\\nResponseToTreatGivenAlcDep'"
      ]
     },
     "execution_count": 297,
     "metadata": {},
     "output_type": "execute_result"
    }
   ],
   "source": [
    "'''\n",
    "ResponseToTreatGivenAlcDep\n",
    "'''"
   ]
  },
  {
   "cell_type": "code",
   "execution_count": null,
   "id": "952fff02",
   "metadata": {},
   "outputs": [],
   "source": [
    "'''\n",
    "ResponseToTreatGivenDrugDep\n",
    "'''"
   ]
  },
  {
   "cell_type": "code",
   "execution_count": 298,
   "id": "cc7fa174",
   "metadata": {},
   "outputs": [
    {
     "data": {
      "text/plain": [
       "'\\nAnger'"
      ]
     },
     "execution_count": 298,
     "metadata": {},
     "output_type": "execute_result"
    }
   ],
   "source": [
    "'''\n",
    "Anger\n",
    "'''"
   ]
  },
  {
   "cell_type": "code",
   "execution_count": null,
   "id": "14b41117",
   "metadata": {},
   "outputs": [],
   "source": [
    "'''\n",
    "AngerPT\n",
    "'''"
   ]
  },
  {
   "cell_type": "code",
   "execution_count": 299,
   "id": "ab9bd861",
   "metadata": {},
   "outputs": [
    {
     "data": {
      "text/plain": [
       "'\\nAngerManagementGivenRFAT'"
      ]
     },
     "execution_count": 299,
     "metadata": {},
     "output_type": "execute_result"
    }
   ],
   "source": [
    "'''\n",
    "AngerManagementGivenRFAT\n",
    "'''"
   ]
  },
  {
   "cell_type": "code",
   "execution_count": null,
   "id": "42d6727f",
   "metadata": {},
   "outputs": [],
   "source": [
    "'''\n",
    "HazardousDrinkingPT\n",
    "'''"
   ]
  },
  {
   "cell_type": "code",
   "execution_count": null,
   "id": "785166d7",
   "metadata": {},
   "outputs": [],
   "source": [
    "'''\n",
    "AngerManagement\n",
    "'''"
   ]
  },
  {
   "cell_type": "code",
   "execution_count": null,
   "id": "4c9a99e3",
   "metadata": {},
   "outputs": [],
   "source": [
    "'''\n",
    "AttitudeDL\n",
    "'''"
   ]
  },
  {
   "cell_type": "code",
   "execution_count": null,
   "id": "f5a593fd",
   "metadata": {},
   "outputs": [],
   "source": [
    "'''\n",
    "AggressionDL\n",
    "'''"
   ]
  },
  {
   "cell_type": "code",
   "execution_count": null,
   "id": "b1561352",
   "metadata": {},
   "outputs": [],
   "source": [
    "'''\n",
    "LivingCircumstances\n",
    "'''"
   ]
  },
  {
   "cell_type": "code",
   "execution_count": null,
   "id": "5e34d838",
   "metadata": {},
   "outputs": [],
   "source": [
    "'''\n",
    "SocialProtectiveObs\n",
    "'''"
   ]
  },
  {
   "cell_type": "code",
   "execution_count": null,
   "id": "72cbbaad",
   "metadata": {},
   "outputs": [],
   "source": [
    "'''\n",
    "SocialWithdraw\n",
    "'''"
   ]
  },
  {
   "cell_type": "code",
   "execution_count": null,
   "id": "8d23f273",
   "metadata": {},
   "outputs": [],
   "source": [
    "'''\n",
    "ViolentConvictionsRate\n",
    "'''"
   ]
  },
  {
   "cell_type": "code",
   "execution_count": null,
   "id": "6428252e",
   "metadata": {},
   "outputs": [],
   "source": [
    "'''\n",
    "ViolentConvRateGivenProt\n",
    "'''"
   ]
  },
  {
   "cell_type": "code",
   "execution_count": null,
   "id": "8dc62f48",
   "metadata": {},
   "outputs": [],
   "source": []
  },
  {
   "cell_type": "code",
   "execution_count": null,
   "id": "d44db9f2",
   "metadata": {},
   "outputs": [],
   "source": []
  },
  {
   "cell_type": "code",
   "execution_count": null,
   "id": "9d339d10",
   "metadata": {},
   "outputs": [],
   "source": []
  },
  {
   "cell_type": "code",
   "execution_count": null,
   "id": "24d8836c",
   "metadata": {},
   "outputs": [],
   "source": []
  },
  {
   "cell_type": "code",
   "execution_count": null,
   "id": "35e40b1e",
   "metadata": {},
   "outputs": [],
   "source": []
  },
  {
   "cell_type": "code",
   "execution_count": null,
   "id": "8b2214e2",
   "metadata": {},
   "outputs": [],
   "source": []
  },
  {
   "cell_type": "code",
   "execution_count": null,
   "id": "3af4d308",
   "metadata": {},
   "outputs": [],
   "source": []
  },
  {
   "cell_type": "code",
   "execution_count": null,
   "id": "20378931",
   "metadata": {},
   "outputs": [],
   "source": []
  },
  {
   "cell_type": "code",
   "execution_count": null,
   "id": "83b8896a",
   "metadata": {},
   "outputs": [],
   "source": []
  },
  {
   "cell_type": "code",
   "execution_count": null,
   "id": "215318fd",
   "metadata": {},
   "outputs": [],
   "source": []
  },
  {
   "cell_type": "code",
   "execution_count": null,
   "id": "e4102641",
   "metadata": {},
   "outputs": [],
   "source": []
  },
  {
   "cell_type": "code",
   "execution_count": null,
   "id": "97326dc9",
   "metadata": {},
   "outputs": [],
   "source": []
  },
  {
   "cell_type": "code",
   "execution_count": null,
   "id": "8ebc2cce",
   "metadata": {},
   "outputs": [],
   "source": []
  },
  {
   "cell_type": "code",
   "execution_count": null,
   "id": "4009720f",
   "metadata": {},
   "outputs": [],
   "source": []
  },
  {
   "cell_type": "code",
   "execution_count": null,
   "id": "5dda952b",
   "metadata": {},
   "outputs": [],
   "source": []
  },
  {
   "cell_type": "code",
   "execution_count": null,
   "id": "6e4921fb",
   "metadata": {},
   "outputs": [],
   "source": []
  },
  {
   "cell_type": "code",
   "execution_count": null,
   "id": "06caf38a",
   "metadata": {},
   "outputs": [],
   "source": []
  },
  {
   "cell_type": "code",
   "execution_count": null,
   "id": "8f71707d",
   "metadata": {},
   "outputs": [],
   "source": []
  },
  {
   "cell_type": "code",
   "execution_count": null,
   "id": "b966e13e",
   "metadata": {},
   "outputs": [],
   "source": []
  },
  {
   "cell_type": "code",
   "execution_count": null,
   "id": "071404bf",
   "metadata": {},
   "outputs": [],
   "source": []
  },
  {
   "cell_type": "code",
   "execution_count": null,
   "id": "78bd9819",
   "metadata": {},
   "outputs": [],
   "source": []
  },
  {
   "cell_type": "code",
   "execution_count": null,
   "id": "2b7095d5",
   "metadata": {},
   "outputs": [],
   "source": []
  },
  {
   "cell_type": "code",
   "execution_count": null,
   "id": "b8ae67cc",
   "metadata": {},
   "outputs": [],
   "source": []
  },
  {
   "cell_type": "code",
   "execution_count": null,
   "id": "0441416b",
   "metadata": {},
   "outputs": [],
   "source": []
  },
  {
   "cell_type": "code",
   "execution_count": null,
   "id": "2f21ff84",
   "metadata": {},
   "outputs": [],
   "source": []
  },
  {
   "cell_type": "code",
   "execution_count": null,
   "id": "5ec00b71",
   "metadata": {},
   "outputs": [],
   "source": []
  },
  {
   "cell_type": "code",
   "execution_count": null,
   "id": "c4514d4c",
   "metadata": {},
   "outputs": [],
   "source": []
  },
  {
   "cell_type": "code",
   "execution_count": null,
   "id": "3a631569",
   "metadata": {},
   "outputs": [],
   "source": []
  },
  {
   "cell_type": "code",
   "execution_count": null,
   "id": "f2be82aa",
   "metadata": {},
   "outputs": [],
   "source": []
  },
  {
   "cell_type": "code",
   "execution_count": 155,
   "id": "03317e0c",
   "metadata": {},
   "outputs": [],
   "source": [
    "df.to_csv('formed_test_1.csv', index=False)"
   ]
  },
  {
   "cell_type": "code",
   "execution_count": 90,
   "id": "05ff6042",
   "metadata": {},
   "outputs": [
    {
     "name": "stdout",
     "output_type": "stream",
     "text": [
      "PCLRfacet3 {0, 1, 2, 3, 4} 5\n",
      "AbilityToCope {'Low', 'High'} 2\n",
      "Stress {'Yes', 'No'} 2\n",
      "ProblematicLifeEvents {'Yes', 'No'} 2\n",
      "Victimisation {'Yes', 'No'} 2\n",
      "ViolentThoughts {'Yes', 'No'} 2\n",
      "Impulsivity {'Yes', 'Partly', 'No'} 3\n",
      "BPD {'Yes', 'No'} 2\n",
      "AbuseNeglectAsChild {'Yes', 'No'} 2\n",
      "PCLRfactor2 {0, 1, 2, 3} 4\n",
      "ASPD {'Yes', 'No'} 2\n",
      "CriminalNetwork {'Yes', 'No'} 2\n",
      "prioracq {0, 1, 2} 3\n",
      "Age {0, 1, 2, 3, 4, 5, 6, 7, 8, 9} 10\n",
      "Gender {'Male', 'Female'} 2\n",
      "PriorViolentConvictions {0, 1, 2, 3} 4\n",
      "pclrscore {0, 1, 2, 3} 4\n",
      "TimeAtRisk {0, 1, 2, 3} 4\n",
      "CriminalFamilyBackground {'Yes', 'No'} 2\n",
      "Education {0, 1, 2, 3} 4\n",
      "Intelligence {'Extremely Low', 'Low Average', 'High Average', 'Average', 'Borderline', 'Superior'} 6\n",
      "EmploymentOrTraining {'Yes', 'No'} 2\n",
      "FinancialDifficulties {'Yes', 'No'} 2\n",
      "DomesticStability {'Low', 'High'} 2\n",
      "GangMember {'Yes', 'No'} 2\n",
      "ComplianceWithSupervision {'Yes', 'Partly', 'No'} 3\n",
      "NegativeAttitude {'Yes', 'Partly', 'No'} 3\n",
      "CriminalAttitude {'Yes', 'No'} 2\n",
      "SymptomsOfMentalIllness {'Partial', 'Yes', 'No'} 3\n",
      "PCLRfactor1 {0, 1, 2, 3} 4\n",
      "RefuseFailToAttendTherapy {'Yes', 'No'} 2\n",
      "HazardousDrinkingAfterRelease {'Yes', 'No'} 2\n",
      "CannabisBeforePrisonSentence {'Yes', 'No'} 2\n",
      "CocaineBeforePrisonSentence {'Yes', 'No'} 2\n",
      "EcstasyBeforePrisonSentence {'Yes', 'No'} 2\n",
      "EcstasyDuringPrisonSentence {'Yes', 'No'} 2\n",
      "CannabisDuringPrisonSentence {'Yes', 'No'} 2\n",
      "CocaineDuringPrisonSentence {'Yes', 'No'} 2\n",
      "CannabisAfterRelease {'Yes', 'No'} 2\n",
      "CocaineAfterRelease {'Yes', 'No'} 2\n",
      "EcstasyAfterRelease {'Yes', 'No'} 2\n",
      "EcstasyDependence {'Yes', 'No'} 2\n",
      "AnyDrugDependence {'Yes', 'No'} 2\n",
      "CannabisDependence {'Yes', 'No'} 2\n",
      "CocaineDependence {'Yes', 'No'} 2\n",
      "AlcoholDependence {'Yes', 'No'} 2\n",
      "DrugTreatment {'Yes', 'No'} 2\n",
      "AlcoholTreatment {'Yes', 'No'} 2\n",
      "AlcoholTreatmentGivenRFAT {'Yes', 'No'} 2\n",
      "DrugTreatmentGivenRFAT {'Yes', 'No'} 2\n",
      "EcstasyPT {'Yes', 'No'} 2\n",
      "CannabisPT {'Yes', 'No'} 2\n",
      "CocainePT {'Yes', 'No'} 2\n",
      "SubstanceUse {'None', 'Drugs', 'DrugsANDalcohol', 'Alcohol'} 4\n",
      "SubstanceMisuseDL {'Low', 'High'} 2\n",
      "Violence {0, 1} 2\n",
      "ViolentConvictions {0, 1, 2, 3, 4, 5} 6\n",
      "ResponsivenessToTreatment {'Yes', 'Partly', 'No'} 3\n",
      "ResponseToTreatGivenAlcDep {'Non-responsive', 'Responsive', 'Partial-responsive'} 3\n",
      "ResponseToTreatGivenDrugDep {'Non-responsive', 'Responsive', 'Partial-responsive'} 3\n",
      "Anger {'Yes', 'No'} 2\n",
      "AngerPT {'Yes', 'No'} 2\n",
      "AngerManagementGivenRFAT {'Yes', 'No'} 2\n",
      "HazardousDrinkingPT {'Yes', 'No'} 2\n",
      "AngerManagement {'Yes', 'No'} 2\n",
      "AttitudeDL {'Low', 'High'} 2\n",
      "AggressionDL {'Low', 'High'} 2\n",
      "LivingCircumstances {'Bail Hostel/Shelter', 'Living with partner', 'Homeless', 'Other', 'Living alone', 'Living with family/friends'} 6\n",
      "SocialProtectiveObs {'None', 'BH', 'SW', 'Both'} 4\n",
      "SocialWithdraw {'Yes', 'No'} 2\n",
      "ViolentConvictionsRate {'VeryHigh', 'Low', 'High', 'VeryLow'} 4\n",
      "ViolentConvRateGivenProt {'VeryHigh', 'Low', 'High', 'VeryLow'} 4\n",
      "Depression {'Yes', 'No'} 2\n",
      "DepressionPT {'Yes', 'No'} 2\n",
      "Anxiety {'Yes', 'No'} 2\n",
      "AnxietyPT {'Yes', 'No'} 2\n",
      "ThoughtInsertion {'Yes', 'No'} 2\n",
      "ThoughtInsertionPT {'Yes', 'No'} 2\n",
      "Hallucinations {'Yes', 'No'} 2\n",
      "HallucinationsPT {'Yes', 'No'} 2\n",
      "StrangeExperiences {'Yes', 'No'} 2\n",
      "StrangeExperiencesPT {'Yes', 'No'} 2\n",
      "ParanoidDelusions {'Yes', 'No'} 2\n",
      "ParanoidDelusionsPT {'Yes', 'No'} 2\n",
      "PsychiatricTreatment {'Yes', 'No'} 2\n",
      "PsychiatricTreatmentGivenRFAT {'Yes', 'No'} 2\n",
      "MentalIllnessSymptomCount {'None', 'MentalNPD', 'ParanoidDelusions'} 3\n",
      "MentalIllnessDL {'Low', 'High'} 2\n"
     ]
    }
   ],
   "source": [
    "for i in list(df):\n",
    "    print(i , set(df[i]), len(set(df[i])))"
   ]
  },
  {
   "cell_type": "code",
   "execution_count": null,
   "id": "555ca328",
   "metadata": {},
   "outputs": [],
   "source": []
  }
 ],
 "metadata": {
  "kernelspec": {
   "display_name": "Python 3 (ipykernel)",
   "language": "python",
   "name": "python3"
  },
  "language_info": {
   "codemirror_mode": {
    "name": "ipython",
    "version": 3
   },
   "file_extension": ".py",
   "mimetype": "text/x-python",
   "name": "python",
   "nbconvert_exporter": "python",
   "pygments_lexer": "ipython3",
   "version": "3.8.8"
  }
 },
 "nbformat": 4,
 "nbformat_minor": 5
}
